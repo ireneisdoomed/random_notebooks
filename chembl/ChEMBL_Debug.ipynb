{
 "cells": [
  {
   "cell_type": "code",
   "execution_count": 1,
   "id": "cf8c6cb0-36ed-4daa-8f6e-6edac480b5d0",
   "metadata": {},
   "outputs": [],
   "source": [
    "import pandas as pd"
   ]
  },
  {
   "cell_type": "code",
   "execution_count": 5,
   "id": "b3e251da-91ff-40de-9bb5-8a042dac51f2",
   "metadata": {},
   "outputs": [],
   "source": [
    "chembl_raw_old = 'gs://otar008-chembl/cttv008-20-01-2022.json.gz'\n",
    "chembl_raw_new = 'gs://otar008-chembl/cttv008-08-04-2022.json.gz'\n",
    "\n",
    "chembl_evd_old = 'gs://otar000-evidence_input/ChEMBL/json/chembl-2022-01-27.json.gz'\n",
    "chembl_evd_new = 'gs://otar000-evidence_input/ChEMBL/json/chembl-2022-04-11.json.gz'\n",
    "\n",
    "chembl_raw_old_df = pd.read_json(chembl_raw_old, lines=True)\n",
    "chembl_raw_new_df = pd.read_json(chembl_raw_new, lines=True)\n",
    "chembl_evd_old_df = pd.read_json(chembl_evd_old, lines=True)\n",
    "chembl_evd_new_df = pd.read_json(chembl_evd_new, lines=True)"
   ]
  },
  {
   "cell_type": "code",
   "execution_count": 6,
   "id": "ae6d5afd-f88c-45e4-b78f-b525355ca062",
   "metadata": {},
   "outputs": [
    {
     "name": "stdout",
     "output_type": "stream",
     "text": [
      "ChEMBL Submissions: \n",
      "\n",
      "22.02: 632297\n",
      "22.04: 669259\n",
      "ChEMBL Evidence pre ETL: \n",
      "\n",
      "22.02: 632297\n",
      "22.04: 632297\n"
     ]
    }
   ],
   "source": [
    "print('ChEMBL Submissions: \\n')\n",
    "print(f'22.02: {chembl_raw_old_df.shape[0]}') \n",
    "print(f'22.04: {chembl_raw_new_df.shape[0]}') \n",
    "\n",
    "print('ChEMBL Evidence pre ETL: \\n')\n",
    "print(f'22.02: {chembl_evd_old_df.shape[0]}') \n",
    "print(f'22.04: {chembl_evd_new_df.shape[0]}')"
   ]
  },
  {
   "cell_type": "code",
   "execution_count": 15,
   "id": "4cf69332-aecc-4b19-a222-5d78f51d8ab3",
   "metadata": {},
   "outputs": [
    {
     "data": {
      "text/plain": [
       "532933"
      ]
     },
     "execution_count": 15,
     "metadata": {},
     "output_type": "execute_result"
    }
   ],
   "source": [
    "# Are 22.04 and the 22.02 evidence the same? Yes\n",
    "\n",
    "pd.concat([chembl_evd_old_df, chembl_evd_new_df]).drop(['urls', 'studyStopReasonCategories'], axis=1).drop_duplicates().shape[0]\n"
   ]
  },
  {
   "cell_type": "code",
   "execution_count": 16,
   "id": "70c61773-3f60-4a8c-823e-8bbe39ceac84",
   "metadata": {},
   "outputs": [
    {
     "data": {
      "text/plain": [
       "669259"
      ]
     },
     "execution_count": 16,
     "metadata": {},
     "output_type": "execute_result"
    }
   ],
   "source": [
    "# New Evidence generation:\n",
    "\n",
    "chembl_evd_new_fix = 'gs://otar000-evidence_input/ChEMBL/json/chembl-2022-04-26.json.gz'\n",
    "\n",
    "chembl_evd_new_fix_df = pd.read_json(chembl_evd_new_fix, lines=True)\n",
    "\n",
    "chembl_evd_new_fix_df.shape[0]"
   ]
  },
  {
   "cell_type": "code",
   "execution_count": null,
   "id": "f3134a18-b076-4787-9215-6309c25c2666",
   "metadata": {},
   "outputs": [],
   "source": [
    "# Fixed"
   ]
  },
  {
   "cell_type": "code",
   "execution_count": 17,
   "id": "fa024e8a-e546-4ce0-9595-1481a6fd5206",
   "metadata": {},
   "outputs": [
    {
     "data": {
      "text/plain": [
       "clinicalPhase                                                                3\n",
       "clinicalStatus                                                       Completed\n",
       "datasourceId                                                            chembl\n",
       "datatypeId                                                          known_drug\n",
       "diseaseFromSource                                                     Diabetes\n",
       "diseaseFromSourceMappedId                                          EFO_0000400\n",
       "drugId                                                              CHEMBL1431\n",
       "studyStartDate                                                      2006-05-01\n",
       "targetFromSource                                                 CHEMBL2363065\n",
       "targetFromSourceId                                                      O14561\n",
       "urls                         [{'niceName': 'ClinicalTrials', 'url': 'https:...\n",
       "studyStopReason                                                            NaN\n",
       "studyStopReasonCategories                                                  NaN\n",
       "Name: 0, dtype: object"
      ]
     },
     "execution_count": 17,
     "metadata": {},
     "output_type": "execute_result"
    }
   ],
   "source": [
    "chembl_evd_new_fix_df.iloc[0]"
   ]
  },
  {
   "cell_type": "code",
   "execution_count": 19,
   "id": "d2c7d793-c886-4439-9dae-e15dbe8f654d",
   "metadata": {},
   "outputs": [
    {
     "name": "stdout",
     "output_type": "stream",
     "text": [
      "22.02 Evd with a stop classification 52100\n",
      "22.04 Evd with a stop classification 64004\n"
     ]
    }
   ],
   "source": [
    "# Stop reason classification:\n",
    "\n",
    "print(f\"22.02 Evd with a stop classification {chembl_evd_old_df[chembl_evd_old_df.studyStopReasonCategories.notna()].shape[0]}\")\n",
    "print(f\"22.04 Evd with a stop classification {chembl_evd_new_fix_df[chembl_evd_new_fix_df.studyStopReasonCategories.notna()].shape[0]}\")\n",
    "\n",
    "\n",
    "      "
   ]
  },
  {
   "cell_type": "code",
   "execution_count": 24,
   "id": "5e0d9202-4ac4-423d-8988-10cde25ca408",
   "metadata": {},
   "outputs": [
    {
     "name": "stdout",
     "output_type": "stream",
     "text": [
      "22.02 Reasons to stop classes: \n",
      " Insufficient enrollment       24592\n",
      "Business or administrative    13797\n",
      "Negative                       5512\n",
      "Invalid reason                 4123\n",
      "Study design                   3299\n",
      "Logistics or resources         3203\n",
      "Safety or side effects         2939\n",
      "No context                     2351\n",
      "Study staff moved              2057\n",
      "Another study                  1897\n",
      "Interim analysis               1303\n",
      "Regulatory                      879\n",
      "COVID-19                        681\n",
      "Success                         451\n",
      "Met endpoint                    206\n",
      "Ethical reason                  142\n",
      "Insufficient data                14\n",
      "Name: studyStopReasonCategories, dtype: int64\n",
      "\n",
      "22.04 Reasons to stop classes: \n",
      " Insufficient enrollment       27168\n",
      "Business or administrative    16213\n",
      "Negative                       8710\n",
      "No context                     5116\n",
      "Study design                   5033\n",
      "Invalid reason                 4980\n",
      "Logistics or resources         4094\n",
      "Interim analysis               3845\n",
      "Safety or side effects         3511\n",
      "Regulatory                     3441\n",
      "Another study                  3424\n",
      "Study staff moved              2321\n",
      "COVID-19                       1175\n",
      "Success                         777\n",
      "Met endpoint                    437\n",
      "Ethical reason                  179\n",
      "Insufficient data                16\n",
      "Name: studyStopReasonCategories, dtype: int64\n"
     ]
    }
   ],
   "source": [
    "# Breakdown of classes:\n",
    "\n",
    "print(f\"22.02 Reasons to stop classes: \\n {chembl_evd_old_df.studyStopReasonCategories.explode().value_counts()}\\n\")\n",
    "print(f\"22.04 Reasons to stop classes: \\n {chembl_evd_new_fix_df.studyStopReasonCategories.explode().value_counts()}\")"
   ]
  },
  {
   "cell_type": "code",
   "execution_count": null,
   "id": "b141f60a-1bfb-4c2a-ae58-b732528ec6b2",
   "metadata": {},
   "outputs": [],
   "source": []
  }
 ],
 "metadata": {
  "environment": {
   "kernel": "python3",
   "name": "common-cpu.m91",
   "type": "gcloud",
   "uri": "gcr.io/deeplearning-platform-release/base-cpu:m91"
  },
  "kernelspec": {
   "display_name": "Python 3",
   "language": "python",
   "name": "python3"
  },
  "language_info": {
   "codemirror_mode": {
    "name": "ipython",
    "version": 3
   },
   "file_extension": ".py",
   "mimetype": "text/x-python",
   "name": "python",
   "nbconvert_exporter": "python",
   "pygments_lexer": "ipython3",
   "version": "3.7.12"
  }
 },
 "nbformat": 4,
 "nbformat_minor": 5
}
