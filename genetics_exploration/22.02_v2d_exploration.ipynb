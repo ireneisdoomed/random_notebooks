{
 "cells": [
  {
   "cell_type": "code",
   "execution_count": 1,
   "metadata": {},
   "outputs": [],
   "source": [
    "from pyspark.sql import SparkSession\n",
    "import pyspark.sql.functions as F\n",
    "from pyspark.sql.types import *\n",
    "\n",
    "spark = SparkSession.builder \\\n",
    "        .master('local[*]') \\\n",
    "        .config(\"spark.driver.memory\", \"15g\") \\\n",
    "        .appName('spark') \\\n",
    "        .getOrCreate()"
   ]
  },
  {
   "cell_type": "markdown",
   "metadata": {},
   "source": [
    "# Comparison between the 21.11/22.02 V2D data"
   ]
  },
  {
   "cell_type": "code",
   "execution_count": 58,
   "metadata": {},
   "outputs": [],
   "source": [
    "# Read input files\n",
    "\n",
    "study_nov = spark.read.json('/Users/irene/Documents/dev/datasets/genetics/21.10/study-index') # from gs://genetics-portal-dev-data/21.10/outputs/lut/study-index\n",
    "study_feb = spark.read.parquet('/Users/irene/Documents/dev/datasets/genetics/22.02/studies.parquet') # from gs://genetics-portal-dev-staging/v2d/220113/studies.parquet\n",
    "\n",
    "toploci_nov = spark.read.parquet('/Users/irene/Documents/dev/datasets/genetics/21.10/toploci.parquet') # from gs://genetics-portal-dev-data/21.10/inputs/v2d/toploci.parquet\n",
    "toploci_feb = spark.read.parquet('/Users/irene/Documents/dev/datasets/genetics/22.02/toploci.parquet') # from gs://genetics-portal-dev-staging/v2d/220113/toploci.parquet\n",
    "\n",
    "l2g = spark.read.parquet('/Users/irene/Documents/dev/datasets/genetics/21.10/l2g') # common / from gs://genetics-portal-dev-data/21.10/outputs/l2g\n",
    "vep_consequences = spark.read.csv('/Users/irene/Documents/dev/datasets/genetics/21.10/vep_consequences.tsv', sep='\\t', header=True) # common / from gs://genetics-portal-dev-data/21.10/inputs/lut/vep_consequences.tsv"
   ]
  },
  {
   "cell_type": "markdown",
   "metadata": {},
   "source": [
    "## 1. Study table\n",
    "\n",
    "-  ✅ GWASCat, and only GWASCat, have more studies (14102 increase)\n",
    "-  ✅ 136 studies have been lost. After seeing ~10 examples, I reckon this is coming from source. They are no longer at GWASCat.\n",
    "- **QUESTION**. What does it mean when the trait mentions `[conditional]`? For example, for [GCST90016674](https://www.ebi.ac.uk/gwas/studies/GCST90016674) Is it an underlying condition?\n",
    "\n",
    "**High-level metrics**\n",
    "\n",
    "TOTAL Studies Nov: 36394\n",
    "\n",
    "TOTAL Studies Feb: 50497\n",
    "\n",
    "\n",
    "FINNGEN Studies Nov: 2924\n",
    "\n",
    "FINNGEN Studies Feb: 2925\n",
    "\n",
    "\n",
    "GWASCAT Studies Nov: 30048\n",
    "\n",
    "GWASCAT Studies Feb:* 44150\n",
    "\n",
    "\n",
    "UKBIOBANK Studies Nov: 3422\n",
    "\n",
    "UKBIOBANK Studies Feb: 3422\n",
    "\n",
    " *Finngen has an extra study (FINNGEN_R5_I9_HEARTFAIL_AND_CHD) that was missing because the mapping was not previously available."
   ]
  },
  {
   "cell_type": "code",
   "execution_count": 32,
   "metadata": {},
   "outputs": [
    {
     "name": "stdout",
     "output_type": "stream",
     "text": [
      "TOTAL Studies Nov: 36394\n",
      "TOTAL Studies Feb: 50497\n",
      "\n",
      "\n",
      "FINNGEN Studies Nov: 2924\n",
      "FINNGEN Studies Feb: 2925\n",
      "\n",
      "\n",
      "GWASCAT Studies Nov: 30048\n",
      "GWASCAT Studies Feb:* 44150\n",
      "\n",
      "\n",
      "UKBIOBANK Studies Nov: 3422\n",
      "UKBIOBANK Studies Feb: 3422\n",
      "\n",
      " *Finngen has an extra study (FINNGEN_R5_I9_HEARTFAIL_AND_CHD) that was missing because the mapping was not previously available.\n"
     ]
    }
   ],
   "source": [
    "print('TOTAL Studies Nov:', study_nov.select('study_id').distinct().count())\n",
    "print('TOTAL Studies Feb:', study_feb.select('study_id').distinct().count())\n",
    "print('\\n')\n",
    "print('FINNGEN Studies Nov:', study_nov.filter(F.col('study_id').startswith('FINN')).select('study_id').distinct().count())\n",
    "print('FINNGEN Studies Feb:', study_feb.filter(F.col('study_id').startswith('FINN')).select('study_id').distinct().count())\n",
    "print('\\n')\n",
    "print('GWASCAT Studies Nov:', study_nov.filter(F.col('study_id').startswith('GCST')).select('study_id').distinct().count())\n",
    "print('GWASCAT Studies Feb:*', study_feb.filter(F.col('study_id').startswith('GCST')).select('study_id').distinct().count())\n",
    "print('\\n')\n",
    "print('UKBIOBANK Studies Nov:', study_nov.filter((F.col('study_id').startswith('NEALE')) | (F.col('study_id').startswith('SAIGE'))).select('study_id').distinct().count())\n",
    "print('UKBIOBANK Studies Feb:', study_feb.filter((F.col('study_id').startswith('NEALE')) | (F.col('study_id').startswith('SAIGE'))).select('study_id').distinct().count())\n",
    "print('\\n *Finngen has an extra study (FINNGEN_R5_I9_HEARTFAIL_AND_CHD) that was missing because the mapping was not previously available.')\n",
    "if not (\n",
    "    study_feb.filter(F.col('study_id').startswith('FINN')).select('study_id').distinct().count() +\n",
    "    study_feb.filter(F.col('study_id').startswith('GCST')).select('study_id').distinct().count() +\n",
    "    study_feb.filter((F.col('study_id').startswith('NEALE')) | (F.col('study_id').startswith('SAIGE'))).select('study_id').distinct().count()\n",
    "    == study_feb.select('study_id').distinct().count()):\n",
    "    raise AssertionError (\"Check study IDs. There's some mismatch.\")\n",
    "\n"
   ]
  },
  {
   "cell_type": "code",
   "execution_count": 47,
   "metadata": {},
   "outputs": [
    {
     "data": {
      "text/plain": [
       "[Row(study_id='GCST90007218'),\n",
       " Row(study_id='GCST90007301'),\n",
       " Row(study_id='GCST90007229'),\n",
       " Row(study_id='GCST90007267'),\n",
       " Row(study_id='GCST90007273'),\n",
       " Row(study_id='GCST90007299'),\n",
       " Row(study_id='GCST90007248'),\n",
       " Row(study_id='GCST90007296'),\n",
       " Row(study_id='GCST90007238'),\n",
       " Row(study_id='GCST90007259'),\n",
       " Row(study_id='GCST90007294'),\n",
       " Row(study_id='GCST90007295'),\n",
       " Row(study_id='GCST90007205'),\n",
       " Row(study_id='GCST90007252'),\n",
       " Row(study_id='GCST90007183'),\n",
       " Row(study_id='GCST90007211'),\n",
       " Row(study_id='GCST90007224'),\n",
       " Row(study_id='GCST90007226'),\n",
       " Row(study_id='GCST90007241'),\n",
       " Row(study_id='GCST90007189')]"
      ]
     },
     "execution_count": 47,
     "metadata": {},
     "output_type": "execute_result"
    }
   ],
   "source": [
    "# Are we missing any study? Yes, 136. Most likely not problematic.\n",
    "\n",
    "study_nov.select('study_id').distinct().join(study_feb.select('study_id').distinct(), on='study_id', how='left_anti').limit(20).collect()"
   ]
  },
  {
   "cell_type": "markdown",
   "metadata": {},
   "source": [
    "## 2. Top loci table\n",
    "\n",
    "- ✅  Number of lead variants have increased with the studies increase (12914) \n",
    "\n",
    "- 🚨  229 lead variants have been lost. **TODO**: Check these cases, as they seem to be significant assocs. The average pValue exponent of the missing loci is ~11. Some examples:\n",
    "  - Check `GCST90014290`:\n",
    "    - `6_29954890_C_T` (rs28780071-T) is missing while the pValue is significant. It is present at https://www.ebi.ac.uk/gwas/studies/GCST90014290\n",
    "    - `2_16507491_G_T` (rs4240228) is missing and it is not at the Catalog. That is why we have 25 records for that study and they have 24.\n",
    "  - Check `GCST90000050`:\n",
    "    - We have 73 variants whereas GWASCat show 88. https://www.ebi.ac.uk/gwas/studies/GCST90000050\n",
    "\n",
    "- 🚨 `GCST90091061`, `GCST010653`, and `GCST010729` are not in the study table. All of them available at GWASCat.\n",
    "\n",
    "**High-level metrics**\n",
    "\n",
    "TOTAL Top Loci Nov: 129507\n",
    "\n",
    "TOTAL Top Loci Feb: 142421\n",
    "\n",
    "\n",
    "TOTAL Studies in Top Loci Nov: 18330\n",
    "\n",
    "TOTAL Studies in Top Loci Feb: 19777"
   ]
  },
  {
   "cell_type": "code",
   "execution_count": 61,
   "metadata": {},
   "outputs": [],
   "source": [
    "toploci_nov = toploci_nov.withColumn('variant', F.concat(F.col('chrom'), F.lit('_'), F.col('pos'), F.lit('_'), F.col('ref'), F.lit('_'), F.col('alt'))).select('study_id', 'variant', 'pval_mantissa', 'pval_exponent').distinct()\n",
    "toploci_feb = toploci_feb.withColumn('variant', F.concat(F.col('chrom'), F.lit('_'), F.col('pos'), F.lit('_'), F.col('ref'), F.lit('_'), F.col('alt'))).select('study_id', 'variant', 'pval_mantissa', 'pval_exponent').distinct()"
   ]
  },
  {
   "cell_type": "code",
   "execution_count": 103,
   "metadata": {},
   "outputs": [
    {
     "name": "stdout",
     "output_type": "stream",
     "text": [
      "TOTAL Top Loci Nov: 129507\n",
      "TOTAL Top Loci Feb: 142421\n",
      "\n",
      "\n",
      "TOTAL Studies in Top Loci Nov: 18330\n",
      "TOTAL Studies in Top Loci Feb: 19777\n"
     ]
    },
    {
     "ename": "AssertionError",
     "evalue": "\n    There are studies in the top loci outside the study table,\n    [Row(study_id='GCST90091061'), Row(study_id='GCST010653'), Row(study_id='GCST010729')]\n    ",
     "output_type": "error",
     "traceback": [
      "\u001b[0;31m---------------------------------------------------------------------------\u001b[0m",
      "\u001b[0;31mAssertionError\u001b[0m                            Traceback (most recent call last)",
      "\u001b[0;32m<ipython-input-103-f91cb19d6801>\u001b[0m in \u001b[0;36m<module>\u001b[0;34m\u001b[0m\n\u001b[1;32m     14\u001b[0m     \u001b[0mThere\u001b[0m \u001b[0mare\u001b[0m \u001b[0mstudies\u001b[0m \u001b[0;32min\u001b[0m \u001b[0mthe\u001b[0m \u001b[0mtop\u001b[0m \u001b[0mloci\u001b[0m \u001b[0moutside\u001b[0m \u001b[0mthe\u001b[0m \u001b[0mstudy\u001b[0m \u001b[0mtable\u001b[0m\u001b[0;34m,\u001b[0m\u001b[0;34m\u001b[0m\u001b[0;34m\u001b[0m\u001b[0m\n\u001b[1;32m     15\u001b[0m     \u001b[0;34m{\u001b[0m\u001b[0merrors\u001b[0m\u001b[0;34m}\u001b[0m\u001b[0;34m\u001b[0m\u001b[0;34m\u001b[0m\u001b[0m\n\u001b[0;32m---> 16\u001b[0;31m     ''')\n\u001b[0m\u001b[1;32m     17\u001b[0m     \u001b[0mprint\u001b[0m\u001b[0;34m(\u001b[0m\u001b[0mtoploci_feb\u001b[0m\u001b[0;34m.\u001b[0m\u001b[0mselect\u001b[0m\u001b[0;34m(\u001b[0m\u001b[0;34m'study_id'\u001b[0m\u001b[0;34m)\u001b[0m\u001b[0;34m.\u001b[0m\u001b[0mjoin\u001b[0m\u001b[0;34m(\u001b[0m\u001b[0mstudy_feb\u001b[0m\u001b[0;34m,\u001b[0m \u001b[0mon\u001b[0m\u001b[0;34m=\u001b[0m\u001b[0;34m'study_id'\u001b[0m\u001b[0;34m,\u001b[0m \u001b[0mhow\u001b[0m\u001b[0;34m=\u001b[0m\u001b[0;34m'left_anti'\u001b[0m\u001b[0;34m)\u001b[0m\u001b[0;34m.\u001b[0m\u001b[0mdistinct\u001b[0m\u001b[0;34m(\u001b[0m\u001b[0;34m)\u001b[0m\u001b[0;34m.\u001b[0m\u001b[0mshow\u001b[0m\u001b[0;34m(\u001b[0m\u001b[0;34m)\u001b[0m\u001b[0;34m)\u001b[0m\u001b[0;34m\u001b[0m\u001b[0;34m\u001b[0m\u001b[0m\n",
      "\u001b[0;31mAssertionError\u001b[0m: \n    There are studies in the top loci outside the study table,\n    [Row(study_id='GCST90091061'), Row(study_id='GCST010653'), Row(study_id='GCST010729')]\n    "
     ]
    }
   ],
   "source": [
    "print('TOTAL Top Loci Nov:', toploci_nov.select('variant').distinct().count())\n",
    "print('TOTAL Top Loci Feb:', toploci_feb.select('variant').distinct().count())\n",
    "print('\\n')\n",
    "\n",
    "print('TOTAL Studies in Top Loci Nov:', toploci_nov.select('study_id').distinct().count())\n",
    "print('TOTAL Studies in Top Loci Feb:', toploci_feb.select('study_id').distinct().count())\n",
    "\n",
    "if (\n",
    "    # Assert there are no studies in the toploci outside the study table\n",
    "    toploci_feb.select('study_id').join(study_feb, on='study_id', how='left_anti').distinct().count() > 0\n",
    "):\n",
    "    errors = toploci_feb.select('study_id').join(study_feb, on='study_id', how='left_anti').distinct().collect()\n",
    "    raise AssertionError (f'''\n",
    "    There are studies in the top loci outside the study table,\n",
    "    {errors}\n",
    "    ''')"
   ]
  },
  {
   "cell_type": "code",
   "execution_count": 82,
   "metadata": {},
   "outputs": [
    {
     "name": "stdout",
     "output_type": "stream",
     "text": [
      "+--------------------+--------------+-------------+-------------+\n",
      "|             variant|      study_id|pval_mantissa|pval_exponent|\n",
      "+--------------------+--------------+-------------+-------------+\n",
      "|   11_30342653_CAA_C|  GCST90000050|          3.0|           -8|\n",
      "|     5_155521079_G_A|  GCST90000047|          3.0|          -13|\n",
      "|      3_25594252_T_C|  GCST90000047|          3.0|           -8|\n",
      "|      6_29954890_C_T|  GCST90014290|          4.0|           -9|\n",
      "|   14_100840504_TC_T|  GCST90016669|          1.0|          -12|\n",
      "|    4_158755103_C_CA|  GCST90000050|          1.0|           -8|\n",
      "|     14_32829617_T_A|  GCST90000047|          2.0|           -8|\n",
      "|5_56506300_TCAAGG...|  GCST90016671|          4.0|          -11|\n",
      "|    3_160121123_GA_G|  GCST90016667|          3.0|           -8|\n",
      "|     21_39269251_A_T|  GCST90000047|          3.0|           -8|\n",
      "|      2_16521131_G_C|  GCST90014290|          1.0|          -12|\n",
      "|    11_46599484_CA_C|  GCST90000047|          2.0|          -10|\n",
      "|     8_142244876_A_G|  GCST90000047|          9.0|          -10|\n",
      "|18_78146771_A_AAG...|  GCST90000050|          6.0|          -10|\n",
      "|     15_39528402_G_C|  GCST90013405|          2.0|          -10|\n",
      "|    6_126745342_GA_G|  GCST90016666|          1.0|          -12|\n",
      "|     1_234603355_C_A|  GCST90000047|          3.0|           -8|\n",
      "|     4_101297558_C_G|  GCST90000514|          2.0|           -8|\n",
      "|    19_19470155_GT_G|GCST90016673_2|          1.0|           -8|\n",
      "|1_50931892_AATAAT...|  GCST90016675|          3.0|          -13|\n",
      "+--------------------+--------------+-------------+-------------+\n",
      "only showing top 20 rows\n",
      "\n",
      "\n",
      " These seem to be significant associations. The average pValue exponent of the missing loci is ~11.\n",
      "+-------------------+\n",
      "| avg(pval_exponent)|\n",
      "+-------------------+\n",
      "|-11.576419213973798|\n",
      "+-------------------+\n",
      "\n",
      "None\n"
     ]
    }
   ],
   "source": [
    "# Any lead variants that went missing? Yes, 229. Should be checked.\n",
    "\n",
    "toploci_nov.join(toploci_feb.select('variant').distinct(), on='variant', how='left_anti').show()\n",
    "\n",
    "print('\\n These seem to be significant associations. The average pValue exponent of the missing loci is ~11.')\n",
    "print(toploci_nov.join(toploci_feb.select('variant').distinct(), on='variant', how='left_anti').agg({'pval_exponent': 'avg'}).show())"
   ]
  },
  {
   "cell_type": "code",
   "execution_count": 77,
   "metadata": {},
   "outputs": [
    {
     "name": "stdout",
     "output_type": "stream",
     "text": [
      "+------------+----------------+------------------+-------------+\n",
      "|    study_id|         variant|     pval_mantissa|pval_exponent|\n",
      "+------------+----------------+------------------+-------------+\n",
      "|GCST90014290|  2_16507491_G_T|               2.5|          -14|\n",
      "|GCST90014290|  3_47674055_T_C|             1.275|          -10|\n",
      "|GCST90014290| 11_57344219_T_G|               3.7|          -14|\n",
      "|GCST90014290| 3_150283437_A_G|1.3999999999999997|          -14|\n",
      "|GCST90014290| 3_128617455_G_T|             5.293|          -11|\n",
      "|GCST90014290|  6_18105845_T_G| 6.649000000000001|          -32|\n",
      "|GCST90014290|12_106949598_T_C|              1.14|           -9|\n",
      "|GCST90014290|  1_38991334_C_T|             4.352|          -12|\n",
      "|GCST90014290| 21_37001879_G_T|              3.71|          -16|\n",
      "|GCST90014290| 3_160499695_G_A| 6.280000000000001|          -13|\n",
      "|GCST90014290|   1_8850051_A_G|             6.728|          -11|\n",
      "|GCST90014290| 3_169141218_T_C|             4.246|           -9|\n",
      "|GCST90014290|  6_18120798_A_T|4.5600000000000005|          -54|\n",
      "|GCST90014290| 22_17120576_T_C| 7.366999999999998|          -12|\n",
      "|GCST90014290| 1_207856602_C_T|              3.27|          -13|\n",
      "|GCST90014290| 1_236356202_C_T|             6.047|          -10|\n",
      "|GCST90014290|  7_31688566_T_C|             5.227|           -9|\n",
      "|GCST90014290|  6_25629519_A_G| 4.501000000000001|          -16|\n",
      "|GCST90014290| 15_50061080_T_G| 5.476000000000001|          -10|\n",
      "|GCST90014290| 16_73037482_C_T|              2.54|           -8|\n",
      "|GCST90014290|   5_1287225_A_G|              3.47|          -12|\n",
      "|GCST90014290| 1_164559883_G_A|             6.443|           -9|\n",
      "|GCST90014290| 18_44539359_T_C|             1.532|          -12|\n",
      "|GCST90014290| 1_169652823_T_C|             6.715|          -18|\n",
      "|GCST90014290| 4_104884951_A_T|             6.424|          -10|\n",
      "+------------+----------------+------------------+-------------+\n",
      "\n"
     ]
    }
   ],
   "source": [
    "# 25 loci for GCST90014290\n",
    "toploci_feb.filter(F.col('study_id') == 'GCST90014290').show(30)\n"
   ]
  },
  {
   "cell_type": "code",
   "execution_count": 79,
   "metadata": {},
   "outputs": [
    {
     "name": "stdout",
     "output_type": "stream",
     "text": [
      "+------------+----------------+------------------+-------------+\n",
      "|    study_id|         variant|     pval_mantissa|pval_exponent|\n",
      "+------------+----------------+------------------+-------------+\n",
      "|GCST90000050| 11_27987425_G_A|              1.33|           -9|\n",
      "|GCST90000050|  3_47612332_C_T|             7.092|          -11|\n",
      "|GCST90000050|   8_9698990_G_A|1.5590000000000002|          -10|\n",
      "|GCST90000050|  4_76132681_T_C|             6.321|          -10|\n",
      "|GCST90000050| 2_165393904_A_G|             1.572|           -8|\n",
      "|GCST90000050| 18_38930623_C_T|3.5060000000000002|           -8|\n",
      "|GCST90000050| 6_142844351_A_G|             1.109|           -8|\n",
      "|GCST90000050|   7_2020126_G_A|             1.162|           -9|\n",
      "|GCST90000050|  3_84593777_G_A|             1.083|           -8|\n",
      "|GCST90000050|  8_11773995_C_T|             1.761|           -8|\n",
      "|GCST90000050|  3_49633604_G_A|             7.039|          -20|\n",
      "|GCST90000050|  1_22020903_A_G|             4.367|           -8|\n",
      "|GCST90000050|12_120969453_A_G|             5.748|           -9|\n",
      "|GCST90000050|  9_23360419_C_G|             8.237|          -10|\n",
      "|GCST90000050| 18_78142735_T_C|             1.813|           -9|\n",
      "|GCST90000050| 8_144461122_C_T|             1.076|           -8|\n",
      "|GCST90000050|   7_3465460_C_G|             1.004|           -9|\n",
      "|GCST90000050|  9_14745888_G_A|             3.352|           -8|\n",
      "|GCST90000050|10_104854813_A_G|1.6760000000000002|           -8|\n",
      "|GCST90000050|  7_72317475_A_G|             4.216|           -8|\n",
      "+------------+----------------+------------------+-------------+\n",
      "only showing top 20 rows\n",
      "\n"
     ]
    }
   ],
   "source": [
    "# 73 loci for GCST90000050\n",
    "toploci_feb.filter(F.col('study_id') == 'GCST90000050').show()"
   ]
  },
  {
   "cell_type": "code",
   "execution_count": 96,
   "metadata": {},
   "outputs": [
    {
     "name": "stdout",
     "output_type": "stream",
     "text": [
      "+--------------+\n",
      "|      study_id|\n",
      "+--------------+\n",
      "|GCST90016666_2|\n",
      "|GCST90016674_2|\n",
      "|GCST90016675_2|\n",
      "|GCST90016667_2|\n",
      "|  GCST012085_2|\n",
      "|  GCST005362_2|\n",
      "|  GCST012086_2|\n",
      "|GCST90016673_2|\n",
      "|  GCST002299_2|\n",
      "|  GCST012173_6|\n",
      "+--------------+\n",
      "\n",
      "-RECORD 0-------------------------------------------------------------------------------------------------------\n",
      " study_id             | GCST90016674                                                                            \n",
      " pmid                 | PMID:34128465                                                                           \n",
      " pub_date             | 2021-06-15                                                                              \n",
      " pub_journal          | Elife                                                                                   \n",
      " pub_title            | Genetic architecture of 11 organ traits derived from abdominal MRI using deep learning. \n",
      " pub_author           | Liu Y                                                                                   \n",
      " trait_reported       | Liver iron content                                                                      \n",
      " trait_efos           | [EFO_0010056]                                                                           \n",
      " ancestry_initial     | [European=32858]                                                                        \n",
      " ancestry_replication | null                                                                                    \n",
      " n_initial            | 32858                                                                                   \n",
      " n_replication        | null                                                                                    \n",
      " n_cases              | null                                                                                    \n",
      " trait_category       | Iron biomarker measurement                                                              \n",
      " num_assoc_loci       | 15                                                                                      \n",
      " has_sumstats         | false                                                                                   \n",
      "-RECORD 1-------------------------------------------------------------------------------------------------------\n",
      " study_id             | GCST90016674_2                                                                          \n",
      " pmid                 | PMID:34128465                                                                           \n",
      " pub_date             | 2021-06-15                                                                              \n",
      " pub_journal          | Elife                                                                                   \n",
      " pub_title            | Genetic architecture of 11 organ traits derived from abdominal MRI using deep learning. \n",
      " pub_author           | Liu Y                                                                                   \n",
      " trait_reported       | Liver iron content [conditional]                                                        \n",
      " trait_efos           | [EFO_0010056]                                                                           \n",
      " ancestry_initial     | [European=32858]                                                                        \n",
      " ancestry_replication | null                                                                                    \n",
      " n_initial            | 32858                                                                                   \n",
      " n_replication        | null                                                                                    \n",
      " n_cases              | null                                                                                    \n",
      " trait_category       | Iron biomarker measurement                                                              \n",
      " num_assoc_loci       | 0                                                                                       \n",
      " has_sumstats         | false                                                                                   \n",
      "\n",
      "None\n"
     ]
    }
   ],
   "source": [
    "# Any studies in the top loci table went missing? Yes, 10. The examples don't look very relevant.\n",
    "\n",
    "toploci_nov.join(toploci_feb.select('study_id').distinct(), on='study_id', how='left_anti').select('study_id').distinct().show()\n",
    "\n",
    "print(study_feb.filter(F.col('study_id').startswith('GCST90016674')).show(2, False, True))\n",
    "# Does `condition` mean that the trait is an underlying condition to all patients?"
   ]
  },
  {
   "cell_type": "code",
   "execution_count": null,
   "metadata": {},
   "outputs": [],
   "source": []
  }
 ],
 "metadata": {
  "interpreter": {
   "hash": "f4b6dc36c032161cfa2dcc93f31fcb0bfb11bc6fea6f0772b15a0710e4778680"
  },
  "kernelspec": {
   "display_name": "Python 3.7.9 64-bit ('base': conda)",
   "language": "python",
   "name": "python3"
  },
  "language_info": {
   "codemirror_mode": {
    "name": "ipython",
    "version": 3
   },
   "file_extension": ".py",
   "mimetype": "text/x-python",
   "name": "python",
   "nbconvert_exporter": "python",
   "pygments_lexer": "ipython3",
   "version": "3.7.9"
  },
  "orig_nbformat": 4
 },
 "nbformat": 4,
 "nbformat_minor": 2
}
