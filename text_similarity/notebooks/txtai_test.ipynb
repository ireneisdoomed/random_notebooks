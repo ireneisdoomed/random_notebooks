{
 "cells": [
  {
   "cell_type": "code",
   "execution_count": 24,
   "metadata": {},
   "outputs": [],
   "source": [
    "!wget -q -O data/efo_otar_slim.owl https://github.com/EBISPOT/efo/releases/download/v3.41.0/efo_otar_slim.owl"
   ]
  },
  {
   "cell_type": "code",
   "execution_count": null,
   "metadata": {},
   "outputs": [],
   "source": [
    "import logging\n",
    "from typing import Optional\n",
    "\n",
    "import pandas as pd\n",
    "from pronto import Ontology\n",
    "from txtai.embeddings import Embeddings"
   ]
  },
  {
   "cell_type": "markdown",
   "metadata": {},
   "source": [
    "## Prepare index from EFO dump\n",
    "\n",
    "Index consists of a list of documents. Each document:\n",
    "- ID: will be the one from EFO\n",
    "- Text: 2 approaches:\n",
    "  - Only use the EFO labels\n",
    "  - Use the concatenation of the EFO labels and the exact synonyms\n",
    "- Tags: will be None (can be metadata as the therapeutic area)"
   ]
  },
  {
   "cell_type": "code",
   "execution_count": null,
   "metadata": {},
   "outputs": [],
   "source": [
    "efo_dump = 'data/efo_otar_slim.owl'\n",
    "\n",
    "efo_terms = Ontology(efo_dump).terms()"
   ]
  },
  {
   "cell_type": "code",
   "execution_count": 7,
   "metadata": {},
   "outputs": [],
   "source": [
    "def normalise_ontology_identifier(identifier: str) -> Optional[str]:\n",
    "    \"\"\"\n",
    "    Normalise ontology identifier representation in order to make direct string-to-string comparison possible.\n",
    "    Ex:\n",
    "    'http://www.orpha.net/ORDO/Orphanet_178506' --> 'Orphanet_178506'\n",
    "    'BTO:0000305' --> 'BTO_0000305'\n",
    "    \"\"\"\n",
    "\n",
    "    return identifier.split('/')[-1].replace(':', '_')\n",
    "\n",
    "all_therapeutic_areas = [\n",
    "        'MONDO_0045024',\n",
    "        'EFO_0005741',\n",
    "        'OTAR_0000014',\n",
    "        'EFO_0005932',\n",
    "        'MONDO_0024458',\n",
    "        'EFO_0000319',\n",
    "        'EFO_0009605',\n",
    "        'EFO_0010282',\n",
    "        'OTAR_0000017',\n",
    "        'EFO_0010285',\n",
    "        'EFO_0001379',\n",
    "        'OTAR_0000010',\n",
    "        'EFO_0009690',\n",
    "        'OTAR_0000006',\n",
    "        'MONDO_0021205',\n",
    "        'EFO_0000540',\n",
    "        'EFO_0005803',\n",
    "        'EFO_0000618',\n",
    "        'MONDO_0002025',\n",
    "        'MONDO_0024297',\n",
    "        'OTAR_0000018',\n",
    "        'OTAR_0000009',\n",
    "        'EFO_0000651',\n",
    "        'EFO_0001444',\n",
    "        'GO_0008150',\n",
    "    ]"
   ]
  },
  {
   "cell_type": "code",
   "execution_count": 13,
   "metadata": {},
   "outputs": [
    {
     "name": "stderr",
     "output_type": "stream",
     "text": [
      "2022-05-03 08:49:54,068 [WARNING] <cell line: 3>: UBERON:0001124 is problematic: argument of type 'NoneType' is not iterable\n",
      "2022-05-03 08:49:54,069 [WARNING] <cell line: 3>: UBERON:0005284 is problematic: argument of type 'NoneType' is not iterable\n"
     ]
    }
   ],
   "source": [
    "data = []\n",
    "\n",
    "for term in efo_terms:\n",
    "\n",
    "    try:\n",
    "        # Remove obsoletes\n",
    "        if 'obsolete' in term.name:\n",
    "            continue\n",
    "\n",
    "        id: str = normalise_ontology_identifier(term.id)\n",
    "        label: str = term.name\n",
    "        exact_synonyms: list[str] = [synonym.description for synonym in term.synonyms if synonym.scope == 'EXACT']\n",
    "        # I am going to merge the synonyms together with the labels in a way that they are equally equivalent to the id\n",
    "        text: str = \";\".join(list(set(exact_synonyms + [label])))\n",
    "        ancestors : list[str] = [normalise_ontology_identifier(ancestor.id) for ancestor in term.superclasses()]\n",
    "        therapeutic_areas: list[str] = [ancestor for ancestor in ancestors if ancestor in all_therapeutic_areas]\n",
    "\n",
    "        document = {\n",
    "            'id': id,\n",
    "            'label': label,\n",
    "            'exact_synonyms': exact_synonyms,\n",
    "            'text': text,\n",
    "            'therapeutic_areas': therapeutic_areas\n",
    "        }\n",
    "        data.append(document)\n",
    "    except TypeError as e:\n",
    "        logging.warning(f'{term.id} is problematic: {e}')"
   ]
  },
  {
   "cell_type": "code",
   "execution_count": 14,
   "metadata": {},
   "outputs": [
    {
     "data": {
      "text/plain": [
       "[{'id': 'DOID_0050890',\n",
       "  'label': 'synucleinopathy',\n",
       "  'exact_synonyms': ['alpha Synucleinopathies', 'synucleinopathy'],\n",
       "  'text': 'alpha Synucleinopathies;synucleinopathy',\n",
       "  'therapeutic_areas': ['OTAR_0000018', 'EFO_0000618']},\n",
       " {'id': 'DOID_10113',\n",
       "  'label': 'trypanosomiasis',\n",
       "  'exact_synonyms': ['trypanosomiasis',\n",
       "   'Trypanosoma disease or disorder',\n",
       "   'Trypanosoma caused disease or disorder',\n",
       "   'Trypanosoma infectious disease'],\n",
       "  'text': 'Trypanosoma caused disease or disorder;trypanosomiasis;Trypanosoma infectious disease;Trypanosoma disease or disorder',\n",
       "  'therapeutic_areas': ['EFO_0005741']},\n",
       " {'id': 'DOID_10718',\n",
       "  'label': 'giardiasis',\n",
       "  'exact_synonyms': ['beaver fever',\n",
       "   'beaver feaver',\n",
       "   'giardiasis',\n",
       "   'Giardia infection',\n",
       "   'infection by Giardia lamblia'],\n",
       "  'text': 'beaver fever;giardiasis;Giardia infection;beaver feaver;infection by Giardia lamblia',\n",
       "  'therapeutic_areas': ['EFO_0005741', 'EFO_0010282']}]"
      ]
     },
     "execution_count": 14,
     "metadata": {},
     "output_type": "execute_result"
    }
   ],
   "source": [
    "data[:3]"
   ]
  },
  {
   "cell_type": "code",
   "execution_count": 15,
   "metadata": {},
   "outputs": [
    {
     "data": {
      "text/html": [
       "<div>\n",
       "<style scoped>\n",
       "    .dataframe tbody tr th:only-of-type {\n",
       "        vertical-align: middle;\n",
       "    }\n",
       "\n",
       "    .dataframe tbody tr th {\n",
       "        vertical-align: top;\n",
       "    }\n",
       "\n",
       "    .dataframe thead th {\n",
       "        text-align: right;\n",
       "    }\n",
       "</style>\n",
       "<table border=\"1\" class=\"dataframe\">\n",
       "  <thead>\n",
       "    <tr style=\"text-align: right;\">\n",
       "      <th></th>\n",
       "      <th>id</th>\n",
       "      <th>label</th>\n",
       "      <th>exact_synonyms</th>\n",
       "      <th>text</th>\n",
       "      <th>therapeutic_areas</th>\n",
       "    </tr>\n",
       "  </thead>\n",
       "  <tbody>\n",
       "    <tr>\n",
       "      <th>0</th>\n",
       "      <td>DOID_0050890</td>\n",
       "      <td>synucleinopathy</td>\n",
       "      <td>[alpha Synucleinopathies, synucleinopathy]</td>\n",
       "      <td>alpha Synucleinopathies;synucleinopathy</td>\n",
       "      <td>[OTAR_0000018, EFO_0000618]</td>\n",
       "    </tr>\n",
       "    <tr>\n",
       "      <th>1</th>\n",
       "      <td>DOID_10113</td>\n",
       "      <td>trypanosomiasis</td>\n",
       "      <td>[trypanosomiasis, Trypanosoma disease or disor...</td>\n",
       "      <td>Trypanosoma caused disease or disorder;trypano...</td>\n",
       "      <td>[EFO_0005741]</td>\n",
       "    </tr>\n",
       "    <tr>\n",
       "      <th>2</th>\n",
       "      <td>DOID_10718</td>\n",
       "      <td>giardiasis</td>\n",
       "      <td>[beaver fever, beaver feaver, giardiasis, Giar...</td>\n",
       "      <td>beaver fever;giardiasis;Giardia infection;beav...</td>\n",
       "      <td>[EFO_0005741, EFO_0010282]</td>\n",
       "    </tr>\n",
       "    <tr>\n",
       "      <th>3</th>\n",
       "      <td>DOID_13406</td>\n",
       "      <td>pulmonary sarcoidosis</td>\n",
       "      <td>[Sarcoidosis, Pulmonary, lung Sarcoidosis, pul...</td>\n",
       "      <td>sarcoidosis of lung;lung sarcoidosis;lung Sarc...</td>\n",
       "      <td>[OTAR_0000010, OTAR_0000006]</td>\n",
       "    </tr>\n",
       "    <tr>\n",
       "      <th>4</th>\n",
       "      <td>DOID_1947</td>\n",
       "      <td>trichomoniasis</td>\n",
       "      <td>[Trichomonas infection, Trichomonas Infections...</td>\n",
       "      <td>trichomoniasis;Trichomonas infection;Trichomon...</td>\n",
       "      <td>[EFO_0005741]</td>\n",
       "    </tr>\n",
       "    <tr>\n",
       "      <th>...</th>\n",
       "      <td>...</td>\n",
       "      <td>...</td>\n",
       "      <td>...</td>\n",
       "      <td>...</td>\n",
       "      <td>...</td>\n",
       "    </tr>\n",
       "    <tr>\n",
       "      <th>22991</th>\n",
       "      <td>Orphanet_99946</td>\n",
       "      <td>Autosomal dominant Charcot-Marie-Tooth disease...</td>\n",
       "      <td>[CMT2A1]</td>\n",
       "      <td>CMT2A1;Autosomal dominant Charcot-Marie-Tooth ...</td>\n",
       "      <td>[EFO_0000618, OTAR_0000018]</td>\n",
       "    </tr>\n",
       "    <tr>\n",
       "      <th>22992</th>\n",
       "      <td>Orphanet_99947</td>\n",
       "      <td>Autosomal dominant Charcot-Marie-Tooth disease...</td>\n",
       "      <td>[Charcot-Marie-Tooth neuropathy type 2A2, char...</td>\n",
       "      <td>Charcot-Marie-Tooth disease neuronal type 2A2;...</td>\n",
       "      <td>[EFO_0000618, OTAR_0000018]</td>\n",
       "    </tr>\n",
       "    <tr>\n",
       "      <th>22993</th>\n",
       "      <td>Orphanet_99960</td>\n",
       "      <td>Benign recurrent intrahepatic cholestasis type 1</td>\n",
       "      <td>[BRIC1, BRIC type 1]</td>\n",
       "      <td>BRIC1;Benign recurrent intrahepatic cholestasi...</td>\n",
       "      <td>[OTAR_0000018, EFO_0001379, EFO_0010282]</td>\n",
       "    </tr>\n",
       "    <tr>\n",
       "      <th>22994</th>\n",
       "      <td>Orphanet_99961</td>\n",
       "      <td>Benign recurrent intrahepatic cholestasis type 2</td>\n",
       "      <td>[BRIC2, BRIC type 2]</td>\n",
       "      <td>BRIC2;Benign recurrent intrahepatic cholestasi...</td>\n",
       "      <td>[OTAR_0000018, EFO_0001379, EFO_0010282]</td>\n",
       "    </tr>\n",
       "    <tr>\n",
       "      <th>22995</th>\n",
       "      <td>Orphanet_99989</td>\n",
       "      <td>Intermediate DEND syndrome</td>\n",
       "      <td>[Developmental delay-epilepsy-neonatal diabete...</td>\n",
       "      <td>Intermediate DEND syndrome;Developmental delay...</td>\n",
       "      <td>[EFO_0000618, OTAR_0000018, EFO_0009605, EFO_0...</td>\n",
       "    </tr>\n",
       "  </tbody>\n",
       "</table>\n",
       "<p>22996 rows × 5 columns</p>\n",
       "</div>"
      ],
      "text/plain": [
       "                   id                                              label  \\\n",
       "0        DOID_0050890                                    synucleinopathy   \n",
       "1          DOID_10113                                    trypanosomiasis   \n",
       "2          DOID_10718                                         giardiasis   \n",
       "3          DOID_13406                              pulmonary sarcoidosis   \n",
       "4           DOID_1947                                     trichomoniasis   \n",
       "...               ...                                                ...   \n",
       "22991  Orphanet_99946  Autosomal dominant Charcot-Marie-Tooth disease...   \n",
       "22992  Orphanet_99947  Autosomal dominant Charcot-Marie-Tooth disease...   \n",
       "22993  Orphanet_99960   Benign recurrent intrahepatic cholestasis type 1   \n",
       "22994  Orphanet_99961   Benign recurrent intrahepatic cholestasis type 2   \n",
       "22995  Orphanet_99989                         Intermediate DEND syndrome   \n",
       "\n",
       "                                          exact_synonyms  \\\n",
       "0             [alpha Synucleinopathies, synucleinopathy]   \n",
       "1      [trypanosomiasis, Trypanosoma disease or disor...   \n",
       "2      [beaver fever, beaver feaver, giardiasis, Giar...   \n",
       "3      [Sarcoidosis, Pulmonary, lung Sarcoidosis, pul...   \n",
       "4      [Trichomonas infection, Trichomonas Infections...   \n",
       "...                                                  ...   \n",
       "22991                                           [CMT2A1]   \n",
       "22992  [Charcot-Marie-Tooth neuropathy type 2A2, char...   \n",
       "22993                               [BRIC1, BRIC type 1]   \n",
       "22994                               [BRIC2, BRIC type 2]   \n",
       "22995  [Developmental delay-epilepsy-neonatal diabete...   \n",
       "\n",
       "                                                    text  \\\n",
       "0                alpha Synucleinopathies;synucleinopathy   \n",
       "1      Trypanosoma caused disease or disorder;trypano...   \n",
       "2      beaver fever;giardiasis;Giardia infection;beav...   \n",
       "3      sarcoidosis of lung;lung sarcoidosis;lung Sarc...   \n",
       "4      trichomoniasis;Trichomonas infection;Trichomon...   \n",
       "...                                                  ...   \n",
       "22991  CMT2A1;Autosomal dominant Charcot-Marie-Tooth ...   \n",
       "22992  Charcot-Marie-Tooth disease neuronal type 2A2;...   \n",
       "22993  BRIC1;Benign recurrent intrahepatic cholestasi...   \n",
       "22994  BRIC2;Benign recurrent intrahepatic cholestasi...   \n",
       "22995  Intermediate DEND syndrome;Developmental delay...   \n",
       "\n",
       "                                       therapeutic_areas  \n",
       "0                            [OTAR_0000018, EFO_0000618]  \n",
       "1                                          [EFO_0005741]  \n",
       "2                             [EFO_0005741, EFO_0010282]  \n",
       "3                           [OTAR_0000010, OTAR_0000006]  \n",
       "4                                          [EFO_0005741]  \n",
       "...                                                  ...  \n",
       "22991                        [EFO_0000618, OTAR_0000018]  \n",
       "22992                        [EFO_0000618, OTAR_0000018]  \n",
       "22993           [OTAR_0000018, EFO_0001379, EFO_0010282]  \n",
       "22994           [OTAR_0000018, EFO_0001379, EFO_0010282]  \n",
       "22995  [EFO_0000618, OTAR_0000018, EFO_0009605, EFO_0...  \n",
       "\n",
       "[22996 rows x 5 columns]"
      ]
     },
     "execution_count": 15,
     "metadata": {},
     "output_type": "execute_result"
    }
   ],
   "source": [
    "df = pd.DataFrame(data)\n",
    "\n",
    "df"
   ]
  },
  {
   "cell_type": "code",
   "execution_count": 16,
   "metadata": {},
   "outputs": [],
   "source": [
    "df.to_json('data/documents.json', orient='records')"
   ]
  },
  {
   "cell_type": "markdown",
   "metadata": {},
   "source": [
    "## Ingest features to index"
   ]
  },
  {
   "cell_type": "code",
   "execution_count": 64,
   "metadata": {},
   "outputs": [],
   "source": [
    "embeddings_labels = Embeddings({\"path\": \"sentence-transformers/nli-mpnet-base-v2\"})"
   ]
  },
  {
   "cell_type": "code",
   "execution_count": 66,
   "metadata": {},
   "outputs": [
    {
     "ename": "Error",
     "evalue": "Canceled future for execute_request message before replies were done",
     "output_type": "error",
     "traceback": [
      "Error: Canceled future for execute_request message before replies were done",
      "at t.KernelShellFutureHandler.dispose (/Users/irene/.vscode/extensions/ms-toolsai.jupyter-2022.3.1000901801/out/extension.js:2:1204175)",
      "at /Users/irene/.vscode/extensions/ms-toolsai.jupyter-2022.3.1000901801/out/extension.js:2:1223227",
      "at Map.forEach (<anonymous>)",
      "at v._clearKernelState (/Users/irene/.vscode/extensions/ms-toolsai.jupyter-2022.3.1000901801/out/extension.js:2:1223212)",
      "at v.dispose (/Users/irene/.vscode/extensions/ms-toolsai.jupyter-2022.3.1000901801/out/extension.js:2:1216694)",
      "at /Users/irene/.vscode/extensions/ms-toolsai.jupyter-2022.3.1000901801/out/extension.js:2:533674",
      "at t.swallowExceptions (/Users/irene/.vscode/extensions/ms-toolsai.jupyter-2022.3.1000901801/out/extension.js:2:913059)",
      "at dispose (/Users/irene/.vscode/extensions/ms-toolsai.jupyter-2022.3.1000901801/out/extension.js:2:533652)",
      "at t.RawSession.dispose (/Users/irene/.vscode/extensions/ms-toolsai.jupyter-2022.3.1000901801/out/extension.js:2:537330)",
      "at runMicrotasks (<anonymous>)",
      "at processTicksAndRejections (node:internal/process/task_queues:96:5)"
     ]
    }
   ],
   "source": [
    "features_labels = df[['id', 'label']].drop_duplicates().to_records(index=False).tolist()\n",
    "\n",
    "embeddings_labels.index([(uid, text, None) for uid, text in features_labels])"
   ]
  },
  {
   "cell_type": "code",
   "execution_count": 1,
   "metadata": {},
   "outputs": [
    {
     "ename": "NameError",
     "evalue": "name 'embeddings_labels' is not defined",
     "output_type": "error",
     "traceback": [
      "\u001b[0;31m---------------------------------------------------------------------------\u001b[0m",
      "\u001b[0;31mNameError\u001b[0m                                 Traceback (most recent call last)",
      "\u001b[1;32m/Users/irene/Documents/dev/random_notebooks/text_similarity/txtai_test.ipynb Cell 13'\u001b[0m in \u001b[0;36m<cell line: 1>\u001b[0;34m()\u001b[0m\n\u001b[0;32m----> <a href='vscode-notebook-cell:/Users/irene/Documents/dev/random_notebooks/text_similarity/txtai_test.ipynb#ch0000017?line=0'>1</a>\u001b[0m embeddings_labels\u001b[39m.\u001b[39mcount()\n",
      "\u001b[0;31mNameError\u001b[0m: name 'embeddings_labels' is not defined"
     ]
    }
   ],
   "source": [
    "embeddings_labels.count()"
   ]
  },
  {
   "cell_type": "code",
   "execution_count": null,
   "metadata": {},
   "outputs": [],
   "source": [
    "embeddings_synonyms = Embeddings({\"path\": \"sentence-transformers/nli-mpnet-base-v2\"})\n",
    "features_synonyms = df[['id', 'text']].drop_duplicates().to_records(index=False).tolist()\n",
    "\n",
    "embeddings_synonyms.index([(uid, text, None) for uid, text in features_labels])\n"
   ]
  },
  {
   "cell_type": "markdown",
   "metadata": {},
   "source": [
    "## Query diseases to get the most similar EFO\n",
    "\n"
   ]
  },
  {
   "cell_type": "code",
   "execution_count": 11,
   "metadata": {},
   "outputs": [],
   "source": [
    "embeddings = Embeddings()\n",
    "embeddings.load('embeddings/embeddings_labels.tar.gz')"
   ]
  },
  {
   "cell_type": "code",
   "execution_count": 14,
   "metadata": {},
   "outputs": [
    {
     "ename": "Error",
     "evalue": "Canceled future for execute_request message before replies were done",
     "output_type": "error",
     "traceback": [
      "Error: Canceled future for execute_request message before replies were done",
      "at t.KernelShellFutureHandler.dispose (/Users/irene/.vscode/extensions/ms-toolsai.jupyter-2022.3.1000901801/out/extension.js:2:1204175)",
      "at /Users/irene/.vscode/extensions/ms-toolsai.jupyter-2022.3.1000901801/out/extension.js:2:1223227",
      "at Map.forEach (<anonymous>)",
      "at v._clearKernelState (/Users/irene/.vscode/extensions/ms-toolsai.jupyter-2022.3.1000901801/out/extension.js:2:1223212)",
      "at v.dispose (/Users/irene/.vscode/extensions/ms-toolsai.jupyter-2022.3.1000901801/out/extension.js:2:1216694)",
      "at /Users/irene/.vscode/extensions/ms-toolsai.jupyter-2022.3.1000901801/out/extension.js:2:533674",
      "at t.swallowExceptions (/Users/irene/.vscode/extensions/ms-toolsai.jupyter-2022.3.1000901801/out/extension.js:2:913059)",
      "at dispose (/Users/irene/.vscode/extensions/ms-toolsai.jupyter-2022.3.1000901801/out/extension.js:2:533652)",
      "at t.RawSession.dispose (/Users/irene/.vscode/extensions/ms-toolsai.jupyter-2022.3.1000901801/out/extension.js:2:537330)",
      "at runMicrotasks (<anonymous>)",
      "at processTicksAndRejections (node:internal/process/task_queues:96:5)"
     ]
    }
   ],
   "source": [
    "embeddings.search('acondroplasya', 1)"
   ]
  },
  {
   "cell_type": "code",
   "execution_count": null,
   "metadata": {},
   "outputs": [],
   "source": []
  }
 ],
 "metadata": {
  "interpreter": {
   "hash": "4f2c454de99359961a3de6b98b18e74402f2f3c757d3e4b78e06c7edcb992f36"
  },
  "kernelspec": {
   "display_name": "Python 3.9.12",
   "language": "python",
   "name": "python3"
  },
  "language_info": {
   "codemirror_mode": {
    "name": "ipython",
    "version": 3
   },
   "file_extension": ".py",
   "mimetype": "text/x-python",
   "name": "python",
   "nbconvert_exporter": "python",
   "pygments_lexer": "ipython3",
   "version": "3.9.12"
  },
  "orig_nbformat": 4
 },
 "nbformat": 4,
 "nbformat_minor": 2
}
