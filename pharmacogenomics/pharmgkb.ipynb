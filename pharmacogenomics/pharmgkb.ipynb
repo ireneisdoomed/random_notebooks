{
 "cells": [
  {
   "cell_type": "code",
   "execution_count": null,
   "metadata": {},
   "outputs": [],
   "source": [
    "from pyspark.sql import SparkSession\n",
    "import pyspark.sql.functions as f\n",
    "\n",
    "spark = SparkSession.builder.getOrCreate()"
   ]
  },
  {
   "cell_type": "code",
   "execution_count": 5,
   "metadata": {},
   "outputs": [],
   "source": [
    "ca = spark.read.csv(\n",
    "    \"data/clinicalAnnotations/clinical_annotations.tsv\",\n",
    "    sep=\"\\t\",\n",
    "    header=True,\n",
    ")"
   ]
  },
  {
   "cell_type": "code",
   "execution_count": 8,
   "metadata": {},
   "outputs": [
    {
     "name": "stdout",
     "output_type": "stream",
     "text": [
      "+------------------+-----+\n",
      "|Phenotype Category|count|\n",
      "+------------------+-----+\n",
      "| Efficacy;Toxicity|    1|\n",
      "|             Other|   15|\n",
      "|            Dosage|   31|\n",
      "|          Efficacy|   70|\n",
      "|     Metabolism/PK|   80|\n",
      "|          Toxicity|  174|\n",
      "+------------------+-----+\n",
      "\n"
     ]
    }
   ],
   "source": [
    "ca.filter(f.col(\"Level of Evidence\").isin([\"1A\", \"1B\", \"2A\", \"2B\"])).groupBy(\"Phenotype Category\").count().orderBy(\"count\").show()"
   ]
  },
  {
   "cell_type": "code",
   "execution_count": null,
   "metadata": {},
   "outputs": [],
   "source": []
  }
 ],
 "metadata": {
  "kernelspec": {
   "display_name": "Python 3",
   "language": "python",
   "name": "python3"
  },
  "language_info": {
   "codemirror_mode": {
    "name": "ipython",
    "version": 3
   },
   "file_extension": ".py",
   "mimetype": "text/x-python",
   "name": "python",
   "nbconvert_exporter": "python",
   "pygments_lexer": "ipython3",
   "version": "3.8.13"
  },
  "orig_nbformat": 4,
  "vscode": {
   "interpreter": {
    "hash": "2190a2f637e2a87988e11b17702e03d98d1627c436fe80462069a819403d5500"
   }
  }
 },
 "nbformat": 4,
 "nbformat_minor": 2
}
