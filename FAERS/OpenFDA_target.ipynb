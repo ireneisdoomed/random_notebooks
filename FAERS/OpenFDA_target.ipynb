{
 "cells": [
  {
   "cell_type": "code",
   "execution_count": 2,
   "metadata": {
    "collapsed": true
   },
   "outputs": [],
   "source": [
    "import pandas as pd\n",
    "from pyspark.sql import DataFrame, SparkSession\n",
    "import pyspark.sql.functions as F\n",
    "from pyspark.sql.types import *\n",
    "\n",
    "spark = (SparkSession.builder\n",
    "    .master('local[*]')\n",
    "    .config(\"spark.driver.memory\", \"15g\")\n",
    "    .appName('spark')\n",
    "    .getOrCreate())"
   ]
  },
  {
   "cell_type": "markdown",
   "source": [
    "## 1. Inspect data"
   ],
   "metadata": {
    "collapsed": false
   }
  },
  {
   "cell_type": "code",
   "execution_count": 78,
   "outputs": [],
   "source": [
    "adverseTargetReactions = spark.read.parquet('/Users/irene/Documents/dev/datasets/openfda/adverseTargetReactions')\n",
    "\n",
    "significantAdverseTargetReactions = spark.read.parquet('/Users/irene/Documents/dev/datasets/openfda/significantAdverseTargetReactions')"
   ],
   "metadata": {
    "collapsed": false,
    "pycharm": {
     "name": "#%%\n"
    }
   }
  },
  {
   "cell_type": "code",
   "execution_count": 4,
   "outputs": [
    {
     "name": "stdout",
     "output_type": "stream",
     "text": [
      "Total count: 1940905\n",
      "Significant count: 25193\n"
     ]
    }
   ],
   "source": [
    "print('Total count:', adverseTargetReactions.count())\n",
    "print('Significant count:', significantAdverseTargetReactions.count())"
   ],
   "metadata": {
    "collapsed": false,
    "pycharm": {
     "name": "#%%\n"
    }
   }
  },
  {
   "cell_type": "code",
   "execution_count": 90,
   "outputs": [
    {
     "data": {
      "text/plain": "868"
     },
     "execution_count": 90,
     "metadata": {},
     "output_type": "execute_result"
    }
   ],
   "source": [
    "significantAdverseTargetReactions.select('targetId').distinct().count()"
   ],
   "metadata": {
    "collapsed": false,
    "pycharm": {
     "name": "#%%\n"
    }
   }
  },
  {
   "cell_type": "code",
   "execution_count": 10,
   "outputs": [
    {
     "name": "stdout",
     "output_type": "stream",
     "text": [
      "Row(chembl_id='CHEMBL3833368', llr=150.8579735206149, critval=82.77017808906385, event='abdominal discomfort', targetId='ENSG00000041880', count=217, meddraCode='10000059')\n"
     ]
    }
   ],
   "source": [
    "print(significantAdverseTargetReactions.first())"
   ],
   "metadata": {
    "collapsed": false,
    "pycharm": {
     "name": "#%%\n"
    }
   }
  },
  {
   "cell_type": "code",
   "execution_count": 15,
   "outputs": [
    {
     "data": {
      "text/plain": "Row(chembl_id='CHEMBL3833368', reaction_reactionmeddrapt='abdominal discomfort', uniq_report_ids_by_target=7069, targetId='ENSG00000041880', A=217, uniq_report_ids_by_reaction=31060, C=6852, B=30843, D=4283942, aterm=-1077.1399872662014, cterm=-44124.73187004238, acterm=-45352.729830829194, llr=150.8579735206149, meddraCode='10000059')"
     },
     "execution_count": 15,
     "metadata": {},
     "output_type": "execute_result"
    }
   ],
   "source": [
    "adverseTargetReactions.filter(F.col('chembl_id') == 'CHEMBL3833368').filter(F.col('targetId') == 'ENSG00000041880').filter(F.col('meddraCode') == '10000059').first()"
   ],
   "metadata": {
    "collapsed": false,
    "pycharm": {
     "name": "#%%\n"
    }
   }
  },
  {
   "cell_type": "markdown",
   "source": [
    "### 1.1. Is the significant a subset of the total? --> Not exactly"
   ],
   "metadata": {
    "collapsed": false,
    "pycharm": {
     "name": "#%% md\n"
    }
   }
  },
  {
   "cell_type": "code",
   "execution_count": 23,
   "outputs": [
    {
     "name": "stdout",
     "output_type": "stream",
     "text": [
      "1940905\n"
     ]
    },
    {
     "data": {
      "text/plain": "1941108"
     },
     "execution_count": 23,
     "metadata": {},
     "output_type": "execute_result"
    }
   ],
   "source": [
    "# These are the unique fields: 'event', 'chembl_id', 'targetId'\n",
    "\n",
    "print(adverseTargetReactions.select('reaction_reactionmeddrapt', 'chembl_id', 'targetId').distinct().count())\n",
    "\n",
    "(\n",
    "    # Both datasets stripped to its essential fields are concatenated\n",
    "    adverseTargetReactions.withColumnRenamed('reaction_reactionmeddrapt', 'event').select('event', 'chembl_id', 'targetId').distinct()\n",
    "    .union(significantAdverseTargetReactions.select('event', 'chembl_id', 'targetId').distinct())\n",
    "    # After dropping duplicates, I should end up with the adverseTargetReactions count\n",
    "    .distinct()\n",
    "    .count()\n",
    ")\n"
   ],
   "metadata": {
    "collapsed": false,
    "pycharm": {
     "name": "#%%\n"
    }
   }
  },
  {
   "cell_type": "code",
   "execution_count": 24,
   "outputs": [
    {
     "data": {
      "text/plain": "24990"
     },
     "execution_count": 24,
     "metadata": {},
     "output_type": "execute_result"
    }
   ],
   "source": [
    "significantAdverseTargetReactions.select('event', 'chembl_id', 'targetId').join(\n",
    "    adverseTargetReactions.withColumnRenamed('reaction_reactionmeddrapt', 'event').select('event', 'chembl_id', 'targetId').distinct(),\n",
    "    on=['event', 'chembl_id', 'targetId'], how='inner'\n",
    ").count()"
   ],
   "metadata": {
    "collapsed": false,
    "pycharm": {
     "name": "#%%\n"
    }
   }
  },
  {
   "cell_type": "code",
   "execution_count": 89,
   "outputs": [
    {
     "name": "stdout",
     "output_type": "stream",
     "text": [
      "+--------------------+-------------+---------------+------------------+------------------+\n",
      "|               event|    chembl_id|       targetId|               llr|           critval|\n",
      "+--------------------+-------------+---------------+------------------+------------------+\n",
      "| acute kidney injury| CHEMBL289480|ENSG00000010322|195.84136964049594| 8.493369839319712|\n",
      "|            delirium| CHEMBL289480|ENSG00000010322| 15.25061893917973| 8.493369839319712|\n",
      "|             prurigo| CHEMBL289480|ENSG00000010322|12.377978259030897| 8.493369839319712|\n",
      "|             syncope|  CHEMBL19236|ENSG00000010322|29.380202199034102| 8.493369839319712|\n",
      "|general physical ...|  CHEMBL19236|ENSG00000010322|22.873389389446857| 8.493369839319712|\n",
      "| penile size reduced|CHEMBL2108709|ENSG00000204291|43.160464450156724|10.001785956366072|\n",
      "|wound infection p...|CHEMBL2108709|ENSG00000204291| 15.25582584750191|10.001785956366072|\n",
      "|cardiovascular in...| CHEMBL289480|ENSG00000010322|16.934263449239552| 8.493369839319712|\n",
      "| disease progression|    CHEMBL888|ENSG00000100479|  981.492596725293| 627.0071562962839|\n",
      "|orthostatic hypot...|  CHEMBL19236|ENSG00000010322|  74.8678462796297| 8.493369839319712|\n",
      "|primary hyperaldo...| CHEMBL289480|ENSG00000010322| 31.13138517275911| 8.493369839319712|\n",
      "|       hyperkalaemia| CHEMBL289480|ENSG00000010322|137.33499462624604| 8.493369839319712|\n",
      "|  hyperlactacidaemia| CHEMBL289480|ENSG00000010322| 9.227706640364886| 8.493369839319712|\n",
      "| peripheral embolism|  CHEMBL19236|ENSG00000010322| 11.46981879480063| 8.493369839319712|\n",
      "|      tendon rupture|CHEMBL2108709|ENSG00000204291|140.77708826637536|10.001785956366072|\n",
      "|application site ...|CHEMBL2108709|ENSG00000204291|10.435802812255133|10.001785956366072|\n",
      "|pericarditis cons...| CHEMBL289480|ENSG00000010322|11.572087160961928| 8.493369839319712|\n",
      "|     penile erythema|CHEMBL2108709|ENSG00000204291|24.465339005797432|10.001785956366072|\n",
      "|           diarrhoea|CHEMBL2108709|ENSG00000204291|27.379643891876185|10.001785956366072|\n",
      "|     bradyarrhythmia|  CHEMBL19236|ENSG00000010322|21.021266867298436| 8.493369839319712|\n",
      "+--------------------+-------------+---------------+------------------+------------------+\n",
      "only showing top 20 rows\n",
      "\n"
     ]
    }
   ],
   "source": [
    "# --> How is it possible that there are event/target pairs in the significant set which are not present in the whole one?\n",
    "\n",
    "significantAdverseTargetReactions.select('event', 'chembl_id', 'targetId', 'llr', 'critval').join(\n",
    "    adverseTargetReactions.withColumnRenamed('reaction_reactionmeddrapt', 'event').select('event', 'chembl_id', 'targetId').distinct(),\n",
    "    on=['event', 'chembl_id', 'targetId'], how='left_anti'\n",
    ").show()"
   ],
   "metadata": {
    "collapsed": false,
    "pycharm": {
     "name": "#%%\n"
    }
   }
  },
  {
   "cell_type": "code",
   "execution_count": 86,
   "outputs": [
    {
     "data": {
      "text/plain": "0"
     },
     "execution_count": 86,
     "metadata": {},
     "output_type": "execute_result"
    }
   ],
   "source": [
    "adverseTargetReactions.filter(F.col('reaction_reactionmeddrapt') == 'acute kidney injury').filter(F.col('targetId') == 'ENSG00000010322').count()"
   ],
   "metadata": {
    "collapsed": false,
    "pycharm": {
     "name": "#%%\n"
    }
   }
  },
  {
   "cell_type": "markdown",
   "source": [
    "### 1.1.2. Is this also the case for the analysis on the drugs? Nope!"
   ],
   "metadata": {
    "collapsed": false,
    "pycharm": {
     "name": "#%% md\n"
    }
   }
  },
  {
   "cell_type": "code",
   "execution_count": 91,
   "outputs": [],
   "source": [
    "adverseDrugReactions = spark.read.parquet('/Users/irene/Documents/dev/datasets/openfda/adverseDrugReactions')\n",
    "\n",
    "significantAdverseDrugReactions = spark.read.parquet('/Users/irene/Documents/dev/datasets/openfda/significantAdverseDrugReactions')"
   ],
   "metadata": {
    "collapsed": false,
    "pycharm": {
     "name": "#%%\n"
    }
   }
  },
  {
   "cell_type": "code",
   "execution_count": 92,
   "outputs": [
    {
     "name": "stdout",
     "output_type": "stream",
     "text": [
      "Row(chembl_id='CHEMBL117785', reaction_reactionmeddrapt='abasia', uniq_report_ids_by_reaction=6696, uniq_report_ids_by_drug=1452, A=3, C=1449, B=6693, D=4750650, aterm=-23.131959970503605, cterm=-11730.333176658552, acterm=-11753.660994590573, llr=0.19585796151659451, meddraCode='10049460')\n",
      "Row(chembl_id='CHEMBL1148', event='acute kidney injury', count=190, llr=219.10278395369824, critval=31.822831907447835, meddraCode='10069339')\n"
     ]
    }
   ],
   "source": [
    "print(adverseDrugReactions.first())\n",
    "print(significantAdverseDrugReactions.first())"
   ],
   "metadata": {
    "collapsed": false,
    "pycharm": {
     "name": "#%%\n"
    }
   }
  },
  {
   "cell_type": "code",
   "execution_count": 93,
   "outputs": [
    {
     "name": "stdout",
     "output_type": "stream",
     "text": [
      "+-----+---------+---+-------+\n",
      "|event|chembl_id|llr|critval|\n",
      "+-----+---------+---+-------+\n",
      "+-----+---------+---+-------+\n",
      "\n"
     ]
    }
   ],
   "source": [
    "significantAdverseDrugReactions.select('event', 'chembl_id', 'llr', 'critval').join(\n",
    "    adverseDrugReactions.withColumnRenamed('reaction_reactionmeddrapt', 'event').select('event', 'chembl_id').distinct(),\n",
    "    on=['event', 'chembl_id'], how='left_anti'\n",
    ").show()"
   ],
   "metadata": {
    "collapsed": false,
    "pycharm": {
     "name": "#%%\n"
    }
   }
  },
  {
   "cell_type": "markdown",
   "source": [
    "### 1.2. How is the target inferred? --> Via the MoA. Does it strictly use drug's linkedTargets? Yes"
   ],
   "metadata": {
    "collapsed": false,
    "pycharm": {
     "name": "#%% md\n"
    }
   }
  },
  {
   "cell_type": "code",
   "execution_count": 22,
   "outputs": [
    {
     "name": "stdout",
     "output_type": "stream",
     "text": [
      "Row(chembl_id='CHEMBL3833368', llr=150.8579735206149, critval=82.77017808906385, event='abdominal discomfort', targetId='ENSG00000041880', count=217, meddraCode='10000059')\n"
     ]
    }
   ],
   "source": [
    "print(significantAdverseTargetReactions.first())"
   ],
   "metadata": {
    "collapsed": false,
    "pycharm": {
     "name": "#%%\n"
    }
   }
  },
  {
   "cell_type": "code",
   "execution_count": 36,
   "outputs": [
    {
     "name": "stdout",
     "output_type": "stream",
     "text": [
      "+-------------+---------------------------------------------------+\n",
      "|chembl_id    |targets                                            |\n",
      "+-------------+---------------------------------------------------+\n",
      "|CHEMBL3833368|[ENSG00000143799, ENSG00000129484, ENSG00000041880]|\n",
      "+-------------+---------------------------------------------------+\n",
      "\n"
     ]
    }
   ],
   "source": [
    "drug_idx = (\n",
    "    spark.read.parquet('/Users/irene/Documents/dev/pyspark/21.09.5/molecule')\n",
    "    .select(F.col('id').alias('chembl_id'), F.col('linkedTargets.rows').alias('targets'))\n",
    ")\n",
    "drug_idx.filter(F.col('chembl_id') == 'CHEMBL3833368').show(truncate=False)"
   ],
   "metadata": {
    "collapsed": false,
    "pycharm": {
     "name": "#%%\n"
    }
   }
  },
  {
   "cell_type": "markdown",
   "source": [
    "### 1.1.1. Drugs with no associated target. Do we have AEs? --> No"
   ],
   "metadata": {
    "collapsed": false,
    "pycharm": {
     "name": "#%% md\n"
    }
   }
  },
  {
   "cell_type": "code",
   "execution_count": 99,
   "outputs": [
    {
     "name": "stdout",
     "output_type": "stream",
     "text": [
      "+-------------+\n",
      "|    chembl_id|\n",
      "+-------------+\n",
      "| CHEMBL110739|\n",
      "|   CHEMBL1195|\n",
      "|CHEMBL1200632|\n",
      "|CHEMBL1200691|\n",
      "|CHEMBL1201042|\n",
      "+-------------+\n",
      "only showing top 5 rows\n",
      "\n"
     ]
    }
   ],
   "source": [
    "drugs_without_target = drug_idx.filter(F.col('targets').isNull()).select('chembl_id').distinct()\n",
    "drugs_without_target.show(5)"
   ],
   "metadata": {
    "collapsed": false,
    "pycharm": {
     "name": "#%%\n"
    }
   }
  },
  {
   "cell_type": "code",
   "execution_count": null,
   "outputs": [],
   "source": [
    "adverseTargetReactions.join(drugs_without_target, on='chembl_id', how='inner').count()"
   ],
   "metadata": {
    "collapsed": false,
    "pycharm": {
     "name": "#%%\n"
    }
   }
  },
  {
   "cell_type": "code",
   "execution_count": 100,
   "outputs": [
    {
     "name": "stdout",
     "output_type": "stream",
     "text": [
      "0\n",
      "0\n"
     ]
    }
   ],
   "source": [
    "print(adverseTargetReactions.join(drugs_without_target, on='chembl_id', how='inner').count())\n",
    "print(significantAdverseTargetReactions.join(drugs_without_target, on='chembl_id', how='inner').count())"
   ],
   "metadata": {
    "collapsed": false,
    "pycharm": {
     "name": "#%%\n"
    }
   }
  },
  {
   "cell_type": "markdown",
   "source": [
    "### 1.1.2. Drugs with 1 associated target. Do we have AEs with only 1 target? --> Yes"
   ],
   "metadata": {
    "collapsed": false,
    "pycharm": {
     "name": "#%% md\n"
    }
   }
  },
  {
   "cell_type": "code",
   "execution_count": 101,
   "outputs": [
    {
     "name": "stdout",
     "output_type": "stream",
     "text": [
      "+-------------+\n",
      "|    chembl_id|\n",
      "+-------------+\n",
      "|CHEMBL1743017|\n",
      "|CHEMBL2105675|\n",
      "|CHEMBL2107826|\n",
      "|CHEMBL2346976|\n",
      "|CHEMBL3545005|\n",
      "+-------------+\n",
      "only showing top 5 rows\n",
      "\n"
     ]
    }
   ],
   "source": [
    "drugs_one_target = drug_idx.filter(F.size('targets') == 1).select('chembl_id').distinct()\n",
    "drugs_one_target.show(5)"
   ],
   "metadata": {
    "collapsed": false,
    "pycharm": {
     "name": "#%%\n"
    }
   }
  },
  {
   "cell_type": "code",
   "execution_count": 105,
   "outputs": [
    {
     "data": {
      "text/plain": "Row(chembl_id='CHEMBL1201294', targets=['ENSG00000112038'], size=1)"
     },
     "execution_count": 105,
     "metadata": {},
     "output_type": "execute_result"
    }
   ],
   "source": [
    "(\n",
    "    adverseTargetReactions.join(drugs_one_target, on='chembl_id', how='inner')\n",
    "    .groupby('chembl_id').agg(F.collect_set('targetId').alias('targets'))\n",
    "    .withColumn('size', F.size('targets')).orderBy(F.col('size').desc())\n",
    "    .first()\n",
    ")"
   ],
   "metadata": {
    "collapsed": false,
    "pycharm": {
     "name": "#%%\n"
    }
   }
  },
  {
   "cell_type": "markdown",
   "source": [
    "### 1.1.3. Drugs with multiple associated targets. Do we have AEs with multiple targets? --> Yes, but numbers can discern."
   ],
   "metadata": {
    "collapsed": false,
    "pycharm": {
     "name": "#%% md\n"
    }
   }
  },
  {
   "cell_type": "code",
   "execution_count": 106,
   "outputs": [
    {
     "name": "stdout",
     "output_type": "stream",
     "text": [
      "+----------+----------------------------------+----+\n",
      "|chembl_id |targets                           |size|\n",
      "+----------+----------------------------------+----+\n",
      "|CHEMBL1228|[ENSG00000073756, ENSG00000095303]|2   |\n",
      "|CHEMBL1297|[ENSG00000073756, ENSG00000095303]|2   |\n",
      "|CHEMBL1671|[ENSG00000169252, ENSG00000043591]|2   |\n",
      "+----------+----------------------------------+----+\n",
      "only showing top 3 rows\n",
      "\n"
     ]
    }
   ],
   "source": [
    "drug_idx.filter(F.size('targets') > 1).show(3, truncate=False)"
   ],
   "metadata": {
    "collapsed": false,
    "pycharm": {
     "name": "#%%\n"
    }
   }
  },
  {
   "cell_type": "code",
   "execution_count": 61,
   "outputs": [
    {
     "name": "stdout",
     "output_type": "stream",
     "text": [
      "+---------------+-----+\n",
      "|       targetId|count|\n",
      "+---------------+-----+\n",
      "|ENSG00000143924|  256|\n",
      "|ENSG00000165731|  123|\n",
      "|ENSG00000171094|  246|\n",
      "+---------------+-----+\n",
      "\n",
      "None\n",
      "+--------+-----+\n",
      "|targetId|count|\n",
      "+--------+-----+\n",
      "+--------+-----+\n",
      "\n",
      "None\n"
     ]
    }
   ],
   "source": [
    "print(adverseTargetReactions.filter(F.col('chembl_id') == 'CHEMBL1738797').groupby('targetId').count().show())\n",
    "print(significantAdverseTargetReactions.filter(F.col('chembl_id') == 'CHEMBL1738797').groupby('targetId').count().show())"
   ],
   "metadata": {
    "collapsed": false,
    "pycharm": {
     "name": "#%%\n"
    }
   }
  },
  {
   "cell_type": "code",
   "execution_count": 111,
   "outputs": [
    {
     "name": "stdout",
     "output_type": "stream",
     "text": [
      "-RECORD 0------------------------------------------------------------------------------------------------------------------------------------------------------------------------------------------------\n",
      " chembl_id | CHEMBL1637                                                                                                                                                                                  \n",
      " targets   | [ENSG00000177084, ENSG00000101868, ENSG00000146143, ENSG00000062822, ENSG00000167325, ENSG00000148229, ENSG00000198056, ENSG00000077514, ENSG00000106628, ENSG00000014138, ENSG00000175482] \n",
      " size      | 11                                                                                                                                                                                          \n",
      "only showing top 1 row\n",
      "\n"
     ]
    }
   ],
   "source": [
    "# Extract maximum number of targets for both datasets\n",
    "\n",
    "drug_idx = drug_idx.withColumn('size', F.size('targets'))\n",
    "\n",
    "adverseTargetReactions_2 = (\n",
    "    adverseTargetReactions.groupby('chembl_id').agg(F.collect_set('targetId').alias('targets'))\n",
    "    .withColumn('size', F.size('targets'))\n",
    ")\n",
    "\n",
    "adverseTargetReactions_2.show(1, False, True)"
   ],
   "metadata": {
    "collapsed": false,
    "pycharm": {
     "name": "#%%\n"
    }
   }
  },
  {
   "cell_type": "code",
   "execution_count": 67,
   "outputs": [
    {
     "name": "stdout",
     "output_type": "stream",
     "text": [
      "-RECORD 0------------------------------------------------------------------------------------------------------------------------------------------------------------------------------------------------\n",
      " chembl_id | CHEMBL1637                                                                                                                                                                                  \n",
      " size      | 11                                                                                                                                                                                          \n",
      " targets   | [ENSG00000177084, ENSG00000101868, ENSG00000146143, ENSG00000062822, ENSG00000167325, ENSG00000148229, ENSG00000198056, ENSG00000077514, ENSG00000106628, ENSG00000014138, ENSG00000175482] \n",
      "-RECORD 1------------------------------------------------------------------------------------------------------------------------------------------------------------------------------------------------\n",
      " chembl_id | CHEMBL888                                                                                                                                                                                   \n",
      " size      | 11                                                                                                                                                                                          \n",
      " targets   | [ENSG00000177084, ENSG00000101868, ENSG00000146143, ENSG00000062822, ENSG00000167325, ENSG00000148229, ENSG00000198056, ENSG00000077514, ENSG00000106628, ENSG00000014138, ENSG00000175482] \n",
      "-RECORD 2------------------------------------------------------------------------------------------------------------------------------------------------------------------------------------------------\n",
      " chembl_id | CHEMBL3622533                                                                                                                                                                               \n",
      " size      | 1                                                                                                                                                                                           \n",
      " targets   | [ENSG00000051382]                                                                                                                                                                           \n",
      "-RECORD 3------------------------------------------------------------------------------------------------------------------------------------------------------------------------------------------------\n",
      " chembl_id | CHEMBL1088752                                                                                                                                                                               \n",
      " size      | 1                                                                                                                                                                                           \n",
      " targets   | [ENSG00000112062]                                                                                                                                                                           \n",
      "-RECORD 4------------------------------------------------------------------------------------------------------------------------------------------------------------------------------------------------\n",
      " chembl_id | CHEMBL1643895                                                                                                                                                                               \n",
      " size      | 4                                                                                                                                                                                           \n",
      " targets   | [ENSG00000149305, ENSG00000186090, ENSG00000178084, ENSG00000186038]                                                                                                                        \n",
      "only showing top 5 rows\n",
      "\n"
     ]
    }
   ],
   "source": [
    "adverseTargetReactions_2.join(drug_idx, on=['chembl_id', 'size'], how='left_anti').show(5, False, True)"
   ],
   "metadata": {
    "collapsed": false,
    "pycharm": {
     "name": "#%%\n"
    }
   }
  },
  {
   "cell_type": "code",
   "execution_count": 112,
   "outputs": [
    {
     "name": "stdout",
     "output_type": "stream",
     "text": [
      "Sometimes there are less targets in the FAERS analysis than in the drugs set (1 instead of 14)?:\n",
      "+-------------+--------------------+----+\n",
      "|    chembl_id|             targets|size|\n",
      "+-------------+--------------------+----+\n",
      "|CHEMBL3622533|[ENSG00000094631,...|  14|\n",
      "+-------------+--------------------+----+\n",
      "\n",
      "None\n",
      "+-------------+-----------------+----+\n",
      "|    chembl_id|          targets|size|\n",
      "+-------------+-----------------+----+\n",
      "|CHEMBL3622533|[ENSG00000051382]|   1|\n",
      "+-------------+-----------------+----+\n",
      "\n",
      "None\n"
     ]
    }
   ],
   "source": [
    "print('Sometimes there are less targets in the FAERS analysis than in the drugs set (1 instead of 14)?:')\n",
    "print(drug_idx.filter(F.col('chembl_id') == 'CHEMBL3622533').show())\n",
    "print(adverseTargetReactions_2.filter(F.col('chembl_id') == 'CHEMBL3622533').show())"
   ],
   "metadata": {
    "collapsed": false,
    "pycharm": {
     "name": "#%%\n"
    }
   }
  },
  {
   "cell_type": "code",
   "execution_count": null,
   "outputs": [],
   "source": [],
   "metadata": {
    "collapsed": false,
    "pycharm": {
     "name": "#%%\n"
    }
   }
  }
 ],
 "metadata": {
  "kernelspec": {
   "display_name": "Python 3",
   "language": "python",
   "name": "python3"
  },
  "language_info": {
   "codemirror_mode": {
    "name": "ipython",
    "version": 2
   },
   "file_extension": ".py",
   "mimetype": "text/x-python",
   "name": "python",
   "nbconvert_exporter": "python",
   "pygments_lexer": "ipython2",
   "version": "2.7.6"
  }
 },
 "nbformat": 4,
 "nbformat_minor": 0
}