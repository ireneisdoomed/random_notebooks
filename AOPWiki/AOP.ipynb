{
 "cells": [
  {
   "cell_type": "code",
   "execution_count": 1,
   "metadata": {
    "collapsed": true
   },
   "outputs": [],
   "source": [
    "import pandas as pd\n",
    "from pyspark.sql import DataFrame, SparkSession\n",
    "import pyspark.sql.functions as F\n",
    "from pyspark.sql.types import *\n",
    "\n",
    "spark = (SparkSession.builder\n",
    "         .master('local[*]')\n",
    "         .config(\"spark.driver.memory\", \"15g\")\n",
    "         .appName('spark')\n",
    "         .getOrCreate())"
   ]
  },
  {
   "cell_type": "markdown",
   "source": [
    "## Generate table with main pieces of information from AOPWiki\n",
    "\n",
    "To include:\n",
    "- AOP id\n",
    "- Adverse Outcome\n",
    "- Mapped Adverse Outcome to EFO\n",
    "- Target Name\n",
    "- Mapped target to ENSEMBL\n",
    "- Key Event title\n",
    "- OECD Status\n",
    "- Species applicability\n",
    "- Reference"
   ],
   "metadata": {
    "collapsed": false,
    "pycharm": {
     "name": "#%% md\n"
    }
   }
  },
  {
   "cell_type": "code",
   "execution_count": 25,
   "outputs": [],
   "source": [
    "## Load datasets generated from the AOPWiki XML\n",
    "\n",
    "aop = spark.read.json('/Users/irene/Documents/dev/datasets/aopV1')\n",
    "ke = spark.read.json('/Users/irene/Documents/dev/datasets/keV1/part-00000-966ef78b-2361-42b3-99fe-ab3cb9d07d6e-c000.json').drop('references')"
   ],
   "metadata": {
    "collapsed": false,
    "pycharm": {
     "name": "#%%\n"
    }
   }
  },
  {
   "cell_type": "markdown",
   "source": [
    "### 1. AOP id + Reference + status"
   ],
   "metadata": {
    "collapsed": false,
    "pycharm": {
     "name": "#%% md\n"
    }
   }
  },
  {
   "cell_type": "code",
   "execution_count": 4,
   "outputs": [
    {
     "name": "stdout",
     "output_type": "stream",
     "text": [
      "root\n",
      " |-- id: long (nullable = true)\n",
      " |-- keyEvents: array (nullable = true)\n",
      " |    |-- element: struct (containsNull = true)\n",
      " |    |    |-- id: long (nullable = true)\n",
      " |    |    |-- type: string (nullable = true)\n",
      " |-- status: string (nullable = true)\n",
      " |-- stressors: array (nullable = true)\n",
      " |    |-- element: struct (containsNull = true)\n",
      " |    |    |-- chemicalId: long (nullable = true)\n",
      " |    |    |-- inchiKey: string (nullable = true)\n",
      " |    |    |-- name: string (nullable = true)\n",
      " |    |    |-- preferredName: string (nullable = true)\n",
      " |    |    |-- qualityAssurance: string (nullable = true)\n",
      " |    |    |-- synonyms: array (nullable = true)\n",
      " |    |    |    |-- element: string (containsNull = true)\n",
      " |-- title: string (nullable = true)\n",
      "\n"
     ]
    }
   ],
   "source": [
    "aop.printSchema()"
   ],
   "metadata": {
    "collapsed": false,
    "pycharm": {
     "name": "#%%\n"
    }
   }
  },
  {
   "cell_type": "code",
   "execution_count": 93,
   "outputs": [
    {
     "name": "stdout",
     "output_type": "stream",
     "text": [
      "+-----+--------------------+------+--------------------+--------------------+\n",
      "|aopId|           keyEvents|status|             aopName|           reference|\n",
      "+-----+--------------------+------+--------------------+--------------------+\n",
      "|  177|[{1104, key-event...|  null|Cyclooxygenase 1 ...|https://aopwiki.o...|\n",
      "|  398|[{1880, molecular...|  null|Inhibition of ALD...|https://aopwiki.o...|\n",
      "|  242|[{1466, key-event...|  null|Inhibition of lys...|https://aopwiki.o...|\n",
      "|  241|[{68, key-event},...|  null|Latent Transformi...|https://aopwiki.o...|\n",
      "|  260|[{1513, key-event...|  null|CYP2E1 activation...|https://aopwiki.o...|\n",
      "+-----+--------------------+------+--------------------+--------------------+\n",
      "only showing top 5 rows\n",
      "\n"
     ]
    }
   ],
   "source": [
    "wip = (aop\n",
    "       .select(F.col('id').alias('aopId'), 'keyEvents', 'status', F.col('title').alias('aopName'))\n",
    "       .withColumn('reference', F.concat(F.lit('https://aopwiki.org/aops/'), F.col('aopId')))\n",
    "       )\n",
    "\n",
    "wip.show(5)"
   ],
   "metadata": {
    "collapsed": false,
    "pycharm": {
     "name": "#%%\n"
    }
   }
  },
  {
   "cell_type": "markdown",
   "source": [
    "### 2. Adverse Outcome"
   ],
   "metadata": {
    "collapsed": false,
    "pycharm": {
     "name": "#%% md\n"
    }
   }
  },
  {
   "cell_type": "code",
   "execution_count": 94,
   "outputs": [
    {
     "name": "stdout",
     "output_type": "stream",
     "text": [
      "+----------------+-----+--------------------+------+--------------------+--------------------+--------------------+\n",
      "|adverseOutcomeId|aopId|           keyEvents|status|             aopName|           reference|      adverseOutcome|\n",
      "+----------------+-----+--------------------+------+--------------------+--------------------+--------------------+\n",
      "|             351|  177|[{1104, key-event...|  null|Cyclooxygenase 1 ...|https://aopwiki.o...| Increased Mortality|\n",
      "|             361|  177|[{1104, key-event...|  null|Cyclooxygenase 1 ...|https://aopwiki.o...| Decline, Population|\n",
      "|             972|  398|[{1880, molecular...|  null|Inhibition of ALD...|https://aopwiki.o...|Decreased fertili...|\n",
      "|             636|  242|[{1466, key-event...|  null|Inhibition of lys...|https://aopwiki.o...| Decreased, survival|\n",
      "|            1467|  242|[{1466, key-event...|  null|Inhibition of lys...|https://aopwiki.o...|   Growth, reduction|\n",
      "+----------------+-----+--------------------+------+--------------------+--------------------+--------------------+\n",
      "only showing top 5 rows\n",
      "\n"
     ]
    }
   ],
   "source": [
    "wip = (\n",
    "    # Explode all KE listed in an AOP and filter only the AO ones\n",
    "    wip.withColumn('keyEvent', F.explode('keyEvents'))\n",
    "    .filter(F.col('keyEvent.type') == 'adverse-outcome')\n",
    "\n",
    "    .withColumn('adverseOutcomeId', F.col('keyEvent.id'))\n",
    "\n",
    "    # Join with KE dataset to extract the title of the KE\n",
    "    .join(\n",
    "        ke.select(F.col('id').alias('adverseOutcomeId'), F.col('title').alias('adverseOutcome')),\n",
    "        on='adverseOutcomeId', how='left'\n",
    "    )\n",
    "\n",
    "    .drop('keyEvent')\n",
    ")\n",
    "\n",
    "wip.show(5)"
   ],
   "metadata": {
    "collapsed": false,
    "pycharm": {
     "name": "#%%\n"
    }
   }
  },
  {
   "cell_type": "markdown",
   "source": [
    "### 3. Target name"
   ],
   "metadata": {
    "collapsed": false,
    "pycharm": {
     "name": "#%% md\n"
    }
   }
  },
  {
   "cell_type": "code",
   "execution_count": 95,
   "outputs": [
    {
     "data": {
      "text/plain": "Row(biologicalEvents=[Row(action='decreased', object=Row(name='NADH-ubiquinone oxidoreductase chain 1', source='PR', sourceId='PR:000031316'), process='NADH dehydrogenase (ubiquinone) activity')], biologicalOrganisationLevel='Cellular', id=887, keyEventStressors=[\"1',2'-dihydrorotenone\"], organTerm=Row(name=None, sourceId=None), title='Inhibition, NADH-ubiquinone oxidoreductase  (complex I)', be=Row(action='decreased', object=Row(name='NADH-ubiquinone oxidoreductase chain 1', source='PR', sourceId='PR:000031316'), process='NADH dehydrogenase (ubiquinone) activity'))"
     },
     "execution_count": 95,
     "metadata": {},
     "output_type": "execute_result"
    }
   ],
   "source": [
    "# Extracted from KE where the biological event is a Protein Ontology (PRO) ID\n",
    "ke.withColumn('be', F.explode('biologicalEvents')).filter(F.col('be.object.source') == 'PR').first()"
   ],
   "metadata": {
    "collapsed": false,
    "pycharm": {
     "name": "#%%\n"
    }
   }
  },
  {
   "cell_type": "code",
   "execution_count": 96,
   "outputs": [
    {
     "name": "stdout",
     "output_type": "stream",
     "text": [
      "+----------+--------------------+\n",
      "|keyEventId|          targetName|\n",
      "+----------+--------------------+\n",
      "|       887|NADH-ubiquinone o...|\n",
      "|       888|NADH-ubiquinone o...|\n",
      "|      1265|nuclear hormone r...|\n",
      "|      1266|cardioactive pept...|\n",
      "|       858|peroxisome prolif...|\n",
      "+----------+--------------------+\n",
      "only showing top 5 rows\n",
      "\n"
     ]
    }
   ],
   "source": [
    "targets = (\n",
    "    ke.withColumn('be', F.explode('biologicalEvents'))\n",
    "    .filter(F.col('be.object.source') == 'PR')\n",
    "    .withColumn('targetName', F.col('be.object.name'))\n",
    "    .select(F.col('id').alias('keyEventId'), 'targetName')\n",
    ")\n",
    "\n",
    "targets.show(5)"
   ],
   "metadata": {
    "collapsed": false,
    "pycharm": {
     "name": "#%%\n"
    }
   }
  },
  {
   "cell_type": "code",
   "execution_count": 97,
   "outputs": [
    {
     "name": "stdout",
     "output_type": "stream",
     "text": [
      "-RECORD 0--------------------------------------------------------------------------------------------------------------------------------------------------------------------------------------------------------------------------------------------------------\n",
      " keyEventId       | 1103                                                                                                                                                                                                                                         \n",
      " adverseOutcomeId | 351                                                                                                                                                                                                                                          \n",
      " aopId            | 177                                                                                                                                                                                                                                          \n",
      " keyEvents        | [{1104, key-event}, {1103, molecular-initiating-event}, {351, adverse-outcome}, {1105, key-event}, {361, adverse-outcome}, {1096, key-event}, {1097, key-event}, {1102, key-event}, {1098, key-event}, {1106, key-event}, {1088, key-event}] \n",
      " status           | null                                                                                                                                                                                                                                         \n",
      " aopName          | Cyclooxygenase 1 (COX1) inhibition leading to renal failure and mortality                                                                                                                                                                    \n",
      " reference        | https://aopwiki.org/aops/177                                                                                                                                                                                                                 \n",
      " adverseOutcome   | Increased Mortality                                                                                                                                                                                                                          \n",
      " targetName       | prostaglandin G/H synthase 1                                                                                                                                                                                                                 \n",
      "-RECORD 1--------------------------------------------------------------------------------------------------------------------------------------------------------------------------------------------------------------------------------------------------------\n",
      " keyEventId       | 1103                                                                                                                                                                                                                                         \n",
      " adverseOutcomeId | 361                                                                                                                                                                                                                                          \n",
      " aopId            | 177                                                                                                                                                                                                                                          \n",
      " keyEvents        | [{1104, key-event}, {1103, molecular-initiating-event}, {351, adverse-outcome}, {1105, key-event}, {361, adverse-outcome}, {1096, key-event}, {1097, key-event}, {1102, key-event}, {1098, key-event}, {1106, key-event}, {1088, key-event}] \n",
      " status           | null                                                                                                                                                                                                                                         \n",
      " aopName          | Cyclooxygenase 1 (COX1) inhibition leading to renal failure and mortality                                                                                                                                                                    \n",
      " reference        | https://aopwiki.org/aops/177                                                                                                                                                                                                                 \n",
      " adverseOutcome   | Decline, Population                                                                                                                                                                                                                          \n",
      " targetName       | prostaglandin G/H synthase 1                                                                                                                                                                                                                 \n",
      "-RECORD 2--------------------------------------------------------------------------------------------------------------------------------------------------------------------------------------------------------------------------------------------------------\n",
      " keyEventId       | 1064                                                                                                                                                                                                                                         \n",
      " adverseOutcomeId | 1070                                                                                                                                                                                                                                         \n",
      " aopId            | 167                                                                                                                                                                                                                                          \n",
      " keyEvents        | [{1069, key-event}, {1064, molecular-initiating-event}, {1070, adverse-outcome}, {1068, key-event}, {1065, key-event}, {1066, key-event}, {1067, key-event}]                                                                                 \n",
      " status           | null                                                                                                                                                                                                                                         \n",
      " aopName          | Early-life estrogen receptor activity leading to endometrial carcinoma in the mouse.                                                                                                                                                         \n",
      " reference        | https://aopwiki.org/aops/167                                                                                                                                                                                                                 \n",
      " adverseOutcome   | Increased, adenosquamous carcinomas of endometrium                                                                                                                                                                                           \n",
      " targetName       | estrogen receptor                                                                                                                                                                                                                            \n",
      "-RECORD 3--------------------------------------------------------------------------------------------------------------------------------------------------------------------------------------------------------------------------------------------------------\n",
      " keyEventId       | 1065                                                                                                                                                                                                                                         \n",
      " adverseOutcomeId | 1070                                                                                                                                                                                                                                         \n",
      " aopId            | 167                                                                                                                                                                                                                                          \n",
      " keyEvents        | [{1069, key-event}, {1064, molecular-initiating-event}, {1070, adverse-outcome}, {1068, key-event}, {1065, key-event}, {1066, key-event}, {1067, key-event}]                                                                                 \n",
      " status           | null                                                                                                                                                                                                                                         \n",
      " aopName          | Early-life estrogen receptor activity leading to endometrial carcinoma in the mouse.                                                                                                                                                         \n",
      " reference        | https://aopwiki.org/aops/167                                                                                                                                                                                                                 \n",
      " adverseOutcome   | Increased, adenosquamous carcinomas of endometrium                                                                                                                                                                                           \n",
      " targetName       | estrogen receptor alpha complex                                                                                                                                                                                                              \n",
      "-RECORD 4--------------------------------------------------------------------------------------------------------------------------------------------------------------------------------------------------------------------------------------------------------\n",
      " keyEventId       | 1066                                                                                                                                                                                                                                         \n",
      " adverseOutcomeId | 1070                                                                                                                                                                                                                                         \n",
      " aopId            | 167                                                                                                                                                                                                                                          \n",
      " keyEvents        | [{1069, key-event}, {1064, molecular-initiating-event}, {1070, adverse-outcome}, {1068, key-event}, {1065, key-event}, {1066, key-event}, {1067, key-event}]                                                                                 \n",
      " status           | null                                                                                                                                                                                                                                         \n",
      " aopName          | Early-life estrogen receptor activity leading to endometrial carcinoma in the mouse.                                                                                                                                                         \n",
      " reference        | https://aopwiki.org/aops/167                                                                                                                                                                                                                 \n",
      " adverseOutcome   | Increased, adenosquamous carcinomas of endometrium                                                                                                                                                                                           \n",
      " targetName       | homeobox protein SIX1                                                                                                                                                                                                                        \n",
      "only showing top 5 rows\n",
      "\n"
     ]
    }
   ],
   "source": [
    "# Merge the target data with the wip dataset\n",
    "\n",
    "wip = (\n",
    "    wip\n",
    "\n",
    "    # First I extract all KE IDs per AOP\n",
    "    .withColumn('keyEventId', F.explode('keyEvents'))\n",
    "    .withColumn('keyEventId', F.col('keyEventId.id'))\n",
    "\n",
    "    # I can now join it with the targets dataset\n",
    "    # Inner join: only interested in AOPs for which there is a target\n",
    "    .join(targets, on='keyEventId', how='inner')\n",
    ")\n",
    "\n",
    "wip.show(5, False, True)"
   ],
   "metadata": {
    "collapsed": false,
    "pycharm": {
     "name": "#%%\n"
    }
   }
  },
  {
   "cell_type": "markdown",
   "source": [
    "### 4. Key Event name"
   ],
   "metadata": {
    "collapsed": false,
    "pycharm": {
     "name": "#%% md\n"
    }
   }
  },
  {
   "cell_type": "code",
   "execution_count": 98,
   "outputs": [
    {
     "data": {
      "text/plain": "Row(aopId=29, keyEvents=[Row(keyEventId=111, keyEventName='Agonism, Estrogen receptor'), Row(keyEventId=252, keyEventName='Increase, Renal pathology due to VTG deposition'), Row(keyEventId=364, keyEventName='Impaired development of, Reproductive organs'), Row(keyEventId=363, keyEventName='Altered, Reproductive behaviour'), Row(keyEventId=339, keyEventName='Altered, Larval development'), Row(keyEventId=360, keyEventName='Decrease, Population trajectory'), Row(keyEventId=78, keyEventName='Reduction, Cumulative fecundity and spawning'), Row(keyEventId=307, keyEventName='Increase, Vitellogenin synthesis in liver'), Row(keyEventId=220, keyEventName='Increase, Plasma vitellogenin concentrations')])"
     },
     "execution_count": 98,
     "metadata": {},
     "output_type": "execute_result"
    }
   ],
   "source": [
    "ke_names = (\n",
    "\n",
    "    wip.select('keyEvents', 'aopId').distinct()\n",
    "    # Explode KEs again to have all KEs, not just the ones with a target\n",
    "    .withColumn('keyEventId', F.explode('keyEvents.id'))\n",
    "\n",
    "    # Bring name of the KE\n",
    "    .join(\n",
    "        ke.select(F.col('id').alias('keyEventId'), F.col('title').alias('keyEventName')),\n",
    "        on='keyEventId', how='left')\n",
    "\n",
    "    # Group KE in a struct\n",
    "    .withColumn('keyEvents', F.struct('keyEventId', 'keyEventName'))\n",
    "    # The KE dataset has a lot of duplication with NaN values - I'll remove them\n",
    "    # TODO: Filter out KE describing AO\n",
    "    .filter(F.col('keyEvents.keyEventName').isNotNull())\n",
    "\n",
    "    .groupby('aopId')\n",
    "    .agg(F.collect_set('keyEvents').alias('keyEvents'))\n",
    "\n",
    ")\n",
    "\n",
    "ke_names.first()"
   ],
   "metadata": {
    "collapsed": false,
    "pycharm": {
     "name": "#%%\n"
    }
   }
  },
  {
   "cell_type": "code",
   "execution_count": 99,
   "outputs": [
    {
     "name": "stdout",
     "output_type": "stream",
     "text": [
      "-RECORD 0-------------------------------------------------------------------------------------------------------------------------------------------------------------------------------------------------------------------------------------------------------------------------------------------------------------------------------------------------------------------------------------------------------------------------------------------\n",
      " aopId            | 29                                                                                                                                                                                                                                                                                                                                                                                                                              \n",
      " adverseOutcomeId | 363                                                                                                                                                                                                                                                                                                                                                                                                                             \n",
      " status           | null                                                                                                                                                                                                                                                                                                                                                                                                                            \n",
      " aopName          | Estrogen receptor agonism leading to reproductive dysfunction                                                                                                                                                                                                                                                                                                                                                                   \n",
      " reference        | https://aopwiki.org/aops/29                                                                                                                                                                                                                                                                                                                                                                                                     \n",
      " adverseOutcome   | Altered, Reproductive behaviour                                                                                                                                                                                                                                                                                                                                                                                                 \n",
      " targetName       | estrogen receptor                                                                                                                                                                                                                                                                                                                                                                                                               \n",
      " keyEvents        | [{111, Agonism, Estrogen receptor}, {252, Increase, Renal pathology due to VTG deposition}, {364, Impaired development of, Reproductive organs}, {363, Altered, Reproductive behaviour}, {339, Altered, Larval development}, {360, Decrease, Population trajectory}, {78, Reduction, Cumulative fecundity and spawning}, {307, Increase, Vitellogenin synthesis in liver}, {220, Increase, Plasma vitellogenin concentrations}] \n",
      "-RECORD 1-------------------------------------------------------------------------------------------------------------------------------------------------------------------------------------------------------------------------------------------------------------------------------------------------------------------------------------------------------------------------------------------------------------------------------------------\n",
      " aopId            | 29                                                                                                                                                                                                                                                                                                                                                                                                                              \n",
      " adverseOutcomeId | 360                                                                                                                                                                                                                                                                                                                                                                                                                             \n",
      " status           | null                                                                                                                                                                                                                                                                                                                                                                                                                            \n",
      " aopName          | Estrogen receptor agonism leading to reproductive dysfunction                                                                                                                                                                                                                                                                                                                                                                   \n",
      " reference        | https://aopwiki.org/aops/29                                                                                                                                                                                                                                                                                                                                                                                                     \n",
      " adverseOutcome   | Decrease, Population trajectory                                                                                                                                                                                                                                                                                                                                                                                                 \n",
      " targetName       | estrogen receptor                                                                                                                                                                                                                                                                                                                                                                                                               \n",
      " keyEvents        | [{111, Agonism, Estrogen receptor}, {252, Increase, Renal pathology due to VTG deposition}, {364, Impaired development of, Reproductive organs}, {363, Altered, Reproductive behaviour}, {339, Altered, Larval development}, {360, Decrease, Population trajectory}, {78, Reduction, Cumulative fecundity and spawning}, {307, Increase, Vitellogenin synthesis in liver}, {220, Increase, Plasma vitellogenin concentrations}] \n",
      "only showing top 2 rows\n",
      "\n"
     ]
    }
   ],
   "source": [
    "wip = (\n",
    "    wip.\n",
    "    drop('keyEvents', 'keyEventId')\n",
    "    .join(ke_names, on='aopId', how='inner')\n",
    "    .distinct()\n",
    ")\n",
    "\n",
    "wip.show(2, False, True)"
   ],
   "metadata": {
    "collapsed": false,
    "pycharm": {
     "name": "#%%\n"
    }
   }
  },
  {
   "cell_type": "markdown",
   "source": [
    "### 5. Species -- hasn't been extracted"
   ],
   "metadata": {
    "collapsed": false,
    "pycharm": {
     "name": "#%% md\n"
    }
   }
  },
  {
   "cell_type": "markdown",
   "source": [
    "### 6. Map target to Ensembl"
   ],
   "metadata": {
    "collapsed": false,
    "pycharm": {
     "name": "#%% md\n"
    }
   }
  },
  {
   "cell_type": "code",
   "execution_count": 116,
   "outputs": [
    {
     "data": {
      "text/plain": "Row(targetId='ENSG00000002016', namesCombined=['RAD52', 'RAD52 homolog, DNA repair protein', 'DNA repair protein RAD52 homolog', 'recombination protein RAD52', 'rhabdomyosarcoma antigen MU-RMS-40.23'])"
     },
     "execution_count": 116,
     "metadata": {},
     "output_type": "execute_result"
    }
   ],
   "source": [
    "target_idx = (\n",
    "    spark.read.parquet('/Users/irene/Documents/dev/pyspark/21.09.5/targets')\n",
    "    .select('id', F.array('approvedSymbol').alias('approvedSymbol'),\n",
    "            F.array('approvedName').alias('approvedName'),\n",
    "            F.col('synonyms.label').alias('synonyms'), F.col('symbolSynonyms.label').alias('symbolSynonyms'),\n",
    "            F.col('nameSynonyms.label').alias('nameSynonyms'))\n",
    "    .withColumn('namesCombined', F.array_distinct(F.flatten(F.array('approvedSymbol', 'approvedName', 'synonyms', 'symbolSynonyms', 'nameSynonyms'))))\n",
    "    .select(F.col('id').alias('targetId'), 'namesCombined')\n",
    ")\n",
    "\n",
    "target_idx.first()"
   ],
   "metadata": {
    "collapsed": false,
    "pycharm": {
     "name": "#%%\n"
    }
   }
  },
  {
   "cell_type": "code",
   "execution_count": 119,
   "outputs": [],
   "source": [
    "wip = (\n",
    "    wip.join(\n",
    "        target_idx.withColumn('targetName', F.explode('namesCombined')).drop('namesCombined'),\n",
    "        on='targetName', how='left'\n",
    "    )\n",
    "    .distinct()\n",
    ")"
   ],
   "metadata": {
    "collapsed": false,
    "pycharm": {
     "name": "#%%\n"
    }
   }
  },
  {
   "cell_type": "code",
   "execution_count": 120,
   "outputs": [
    {
     "name": "stdout",
     "output_type": "stream",
     "text": [
      "-RECORD 0--------------------------------\n",
      " targetName       | dual oxidase 1       \n",
      " aopId            | 193                  \n",
      " adverseOutcomeId | 1101                 \n",
      " status           | null                 \n",
      " aopName          | Dual oxidase (DUO... \n",
      " reference        | https://aopwiki.o... \n",
      " adverseOutcome   | Altered, Amphibia... \n",
      " keyEvents        | [{1101, Altered, ... \n",
      " targetId         | ENSG00000137857      \n",
      "-RECORD 1--------------------------------\n",
      " targetName       | NFAT activation m... \n",
      " aopId            | 154                  \n",
      " adverseOutcomeId | 984                  \n",
      " status           | EAGMST Under Review  \n",
      " aopName          | Inhibition of Cal... \n",
      " reference        | https://aopwiki.o... \n",
      " adverseOutcome   | Impairment, T-cel... \n",
      " keyEvents        | [{979, Interferen... \n",
      " targetId         | ENSG00000235568      \n",
      "-RECORD 2--------------------------------\n",
      " targetName       | calmodulin           \n",
      " aopId            | 77                   \n",
      " adverseOutcomeId | 563                  \n",
      " status           | null                 \n",
      " aopName          | Nicotinic acetylc... \n",
      " reference        | https://aopwiki.o... \n",
      " adverseOutcome   | Death/Failure, Co... \n",
      " keyEvents        | [{560, Abnormal, ... \n",
      " targetId         | null                 \n",
      "-RECORD 3--------------------------------\n",
      " targetName       | calmodulin           \n",
      " aopId            | 87                   \n",
      " adverseOutcomeId | 563                  \n",
      " status           | null                 \n",
      " aopName          | Nicotinic acetylc... \n",
      " reference        | https://aopwiki.o... \n",
      " adverseOutcome   | Death/Failure, Co... \n",
      " keyEvents        | [{560, Abnormal, ... \n",
      " targetId         | null                 \n",
      "-RECORD 4--------------------------------\n",
      " targetName       | calmodulin           \n",
      " aopId            | 88                   \n",
      " adverseOutcomeId | 563                  \n",
      " status           | null                 \n",
      " aopName          | Nicotinic acetylc... \n",
      " reference        | https://aopwiki.o... \n",
      " adverseOutcome   | Death/Failure, Co... \n",
      " keyEvents        | [{560, Abnormal, ... \n",
      " targetId         | null                 \n",
      "only showing top 5 rows\n",
      "\n"
     ]
    }
   ],
   "source": [
    "wip.show(5, vertical=True)"
   ],
   "metadata": {
    "collapsed": false,
    "pycharm": {
     "name": "#%%\n"
    }
   }
  },
  {
   "cell_type": "code",
   "execution_count": 121,
   "outputs": [
    {
     "data": {
      "text/plain": "138"
     },
     "execution_count": 121,
     "metadata": {},
     "output_type": "execute_result"
    }
   ],
   "source": [
    "wip.select('targetName').distinct().count()"
   ],
   "metadata": {
    "collapsed": false,
    "pycharm": {
     "name": "#%%\n"
    }
   }
  },
  {
   "cell_type": "code",
   "execution_count": null,
   "outputs": [],
   "source": [
    "# 92 out of 138 targets have been mapped to Ensembl."
   ],
   "metadata": {
    "collapsed": false,
    "pycharm": {
     "name": "#%%\n"
    }
   }
  },
  {
   "cell_type": "markdown",
   "source": [
    "### 7. Map AO to EFO"
   ],
   "metadata": {
    "collapsed": false,
    "pycharm": {
     "name": "#%% md\n"
    }
   }
  },
  {
   "cell_type": "code",
   "execution_count": null,
   "outputs": [],
   "source": [
    "from ontoma import OnToma\n",
    "\n",
    "otmap = OnToma()"
   ],
   "metadata": {
    "collapsed": false,
    "pycharm": {
     "name": "#%%\n",
     "is_executing": true
    }
   }
  },
  {
   "cell_type": "code",
   "execution_count": 138,
   "outputs": [
    {
     "data": {
      "text/plain": "['Altered, Amphibian metamorphosis',\n 'Impairment, T-cell dependent antibody response',\n 'Death/Failure, Colony',\n 'Increased Mortality',\n 'Decrease, Population trajectory']"
     },
     "execution_count": 138,
     "metadata": {},
     "output_type": "execute_result"
    }
   ],
   "source": [
    "aos = list(wip.select('adverseOutcome').toPandas()['adverseOutcome'].dropna().unique())\n",
    "\n",
    "aos[:5]"
   ],
   "metadata": {
    "collapsed": false,
    "pycharm": {
     "name": "#%%\n"
    }
   }
  },
  {
   "cell_type": "code",
   "execution_count": 140,
   "outputs": [
    {
     "name": "stderr",
     "output_type": "stream",
     "text": [
      "INFO     - ontoma.interface - Processed: Altered, Amphibian metamorphosis → []\n",
      "INFO:ontoma.interface:Processed: Altered, Amphibian metamorphosis → []\n",
      "INFO     - ontoma.interface - Processed: Impairment, T-cell dependent antibody response → []\n",
      "INFO:ontoma.interface:Processed: Impairment, T-cell dependent antibody response → []\n",
      "INFO     - ontoma.interface - Processed: Death/Failure, Colony → []\n",
      "INFO:ontoma.interface:Processed: Death/Failure, Colony → []\n",
      "INFO     - ontoma.interface - Processed: Increased Mortality → []\n",
      "INFO:ontoma.interface:Processed: Increased Mortality → []\n",
      "INFO     - ontoma.interface - Processed: Decrease, Population trajectory → []\n",
      "INFO:ontoma.interface:Processed: Decrease, Population trajectory → []\n",
      "INFO     - ontoma.interface - Processed: N/A, Cyanosis occurs → []\n",
      "INFO:ontoma.interface:Processed: N/A, Cyanosis occurs → []\n",
      "INFO     - ontoma.interface - Processed: Decreased sperm quantity or quality in the adult, Decreased fertility  → []\n",
      "INFO:ontoma.interface:Processed: Decreased sperm quantity or quality in the adult, Decreased fertility  → []\n",
      "INFO     - ontoma.interface - Processed: Increased, depression → []\n",
      "INFO:ontoma.interface:Processed: Increased, depression → []\n",
      "INFO     - ontoma.interface - Processed: Increased, agitation → []\n",
      "INFO:ontoma.interface:Processed: Increased, agitation → []\n",
      "INFO     - ontoma.interface - Processed: Increase, hypertension → []\n",
      "INFO:ontoma.interface:Processed: Increase, hypertension → []\n",
      "INFO     - ontoma.interface - Processed: Increased, seizure → []\n",
      "INFO:ontoma.interface:Processed: Increased, seizure → []\n",
      "INFO     - ontoma.interface - Processed: Increased, Liver Steatosis → []\n",
      "INFO:ontoma.interface:Processed: Increased, Liver Steatosis → []\n",
      "INFO     - ontoma.interface - Processed: Decreased sperm quantity / quality in the adult, Decreased fertility  → []\n",
      "INFO:ontoma.interface:Processed: Decreased sperm quantity / quality in the adult, Decreased fertility  → []\n",
      "INFO     - ontoma.interface - Processed: Increased, Disease susceptibility → []\n",
      "INFO:ontoma.interface:Processed: Increased, Disease susceptibility → []\n",
      "INFO     - ontoma.interface - Processed: impaired, Fertility → []\n",
      "INFO:ontoma.interface:Processed: impaired, Fertility → []\n",
      "INFO     - ontoma.interface - Processed: Accumulation, Liver lipid → []\n",
      "INFO:ontoma.interface:Processed: Accumulation, Liver lipid → []\n",
      "INFO     - ontoma.interface - Processed: Increase, Papillomas/carcinomas (squamous cells) → []\n",
      "INFO:ontoma.interface:Processed: Increase, Papillomas/carcinomas (squamous cells) → []\n",
      "INFO     - ontoma.interface - Processed: Tumorigenesis, Hepatocellular carcinoma → []\n",
      "INFO:ontoma.interface:Processed: Tumorigenesis, Hepatocellular carcinoma → []\n",
      "INFO     - ontoma.interface - Processed: Altered, Reproductive behaviour → []\n",
      "INFO:ontoma.interface:Processed: Altered, Reproductive behaviour → []\n",
      "INFO     - ontoma.interface - Processed: Altered, Larval development → []\n",
      "INFO:ontoma.interface:Processed: Altered, Larval development → []\n",
      "INFO     - ontoma.interface - Processed: Impaired development of, Reproductive organs → []\n",
      "INFO:ontoma.interface:Processed: Impaired development of, Reproductive organs → []\n",
      "INFO     - ontoma.interface - Processed: Increase, Endometrial adenocarcinomas → []\n",
      "INFO:ontoma.interface:Processed: Increase, Endometrial adenocarcinomas → []\n",
      "INFO     - ontoma.interface - Processed: Increased, adenosquamous carcinomas of endometrium → []\n",
      "INFO:ontoma.interface:Processed: Increased, adenosquamous carcinomas of endometrium → []\n",
      "INFO     - ontoma.interface - Processed: skewed, sex ratio → []\n",
      "INFO:ontoma.interface:Processed: skewed, sex ratio → []\n",
      "INFO     - ontoma.interface - Processed: N/A, Breast Cancer → []\n",
      "INFO:ontoma.interface:Processed: N/A, Breast Cancer → []\n",
      "INFO     - ontoma.interface - Processed: Promotion, ovarian granular cell tumors → []\n",
      "INFO:ontoma.interface:Processed: Promotion, ovarian granular cell tumors → []\n",
      "INFO     - ontoma.interface - Processed: Promotion, ovarian adenomas → []\n",
      "INFO:ontoma.interface:Processed: Promotion, ovarian adenomas → []\n",
      "INFO     - ontoma.interface - Processed: Hypertension → [OnTomaResult(query='Hypertension', id_normalised='EFO:0000537', id_ot_schema='EFO_0000537', id_full_uri='http://www.ebi.ac.uk/efo/EFO_0000537', label='hypertension')]\n",
      "INFO:ontoma.interface:Processed: Hypertension → [OnTomaResult(query='Hypertension', id_normalised='EFO:0000537', id_ot_schema='EFO_0000537', id_full_uri='http://www.ebi.ac.uk/efo/EFO_0000537', label='hypertension')]\n",
      "INFO     - ontoma.interface - Processed: Increase, Leydig cell tumors → []\n",
      "INFO:ontoma.interface:Processed: Increase, Leydig cell tumors → []\n",
      "INFO     - ontoma.interface - Processed: Trigeminal and/or vagal nerve excitation causes Airway Hyper-responsiveness,Cough, Dyspnea → []\n",
      "INFO:ontoma.interface:Processed: Trigeminal and/or vagal nerve excitation causes Airway Hyper-responsiveness,Cough, Dyspnea → []\n",
      "INFO     - ontoma.interface - Processed: Irritation of nasal mucosa inducing sneeze reflex → []\n",
      "INFO:ontoma.interface:Processed: Irritation of nasal mucosa inducing sneeze reflex → []\n",
      "INFO     - ontoma.interface - Processed: Increased Respiratory irritability and Chronic Cough,  → []\n",
      "INFO:ontoma.interface:Processed: Increased Respiratory irritability and Chronic Cough,  → []\n",
      "INFO     - ontoma.interface - Processed: Cognitive Function, Decreased  → []\n",
      "INFO:ontoma.interface:Processed: Cognitive Function, Decreased  → []\n",
      "INFO     - ontoma.interface - Processed: Impairment, Learning and memory → []\n",
      "INFO:ontoma.interface:Processed: Impairment, Learning and memory → []\n",
      "INFO     - ontoma.interface - Processed: Impaired recruitment , Population trajectory → []\n",
      "INFO:ontoma.interface:Processed: Impaired recruitment , Population trajectory → []\n",
      "INFO     - ontoma.interface - Processed: Increased, mesotheliomas → []\n",
      "INFO:ontoma.interface:Processed: Increased, mesotheliomas → []\n",
      "INFO     - ontoma.interface - Processed: Decrease, Lung function → []\n",
      "INFO:ontoma.interface:Processed: Decrease, Lung function → []\n",
      "INFO     - ontoma.interface - Processed: Increased, Male offspring → []\n",
      "INFO:ontoma.interface:Processed: Increased, Male offspring → []\n",
      "INFO     - ontoma.interface - Processed: Decline, Population → []\n",
      "INFO:ontoma.interface:Processed: Decline, Population → []\n",
      "INFO     - ontoma.interface - Processed: Alteration, Food-web structures → []\n",
      "INFO:ontoma.interface:Processed: Alteration, Food-web structures → []\n",
      "INFO     - ontoma.interface - Processed: Reproductive failure → []\n",
      "INFO:ontoma.interface:Processed: Reproductive failure → []\n",
      "INFO     - ontoma.interface - Processed: Reduction, Cumulative fecundity and spawning → []\n",
      "INFO:ontoma.interface:Processed: Reduction, Cumulative fecundity and spawning → []\n",
      "INFO     - ontoma.interface - Processed: Uroporphyria → []\n",
      "INFO:ontoma.interface:Processed: Uroporphyria → []\n",
      "INFO     - ontoma.interface - Processed: Occurrence, Epileptic seizure → []\n",
      "INFO:ontoma.interface:Processed: Occurrence, Epileptic seizure → []\n",
      "INFO     - ontoma.interface - Processed: Hepatotoxicity → [OnTomaResult(query='Hepatotoxicity', id_normalised='EFO:0011052', id_ot_schema='EFO_0011052', id_full_uri='http://www.ebi.ac.uk/efo/EFO_0011052', label='hepatotoxicity')]\n",
      "INFO:ontoma.interface:Processed: Hepatotoxicity → [OnTomaResult(query='Hepatotoxicity', id_normalised='EFO:0011052', id_ot_schema='EFO_0011052', id_full_uri='http://www.ebi.ac.uk/efo/EFO_0011052', label='hepatotoxicity')]\n",
      "INFO     - ontoma.interface - Processed: Reduced, Reproductive Success → []\n",
      "INFO:ontoma.interface:Processed: Reduced, Reproductive Success → []\n",
      "INFO     - ontoma.interface - Processed: N/A, Reproductive failure → []\n",
      "INFO:ontoma.interface:Processed: N/A, Reproductive failure → []\n",
      "INFO     - ontoma.interface - Processed: Decreased, population 1 → []\n",
      "INFO:ontoma.interface:Processed: Decreased, population 1 → []\n",
      "INFO     - ontoma.interface - Processed: Increase, hepatocellular adenomas and carcinomas → []\n",
      "INFO:ontoma.interface:Processed: Increase, hepatocellular adenomas and carcinomas → []\n",
      "INFO     - ontoma.interface - Processed: Increased, predation → []\n",
      "INFO:ontoma.interface:Processed: Increased, predation → []\n",
      "INFO     - ontoma.interface - Processed: Decreased, survival → []\n",
      "INFO:ontoma.interface:Processed: Decreased, survival → []\n",
      "INFO     - ontoma.interface - Processed: Increase, Early Life Stage Mortality → []\n",
      "INFO:ontoma.interface:Processed: Increase, Early Life Stage Mortality → []\n",
      "INFO     - ontoma.interface - Processed: increase, Preeclampsia → []\n",
      "INFO:ontoma.interface:Processed: increase, Preeclampsia → []\n",
      "INFO     - ontoma.interface - Processed: Facial cartilage structures are reduced in size and morphologically distorted → []\n",
      "INFO:ontoma.interface:Processed: Facial cartilage structures are reduced in size and morphologically distorted → []\n",
      "INFO     - ontoma.interface - Processed: Neural tube defects → []\n",
      "INFO:ontoma.interface:Processed: Neural tube defects → []\n",
      "INFO     - ontoma.interface - Processed: Testicular atrophy → [OnTomaResult(query='Testicular atrophy', id_normalised='HP:0000029', id_ot_schema='HP_0000029', id_full_uri='http://purl.obolibrary.org/obo/HP_0000029', label='testicular atrophy')]\n",
      "INFO:ontoma.interface:Processed: Testicular atrophy → [OnTomaResult(query='Testicular atrophy', id_normalised='HP:0000029', id_ot_schema='HP_0000029', id_full_uri='http://purl.obolibrary.org/obo/HP_0000029', label='testicular atrophy')]\n",
      "INFO     - ontoma.interface - Processed: N/A, Liver Steatosis → []\n",
      "INFO:ontoma.interface:Processed: N/A, Liver Steatosis → []\n",
      "INFO     - ontoma.interface - Processed: Decreased, Decreased fecundity  → []\n",
      "INFO:ontoma.interface:Processed: Decreased, Decreased fecundity  → []\n",
      "INFO     - ontoma.interface - Processed: N/A, Neurodegeneration → []\n",
      "INFO:ontoma.interface:Processed: N/A, Neurodegeneration → []\n",
      "INFO     - ontoma.interface - Processed: Decreased fertility in the adult, Decreased sperm quantity and/or quality in the adult testis → []\n",
      "INFO:ontoma.interface:Processed: Decreased fertility in the adult, Decreased sperm quantity and/or quality in the adult testis → []\n",
      "INFO     - ontoma.interface - Processed: Decreased, Body Weight → []\n",
      "INFO:ontoma.interface:Processed: Decreased, Body Weight → []\n",
      "INFO     - ontoma.interface - Processed: Increased, Pancreatic acinar tumors → []\n",
      "INFO:ontoma.interface:Processed: Increased, Pancreatic acinar tumors → []\n",
      "INFO     - ontoma.interface - Processed: Malformation, Male reproductive tract → []\n",
      "INFO:ontoma.interface:Processed: Malformation, Male reproductive tract → []\n",
      "INFO     - ontoma.interface - Processed: Chemical induced Fanconi syndrome → []\n",
      "INFO:ontoma.interface:Processed: Chemical induced Fanconi syndrome → []\n",
      "INFO     - ontoma.interface - Processed: Parkinsonian motor deficits → []\n",
      "INFO:ontoma.interface:Processed: Parkinsonian motor deficits → []\n",
      "INFO     - ontoma.interface - Processed: Necrotic Tissue → []\n",
      "INFO:ontoma.interface:Processed: Necrotic Tissue → []\n",
      "INFO     - ontoma.interface - Processed: Liver Injury → []\n",
      "INFO:ontoma.interface:Processed: Liver Injury → []\n",
      "INFO     - ontoma.interface - Processed: Pulmonary fibrosis → [OnTomaResult(query='Pulmonary fibrosis', id_normalised='EFO:0009448', id_ot_schema='EFO_0009448', id_full_uri='http://www.ebi.ac.uk/efo/EFO_0009448', label='pulmonary fibrosis')]\n",
      "INFO:ontoma.interface:Processed: Pulmonary fibrosis → [OnTomaResult(query='Pulmonary fibrosis', id_normalised='EFO:0009448', id_ot_schema='EFO_0009448', id_full_uri='http://www.ebi.ac.uk/efo/EFO_0009448', label='pulmonary fibrosis')]\n",
      "INFO     - ontoma.interface - Processed: Cholestasis, Pathology → []\n",
      "INFO:ontoma.interface:Processed: Cholestasis, Pathology → []\n",
      "INFO     - ontoma.interface - Processed: Increased Apoptosis, Adenomas/carcinomas (follicular cell) → []\n",
      "INFO:ontoma.interface:Processed: Increased Apoptosis, Adenomas/carcinomas (follicular cell) → []\n",
      "INFO     - ontoma.interface - Processed: Impairment of T-cell dependent antibody response → []\n",
      "INFO:ontoma.interface:Processed: Impairment of T-cell dependent antibody response → []\n",
      "INFO     - ontoma.interface - Processed: Reduced, survival → []\n",
      "INFO:ontoma.interface:Processed: Reduced, survival → []\n",
      "INFO     - ontoma.interface - Processed: Increase, Increased susceptibility to infection → []\n",
      "INFO:ontoma.interface:Processed: Increase, Increased susceptibility to infection → []\n",
      "INFO     - ontoma.interface - Processed: irregularities, ovarian cycle → []\n",
      "INFO:ontoma.interface:Processed: irregularities, ovarian cycle → []\n",
      "INFO     - ontoma.interface - Processed: Decreased fertility, Reduced number of oocytes ovulated  → []\n",
      "INFO:ontoma.interface:Processed: Decreased fertility, Reduced number of oocytes ovulated  → []\n",
      "INFO     - ontoma.interface - Processed: Loss, Cochlear function → []\n",
      "INFO:ontoma.interface:Processed: Loss, Cochlear function → []\n",
      "INFO     - ontoma.interface - Processed: Decreased, Reproductive Success → []\n",
      "INFO:ontoma.interface:Processed: Decreased, Reproductive Success → []\n",
      "INFO     - ontoma.interface - Processed: Increased, Population → []\n",
      "INFO:ontoma.interface:Processed: Increased, Population → []\n",
      "INFO     - ontoma.interface - Processed: Increase, predation → []\n",
      "INFO:ontoma.interface:Processed: Increase, predation → []\n",
      "INFO     - ontoma.interface - Processed: Increased, Reproductive Success → []\n",
      "INFO:ontoma.interface:Processed: Increased, Reproductive Success → []\n",
      "INFO     - ontoma.interface - Processed: Increased, Adenomas/carcinomas (mammary) → []\n",
      "INFO:ontoma.interface:Processed: Increased, Adenomas/carcinomas (mammary) → []\n",
      "INFO     - ontoma.interface - Processed: obesity → [OnTomaResult(query='obesity', id_normalised='EFO:0001073', id_ot_schema='EFO_0001073', id_full_uri='http://www.ebi.ac.uk/efo/EFO_0001073', label='obesity')]\n",
      "INFO:ontoma.interface:Processed: obesity → [OnTomaResult(query='obesity', id_normalised='EFO:0001073', id_ot_schema='EFO_0001073', id_full_uri='http://www.ebi.ac.uk/efo/EFO_0001073', label='obesity')]\n",
      "INFO     - ontoma.interface - Processed: Promotion, mesovarian leiomyomas → []\n",
      "INFO:ontoma.interface:Processed: Promotion, mesovarian leiomyomas → []\n",
      "INFO     - ontoma.interface - Processed: Increase, Adenomas/carcinomas (renal tubular) → []\n",
      "INFO:ontoma.interface:Processed: Increase, Adenomas/carcinomas (renal tubular) → []\n",
      "INFO     - ontoma.interface - Processed: Liver Cancer → [OnTomaResult(query='Liver Cancer', id_normalised='MONDO:0002691', id_ot_schema='MONDO_0002691', id_full_uri='http://purl.obolibrary.org/obo/MONDO_0002691', label='liver cancer')]\n",
      "INFO:ontoma.interface:Processed: Liver Cancer → [OnTomaResult(query='Liver Cancer', id_normalised='MONDO:0002691', id_ot_schema='MONDO_0002691', id_full_uri='http://purl.obolibrary.org/obo/MONDO_0002691', label='liver cancer')]\n",
      "INFO     - ontoma.interface - Processed: Increase, Adenomas/carcinomas (follicular cell) → []\n",
      "INFO:ontoma.interface:Processed: Increase, Adenomas/carcinomas (follicular cell) → []\n",
      "INFO     - ontoma.interface - Processed: N/A, Impairment of reproductive capacity → []\n",
      "INFO:ontoma.interface:Processed: N/A, Impairment of reproductive capacity → []\n",
      "INFO     - ontoma.interface - Processed: decrease, male anogenital distance → []\n",
      "INFO:ontoma.interface:Processed: decrease, male anogenital distance → []\n",
      "INFO     - ontoma.interface - Processed: increase, retained nipples in males → []\n",
      "INFO:ontoma.interface:Processed: increase, retained nipples in males → []\n",
      "INFO     - ontoma.interface - Processed: Formation, Hepatocellular and Bile duct tumors → []\n",
      "INFO:ontoma.interface:Processed: Formation, Hepatocellular and Bile duct tumors → []\n",
      "INFO     - ontoma.interface - Processed: Decrease, Fertility → []\n",
      "INFO:ontoma.interface:Processed: Decrease, Fertility → []\n",
      "INFO     - ontoma.interface - Processed: Increased, Developmental Defects → []\n",
      "INFO:ontoma.interface:Processed: Increased, Developmental Defects → []\n",
      "INFO     - ontoma.interface - Processed: Increased, amputations → []\n",
      "INFO:ontoma.interface:Processed: Increased, amputations → []\n",
      "INFO     - ontoma.interface - Processed: Reduced, feeding 1 → []\n",
      "INFO:ontoma.interface:Processed: Reduced, feeding 1 → []\n",
      "INFO     - ontoma.interface - Processed: Formation, Liver fibrosis → []\n",
      "INFO:ontoma.interface:Processed: Formation, Liver fibrosis → []\n",
      "INFO     - ontoma.interface - Processed: Treatment-resistant gastric cancer → []\n",
      "INFO:ontoma.interface:Processed: Treatment-resistant gastric cancer → []\n",
      "INFO     - ontoma.interface - Processed: Increased, Kidney Failure → []\n",
      "INFO:ontoma.interface:Processed: Increased, Kidney Failure → []\n",
      "INFO     - ontoma.interface - Processed: Increase, Aneuploid offspring → []\n",
      "INFO:ontoma.interface:Processed: Increase, Aneuploid offspring → []\n"
     ]
    }
   ],
   "source": [
    "mappings = dict()\n",
    "\n",
    "for event in aos:\n",
    "    mapping = otmap.find_term(event)\n",
    "    if len(mapping) > 0:\n",
    "        mappings[event] = mapping[0].id_ot_schema"
   ],
   "metadata": {
    "collapsed": false,
    "pycharm": {
     "name": "#%%\n"
    }
   }
  },
  {
   "cell_type": "code",
   "execution_count": 141,
   "outputs": [
    {
     "data": {
      "text/plain": "{'Hypertension': 'EFO_0000537',\n 'Hepatotoxicity': 'EFO_0011052',\n 'Testicular atrophy': 'HP_0000029',\n 'Pulmonary fibrosis': 'EFO_0009448',\n 'obesity': 'EFO_0001073',\n 'Liver Cancer': 'MONDO_0002691'}"
     },
     "execution_count": 141,
     "metadata": {},
     "output_type": "execute_result"
    }
   ],
   "source": [
    "mappings"
   ],
   "metadata": {
    "collapsed": false,
    "pycharm": {
     "name": "#%%\n"
    }
   }
  },
  {
   "cell_type": "code",
   "execution_count": 143,
   "outputs": [],
   "source": [
    "# Coverage is extremely low: 6 out of 98 AOs have been successfully mapped"
   ],
   "metadata": {
    "collapsed": false,
    "pycharm": {
     "name": "#%%\n"
    }
   }
  },
  {
   "cell_type": "code",
   "execution_count": 149,
   "outputs": [
    {
     "data": {
      "text/plain": "Row(targetName='nitric oxide synthase, endothelial', aopId=149, adverseOutcomeId='EFO_0000537', status='Under Development', aopName='Peptide Oxidation Leading to Hypertension', reference='https://aopwiki.org/aops/149', adverseOutcome='Hypertension', keyEvents=[Row(keyEventId=937, keyEventName='KE7 : Impaired, Vasodilation'), Row(keyEventId=209, keyEventName='Peptide Oxidation'), Row(keyEventId=933, keyEventName='KE6 : Depletion, Nitric Oxide'), Row(keyEventId=952, keyEventName='Hypertension'), Row(keyEventId=951, keyEventName='KE8 : Increase, Vascular Resistance'), Row(keyEventId=935, keyEventName='KE2 : Decrease, GTPCH-1'), Row(keyEventId=927, keyEventName='KE1 : S-Glutathionylation, eNOS'), Row(keyEventId=934, keyEventName='KE3 : Decrease, Tetrahydrobiopterin'), Row(keyEventId=973, keyEventName='KE5 : Decrease, AKT/eNOS activity'), Row(keyEventId=932, keyEventName='KE4 : Uncoupling, eNOS')], targetId='ENSG00000164867')"
     },
     "execution_count": 149,
     "metadata": {},
     "output_type": "execute_result"
    }
   ],
   "source": [
    "# Add mappings to the table\n",
    "\n",
    "wip = (\n",
    "    wip.withColumn('adverseOutcomeId', F.col('adverseOutcome'))\n",
    "    .replace(to_replace=mappings, subset=['adverseOutcomeId'])\n",
    "    .withColumn('adverseOutcomeId', F.when(F.col('adverseOutcomeId').contains('_'), F.col('adverseOutcomeId')))\n",
    ")"
   ],
   "metadata": {
    "collapsed": false,
    "pycharm": {
     "name": "#%%\n"
    }
   }
  },
  {
   "cell_type": "markdown",
   "source": [
    "### 8. Export resulting table"
   ],
   "metadata": {
    "collapsed": false,
    "pycharm": {
     "name": "#%% md\n"
    }
   }
  },
  {
   "cell_type": "code",
   "execution_count": 152,
   "outputs": [
    {
     "name": "stdout",
     "output_type": "stream",
     "text": [
      "-RECORD 0--------------------------------------------------------------------------------------------------------------------------------------------------------------------------------\n",
      " aopId            | 193                                                                                                                                                                  \n",
      " aopName          | Dual oxidase (DUOX) inhibition leading to altered amphibian metamorphosis                                                                                            \n",
      " targetName       | dual oxidase 1                                                                                                                                                       \n",
      " targetId         | ENSG00000137857                                                                                                                                                      \n",
      " adverseOutcome   | Altered, Amphibian metamorphosis                                                                                                                                     \n",
      " adverseOutcomeId | 1101                                                                                                                                                                 \n",
      " keyEvents        | [{1101, Altered, Amphibian metamorphosis}, {277, Thyroid hormone synthesis, Decreased}, {1156, Inhibition, Dual oxidase}, {426, Decreased, Thyroxine (T4) in serum}] \n",
      " species          | null                                                                                                                                                                 \n",
      " status           | null                                                                                                                                                                 \n",
      " reference        | https://aopwiki.org/aops/193                                                                                                                                         \n",
      "only showing top 1 row\n",
      "\n"
     ]
    }
   ],
   "source": [
    "output = (\n",
    "    wip\n",
    "    .withColumn('species', F.lit(None))\n",
    "    .select('aopId', 'aopName', 'targetName', 'targetId', 'adverseOutcome', 'adverseOutcomeId', 'keyEvents', 'species', 'status', 'reference')\n",
    "    .distinct()\n",
    ")\n",
    "\n",
    "output.show(1, False, True)"
   ],
   "metadata": {
    "collapsed": false,
    "pycharm": {
     "name": "#%%\n"
    }
   }
  },
  {
   "cell_type": "code",
   "execution_count": 153,
   "outputs": [],
   "source": [
    "output.coalesce(1).write.json('/Users/irene/Documents/dev/random_notebooks/AOPWiki/outputs/AOPWifi_refined')"
   ],
   "metadata": {
    "collapsed": false,
    "pycharm": {
     "name": "#%%\n"
    }
   }
  },
  {
   "cell_type": "code",
   "execution_count": null,
   "outputs": [],
   "source": [],
   "metadata": {
    "collapsed": false,
    "pycharm": {
     "name": "#%%\n"
    }
   }
  }
 ],
 "metadata": {
  "kernelspec": {
   "display_name": "Python 3",
   "language": "python",
   "name": "python3"
  },
  "language_info": {
   "codemirror_mode": {
    "name": "ipython",
    "version": 2
   },
   "file_extension": ".py",
   "mimetype": "text/x-python",
   "name": "python",
   "nbconvert_exporter": "python",
   "pygments_lexer": "ipython2",
   "version": "2.7.6"
  }
 },
 "nbformat": 4,
 "nbformat_minor": 0
}