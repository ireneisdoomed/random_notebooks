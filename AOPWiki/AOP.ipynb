{
 "cells": [
  {
   "cell_type": "code",
   "execution_count": 2,
   "metadata": {
    "collapsed": true
   },
   "outputs": [],
   "source": [
    "import pandas as pd\n",
    "from pyspark.sql import DataFrame, SparkSession\n",
    "import pyspark.sql.functions as F\n",
    "from pyspark.sql.types import *\n",
    "\n",
    "spark = (SparkSession.builder\n",
    "         .master('local[*]')\n",
    "         .config(\"spark.driver.memory\", \"15g\")\n",
    "         .appName('spark')\n",
    "         .getOrCreate())"
   ]
  },
  {
   "cell_type": "markdown",
   "metadata": {
    "collapsed": false,
    "pycharm": {
     "name": "#%% md\n"
    }
   },
   "source": [
    "## Generate table with main pieces of information from AOPWiki\n",
    "\n",
    "To include:\n",
    "- AOP id\n",
    "- Adverse Outcome\n",
    "- Mapped Adverse Outcome to EFO\n",
    "- Target Name\n",
    "- Mapped target to ENSEMBL\n",
    "- Key Event title\n",
    "- OECD Status\n",
    "- Species applicability\n",
    "- Reference"
   ]
  },
  {
   "cell_type": "code",
   "execution_count": 17,
   "metadata": {
    "collapsed": false,
    "pycharm": {
     "name": "#%%\n"
    }
   },
   "outputs": [],
   "source": [
    "## Load datasets generated from the AOPWiki XML\n",
    "\n",
    "aop_df = spark.read.json('data/parsed/aopV1')\n",
    "ke_df = spark.read.json('data/parsed/kevV1').drop('references')"
   ]
  },
  {
   "cell_type": "markdown",
   "metadata": {
    "collapsed": false,
    "pycharm": {
     "name": "#%% md\n"
    }
   },
   "source": [
    "### 1. AOP id + Reference + status"
   ]
  },
  {
   "cell_type": "code",
   "execution_count": 5,
   "metadata": {
    "collapsed": false,
    "pycharm": {
     "name": "#%%\n"
    }
   },
   "outputs": [
    {
     "name": "stdout",
     "output_type": "stream",
     "text": [
      "root\n",
      " |-- id: long (nullable = true)\n",
      " |-- keyEvents: array (nullable = true)\n",
      " |    |-- element: struct (containsNull = true)\n",
      " |    |    |-- id: long (nullable = true)\n",
      " |    |    |-- type: string (nullable = true)\n",
      " |-- status: string (nullable = true)\n",
      " |-- stressors: array (nullable = true)\n",
      " |    |-- element: struct (containsNull = true)\n",
      " |    |    |-- chemicalId: long (nullable = true)\n",
      " |    |    |-- inchiKey: string (nullable = true)\n",
      " |    |    |-- name: string (nullable = true)\n",
      " |    |    |-- preferredName: string (nullable = true)\n",
      " |    |    |-- qualityAssurance: string (nullable = true)\n",
      " |    |    |-- synonyms: array (nullable = true)\n",
      " |    |    |    |-- element: string (containsNull = true)\n",
      " |-- title: string (nullable = true)\n",
      "\n"
     ]
    }
   ],
   "source": [
    "aop.printSchema()"
   ]
  },
  {
   "cell_type": "code",
   "execution_count": 18,
   "metadata": {
    "collapsed": false,
    "pycharm": {
     "name": "#%%\n"
    }
   },
   "outputs": [
    {
     "name": "stdout",
     "output_type": "stream",
     "text": [
      "+-----+--------------------+------+--------------------+--------------------+\n",
      "|aopId|           keyEvents|status|             aopName|           reference|\n",
      "+-----+--------------------+------+--------------------+--------------------+\n",
      "|  177|[{1104, key-event...|  null|Cyclooxygenase 1 ...|https://aopwiki.o...|\n",
      "|  398|[{1880, molecular...|  null|Inhibition of ALD...|https://aopwiki.o...|\n",
      "|  242|[{1466, key-event...|  null|Inhibition of lys...|https://aopwiki.o...|\n",
      "|  241|[{68, key-event},...|  null|Latent Transformi...|https://aopwiki.o...|\n",
      "|  260|[{1513, key-event...|  null|CYP2E1 activation...|https://aopwiki.o...|\n",
      "+-----+--------------------+------+--------------------+--------------------+\n",
      "only showing top 5 rows\n",
      "\n"
     ]
    }
   ],
   "source": [
    "aop_df = (aop_df\n",
    "       .select(F.col('id').alias('aopId'), 'keyEvents', 'status', F.col('title').alias('aopName'))\n",
    "       .withColumn('reference', F.concat(F.lit('https://aopwiki.org/aops/'), F.col('aopId')))\n",
    "       )\n",
    "\n",
    "aop_df.show(5)"
   ]
  },
  {
   "cell_type": "markdown",
   "metadata": {
    "collapsed": false,
    "pycharm": {
     "name": "#%% md\n"
    }
   },
   "source": [
    "### 2. Adverse Outcome"
   ]
  },
  {
   "cell_type": "code",
   "execution_count": 37,
   "metadata": {
    "collapsed": false,
    "pycharm": {
     "name": "#%%\n"
    }
   },
   "outputs": [
    {
     "name": "stdout",
     "output_type": "stream",
     "text": [
      "+----+-----+--------------------+-----------------+--------------------+--------------------+--------------------+\n",
      "|aoId|aopId|           keyEvents|           status|             aopName|           reference|                  ao|\n",
      "+----+-----+--------------------+-----------------+--------------------+--------------------+--------------------+\n",
      "| 360|  387|[{1479, key-event...|             null|Increased reactiv...|https://aopwiki.o...|Decrease, Populat...|\n",
      "| 568|   84|[{403, key-event}...|             null|Suppression of im...|https://aopwiki.o...|impaired, Hive th...|\n",
      "| 344|   38|[{265, key-event}...|TFHA/WNT Endorsed|Protein Alkylatio...|https://aopwiki.o...| N/A, Liver fibrosis|\n",
      "| 351|  160|[{1016, key-event...|             null|Ionotropic gamma-...|https://aopwiki.o...| Increased Mortality|\n",
      "| 360|  216|[{1444, key-event...|             null|Excessive reactiv...|https://aopwiki.o...|Decrease, Populat...|\n",
      "+----+-----+--------------------+-----------------+--------------------+--------------------+--------------------+\n",
      "only showing top 5 rows\n",
      "\n"
     ]
    }
   ],
   "source": [
    "aop_w_ao_df = (\n",
    "    # Explode all KE listed in an AOP and filter only the AO ones\n",
    "    aop_df.withColumn('keyEvent', F.explode('keyEvents'))\n",
    "    .filter(F.col('keyEvent.type') == 'adverse-outcome')\n",
    "\n",
    "    .withColumn('aoId', F.col('keyEvent.id'))\n",
    "\n",
    "    # Join with KE dataset to extract the title of the KE\n",
    "    .join(\n",
    "        ke_df.select(F.col('id').alias('aoId'), F.col('title').alias('ao')),\n",
    "        on='aoId', how='left'\n",
    "    )\n",
    "    .drop('keyEvent')\n",
    "    .distinct()\n",
    ")\n",
    "\n",
    "aop_w_ao_df.show(5)"
   ]
  },
  {
   "cell_type": "markdown",
   "metadata": {
    "collapsed": false,
    "pycharm": {
     "name": "#%% md\n"
    }
   },
   "source": [
    "### 3. Target name"
   ]
  },
  {
   "cell_type": "code",
   "execution_count": 22,
   "metadata": {
    "collapsed": false,
    "pycharm": {
     "name": "#%%\n"
    }
   },
   "outputs": [
    {
     "data": {
      "text/plain": [
       "Row(biologicalEvents=[Row(action='decreased', object=Row(name='NADH-ubiquinone oxidoreductase chain 1', source='PR', sourceId='PR:000031316'), process='NADH dehydrogenase (ubiquinone) activity')], biologicalOrganisationLevel='Cellular', id=887, keyEventStressors=[\"1',2'-dihydrorotenone\"], organTerm=Row(name=None, sourceId=None), title='Inhibition, NADH-ubiquinone oxidoreductase  (complex I)', be=Row(action='decreased', object=Row(name='NADH-ubiquinone oxidoreductase chain 1', source='PR', sourceId='PR:000031316'), process='NADH dehydrogenase (ubiquinone) activity'))"
      ]
     },
     "execution_count": 22,
     "metadata": {},
     "output_type": "execute_result"
    }
   ],
   "source": [
    "# Extracted from KE where the biological event is a Protein Ontology (PRO) ID\n",
    "ke_df.withColumn('be', F.explode('biologicalEvents')).filter(F.col('be.object.source') == 'PR').first()"
   ]
  },
  {
   "cell_type": "code",
   "execution_count": 38,
   "metadata": {
    "collapsed": false,
    "pycharm": {
     "name": "#%%\n"
    }
   },
   "outputs": [
    {
     "name": "stdout",
     "output_type": "stream",
     "text": [
      "+----+--------------------+\n",
      "|keId|          targetName|\n",
      "+----+--------------------+\n",
      "|  27|   androgen receptor|\n",
      "|  79|prostaglandin G/H...|\n",
      "| 973|          AKT kinase|\n",
      "| 980|FK506-binding pro...|\n",
      "| 305|vascular endothel...|\n",
      "+----+--------------------+\n",
      "only showing top 5 rows\n",
      "\n"
     ]
    }
   ],
   "source": [
    "targets = (\n",
    "    ke_df.withColumn('be', F.explode('biologicalEvents'))\n",
    "    .filter(F.col('be.object.source') == 'PR')\n",
    "    .withColumn('targetName', F.col('be.object.name'))\n",
    "    .select(F.col('id').alias('keId'), 'targetName').distinct()\n",
    ")\n",
    "\n",
    "targets.show(5)"
   ]
  },
  {
   "cell_type": "code",
   "execution_count": 39,
   "metadata": {
    "collapsed": false,
    "pycharm": {
     "name": "#%%\n"
    }
   },
   "outputs": [
    {
     "name": "stdout",
     "output_type": "stream",
     "text": [
      "-RECORD 0---------------------------------------------------------------------------------------------------------------------------------------------------------------------\n",
      " aoId       | 360                                                                                                                                                             \n",
      " aopId      | 387                                                                                                                                                             \n",
      " keyEvents  | [{1479, key-event}, {257, molecular-initiating-event}, {1863, adverse-outcome}, {1770, key-event}, {1477, key-event}, {360, adverse-outcome}, {40, key-event}]  \n",
      " status     | null                                                                                                                                                            \n",
      " aopName    | Increased reactive oxygen species production leading to population decline via mitochondrial dysfunction                                                        \n",
      " reference  | https://aopwiki.org/aops/387                                                                                                                                    \n",
      " ao         | Decrease, Population trajectory                                                                                                                                 \n",
      " targetName | null                                                                                                                                                            \n",
      "-RECORD 1---------------------------------------------------------------------------------------------------------------------------------------------------------------------\n",
      " aoId       | 568                                                                                                                                                             \n",
      " aopId      | 84                                                                                                                                                              \n",
      " keyEvents  | [{403, key-event}, {563, adverse-outcome}, {577, key-event}, {572, adverse-outcome}, {576, key-event}, {568, adverse-outcome}]                                  \n",
      " status     | null                                                                                                                                                            \n",
      " aopName    | Suppression of immune system contributes to impaired development and leads to colony loss/failure                                                               \n",
      " reference  | https://aopwiki.org/aops/84                                                                                                                                     \n",
      " ao         | impaired, Hive thermoregulation                                                                                                                                 \n",
      " targetName | null                                                                                                                                                            \n",
      "-RECORD 2---------------------------------------------------------------------------------------------------------------------------------------------------------------------\n",
      " aoId       | 344                                                                                                                                                             \n",
      " aopId      | 38                                                                                                                                                              \n",
      " keyEvents  | [{265, key-event}, {244, molecular-initiating-event}, {344, adverse-outcome}, {55, key-event}, {1492, key-event}, {1493, key-event}, {68, key-event}]           \n",
      " status     | TFHA/WNT Endorsed                                                                                                                                               \n",
      " aopName    | Protein Alkylation leading to Liver Fibrosis                                                                                                                    \n",
      " reference  | https://aopwiki.org/aops/38                                                                                                                                     \n",
      " ao         | N/A, Liver fibrosis                                                                                                                                             \n",
      " targetName | null                                                                                                                                                            \n",
      "-RECORD 3---------------------------------------------------------------------------------------------------------------------------------------------------------------------\n",
      " aoId       | 351                                                                                                                                                             \n",
      " aopId      | 160                                                                                                                                                             \n",
      " keyEvents  | [{1016, key-event}, {762, molecular-initiating-event}, {351, adverse-outcome}, {761, key-event}, {1014, key-event}, {1012, key-event}, {1015, key-event}]       \n",
      " status     | null                                                                                                                                                            \n",
      " aopName    | Ionotropic gamma-aminobutyric acid receptor activation mediated neurotransmission inhibition leading to mortality                                               \n",
      " reference  | https://aopwiki.org/aops/160                                                                                                                                    \n",
      " ao         | Increased Mortality                                                                                                                                             \n",
      " targetName | null                                                                                                                                                            \n",
      "-RECORD 4---------------------------------------------------------------------------------------------------------------------------------------------------------------------\n",
      " aoId       | 360                                                                                                                                                             \n",
      " aopId      | 216                                                                                                                                                             \n",
      " keyEvents  | [{1444, key-event}, {257, molecular-initiating-event}, {360, adverse-outcome}, {1365, key-event}, {328, adverse-outcome}, {1608, key-event}, {1366, key-event}] \n",
      " status     | null                                                                                                                                                            \n",
      " aopName    | Excessive reactive oxygen species production leading to population decline via follicular atresia                                                               \n",
      " reference  | https://aopwiki.org/aops/216                                                                                                                                    \n",
      " ao         | Decrease, Population trajectory                                                                                                                                 \n",
      " targetName | null                                                                                                                                                            \n",
      "only showing top 5 rows\n",
      "\n"
     ]
    }
   ],
   "source": [
    "# Merge the target data with the wip dataset\n",
    "\n",
    "aop_w_ao_df = (\n",
    "    aop_w_ao_df\n",
    "\n",
    "    # First I extract all KE IDs per AOP to use it as a key between the aop_w_ao and target datasets\n",
    "    .withColumn('keId', F.explode('keyEvents'))\n",
    "    .withColumn('keId', F.col('keId.id'))\n",
    "\n",
    "    # I can now join it with the targets dataset\n",
    "    # Inner join: only interested in AOPs for which there is a target\n",
    "    .join(targets, on='keId', how='left').drop('keId')\n",
    "    .distinct()\n",
    ")\n",
    "\n",
    "aop_w_ao_df.show(5, False, True)"
   ]
  },
  {
   "cell_type": "markdown",
   "metadata": {
    "collapsed": false,
    "pycharm": {
     "name": "#%% md\n"
    }
   },
   "source": [
    "### 4. Get names for all KE in an AOP (previously it was filtered to only keep KE of type adverse outcome)"
   ]
  },
  {
   "cell_type": "code",
   "execution_count": 42,
   "metadata": {
    "collapsed": false,
    "pycharm": {
     "name": "#%%\n"
    }
   },
   "outputs": [
    {
     "data": {
      "text/plain": [
       "Row(aopId=1, keyEvents=[Row(keId=294, keName='N/A, Unknown'), Row(keId=57, keName='Proliferation, Cell proliferation in the absence of cytotoxicity'), Row(keId=334, keName='Promotion, Hepatocelluar carcinoma'), Row(keId=142, keName='Hyperplasia, Hyperplasia')])"
      ]
     },
     "execution_count": 42,
     "metadata": {},
     "output_type": "execute_result"
    }
   ],
   "source": [
    "ke_names = (\n",
    "\n",
    "    aop_w_ao_df.select('keyEvents', 'aopId').distinct()\n",
    "    # Explode KEs again to have all KEs, not just the ones with a target\n",
    "    .withColumn('keId', F.explode('keyEvents.id'))\n",
    "\n",
    "    # Bring name of the KE\n",
    "    .join(\n",
    "        ke_df.select(F.col('id').alias('keId'), F.col('title').alias('keName')),\n",
    "        on='keId', how='left')\n",
    "\n",
    "    # Group KE in a struct\n",
    "    .withColumn('keyEvents', F.struct('keId', 'keName'))\n",
    "    # The KE dataset has a lot of duplication with NaN values - I'll remove them\n",
    "    .filter(F.col('keyEvents.keName').isNotNull())\n",
    "    # TODO: Filter out KE describing AO\n",
    "\n",
    "    .groupby('aopId')\n",
    "    .agg(F.collect_set('keyEvents').alias('keyEvents'))\n",
    "\n",
    ")\n",
    "\n",
    "ke_names.first()"
   ]
  },
  {
   "cell_type": "code",
   "execution_count": 47,
   "metadata": {
    "collapsed": false,
    "pycharm": {
     "name": "#%%\n"
    }
   },
   "outputs": [
    {
     "name": "stdout",
     "output_type": "stream",
     "text": [
      "-RECORD 0---------------------------------------------------------------------------------------------------------------------------------------------------------------------------------------------------------------------------------------------------------------------------------------------------------------------------------------------------------------\n",
      " aopId      | 1                                                                                                                                                                                                                                                                                                                                                         \n",
      " aoId       | 334                                                                                                                                                                                                                                                                                                                                                       \n",
      " status     | null                                                                                                                                                                                                                                                                                                                                                      \n",
      " aopName    | Uncharacterized liver damage leading to hepatocellular carcinoma                                                                                                                                                                                                                                                                                          \n",
      " reference  | https://aopwiki.org/aops/1                                                                                                                                                                                                                                                                                                                                \n",
      " ao         | Promotion, Hepatocelluar carcinoma                                                                                                                                                                                                                                                                                                                        \n",
      " targetName | null                                                                                                                                                                                                                                                                                                                                                      \n",
      " keyEvents  | [{294, N/A, Unknown}, {57, Proliferation, Cell proliferation in the absence of cytotoxicity}, {334, Promotion, Hepatocelluar carcinoma}, {142, Hyperplasia, Hyperplasia}]                                                                                                                                                                                 \n",
      "-RECORD 1---------------------------------------------------------------------------------------------------------------------------------------------------------------------------------------------------------------------------------------------------------------------------------------------------------------------------------------------------------------\n",
      " aopId      | 3                                                                                                                                                                                                                                                                                                                                                         \n",
      " aoId       | 896                                                                                                                                                                                                                                                                                                                                                       \n",
      " status     | TFHA/WNT Endorsed                                                                                                                                                                                                                                                                                                                                         \n",
      " aopName    | Inhibition of the mitochondrial complex I of nigro-striatal neurons leads to parkinsonian motor deficits                                                                                                                                                                                                                                                  \n",
      " reference  | https://aopwiki.org/aops/3                                                                                                                                                                                                                                                                                                                                \n",
      " ao         | Parkinsonian motor deficits                                                                                                                                                                                                                                                                                                                               \n",
      " targetName | NADH-ubiquinone oxidoreductase chain 1                                                                                                                                                                                                                                                                                                                    \n",
      " keyEvents  | [{890, Degeneration of dopaminergic neurons of the nigrostriatal pathway}, {188, Neuroinflammation}, {177, N/A, Mitochondrial dysfunction 1}, {889, Impaired, Proteostasis}, {888, Binding of inhibitor, NADH-ubiquinone oxidoreductase (complex I)}, {896, Parkinsonian motor deficits}, {887, Inhibition, NADH-ubiquinone oxidoreductase  (complex I)}] \n",
      "only showing top 2 rows\n",
      "\n"
     ]
    }
   ],
   "source": [
    "aop_w_ao_df = (\n",
    "    aop_w_ao_df.drop('keyEvents')\n",
    "    .join(ke_names, on='aopId', how='inner')\n",
    "    .distinct()\n",
    ")\n",
    "\n",
    "aop_w_ao_df.show(2, False, True)"
   ]
  },
  {
   "cell_type": "markdown",
   "metadata": {
    "collapsed": false,
    "pycharm": {
     "name": "#%% md\n"
    }
   },
   "source": [
    "### 5. Species -- hasn't been extracted"
   ]
  },
  {
   "cell_type": "markdown",
   "metadata": {
    "collapsed": false,
    "pycharm": {
     "name": "#%% md\n"
    }
   },
   "source": [
    "### 6. Map target to Ensembl"
   ]
  },
  {
   "cell_type": "code",
   "execution_count": 49,
   "metadata": {
    "collapsed": false,
    "pycharm": {
     "name": "#%%\n"
    }
   },
   "outputs": [
    {
     "data": {
      "text/plain": [
       "Row(targetId='ENSG00000002586', namesCombined=['CD99', 'CD99 molecule (Xg blood group)', 'CD99 antigen', 'MIC2', 'MIC2X', 'MIC2Y', '12E7', 'E2 antigen', 'Protein MIC2', 'T-cell surface glycoprotein E2', 'HBA71', 'MSK5X', 'MIC2 (monoclonal antibody 12E7)', 'antigen identified by monoclonal 12E7, Y homolog', 'antigen identified by monoclonal antibodies 12E7, F21 and O13', 'cell surface antigen 12E7', 'cell surface antigen HBA-71', 'cell surface antigen O13', 'surface antigen MIC2'])"
      ]
     },
     "execution_count": 49,
     "metadata": {},
     "output_type": "execute_result"
    }
   ],
   "source": [
    "target_idx = (\n",
    "    spark.read.parquet('/Users/irene/Documents/dev/pyspark/22.02.4/targets')\n",
    "    .select('id', F.array('approvedSymbol').alias('approvedSymbol'),\n",
    "            F.array('approvedName').alias('approvedName'),\n",
    "            F.col('synonyms.label').alias('synonyms'), F.col('symbolSynonyms.label').alias('symbolSynonyms'),\n",
    "            F.col('nameSynonyms.label').alias('nameSynonyms'))\n",
    "    .withColumn('namesCombined', F.array_distinct(F.flatten(F.array('approvedSymbol', 'approvedName', 'synonyms', 'symbolSynonyms', 'nameSynonyms'))))\n",
    "    .select(F.col('id').alias('targetId'), 'namesCombined')\n",
    ")\n",
    "\n",
    "target_idx.first()"
   ]
  },
  {
   "cell_type": "code",
   "execution_count": 122,
   "metadata": {
    "collapsed": false,
    "pycharm": {
     "name": "#%%\n"
    }
   },
   "outputs": [
    {
     "name": "stdout",
     "output_type": "stream",
     "text": [
      "+--------------------+-----+----+-----------------+--------------------+--------------------+--------------------+--------------------+---------------+\n",
      "|          targetName|aopId|aoId|           status|             aopName|           reference|                  ao|           keyEvents|       targetId|\n",
      "+--------------------+-----+----+-----------------+--------------------+--------------------+--------------------+--------------------+---------------+\n",
      "|                null|    1| 334|             null|Uncharacterized l...|https://aopwiki.o...|Promotion, Hepato...|[{294, N/A, Unkno...|           null|\n",
      "|NADH-ubiquinone o...|    3| 896|TFHA/WNT Endorsed|Inhibition of the...|https://aopwiki.o...|Parkinsonian moto...|[{890, Degenerati...|ENSG00000198888|\n",
      "|                null|    3| 896|TFHA/WNT Endorsed|Inhibition of the...|https://aopwiki.o...|Parkinsonian moto...|[{890, Degenerati...|           null|\n",
      "+--------------------+-----+----+-----------------+--------------------+--------------------+--------------------+--------------------+---------------+\n",
      "only showing top 3 rows\n",
      "\n"
     ]
    }
   ],
   "source": [
    "aop_enriched = (\n",
    "    aop_w_ao_df.join(\n",
    "        target_idx.withColumn('targetName', F.explode('namesCombined')).drop('namesCombined'),\n",
    "        on='targetName', how='left'\n",
    "    )\n",
    "    .distinct()\n",
    ")\n",
    "\n",
    "aop_enriched.show(3)"
   ]
  },
  {
   "cell_type": "code",
   "execution_count": 55,
   "metadata": {
    "collapsed": false,
    "pycharm": {
     "name": "#%%\n"
    }
   },
   "outputs": [
    {
     "data": {
      "text/plain": [
       "92"
      ]
     },
     "execution_count": 55,
     "metadata": {},
     "output_type": "execute_result"
    }
   ],
   "source": [
    "aop_enriched.filter(F.col('targetId').isNotNull()).select('targetName').distinct().count()"
   ]
  },
  {
   "cell_type": "code",
   "execution_count": null,
   "metadata": {
    "collapsed": false,
    "pycharm": {
     "name": "#%%\n"
    }
   },
   "outputs": [],
   "source": [
    "# 92 out of 139 targets have been mapped to Ensembl."
   ]
  },
  {
   "cell_type": "markdown",
   "metadata": {
    "collapsed": false,
    "pycharm": {
     "name": "#%% md\n"
    }
   },
   "source": [
    "### 7. Map AO to EFO\n",
    "\n",
    "Many terms follow the pattern \"{X} leads to/leading to {Adverse Outcome}\". I'll extract these cases"
   ]
  },
  {
   "cell_type": "code",
   "execution_count": 92,
   "metadata": {},
   "outputs": [
    {
     "name": "stdout",
     "output_type": "stream",
     "text": [
      "+----------------------------------------------------------------------------------+\n",
      "|ao                                                                                |\n",
      "+----------------------------------------------------------------------------------+\n",
      "|Increase, Increased susceptibility to infection                                   |\n",
      "|Decline, Population trajectory                                                    |\n",
      "|Decrease, Reproduction                                                            |\n",
      "|Decrease, Fecundity (F3)                                                          |\n",
      "|N/A, Liver Steatosis                                                              |\n",
      "|N/A, Steatohepatisis                                                              |\n",
      "|Increase, Mutations                                                               |\n",
      "|impaired, Fertility                                                               |\n",
      "|impaired, Hive thermoregulation                                                   |\n",
      "|Increased, Pancreatic acinar tumors                                               |\n",
      "|Exacerbation of systemic lupus erythematosus (SLE)                                |\n",
      "|Infant leukaemia                                                                  |\n",
      "|skewed, sex ratio                                                                 |\n",
      "|Reduced, Reproductive Success                                                     |\n",
      "|Tumorigenesis, Hepatocellular carcinoma                                           |\n",
      "|Occurrence, Epileptic seizure                                                     |\n",
      "|Necrosis                                                                          |\n",
      "|Formation, Hepatocellular and Bile duct tumors                                    |\n",
      "|Activated, gastric ulcer formation                                                |\n",
      "|Loss, Cochlear function                                                           |\n",
      "|Cognitive Function, Decreased                                                     |\n",
      "|obesity                                                                           |\n",
      "|Increase, seizure                                                                 |\n",
      "|Hepatotoxicity                                                                    |\n",
      "|Decreased Cholesterol, Decreased sperm quantity and/or quality in the adult testis|\n",
      "|Increased, Ductal Hyperplasia                                                     |\n",
      "|Increase, Chromosomal aberrations                                                 |\n",
      "|Apoptosis                                                                         |\n",
      "|Malformation, Male reproductive tract                                             |\n",
      "|Impairment, Learning and memory                                                   |\n",
      "|Increased, predation                                                              |\n",
      "|Decrease, Fertility                                                               |\n",
      "|N/A, Liver fibrosis                                                               |\n",
      "|Increased, amputations                                                            |\n",
      "|Increased, Liver Steatosis                                                        |\n",
      "|N/A, Neurodegeneration                                                            |\n",
      "|Increase, predation                                                               |\n",
      "|Reproductive failure                                                              |\n",
      "|Chronic kidney disease                                                            |\n",
      "|Lung cancer                                                                       |\n",
      "|Growth, reduction                                                                 |\n",
      "|Increase, Early Life Stage Mortality                                              |\n",
      "|N/A, Impairment of reproductive capacity                                          |\n",
      "|null                                                                              |\n",
      "|Increase, Adenomas/carcinomas (renal tubular)                                     |\n",
      "|Decreased, Population trajectory                                                  |\n",
      "|Increased, hippocampal hyperdepolarization                                        |\n",
      "|impaired, Larval development                                                      |\n",
      "|Increase, Cancer                                                                  |\n",
      "|Increase, Mortality                                                               |\n",
      "|Liver Injury                                                                      |\n",
      "|Increased, seizure                                                                |\n",
      "|Inflamatory events in light-exposed tissues                                       |\n",
      "|Decreased sperm quantity / quality in the adult, Decreased fertility              |\n",
      "|Promotion, ovarian granular cell tumors                                           |\n",
      "|Decreased, Reproductive Success                                                   |\n",
      "|Impairment of T-cell dependent antibody response                                  |\n",
      "|N/A, Reproductive failure                                                         |\n",
      "|dysgeusia                                                                         |\n",
      "|Formation, Liver fibrosis                                                         |\n",
      "|Increased Apoptosis, Adenomas/carcinomas (follicular cell)                        |\n",
      "|Impaired development of, Reproductive organs                                      |\n",
      "|Death/Failure, Colony                                                             |\n",
      "|Decreased, Decreased fecundity                                                    |\n",
      "|Impaired recruitment , Population trajectory                                      |\n",
      "|Altered, Reproductive behaviour                                                   |\n",
      "|Increase, Adenomas/carcinomas (bronchioloalveolar)                                |\n",
      "|Decrease, Lung function                                                           |\n",
      "|Increased, adenomas (pituitary)                                                   |\n",
      "|Decrease, Growth                                                                  |\n",
      "|Encephalitis                                                                      |\n",
      "|Increased, Kidney Failure                                                         |\n",
      "|Increase, hepatocellular adenomas and carcinomas                                  |\n",
      "|Reduction, Cumulative fecundity and spawning                                      |\n",
      "|Decrease, Population trajectory                                                   |\n",
      "|Anomalies, Congenital cardiac conotruncal                                         |\n",
      "|Chemical induced Fanconi syndrome                                                 |\n",
      "|N/A, Breast Cancer                                                                |\n",
      "|Plaque progression in arteries                                                    |\n",
      "|Increased, steatosis                                                              |\n",
      "|Neurodegeneration                                                                 |\n",
      "|Altered, Amphibian metamorphosis                                                  |\n",
      "|Hypertension                                                                      |\n",
      "|Uroporphyria                                                                      |\n",
      "|Facial cartilage structures are reduced in size and morphologically distorted     |\n",
      "|Urothelial Tumor                                                                  |\n",
      "|Increased, Population                                                             |\n",
      "|Promotion, Hepatocelluar carcinoma                                                |\n",
      "|Treatment-resistant gastric cancer                                                |\n",
      "|Pancreatic acinar cell tumors                                                     |\n",
      "|Increase, DNA damage                                                              |\n",
      "|sensitisation, skin                                                               |\n",
      "|Decreased, survival                                                               |\n",
      "|Psoriatic skin disease                                                            |\n",
      "|Analgesia                                                                         |\n",
      "|Decreased fertility, Reduced number of oocytes ovulated                           |\n",
      "|Increase, hypertension                                                            |\n",
      "|Testicular atrophy                                                                |\n",
      "|Necrotic Tissue                                                                   |\n",
      "|Increase, Adenomas/carcinomas (follicular cell)                                   |\n",
      "+----------------------------------------------------------------------------------+\n",
      "only showing top 100 rows\n",
      "\n"
     ]
    }
   ],
   "source": [
    "aop_enriched.select('ao').distinct().show(100, truncate=False)"
   ]
  },
  {
   "cell_type": "code",
   "execution_count": 123,
   "metadata": {},
   "outputs": [
    {
     "data": {
      "text/plain": [
       "array(['increase retained nipples in males', 'Altered Larval development',\n",
       "       'Liver fibrosis', 'Increased Reproductive Success',\n",
       "       'Formation Liver fibrosis',\n",
       "       'Exacerbation of systemic lupus erythematosus (SLE)',\n",
       "       'Infant leukaemia', 'increase Preeclampsia',\n",
       "       'Impairment of reproductive capacity',\n",
       "       'Occurrence Epileptic seizure', 'Increased adenomas (pituitary)',\n",
       "       'Increased agitation', 'Increase Leydig cell tumors',\n",
       "       'Increase Chromosomal aberrations', 'Necrosis',\n",
       "       'Increase lung cancer',\n",
       "       'Impairedanterior-posterior axis development',\n",
       "       'Occurrence Kidney toxicity', 'Decreased Population size',\n",
       "       'obesity'], dtype=object)"
      ]
     },
     "execution_count": 123,
     "metadata": {},
     "output_type": "execute_result"
    }
   ],
   "source": [
    "aop_enriched = (\n",
    "    aop_enriched\n",
    "    .withColumn('aoNameRaw', F.col('ao'))\n",
    "    .withColumn('aoName', F.regexp_replace(F.col('aoNameRaw'), 'N/A', ''))\n",
    "    .withColumn('aoName', F.trim(F.regexp_replace(F.col('aoName'), ',', '')))\n",
    ")\n",
    "\n",
    "aos = (aop_enriched.select('aoName').distinct().toPandas()['aoName'].dropna().unique())\n",
    "aos[:20]\n"
   ]
  },
  {
   "cell_type": "code",
   "execution_count": 56,
   "metadata": {
    "collapsed": false,
    "pycharm": {
     "is_executing": true,
     "name": "#%%\n"
    }
   },
   "outputs": [
    {
     "name": "stderr",
     "output_type": "stream",
     "text": [
      "INFO     - ontoma.interface - Using EFO cache from /var/folders/54/2j7x_lqn343_d6hjm7mcv9rc0000gn/T/tmp_umk81e9.\n",
      "INFO:ontoma.interface:Using EFO cache from /var/folders/54/2j7x_lqn343_d6hjm7mcv9rc0000gn/T/tmp_umk81e9.\n",
      "INFO     - ontoma.interface - Loaded 20060 terms, 89072 xrefs, and 65125 synonyms from EFO cache.\n",
      "INFO:ontoma.interface:Loaded 20060 terms, 89072 xrefs, and 65125 synonyms from EFO cache.\n"
     ]
    }
   ],
   "source": [
    "from ontoma import OnToma\n",
    "\n",
    "otmap = OnToma()"
   ]
  },
  {
   "cell_type": "code",
   "execution_count": null,
   "metadata": {
    "collapsed": false,
    "pycharm": {
     "name": "#%%\n"
    }
   },
   "outputs": [],
   "source": [
    "mappings = dict()\n",
    "\n",
    "for event in aos:\n",
    "    mapping = otmap.find_term(event)\n",
    "    if len(mapping) > 0:\n",
    "        mappings[event] = mapping[0].id_ot_schema"
   ]
  },
  {
   "cell_type": "code",
   "execution_count": 113,
   "metadata": {
    "collapsed": false,
    "pycharm": {
     "name": "#%%\n"
    }
   },
   "outputs": [
    {
     "data": {
      "text/plain": [
       "{'Liver fibrosis': 'HP_0001395',\n",
       " 'Necrosis': 'EFO_0009426',\n",
       " 'obesity': 'EFO_0001073',\n",
       " 'Hepatotoxicity': 'EFO_0011052',\n",
       " 'Chronic kidney disease': 'EFO_0003884',\n",
       " 'Lung cancer': 'MONDO_0008903',\n",
       " 'Heart failure': 'EFO_0003144',\n",
       " 'Encephalitis': 'MONDO_0019956',\n",
       " 'Neurodegeneration': 'HP_0002180',\n",
       " 'Hypertension': 'EFO_0000537',\n",
       " 'Liver Steatosis': 'HP_0001397',\n",
       " 'Analgesia': 'EFO_1001484',\n",
       " 'Decreased Body Weight': 'HP_0004325',\n",
       " 'Testicular atrophy': 'HP_0000029',\n",
       " 'Breast Cancer': 'MONDO_0007254',\n",
       " 'Liver Cancer': 'MONDO_0002691',\n",
       " 'Pulmonary fibrosis': 'EFO_0009448',\n",
       " 'Bronchiolitis obliterans': 'EFO_0007183',\n",
       " 'Testicular Cancer': 'MONDO_0003510'}"
      ]
     },
     "execution_count": 113,
     "metadata": {},
     "output_type": "execute_result"
    }
   ],
   "source": [
    "mappings"
   ]
  },
  {
   "cell_type": "code",
   "execution_count": 143,
   "metadata": {
    "collapsed": false,
    "pycharm": {
     "name": "#%%\n"
    }
   },
   "outputs": [],
   "source": [
    "# Coverage is very low: 19 out of 98 AOs have been successfully mapped"
   ]
  },
  {
   "cell_type": "code",
   "execution_count": 114,
   "metadata": {},
   "outputs": [
    {
     "data": {
      "text/plain": [
       "Row(targetName=None, aopId=1, aoId=334, status=None, aopName='Uncharacterized liver damage leading to hepatocellular carcinoma', reference='https://aopwiki.org/aops/1', ao='Promotion, Hepatocelluar carcinoma', keyEvents=[Row(keId=294, keName='N/A, Unknown'), Row(keId=57, keName='Proliferation, Cell proliferation in the absence of cytotoxicity'), Row(keId=334, keName='Promotion, Hepatocelluar carcinoma'), Row(keId=142, keName='Hyperplasia, Hyperplasia')], targetId=None, aoNameCleaned='Promotion Hepatocelluar carcinoma')"
      ]
     },
     "execution_count": 114,
     "metadata": {},
     "output_type": "execute_result"
    }
   ],
   "source": [
    "aop_enriched.first()"
   ]
  },
  {
   "cell_type": "code",
   "execution_count": 124,
   "metadata": {
    "collapsed": false,
    "pycharm": {
     "name": "#%%\n"
    }
   },
   "outputs": [
    {
     "name": "stdout",
     "output_type": "stream",
     "text": [
      "-RECORD 0-----------------------------------------------------------------------------------------------------------------------------------------------------------------------------------------------------------------------------------------------------------------------------------------------------------------------------------------------------------------------------------------------\n",
      " targetName | null                                                                                                                                                                                                                                                                                                                                                                                      \n",
      " aopId      | 293                                                                                                                                                                                                                                                                                                                                                                                       \n",
      " aoId       | 1193                                                                                                                                                                                                                                                                                                                                                                                      \n",
      " status     | Under Development                                                                                                                                                                                                                                                                                                                                                                         \n",
      " aopName    | Increased DNA damage leading to increased risk of breast cancer                                                                                                                                                                                                                                                                                                                           \n",
      " reference  | https://aopwiki.org/aops/293                                                                                                                                                                                                                                                                                                                                                              \n",
      " ao         | N/A, Breast Cancer                                                                                                                                                                                                                                                                                                                                                                        \n",
      " keyEvents  | [{1182, Increase, Cell Proliferation (Epithelial Cells)}, {185, Increase, Mutations}, {1632, Increase in reactive oxygen and nitrogen species (RONS)}, {1493, Increased Pro-inflammatory mediators}, {1193, N/A, Breast Cancer}, {1194, Increase, DNA damage}, {1192, Increased, Ductal Hyperplasia }, {1492, Tissue resident cell activation}, {1494, Leukocyte recruitment/activation}] \n",
      " targetId   | null                                                                                                                                                                                                                                                                                                                                                                                      \n",
      " aoNameRaw  | N/A, Breast Cancer                                                                                                                                                                                                                                                                                                                                                                        \n",
      " aoName     | Breast Cancer                                                                                                                                                                                                                                                                                                                                                                             \n",
      " aoMappedId | MONDO_0007254                                                                                                                                                                                                                                                                                                                                                                             \n",
      "-RECORD 1-----------------------------------------------------------------------------------------------------------------------------------------------------------------------------------------------------------------------------------------------------------------------------------------------------------------------------------------------------------------------------------------------\n",
      " targetName | null                                                                                                                                                                                                                                                                                                                                                                                      \n",
      " aopId      | 347                                                                                                                                                                                                                                                                                                                                                                                       \n",
      " aoId       | 1458                                                                                                                                                                                                                                                                                                                                                                                      \n",
      " status     | null                                                                                                                                                                                                                                                                                                                                                                                      \n",
      " aopName    | Toll-like receptor 4 activation and peroxisome proliferator-activated receptor gamma inactivation leading to pulmonary fibrosis                                                                                                                                                                                                                                                           \n",
      " reference  | https://aopwiki.org/aops/347                                                                                                                                                                                                                                                                                                                                                              \n",
      " ao         | Pulmonary fibrosis                                                                                                                                                                                                                                                                                                                                                                        \n",
      " keyEvents  | [{1795, Latent Transforming growth Factor beta expression}, {1794, Pin-1 activation}, {1792, Toll-like receptor 4 activation}, {1457, Induction, Epithelial Mesenchymal Transition}, {1458, Pulmonary fibrosis}, {1292, Activation, JNK}, {1283, Activation, TGF-beta pathway}, {1793, Activator protein 1 activation}, {1270, Inactivation of PPARγ}]                                    \n",
      " targetId   | null                                                                                                                                                                                                                                                                                                                                                                                      \n",
      " aoNameRaw  | Pulmonary fibrosis                                                                                                                                                                                                                                                                                                                                                                        \n",
      " aoName     | Pulmonary fibrosis                                                                                                                                                                                                                                                                                                                                                                        \n",
      " aoMappedId | EFO_0009448                                                                                                                                                                                                                                                                                                                                                                               \n",
      "only showing top 2 rows\n",
      "\n"
     ]
    }
   ],
   "source": [
    "# Add mappings to the table\n",
    "\n",
    "aop_enriched = (\n",
    "    aop_enriched.withColumn('aoMappedId', F.col('aoName'))\n",
    "    .replace(to_replace=mappings, subset=['aoMappedId'])\n",
    "    .withColumn('aoMappedId', F.when(F.col('aoMappedId').contains('_'), F.col('aoMappedId')))\n",
    ")\n",
    "\n",
    "aop_enriched.filter(F.col('aoMappedId').isNotNull()).show(2, False, True)"
   ]
  },
  {
   "cell_type": "markdown",
   "metadata": {
    "collapsed": false,
    "pycharm": {
     "name": "#%% md\n"
    }
   },
   "source": [
    "### 8. Export resulting table"
   ]
  },
  {
   "cell_type": "code",
   "execution_count": 125,
   "metadata": {
    "collapsed": false,
    "pycharm": {
     "name": "#%%\n"
    }
   },
   "outputs": [
    {
     "name": "stdout",
     "output_type": "stream",
     "text": [
      "-RECORD 0-------------------------------------------------------------------------------------------------------------------------------------------------------------------------------\n",
      " aopId      | 1                                                                                                                                                                         \n",
      " aopName    | Uncharacterized liver damage leading to hepatocellular carcinoma                                                                                                          \n",
      " targetName | null                                                                                                                                                                      \n",
      " targetId   | null                                                                                                                                                                      \n",
      " aoId       | 334                                                                                                                                                                       \n",
      " aoName     | Promotion Hepatocelluar carcinoma                                                                                                                                         \n",
      " aoNameRaw  | Promotion, Hepatocelluar carcinoma                                                                                                                                        \n",
      " aoMappedId | null                                                                                                                                                                      \n",
      " keyEvents  | [{294, N/A, Unknown}, {57, Proliferation, Cell proliferation in the absence of cytotoxicity}, {334, Promotion, Hepatocelluar carcinoma}, {142, Hyperplasia, Hyperplasia}] \n",
      " species    | null                                                                                                                                                                      \n",
      " status     | null                                                                                                                                                                      \n",
      " reference  | https://aopwiki.org/aops/1                                                                                                                                                \n",
      "only showing top 1 row\n",
      "\n"
     ]
    }
   ],
   "source": [
    "output = (\n",
    "    aop_enriched\n",
    "    .withColumn('species', F.lit(None))\n",
    "    .select('aopId', 'aopName', 'targetName', 'targetId', 'aoId', 'aoName', 'aoNameRaw', 'aoMappedId', 'keyEvents', 'species', 'status', 'reference')\n",
    "    .distinct()\n",
    ")\n",
    "\n",
    "output.show(1, False, True)"
   ]
  },
  {
   "cell_type": "code",
   "execution_count": 126,
   "metadata": {
    "collapsed": false,
    "pycharm": {
     "name": "#%%\n"
    }
   },
   "outputs": [],
   "source": [
    "output.coalesce(1).write.json('outputs/AOPWiki_reformatted_220302')"
   ]
  },
  {
   "cell_type": "code",
   "execution_count": null,
   "metadata": {},
   "outputs": [],
   "source": []
  }
 ],
 "metadata": {
  "kernelspec": {
   "display_name": "Python 3",
   "language": "python",
   "name": "python3"
  },
  "language_info": {
   "codemirror_mode": {
    "name": "ipython",
    "version": 3
   },
   "file_extension": ".py",
   "mimetype": "text/x-python",
   "name": "python",
   "nbconvert_exporter": "python",
   "pygments_lexer": "ipython3",
   "version": "3.7.9"
  }
 },
 "nbformat": 4,
 "nbformat_minor": 0
}
