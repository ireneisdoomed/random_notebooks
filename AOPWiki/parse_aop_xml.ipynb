{
 "cells": [
  {
   "cell_type": "code",
   "execution_count": 1,
   "metadata": {},
   "outputs": [],
   "source": [
    "import os\n",
    "\n",
    "from pyspark.sql import DataFrame, SparkSession\n",
    "import pyspark.sql.functions as F\n",
    "\n",
    "os.environ['PYSPARK_SUBMIT_ARGS'] = '--packages com.databricks:spark-xml_2.12:0.12.0 pyspark-shell'\n",
    "\n",
    "spark = (SparkSession.builder\n",
    "         .master('local[*]')\n",
    "         .config(\"spark.driver.memory\", \"15g\")\n",
    "         .appName('spark')\n",
    "         .getOrCreate())"
   ]
  },
  {
   "cell_type": "code",
   "execution_count": 4,
   "metadata": {},
   "outputs": [],
   "source": [
    "aop_xml = 'data/dump/aop-wiki-xml-2022-01-01.gz'\n",
    "\n",
    "entities = [\n",
    "    \"chemical\",\n",
    "      \"biological-object\",\n",
    "      \"biological-process\",\n",
    "      \"biological-action\",\n",
    "      \"stressor\",\n",
    "      \"taxonomy\",\n",
    "      \"key-event\",\n",
    "      \"key-event-relationship\",\n",
    "      \"aop\",\n",
    "      \"vendor-specific\"\n",
    "]"
   ]
  },
  {
   "cell_type": "code",
   "execution_count": 5,
   "metadata": {},
   "outputs": [],
   "source": [
    "chemical_df, bio_object_df, bio_process_df, bio_action_df, stressor_df, taxonomy_df, ke_df, ker_df, aop_df, vendor_specific_df = [\n",
    "    spark.read.format('xml').option('rootTag', 'data').option('rowTag', entity).load(aop_xml)\n",
    "    for entity in entities\n",
    "]"
   ]
  },
  {
   "cell_type": "markdown",
   "metadata": {},
   "source": [
    "## Extract Taxonomic applicability per AOP\n",
    "\n",
    "In `vendor_specific_df` you can find the IDs with the relationships between entities."
   ]
  },
  {
   "cell_type": "code",
   "execution_count": 6,
   "metadata": {},
   "outputs": [],
   "source": [
    "def getIdLookup(field: str) -> DataFrame:\n",
    "    \"\"\"Returns a dataframe where the ID of the AOP is referenced to the hash of a different node.\"\"\"\n",
    "\n",
    "    fields = [\n",
    "        \"aop\",\n",
    "        \"biological-action\",\n",
    "        \"biological-object\",\n",
    "        \"biological-process\",\n",
    "        \"chemical\",\n",
    "        \"key-event\",\n",
    "        \"key-event-relationship\",\n",
    "        \"stressor\",\n",
    "        \"taxonomy\",\n",
    "        \"taxonomy-reference\"\n",
    "    ]\n",
    "    \n",
    "    assert field in fields, f'{field} source field is not valid. Impossible to get ID.'\n",
    "\n",
    "    return (\n",
    "        vendor_specific_df.withColumn('r', F.explode(field))\n",
    "        .select(F.col(\"r._id\").alias('xrefId'), F.col(\"r._aop-wiki-id\").alias('aopId'))\n",
    "    )"
   ]
  },
  {
   "cell_type": "code",
   "execution_count": 8,
   "metadata": {},
   "outputs": [
    {
     "name": "stdout",
     "output_type": "stream",
     "text": [
      "+--------------------+------+\n",
      "|              xrefId| aopId|\n",
      "+--------------------+------+\n",
      "|3cf5bab0-bfa0-48d...|    69|\n",
      "|64d2435b-11f6-4bc...|   459|\n",
      "|53fc5b57-1854-427...|    74|\n",
      "|5ba6e1b4-6cc0-432...|    31|\n",
      "|7790ac41-b325-4ac...|    68|\n",
      "|78330d72-718b-475...|  4578|\n",
      "|5fe4e410-4fe9-49b...|   656|\n",
      "|a08c5500-86f9-4bc...|720890|\n",
      "|8c8543e6-1276-412...|   525|\n",
      "|42be7f04-cce8-4e2...|     1|\n",
      "|61c52f46-66ce-416...|    30|\n",
      "|479c8a10-07aa-452...|   623|\n",
      "|737479c1-185c-4e0...|    71|\n",
      "|cb93063e-3148-4b3...|  2965|\n",
      "|eb0c0f76-2899-4db...|  2971|\n",
      "|3fbffa75-bd1e-451...|   646|\n",
      "|8aca03a4-1b8f-4a0...|    66|\n",
      "|85f5eeb8-57e2-44e...|   515|\n",
      "|e816787c-ec48-490...|  5084|\n",
      "|9b76e3b8-1044-496...|    45|\n",
      "+--------------------+------+\n",
      "only showing top 20 rows\n",
      "\n"
     ]
    }
   ],
   "source": [
    "taxonomyRefLookup = getIdLookup('taxonomy-reference')\n",
    "\n",
    "taxonomyRefLookup.show()"
   ]
  },
  {
   "cell_type": "code",
   "execution_count": 37,
   "metadata": {},
   "outputs": [
    {
     "name": "stdout",
     "output_type": "stream",
     "text": [
      "+------+--------------------+\n",
      "| aopId|       applicability|\n",
      "+------+--------------------+\n",
      "|  8935|  Ostrinia nubilalis|\n",
      "|142643|Xenopus (Silurana...|\n",
      "|   611| Meleagris gallopavo|\n",
      "|   658|   Daphnia pulicaria|\n",
      "|123451|  Liriomyza trifolii|\n",
      "+------+--------------------+\n",
      "only showing top 5 rows\n",
      "\n"
     ]
    }
   ],
   "source": [
    "aop_w_applicability = (\n",
    "    taxonomyRefLookup\n",
    "    .join(\n",
    "        taxonomy_df.select('_id', F.col('name').alias('applicability')),\n",
    "        taxonomy_df['_id'] == taxonomyRefLookup['xrefId'],\n",
    "        how='inner'\n",
    "    )\n",
    "    .drop('_id', 'xrefId')\n",
    "    .distinct()\n",
    ")\n",
    "\n",
    "aop_w_applicability.show(5)"
   ]
  },
  {
   "cell_type": "code",
   "execution_count": 22,
   "metadata": {},
   "outputs": [
    {
     "name": "stdout",
     "output_type": "stream",
     "text": [
      "+-----+-------------+\n",
      "|aopId|applicability|\n",
      "+-----+-------------+\n",
      "|   69|         rats|\n",
      "+-----+-------------+\n",
      "\n"
     ]
    }
   ],
   "source": [
    "aop_w_applicability.filter(F.col('aopId') == '69').show()"
   ]
  },
  {
   "cell_type": "code",
   "execution_count": 30,
   "metadata": {},
   "outputs": [
    {
     "name": "stdout",
     "output_type": "stream",
     "text": [
      "+--------------------------------------+-----+\n",
      "|applicability                         |count|\n",
      "+--------------------------------------+-----+\n",
      "|Mustela putorius furo                 |1    |\n",
      "|Common Starling                       |1    |\n",
      "|goldfish                              |1    |\n",
      "|Sprague-Dawley                        |1    |\n",
      "|Argopecten irradians                  |1    |\n",
      "|chickens                              |1    |\n",
      "|Dicentrarchus labrax                  |1    |\n",
      "|human, mouse, rat                     |1    |\n",
      "|Acipenser fulvescens                  |1    |\n",
      "|Xenopus (Silurana) n. sp. tetraploid-1|1    |\n",
      "|Anopheles gambiae                     |1    |\n",
      "|Gammarus pulex                        |1    |\n",
      "|Homo sapiens                          |1    |\n",
      "|nematode                              |1    |\n",
      "|Radopholus similis                    |1    |\n",
      "|Lacerta vivipara                      |1    |\n",
      "|eisenia fetida                        |1    |\n",
      "|tritonea diomedea                     |1    |\n",
      "|gilthead bream                        |1    |\n",
      "|Philosamia ricini                     |1    |\n",
      "+--------------------------------------+-----+\n",
      "only showing top 20 rows\n",
      "\n"
     ]
    }
   ],
   "source": [
    "# It is impossible that no species are repeated...\n",
    "\n",
    "aop_w_applicability.groupBy('applicability').count().orderBy(F.col('count').desc()).show(truncate=False)"
   ]
  },
  {
   "cell_type": "code",
   "execution_count": 38,
   "metadata": {},
   "outputs": [],
   "source": [
    "# Let's clean the string a little bit\n",
    "\n",
    "aop_w_applicability = (\n",
    "    aop_w_applicability\n",
    "    .withColumn('applicability', F.explode(F.split('applicability', ', ')))\n",
    ")\n"
   ]
  },
  {
   "cell_type": "code",
   "execution_count": 39,
   "metadata": {},
   "outputs": [
    {
     "data": {
      "text/plain": [
       "Row(aopId=1, aoId=334, aoMappedId=None, aoName='Promotion Hepatocelluar carcinoma', aoNameRaw='Promotion, Hepatocelluar carcinoma', aopName='Uncharacterized liver damage leading to hepatocellular carcinoma', keyEvents=[Row(keId=294, keName='N/A, Unknown'), Row(keId=57, keName='Proliferation, Cell proliferation in the absence of cytotoxicity'), Row(keId=334, keName='Promotion, Hepatocelluar carcinoma'), Row(keId=142, keName='Hyperplasia, Hyperplasia')], reference='https://aopwiki.org/aops/1', status=None, targetId=None, targetName=None, applicability='Homo sapiens')"
      ]
     },
     "execution_count": 39,
     "metadata": {},
     "output_type": "execute_result"
    }
   ],
   "source": [
    "aop_annotation = (\n",
    "    spark.read.json('outputs/AOPWiki_reformatted_220302')\n",
    "    .join(aop_w_applicability, on='aopId', how='left')\n",
    ")\n",
    "\n",
    "aop_annotation.first()"
   ]
  },
  {
   "cell_type": "code",
   "execution_count": 40,
   "metadata": {},
   "outputs": [
    {
     "data": {
      "text/html": [
       "<div>\n",
       "<style scoped>\n",
       "    .dataframe tbody tr th:only-of-type {\n",
       "        vertical-align: middle;\n",
       "    }\n",
       "\n",
       "    .dataframe tbody tr th {\n",
       "        vertical-align: top;\n",
       "    }\n",
       "\n",
       "    .dataframe thead th {\n",
       "        text-align: right;\n",
       "    }\n",
       "</style>\n",
       "<table border=\"1\" class=\"dataframe\">\n",
       "  <thead>\n",
       "    <tr style=\"text-align: right;\">\n",
       "      <th></th>\n",
       "      <th>aopId</th>\n",
       "      <th>aoId</th>\n",
       "      <th>aoMappedId</th>\n",
       "      <th>aoName</th>\n",
       "      <th>aoNameRaw</th>\n",
       "      <th>aopName</th>\n",
       "      <th>keyEvents</th>\n",
       "      <th>reference</th>\n",
       "      <th>status</th>\n",
       "      <th>targetId</th>\n",
       "      <th>targetName</th>\n",
       "      <th>applicability</th>\n",
       "    </tr>\n",
       "  </thead>\n",
       "  <tbody>\n",
       "    <tr>\n",
       "      <th>0</th>\n",
       "      <td>26</td>\n",
       "      <td>356</td>\n",
       "      <td>None</td>\n",
       "      <td>Increased Oxidative damage</td>\n",
       "      <td>Increased, Oxidative damage</td>\n",
       "      <td>Calcium-mediated neuronal ROS production and e...</td>\n",
       "      <td>[(40, Decrease, Mitochondrial ATP production),...</td>\n",
       "      <td>https://aopwiki.org/aops/26</td>\n",
       "      <td>None</td>\n",
       "      <td>None</td>\n",
       "      <td>None</td>\n",
       "      <td>None</td>\n",
       "    </tr>\n",
       "    <tr>\n",
       "      <th>1</th>\n",
       "      <td>29</td>\n",
       "      <td>363</td>\n",
       "      <td>None</td>\n",
       "      <td>Altered Reproductive behaviour</td>\n",
       "      <td>Altered, Reproductive behaviour</td>\n",
       "      <td>Estrogen receptor agonism leading to reproduct...</td>\n",
       "      <td>[(111, Agonism, Estrogen receptor), (252, Incr...</td>\n",
       "      <td>https://aopwiki.org/aops/29</td>\n",
       "      <td>None</td>\n",
       "      <td>ENSG00000091831</td>\n",
       "      <td>estrogen receptor</td>\n",
       "      <td>None</td>\n",
       "    </tr>\n",
       "    <tr>\n",
       "      <th>2</th>\n",
       "      <td>29</td>\n",
       "      <td>363</td>\n",
       "      <td>None</td>\n",
       "      <td>Altered Reproductive behaviour</td>\n",
       "      <td>Altered, Reproductive behaviour</td>\n",
       "      <td>Estrogen receptor agonism leading to reproduct...</td>\n",
       "      <td>[(111, Agonism, Estrogen receptor), (252, Incr...</td>\n",
       "      <td>https://aopwiki.org/aops/29</td>\n",
       "      <td>None</td>\n",
       "      <td>None</td>\n",
       "      <td>None</td>\n",
       "      <td>None</td>\n",
       "    </tr>\n",
       "    <tr>\n",
       "      <th>3</th>\n",
       "      <td>29</td>\n",
       "      <td>339</td>\n",
       "      <td>None</td>\n",
       "      <td>Altered Larval development</td>\n",
       "      <td>Altered, Larval development</td>\n",
       "      <td>Estrogen receptor agonism leading to reproduct...</td>\n",
       "      <td>[(111, Agonism, Estrogen receptor), (252, Incr...</td>\n",
       "      <td>https://aopwiki.org/aops/29</td>\n",
       "      <td>None</td>\n",
       "      <td>ENSG00000091831</td>\n",
       "      <td>estrogen receptor</td>\n",
       "      <td>None</td>\n",
       "    </tr>\n",
       "    <tr>\n",
       "      <th>4</th>\n",
       "      <td>29</td>\n",
       "      <td>339</td>\n",
       "      <td>None</td>\n",
       "      <td>Altered Larval development</td>\n",
       "      <td>Altered, Larval development</td>\n",
       "      <td>Estrogen receptor agonism leading to reproduct...</td>\n",
       "      <td>[(111, Agonism, Estrogen receptor), (252, Incr...</td>\n",
       "      <td>https://aopwiki.org/aops/29</td>\n",
       "      <td>None</td>\n",
       "      <td>None</td>\n",
       "      <td>None</td>\n",
       "      <td>None</td>\n",
       "    </tr>\n",
       "  </tbody>\n",
       "</table>\n",
       "</div>"
      ],
      "text/plain": [
       "   aopId  aoId aoMappedId                          aoName  \\\n",
       "0     26   356       None      Increased Oxidative damage   \n",
       "1     29   363       None  Altered Reproductive behaviour   \n",
       "2     29   363       None  Altered Reproductive behaviour   \n",
       "3     29   339       None      Altered Larval development   \n",
       "4     29   339       None      Altered Larval development   \n",
       "\n",
       "                         aoNameRaw  \\\n",
       "0      Increased, Oxidative damage   \n",
       "1  Altered, Reproductive behaviour   \n",
       "2  Altered, Reproductive behaviour   \n",
       "3      Altered, Larval development   \n",
       "4      Altered, Larval development   \n",
       "\n",
       "                                             aopName  \\\n",
       "0  Calcium-mediated neuronal ROS production and e...   \n",
       "1  Estrogen receptor agonism leading to reproduct...   \n",
       "2  Estrogen receptor agonism leading to reproduct...   \n",
       "3  Estrogen receptor agonism leading to reproduct...   \n",
       "4  Estrogen receptor agonism leading to reproduct...   \n",
       "\n",
       "                                           keyEvents  \\\n",
       "0  [(40, Decrease, Mitochondrial ATP production),...   \n",
       "1  [(111, Agonism, Estrogen receptor), (252, Incr...   \n",
       "2  [(111, Agonism, Estrogen receptor), (252, Incr...   \n",
       "3  [(111, Agonism, Estrogen receptor), (252, Incr...   \n",
       "4  [(111, Agonism, Estrogen receptor), (252, Incr...   \n",
       "\n",
       "                     reference status         targetId         targetName  \\\n",
       "0  https://aopwiki.org/aops/26   None             None               None   \n",
       "1  https://aopwiki.org/aops/29   None  ENSG00000091831  estrogen receptor   \n",
       "2  https://aopwiki.org/aops/29   None             None               None   \n",
       "3  https://aopwiki.org/aops/29   None  ENSG00000091831  estrogen receptor   \n",
       "4  https://aopwiki.org/aops/29   None             None               None   \n",
       "\n",
       "  applicability  \n",
       "0          None  \n",
       "1          None  \n",
       "2          None  \n",
       "3          None  \n",
       "4          None  "
      ]
     },
     "execution_count": 40,
     "metadata": {},
     "output_type": "execute_result"
    }
   ],
   "source": [
    "aop_annotation.toPandas().head()"
   ]
  },
  {
   "cell_type": "code",
   "execution_count": 42,
   "metadata": {},
   "outputs": [],
   "source": [
    "aop_annotation.coalesce(1).write.json('outputs/AOPWiki_reformatted_enriched_220302')"
   ]
  },
  {
   "cell_type": "markdown",
   "metadata": {},
   "source": []
  },
  {
   "cell_type": "code",
   "execution_count": 43,
   "metadata": {},
   "outputs": [
    {
     "name": "stdout",
     "output_type": "stream",
     "text": [
      "-RECORD 0----------------------------------------------------------------------------------------------------------------------------------------------------------------------------------\n",
      " aopId         | 1                                                                                                                                                                         \n",
      " aoId          | 334                                                                                                                                                                       \n",
      " aoMappedId    | null                                                                                                                                                                      \n",
      " aoName        | Promotion Hepatocelluar carcinoma                                                                                                                                         \n",
      " aoNameRaw     | Promotion, Hepatocelluar carcinoma                                                                                                                                        \n",
      " aopName       | Uncharacterized liver damage leading to hepatocellular carcinoma                                                                                                          \n",
      " keyEvents     | [{294, N/A, Unknown}, {57, Proliferation, Cell proliferation in the absence of cytotoxicity}, {334, Promotion, Hepatocelluar carcinoma}, {142, Hyperplasia, Hyperplasia}] \n",
      " reference     | https://aopwiki.org/aops/1                                                                                                                                                \n",
      " status        | null                                                                                                                                                                      \n",
      " targetId      | null                                                                                                                                                                      \n",
      " targetName    | null                                                                                                                                                                      \n",
      " applicability | Homo sapiens                                                                                                                                                              \n",
      "only showing top 1 row\n",
      "\n"
     ]
    }
   ],
   "source": [
    "aop_annotation.show(1, False, True)"
   ]
  },
  {
   "cell_type": "code",
   "execution_count": null,
   "metadata": {},
   "outputs": [],
   "source": []
  }
 ],
 "metadata": {
  "interpreter": {
   "hash": "f4b6dc36c032161cfa2dcc93f31fcb0bfb11bc6fea6f0772b15a0710e4778680"
  },
  "kernelspec": {
   "display_name": "Python 3.7.9 ('base')",
   "language": "python",
   "name": "python3"
  },
  "language_info": {
   "codemirror_mode": {
    "name": "ipython",
    "version": 3
   },
   "file_extension": ".py",
   "mimetype": "text/x-python",
   "name": "python",
   "nbconvert_exporter": "python",
   "pygments_lexer": "ipython3",
   "version": "3.7.9"
  },
  "orig_nbformat": 4
 },
 "nbformat": 4,
 "nbformat_minor": 2
}
