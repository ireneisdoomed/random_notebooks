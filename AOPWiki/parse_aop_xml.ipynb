{
 "cells": [
  {
   "cell_type": "code",
   "execution_count": 1,
   "metadata": {},
   "outputs": [],
   "source": [
    "import os\n",
    "\n",
    "from pyspark.sql import DataFrame, SparkSession\n",
    "import pyspark.sql.functions as F\n",
    "\n",
    "os.environ['PYSPARK_SUBMIT_ARGS'] = '--packages com.databricks:spark-xml_2.12:0.12.0 pyspark-shell'\n",
    "\n",
    "spark = (SparkSession.builder\n",
    "         .master('local[*]')\n",
    "         .config(\"spark.driver.memory\", \"15g\")\n",
    "         .appName('spark')\n",
    "         .getOrCreate())"
   ]
  },
  {
   "cell_type": "code",
   "execution_count": 2,
   "metadata": {},
   "outputs": [],
   "source": [
    "aop_xml = 'data/aop-wiki-xml-2022-01-01.gz'\n",
    "\n",
    "entities = [\n",
    "    \"chemical\",\n",
    "      \"biological-object\",\n",
    "      \"biological-process\",\n",
    "      \"biological-action\",\n",
    "      \"stressor\",\n",
    "      \"taxonomy\",\n",
    "      \"key-event\",\n",
    "      \"key-event-relationship\",\n",
    "      \"aop\",\n",
    "      \"vendor-specific\"\n",
    "]"
   ]
  },
  {
   "cell_type": "code",
   "execution_count": 5,
   "metadata": {},
   "outputs": [],
   "source": [
    "chemical_df, bio_object_df, bio_process_df, bio_action_df, stressor_df, taxonomy_df, ke_df, ker_df, aop_df, vendor_specific_df = [\n",
    "    spark.read.format('xml').option('rootTag', 'data').option('rowTag', entity).load(aop_xml)\n",
    "    for entity in entities\n",
    "]"
   ]
  },
  {
   "cell_type": "markdown",
   "metadata": {},
   "source": [
    "## Extract Taxonomic applicability per AOP\n",
    "\n",
    "In `vendor_specific_df` you can find the IDs with the relationships between entities."
   ]
  },
  {
   "cell_type": "code",
   "execution_count": null,
   "metadata": {},
   "outputs": [],
   "source": [
    "def getIdLookup(field: str) -> DataFrame:\n",
    "\n",
    "    fields = [\n",
    "        \"aop\",\n",
    "        \"biological-action\",\n",
    "        \"biological-object\",\n",
    "        \"biological-process\",\n",
    "        \"chemical\",\n",
    "        \"key-event\",\n",
    "        \"key-event-relationship\",\n",
    "        \"stressor\",\n",
    "        \"taxonomy\"\n",
    "    ]\n",
    "    \n",
    "    assert field in fields, f'{field} source field is not valid. Impossible to get ID.'\n",
    "\n",
    "    return (\n",
    "        vendor_specific_df.withColumn('r', F.explode('taxonomy-reference'))\n",
    "        .select(F.col(\"r._id\").alias('xrefId'), F.col(\"r._aop-wiki-id\").alias('aopId'))\n",
    "    )"
   ]
  },
  {
   "cell_type": "code",
   "execution_count": 17,
   "metadata": {},
   "outputs": [
    {
     "name": "stdout",
     "output_type": "stream",
     "text": [
      "root\n",
      " |-- taxonomy-reference: struct (nullable = true)\n",
      " |    |-- _VALUE: string (nullable = true)\n",
      " |    |-- _aop-wiki-id: long (nullable = true)\n",
      " |    |-- _id: string (nullable = true)\n",
      "\n"
     ]
    }
   ],
   "source": [
    "vendor_specific_df.withColumn('taxonomy-reference', F.explode('taxonomy-reference')).select('taxonomy-reference').printSchema()"
   ]
  },
  {
   "cell_type": "code",
   "execution_count": 39,
   "metadata": {},
   "outputs": [
    {
     "name": "stdout",
     "output_type": "stream",
     "text": [
      "+------+--------------------+\n",
      "|aop_id|         taxonomy_id|\n",
      "+------+--------------------+\n",
      "|    69|3cf5bab0-bfa0-48d...|\n",
      "|   459|64d2435b-11f6-4bc...|\n",
      "|    74|53fc5b57-1854-427...|\n",
      "|    31|5ba6e1b4-6cc0-432...|\n",
      "|    68|7790ac41-b325-4ac...|\n",
      "+------+--------------------+\n",
      "only showing top 5 rows\n",
      "\n"
     ]
    }
   ],
   "source": [
    "aop_taxId_df = (\n",
    "    vendor_specific_df.withColumn('taxonomy-reference', F.explode('taxonomy-reference'))\n",
    "    .select(\n",
    "        F.col('taxonomy-reference._aop-wiki-id').alias('aop_id'),\n",
    "        F.col('taxonomy-reference._id').alias('taxonomy_id')\n",
    "    )\n",
    ")\n",
    "\n",
    "aop_taxId_df.show(5)"
   ]
  },
  {
   "cell_type": "code",
   "execution_count": 45,
   "metadata": {},
   "outputs": [
    {
     "name": "stdout",
     "output_type": "stream",
     "text": [
      "+--------------------+--------------------+--------------------+\n",
      "|                 _id|       applicability|               title|\n",
      "+--------------------+--------------------+--------------------+\n",
      "|5eaa9d1c-efe9-4c9...|              \\n    |Uncharacterized l...|\n",
      "|8a7d866d-48c6-43e...|<sex>\\n        <e...|Inhibition of the...|\n",
      "|76a5866b-7089-434...|<sex>\\n        <e...|Ecdysone receptor...|\n",
      "|aa7bf0d2-0de7-4e7...|              \\n    |pentachlorophenol...|\n",
      "|c1e91578-c1af-4b6...|<sex>\\n        <e...|Antagonist bindin...|\n",
      "|4f1b4b20-d047-451...|<sex>\\n        <e...|Aromatase (Cyp19a...|\n",
      "|51629aac-c1a0-468...|<life-stage>\\n   ...|Upregulation of T...|\n",
      "|1ec3b823-1247-49a...|<sex>\\n        <e...|Binding to the pi...|\n",
      "|3de93557-e254-49d...|              \\n    |Percellome Toxico...|\n",
      "|a795dec8-d225-49e...|<life-stage>\\n   ...|Chronic binding o...|\n",
      "|77f42aee-2f5b-497...|<sex>\\n        <e...|Chronic binding o...|\n",
      "|da128666-c1a2-46c...|              \\n    |Glucocorticoid Re...|\n",
      "|fe31538f-ed90-48c...|<sex>\\n        <e...|Alkylation of DNA...|\n",
      "|839a2ceb-e95f-4e7...|<sex>\\n        <e...|Acetylcholinester...|\n",
      "|6e36050c-7edd-41e...|<sex>\\n        <e...|Binding of electr...|\n",
      "|2caa905b-63cd-442...|<sex>\\n        <e...|PPARα activation ...|\n",
      "|5be0e5ce-a7dc-4a6...|<sex>\\n        <e...|Androgen receptor...|\n",
      "|0a16bc89-90ea-44a...|<sex>\\n        <e...|Aryl hydrocarbon ...|\n",
      "|b45e23b7-6164-4c3...|<sex>\\n        <e...|Androgen receptor...|\n",
      "|76f0cbc0-a181-456...|<sex>\\n        <e...|Aromatase inhibit...|\n",
      "+--------------------+--------------------+--------------------+\n",
      "only showing top 20 rows\n",
      "\n"
     ]
    }
   ],
   "source": [
    "aop_df.select('_id', 'applicability', 'title').show()"
   ]
  },
  {
   "cell_type": "code",
   "execution_count": 23,
   "metadata": {},
   "outputs": [
    {
     "name": "stdout",
     "output_type": "stream",
     "text": [
      "+--------------------+------------+--------+----+------+---------+\n",
      "|                 _id|_taxonomy-id|evidence|name|source|source-id|\n",
      "+--------------------+------------+--------+----+------+---------+\n",
      "|3cf5bab0-bfa0-48d...|        null|    null|rats|  NCBI|    10116|\n",
      "+--------------------+------------+--------+----+------+---------+\n",
      "\n"
     ]
    }
   ],
   "source": [
    "taxonomy_df.filter(F.col('_id').contains('3cf5bab0-bfa0')).show()"
   ]
  },
  {
   "cell_type": "code",
   "execution_count": 40,
   "metadata": {},
   "outputs": [
    {
     "name": "stdout",
     "output_type": "stream",
     "text": [
      "+------+--------------------+\n",
      "|aop_id|                name|\n",
      "+------+--------------------+\n",
      "|  8935|  Ostrinia nubilalis|\n",
      "|142643|Xenopus (Silurana...|\n",
      "|   611| Meleagris gallopavo|\n",
      "|   658|   Daphnia pulicaria|\n",
      "|123451|  Liriomyza trifolii|\n",
      "+------+--------------------+\n",
      "only showing top 5 rows\n",
      "\n"
     ]
    }
   ],
   "source": [
    "aop_taxId_df = (\n",
    "    aop_taxId_df\n",
    "    .join(\n",
    "        taxonomy_df.select('_id', 'name'),\n",
    "        taxonomy_df['_id'] == aop_taxId_df['taxonomy_id'],\n",
    "        how='inner'\n",
    "    )\n",
    "    .drop('_id', 'taxonomy_id')\n",
    "    .distinct()\n",
    ")\n",
    "\n",
    "aop_taxId_df.show(5)"
   ]
  },
  {
   "cell_type": "code",
   "execution_count": 41,
   "metadata": {},
   "outputs": [
    {
     "name": "stdout",
     "output_type": "stream",
     "text": [
      "+------+----+\n",
      "|aop_id|name|\n",
      "+------+----+\n",
      "+------+----+\n",
      "\n"
     ]
    }
   ],
   "source": [
    "aop_taxId_df.filter(F.col('aop_id') == '202').show()"
   ]
  },
  {
   "cell_type": "code",
   "execution_count": 37,
   "metadata": {},
   "outputs": [
    {
     "name": "stdout",
     "output_type": "stream",
     "text": [
      "+--------------------+-----+\n",
      "|                name|count|\n",
      "+--------------------+-----+\n",
      "|Mustela putorius ...|    1|\n",
      "|            goldfish|    1|\n",
      "|     Common Starling|    1|\n",
      "|      Sprague-Dawley|    1|\n",
      "|Argopecten irradians|    1|\n",
      "|Dicentrarchus labrax|    1|\n",
      "|            chickens|    1|\n",
      "|Acipenser fulvescens|    1|\n",
      "|   human, mouse, rat|    1|\n",
      "|Xenopus (Silurana...|    1|\n",
      "|      Gammarus pulex|    1|\n",
      "|   Anopheles gambiae|    1|\n",
      "|        Homo sapiens|    1|\n",
      "|            nematode|    1|\n",
      "|  Radopholus similis|    1|\n",
      "|   tritonea diomedea|    1|\n",
      "|    Lacerta vivipara|    1|\n",
      "|      eisenia fetida|    1|\n",
      "|      gilthead bream|    1|\n",
      "|   Philosamia ricini|    1|\n",
      "+--------------------+-----+\n",
      "only showing top 20 rows\n",
      "\n"
     ]
    }
   ],
   "source": [
    "aop_taxId_df.groupBy('name').count().orderBy(F.col('count').desc()).show()"
   ]
  },
  {
   "cell_type": "code",
   "execution_count": 47,
   "metadata": {},
   "outputs": [
    {
     "name": "stdout",
     "output_type": "stream",
     "text": [
      "root\n",
      " |-- adverseOutcome: string (nullable = true)\n",
      " |-- adverseOutcomeId: long (nullable = true)\n",
      " |-- aopId: long (nullable = true)\n",
      " |-- aopName: string (nullable = true)\n",
      " |-- keyEvents: array (nullable = true)\n",
      " |    |-- element: struct (containsNull = true)\n",
      " |    |    |-- keyEventId: long (nullable = true)\n",
      " |    |    |-- keyEventName: string (nullable = true)\n",
      " |-- reference: string (nullable = true)\n",
      " |-- status: string (nullable = true)\n",
      " |-- targetId: string (nullable = true)\n",
      " |-- targetName: string (nullable = true)\n",
      "\n"
     ]
    }
   ],
   "source": [
    "df = spark.read.json('outputs/AOPWIki_refined.json')\n",
    "\n",
    "df.printSchema()"
   ]
  },
  {
   "cell_type": "code",
   "execution_count": 49,
   "metadata": {},
   "outputs": [
    {
     "name": "stdout",
     "output_type": "stream",
     "text": [
      "+--------------------+----------------+-----+--------------------+--------------------+--------------------+-------------------+---------------+--------------------+------+--------------------+\n",
      "|      adverseOutcome|adverseOutcomeId|aopId|             aopName|           keyEvents|           reference|             status|       targetId|          targetName|aop_id|                name|\n",
      "+--------------------+----------------+-----+--------------------+--------------------+--------------------+-------------------+---------------+--------------------+------+--------------------+\n",
      "|N/A, Cyanosis occurs|             321|   31|Oxidation of iron...|[{321, N/A, Cyano...|https://aopwiki.o...|  Under Development|           null|hemoglobin subuni...|    31|               mouse|\n",
      "|N/A, Cyanosis occurs|             321|   31|Oxidation of iron...|[{321, N/A, Cyano...|https://aopwiki.o...|  Under Development|ENSG00000160211|glucose-6-phospha...|    31|               mouse|\n",
      "|Impairment, Learn...|             341|   13|Chronic binding o...|[{381, Reduced le...|https://aopwiki.o...|  TFHA/WNT Endorsed|ENSG00000176697|brain-derived neu...|    13|         Felis catus|\n",
      "|                null|             341|   13|Chronic binding o...|[{381, Reduced le...|https://aopwiki.o...|  TFHA/WNT Endorsed|ENSG00000176697|brain-derived neu...|    13|         Felis catus|\n",
      "|Treatment-resista...|            1651|  298|Chronic reactive ...|[{1755, Prolifera...|https://aopwiki.o...|EAGMST Under Review|ENSG00000102312|protein-serine O-...|   298|Rattus sp. ABTC 4...|\n",
      "|Loss, Cochlear fu...|             319|    8|Upregulation of T...|[{295, Induction,...|https://aopwiki.o...|  Under Development|ENSG00000144852|nuclear receptor ...|     8|    Canis familiaris|\n",
      "|Loss, Cochlear fu...|             319|    8|Upregulation of T...|[{295, Induction,...|https://aopwiki.o...|  Under Development|ENSG00000143257|nuclear receptor ...|     8|    Canis familiaris|\n",
      "|Loss, Cochlear fu...|             319|    8|Upregulation of T...|[{295, Induction,...|https://aopwiki.o...|  Under Development|           null|beta-1,3-glucuron...|     8|    Canis familiaris|\n",
      "|Decrease, Populat...|             360|   30|Estrogen receptor...|[{309, Reduction,...|https://aopwiki.o...|EAGMST Under Review|ENSG00000091831|   estrogen receptor|    30|        Mus musculus|\n",
      "|Parkinsonian moto...|             896|    3|Inhibition of the...|[{890, Degenerati...|https://aopwiki.o...|  TFHA/WNT Endorsed|ENSG00000198888|NADH-ubiquinone o...|     3|         Canis lupus|\n",
      "|Decreased fertili...|             543|   74|Modulation of Adu...|[{541, Decreased ...|https://aopwiki.o...|               null|ENSG00000185551|COUP transcriptio...|    74|          Rattus sp.|\n",
      "|Decreased sperm q...|             505|   66|Modulation of Adu...|[{656, Decreased ...|https://aopwiki.o...|               null|ENSG00000185551|COUP transcriptio...|    66|   Rattus norvegicus|\n",
      "|Decreased sperm q...|             505|   66|Modulation of Adu...|[{656, Decreased ...|https://aopwiki.o...|               null|ENSG00000113580|glucocorticoid re...|    66|   Rattus norvegicus|\n",
      "|Occurrence, Epile...|             613|   10|Binding to the pi...|[{669, Reduction,...|https://aopwiki.o...|  TFHA/WNT Endorsed|ENSG00000022355|gamma-aminobutyri...|    10|                dogs|\n",
      "|Occurrence, Epile...|             613|   10|Binding to the pi...|[{669, Reduction,...|https://aopwiki.o...|  TFHA/WNT Endorsed|ENSG00000186297|gamma-aminobutyri...|    10|                dogs|\n",
      "|Occurrence, Epile...|             613|   10|Binding to the pi...|[{669, Reduction,...|https://aopwiki.o...|  TFHA/WNT Endorsed|ENSG00000145863|gamma-aminobutyri...|    10|                dogs|\n",
      "|Decreased sperm q...|             505|   68|Modulation of Adu...|[{656, Decreased ...|https://aopwiki.o...|               null|ENSG00000185551|COUP transcriptio...|    68|                 rat|\n",
      "|Decreased sperm q...|             520|   71|Modulation of Adu...|[{652, Direct eff...|https://aopwiki.o...|               null|ENSG00000113580|glucocorticoid re...|    71|       Rattus rattus|\n",
      "|                null|             520|   71|Modulation of Adu...|[{652, Direct eff...|https://aopwiki.o...|               null|ENSG00000113580|glucocorticoid re...|    71|       Rattus rattus|\n",
      "| Increased Mortality|             351|   16|Acetylcholinester...|[{351, Increased ...|https://aopwiki.o...|  Under Development|ENSG00000087085|acetylcholinesterase|    16|                 cat|\n",
      "+--------------------+----------------+-----+--------------------+--------------------+--------------------+-------------------+---------------+--------------------+------+--------------------+\n",
      "only showing top 20 rows\n",
      "\n"
     ]
    }
   ],
   "source": [
    "df_enriched = (\n",
    "    df.join(aop_taxId_df, aop_taxId_df['aop_id'] == df['aopId'])\n",
    ")\n",
    "\n",
    "df_enriched.show()"
   ]
  },
  {
   "cell_type": "code",
   "execution_count": 53,
   "metadata": {},
   "outputs": [
    {
     "data": {
      "text/html": [
       "<div>\n",
       "<style scoped>\n",
       "    .dataframe tbody tr th:only-of-type {\n",
       "        vertical-align: middle;\n",
       "    }\n",
       "\n",
       "    .dataframe tbody tr th {\n",
       "        vertical-align: top;\n",
       "    }\n",
       "\n",
       "    .dataframe thead th {\n",
       "        text-align: right;\n",
       "    }\n",
       "</style>\n",
       "<table border=\"1\" class=\"dataframe\">\n",
       "  <thead>\n",
       "    <tr style=\"text-align: right;\">\n",
       "      <th></th>\n",
       "      <th>adverseOutcome</th>\n",
       "      <th>adverseOutcomeId</th>\n",
       "      <th>aopId</th>\n",
       "      <th>aopName</th>\n",
       "      <th>keyEvents</th>\n",
       "      <th>reference</th>\n",
       "      <th>status</th>\n",
       "      <th>targetId</th>\n",
       "      <th>targetName</th>\n",
       "    </tr>\n",
       "  </thead>\n",
       "  <tbody>\n",
       "    <tr>\n",
       "      <th>0</th>\n",
       "      <td>Altered, Amphibian metamorphosis</td>\n",
       "      <td>1101</td>\n",
       "      <td>193</td>\n",
       "      <td>Dual oxidase (DUOX) inhibition leading to alte...</td>\n",
       "      <td>[(1101, Altered, Amphibian metamorphosis), (27...</td>\n",
       "      <td>https://aopwiki.org/aops/193</td>\n",
       "      <td>None</td>\n",
       "      <td>ENSG00000137857</td>\n",
       "      <td>dual oxidase 1</td>\n",
       "    </tr>\n",
       "    <tr>\n",
       "      <th>1</th>\n",
       "      <td>Impairment, T-cell dependent antibody response</td>\n",
       "      <td>984</td>\n",
       "      <td>154</td>\n",
       "      <td>Inhibition of Calcineurin Activity Leading to ...</td>\n",
       "      <td>[(979, Interference, nuclear localization of N...</td>\n",
       "      <td>https://aopwiki.org/aops/154</td>\n",
       "      <td>EAGMST Under Review</td>\n",
       "      <td>ENSG00000235568</td>\n",
       "      <td>NFAT activation molecule 1</td>\n",
       "    </tr>\n",
       "    <tr>\n",
       "      <th>2</th>\n",
       "      <td>Death/Failure, Colony</td>\n",
       "      <td>563</td>\n",
       "      <td>77</td>\n",
       "      <td>Nicotinic acetylcholine receptor activation co...</td>\n",
       "      <td>[(560, Abnormal, Foraging activity and behavio...</td>\n",
       "      <td>https://aopwiki.org/aops/77</td>\n",
       "      <td>None</td>\n",
       "      <td>None</td>\n",
       "      <td>calmodulin</td>\n",
       "    </tr>\n",
       "    <tr>\n",
       "      <th>3</th>\n",
       "      <td>Death/Failure, Colony</td>\n",
       "      <td>563</td>\n",
       "      <td>87</td>\n",
       "      <td>Nicotinic acetylcholine receptor activation co...</td>\n",
       "      <td>[(560, Abnormal, Foraging activity and behavio...</td>\n",
       "      <td>https://aopwiki.org/aops/87</td>\n",
       "      <td>None</td>\n",
       "      <td>None</td>\n",
       "      <td>calmodulin</td>\n",
       "    </tr>\n",
       "    <tr>\n",
       "      <th>4</th>\n",
       "      <td>Death/Failure, Colony</td>\n",
       "      <td>563</td>\n",
       "      <td>88</td>\n",
       "      <td>Nicotinic acetylcholine receptor activation co...</td>\n",
       "      <td>[(560, Abnormal, Foraging activity and behavio...</td>\n",
       "      <td>https://aopwiki.org/aops/88</td>\n",
       "      <td>None</td>\n",
       "      <td>None</td>\n",
       "      <td>calmodulin</td>\n",
       "    </tr>\n",
       "  </tbody>\n",
       "</table>\n",
       "</div>"
      ],
      "text/plain": [
       "                                   adverseOutcome  adverseOutcomeId  aopId  \\\n",
       "0                Altered, Amphibian metamorphosis              1101    193   \n",
       "1  Impairment, T-cell dependent antibody response               984    154   \n",
       "2                           Death/Failure, Colony               563     77   \n",
       "3                           Death/Failure, Colony               563     87   \n",
       "4                           Death/Failure, Colony               563     88   \n",
       "\n",
       "                                             aopName  \\\n",
       "0  Dual oxidase (DUOX) inhibition leading to alte...   \n",
       "1  Inhibition of Calcineurin Activity Leading to ...   \n",
       "2  Nicotinic acetylcholine receptor activation co...   \n",
       "3  Nicotinic acetylcholine receptor activation co...   \n",
       "4  Nicotinic acetylcholine receptor activation co...   \n",
       "\n",
       "                                           keyEvents  \\\n",
       "0  [(1101, Altered, Amphibian metamorphosis), (27...   \n",
       "1  [(979, Interference, nuclear localization of N...   \n",
       "2  [(560, Abnormal, Foraging activity and behavio...   \n",
       "3  [(560, Abnormal, Foraging activity and behavio...   \n",
       "4  [(560, Abnormal, Foraging activity and behavio...   \n",
       "\n",
       "                      reference               status         targetId  \\\n",
       "0  https://aopwiki.org/aops/193                 None  ENSG00000137857   \n",
       "1  https://aopwiki.org/aops/154  EAGMST Under Review  ENSG00000235568   \n",
       "2   https://aopwiki.org/aops/77                 None             None   \n",
       "3   https://aopwiki.org/aops/87                 None             None   \n",
       "4   https://aopwiki.org/aops/88                 None             None   \n",
       "\n",
       "                   targetName  \n",
       "0              dual oxidase 1  \n",
       "1  NFAT activation molecule 1  \n",
       "2                  calmodulin  \n",
       "3                  calmodulin  \n",
       "4                  calmodulin  "
      ]
     },
     "execution_count": 53,
     "metadata": {},
     "output_type": "execute_result"
    }
   ],
   "source": [
    "df.toPandas().head()"
   ]
  },
  {
   "cell_type": "code",
   "execution_count": 52,
   "metadata": {},
   "outputs": [
    {
     "name": "stdout",
     "output_type": "stream",
     "text": [
      "root\n",
      " |-- adverseOutcome: string (nullable = true)\n",
      " |-- adverseOutcomeId: long (nullable = true)\n",
      " |-- aopId: long (nullable = true)\n",
      " |-- aopName: string (nullable = true)\n",
      " |-- keyEvents: array (nullable = true)\n",
      " |    |-- element: struct (containsNull = true)\n",
      " |    |    |-- keyEventId: long (nullable = true)\n",
      " |    |    |-- keyEventName: string (nullable = true)\n",
      " |-- reference: string (nullable = true)\n",
      " |-- status: string (nullable = true)\n",
      " |-- targetId: string (nullable = true)\n",
      " |-- targetName: string (nullable = true)\n",
      "\n"
     ]
    }
   ],
   "source": [
    "df.printSchema()"
   ]
  },
  {
   "cell_type": "code",
   "execution_count": 54,
   "metadata": {},
   "outputs": [
    {
     "data": {
      "text/html": [
       "<div>\n",
       "<style scoped>\n",
       "    .dataframe tbody tr th:only-of-type {\n",
       "        vertical-align: middle;\n",
       "    }\n",
       "\n",
       "    .dataframe tbody tr th {\n",
       "        vertical-align: top;\n",
       "    }\n",
       "\n",
       "    .dataframe thead th {\n",
       "        text-align: right;\n",
       "    }\n",
       "</style>\n",
       "<table border=\"1\" class=\"dataframe\">\n",
       "  <thead>\n",
       "    <tr style=\"text-align: right;\">\n",
       "      <th></th>\n",
       "      <th>adverseOutcome</th>\n",
       "      <th>adverseOutcomeId</th>\n",
       "      <th>aopId</th>\n",
       "      <th>aopName</th>\n",
       "      <th>keyEvents</th>\n",
       "      <th>reference</th>\n",
       "      <th>status</th>\n",
       "      <th>targetId</th>\n",
       "      <th>targetName</th>\n",
       "      <th>aop_id</th>\n",
       "      <th>name</th>\n",
       "    </tr>\n",
       "  </thead>\n",
       "  <tbody>\n",
       "    <tr>\n",
       "      <th>0</th>\n",
       "      <td>N/A, Cyanosis occurs</td>\n",
       "      <td>321</td>\n",
       "      <td>31</td>\n",
       "      <td>Oxidation of iron in hemoglobin leading to hem...</td>\n",
       "      <td>[(321, N/A, Cyanosis occurs), (246, Increase, ...</td>\n",
       "      <td>https://aopwiki.org/aops/31</td>\n",
       "      <td>Under Development</td>\n",
       "      <td>None</td>\n",
       "      <td>hemoglobin subunit alpha (human)</td>\n",
       "      <td>31</td>\n",
       "      <td>mouse</td>\n",
       "    </tr>\n",
       "    <tr>\n",
       "      <th>1</th>\n",
       "      <td>N/A, Cyanosis occurs</td>\n",
       "      <td>321</td>\n",
       "      <td>31</td>\n",
       "      <td>Oxidation of iron in hemoglobin leading to hem...</td>\n",
       "      <td>[(321, N/A, Cyanosis occurs), (246, Increase, ...</td>\n",
       "      <td>https://aopwiki.org/aops/31</td>\n",
       "      <td>Under Development</td>\n",
       "      <td>ENSG00000160211</td>\n",
       "      <td>glucose-6-phosphate 1-dehydrogenase</td>\n",
       "      <td>31</td>\n",
       "      <td>mouse</td>\n",
       "    </tr>\n",
       "    <tr>\n",
       "      <th>2</th>\n",
       "      <td>Impairment, Learning and memory</td>\n",
       "      <td>341</td>\n",
       "      <td>13</td>\n",
       "      <td>Chronic binding of antagonist to N-methyl-D-as...</td>\n",
       "      <td>[(381, Reduced levels of BDNF), (52, Decreased...</td>\n",
       "      <td>https://aopwiki.org/aops/13</td>\n",
       "      <td>TFHA/WNT Endorsed</td>\n",
       "      <td>ENSG00000176697</td>\n",
       "      <td>brain-derived neurotrophic factor</td>\n",
       "      <td>13</td>\n",
       "      <td>Felis catus</td>\n",
       "    </tr>\n",
       "    <tr>\n",
       "      <th>3</th>\n",
       "      <td>None</td>\n",
       "      <td>341</td>\n",
       "      <td>13</td>\n",
       "      <td>Chronic binding of antagonist to N-methyl-D-as...</td>\n",
       "      <td>[(381, Reduced levels of BDNF), (52, Decreased...</td>\n",
       "      <td>https://aopwiki.org/aops/13</td>\n",
       "      <td>TFHA/WNT Endorsed</td>\n",
       "      <td>ENSG00000176697</td>\n",
       "      <td>brain-derived neurotrophic factor</td>\n",
       "      <td>13</td>\n",
       "      <td>Felis catus</td>\n",
       "    </tr>\n",
       "    <tr>\n",
       "      <th>4</th>\n",
       "      <td>Treatment-resistant gastric cancer</td>\n",
       "      <td>1651</td>\n",
       "      <td>298</td>\n",
       "      <td>Chronic reactive oxygen species leading to hum...</td>\n",
       "      <td>[(1755, Proliferation / beta-catenin activatio...</td>\n",
       "      <td>https://aopwiki.org/aops/298</td>\n",
       "      <td>EAGMST Under Review</td>\n",
       "      <td>ENSG00000102312</td>\n",
       "      <td>protein-serine O-palmitoleoyltransferase porcu...</td>\n",
       "      <td>298</td>\n",
       "      <td>Rattus sp. ABTC 42503</td>\n",
       "    </tr>\n",
       "  </tbody>\n",
       "</table>\n",
       "</div>"
      ],
      "text/plain": [
       "                       adverseOutcome  adverseOutcomeId  aopId  \\\n",
       "0                N/A, Cyanosis occurs               321     31   \n",
       "1                N/A, Cyanosis occurs               321     31   \n",
       "2     Impairment, Learning and memory               341     13   \n",
       "3                                None               341     13   \n",
       "4  Treatment-resistant gastric cancer              1651    298   \n",
       "\n",
       "                                             aopName  \\\n",
       "0  Oxidation of iron in hemoglobin leading to hem...   \n",
       "1  Oxidation of iron in hemoglobin leading to hem...   \n",
       "2  Chronic binding of antagonist to N-methyl-D-as...   \n",
       "3  Chronic binding of antagonist to N-methyl-D-as...   \n",
       "4  Chronic reactive oxygen species leading to hum...   \n",
       "\n",
       "                                           keyEvents  \\\n",
       "0  [(321, N/A, Cyanosis occurs), (246, Increase, ...   \n",
       "1  [(321, N/A, Cyanosis occurs), (246, Increase, ...   \n",
       "2  [(381, Reduced levels of BDNF), (52, Decreased...   \n",
       "3  [(381, Reduced levels of BDNF), (52, Decreased...   \n",
       "4  [(1755, Proliferation / beta-catenin activatio...   \n",
       "\n",
       "                      reference               status         targetId  \\\n",
       "0   https://aopwiki.org/aops/31    Under Development             None   \n",
       "1   https://aopwiki.org/aops/31    Under Development  ENSG00000160211   \n",
       "2   https://aopwiki.org/aops/13    TFHA/WNT Endorsed  ENSG00000176697   \n",
       "3   https://aopwiki.org/aops/13    TFHA/WNT Endorsed  ENSG00000176697   \n",
       "4  https://aopwiki.org/aops/298  EAGMST Under Review  ENSG00000102312   \n",
       "\n",
       "                                          targetName  aop_id  \\\n",
       "0                   hemoglobin subunit alpha (human)      31   \n",
       "1                glucose-6-phosphate 1-dehydrogenase      31   \n",
       "2                  brain-derived neurotrophic factor      13   \n",
       "3                  brain-derived neurotrophic factor      13   \n",
       "4  protein-serine O-palmitoleoyltransferase porcu...     298   \n",
       "\n",
       "                    name  \n",
       "0                  mouse  \n",
       "1                  mouse  \n",
       "2            Felis catus  \n",
       "3            Felis catus  \n",
       "4  Rattus sp. ABTC 42503  "
      ]
     },
     "execution_count": 54,
     "metadata": {},
     "output_type": "execute_result"
    }
   ],
   "source": [
    "df_enriched.toPandas().head()"
   ]
  },
  {
   "cell_type": "code",
   "execution_count": null,
   "metadata": {},
   "outputs": [],
   "source": []
  }
 ],
 "metadata": {
  "interpreter": {
   "hash": "f4b6dc36c032161cfa2dcc93f31fcb0bfb11bc6fea6f0772b15a0710e4778680"
  },
  "kernelspec": {
   "display_name": "Python 3.7.9 ('base')",
   "language": "python",
   "name": "python3"
  },
  "language_info": {
   "codemirror_mode": {
    "name": "ipython",
    "version": 3
   },
   "file_extension": ".py",
   "mimetype": "text/x-python",
   "name": "python",
   "nbconvert_exporter": "python",
   "pygments_lexer": "ipython3",
   "version": "3.7.9"
  },
  "orig_nbformat": 4
 },
 "nbformat": 4,
 "nbformat_minor": 2
}
