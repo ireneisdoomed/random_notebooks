{
 "cells": [
  {
   "cell_type": "code",
   "execution_count": null,
   "metadata": {},
   "outputs": [],
   "source": [
    "from pyspark.sql import DataFrame, SparkSession, Window\n",
    "from pyspark.sql.types import DoubleType, IntegerType, StringType, StructType, StructField\n",
    "import pyspark.sql.functions as F\n",
    "\n",
    "spark = (SparkSession.builder\n",
    "         .master('local[*]')\n",
    "         .config(\"spark.driver.memory\", \"15g\")\n",
    "         .appName('spark')\n",
    "         .getOrCreate())"
   ]
  },
  {
   "cell_type": "code",
   "execution_count": 2,
   "metadata": {},
   "outputs": [
    {
     "name": "stderr",
     "output_type": "stream",
     "text": [
      "                                                                                \r"
     ]
    }
   ],
   "source": [
    "new_epmc_path = '/Users/irene/Documents/dev/pyspark/22.04/epmc-2022-04-21.json.gz'\n",
    "old_epmc_path = '/Users/irene/Documents/dev/pyspark/22.02/epmc-2022-02-01.json.gz'\n",
    "\n",
    "new_epmc_df = spark.read.json(new_epmc_path).repartition(200)\n",
    "old_epmc_df = spark.read.json(old_epmc_path).repartition(200)"
   ]
  },
  {
   "cell_type": "code",
   "execution_count": 7,
   "metadata": {},
   "outputs": [],
   "source": [
    "new_assocs_path = '/Users/irene/Documents/dev/pyspark/22.04.1/associationByDatasourceDirect'\n",
    "old_assocs_path = '/Users/irene/Documents/dev/pyspark/22.02.4/associationByDatasourceDirect'\n",
    "\n",
    "new_assocs_df = spark.read.parquet(new_assocs_path).filter(F.col('datasourceId') == 'europepmc')\n",
    "old_assocs_df = spark.read.parquet(old_assocs_path).filter(F.col('datasourceId') == 'europepmc')"
   ]
  },
  {
   "cell_type": "markdown",
   "metadata": {},
   "source": [
    "## Check missing associations"
   ]
  },
  {
   "cell_type": "code",
   "execution_count": 13,
   "metadata": {},
   "outputs": [
    {
     "name": "stderr",
     "output_type": "stream",
     "text": [
      "[Stage 64:>                                                         (0 + 8) / 8]\r"
     ]
    },
    {
     "name": "stdout",
     "output_type": "stream",
     "text": [
      "Missing associations: 104674 / 5381 distinct diseases\n"
     ]
    },
    {
     "name": "stderr",
     "output_type": "stream",
     "text": [
      "                                                                                \r"
     ]
    }
   ],
   "source": [
    "missing_assocs = old_assocs_df.join(new_assocs_df, on=['diseaseId', 'targetId'], how='left_anti').distinct()\n",
    "\n",
    "print(f\"Missing associations: {missing_assocs.count()} / {missing_assocs.select('diseaseId').distinct().count()} distinct diseases\")"
   ]
  },
  {
   "cell_type": "code",
   "execution_count": 27,
   "metadata": {},
   "outputs": [
    {
     "name": "stderr",
     "output_type": "stream",
     "text": [
      "[Stage 158:==========================================>              (6 + 2) / 8]\r"
     ]
    },
    {
     "name": "stdout",
     "output_type": "stream",
     "text": [
      "+-----------+---------------+\n",
      "|  diseaseId|       targetId|\n",
      "+-----------+---------------+\n",
      "|EFO_0000094|ENSG00000026103|\n",
      "|EFO_0000094|ENSG00000111142|\n",
      "|EFO_0000094|ENSG00000135318|\n",
      "|EFO_0000094|ENSG00000135446|\n",
      "|EFO_0000094|ENSG00000170345|\n",
      "|EFO_0000095|ENSG00000112038|\n",
      "|EFO_0000095|ENSG00000119950|\n",
      "|EFO_0000095|ENSG00000134757|\n",
      "|EFO_0000095|ENSG00000137267|\n",
      "|EFO_0000095|ENSG00000153802|\n",
      "|EFO_0000095|ENSG00000161638|\n",
      "|EFO_0000095|ENSG00000172270|\n",
      "|EFO_0000095|ENSG00000184916|\n",
      "|EFO_0000095|ENSG00000186350|\n",
      "|EFO_0000095|ENSG00000204977|\n",
      "|EFO_0000095|ENSG00000205336|\n",
      "|EFO_0000095|ENSG00000236534|\n",
      "|EFO_0000174|ENSG00000099942|\n",
      "|EFO_0000174|ENSG00000100285|\n",
      "|EFO_0000174|ENSG00000104972|\n",
      "|EFO_0000174|ENSG00000109182|\n",
      "|EFO_0000174|ENSG00000137504|\n",
      "|EFO_0000174|ENSG00000167685|\n",
      "|EFO_0000174|ENSG00000170989|\n",
      "|EFO_0000174|ENSG00000172845|\n",
      "|EFO_0000174|ENSG00000183929|\n",
      "|EFO_0000174|ENSG00000185630|\n",
      "|EFO_0000174|ENSG00000231712|\n",
      "|EFO_0000178|ENSG00000101890|\n",
      "|EFO_0000178|ENSG00000104332|\n",
      "+-----------+---------------+\n",
      "only showing top 30 rows\n",
      "\n"
     ]
    },
    {
     "name": "stderr",
     "output_type": "stream",
     "text": [
      "                                                                                \r"
     ]
    }
   ],
   "source": [
    "# Some missing associations\n",
    "\n",
    "missing_assocs.select('diseaseId', 'targetId').distinct().filter(F.col('diseaseId').startswith('EFO')).show(30)"
   ]
  },
  {
   "cell_type": "code",
   "execution_count": 14,
   "metadata": {},
   "outputs": [
    {
     "name": "stderr",
     "output_type": "stream",
     "text": [
      "[Stage 78:>                                                         (0 + 8) / 8]\r"
     ]
    },
    {
     "name": "stdout",
     "output_type": "stream",
     "text": [
      "+--------------+\n",
      "|     diseaseId|\n",
      "+--------------+\n",
      "|     DOID_7551|\n",
      "|   EFO_0004254|\n",
      "|   EFO_0007391|\n",
      "|   EFO_1000179|\n",
      "|   EFO_1002027|\n",
      "|    HP_0012076|\n",
      "| MONDO_0002171|\n",
      "| MONDO_0019473|\n",
      "|Orphanet_98261|\n",
      "|   EFO_0000569|\n",
      "|   EFO_0005203|\n",
      "|   EFO_0005556|\n",
      "|   EFO_0005585|\n",
      "|   EFO_0009000|\n",
      "|   EFO_0009065|\n",
      "|   EFO_0010580|\n",
      "|   EFO_1001341|\n",
      "|    HP_0001263|\n",
      "|    HP_0002167|\n",
      "| MONDO_0001110|\n",
      "+--------------+\n",
      "only showing top 20 rows\n",
      "\n"
     ]
    },
    {
     "name": "stderr",
     "output_type": "stream",
     "text": [
      "                                                                                \r"
     ]
    }
   ],
   "source": [
    "# Some diseases being part of the missing associations\n",
    "\n",
    "missing_assocs.select('diseaseId').distinct().show()"
   ]
  },
  {
   "cell_type": "code",
   "execution_count": 23,
   "metadata": {},
   "outputs": [
    {
     "name": "stderr",
     "output_type": "stream",
     "text": [
      "[Stage 136:>                                                        (0 + 8) / 8]\r"
     ]
    },
    {
     "name": "stdout",
     "output_type": "stream",
     "text": [
      "+-------------------+-----+\n",
      "|           ontology|count|\n",
      "+-------------------+-----+\n",
      "|           Orphanet| 1534|\n",
      "|                 GO|    6|\n",
      "|                 HP|  426|\n",
      "|               OTAR|    2|\n",
      "|                EFO| 2215|\n",
      "|              MONDO| 1187|\n",
      "|               DOID|    6|\n",
      "|                OBI|    1|\n",
      "|                 MP|    1|\n",
      "|//ebi.ac.uk/efo/EFO|    3|\n",
      "+-------------------+-----+\n",
      "\n"
     ]
    },
    {
     "name": "stderr",
     "output_type": "stream",
     "text": [
      "                                                                                \r"
     ]
    }
   ],
   "source": [
    "# Breakdown of the diseases per ontology\n",
    "\n",
    "missing_assocs.select('diseaseId').distinct().withColumn('ontology', F.split(F.col('diseaseId'), '_').getItem(0)).groupBy('ontology').count().show()"
   ]
  },
  {
   "cell_type": "code",
   "execution_count": 26,
   "metadata": {},
   "outputs": [
    {
     "name": "stderr",
     "output_type": "stream",
     "text": [
      "                                                                                \r"
     ]
    },
    {
     "name": "stdout",
     "output_type": "stream",
     "text": [
      "-RECORD 0---------------------------------------------------------------------------------------------------------------------------------------------------------------------------------------------------------------------------------------------------------------------------------------------------------------------------------------------------------------------------------------------------------------------------------------------------------------\n",
      " datasourceId              | europepmc                                                                                                                                                                                                                                                                                                                                                                                                                                  \n",
      " datatypeId                | literature                                                                                                                                                                                                                                                                                                                                                                                                                                 \n",
      " diseaseFromSourceMappedId | DOID_0050890                                                                                                                                                                                                                                                                                                                                                                                                                               \n",
      " literature                | [31920635]                                                                                                                                                                                                                                                                                                                                                                                                                                 \n",
      " pmcIds                    | [PMC6913661]                                                                                                                                                                                                                                                                                                                                                                                                                               \n",
      " resourceScore             | 2.0                                                                                                                                                                                                                                                                                                                                                                                                                                        \n",
      " targetFromSourceId        | ENSG00000211970                                                                                                                                                                                                                                                                                                                                                                                                                            \n",
      " textMiningSentences       | [{98, 81, intro, 77, 75, The lower part of the table shows instead suitable therapeutic options for VH in synucleinopathies.}, {88, 71, concl, 61, 59, Early observations suggesting an iatrogenic origin for the VH found in synucleinopathies (Moskovitz et al., 1978) have been now disconfirmed by the fact that in many cases VH appear with appropriate therapeutic courses or even in the absence of any pharmacological therapy.}] \n",
      "\n"
     ]
    }
   ],
   "source": [
    "# Diseases look legit, let's see an example\n",
    "\n",
    "# This previous assoc was not good, VH refers to visual hallucinations, not IGHV4-61\n",
    "old_epmc_df.filter((F.col('diseaseFromSourceMappedId') == 'DOID_0050890') & (F.col('targetFromSourceId') == 'ENSG00000211970')).show(1, False, True)"
   ]
  },
  {
   "cell_type": "code",
   "execution_count": 28,
   "metadata": {},
   "outputs": [
    {
     "name": "stderr",
     "output_type": "stream",
     "text": [
      "                                                                                \r"
     ]
    },
    {
     "name": "stdout",
     "output_type": "stream",
     "text": [
      "-RECORD 0----------------------------------------------------------------------------------------------------------------------------------------------------------\n",
      " datasourceId              | europepmc                                                                                                                             \n",
      " datatypeId                | literature                                                                                                                            \n",
      " diseaseFromSourceMappedId | EFO_0000094                                                                                                                           \n",
      " literature                | [25755857]                                                                                                                            \n",
      " pmcIds                    | [PMC4339559]                                                                                                                          \n",
      " resourceScore             | 5.0                                                                                                                                   \n",
      " targetFromSourceId        | ENSG00000026103                                                                                                                       \n",
      " textMiningSentences       | [{102, 67, results, 29, 25, The relationship between CD95 and CD44 expression in patients with B-cell acute lymphoblastic leukemia.}] \n",
      "\n"
     ]
    }
   ],
   "source": [
    "# Another example: this one seems legit.\n",
    "\n",
    "old_epmc_df.filter((F.col('diseaseFromSourceMappedId') == 'EFO_0000094') & (F.col('targetFromSourceId') == 'ENSG00000026103')).show(1, False, True)"
   ]
  },
  {
   "cell_type": "code",
   "execution_count": null,
   "metadata": {},
   "outputs": [],
   "source": [
    "old_epmc_df.filter((F.col('diseaseFromSourceMappedId') == 'DOID_0050890') & (F.col('targetFromSourceId') == 'ENSG00000211970')).show(1, False, True)"
   ]
  },
  {
   "cell_type": "markdown",
   "metadata": {},
   "source": [
    "## Inspect new associations"
   ]
  },
  {
   "cell_type": "code",
   "execution_count": 29,
   "metadata": {},
   "outputs": [
    {
     "name": "stderr",
     "output_type": "stream",
     "text": [
      "                                                                                \r"
     ]
    },
    {
     "data": {
      "text/plain": [
       "Row(literature=['22277255'], targetFromSourceId='ENSG00000159640', diseaseFromSourceMappedId='Orphanet_685', datasourceId='europepmc', datatypeId='literature', pmcIds=None, resourceScore=5.0, textMiningSentences=[Row(dEnd=125, dStart=122, section='abstract', tEnd=37, tStart=34, text='This meta-analysis shows that the ACE I/D polymorphism is associated with vasculitis susceptibility, especially in BD and HSP.')])"
      ]
     },
     "execution_count": 29,
     "metadata": {},
     "output_type": "execute_result"
    }
   ],
   "source": [
    "novelty = (\n",
    "    new_epmc_df.join(old_epmc_df, on=['literature', 'targetFromSourceId', 'diseaseFromSourceMappedId'], how='left_anti').distinct()\n",
    ")\n",
    "\n",
    "novelty.first()"
   ]
  },
  {
   "cell_type": "code",
   "execution_count": 30,
   "metadata": {},
   "outputs": [
    {
     "name": "stderr",
     "output_type": "stream",
     "text": [
      "                                                                                \r"
     ]
    },
    {
     "data": {
      "text/plain": [
       "4063636"
      ]
     },
     "execution_count": 30,
     "metadata": {},
     "output_type": "execute_result"
    }
   ],
   "source": [
    "novelty.count()"
   ]
  },
  {
   "cell_type": "code",
   "execution_count": null,
   "metadata": {},
   "outputs": [],
   "source": []
  }
 ],
 "metadata": {
  "interpreter": {
   "hash": "f4b6dc36c032161cfa2dcc93f31fcb0bfb11bc6fea6f0772b15a0710e4778680"
  },
  "kernelspec": {
   "display_name": "Python 3.7.9 ('base')",
   "language": "python",
   "name": "python3"
  },
  "language_info": {
   "codemirror_mode": {
    "name": "ipython",
    "version": 3
   },
   "file_extension": ".py",
   "mimetype": "text/x-python",
   "name": "python",
   "nbconvert_exporter": "python",
   "pygments_lexer": "ipython3",
   "version": "3.7.9"
  },
  "orig_nbformat": 4
 },
 "nbformat": 4,
 "nbformat_minor": 2
}
