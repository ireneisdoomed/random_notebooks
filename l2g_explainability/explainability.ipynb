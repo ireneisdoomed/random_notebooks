{
 "cells": [
  {
   "cell_type": "code",
   "execution_count": null,
   "metadata": {},
   "outputs": [],
   "source": [
    "from datetime import datetime\n",
    "import pickle\n",
    "\n",
    "import gcsfs\n",
    "import joblib\n",
    "import pandas as pd\n",
    "from pyspark.conf import SparkConf\n",
    "from pyspark.sql import SparkSession, Window\n",
    "import pyspark.sql.functions as F\n",
    "import pyspark.sql.types as T\n",
    "import shap\n",
    "\n",
    "shap.initjs()\n",
    "\n",
    "fs = gcsfs.GCSFileSystem()\n",
    "\n",
    "spark_conf = (\n",
    "    SparkConf()\n",
    "    .set('spark.driver.memory', '14g')\n",
    "    .set('spark.executor.memory', '14g')\n",
    "    .set('spark.driver.maxResultSize', '0')\n",
    "    .set('spark.debug.maxToStringFields', '2000')\n",
    "    .set('spark.sql.execution.arrow.maxRecordsPerBatch', '500000')\n",
    "    .set('spark.ui.showConsoleProgress', 'false')\n",
    ")\n",
    "spark = (\n",
    "    SparkSession.builder.config(conf=spark_conf)\n",
    "    .master('local[*]')\n",
    "    .config(\"spark.driver.bindAddress\", \"127.0.0.1\")\n",
    "    .getOrCreate()\n",
    ")\n"
   ]
  },
  {
   "cell_type": "code",
   "execution_count": 2,
   "metadata": {},
   "outputs": [],
   "source": [
    "\n",
    "def load_model(bucket_name, file_name):\n",
    "    with fs.open(f'{bucket_name}/{file_name}') as f:\n",
    "        return joblib.load(f)\n",
    "\n",
    "def save_shap_values(bucket_name, file_name, shap_values):\n",
    "    with fs.open(f'{bucket_name}/{file_name}', 'wb') as f:\n",
    "        pickle.dump(shap_values, f)\n",
    "\n",
    "def load_shap_values(bucket_name, file_name):\n",
    "    with fs.open(f'{bucket_name}/{file_name}', 'rb') as f:\n",
    "        return pickle.load(f)\n"
   ]
  },
  {
   "cell_type": "markdown",
   "metadata": {},
   "source": [
    "## 1. Preprocessing predictions to bring their feature matrix\n",
    "\n",
    "To calculate the SHAP values I need to provide the feature metrix to the SHAP explainer class.\n",
    "What I do here is:\n",
    "1. Extract the highest scoring gene for each study/locus pair\n",
    "2. Bring their feature matrix"
   ]
  },
  {
   "cell_type": "code",
   "execution_count": 3,
   "metadata": {},
   "outputs": [
    {
     "name": "stdout",
     "output_type": "stream",
     "text": [
      "-RECORD 0--------------------------------\n",
      " study_id           | GCST002222         \n",
      " chrom              | 19                 \n",
      " pos                | 19296909           \n",
      " ref                | T                  \n",
      " alt                | C                  \n",
      " gene_id            | ENSG00000105705    \n",
      " y_proba_full_model | 0.5956910848617554 \n",
      "\n"
     ]
    }
   ],
   "source": [
    "window_highest_gene = Window.partitionBy('study_id', 'chrom', 'pos', 'ref', 'alt').orderBy(\n",
    "         F.col('y_proba_full_model').desc()\n",
    ")\n",
    "\n",
    "predictions = (\n",
    "    spark.read.parquet('data/predictions_2207').select('study_id', 'chrom', 'pos', 'ref', 'alt', 'gene_id', 'y_proba_full_model').distinct()\n",
    "    # I want to interpret only the best scoring prediction\n",
    "    .filter(F.col('y_proba_full_model') >= 0.05)\n",
    "    .withColumn('best_scoring_pred_row_number', F.row_number().over(window_highest_gene))\n",
    "    .filter(F.col('best_scoring_pred_row_number') == 1).drop('best_scoring_pred_row_number')\n",
    "\n",
    ")\n",
    "\n",
    "# Test. The highest scoring gene for this study/locus is SUGP1 (ENSG00000105705). That is what I get\n",
    "predictions.filter(\n",
    "    (F.col('chrom') == 19) & (F.col('pos') == 19296909) & (F.col('ref') == 'T') & (F.col('alt') == 'C') & (F.col('study_id') == 'GCST002222')\n",
    ").orderBy(F.col('y_proba_full_model').desc()).show(5, False, True)\n",
    "\n"
   ]
  },
  {
   "cell_type": "code",
   "execution_count": 4,
   "metadata": {},
   "outputs": [
    {
     "name": "stderr",
     "output_type": "stream",
     "text": [
      "22/07/28 17:20:28 WARN package: Truncated the string representation of a plan since it was too large. This behavior can be adjusted by setting 'spark.sql.debug.maxToStringFields'.\n"
     ]
    },
    {
     "name": "stdout",
     "output_type": "stream",
     "text": [
      "-RECORD 0------------------------------------------\n",
      " study_id                   | FINNGEN_R6_AD_U_E... \n",
      " chrom                      | 19                   \n",
      " pos                        | 44908684             \n",
      " ref                        | T                    \n",
      " alt                        | C                    \n",
      " gene_id                    | ENSG00000130203      \n",
      " y_proba_full_model         | 0.6877729892730713   \n",
      " dhs_prmtr_max              | 0.9122129999999999   \n",
      " dhs_prmtr_max_nbh          | 1.0                  \n",
      " dhs_prmtr_ave              | 0.9116864415135244   \n",
      " dhs_prmtr_ave_nbh          | 1.0                  \n",
      " enhc_tss_max               | null                 \n",
      " enhc_tss_max_nbh           | null                 \n",
      " enhc_tss_ave               | null                 \n",
      " enhc_tss_ave_nbh           | null                 \n",
      " eqtl_coloc_llr_max         | null                 \n",
      " eqtl_coloc_llr_max_neglogp | null                 \n",
      " eqtl_coloc_llr_max_nbh     | null                 \n",
      " sqtl_coloc_llr_max         | -0.2432336159216025  \n",
      " sqtl_coloc_llr_max_neglogp | null                 \n",
      " sqtl_coloc_llr_max_nbh     | -2.330933424643514   \n",
      " pqtl_coloc_llr_max         | null                 \n",
      " pqtl_coloc_llr_max_neglogp | null                 \n",
      " pqtl_coloc_llr_max_nbh     | null                 \n",
      " pchicJung_max              | null                 \n",
      " pchicJung_max_nbh          | null                 \n",
      " pchicJung_ave              | null                 \n",
      " pchicJung_ave_nbh          | null                 \n",
      " eqtl_pics_clpp_max         | null                 \n",
      " eqtl_pics_clpp_max_neglogp | null                 \n",
      " eqtl_pics_clpp_max_nhb     | null                 \n",
      " sqtl_pics_clpp_max         | null                 \n",
      " sqtl_pics_clpp_max_neglogp | null                 \n",
      " sqtl_pics_clpp_max_nhb     | null                 \n",
      " pqtl_pics_clpp_max         | -4.160425602309478   \n",
      " pqtl_pics_clpp_max_neglogp | 12.821023052706831   \n",
      " pqtl_pics_clpp_max_nhb     | 0.0                  \n",
      " vep_credset_max            | 0.66                 \n",
      " vep_credset_max_nbh        | 1.0                  \n",
      " vep_ave                    | 0.6596190269146857   \n",
      " vep_ave_nbh                | 1.0                  \n",
      " polyphen_credset_max       | 0.0                  \n",
      " polyphen_credset_max_nbh   | null                 \n",
      " polyphen_ave               | 0.0                  \n",
      " polyphen_ave_nbh           | null                 \n",
      " count_credset_95           | 1                    \n",
      " has_sumstats               | true                 \n",
      " dist_foot_sentinel         | 0.0                  \n",
      " dist_foot_sentinel_nbh     | 0.0                  \n",
      " dist_foot_min              | 0.0                  \n",
      " dist_foot_min_nbh          | 0.0                  \n",
      " dist_foot_ave              | 0.0                  \n",
      " dist_foot_ave_nbh          | 0.0                  \n",
      " dist_tss_sentinel          | 7.970394907191429    \n",
      " dist_tss_sentinel_nbh      | 0.0                  \n",
      " dist_tss_min               | 7.970394907191429    \n",
      " dist_tss_min_nbh           | 0.0                  \n",
      " dist_tss_ave               | 7.969817708154836    \n",
      " dist_tss_ave_nbh           | 0.0                  \n",
      " gene_count_lte_50k         | 8                    \n",
      " gene_count_lte_100k        | 10                   \n",
      " gene_count_lte_250k        | 21                   \n",
      " gene_count_lte_500k        | 34                   \n",
      " proteinAttenuation         | -0.045286238         \n",
      " gs_confidence              | null                 \n",
      " gs_set                     | null                 \n",
      " gs_confidence_num          | null                 \n",
      " gold_standard_status       | null                 \n",
      "only showing top 1 row\n",
      "\n"
     ]
    }
   ],
   "source": [
    "# Join the features for each prediction\n",
    "\n",
    "predictions_w_features = (\n",
    "    predictions.join(\n",
    "        spark.read.parquet('data/featurematrix_w_goldstandards.full.220712.parquet'),\n",
    "        on=['study_id', 'chrom', 'pos', 'ref', 'alt', 'gene_id'], how='inner') # We have features for all predictions\n",
    "    .distinct()\n",
    "    .persist()\n",
    ")\n",
    "\n",
    "predictions_w_features.show(1, True, True)"
   ]
  },
  {
   "cell_type": "code",
   "execution_count": 24,
   "metadata": {},
   "outputs": [
    {
     "name": "stderr",
     "output_type": "stream",
     "text": [
      "                                                                                \r"
     ]
    }
   ],
   "source": [
    "# At this point I should have the highest scoring gene for each study/locus.\n",
    "\n",
    "assert (\n",
    "    predictions_w_features.select('study_id', 'chrom', 'pos', 'ref', 'alt', 'gene_id').distinct().count()\n",
    "    == predictions_w_features.select('study_id', 'chrom', 'pos', 'ref', 'alt').distinct().count()\n",
    "), 'There is more than one gene for one prediction.'\n"
   ]
  },
  {
   "cell_type": "markdown",
   "metadata": {},
   "source": [
    "## 2. Calculate the SHAP values\n",
    "\n"
   ]
  },
  {
   "cell_type": "code",
   "execution_count": 79,
   "metadata": {},
   "outputs": [
    {
     "data": {
      "text/plain": [
       "[(0, {'1', '3', '8'}),\n",
       " (1, {'10', '16', '21', '22', '5', 'X'}),\n",
       " (2, {'11', '18', '20', '4', '9'}),\n",
       " (3, {'12', '17', '2', '7'}),\n",
       " (4, {'13', '14', '15', '19', '6'})]"
      ]
     },
     "execution_count": 79,
     "metadata": {},
     "output_type": "execute_result"
    }
   ],
   "source": [
    "model_bucket = 'gs://genetics-portal-dev-staging/l2g/220712/models'\n",
    "model_names = [f'xgboost-full_model-high_medium-{fold}.model.joblib.gz' for fold in range(5)]\n",
    "\n",
    "models = [load_model(model_bucket, model_name) for model_name in model_names]\n",
    "model_features = models[0]['run_info']['features']\n",
    "\n",
    "[(model['run_info']['fold_num'], model['run_info']['fold_test_chroms']) for model in models]\n"
   ]
  },
  {
   "cell_type": "code",
   "execution_count": 124,
   "metadata": {},
   "outputs": [
    {
     "data": {
      "text/plain": [
       "False"
      ]
     },
     "execution_count": 124,
     "metadata": {},
     "output_type": "execute_result"
    }
   ],
   "source": [
    "'dist_tss_sentinel_nbh' in models[2]['run_info']['features']"
   ]
  },
  {
   "cell_type": "code",
   "execution_count": 129,
   "metadata": {},
   "outputs": [
    {
     "name": "stderr",
     "output_type": "stream",
     "text": [
      "ntree_limit is deprecated, use `iteration_range` or model slicing instead.\n"
     ]
    },
    {
     "name": "stdout",
     "output_type": "stream",
     "text": [
      "60467 rows in model #0\n",
      "52238 rows in model #1\n",
      "61906 rows in model #2\n",
      "74060 rows in model #3\n",
      "61511 rows in model #4\n"
     ]
    }
   ],
   "source": [
    "today = datetime.now().strftime('%Y-%m-%d')\n",
    "\n",
    "X = list()\n",
    "output_bucket = f'gs://ot-team/irene/l2g_explainability/{today}'\n",
    "\n",
    "for model in models:\n",
    "    # Slice the feature matrix for this fold\n",
    "    X_fold = predictions_w_features.filter(F.col('chrom').isin(model['run_info']['fold_test_chroms'])).toPandas()\n",
    "\n",
    "    # Calculate the shap values for this fold\n",
    "    explainer = shap.TreeExplainer(model['model'].best_estimator_)\n",
    "    shap_values = explainer(X_fold.filter(items=model_features))\n",
    "    assert (\n",
    "        shap_values.shape == X_fold.filter(items=model_features).shape\n",
    "    ), f'The shape of the SHAP values ({shap_values.shape}) does not match the shape of the feature matrix ({X_fold.filter(items=model_features).shape}).'\n",
    "\n",
    "    # Save the shap values to GCS\n",
    "    shap_values_filename = f'shap_values_{model[\"run_info\"][\"fold_num\"]}.sav'\n",
    "    save_shap_values(output_bucket, shap_values_filename, shap_values)\n",
    "\n",
    "    # Store the metadata to retrieve the shap values later in the feature matrix\n",
    "    X_fold['shap_values_filename'] = shap_values_filename\n",
    "    X_fold['index'] = X_fold.index\n",
    "    X_fold['explainer_expected_value'] = explainer.expected_value\n",
    "    X_fold['model_fold'] = model['run_info']['fold_num']\n",
    "    X_fold['model_fold_chroms'] = [list(model['run_info']['fold_test_chroms'])] * len(X_fold)\n",
    "\n",
    "    X.append(X_fold)\n",
    "    print(f'{len(X_fold)} rows in model #{model[\"run_info\"][\"fold_num\"]}')\n",
    "\n",
    "\n",
    "\n",
    "# assert len(X) == len(models), 'The number of models and the number of folds do not match.'\n",
    "\n",
    "X = pd.concat(X, axis=0, ignore_index=True).astype({'pos': str}, errors='raise')\n",
    "X.to_parquet(f'{output_bucket}/l2g_enriched_fm.parquet', index=False)\n",
    "# X  = spark.createDataFrame(pd.concat(X, axis=0, ignore_index=True)).withColumn('pos', F.col('pos').cast(T.StringType()))\n",
    "# X.write.parquet(f'{output_bucket}/feature_matrix')\n",
    "# assert X.count() == predictions_w_features.count(), 'The original feature matrix and the feature matrix with shap values do not match in size.'\n"
   ]
  },
  {
   "cell_type": "code",
   "execution_count": 87,
   "metadata": {},
   "outputs": [
    {
     "data": {
      "text/plain": [
       "['ot-team/irene/l2g_explainability/2022-07-29/shap_values_0.sav',\n",
       " 'ot-team/irene/l2g_explainability/2022-07-29/shap_values_1.sav',\n",
       " 'ot-team/irene/l2g_explainability/2022-07-29/shap_values_2.sav',\n",
       " 'ot-team/irene/l2g_explainability/2022-07-29/shap_values_3.sav',\n",
       " 'ot-team/irene/l2g_explainability/2022-07-29/shap_values_4.sav']"
      ]
     },
     "execution_count": 87,
     "metadata": {},
     "output_type": "execute_result"
    }
   ],
   "source": [
    "# Great! All shap values have been stored\n",
    "\n",
    "fs.ls(output_bucket)"
   ]
  },
  {
   "cell_type": "code",
   "execution_count": 130,
   "metadata": {},
   "outputs": [
    {
     "name": "stdout",
     "output_type": "stream",
     "text": [
      "study_id                     FINNGEN_R6_I9_AF\n",
      "chrom                                       1\n",
      "pos                                 154839804\n",
      "ref                                         C\n",
      "alt                                         T\n",
      "gene_id                       ENSG00000143603\n",
      "y_proba_full_model                   0.760369\n",
      "dist_foot_sentinel                        0.0\n",
      "dist_foot_sentinel_nbh                    0.0\n",
      "dist_tss_sentinel                    10.32476\n",
      "dist_tss_sentinel_nbh                     0.0\n",
      "gs_confidence                            None\n",
      "gs_set                                   None\n",
      "gs_confidence_num                         NaN\n",
      "gold_standard_status                      NaN\n",
      "shap_values_filename        shap_values_0.sav\n",
      "index                                       0\n",
      "explainer_expected_value            -2.912217\n",
      "model_fold                                  0\n",
      "model_fold_chroms                   [3, 8, 1]\n",
      "Name: 0, dtype: object\n"
     ]
    },
    {
     "data": {
      "text/html": [
       "\n",
       "<div id='iM9EQVTDJQV4R3C8UCRBX'>\n",
       "<div style='color: #900; text-align: center;'>\n",
       "  <b>Visualization omitted, Javascript library not loaded!</b><br>\n",
       "  Have you run `initjs()` in this notebook? If this notebook was from another\n",
       "  user you must also trust this notebook (File -> Trust notebook). If you are viewing\n",
       "  this notebook on github the Javascript has been stripped for security. If you are using\n",
       "  JupyterLab this error is because a JupyterLab extension has not yet been written.\n",
       "</div></div>\n",
       " <script>\n",
       "   if (window.SHAP) SHAP.ReactDom.render(\n",
       "    SHAP.React.createElement(SHAP.AdditiveForceVisualizer, {\"outNames\": [\"f(x)\"], \"baseValue\": -2.912217140197754, \"outValue\": 1.15470552444458, \"link\": \"logit\", \"featureNames\": [\"dist_foot_min\", \"dist_foot_min_nbh\", \"dist_foot_ave\", \"dist_foot_ave_nbh\", \"dist_tss_min\", \"dist_tss_min_nbh\", \"dist_tss_ave\", \"dist_tss_ave_nbh\", \"eqtl_coloc_llr_max\", \"eqtl_coloc_llr_max_neglogp\", \"eqtl_coloc_llr_max_nbh\", \"sqtl_coloc_llr_max\", \"sqtl_coloc_llr_max_neglogp\", \"sqtl_coloc_llr_max_nbh\", \"pqtl_coloc_llr_max\", \"pqtl_coloc_llr_max_neglogp\", \"pqtl_coloc_llr_max_nbh\", \"eqtl_pics_clpp_max\", \"eqtl_pics_clpp_max_neglogp\", \"eqtl_pics_clpp_max_nhb\", \"sqtl_pics_clpp_max\", \"sqtl_pics_clpp_max_neglogp\", \"sqtl_pics_clpp_max_nhb\", \"pqtl_pics_clpp_max\", \"pqtl_pics_clpp_max_neglogp\", \"pqtl_pics_clpp_max_nhb\", \"dhs_prmtr_max\", \"dhs_prmtr_max_nbh\", \"dhs_prmtr_ave\", \"dhs_prmtr_ave_nbh\", \"enhc_tss_max\", \"enhc_tss_max_nbh\", \"enhc_tss_ave\", \"enhc_tss_ave_nbh\", \"pchicJung_max\", \"pchicJung_max_nbh\", \"pchicJung_ave\", \"pchicJung_ave_nbh\", \"vep_credset_max\", \"vep_credset_max_nbh\", \"vep_ave\", \"vep_ave_nbh\", \"polyphen_credset_max\", \"polyphen_credset_max_nbh\", \"polyphen_ave\", \"polyphen_ave_nbh\", \"count_credset_95\", \"has_sumstats\", \"gene_count_lte_50k\", \"gene_count_lte_100k\", \"gene_count_lte_250k\", \"gene_count_lte_500k\", \"proteinAttenuation\"], \"features\": {\"0\": {\"effect\": 0.11426909267902374, \"value\": 0.0}, \"1\": {\"effect\": 0.3775011897087097, \"value\": 0.0}, \"2\": {\"effect\": 0.19533760845661163, \"value\": 0.0}, \"3\": {\"effect\": 0.48845982551574707, \"value\": 0.0}, \"4\": {\"effect\": 0.15739385783672333, \"value\": 10.313210250896933}, \"5\": {\"effect\": 0.7124283909797668, \"value\": 0.0}, \"6\": {\"effect\": 0.10809560865163803, \"value\": 10.311063551087766}, \"7\": {\"effect\": 0.43988314270973206, \"value\": 0.0}, \"8\": {\"effect\": 0.026944061741232872, \"value\": 7.713716436886308}, \"9\": {\"effect\": -0.008520063944160938, \"value\": 11.215810794619038}, \"10\": {\"effect\": 0.02250416949391365, \"value\": 0.0}, \"11\": {\"effect\": 8.203648758353665e-05, \"value\": NaN}, \"13\": {\"effect\": 0.0006575423758476973, \"value\": NaN}, \"17\": {\"effect\": 0.34930339455604553, \"value\": -2.0402580686194427}, \"18\": {\"effect\": 0.10648655146360397, \"value\": 11.215810794619038}, \"19\": {\"effect\": 0.11633080244064331, \"value\": 0.0}, \"26\": {\"effect\": -5.742911889683455e-05, \"value\": NaN}, \"27\": {\"effect\": -0.0009302659309469163, \"value\": NaN}, \"28\": {\"effect\": 0.0037537089083343744, \"value\": NaN}, \"29\": {\"effect\": 0.0036537740379571915, \"value\": NaN}, \"34\": {\"effect\": 0.0006182566867209971, \"value\": 1.0}, \"35\": {\"effect\": 0.00308703794144094, \"value\": 1.0}, \"36\": {\"effect\": -0.00034428772050887346, \"value\": 0.9911797531787441}, \"37\": {\"effect\": 0.015563837252557278, \"value\": 1.0}, \"38\": {\"effect\": 0.000288117938907817, \"value\": 0.1}, \"39\": {\"effect\": 0.254068523645401, \"value\": 1.0}, \"40\": {\"effect\": 0.29024919867515564, \"value\": 0.09911797531787442}, \"41\": {\"effect\": 0.23516149818897247, \"value\": 1.0}, \"42\": {\"effect\": -0.0010688728652894497, \"value\": NaN}, \"44\": {\"effect\": -0.004604917950928211, \"value\": NaN}, \"45\": {\"effect\": -0.0009092583204619586, \"value\": NaN}, \"46\": {\"effect\": 0.0754149928689003, \"value\": 3.0}, \"47\": {\"effect\": 0.021526888012886047, \"value\": true}, \"48\": {\"effect\": 0.0797746554017067, \"value\": 1.0}, \"49\": {\"effect\": 0.08400016278028488, \"value\": 2.0}, \"50\": {\"effect\": -0.1516239494085312, \"value\": 15.0}, \"51\": {\"effect\": -0.17464248836040497, \"value\": 38.0}, \"52\": {\"effect\": 0.12678587436676025, \"value\": NaN}}, \"plot_cmap\": \"RdBu\", \"labelMargin\": 20}),\n",
       "    document.getElementById('iM9EQVTDJQV4R3C8UCRBX')\n",
       "  );\n",
       "</script>"
      ],
      "text/plain": [
       "<shap.plots._force.AdditiveForceVisualizer at 0x7fcc57f80310>"
      ]
     },
     "execution_count": 130,
     "metadata": {},
     "output_type": "execute_result"
    }
   ],
   "source": [
    "# Example that shows how to retrieve the shap values\n",
    "\n",
    "\n",
    "test = X.query(\"chrom == '1' & pos == '154839804' & ref == 'C' & alt == 'T' & study_id == 'FINNGEN_R6_I9_AF'\")\n",
    "print(test.drop(model_features, axis=1).iloc[0])\n",
    "\n",
    "# The L2G prediction for KCNN3 is 0.76. Let's plot the force plot\n",
    "\n",
    "shap_values = load_shap_values(output_bucket, 'shap_values_0.sav')\n",
    "shap_index = test['index'].iloc[0]\n",
    "\n",
    "shap.force_plot(\n",
    "    base_value=test.explainer_expected_value.iloc[0],\n",
    "    shap_values=shap_values[shap_index, :].values,\n",
    "    features=test.query('index == 0').filter(items=model_features).iloc[0, :],\n",
    "    link='logit',\n",
    ")\n",
    "\n",
    "# Where are the extra columns coming from? Sentinel related features that didn't end up in the model"
   ]
  },
  {
   "cell_type": "markdown",
   "metadata": {},
   "source": [
    "## 3. Plot feature importance for each model"
   ]
  },
  {
   "cell_type": "code",
   "execution_count": 142,
   "metadata": {},
   "outputs": [],
   "source": [
    "import matplotlib.pyplot as plt\n",
    "\n",
    "def save_summary_plot(shap_values: shap._explanation.Explanation, feature_matrix: pd.DataFrame, features: list):\n",
    "    model_fold = feature_matrix['model_fold'].iloc[0]\n",
    "    X = feature_matrix.filter(items=features)\n",
    "\n",
    "    assert X.shape == shap_values.shape, f'The feature matrix and the shap values do not match in size ({X.shape} vs {shap_values.shape}).'\n",
    "\n",
    "    fig = shap.summary_plot(shap_values, X, show=False)\n",
    "    plt.title(f'Feature importance of model fold {model_fold}')\n",
    "    plt.savefig(f'plots/summary_plot_fold_{model_fold}')\n",
    "    plt.close()\n"
   ]
  },
  {
   "cell_type": "code",
   "execution_count": 146,
   "metadata": {},
   "outputs": [
    {
     "name": "stdout",
     "output_type": "stream",
     "text": [
      "Processing shap_values_0.sav...\n",
      "Processing shap_values_1.sav...\n",
      "Processing shap_values_2.sav...\n",
      "Processing shap_values_3.sav...\n",
      "Processing shap_values_4.sav...\n"
     ]
    }
   ],
   "source": [
    "# I have different sets of shap values that are the outcome of the different models\n",
    "\n",
    "shap_values_lst = [load_shap_values(output_bucket, f'shap_values_{fold}.sav') for fold in range(5)]\n",
    "\n",
    "for (fold, shap_set) in enumerate(shap_values_lst):\n",
    "\n",
    "    shap_filename = f'shap_values_{fold}.sav'\n",
    "    X_fold = X.query('shap_values_filename == @shap_filename').reset_index()\n",
    "\n",
    "    print(f'Processing {shap_filename}...')\n",
    "    save_summary_plot(\n",
    "        shap_set,\n",
    "        X_fold,\n",
    "        features=model_features\n",
    "    )\n",
    "\n",
    "    #shap.summary_plot(shap_set, X_fold.filter(model_names), show=True)\n"
   ]
  },
  {
   "cell_type": "code",
   "execution_count": 139,
   "metadata": {},
   "outputs": [
    {
     "data": {
      "text/plain": [
       "(52238, 53)"
      ]
     },
     "execution_count": 139,
     "metadata": {},
     "output_type": "execute_result"
    }
   ],
   "source": [
    "X.query('shap_values_filename == @shap_filename').filter(items=model_features).shape"
   ]
  },
  {
   "cell_type": "markdown",
   "metadata": {},
   "source": [
    "## 4. Plot feature importance for a given prediction"
   ]
  },
  {
   "cell_type": "code",
   "execution_count": 147,
   "metadata": {},
   "outputs": [
    {
     "data": {
      "text/plain": [
       "study_id                     FINNGEN_R6_I9_AF\n",
       "chrom                                       1\n",
       "pos                                 154839804\n",
       "ref                                         C\n",
       "alt                                         T\n",
       "                                  ...        \n",
       "shap_values_filename        shap_values_0.sav\n",
       "index                                       0\n",
       "explainer_expected_value            -2.912217\n",
       "model_fold                                  0\n",
       "model_fold_chroms                   [3, 8, 1]\n",
       "Name: 0, Length: 73, dtype: object"
      ]
     },
     "execution_count": 147,
     "metadata": {},
     "output_type": "execute_result"
    }
   ],
   "source": [
    "def find_prediction(feature_matrix: pd.DataFrame, variant: str, study_id: str):\n",
    "    chrom, pos, ref, alt = variant.split('_')\n",
    "\n",
    "    return feature_matrix.query('chrom == @chrom & pos == @pos & ref == @ref & alt == @alt & study_id == @study_id')\n",
    "\n",
    "prediction = find_prediction(X, '1_154839804_C_T', 'FINNGEN_R6_I9_AF')\n",
    "\n",
    "prediction.iloc[0]"
   ]
  },
  {
   "cell_type": "code",
   "execution_count": 148,
   "metadata": {},
   "outputs": [],
   "source": [
    "def plot_force_plot(shap_values: shap._explanation.Explanation, feature_matrix: pd.DataFrame, features: list):\n",
    "\n",
    "    shap_value_index = feature_matrix['index'].iloc[0]\n",
    "    base_value = feature_matrix['explainer_expected_value'].iloc[0]\n",
    "\n",
    "    fig = shap.force_plot(\n",
    "        base_value=base_value,\n",
    "        shap_values=shap_values[shap_value_index, :].values,\n",
    "        features=feature_matrix.filter(items=features),\n",
    "        link='logit',\n",
    "    )\n",
    "    plt.show()\n",
    "\n",
    "\n",
    "shap_values = shap_values_lst[prediction['model_fold'].iloc[0]]\n",
    "\n",
    "plot_force_plot(shap_values, prediction, model_features)\n"
   ]
  },
  {
   "cell_type": "code",
   "execution_count": 149,
   "metadata": {},
   "outputs": [
    {
     "data": {
      "text/html": [
       "\n",
       "<div id='iW90P341RVQ5PB6CRNF7L'>\n",
       "<div style='color: #900; text-align: center;'>\n",
       "  <b>Visualization omitted, Javascript library not loaded!</b><br>\n",
       "  Have you run `initjs()` in this notebook? If this notebook was from another\n",
       "  user you must also trust this notebook (File -> Trust notebook). If you are viewing\n",
       "  this notebook on github the Javascript has been stripped for security. If you are using\n",
       "  JupyterLab this error is because a JupyterLab extension has not yet been written.\n",
       "</div></div>\n",
       " <script>\n",
       "   if (window.SHAP) SHAP.ReactDom.render(\n",
       "    SHAP.React.createElement(SHAP.AdditiveForceVisualizer, {\"outNames\": [\"f(x)\"], \"baseValue\": -2.912217140197754, \"outValue\": 1.15470552444458, \"link\": \"logit\", \"featureNames\": [\"dist_foot_min\", \"dist_foot_min_nbh\", \"dist_foot_ave\", \"dist_foot_ave_nbh\", \"dist_tss_min\", \"dist_tss_min_nbh\", \"dist_tss_ave\", \"dist_tss_ave_nbh\", \"eqtl_coloc_llr_max\", \"eqtl_coloc_llr_max_neglogp\", \"eqtl_coloc_llr_max_nbh\", \"sqtl_coloc_llr_max\", \"sqtl_coloc_llr_max_neglogp\", \"sqtl_coloc_llr_max_nbh\", \"pqtl_coloc_llr_max\", \"pqtl_coloc_llr_max_neglogp\", \"pqtl_coloc_llr_max_nbh\", \"eqtl_pics_clpp_max\", \"eqtl_pics_clpp_max_neglogp\", \"eqtl_pics_clpp_max_nhb\", \"sqtl_pics_clpp_max\", \"sqtl_pics_clpp_max_neglogp\", \"sqtl_pics_clpp_max_nhb\", \"pqtl_pics_clpp_max\", \"pqtl_pics_clpp_max_neglogp\", \"pqtl_pics_clpp_max_nhb\", \"dhs_prmtr_max\", \"dhs_prmtr_max_nbh\", \"dhs_prmtr_ave\", \"dhs_prmtr_ave_nbh\", \"enhc_tss_max\", \"enhc_tss_max_nbh\", \"enhc_tss_ave\", \"enhc_tss_ave_nbh\", \"pchicJung_max\", \"pchicJung_max_nbh\", \"pchicJung_ave\", \"pchicJung_ave_nbh\", \"vep_credset_max\", \"vep_credset_max_nbh\", \"vep_ave\", \"vep_ave_nbh\", \"polyphen_credset_max\", \"polyphen_credset_max_nbh\", \"polyphen_ave\", \"polyphen_ave_nbh\", \"count_credset_95\", \"has_sumstats\", \"gene_count_lte_50k\", \"gene_count_lte_100k\", \"gene_count_lte_250k\", \"gene_count_lte_500k\", \"proteinAttenuation\"], \"features\": {\"0\": {\"effect\": 0.11426909267902374, \"value\": 0.0}, \"1\": {\"effect\": 0.3775011897087097, \"value\": 0.0}, \"2\": {\"effect\": 0.19533760845661163, \"value\": 0.0}, \"3\": {\"effect\": 0.48845982551574707, \"value\": 0.0}, \"4\": {\"effect\": 0.15739385783672333, \"value\": 10.313210250896933}, \"5\": {\"effect\": 0.7124283909797668, \"value\": 0.0}, \"6\": {\"effect\": 0.10809560865163803, \"value\": 10.311063551087766}, \"7\": {\"effect\": 0.43988314270973206, \"value\": 0.0}, \"8\": {\"effect\": 0.026944061741232872, \"value\": 7.713716436886308}, \"9\": {\"effect\": -0.008520063944160938, \"value\": 11.215810794619038}, \"10\": {\"effect\": 0.02250416949391365, \"value\": 0.0}, \"11\": {\"effect\": 8.203648758353665e-05, \"value\": NaN}, \"13\": {\"effect\": 0.0006575423758476973, \"value\": NaN}, \"17\": {\"effect\": 0.34930339455604553, \"value\": -2.0402580686194427}, \"18\": {\"effect\": 0.10648655146360397, \"value\": 11.215810794619038}, \"19\": {\"effect\": 0.11633080244064331, \"value\": 0.0}, \"26\": {\"effect\": -5.742911889683455e-05, \"value\": NaN}, \"27\": {\"effect\": -0.0009302659309469163, \"value\": NaN}, \"28\": {\"effect\": 0.0037537089083343744, \"value\": NaN}, \"29\": {\"effect\": 0.0036537740379571915, \"value\": NaN}, \"34\": {\"effect\": 0.0006182566867209971, \"value\": 1.0}, \"35\": {\"effect\": 0.00308703794144094, \"value\": 1.0}, \"36\": {\"effect\": -0.00034428772050887346, \"value\": 0.9911797531787441}, \"37\": {\"effect\": 0.015563837252557278, \"value\": 1.0}, \"38\": {\"effect\": 0.000288117938907817, \"value\": 0.1}, \"39\": {\"effect\": 0.254068523645401, \"value\": 1.0}, \"40\": {\"effect\": 0.29024919867515564, \"value\": 0.09911797531787442}, \"41\": {\"effect\": 0.23516149818897247, \"value\": 1.0}, \"42\": {\"effect\": -0.0010688728652894497, \"value\": NaN}, \"44\": {\"effect\": -0.004604917950928211, \"value\": NaN}, \"45\": {\"effect\": -0.0009092583204619586, \"value\": NaN}, \"46\": {\"effect\": 0.0754149928689003, \"value\": 3.0}, \"47\": {\"effect\": 0.021526888012886047, \"value\": true}, \"48\": {\"effect\": 0.0797746554017067, \"value\": 1}, \"49\": {\"effect\": 0.08400016278028488, \"value\": 2}, \"50\": {\"effect\": -0.1516239494085312, \"value\": 15}, \"51\": {\"effect\": -0.17464248836040497, \"value\": 38}, \"52\": {\"effect\": 0.12678587436676025, \"value\": NaN}}, \"plot_cmap\": \"RdBu\", \"labelMargin\": 20}),\n",
       "    document.getElementById('iW90P341RVQ5PB6CRNF7L')\n",
       "  );\n",
       "</script>"
      ],
      "text/plain": [
       "<shap.plots._force.AdditiveForceVisualizer at 0x7fcbfb6dcad0>"
      ]
     },
     "execution_count": 149,
     "metadata": {},
     "output_type": "execute_result"
    }
   ],
   "source": [
    "shap.force_plot(\n",
    "    base_value=prediction['explainer_expected_value'].iloc[0],\n",
    "    shap_values=shap_values[prediction['index'].iloc[0], :].values,\n",
    "    features=prediction.filter(items=model_features),\n",
    "    link='logit',\n",
    "    show=True,\n",
    ")"
   ]
  },
  {
   "cell_type": "code",
   "execution_count": 158,
   "metadata": {},
   "outputs": [
    {
     "data": {
      "image/png": "[encoded data removed]",
      "text/plain": [
       "<Figure size 576x468 with 3 Axes>"
      ]
     },
     "execution_count": 158,
     "metadata": {},
     "output_type": "execute_result"
    },
    {
     "data": {
      "image/png": "[encoded data removed]",
      "text/plain": [
       "<Figure size 576x468 with 3 Axes>"
      ]
     },
     "metadata": {},
     "output_type": "display_data"
    }
   ],
   "source": [
    "(\n",
    "        shap.plots.waterfall(\n",
    "            shap_values[prediction['index'].iloc[0]],\n",
    "            max_display=10,\n",
    "            show=False\n",
    "        )\n",
    "    )"
   ]
  },
  {
   "cell_type": "code",
   "execution_count": null,
   "metadata": {},
   "outputs": [],
   "source": []
  }
 ],
 "metadata": {
  "kernelspec": {
   "display_name": "Python 3.7.12",
   "language": "python",
   "name": "python3"
  },
  "language_info": {
   "codemirror_mode": {
    "name": "ipython",
    "version": 3
   },
   "file_extension": ".py",
   "mimetype": "text/x-python",
   "name": "python",
   "nbconvert_exporter": "python",
   "pygments_lexer": "ipython3",
   "version": "3.7.12"
  },
  "orig_nbformat": 4,
  "vscode": {
   "interpreter": {
    "hash": "fd23bbed08c2fda309d2208a60aad596907c672c8d2def523a64674b1f19ba93"
   }
  }
 },
 "nbformat": 4,
 "nbformat_minor": 2
}
