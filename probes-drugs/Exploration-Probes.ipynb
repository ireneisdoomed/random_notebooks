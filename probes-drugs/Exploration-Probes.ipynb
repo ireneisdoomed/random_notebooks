{
 "cells": [
  {
   "cell_type": "code",
   "execution_count": 1,
   "metadata": {},
   "outputs": [],
   "source": [
    "import pandas as pd"
   ]
  },
  {
   "cell_type": "markdown",
   "metadata": {},
   "source": [
    "## 1. Extract all compound IDs that belong to a Chemical Probes Set\n",
    "\n",
    "Compound sets per data source:\n",
    "```\n",
    "Bromodomains chemical toolbox, 277\n",
    "Chemical Probes.org, 15\n",
    "Gray Laboratory Probes, 240\n",
    "MLP probes, 14 --> Legacy compound set\n",
    "Open Science Probes, 213\n",
    "High-quality chemical probes, 395 --> Turn into a boolean label\n",
    "Nature Chemical Biology Probes, 19 --> Legacy compound set\n",
    "opnMe Portal, 219\n",
    "Probe Miner (suitable probes), 227\n",
    "Protein methyltransferases chemical toolbox, 278\n",
    "SGC Probes, 28\n",
    "Tool Compound Set, 19`\n",
    "```\n"
   ]
  },
  {
   "cell_type": "code",
   "execution_count": 5,
   "metadata": {},
   "outputs": [],
   "source": [
    "compound2compoundset = pd.read_csv(\"csv_dumps/3/compoundtocompoundset.csv\", sep=\",\", header=0, usecols=['compound_id', 'compoundset_id'])\n",
    "compoundsets = (\n",
    "    pd.read_csv(\n",
    "        \"csv_dumps/3/compoundset.csv\",\n",
    "        sep=\",\",\n",
    "        header=0,\n",
    "        usecols=['compoundsetid', 'name', 'source_url'])\n",
    "    .rename(columns={'name' : 'source'})\n",
    ")"
   ]
  },
  {
   "cell_type": "code",
   "execution_count": 6,
   "metadata": {},
   "outputs": [
    {
     "name": "stdout",
     "output_type": "stream",
     "text": [
      "4562\n"
     ]
    },
    {
     "data": {
      "text/plain": "       compound_id                         source  \\\n29961        30108  Bromodomains chemical toolbox   \n29962        29511  Bromodomains chemical toolbox   \n29963        32473  Bromodomains chemical toolbox   \n29964         7226  Bromodomains chemical toolbox   \n29965        26115  Bromodomains chemical toolbox   \n\n                                              source_url  \n29961  https://www.nature.com/articles/s41467-019-096...  \n29962  https://www.nature.com/articles/s41467-019-096...  \n29963  https://www.nature.com/articles/s41467-019-096...  \n29964  https://www.nature.com/articles/s41467-019-096...  \n29965  https://www.nature.com/articles/s41467-019-096...  ",
      "text/html": "<div>\n<style scoped>\n    .dataframe tbody tr th:only-of-type {\n        vertical-align: middle;\n    }\n\n    .dataframe tbody tr th {\n        vertical-align: top;\n    }\n\n    .dataframe thead th {\n        text-align: right;\n    }\n</style>\n<table border=\"1\" class=\"dataframe\">\n  <thead>\n    <tr style=\"text-align: right;\">\n      <th></th>\n      <th>compound_id</th>\n      <th>source</th>\n      <th>source_url</th>\n    </tr>\n  </thead>\n  <tbody>\n    <tr>\n      <th>29961</th>\n      <td>30108</td>\n      <td>Bromodomains chemical toolbox</td>\n      <td>https://www.nature.com/articles/s41467-019-096...</td>\n    </tr>\n    <tr>\n      <th>29962</th>\n      <td>29511</td>\n      <td>Bromodomains chemical toolbox</td>\n      <td>https://www.nature.com/articles/s41467-019-096...</td>\n    </tr>\n    <tr>\n      <th>29963</th>\n      <td>32473</td>\n      <td>Bromodomains chemical toolbox</td>\n      <td>https://www.nature.com/articles/s41467-019-096...</td>\n    </tr>\n    <tr>\n      <th>29964</th>\n      <td>7226</td>\n      <td>Bromodomains chemical toolbox</td>\n      <td>https://www.nature.com/articles/s41467-019-096...</td>\n    </tr>\n    <tr>\n      <th>29965</th>\n      <td>26115</td>\n      <td>Bromodomains chemical toolbox</td>\n      <td>https://www.nature.com/articles/s41467-019-096...</td>\n    </tr>\n  </tbody>\n</table>\n</div>"
     },
     "execution_count": 6,
     "metadata": {},
     "output_type": "execute_result"
    }
   ],
   "source": [
    "probes_compoundsetids = [277, 15, 240, 213, 395, 219, 227, 278, 28, 19]\n",
    "\n",
    "compound2compoundset = (\n",
    "    compound2compoundset.merge(\n",
    "        compoundsets[['compoundsetid', 'source', 'source_url']],\n",
    "        left_on='compoundset_id',\n",
    "        right_on='compoundsetid',\n",
    "        how='inner'\n",
    "    )\n",
    "    # Select compounds coming from Probes data sources\n",
    "    .query('compoundset_id in @probes_compoundsetids')\n",
    "    .drop(['compoundsetid', 'compoundset_id'], axis=1)\n",
    ")\n",
    "\n",
    "print(compound2compoundset.shape[0])\n",
    "compound2compoundset.head()"
   ]
  },
  {
   "cell_type": "markdown",
   "metadata": {},
   "source": [
    "# 🧐 Question: If probe in different sources, do we duplicate or want the id to be unique? Unique ID"
   ]
  },
  {
   "cell_type": "markdown",
   "metadata": {},
   "source": [
    "## 2.1 Pair compound IDs with probes IDs"
   ]
  },
  {
   "cell_type": "code",
   "execution_count": 7,
   "metadata": {},
   "outputs": [
    {
     "data": {
      "text/plain": "   probe_id  compound_id      origin control\n0     28998        35591  calculated     NaN\n1     29013        28478  calculated     NaN\n2     26700        45619  calculated     NaN\n3     27263        45951  calculated     NaN\n4     28219        46613  calculated     NaN",
      "text/html": "<div>\n<style scoped>\n    .dataframe tbody tr th:only-of-type {\n        vertical-align: middle;\n    }\n\n    .dataframe tbody tr th {\n        vertical-align: top;\n    }\n\n    .dataframe thead th {\n        text-align: right;\n    }\n</style>\n<table border=\"1\" class=\"dataframe\">\n  <thead>\n    <tr style=\"text-align: right;\">\n      <th></th>\n      <th>probe_id</th>\n      <th>compound_id</th>\n      <th>origin</th>\n      <th>control</th>\n    </tr>\n  </thead>\n  <tbody>\n    <tr>\n      <th>0</th>\n      <td>28998</td>\n      <td>35591</td>\n      <td>calculated</td>\n      <td>NaN</td>\n    </tr>\n    <tr>\n      <th>1</th>\n      <td>29013</td>\n      <td>28478</td>\n      <td>calculated</td>\n      <td>NaN</td>\n    </tr>\n    <tr>\n      <th>2</th>\n      <td>26700</td>\n      <td>45619</td>\n      <td>calculated</td>\n      <td>NaN</td>\n    </tr>\n    <tr>\n      <th>3</th>\n      <td>27263</td>\n      <td>45951</td>\n      <td>calculated</td>\n      <td>NaN</td>\n    </tr>\n    <tr>\n      <th>4</th>\n      <td>28219</td>\n      <td>46613</td>\n      <td>calculated</td>\n      <td>NaN</td>\n    </tr>\n  </tbody>\n</table>\n</div>"
     },
     "execution_count": 7,
     "metadata": {},
     "output_type": "execute_result"
    }
   ],
   "source": [
    "probes = (\n",
    "    pd.read_csv(\n",
    "        \"csv_dumps/3/probe.csv\",\n",
    "        sep=\",\",\n",
    "        header=0,\n",
    "        usecols=['probeid', 'compound_id', 'control', 'origin_id'],\n",
    "        dtype={'probeid':'int64', 'control':'category'})\n",
    "    .rename(columns={'probeid':'probe_id', 'origin_id':'origin'})\n",
    ")\n",
    "probes.head(5)"
   ]
  },
  {
   "cell_type": "code",
   "execution_count": 8,
   "metadata": {},
   "outputs": [
    {
     "ename": "TypeError",
     "evalue": "unhashable type: 'list'",
     "output_type": "error",
     "traceback": [
      "\u001B[0;31m---------------------------------------------------------------------------\u001B[0m",
      "\u001B[0;31mTypeError\u001B[0m                                 Traceback (most recent call last)",
      "\u001B[0;32mpandas/_libs/hashtable_class_helper.pxi\u001B[0m in \u001B[0;36mpandas._libs.hashtable.PyObjectHashTable.map_locations\u001B[0;34m()\u001B[0m\n",
      "\u001B[0;31mTypeError\u001B[0m: unhashable type: 'list'"
     ]
    },
    {
     "name": "stderr",
     "output_type": "stream",
     "text": [
      "Exception ignored in: 'pandas._libs.index.IndexEngine._call_map_locations'\n",
      "Traceback (most recent call last):\n",
      "  File \"pandas/_libs/hashtable_class_helper.pxi\", line 4588, in pandas._libs.hashtable.PyObjectHashTable.map_locations\n",
      "TypeError: unhashable type: 'list'\n"
     ]
    }
   ],
   "source": [
    "# Controls are read as strings\n",
    "def str_to_list(X):\n",
    "    if isinstance(X, str):\n",
    "        arr = X.strip('[]').split(',')\n",
    "        arr = [e.strip(\"''\") for e in arr]\n",
    "        return arr\n",
    "    return None\n",
    "    \n",
    "    \n",
    "probes['control'] = probes['control'].apply(lambda X: str_to_list(X))\n",
    "\n",
    "probes = probes.explode('control')"
   ]
  },
  {
   "cell_type": "code",
   "execution_count": 11,
   "metadata": {},
   "outputs": [
    {
     "data": {
      "text/plain": "   compound_id                         source  \\\n0        30108  Bromodomains chemical toolbox   \n1        30108  Bromodomains chemical toolbox   \n2        30108  Bromodomains chemical toolbox   \n3        29511  Bromodomains chemical toolbox   \n4        29511  Bromodomains chemical toolbox   \n\n                                          source_url  probe_id        origin  \\\n0  https://www.nature.com/articles/s41467-019-096...   24043.0  experimental   \n1  https://www.nature.com/articles/s41467-019-096...   24263.0  experimental   \n2  https://www.nature.com/articles/s41467-019-096...   28736.0  experimental   \n3  https://www.nature.com/articles/s41467-019-096...   24042.0  experimental   \n4  https://www.nature.com/articles/s41467-019-096...   24233.0  experimental   \n\n   control  \n0  D-Moses  \n1  D-Moses  \n2  D-Moses  \n3  GSK4028  \n4  GSK4028  ",
      "text/html": "<div>\n<style scoped>\n    .dataframe tbody tr th:only-of-type {\n        vertical-align: middle;\n    }\n\n    .dataframe tbody tr th {\n        vertical-align: top;\n    }\n\n    .dataframe thead th {\n        text-align: right;\n    }\n</style>\n<table border=\"1\" class=\"dataframe\">\n  <thead>\n    <tr style=\"text-align: right;\">\n      <th></th>\n      <th>compound_id</th>\n      <th>source</th>\n      <th>source_url</th>\n      <th>probe_id</th>\n      <th>origin</th>\n      <th>control</th>\n    </tr>\n  </thead>\n  <tbody>\n    <tr>\n      <th>0</th>\n      <td>30108</td>\n      <td>Bromodomains chemical toolbox</td>\n      <td>https://www.nature.com/articles/s41467-019-096...</td>\n      <td>24043.0</td>\n      <td>experimental</td>\n      <td>D-Moses</td>\n    </tr>\n    <tr>\n      <th>1</th>\n      <td>30108</td>\n      <td>Bromodomains chemical toolbox</td>\n      <td>https://www.nature.com/articles/s41467-019-096...</td>\n      <td>24263.0</td>\n      <td>experimental</td>\n      <td>D-Moses</td>\n    </tr>\n    <tr>\n      <th>2</th>\n      <td>30108</td>\n      <td>Bromodomains chemical toolbox</td>\n      <td>https://www.nature.com/articles/s41467-019-096...</td>\n      <td>28736.0</td>\n      <td>experimental</td>\n      <td>D-Moses</td>\n    </tr>\n    <tr>\n      <th>3</th>\n      <td>29511</td>\n      <td>Bromodomains chemical toolbox</td>\n      <td>https://www.nature.com/articles/s41467-019-096...</td>\n      <td>24042.0</td>\n      <td>experimental</td>\n      <td>GSK4028</td>\n    </tr>\n    <tr>\n      <th>4</th>\n      <td>29511</td>\n      <td>Bromodomains chemical toolbox</td>\n      <td>https://www.nature.com/articles/s41467-019-096...</td>\n      <td>24233.0</td>\n      <td>experimental</td>\n      <td>GSK4028</td>\n    </tr>\n  </tbody>\n</table>\n</div>"
     },
     "execution_count": 11,
     "metadata": {},
     "output_type": "execute_result"
    }
   ],
   "source": [
    "# There are 13 compounds not present in the probes dataset\n",
    "# All coming from 'High-quality chemical probes'\n",
    "\n",
    "df = compound2compoundset.merge(\n",
    "    probes,\n",
    "    on='compound_id',\n",
    "    how='left'\n",
    ")\n",
    "\n",
    "df.head(5)"
   ]
  },
  {
   "cell_type": "markdown",
   "metadata": {},
   "source": [
    "## 2.2 Extract compound name and inchikey"
   ]
  },
  {
   "cell_type": "code",
   "execution_count": 12,
   "metadata": {},
   "outputs": [],
   "source": [
    "compounds = (\n",
    "    pd.read_csv(\n",
    "        \"csv_dumps/3/compound.csv\",\n",
    "        sep=\",\",\n",
    "        header=0,\n",
    "        usecols=['compoundid', 'name', 'inchikey'])\n",
    "    .rename(columns={'compoundid':'compound_id', 'name':'compound_name', 'inchikey':'inchiKey'})\n",
    ")"
   ]
  },
  {
   "cell_type": "code",
   "execution_count": 13,
   "metadata": {},
   "outputs": [
    {
     "data": {
      "text/plain": "   compound_id                         source  \\\n0        30108  Bromodomains chemical toolbox   \n1        30108  Bromodomains chemical toolbox   \n2        30108  Bromodomains chemical toolbox   \n3        29511  Bromodomains chemical toolbox   \n4        29511  Bromodomains chemical toolbox   \n\n                                          source_url  probe_id        origin  \\\n0  https://www.nature.com/articles/s41467-019-096...   24043.0  experimental   \n1  https://www.nature.com/articles/s41467-019-096...   24263.0  experimental   \n2  https://www.nature.com/articles/s41467-019-096...   28736.0  experimental   \n3  https://www.nature.com/articles/s41467-019-096...   24042.0  experimental   \n4  https://www.nature.com/articles/s41467-019-096...   24233.0  experimental   \n\n   control compound_name                     inchiKey  \n0  D-Moses       L-Moses  MSFPLTWUFWOKBX-IFXJQAMLSA-N  \n1  D-Moses       L-Moses  MSFPLTWUFWOKBX-IFXJQAMLSA-N  \n2  D-Moses       L-Moses  MSFPLTWUFWOKBX-IFXJQAMLSA-N  \n3  GSK4028       GSK4027  VZAFGXCWAWRULT-UONOGXRCSA-N  \n4  GSK4028       GSK4027  VZAFGXCWAWRULT-UONOGXRCSA-N  ",
      "text/html": "<div>\n<style scoped>\n    .dataframe tbody tr th:only-of-type {\n        vertical-align: middle;\n    }\n\n    .dataframe tbody tr th {\n        vertical-align: top;\n    }\n\n    .dataframe thead th {\n        text-align: right;\n    }\n</style>\n<table border=\"1\" class=\"dataframe\">\n  <thead>\n    <tr style=\"text-align: right;\">\n      <th></th>\n      <th>compound_id</th>\n      <th>source</th>\n      <th>source_url</th>\n      <th>probe_id</th>\n      <th>origin</th>\n      <th>control</th>\n      <th>compound_name</th>\n      <th>inchiKey</th>\n    </tr>\n  </thead>\n  <tbody>\n    <tr>\n      <th>0</th>\n      <td>30108</td>\n      <td>Bromodomains chemical toolbox</td>\n      <td>https://www.nature.com/articles/s41467-019-096...</td>\n      <td>24043.0</td>\n      <td>experimental</td>\n      <td>D-Moses</td>\n      <td>L-Moses</td>\n      <td>MSFPLTWUFWOKBX-IFXJQAMLSA-N</td>\n    </tr>\n    <tr>\n      <th>1</th>\n      <td>30108</td>\n      <td>Bromodomains chemical toolbox</td>\n      <td>https://www.nature.com/articles/s41467-019-096...</td>\n      <td>24263.0</td>\n      <td>experimental</td>\n      <td>D-Moses</td>\n      <td>L-Moses</td>\n      <td>MSFPLTWUFWOKBX-IFXJQAMLSA-N</td>\n    </tr>\n    <tr>\n      <th>2</th>\n      <td>30108</td>\n      <td>Bromodomains chemical toolbox</td>\n      <td>https://www.nature.com/articles/s41467-019-096...</td>\n      <td>28736.0</td>\n      <td>experimental</td>\n      <td>D-Moses</td>\n      <td>L-Moses</td>\n      <td>MSFPLTWUFWOKBX-IFXJQAMLSA-N</td>\n    </tr>\n    <tr>\n      <th>3</th>\n      <td>29511</td>\n      <td>Bromodomains chemical toolbox</td>\n      <td>https://www.nature.com/articles/s41467-019-096...</td>\n      <td>24042.0</td>\n      <td>experimental</td>\n      <td>GSK4028</td>\n      <td>GSK4027</td>\n      <td>VZAFGXCWAWRULT-UONOGXRCSA-N</td>\n    </tr>\n    <tr>\n      <th>4</th>\n      <td>29511</td>\n      <td>Bromodomains chemical toolbox</td>\n      <td>https://www.nature.com/articles/s41467-019-096...</td>\n      <td>24233.0</td>\n      <td>experimental</td>\n      <td>GSK4028</td>\n      <td>GSK4027</td>\n      <td>VZAFGXCWAWRULT-UONOGXRCSA-N</td>\n    </tr>\n  </tbody>\n</table>\n</div>"
     },
     "execution_count": 13,
     "metadata": {},
     "output_type": "execute_result"
    }
   ],
   "source": [
    "df = df.merge(\n",
    "    compounds,\n",
    "    on='compound_id',\n",
    "    how='left'\n",
    ")\n",
    "\n",
    "df.head(5)"
   ]
  },
  {
   "cell_type": "markdown",
   "metadata": {},
   "source": [
    "## 3. Extract target associated with probe"
   ]
  },
  {
   "cell_type": "code",
   "execution_count": 15,
   "metadata": {},
   "outputs": [],
   "source": [
    "# First extract target_id\n",
    "probes2targets = pd.read_csv(\"csv_dumps/3/probetobasetarget.csv\",\n",
    "                             sep=\",\",\n",
    "                             header=0,\n",
    "                             usecols=['probe_id', 'basetarget_id'])\n",
    "                             \n",
    "\n",
    "df = df.merge(\n",
    "    probes2targets,\n",
    "    on='probe_id',\n",
    "    how='left'\n",
    ")"
   ]
  },
  {
   "cell_type": "markdown",
   "metadata": {},
   "source": [
    "Count of probes without an associated target per datasource:\n",
    "```\n",
    "MLP Probes                                     114\n",
    "High-quality chemical probes                    44\n",
    "Nature Chemical Biology Probes                  39\n",
    "Chemical Probes.org                             25\n",
    "Protein methyltransferases chemical toolbox     20\n",
    "SGC Probes                                      20\n",
    "Open Science Probes                              3\n",
    "Gray Laboratory Probes                           2\n",
    "opnMe Portal                                     1\n",
    "Probe Miner (suitable probes)                    1\n",
    "```"
   ]
  },
  {
   "cell_type": "code",
   "execution_count": 16,
   "metadata": {},
   "outputs": [],
   "source": [
    "# Then extract target name\n",
    "\n",
    "base_targets = (\n",
    "    pd.read_csv(\n",
    "        \"csv_dumps/3/basetarget.csv\",\n",
    "        sep=\",\",\n",
    "        header=0,\n",
    "        usecols=['basetargetid', 'name', 'gene_name'])\n",
    "    .rename(columns={'basetargetid':'basetarget_id', 'name':'target_name', 'gene_name':'target_symbols'})\n",
    ")"
   ]
  },
  {
   "cell_type": "code",
   "execution_count": 17,
   "metadata": {},
   "outputs": [
    {
     "data": {
      "text/plain": "   compound_id                         source  \\\n0        30108  Bromodomains chemical toolbox   \n1        30108  Bromodomains chemical toolbox   \n2        30108  Bromodomains chemical toolbox   \n3        30108  Bromodomains chemical toolbox   \n4        30108  Bromodomains chemical toolbox   \n5        30108  Bromodomains chemical toolbox   \n6        30108  Bromodomains chemical toolbox   \n7        30108  Bromodomains chemical toolbox   \n8        30108  Bromodomains chemical toolbox   \n9        29511  Bromodomains chemical toolbox   \n\n                                          source_url  probe_id        origin  \\\n0  https://www.nature.com/articles/s41467-019-096...   24043.0  experimental   \n1  https://www.nature.com/articles/s41467-019-096...   24043.0  experimental   \n2  https://www.nature.com/articles/s41467-019-096...   24043.0  experimental   \n3  https://www.nature.com/articles/s41467-019-096...   24263.0  experimental   \n4  https://www.nature.com/articles/s41467-019-096...   24263.0  experimental   \n5  https://www.nature.com/articles/s41467-019-096...   24263.0  experimental   \n6  https://www.nature.com/articles/s41467-019-096...   28736.0  experimental   \n7  https://www.nature.com/articles/s41467-019-096...   28736.0  experimental   \n8  https://www.nature.com/articles/s41467-019-096...   28736.0  experimental   \n9  https://www.nature.com/articles/s41467-019-096...   24042.0  experimental   \n\n   control compound_name                     inchiKey  basetarget_id  \\\n0  D-Moses       L-Moses  MSFPLTWUFWOKBX-IFXJQAMLSA-N        22470.0   \n1  D-Moses       L-Moses  MSFPLTWUFWOKBX-IFXJQAMLSA-N        30906.0   \n2  D-Moses       L-Moses  MSFPLTWUFWOKBX-IFXJQAMLSA-N        32009.0   \n3  D-Moses       L-Moses  MSFPLTWUFWOKBX-IFXJQAMLSA-N        22470.0   \n4  D-Moses       L-Moses  MSFPLTWUFWOKBX-IFXJQAMLSA-N        30906.0   \n5  D-Moses       L-Moses  MSFPLTWUFWOKBX-IFXJQAMLSA-N        32009.0   \n6  D-Moses       L-Moses  MSFPLTWUFWOKBX-IFXJQAMLSA-N        22470.0   \n7  D-Moses       L-Moses  MSFPLTWUFWOKBX-IFXJQAMLSA-N        30906.0   \n8  D-Moses       L-Moses  MSFPLTWUFWOKBX-IFXJQAMLSA-N        32009.0   \n9  GSK4028       GSK4027  VZAFGXCWAWRULT-UONOGXRCSA-N        22470.0   \n\n                             target_name target_symbols  \n0        Histone acetyltransferase KAT2B          KAT2B  \n1        Histone acetyltransferase KAT2A          KAT2A  \n2  Histone acetyltransferase KAT2A/KAT2B    KAT2A,KAT2B  \n3        Histone acetyltransferase KAT2B          KAT2B  \n4        Histone acetyltransferase KAT2A          KAT2A  \n5  Histone acetyltransferase KAT2A/KAT2B    KAT2A,KAT2B  \n6        Histone acetyltransferase KAT2B          KAT2B  \n7        Histone acetyltransferase KAT2A          KAT2A  \n8  Histone acetyltransferase KAT2A/KAT2B    KAT2A,KAT2B  \n9        Histone acetyltransferase KAT2B          KAT2B  ",
      "text/html": "<div>\n<style scoped>\n    .dataframe tbody tr th:only-of-type {\n        vertical-align: middle;\n    }\n\n    .dataframe tbody tr th {\n        vertical-align: top;\n    }\n\n    .dataframe thead th {\n        text-align: right;\n    }\n</style>\n<table border=\"1\" class=\"dataframe\">\n  <thead>\n    <tr style=\"text-align: right;\">\n      <th></th>\n      <th>compound_id</th>\n      <th>source</th>\n      <th>source_url</th>\n      <th>probe_id</th>\n      <th>origin</th>\n      <th>control</th>\n      <th>compound_name</th>\n      <th>inchiKey</th>\n      <th>basetarget_id</th>\n      <th>target_name</th>\n      <th>target_symbols</th>\n    </tr>\n  </thead>\n  <tbody>\n    <tr>\n      <th>0</th>\n      <td>30108</td>\n      <td>Bromodomains chemical toolbox</td>\n      <td>https://www.nature.com/articles/s41467-019-096...</td>\n      <td>24043.0</td>\n      <td>experimental</td>\n      <td>D-Moses</td>\n      <td>L-Moses</td>\n      <td>MSFPLTWUFWOKBX-IFXJQAMLSA-N</td>\n      <td>22470.0</td>\n      <td>Histone acetyltransferase KAT2B</td>\n      <td>KAT2B</td>\n    </tr>\n    <tr>\n      <th>1</th>\n      <td>30108</td>\n      <td>Bromodomains chemical toolbox</td>\n      <td>https://www.nature.com/articles/s41467-019-096...</td>\n      <td>24043.0</td>\n      <td>experimental</td>\n      <td>D-Moses</td>\n      <td>L-Moses</td>\n      <td>MSFPLTWUFWOKBX-IFXJQAMLSA-N</td>\n      <td>30906.0</td>\n      <td>Histone acetyltransferase KAT2A</td>\n      <td>KAT2A</td>\n    </tr>\n    <tr>\n      <th>2</th>\n      <td>30108</td>\n      <td>Bromodomains chemical toolbox</td>\n      <td>https://www.nature.com/articles/s41467-019-096...</td>\n      <td>24043.0</td>\n      <td>experimental</td>\n      <td>D-Moses</td>\n      <td>L-Moses</td>\n      <td>MSFPLTWUFWOKBX-IFXJQAMLSA-N</td>\n      <td>32009.0</td>\n      <td>Histone acetyltransferase KAT2A/KAT2B</td>\n      <td>KAT2A,KAT2B</td>\n    </tr>\n    <tr>\n      <th>3</th>\n      <td>30108</td>\n      <td>Bromodomains chemical toolbox</td>\n      <td>https://www.nature.com/articles/s41467-019-096...</td>\n      <td>24263.0</td>\n      <td>experimental</td>\n      <td>D-Moses</td>\n      <td>L-Moses</td>\n      <td>MSFPLTWUFWOKBX-IFXJQAMLSA-N</td>\n      <td>22470.0</td>\n      <td>Histone acetyltransferase KAT2B</td>\n      <td>KAT2B</td>\n    </tr>\n    <tr>\n      <th>4</th>\n      <td>30108</td>\n      <td>Bromodomains chemical toolbox</td>\n      <td>https://www.nature.com/articles/s41467-019-096...</td>\n      <td>24263.0</td>\n      <td>experimental</td>\n      <td>D-Moses</td>\n      <td>L-Moses</td>\n      <td>MSFPLTWUFWOKBX-IFXJQAMLSA-N</td>\n      <td>30906.0</td>\n      <td>Histone acetyltransferase KAT2A</td>\n      <td>KAT2A</td>\n    </tr>\n    <tr>\n      <th>5</th>\n      <td>30108</td>\n      <td>Bromodomains chemical toolbox</td>\n      <td>https://www.nature.com/articles/s41467-019-096...</td>\n      <td>24263.0</td>\n      <td>experimental</td>\n      <td>D-Moses</td>\n      <td>L-Moses</td>\n      <td>MSFPLTWUFWOKBX-IFXJQAMLSA-N</td>\n      <td>32009.0</td>\n      <td>Histone acetyltransferase KAT2A/KAT2B</td>\n      <td>KAT2A,KAT2B</td>\n    </tr>\n    <tr>\n      <th>6</th>\n      <td>30108</td>\n      <td>Bromodomains chemical toolbox</td>\n      <td>https://www.nature.com/articles/s41467-019-096...</td>\n      <td>28736.0</td>\n      <td>experimental</td>\n      <td>D-Moses</td>\n      <td>L-Moses</td>\n      <td>MSFPLTWUFWOKBX-IFXJQAMLSA-N</td>\n      <td>22470.0</td>\n      <td>Histone acetyltransferase KAT2B</td>\n      <td>KAT2B</td>\n    </tr>\n    <tr>\n      <th>7</th>\n      <td>30108</td>\n      <td>Bromodomains chemical toolbox</td>\n      <td>https://www.nature.com/articles/s41467-019-096...</td>\n      <td>28736.0</td>\n      <td>experimental</td>\n      <td>D-Moses</td>\n      <td>L-Moses</td>\n      <td>MSFPLTWUFWOKBX-IFXJQAMLSA-N</td>\n      <td>30906.0</td>\n      <td>Histone acetyltransferase KAT2A</td>\n      <td>KAT2A</td>\n    </tr>\n    <tr>\n      <th>8</th>\n      <td>30108</td>\n      <td>Bromodomains chemical toolbox</td>\n      <td>https://www.nature.com/articles/s41467-019-096...</td>\n      <td>28736.0</td>\n      <td>experimental</td>\n      <td>D-Moses</td>\n      <td>L-Moses</td>\n      <td>MSFPLTWUFWOKBX-IFXJQAMLSA-N</td>\n      <td>32009.0</td>\n      <td>Histone acetyltransferase KAT2A/KAT2B</td>\n      <td>KAT2A,KAT2B</td>\n    </tr>\n    <tr>\n      <th>9</th>\n      <td>29511</td>\n      <td>Bromodomains chemical toolbox</td>\n      <td>https://www.nature.com/articles/s41467-019-096...</td>\n      <td>24042.0</td>\n      <td>experimental</td>\n      <td>GSK4028</td>\n      <td>GSK4027</td>\n      <td>VZAFGXCWAWRULT-UONOGXRCSA-N</td>\n      <td>22470.0</td>\n      <td>Histone acetyltransferase KAT2B</td>\n      <td>KAT2B</td>\n    </tr>\n  </tbody>\n</table>\n</div>"
     },
     "execution_count": 17,
     "metadata": {},
     "output_type": "execute_result"
    }
   ],
   "source": [
    "df = df.merge(\n",
    "    base_targets,\n",
    "    on='basetarget_id',\n",
    "    how='left'\n",
    ")\n",
    "\n",
    "df.head(10)"
   ]
  },
  {
   "cell_type": "code",
   "execution_count": 18,
   "metadata": {},
   "outputs": [],
   "source": [
    "# Extract uniprot ID from target\n",
    "\n",
    "basetarget2target = (\n",
    "    pd.read_csv(\n",
    "        \"csv_dumps/3/targettobasetarget.csv\",\n",
    "        sep=\",\",\n",
    "        header=0,\n",
    "        usecols=['basetarget_id', 'target_id']))\n",
    "\n",
    "targets = (\n",
    "    pd.read_csv(\n",
    "        \"csv_dumps/3/target.csv\",\n",
    "        sep=\",\",\n",
    "        header=0,\n",
    "        usecols=['targetid', 'organism_id', 'uniprotid'])\n",
    "    .rename(columns={'targetid': 'target_id', 'uniprotid':'uniprot_ids'})\n",
    ")"
   ]
  },
  {
   "cell_type": "code",
   "execution_count": 19,
   "metadata": {},
   "outputs": [],
   "source": [
    "df = (\n",
    "    # Map from basetarget to target\n",
    "    df.merge(\n",
    "        basetarget2target,\n",
    "        on='basetarget_id',\n",
    "        how='left'\n",
    "    )\n",
    "    # Extract organism_id and uniprot_ids from target\n",
    "    .merge(\n",
    "        targets,\n",
    "        on='target_id',\n",
    "        how='left'\n",
    "    )\n",
    "    # Select human as organism (organism_id = [5428, 2832])\n",
    "    .query('organism_id in [5428, 2832]')\n",
    ")\n"
   ]
  },
  {
   "cell_type": "code",
   "execution_count": 20,
   "metadata": {},
   "outputs": [],
   "source": [
    "# Split and explode the uniprot_ids columns\n",
    "\n",
    "df['uniprot_id'] = df['uniprot_ids'].apply(lambda X: X.split(','))\n",
    "df = df.explode('uniprot_id')"
   ]
  },
  {
   "cell_type": "code",
   "execution_count": 18,
   "metadata": {},
   "outputs": [
    {
     "data": {
      "text/html": [
       "<div>\n",
       "<style scoped>\n",
       "    .dataframe tbody tr th:only-of-type {\n",
       "        vertical-align: middle;\n",
       "    }\n",
       "\n",
       "    .dataframe tbody tr th {\n",
       "        vertical-align: top;\n",
       "    }\n",
       "\n",
       "    .dataframe thead th {\n",
       "        text-align: right;\n",
       "    }\n",
       "</style>\n",
       "<table border=\"1\" class=\"dataframe\">\n",
       "  <thead>\n",
       "    <tr style=\"text-align: right;\">\n",
       "      <th></th>\n",
       "      <th>compound_id</th>\n",
       "      <th>source</th>\n",
       "      <th>source_url</th>\n",
       "      <th>probe_id</th>\n",
       "      <th>origin</th>\n",
       "      <th>control</th>\n",
       "      <th>compound_name</th>\n",
       "      <th>inchiKey</th>\n",
       "      <th>basetarget_id</th>\n",
       "      <th>target_name</th>\n",
       "      <th>target_symbols</th>\n",
       "      <th>target_id</th>\n",
       "      <th>organism_id</th>\n",
       "      <th>uniprot_ids</th>\n",
       "      <th>uniprot_id</th>\n",
       "    </tr>\n",
       "  </thead>\n",
       "  <tbody>\n",
       "    <tr>\n",
       "      <th>0</th>\n",
       "      <td>5105</td>\n",
       "      <td>Chemical Probes.org</td>\n",
       "      <td>http://www.chemicalprobes.org/</td>\n",
       "      <td>14769.0</td>\n",
       "      <td>experimental</td>\n",
       "      <td>NaN</td>\n",
       "      <td>XMD8-92</td>\n",
       "      <td>QAPAJIZPZGWAND-UHFFFAOYSA-N</td>\n",
       "      <td>15105.0</td>\n",
       "      <td>Mitogen-activated protein kinase 7</td>\n",
       "      <td>MAPK7</td>\n",
       "      <td>66118.0</td>\n",
       "      <td>2832.0</td>\n",
       "      <td>Q13164</td>\n",
       "      <td>Q13164</td>\n",
       "    </tr>\n",
       "    <tr>\n",
       "      <th>3</th>\n",
       "      <td>5105</td>\n",
       "      <td>Chemical Probes.org</td>\n",
       "      <td>http://www.chemicalprobes.org/</td>\n",
       "      <td>14769.0</td>\n",
       "      <td>experimental</td>\n",
       "      <td>NaN</td>\n",
       "      <td>XMD8-92</td>\n",
       "      <td>QAPAJIZPZGWAND-UHFFFAOYSA-N</td>\n",
       "      <td>15105.0</td>\n",
       "      <td>Mitogen-activated protein kinase 7</td>\n",
       "      <td>MAPK7</td>\n",
       "      <td>59987.0</td>\n",
       "      <td>2832.0</td>\n",
       "      <td>Q13164</td>\n",
       "      <td>Q13164</td>\n",
       "    </tr>\n",
       "    <tr>\n",
       "      <th>4</th>\n",
       "      <td>5105</td>\n",
       "      <td>Chemical Probes.org</td>\n",
       "      <td>http://www.chemicalprobes.org/</td>\n",
       "      <td>14769.0</td>\n",
       "      <td>experimental</td>\n",
       "      <td>NaN</td>\n",
       "      <td>XMD8-92</td>\n",
       "      <td>QAPAJIZPZGWAND-UHFFFAOYSA-N</td>\n",
       "      <td>15105.0</td>\n",
       "      <td>Mitogen-activated protein kinase 7</td>\n",
       "      <td>MAPK7</td>\n",
       "      <td>59988.0</td>\n",
       "      <td>2832.0</td>\n",
       "      <td>Q13164</td>\n",
       "      <td>Q13164</td>\n",
       "    </tr>\n",
       "    <tr>\n",
       "      <th>5</th>\n",
       "      <td>5105</td>\n",
       "      <td>Chemical Probes.org</td>\n",
       "      <td>http://www.chemicalprobes.org/</td>\n",
       "      <td>14769.0</td>\n",
       "      <td>experimental</td>\n",
       "      <td>NaN</td>\n",
       "      <td>XMD8-92</td>\n",
       "      <td>QAPAJIZPZGWAND-UHFFFAOYSA-N</td>\n",
       "      <td>15105.0</td>\n",
       "      <td>Mitogen-activated protein kinase 7</td>\n",
       "      <td>MAPK7</td>\n",
       "      <td>59989.0</td>\n",
       "      <td>2832.0</td>\n",
       "      <td>Q13164</td>\n",
       "      <td>Q13164</td>\n",
       "    </tr>\n",
       "    <tr>\n",
       "      <th>6</th>\n",
       "      <td>5105</td>\n",
       "      <td>Chemical Probes.org</td>\n",
       "      <td>http://www.chemicalprobes.org/</td>\n",
       "      <td>14769.0</td>\n",
       "      <td>experimental</td>\n",
       "      <td>NaN</td>\n",
       "      <td>XMD8-92</td>\n",
       "      <td>QAPAJIZPZGWAND-UHFFFAOYSA-N</td>\n",
       "      <td>15105.0</td>\n",
       "      <td>Mitogen-activated protein kinase 7</td>\n",
       "      <td>MAPK7</td>\n",
       "      <td>59990.0</td>\n",
       "      <td>2832.0</td>\n",
       "      <td>Q13164</td>\n",
       "      <td>Q13164</td>\n",
       "    </tr>\n",
       "  </tbody>\n",
       "</table>\n",
       "</div>"
      ],
      "text/plain": [
       "   compound_id               source                      source_url  probe_id  \\\n",
       "0         5105  Chemical Probes.org  http://www.chemicalprobes.org/   14769.0   \n",
       "3         5105  Chemical Probes.org  http://www.chemicalprobes.org/   14769.0   \n",
       "4         5105  Chemical Probes.org  http://www.chemicalprobes.org/   14769.0   \n",
       "5         5105  Chemical Probes.org  http://www.chemicalprobes.org/   14769.0   \n",
       "6         5105  Chemical Probes.org  http://www.chemicalprobes.org/   14769.0   \n",
       "\n",
       "         origin control compound_name                     inchiKey  \\\n",
       "0  experimental     NaN       XMD8-92  QAPAJIZPZGWAND-UHFFFAOYSA-N   \n",
       "3  experimental     NaN       XMD8-92  QAPAJIZPZGWAND-UHFFFAOYSA-N   \n",
       "4  experimental     NaN       XMD8-92  QAPAJIZPZGWAND-UHFFFAOYSA-N   \n",
       "5  experimental     NaN       XMD8-92  QAPAJIZPZGWAND-UHFFFAOYSA-N   \n",
       "6  experimental     NaN       XMD8-92  QAPAJIZPZGWAND-UHFFFAOYSA-N   \n",
       "\n",
       "   basetarget_id                         target_name target_symbols  \\\n",
       "0        15105.0  Mitogen-activated protein kinase 7          MAPK7   \n",
       "3        15105.0  Mitogen-activated protein kinase 7          MAPK7   \n",
       "4        15105.0  Mitogen-activated protein kinase 7          MAPK7   \n",
       "5        15105.0  Mitogen-activated protein kinase 7          MAPK7   \n",
       "6        15105.0  Mitogen-activated protein kinase 7          MAPK7   \n",
       "\n",
       "   target_id  organism_id uniprot_ids uniprot_id  \n",
       "0    66118.0       2832.0      Q13164     Q13164  \n",
       "3    59987.0       2832.0      Q13164     Q13164  \n",
       "4    59988.0       2832.0      Q13164     Q13164  \n",
       "5    59989.0       2832.0      Q13164     Q13164  \n",
       "6    59990.0       2832.0      Q13164     Q13164  "
      ]
     },
     "execution_count": 18,
     "metadata": {},
     "output_type": "execute_result"
    }
   ],
   "source": [
    "df.head()"
   ]
  },
  {
   "cell_type": "markdown",
   "metadata": {},
   "source": [
    "## 4. Extract scores"
   ]
  },
  {
   "cell_type": "code",
   "execution_count": 21,
   "metadata": {},
   "outputs": [],
   "source": [
    "scores = (\n",
    "    pd.read_csv(\n",
    "        \"csv_dumps/3/compoundtargetscore.csv\",\n",
    "        sep=\",\",\n",
    "        header=0,\n",
    "        usecols=['compound_id', 'basetarget_id', 'percentage', 'score_id'])\n",
    "    # Filter with only score_ids of interest\n",
    "    .query('score_id in [1, 5, 6, 7]')\n",
    ")\n",
    "\n",
    "df_s = df.merge(\n",
    "        scores,\n",
    "        on=['basetarget_id', 'compound_id'],\n",
    "        how='left'\n",
    ")"
   ]
  },
  {
   "cell_type": "code",
   "execution_count": 22,
   "metadata": {},
   "outputs": [
    {
     "data": {
      "text/plain": "       compound_id                         source  \\\n0            30108  Bromodomains chemical toolbox   \n1            30108  Bromodomains chemical toolbox   \n2            30108  Bromodomains chemical toolbox   \n3            30108  Bromodomains chemical toolbox   \n4            30108  Bromodomains chemical toolbox   \n...            ...                            ...   \n99164        92343                   opnMe Portal   \n99165        66654                   opnMe Portal   \n99166        66654                   opnMe Portal   \n99167        66654                   opnMe Portal   \n99168        66654                   opnMe Portal   \n\n                                              source_url  probe_id  \\\n0      https://www.nature.com/articles/s41467-019-096...   24043.0   \n1      https://www.nature.com/articles/s41467-019-096...   24043.0   \n2      https://www.nature.com/articles/s41467-019-096...   24043.0   \n3      https://www.nature.com/articles/s41467-019-096...   24043.0   \n4      https://www.nature.com/articles/s41467-019-096...   24043.0   \n...                                                  ...       ...   \n99164                                 https://opnme.com/   25459.0   \n99165                                 https://opnme.com/   25460.0   \n99166                                 https://opnme.com/   25460.0   \n99167                                 https://opnme.com/   25460.0   \n99168                                 https://opnme.com/   25460.0   \n\n             origin    control compound_name                     inchiKey  \\\n0      experimental    D-Moses       L-Moses  MSFPLTWUFWOKBX-IFXJQAMLSA-N   \n1      experimental    D-Moses       L-Moses  MSFPLTWUFWOKBX-IFXJQAMLSA-N   \n2      experimental    D-Moses       L-Moses  MSFPLTWUFWOKBX-IFXJQAMLSA-N   \n3      experimental    D-Moses       L-Moses  MSFPLTWUFWOKBX-IFXJQAMLSA-N   \n4      experimental    D-Moses       L-Moses  MSFPLTWUFWOKBX-IFXJQAMLSA-N   \n...             ...        ...           ...                          ...   \n99164  experimental  cis-VZ185         VZ185  ZAGCLFXBHOXXEN-JPTLTNPLSA-N   \n99165  experimental        NaN       BI-9740  MNEOBAAFLAQMKF-VKDGWMQASA-N   \n99166  experimental        NaN       BI-9740  MNEOBAAFLAQMKF-VKDGWMQASA-N   \n99167  experimental        NaN       BI-9740  MNEOBAAFLAQMKF-VKDGWMQASA-N   \n99168  experimental        NaN       BI-9740  MNEOBAAFLAQMKF-VKDGWMQASA-N   \n\n       basetarget_id                       target_name target_symbols  \\\n0            22470.0   Histone acetyltransferase KAT2B          KAT2B   \n1            22470.0   Histone acetyltransferase KAT2B          KAT2B   \n2            22470.0   Histone acetyltransferase KAT2B          KAT2B   \n3            22470.0   Histone acetyltransferase KAT2B          KAT2B   \n4            22470.0   Histone acetyltransferase KAT2B          KAT2B   \n...              ...                               ...            ...   \n99164        22542.0  Bromodomain-containing protein 7           BRD7   \n99165        22702.0            Dipeptidyl peptidase 1           CTSC   \n99166        22702.0            Dipeptidyl peptidase 1           CTSC   \n99167        22702.0            Dipeptidyl peptidase 1           CTSC   \n99168        22702.0            Dipeptidyl peptidase 1           CTSC   \n\n       target_id  organism_id uniprot_ids uniprot_id  score_id  percentage  \n0       100905.0       2832.0      Q92831     Q92831       7.0        50.0  \n1        74032.0       2832.0      Q92831     Q92831       7.0        50.0  \n2        74033.0       2832.0      Q92831     Q92831       7.0        50.0  \n3        74034.0       2832.0      Q92831     Q92831       7.0        50.0  \n4        74035.0       2832.0      Q92831     Q92831       7.0        50.0  \n...          ...          ...         ...        ...       ...         ...  \n99164    82184.0       2832.0      Q9NPI1     Q9NPI1       7.0        30.0  \n99165   100276.0       2832.0      P53634     P53634       7.0        60.0  \n99166    75882.0       2832.0      P53634     P53634       7.0        60.0  \n99167    75883.0       2832.0      P53634     P53634       7.0        60.0  \n99168    75884.0       2832.0      P53634     P53634       7.0        60.0  \n\n[99169 rows x 17 columns]",
      "text/html": "<div>\n<style scoped>\n    .dataframe tbody tr th:only-of-type {\n        vertical-align: middle;\n    }\n\n    .dataframe tbody tr th {\n        vertical-align: top;\n    }\n\n    .dataframe thead th {\n        text-align: right;\n    }\n</style>\n<table border=\"1\" class=\"dataframe\">\n  <thead>\n    <tr style=\"text-align: right;\">\n      <th></th>\n      <th>compound_id</th>\n      <th>source</th>\n      <th>source_url</th>\n      <th>probe_id</th>\n      <th>origin</th>\n      <th>control</th>\n      <th>compound_name</th>\n      <th>inchiKey</th>\n      <th>basetarget_id</th>\n      <th>target_name</th>\n      <th>target_symbols</th>\n      <th>target_id</th>\n      <th>organism_id</th>\n      <th>uniprot_ids</th>\n      <th>uniprot_id</th>\n      <th>score_id</th>\n      <th>percentage</th>\n    </tr>\n  </thead>\n  <tbody>\n    <tr>\n      <th>0</th>\n      <td>30108</td>\n      <td>Bromodomains chemical toolbox</td>\n      <td>https://www.nature.com/articles/s41467-019-096...</td>\n      <td>24043.0</td>\n      <td>experimental</td>\n      <td>D-Moses</td>\n      <td>L-Moses</td>\n      <td>MSFPLTWUFWOKBX-IFXJQAMLSA-N</td>\n      <td>22470.0</td>\n      <td>Histone acetyltransferase KAT2B</td>\n      <td>KAT2B</td>\n      <td>100905.0</td>\n      <td>2832.0</td>\n      <td>Q92831</td>\n      <td>Q92831</td>\n      <td>7.0</td>\n      <td>50.0</td>\n    </tr>\n    <tr>\n      <th>1</th>\n      <td>30108</td>\n      <td>Bromodomains chemical toolbox</td>\n      <td>https://www.nature.com/articles/s41467-019-096...</td>\n      <td>24043.0</td>\n      <td>experimental</td>\n      <td>D-Moses</td>\n      <td>L-Moses</td>\n      <td>MSFPLTWUFWOKBX-IFXJQAMLSA-N</td>\n      <td>22470.0</td>\n      <td>Histone acetyltransferase KAT2B</td>\n      <td>KAT2B</td>\n      <td>74032.0</td>\n      <td>2832.0</td>\n      <td>Q92831</td>\n      <td>Q92831</td>\n      <td>7.0</td>\n      <td>50.0</td>\n    </tr>\n    <tr>\n      <th>2</th>\n      <td>30108</td>\n      <td>Bromodomains chemical toolbox</td>\n      <td>https://www.nature.com/articles/s41467-019-096...</td>\n      <td>24043.0</td>\n      <td>experimental</td>\n      <td>D-Moses</td>\n      <td>L-Moses</td>\n      <td>MSFPLTWUFWOKBX-IFXJQAMLSA-N</td>\n      <td>22470.0</td>\n      <td>Histone acetyltransferase KAT2B</td>\n      <td>KAT2B</td>\n      <td>74033.0</td>\n      <td>2832.0</td>\n      <td>Q92831</td>\n      <td>Q92831</td>\n      <td>7.0</td>\n      <td>50.0</td>\n    </tr>\n    <tr>\n      <th>3</th>\n      <td>30108</td>\n      <td>Bromodomains chemical toolbox</td>\n      <td>https://www.nature.com/articles/s41467-019-096...</td>\n      <td>24043.0</td>\n      <td>experimental</td>\n      <td>D-Moses</td>\n      <td>L-Moses</td>\n      <td>MSFPLTWUFWOKBX-IFXJQAMLSA-N</td>\n      <td>22470.0</td>\n      <td>Histone acetyltransferase KAT2B</td>\n      <td>KAT2B</td>\n      <td>74034.0</td>\n      <td>2832.0</td>\n      <td>Q92831</td>\n      <td>Q92831</td>\n      <td>7.0</td>\n      <td>50.0</td>\n    </tr>\n    <tr>\n      <th>4</th>\n      <td>30108</td>\n      <td>Bromodomains chemical toolbox</td>\n      <td>https://www.nature.com/articles/s41467-019-096...</td>\n      <td>24043.0</td>\n      <td>experimental</td>\n      <td>D-Moses</td>\n      <td>L-Moses</td>\n      <td>MSFPLTWUFWOKBX-IFXJQAMLSA-N</td>\n      <td>22470.0</td>\n      <td>Histone acetyltransferase KAT2B</td>\n      <td>KAT2B</td>\n      <td>74035.0</td>\n      <td>2832.0</td>\n      <td>Q92831</td>\n      <td>Q92831</td>\n      <td>7.0</td>\n      <td>50.0</td>\n    </tr>\n    <tr>\n      <th>...</th>\n      <td>...</td>\n      <td>...</td>\n      <td>...</td>\n      <td>...</td>\n      <td>...</td>\n      <td>...</td>\n      <td>...</td>\n      <td>...</td>\n      <td>...</td>\n      <td>...</td>\n      <td>...</td>\n      <td>...</td>\n      <td>...</td>\n      <td>...</td>\n      <td>...</td>\n      <td>...</td>\n      <td>...</td>\n    </tr>\n    <tr>\n      <th>99164</th>\n      <td>92343</td>\n      <td>opnMe Portal</td>\n      <td>https://opnme.com/</td>\n      <td>25459.0</td>\n      <td>experimental</td>\n      <td>cis-VZ185</td>\n      <td>VZ185</td>\n      <td>ZAGCLFXBHOXXEN-JPTLTNPLSA-N</td>\n      <td>22542.0</td>\n      <td>Bromodomain-containing protein 7</td>\n      <td>BRD7</td>\n      <td>82184.0</td>\n      <td>2832.0</td>\n      <td>Q9NPI1</td>\n      <td>Q9NPI1</td>\n      <td>7.0</td>\n      <td>30.0</td>\n    </tr>\n    <tr>\n      <th>99165</th>\n      <td>66654</td>\n      <td>opnMe Portal</td>\n      <td>https://opnme.com/</td>\n      <td>25460.0</td>\n      <td>experimental</td>\n      <td>NaN</td>\n      <td>BI-9740</td>\n      <td>MNEOBAAFLAQMKF-VKDGWMQASA-N</td>\n      <td>22702.0</td>\n      <td>Dipeptidyl peptidase 1</td>\n      <td>CTSC</td>\n      <td>100276.0</td>\n      <td>2832.0</td>\n      <td>P53634</td>\n      <td>P53634</td>\n      <td>7.0</td>\n      <td>60.0</td>\n    </tr>\n    <tr>\n      <th>99166</th>\n      <td>66654</td>\n      <td>opnMe Portal</td>\n      <td>https://opnme.com/</td>\n      <td>25460.0</td>\n      <td>experimental</td>\n      <td>NaN</td>\n      <td>BI-9740</td>\n      <td>MNEOBAAFLAQMKF-VKDGWMQASA-N</td>\n      <td>22702.0</td>\n      <td>Dipeptidyl peptidase 1</td>\n      <td>CTSC</td>\n      <td>75882.0</td>\n      <td>2832.0</td>\n      <td>P53634</td>\n      <td>P53634</td>\n      <td>7.0</td>\n      <td>60.0</td>\n    </tr>\n    <tr>\n      <th>99167</th>\n      <td>66654</td>\n      <td>opnMe Portal</td>\n      <td>https://opnme.com/</td>\n      <td>25460.0</td>\n      <td>experimental</td>\n      <td>NaN</td>\n      <td>BI-9740</td>\n      <td>MNEOBAAFLAQMKF-VKDGWMQASA-N</td>\n      <td>22702.0</td>\n      <td>Dipeptidyl peptidase 1</td>\n      <td>CTSC</td>\n      <td>75883.0</td>\n      <td>2832.0</td>\n      <td>P53634</td>\n      <td>P53634</td>\n      <td>7.0</td>\n      <td>60.0</td>\n    </tr>\n    <tr>\n      <th>99168</th>\n      <td>66654</td>\n      <td>opnMe Portal</td>\n      <td>https://opnme.com/</td>\n      <td>25460.0</td>\n      <td>experimental</td>\n      <td>NaN</td>\n      <td>BI-9740</td>\n      <td>MNEOBAAFLAQMKF-VKDGWMQASA-N</td>\n      <td>22702.0</td>\n      <td>Dipeptidyl peptidase 1</td>\n      <td>CTSC</td>\n      <td>75884.0</td>\n      <td>2832.0</td>\n      <td>P53634</td>\n      <td>P53634</td>\n      <td>7.0</td>\n      <td>60.0</td>\n    </tr>\n  </tbody>\n</table>\n<p>99169 rows × 17 columns</p>\n</div>"
     },
     "execution_count": 22,
     "metadata": {},
     "output_type": "execute_result"
    }
   ],
   "source": [
    "df_s"
   ]
  },
  {
   "cell_type": "code",
   "execution_count": 23,
   "metadata": {},
   "outputs": [],
   "source": [
    "df_s[\"probesDrugsScore\"] = df_s.apply(lambda X: X.percentage if X.score_id == 7 else None, axis=1)\n",
    "df_s['probeMinerScore'] = df_s.apply(lambda X: X.percentage if X.score_id == 1 else None, axis=1)\n",
    "df_s['scoreInCells'] = df_s.apply(lambda X: X.percentage if X.score_id == 5 else None, axis=1)\n",
    "df_s['scoreInOrganisms'] = df_s.apply(lambda X: X.percentage if X.score_id == 6 else None, axis=1)"
   ]
  },
  {
   "cell_type": "code",
   "execution_count": 24,
   "metadata": {},
   "outputs": [],
   "source": [
    "# Right now I have duplicated rows due to:\n",
    "# several data sources evidencing the same assoc +\n",
    "# exploded uniprot ids +\n",
    "# I have to coalesce the score rows"
   ]
  },
  {
   "cell_type": "code",
   "execution_count": 24,
   "metadata": {},
   "outputs": [],
   "source": [
    "df = df_s.copy()"
   ]
  },
  {
   "cell_type": "markdown",
   "metadata": {},
   "source": [
    "## 5. Extract MoA"
   ]
  },
  {
   "cell_type": "code",
   "execution_count": 25,
   "metadata": {},
   "outputs": [],
   "source": [
    "moas = (\n",
    "    pd.read_csv(\n",
    "        \"csv_dumps/3/compoundaction.csv\",\n",
    "        sep=\",\",\n",
    "        header=0,\n",
    "        usecols=['compound_id', 'target_id', 'actiontype_id'])\n",
    ")"
   ]
  },
  {
   "cell_type": "code",
   "execution_count": 26,
   "metadata": {},
   "outputs": [],
   "source": [
    "df = df.merge(\n",
    "        moas,\n",
    "        on=['target_id', 'compound_id'],\n",
    "        how='left'\n",
    ")"
   ]
  },
  {
   "cell_type": "code",
   "execution_count": 27,
   "metadata": {},
   "outputs": [
    {
     "data": {
      "text/plain": "   compound_id                         source  \\\n0        30108  Bromodomains chemical toolbox   \n1        30108  Bromodomains chemical toolbox   \n2        30108  Bromodomains chemical toolbox   \n3        30108  Bromodomains chemical toolbox   \n4        30108  Bromodomains chemical toolbox   \n\n                                          source_url  probe_id        origin  \\\n0  https://www.nature.com/articles/s41467-019-096...   24043.0  experimental   \n1  https://www.nature.com/articles/s41467-019-096...   24043.0  experimental   \n2  https://www.nature.com/articles/s41467-019-096...   24043.0  experimental   \n3  https://www.nature.com/articles/s41467-019-096...   24043.0  experimental   \n4  https://www.nature.com/articles/s41467-019-096...   24043.0  experimental   \n\n   control compound_name                     inchiKey  basetarget_id  \\\n0  D-Moses       L-Moses  MSFPLTWUFWOKBX-IFXJQAMLSA-N        22470.0   \n1  D-Moses       L-Moses  MSFPLTWUFWOKBX-IFXJQAMLSA-N        22470.0   \n2  D-Moses       L-Moses  MSFPLTWUFWOKBX-IFXJQAMLSA-N        22470.0   \n3  D-Moses       L-Moses  MSFPLTWUFWOKBX-IFXJQAMLSA-N        22470.0   \n4  D-Moses       L-Moses  MSFPLTWUFWOKBX-IFXJQAMLSA-N        22470.0   \n\n                       target_name  ... organism_id  uniprot_ids  uniprot_id  \\\n0  Histone acetyltransferase KAT2B  ...      2832.0       Q92831      Q92831   \n1  Histone acetyltransferase KAT2B  ...      2832.0       Q92831      Q92831   \n2  Histone acetyltransferase KAT2B  ...      2832.0       Q92831      Q92831   \n3  Histone acetyltransferase KAT2B  ...      2832.0       Q92831      Q92831   \n4  Histone acetyltransferase KAT2B  ...      2832.0       Q92831      Q92831   \n\n  score_id percentage  probesDrugsScore  probeMinerScore  scoreInCells  \\\n0      7.0       50.0              50.0              NaN           NaN   \n1      7.0       50.0              50.0              NaN           NaN   \n2      7.0       50.0              50.0              NaN           NaN   \n3      7.0       50.0              50.0              NaN           NaN   \n4      7.0       50.0              50.0              NaN           NaN   \n\n   scoreInOrganisms  actiontype_id  \n0               NaN            NaN  \n1               NaN            NaN  \n2               NaN            NaN  \n3               NaN            NaN  \n4               NaN            NaN  \n\n[5 rows x 22 columns]",
      "text/html": "<div>\n<style scoped>\n    .dataframe tbody tr th:only-of-type {\n        vertical-align: middle;\n    }\n\n    .dataframe tbody tr th {\n        vertical-align: top;\n    }\n\n    .dataframe thead th {\n        text-align: right;\n    }\n</style>\n<table border=\"1\" class=\"dataframe\">\n  <thead>\n    <tr style=\"text-align: right;\">\n      <th></th>\n      <th>compound_id</th>\n      <th>source</th>\n      <th>source_url</th>\n      <th>probe_id</th>\n      <th>origin</th>\n      <th>control</th>\n      <th>compound_name</th>\n      <th>inchiKey</th>\n      <th>basetarget_id</th>\n      <th>target_name</th>\n      <th>...</th>\n      <th>organism_id</th>\n      <th>uniprot_ids</th>\n      <th>uniprot_id</th>\n      <th>score_id</th>\n      <th>percentage</th>\n      <th>probesDrugsScore</th>\n      <th>probeMinerScore</th>\n      <th>scoreInCells</th>\n      <th>scoreInOrganisms</th>\n      <th>actiontype_id</th>\n    </tr>\n  </thead>\n  <tbody>\n    <tr>\n      <th>0</th>\n      <td>30108</td>\n      <td>Bromodomains chemical toolbox</td>\n      <td>https://www.nature.com/articles/s41467-019-096...</td>\n      <td>24043.0</td>\n      <td>experimental</td>\n      <td>D-Moses</td>\n      <td>L-Moses</td>\n      <td>MSFPLTWUFWOKBX-IFXJQAMLSA-N</td>\n      <td>22470.0</td>\n      <td>Histone acetyltransferase KAT2B</td>\n      <td>...</td>\n      <td>2832.0</td>\n      <td>Q92831</td>\n      <td>Q92831</td>\n      <td>7.0</td>\n      <td>50.0</td>\n      <td>50.0</td>\n      <td>NaN</td>\n      <td>NaN</td>\n      <td>NaN</td>\n      <td>NaN</td>\n    </tr>\n    <tr>\n      <th>1</th>\n      <td>30108</td>\n      <td>Bromodomains chemical toolbox</td>\n      <td>https://www.nature.com/articles/s41467-019-096...</td>\n      <td>24043.0</td>\n      <td>experimental</td>\n      <td>D-Moses</td>\n      <td>L-Moses</td>\n      <td>MSFPLTWUFWOKBX-IFXJQAMLSA-N</td>\n      <td>22470.0</td>\n      <td>Histone acetyltransferase KAT2B</td>\n      <td>...</td>\n      <td>2832.0</td>\n      <td>Q92831</td>\n      <td>Q92831</td>\n      <td>7.0</td>\n      <td>50.0</td>\n      <td>50.0</td>\n      <td>NaN</td>\n      <td>NaN</td>\n      <td>NaN</td>\n      <td>NaN</td>\n    </tr>\n    <tr>\n      <th>2</th>\n      <td>30108</td>\n      <td>Bromodomains chemical toolbox</td>\n      <td>https://www.nature.com/articles/s41467-019-096...</td>\n      <td>24043.0</td>\n      <td>experimental</td>\n      <td>D-Moses</td>\n      <td>L-Moses</td>\n      <td>MSFPLTWUFWOKBX-IFXJQAMLSA-N</td>\n      <td>22470.0</td>\n      <td>Histone acetyltransferase KAT2B</td>\n      <td>...</td>\n      <td>2832.0</td>\n      <td>Q92831</td>\n      <td>Q92831</td>\n      <td>7.0</td>\n      <td>50.0</td>\n      <td>50.0</td>\n      <td>NaN</td>\n      <td>NaN</td>\n      <td>NaN</td>\n      <td>NaN</td>\n    </tr>\n    <tr>\n      <th>3</th>\n      <td>30108</td>\n      <td>Bromodomains chemical toolbox</td>\n      <td>https://www.nature.com/articles/s41467-019-096...</td>\n      <td>24043.0</td>\n      <td>experimental</td>\n      <td>D-Moses</td>\n      <td>L-Moses</td>\n      <td>MSFPLTWUFWOKBX-IFXJQAMLSA-N</td>\n      <td>22470.0</td>\n      <td>Histone acetyltransferase KAT2B</td>\n      <td>...</td>\n      <td>2832.0</td>\n      <td>Q92831</td>\n      <td>Q92831</td>\n      <td>7.0</td>\n      <td>50.0</td>\n      <td>50.0</td>\n      <td>NaN</td>\n      <td>NaN</td>\n      <td>NaN</td>\n      <td>NaN</td>\n    </tr>\n    <tr>\n      <th>4</th>\n      <td>30108</td>\n      <td>Bromodomains chemical toolbox</td>\n      <td>https://www.nature.com/articles/s41467-019-096...</td>\n      <td>24043.0</td>\n      <td>experimental</td>\n      <td>D-Moses</td>\n      <td>L-Moses</td>\n      <td>MSFPLTWUFWOKBX-IFXJQAMLSA-N</td>\n      <td>22470.0</td>\n      <td>Histone acetyltransferase KAT2B</td>\n      <td>...</td>\n      <td>2832.0</td>\n      <td>Q92831</td>\n      <td>Q92831</td>\n      <td>7.0</td>\n      <td>50.0</td>\n      <td>50.0</td>\n      <td>NaN</td>\n      <td>NaN</td>\n      <td>NaN</td>\n      <td>NaN</td>\n    </tr>\n  </tbody>\n</table>\n<p>5 rows × 22 columns</p>\n</div>"
     },
     "execution_count": 27,
     "metadata": {},
     "output_type": "execute_result"
    }
   ],
   "source": [
    "df.head()"
   ]
  },
  {
   "cell_type": "markdown",
   "metadata": {},
   "source": [
    "## 6. Map to drugId"
   ]
  },
  {
   "cell_type": "code",
   "execution_count": 28,
   "metadata": {},
   "outputs": [],
   "source": [
    "from pyspark.sql import SparkSession\n",
    "from pyspark.sql.functions import *\n",
    "\n",
    "spark = (SparkSession.builder\n",
    "    .appName('spark')\n",
    "    .getOrCreate())"
   ]
  },
  {
   "cell_type": "code",
   "execution_count": 29,
   "metadata": {},
   "outputs": [],
   "source": [
    "\n",
    "drug_idx = (\n",
    "    spark.read.parquet('/Users/irene/Documents/dev/pyspark/21.09.5/molecule')\n",
    "    .select(col('id').alias('drugId'), 'inchiKey')\n",
    "    .toPandas()\n",
    ")"
   ]
  },
  {
   "cell_type": "code",
   "execution_count": 30,
   "metadata": {},
   "outputs": [
    {
     "data": {
      "text/plain": "   compound_id                         source  \\\n0        30108  Bromodomains chemical toolbox   \n1        30108  Bromodomains chemical toolbox   \n2        30108  Bromodomains chemical toolbox   \n3        30108  Bromodomains chemical toolbox   \n4        30108  Bromodomains chemical toolbox   \n\n                                          source_url  probe_id        origin  \\\n0  https://www.nature.com/articles/s41467-019-096...   24043.0  experimental   \n1  https://www.nature.com/articles/s41467-019-096...   24043.0  experimental   \n2  https://www.nature.com/articles/s41467-019-096...   24043.0  experimental   \n3  https://www.nature.com/articles/s41467-019-096...   24043.0  experimental   \n4  https://www.nature.com/articles/s41467-019-096...   24043.0  experimental   \n\n   control compound_name                     inchiKey  basetarget_id  \\\n0  D-Moses       L-Moses  MSFPLTWUFWOKBX-IFXJQAMLSA-N        22470.0   \n1  D-Moses       L-Moses  MSFPLTWUFWOKBX-IFXJQAMLSA-N        22470.0   \n2  D-Moses       L-Moses  MSFPLTWUFWOKBX-IFXJQAMLSA-N        22470.0   \n3  D-Moses       L-Moses  MSFPLTWUFWOKBX-IFXJQAMLSA-N        22470.0   \n4  D-Moses       L-Moses  MSFPLTWUFWOKBX-IFXJQAMLSA-N        22470.0   \n\n                       target_name  ... uniprot_ids  uniprot_id  score_id  \\\n0  Histone acetyltransferase KAT2B  ...      Q92831      Q92831       7.0   \n1  Histone acetyltransferase KAT2B  ...      Q92831      Q92831       7.0   \n2  Histone acetyltransferase KAT2B  ...      Q92831      Q92831       7.0   \n3  Histone acetyltransferase KAT2B  ...      Q92831      Q92831       7.0   \n4  Histone acetyltransferase KAT2B  ...      Q92831      Q92831       7.0   \n\n  percentage probesDrugsScore  probeMinerScore  scoreInCells  \\\n0       50.0             50.0              NaN           NaN   \n1       50.0             50.0              NaN           NaN   \n2       50.0             50.0              NaN           NaN   \n3       50.0             50.0              NaN           NaN   \n4       50.0             50.0              NaN           NaN   \n\n   scoreInOrganisms  actiontype_id  drugId  \n0               NaN            NaN     NaN  \n1               NaN            NaN     NaN  \n2               NaN            NaN     NaN  \n3               NaN            NaN     NaN  \n4               NaN            NaN     NaN  \n\n[5 rows x 23 columns]",
      "text/html": "<div>\n<style scoped>\n    .dataframe tbody tr th:only-of-type {\n        vertical-align: middle;\n    }\n\n    .dataframe tbody tr th {\n        vertical-align: top;\n    }\n\n    .dataframe thead th {\n        text-align: right;\n    }\n</style>\n<table border=\"1\" class=\"dataframe\">\n  <thead>\n    <tr style=\"text-align: right;\">\n      <th></th>\n      <th>compound_id</th>\n      <th>source</th>\n      <th>source_url</th>\n      <th>probe_id</th>\n      <th>origin</th>\n      <th>control</th>\n      <th>compound_name</th>\n      <th>inchiKey</th>\n      <th>basetarget_id</th>\n      <th>target_name</th>\n      <th>...</th>\n      <th>uniprot_ids</th>\n      <th>uniprot_id</th>\n      <th>score_id</th>\n      <th>percentage</th>\n      <th>probesDrugsScore</th>\n      <th>probeMinerScore</th>\n      <th>scoreInCells</th>\n      <th>scoreInOrganisms</th>\n      <th>actiontype_id</th>\n      <th>drugId</th>\n    </tr>\n  </thead>\n  <tbody>\n    <tr>\n      <th>0</th>\n      <td>30108</td>\n      <td>Bromodomains chemical toolbox</td>\n      <td>https://www.nature.com/articles/s41467-019-096...</td>\n      <td>24043.0</td>\n      <td>experimental</td>\n      <td>D-Moses</td>\n      <td>L-Moses</td>\n      <td>MSFPLTWUFWOKBX-IFXJQAMLSA-N</td>\n      <td>22470.0</td>\n      <td>Histone acetyltransferase KAT2B</td>\n      <td>...</td>\n      <td>Q92831</td>\n      <td>Q92831</td>\n      <td>7.0</td>\n      <td>50.0</td>\n      <td>50.0</td>\n      <td>NaN</td>\n      <td>NaN</td>\n      <td>NaN</td>\n      <td>NaN</td>\n      <td>NaN</td>\n    </tr>\n    <tr>\n      <th>1</th>\n      <td>30108</td>\n      <td>Bromodomains chemical toolbox</td>\n      <td>https://www.nature.com/articles/s41467-019-096...</td>\n      <td>24043.0</td>\n      <td>experimental</td>\n      <td>D-Moses</td>\n      <td>L-Moses</td>\n      <td>MSFPLTWUFWOKBX-IFXJQAMLSA-N</td>\n      <td>22470.0</td>\n      <td>Histone acetyltransferase KAT2B</td>\n      <td>...</td>\n      <td>Q92831</td>\n      <td>Q92831</td>\n      <td>7.0</td>\n      <td>50.0</td>\n      <td>50.0</td>\n      <td>NaN</td>\n      <td>NaN</td>\n      <td>NaN</td>\n      <td>NaN</td>\n      <td>NaN</td>\n    </tr>\n    <tr>\n      <th>2</th>\n      <td>30108</td>\n      <td>Bromodomains chemical toolbox</td>\n      <td>https://www.nature.com/articles/s41467-019-096...</td>\n      <td>24043.0</td>\n      <td>experimental</td>\n      <td>D-Moses</td>\n      <td>L-Moses</td>\n      <td>MSFPLTWUFWOKBX-IFXJQAMLSA-N</td>\n      <td>22470.0</td>\n      <td>Histone acetyltransferase KAT2B</td>\n      <td>...</td>\n      <td>Q92831</td>\n      <td>Q92831</td>\n      <td>7.0</td>\n      <td>50.0</td>\n      <td>50.0</td>\n      <td>NaN</td>\n      <td>NaN</td>\n      <td>NaN</td>\n      <td>NaN</td>\n      <td>NaN</td>\n    </tr>\n    <tr>\n      <th>3</th>\n      <td>30108</td>\n      <td>Bromodomains chemical toolbox</td>\n      <td>https://www.nature.com/articles/s41467-019-096...</td>\n      <td>24043.0</td>\n      <td>experimental</td>\n      <td>D-Moses</td>\n      <td>L-Moses</td>\n      <td>MSFPLTWUFWOKBX-IFXJQAMLSA-N</td>\n      <td>22470.0</td>\n      <td>Histone acetyltransferase KAT2B</td>\n      <td>...</td>\n      <td>Q92831</td>\n      <td>Q92831</td>\n      <td>7.0</td>\n      <td>50.0</td>\n      <td>50.0</td>\n      <td>NaN</td>\n      <td>NaN</td>\n      <td>NaN</td>\n      <td>NaN</td>\n      <td>NaN</td>\n    </tr>\n    <tr>\n      <th>4</th>\n      <td>30108</td>\n      <td>Bromodomains chemical toolbox</td>\n      <td>https://www.nature.com/articles/s41467-019-096...</td>\n      <td>24043.0</td>\n      <td>experimental</td>\n      <td>D-Moses</td>\n      <td>L-Moses</td>\n      <td>MSFPLTWUFWOKBX-IFXJQAMLSA-N</td>\n      <td>22470.0</td>\n      <td>Histone acetyltransferase KAT2B</td>\n      <td>...</td>\n      <td>Q92831</td>\n      <td>Q92831</td>\n      <td>7.0</td>\n      <td>50.0</td>\n      <td>50.0</td>\n      <td>NaN</td>\n      <td>NaN</td>\n      <td>NaN</td>\n      <td>NaN</td>\n      <td>NaN</td>\n    </tr>\n  </tbody>\n</table>\n<p>5 rows × 23 columns</p>\n</div>"
     },
     "execution_count": 30,
     "metadata": {},
     "output_type": "execute_result"
    }
   ],
   "source": [
    "df = (\n",
    "    # Get drugId\n",
    "    df.merge(\n",
    "        drug_idx,\n",
    "        on='inchiKey',\n",
    "        how='left')\n",
    ")\n",
    "\n",
    "\n",
    "df.head()"
   ]
  },
  {
   "cell_type": "code",
   "execution_count": 31,
   "metadata": {},
   "outputs": [],
   "source": [
    "df = df.astype({\n",
    "    'probe_id': 'Int64',\n",
    "    'basetarget_id': 'Int64',\n",
    "    'target_id': 'Int64',\n",
    "    'organism_id': 'Int64',\n",
    "    'score_id': 'Int64'\n",
    "})"
   ]
  },
  {
   "cell_type": "code",
   "execution_count": 32,
   "metadata": {},
   "outputs": [],
   "source": [
    "df.to_csv('output/3/chemprobes_v3_1.tsv', sep='\\t', header=True, index=False)"
   ]
  },
  {
   "cell_type": "code",
   "execution_count": 33,
   "metadata": {},
   "outputs": [
    {
     "data": {
      "text/plain": "compound_id                                                     30108\nsource                                  Bromodomains chemical toolbox\nsource_url          https://www.nature.com/articles/s41467-019-096...\nprobe_id                                                        24043\norigin                                                   experimental\ncontrol                                                       D-Moses\ncompound_name                                                 L-Moses\ninchiKey                                  MSFPLTWUFWOKBX-IFXJQAMLSA-N\nbasetarget_id                                                   22470\ntarget_name                           Histone acetyltransferase KAT2B\ntarget_symbols                                                  KAT2B\ntarget_id                                                      100905\norganism_id                                                      2832\nuniprot_ids                                                    Q92831\nuniprot_id                                                     Q92831\nscore_id                                                            7\npercentage                                                       50.0\nprobesDrugsScore                                                 50.0\nprobeMinerScore                                                   NaN\nscoreInCells                                                      NaN\nscoreInOrganisms                                                  NaN\nactiontype_id                                                     NaN\ndrugId                                                            NaN\nName: 0, dtype: object"
     },
     "execution_count": 33,
     "metadata": {},
     "output_type": "execute_result"
    }
   ],
   "source": [
    "df.iloc[0]"
   ]
  },
  {
   "cell_type": "markdown",
   "metadata": {},
   "source": [
    "## 7. Build final dataset"
   ]
  },
  {
   "cell_type": "code",
   "execution_count": 34,
   "metadata": {},
   "outputs": [],
   "source": [
    "data = spark.read.csv('output/3/chemprobes_v3_1.tsv', sep='\\t', header=True)"
   ]
  },
  {
   "cell_type": "markdown",
   "metadata": {},
   "source": [
    "All posible URLs\n",
    "```\n",
    "+-------------------------------------------+---------------------------------------------------------------+\n",
    "|source                                     |source_url                                                     |\n",
    "+-------------------------------------------+---------------------------------------------------------------+\n",
    "|Probe Miner (suitable probes)              |http://probeminer.icr.ac.uk/#/                                 |\n",
    "|High-quality chemical probes               |null                                                           |\n",
    "|Chemical Probes.org                        |http://www.chemicalprobes.org/                                 |\n",
    "|opnMe Portal                               |https://opnme.com/                                             |\n",
    "|Bromodomains chemical toolbox              |https://www.nature.com/articles/s41467-019-09672-2#article-info|\n",
    "|SGC Probes                                 |http://www.thesgc.org/chemical-probes                          |\n",
    "|Gray Laboratory Probes                     |http://graylab.dana-farber.org/probes.html#                    |\n",
    "|Protein methyltransferases chemical toolbox|https://www.nature.com/articles/s41467-018-07905-4             |\n",
    "|Nature Chemical Biology Probes             |http://www.nature.com/nchembio/chemical_probes.html            |\n",
    "|Open Science Probes                        |http://www.sgc-ffm.uni-frankfurt.de/#!start `\n",
    "\n",
    "```\n"
   ]
  },
  {
   "cell_type": "code",
   "execution_count": 35,
   "metadata": {},
   "outputs": [
    {
     "data": {
      "text/plain": "Row(compound_id='30108', source='Bromodomains chemical toolbox', source_url='https://www.nature.com/articles/s41467-019-09672-2#article-info', probe_id='24043', origin='experimental', control='D-Moses', compound_name='L-Moses', inchiKey='MSFPLTWUFWOKBX-IFXJQAMLSA-N', basetarget_id='22470', target_name='Histone acetyltransferase KAT2B', target_symbols='KAT2B', target_id='100905', organism_id='2832', uniprot_ids='Q92831', uniprot_id='Q92831', score_id='7', percentage='50.0', probesDrugsScore='50.0', probeMinerScore=None, scoreInCells=None, scoreInOrganisms=None, actiontype_id=None, drugId=None)"
     },
     "execution_count": 35,
     "metadata": {},
     "output_type": "execute_result"
    }
   ],
   "source": [
    "data.first()"
   ]
  },
  {
   "cell_type": "code",
   "execution_count": 36,
   "metadata": {},
   "outputs": [
    {
     "name": "stdout",
     "output_type": "stream",
     "text": [
      "-RECORD 0-----------------------------------------------------------------------------------------\n",
      " compound_id      | 888                                                                           \n",
      " source           | High-quality chemical probes                                                  \n",
      " source_url       | null                                                                          \n",
      " probe_id         | 28923                                                                         \n",
      " origin           | calculated                                                                    \n",
      " control          | null                                                                          \n",
      " compound_name    | TGX-221                                                                       \n",
      " inchiKey         | CPRAGQJXBLMUEL-UHFFFAOYSA-N                                                   \n",
      " basetarget_id    | 25012                                                                         \n",
      " target_name      | Phosphatidylinositol 4,5-bisphosphate 3-kinase catalytic subunit beta isoform \n",
      " target_symbols   | PIK3CB                                                                        \n",
      " target_id        | 100742                                                                        \n",
      " organism_id      | 2832                                                                          \n",
      " uniprot_ids      | P42338                                                                        \n",
      " uniprot_id       | P42338                                                                        \n",
      " score_id         | 1                                                                             \n",
      " percentage       | 46.0                                                                          \n",
      " probesDrugsScore | null                                                                          \n",
      " probeMinerScore  | 46.0                                                                          \n",
      " scoreInCells     | null                                                                          \n",
      " scoreInOrganisms | null                                                                          \n",
      " actiontype_id    | null                                                                          \n",
      " drugId           | null                                                                          \n",
      "-RECORD 1-----------------------------------------------------------------------------------------\n",
      " compound_id      | 888                                                                           \n",
      " source           | High-quality chemical probes                                                  \n",
      " source_url       | null                                                                          \n",
      " probe_id         | 28923                                                                         \n",
      " origin           | calculated                                                                    \n",
      " control          | null                                                                          \n",
      " compound_name    | TGX-221                                                                       \n",
      " inchiKey         | CPRAGQJXBLMUEL-UHFFFAOYSA-N                                                   \n",
      " basetarget_id    | 25012                                                                         \n",
      " target_name      | Phosphatidylinositol 4,5-bisphosphate 3-kinase catalytic subunit beta isoform \n",
      " target_symbols   | PIK3CB                                                                        \n",
      " target_id        | 100742                                                                        \n",
      " organism_id      | 2832                                                                          \n",
      " uniprot_ids      | P42338                                                                        \n",
      " uniprot_id       | P42338                                                                        \n",
      " score_id         | 7                                                                             \n",
      " percentage       | 86.3                                                                          \n",
      " probesDrugsScore | 86.3                                                                          \n",
      " probeMinerScore  | null                                                                          \n",
      " scoreInCells     | null                                                                          \n",
      " scoreInOrganisms | null                                                                          \n",
      " actiontype_id    | null                                                                          \n",
      " drugId           | null                                                                          \n",
      "-RECORD 2-----------------------------------------------------------------------------------------\n",
      " compound_id      | 888                                                                           \n",
      " source           | High-quality chemical probes                                                  \n",
      " source_url       | null                                                                          \n",
      " probe_id         | 28923                                                                         \n",
      " origin           | calculated                                                                    \n",
      " control          | null                                                                          \n",
      " compound_name    | TGX-221                                                                       \n",
      " inchiKey         | CPRAGQJXBLMUEL-UHFFFAOYSA-N                                                   \n",
      " basetarget_id    | 25012                                                                         \n",
      " target_name      | Phosphatidylinositol 4,5-bisphosphate 3-kinase catalytic subunit beta isoform \n",
      " target_symbols   | PIK3CB                                                                        \n",
      " target_id        | 79436                                                                         \n",
      " organism_id      | 2832                                                                          \n",
      " uniprot_ids      | P42338                                                                        \n",
      " uniprot_id       | P42338                                                                        \n",
      " score_id         | 1                                                                             \n",
      " percentage       | 46.0                                                                          \n",
      " probesDrugsScore | null                                                                          \n",
      " probeMinerScore  | 46.0                                                                          \n",
      " scoreInCells     | null                                                                          \n",
      " scoreInOrganisms | null                                                                          \n",
      " actiontype_id    | null                                                                          \n",
      " drugId           | null                                                                          \n",
      "-RECORD 3-----------------------------------------------------------------------------------------\n",
      " compound_id      | 888                                                                           \n",
      " source           | High-quality chemical probes                                                  \n",
      " source_url       | null                                                                          \n",
      " probe_id         | 28923                                                                         \n",
      " origin           | calculated                                                                    \n",
      " control          | null                                                                          \n",
      " compound_name    | TGX-221                                                                       \n",
      " inchiKey         | CPRAGQJXBLMUEL-UHFFFAOYSA-N                                                   \n",
      " basetarget_id    | 25012                                                                         \n",
      " target_name      | Phosphatidylinositol 4,5-bisphosphate 3-kinase catalytic subunit beta isoform \n",
      " target_symbols   | PIK3CB                                                                        \n",
      " target_id        | 79436                                                                         \n",
      " organism_id      | 2832                                                                          \n",
      " uniprot_ids      | P42338                                                                        \n",
      " uniprot_id       | P42338                                                                        \n",
      " score_id         | 7                                                                             \n",
      " percentage       | 86.3                                                                          \n",
      " probesDrugsScore | 86.3                                                                          \n",
      " probeMinerScore  | null                                                                          \n",
      " scoreInCells     | null                                                                          \n",
      " scoreInOrganisms | null                                                                          \n",
      " actiontype_id    | null                                                                          \n",
      " drugId           | null                                                                          \n",
      "-RECORD 4-----------------------------------------------------------------------------------------\n",
      " compound_id      | 888                                                                           \n",
      " source           | High-quality chemical probes                                                  \n",
      " source_url       | null                                                                          \n",
      " probe_id         | 28923                                                                         \n",
      " origin           | calculated                                                                    \n",
      " control          | null                                                                          \n",
      " compound_name    | TGX-221                                                                       \n",
      " inchiKey         | CPRAGQJXBLMUEL-UHFFFAOYSA-N                                                   \n",
      " basetarget_id    | 25012                                                                         \n",
      " target_name      | Phosphatidylinositol 4,5-bisphosphate 3-kinase catalytic subunit beta isoform \n",
      " target_symbols   | PIK3CB                                                                        \n",
      " target_id        | 79437                                                                         \n",
      " organism_id      | 2832                                                                          \n",
      " uniprot_ids      | P42338                                                                        \n",
      " uniprot_id       | P42338                                                                        \n",
      " score_id         | 1                                                                             \n",
      " percentage       | 46.0                                                                          \n",
      " probesDrugsScore | null                                                                          \n",
      " probeMinerScore  | 46.0                                                                          \n",
      " scoreInCells     | null                                                                          \n",
      " scoreInOrganisms | null                                                                          \n",
      " actiontype_id    | null                                                                          \n",
      " drugId           | null                                                                          \n",
      "-RECORD 5-----------------------------------------------------------------------------------------\n",
      " compound_id      | 888                                                                           \n",
      " source           | High-quality chemical probes                                                  \n",
      " source_url       | null                                                                          \n",
      " probe_id         | 28923                                                                         \n",
      " origin           | calculated                                                                    \n",
      " control          | null                                                                          \n",
      " compound_name    | TGX-221                                                                       \n",
      " inchiKey         | CPRAGQJXBLMUEL-UHFFFAOYSA-N                                                   \n",
      " basetarget_id    | 25012                                                                         \n",
      " target_name      | Phosphatidylinositol 4,5-bisphosphate 3-kinase catalytic subunit beta isoform \n",
      " target_symbols   | PIK3CB                                                                        \n",
      " target_id        | 79437                                                                         \n",
      " organism_id      | 2832                                                                          \n",
      " uniprot_ids      | P42338                                                                        \n",
      " uniprot_id       | P42338                                                                        \n",
      " score_id         | 7                                                                             \n",
      " percentage       | 86.3                                                                          \n",
      " probesDrugsScore | 86.3                                                                          \n",
      " probeMinerScore  | null                                                                          \n",
      " scoreInCells     | null                                                                          \n",
      " scoreInOrganisms | null                                                                          \n",
      " actiontype_id    | null                                                                          \n",
      " drugId           | null                                                                          \n",
      "-RECORD 6-----------------------------------------------------------------------------------------\n",
      " compound_id      | 888                                                                           \n",
      " source           | High-quality chemical probes                                                  \n",
      " source_url       | null                                                                          \n",
      " probe_id         | 28923                                                                         \n",
      " origin           | calculated                                                                    \n",
      " control          | null                                                                          \n",
      " compound_name    | TGX-221                                                                       \n",
      " inchiKey         | CPRAGQJXBLMUEL-UHFFFAOYSA-N                                                   \n",
      " basetarget_id    | 25012                                                                         \n",
      " target_name      | Phosphatidylinositol 4,5-bisphosphate 3-kinase catalytic subunit beta isoform \n",
      " target_symbols   | PIK3CB                                                                        \n",
      " target_id        | 79438                                                                         \n",
      " organism_id      | 2832                                                                          \n",
      " uniprot_ids      | P42338                                                                        \n",
      " uniprot_id       | P42338                                                                        \n",
      " score_id         | 1                                                                             \n",
      " percentage       | 46.0                                                                          \n",
      " probesDrugsScore | null                                                                          \n",
      " probeMinerScore  | 46.0                                                                          \n",
      " scoreInCells     | null                                                                          \n",
      " scoreInOrganisms | null                                                                          \n",
      " actiontype_id    | inhibitor                                                                     \n",
      " drugId           | null                                                                          \n",
      "-RECORD 7-----------------------------------------------------------------------------------------\n",
      " compound_id      | 888                                                                           \n",
      " source           | High-quality chemical probes                                                  \n",
      " source_url       | null                                                                          \n",
      " probe_id         | 28923                                                                         \n",
      " origin           | calculated                                                                    \n",
      " control          | null                                                                          \n",
      " compound_name    | TGX-221                                                                       \n",
      " inchiKey         | CPRAGQJXBLMUEL-UHFFFAOYSA-N                                                   \n",
      " basetarget_id    | 25012                                                                         \n",
      " target_name      | Phosphatidylinositol 4,5-bisphosphate 3-kinase catalytic subunit beta isoform \n",
      " target_symbols   | PIK3CB                                                                        \n",
      " target_id        | 79438                                                                         \n",
      " organism_id      | 2832                                                                          \n",
      " uniprot_ids      | P42338                                                                        \n",
      " uniprot_id       | P42338                                                                        \n",
      " score_id         | 7                                                                             \n",
      " percentage       | 86.3                                                                          \n",
      " probesDrugsScore | 86.3                                                                          \n",
      " probeMinerScore  | null                                                                          \n",
      " scoreInCells     | null                                                                          \n",
      " scoreInOrganisms | null                                                                          \n",
      " actiontype_id    | inhibitor                                                                     \n",
      " drugId           | null                                                                          \n",
      "-RECORD 8-----------------------------------------------------------------------------------------\n",
      " compound_id      | 888                                                                           \n",
      " source           | High-quality chemical probes                                                  \n",
      " source_url       | null                                                                          \n",
      " probe_id         | 28923                                                                         \n",
      " origin           | calculated                                                                    \n",
      " control          | null                                                                          \n",
      " compound_name    | TGX-221                                                                       \n",
      " inchiKey         | CPRAGQJXBLMUEL-UHFFFAOYSA-N                                                   \n",
      " basetarget_id    | 25012                                                                         \n",
      " target_name      | Phosphatidylinositol 4,5-bisphosphate 3-kinase catalytic subunit beta isoform \n",
      " target_symbols   | PIK3CB                                                                        \n",
      " target_id        | 79439                                                                         \n",
      " organism_id      | 2832                                                                          \n",
      " uniprot_ids      | P42338                                                                        \n",
      " uniprot_id       | P42338                                                                        \n",
      " score_id         | 1                                                                             \n",
      " percentage       | 46.0                                                                          \n",
      " probesDrugsScore | null                                                                          \n",
      " probeMinerScore  | 46.0                                                                          \n",
      " scoreInCells     | null                                                                          \n",
      " scoreInOrganisms | null                                                                          \n",
      " actiontype_id    | null                                                                          \n",
      " drugId           | null                                                                          \n",
      "-RECORD 9-----------------------------------------------------------------------------------------\n",
      " compound_id      | 888                                                                           \n",
      " source           | High-quality chemical probes                                                  \n",
      " source_url       | null                                                                          \n",
      " probe_id         | 28923                                                                         \n",
      " origin           | calculated                                                                    \n",
      " control          | null                                                                          \n",
      " compound_name    | TGX-221                                                                       \n",
      " inchiKey         | CPRAGQJXBLMUEL-UHFFFAOYSA-N                                                   \n",
      " basetarget_id    | 25012                                                                         \n",
      " target_name      | Phosphatidylinositol 4,5-bisphosphate 3-kinase catalytic subunit beta isoform \n",
      " target_symbols   | PIK3CB                                                                        \n",
      " target_id        | 79439                                                                         \n",
      " organism_id      | 2832                                                                          \n",
      " uniprot_ids      | P42338                                                                        \n",
      " uniprot_id       | P42338                                                                        \n",
      " score_id         | 7                                                                             \n",
      " percentage       | 86.3                                                                          \n",
      " probesDrugsScore | 86.3                                                                          \n",
      " probeMinerScore  | null                                                                          \n",
      " scoreInCells     | null                                                                          \n",
      " scoreInOrganisms | null                                                                          \n",
      " actiontype_id    | null                                                                          \n",
      " drugId           | null                                                                          \n",
      "\n"
     ]
    }
   ],
   "source": [
    "(data\n",
    ".filter(col('compound_id') == '888')\n",
    ").show(10, False, True)"
   ]
  },
  {
   "cell_type": "code",
   "execution_count": 37,
   "metadata": {},
   "outputs": [
    {
     "data": {
      "text/plain": "4193"
     },
     "execution_count": 37,
     "metadata": {},
     "output_type": "execute_result"
    }
   ],
   "source": [
    "data_m = (data\n",
    "    # Drop columns that are not needed\n",
    "    .drop('compound_id', 'basetarget_id', 'target_id', 'organism_id', 'score_id', 'percentage', 'uniprot_ids', 'probe_id')\n",
    "    # Change Probe Miner source name\n",
    "    .withColumn('source', when(col('source').contains('Probe Miner'), 'Probe Miner').otherwise(col('source')))\n",
    "    # Build more complete URLs\n",
    "    .withColumn(\n",
    "    'source_url',\n",
    "    when(col('source_url').contains('probeminer'), concat('source_url', 'uniprot_id'))\n",
    "    .when(col('source_url').contains('probes.org'), concat(lit('https://new.chemicalprobes.org/?q='), 'compound_name'))\n",
    "    .when(col('source_url').contains('thesgc'), concat('source_url', lit('/'), 'compound_name'))\n",
    "    .when(col('source_url').contains('graylab'), lit(None))\n",
    "    .when(col('source_url').contains('opnme'), concat(lit('https://opnme.com/search-results/'), 'compound_name'))\n",
    "    .when(col('source_url').contains('frankfurt'),\n",
    "          concat(\n",
    "              element_at(split(col('source_url'), '#!start'), 1),\n",
    "              lit('#!specificprobeoverview/'),\n",
    "              'compound_name'))\n",
    "    .otherwise(col('source_url')))\n",
    "    # Create high-quality flag\n",
    "    .withColumn('isHighQuality', when(col('source') == 'High-quality chemical probes', True).otherwise(False))\n",
    "    # Clean rows where control = 1\n",
    "    .withColumn('control', when(~col('control').contains(1), col('control')))\n",
    "    .withColumn('control', when(~col('control').contains('2S'), col('control')))\n",
    "    # Group data and collect sets\n",
    "    .groupBy('uniprot_id', 'compound_name', 'drugId', 'inchiKey')\n",
    "    .agg(\n",
    "        collect_set(\n",
    "            struct(\n",
    "                col('source').alias('niceName'),\n",
    "                col('source_url').alias('url'))\n",
    "        ).alias('urls'),\n",
    "        flatten(collect_set(array(\"control\"))).alias('control'), # max size = 1\n",
    "        collect_set(\"probesDrugsScore\").alias('probesDrugsScore'),\n",
    "        collect_set(\"probeMinerScore\").alias('probeMinerScore'),\n",
    "        collect_set(\"scoreInCells\").alias('scoreInCells'),\n",
    "        collect_set(\"scoreInOrganisms\").alias('scoreInOrganisms'),\n",
    "        flatten(collect_set(array(\"actiontype_id\"))).alias('mechanismOfAction'),\n",
    "        flatten(collect_set(array(\"isHighQuality\"))).alias('isHighQuality'),\n",
    "        collect_set(\"origin\").alias(\"origin\")\n",
    "    )\n",
    "    .withColumn('probesDrugsScore', array_max(col('probesDrugsScore')))\n",
    "    .withColumn('probeMinerScore', array_max(col('probeMinerScore')))\n",
    "    .withColumn('scoreInCells', array_max(col('scoreInCells')))\n",
    "    .withColumn('scoreInOrganisms', array_max(col('scoreInOrganisms')))\n",
    "    .withColumn('mechanismOfAction', expr('filter(mechanismOfAction, x -> x is not null)'))\n",
    "    .withColumn('control', explode(col('control')))\n",
    "    .withColumnRenamed('compound_name', 'id')\n",
    "    .withColumnRenamed('uniprot_id', 'targetFromSourceId')\n",
    "    .withColumn('urls', array_distinct(col('urls')))\n",
    "    # Remove reference to High Quality Probes source as this is a subset curated by P&Ds\n",
    "    # Problem: there are compounds only referenced with High Quality Probes \n",
    "    # Solution: remove it if there is already a reference, otherwise reference P&Ds \n",
    "    .withColumn('urls', array_except(col('urls'),\n",
    "                              array(struct(lit('High-quality chemical probes').alias(\"niceName\"), lit(None).cast(\"string\").alias(\"url\")))))\n",
    "    .withColumn( \n",
    "        'urls',\n",
    "        when(\n",
    "            size(col('urls')) == 0,\n",
    "            array(struct(\n",
    "                lit('Probes & Drugs Portal').alias('niceName'),\n",
    "                lit('https://www.probes-drugs.org').alias('url')))\n",
    "        )\n",
    "        .otherwise(col('urls'))\n",
    "    )\n",
    "    # Convert empty arrays into null\n",
    "    .withColumn('mechanismOfAction', when(size(col('mechanismOfAction')) == 0, lit(None)).otherwise(col('mechanismOfAction')))\n",
    "    .withColumn('origin', when(size(col('origin')) == 0, lit(None)).otherwise(col('origin')))\n",
    "    # Transform isHighQuality to keep only True\n",
    "    .withColumn('isHighQuality', when(array_contains(col('isHighQuality'), True), True).otherwise(False))\n",
    "    .distinct()\n",
    ")\n",
    "\n",
    "data_m.count()"
   ]
  },
  {
   "cell_type": "code",
   "execution_count": 38,
   "metadata": {},
   "outputs": [
    {
     "data": {
      "text/plain": "Row(targetFromSourceId='O95977', id='ML131', drugId=None, inchiKey='XECIGFKOOKPZGH-UHFFFAOYSA-N', urls=[Row(niceName='Probes & Drugs Portal', url='https://www.probes-drugs.org')], control=None, probesDrugsScore='90.0', probeMinerScore='21.0', scoreInCells=None, scoreInOrganisms=None, mechanismOfAction=None, isHighQuality=True, origin=['experimental'], url=Row(niceName='Probes & Drugs Portal', url='https://www.probes-drugs.org'))"
     },
     "execution_count": 38,
     "metadata": {},
     "output_type": "execute_result"
    }
   ],
   "source": [
    "data_m.withColumn('url', explode('urls')).filter(col('url.niceName').contains('Drugs')).first()"
   ]
  },
  {
   "cell_type": "code",
   "execution_count": 39,
   "metadata": {},
   "outputs": [
    {
     "name": "stdout",
     "output_type": "stream",
     "text": [
      "-RECORD 0--------------------------------------------------------------------------------------------------------------------------------------------------------------------------------------------------------\n",
      " targetFromSourceId | P37231                                                                                                                                                                                     \n",
      " id                 | PD083636                                                                                                                                                                                   \n",
      " drugId             | null                                                                                                                                                                                       \n",
      " inchiKey           | DBPCXOFYVLCGCQ-SFHVURJKSA-N                                                                                                                                                                \n",
      " urls               | [{Probe Miner, http://probeminer.icr.ac.uk/#/P37231}]                                                                                                                                      \n",
      " control            | null                                                                                                                                                                                       \n",
      " probesDrugsScore   | 70.0                                                                                                                                                                                       \n",
      " probeMinerScore    | 62.0                                                                                                                                                                                       \n",
      " scoreInCells       | null                                                                                                                                                                                       \n",
      " scoreInOrganisms   | null                                                                                                                                                                                       \n",
      " mechanismOfAction  | null                                                                                                                                                                                       \n",
      " isHighQuality      | false                                                                                                                                                                                      \n",
      " origin             | [calculated]                                                                                                                                                                               \n",
      "-RECORD 1--------------------------------------------------------------------------------------------------------------------------------------------------------------------------------------------------------\n",
      " targetFromSourceId | P51681                                                                                                                                                                                     \n",
      " id                 | PD085001                                                                                                                                                                                   \n",
      " drugId             | null                                                                                                                                                                                       \n",
      " inchiKey           | XNRDIULNKXSIMU-PTTLIBFYSA-N                                                                                                                                                                \n",
      " urls               | [{Probe Miner, http://probeminer.icr.ac.uk/#/P51681}]                                                                                                                                      \n",
      " control            | null                                                                                                                                                                                       \n",
      " probesDrugsScore   | 90.0                                                                                                                                                                                       \n",
      " probeMinerScore    | 60.0                                                                                                                                                                                       \n",
      " scoreInCells       | null                                                                                                                                                                                       \n",
      " scoreInOrganisms   | null                                                                                                                                                                                       \n",
      " mechanismOfAction  | null                                                                                                                                                                                       \n",
      " isHighQuality      | false                                                                                                                                                                                      \n",
      " origin             | [calculated]                                                                                                                                                                               \n",
      "-RECORD 2--------------------------------------------------------------------------------------------------------------------------------------------------------------------------------------------------------\n",
      " targetFromSourceId | P52732                                                                                                                                                                                     \n",
      " id                 | PD082283                                                                                                                                                                                   \n",
      " drugId             | null                                                                                                                                                                                       \n",
      " inchiKey           | MBPICXUBVCOQJO-UKILVPOCSA-N                                                                                                                                                                \n",
      " urls               | [{Probe Miner, http://probeminer.icr.ac.uk/#/P52732}]                                                                                                                                      \n",
      " control            | null                                                                                                                                                                                       \n",
      " probesDrugsScore   | 60.0                                                                                                                                                                                       \n",
      " probeMinerScore    | 58.0                                                                                                                                                                                       \n",
      " scoreInCells       | null                                                                                                                                                                                       \n",
      " scoreInOrganisms   | null                                                                                                                                                                                       \n",
      " mechanismOfAction  | null                                                                                                                                                                                       \n",
      " isHighQuality      | false                                                                                                                                                                                      \n",
      " origin             | [calculated]                                                                                                                                                                               \n",
      "-RECORD 3--------------------------------------------------------------------------------------------------------------------------------------------------------------------------------------------------------\n",
      " targetFromSourceId | P53350                                                                                                                                                                                     \n",
      " id                 | PD085286                                                                                                                                                                                   \n",
      " drugId             | null                                                                                                                                                                                       \n",
      " inchiKey           | CYXABCVHENZAID-UHFFFAOYSA-N                                                                                                                                                                \n",
      " urls               | [{Probe Miner, http://probeminer.icr.ac.uk/#/P53350}]                                                                                                                                      \n",
      " control            | null                                                                                                                                                                                       \n",
      " probesDrugsScore   | 50.0                                                                                                                                                                                       \n",
      " probeMinerScore    | 49.0                                                                                                                                                                                       \n",
      " scoreInCells       | null                                                                                                                                                                                       \n",
      " scoreInOrganisms   | null                                                                                                                                                                                       \n",
      " mechanismOfAction  | null                                                                                                                                                                                       \n",
      " isHighQuality      | false                                                                                                                                                                                      \n",
      " origin             | [calculated]                                                                                                                                                                               \n",
      "-RECORD 4--------------------------------------------------------------------------------------------------------------------------------------------------------------------------------------------------------\n",
      " targetFromSourceId | P78536                                                                                                                                                                                     \n",
      " id                 | PD081644                                                                                                                                                                                   \n",
      " drugId             | null                                                                                                                                                                                       \n",
      " inchiKey           | AGMWQNDXCWDRDZ-UHFFFAOYSA-N                                                                                                                                                                \n",
      " urls               | [{Probe Miner, http://probeminer.icr.ac.uk/#/P78536}]                                                                                                                                      \n",
      " control            | null                                                                                                                                                                                       \n",
      " probesDrugsScore   | 60.0                                                                                                                                                                                       \n",
      " probeMinerScore    | 60.0                                                                                                                                                                                       \n",
      " scoreInCells       | null                                                                                                                                                                                       \n",
      " scoreInOrganisms   | null                                                                                                                                                                                       \n",
      " mechanismOfAction  | null                                                                                                                                                                                       \n",
      " isHighQuality      | false                                                                                                                                                                                      \n",
      " origin             | [calculated]                                                                                                                                                                               \n",
      "-RECORD 5--------------------------------------------------------------------------------------------------------------------------------------------------------------------------------------------------------\n",
      " targetFromSourceId | Q13490                                                                                                                                                                                     \n",
      " id                 | PD083222                                                                                                                                                                                   \n",
      " drugId             | null                                                                                                                                                                                       \n",
      " inchiKey           | BLJRIUMEKILZNZ-VJBMBRPKSA-N                                                                                                                                                                \n",
      " urls               | [{Probe Miner, http://probeminer.icr.ac.uk/#/Q13490}]                                                                                                                                      \n",
      " control            | null                                                                                                                                                                                       \n",
      " probesDrugsScore   | 60.0                                                                                                                                                                                       \n",
      " probeMinerScore    | 58.0                                                                                                                                                                                       \n",
      " scoreInCells       | null                                                                                                                                                                                       \n",
      " scoreInOrganisms   | null                                                                                                                                                                                       \n",
      " mechanismOfAction  | null                                                                                                                                                                                       \n",
      " isHighQuality      | false                                                                                                                                                                                      \n",
      " origin             | [calculated]                                                                                                                                                                               \n",
      "-RECORD 6--------------------------------------------------------------------------------------------------------------------------------------------------------------------------------------------------------\n",
      " targetFromSourceId | Q13547                                                                                                                                                                                     \n",
      " id                 | PD082189                                                                                                                                                                                   \n",
      " drugId             | null                                                                                                                                                                                       \n",
      " inchiKey           | PPIFUYCFGJGTGQ-UHFFFAOYSA-N                                                                                                                                                                \n",
      " urls               | [{Probe Miner, http://probeminer.icr.ac.uk/#/Q13547}]                                                                                                                                      \n",
      " control            | null                                                                                                                                                                                       \n",
      " probesDrugsScore   | 90.0                                                                                                                                                                                       \n",
      " probeMinerScore    | 53.0                                                                                                                                                                                       \n",
      " scoreInCells       | null                                                                                                                                                                                       \n",
      " scoreInOrganisms   | null                                                                                                                                                                                       \n",
      " mechanismOfAction  | null                                                                                                                                                                                       \n",
      " isHighQuality      | false                                                                                                                                                                                      \n",
      " origin             | [calculated]                                                                                                                                                                               \n",
      "-RECORD 7--------------------------------------------------------------------------------------------------------------------------------------------------------------------------------------------------------\n",
      " targetFromSourceId | Q13627                                                                                                                                                                                     \n",
      " id                 | PD083310                                                                                                                                                                                   \n",
      " drugId             | null                                                                                                                                                                                       \n",
      " inchiKey           | QJRRYVISMPFJOU-UHFFFAOYSA-N                                                                                                                                                                \n",
      " urls               | [{Probe Miner, http://probeminer.icr.ac.uk/#/Q13627}]                                                                                                                                      \n",
      " control            | null                                                                                                                                                                                       \n",
      " probesDrugsScore   | 50.0                                                                                                                                                                                       \n",
      " probeMinerScore    | 61.0                                                                                                                                                                                       \n",
      " scoreInCells       | null                                                                                                                                                                                       \n",
      " scoreInOrganisms   | null                                                                                                                                                                                       \n",
      " mechanismOfAction  | null                                                                                                                                                                                       \n",
      " isHighQuality      | false                                                                                                                                                                                      \n",
      " origin             | [calculated]                                                                                                                                                                               \n",
      "-RECORD 8--------------------------------------------------------------------------------------------------------------------------------------------------------------------------------------------------------\n",
      " targetFromSourceId | Q969S8                                                                                                                                                                                     \n",
      " id                 | PD134232                                                                                                                                                                                   \n",
      " drugId             | null                                                                                                                                                                                       \n",
      " inchiKey           | WEFWTSUXXXOIID-RQRZMCCBSA-N                                                                                                                                                                \n",
      " urls               | [{Probe Miner, http://probeminer.icr.ac.uk/#/Q969S8}]                                                                                                                                      \n",
      " control            | null                                                                                                                                                                                       \n",
      " probesDrugsScore   | 80.8                                                                                                                                                                                       \n",
      " probeMinerScore    | 58.0                                                                                                                                                                                       \n",
      " scoreInCells       | null                                                                                                                                                                                       \n",
      " scoreInOrganisms   | null                                                                                                                                                                                       \n",
      " mechanismOfAction  | null                                                                                                                                                                                       \n",
      " isHighQuality      | false                                                                                                                                                                                      \n",
      " origin             | [calculated]                                                                                                                                                                               \n",
      "-RECORD 9--------------------------------------------------------------------------------------------------------------------------------------------------------------------------------------------------------\n",
      " targetFromSourceId | Q9NYY3                                                                                                                                                                                     \n",
      " id                 | BI 2536                                                                                                                                                                                    \n",
      " drugId             | CHEMBL513909                                                                                                                                                                               \n",
      " inchiKey           | XQVVPGYIWAGRNI-JOCHJYFZSA-N                                                                                                                                                                \n",
      " urls               | [{Chemical Probes.org (legacy), https://new.chemicalprobes.org/?q=BI 2536}, {Probe Miner, http://probeminer.icr.ac.uk/#/Q9NYY3}, {opnMe Portal, https://opnme.com/search-results/BI 2536}] \n",
      " control            | null                                                                                                                                                                                       \n",
      " probesDrugsScore   | 50.0                                                                                                                                                                                       \n",
      " probeMinerScore    | 71.0                                                                                                                                                                                       \n",
      " scoreInCells       | 50.0                                                                                                                                                                                       \n",
      " scoreInOrganisms   | 50.0                                                                                                                                                                                       \n",
      " mechanismOfAction  | [inhibitor]                                                                                                                                                                                \n",
      " isHighQuality      | true                                                                                                                                                                                       \n",
      " origin             | [calculated, experimental]                                                                                                                                                                 \n",
      "only showing top 10 rows\n",
      "\n"
     ]
    }
   ],
   "source": [
    "data_m.show(10, False, True)"
   ]
  },
  {
   "cell_type": "code",
   "execution_count": 40,
   "metadata": {},
   "outputs": [],
   "source": [
    "data_m.coalesce(1).write.json('output/3/chemicalprobes_v3_1')"
   ]
  },
  {
   "cell_type": "code",
   "execution_count": null,
   "metadata": {},
   "outputs": [],
   "source": []
  }
 ],
 "metadata": {
  "kernelspec": {
   "display_name": "Python 3",
   "language": "python",
   "name": "python3"
  },
  "language_info": {
   "codemirror_mode": {
    "name": "ipython",
    "version": 3
   },
   "file_extension": ".py",
   "mimetype": "text/x-python",
   "name": "python",
   "nbconvert_exporter": "python",
   "pygments_lexer": "ipython3",
   "version": "3.7.9"
  }
 },
 "nbformat": 4,
 "nbformat_minor": 4
}