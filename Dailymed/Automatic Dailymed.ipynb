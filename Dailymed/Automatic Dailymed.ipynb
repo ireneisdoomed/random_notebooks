{
 "cells": [
  {
   "cell_type": "code",
   "execution_count": 1,
   "metadata": {
    "collapsed": true
   },
   "outputs": [],
   "source": [
    "import pandas as pd\n",
    "from pyspark.sql import SparkSession\n",
    "import pyspark.sql.functions as F\n",
    "from pyspark.sql.types import *\n",
    "\n",
    "spark = (SparkSession.builder\n",
    "    .master('local[*]')\n",
    "    .config(\"spark.driver.memory\", \"15g\")\n",
    "    .appName('spark')\n",
    "    .getOrCreate())"
   ]
  },
  {
   "cell_type": "code",
   "execution_count": 2,
   "metadata": {
    "pycharm": {
     "name": "#%%\n"
    }
   },
   "outputs": [
    {
     "data": {
      "text/plain": "Row(chembl_id='CHEMBL1751', efo_id='EFO_0003144', dailymed_id='58678fd6-afe3-4a4c-a37f-356444194cd6')"
     },
     "execution_count": 2,
     "metadata": {},
     "output_type": "execute_result"
    }
   ],
   "source": [
    "tim = (spark.read.csv('/Users/irene/Desktop/DAILYMED_DISEASE_ChEMBL_ML_2.tsv', sep='\\t', header=True)\n",
    "    .select('chembl_id', 'efo_id', 'ref_url', 'method_by')\n",
    "    .withColumn('efo_id', F.regexp_replace(F.col('efo_id'), ':', '_'))\n",
    "    .withColumn('dailymed_id', F.element_at(F.split(F.col('ref_url'), '='), -1)).drop('ref_url').distinct()\n",
    "\n",
    "    .filter(F.col('method_by') == 'ml').drop('method_by')\n",
    "    )\n",
    "tim.first()"
   ]
  },
  {
   "cell_type": "code",
   "execution_count": 3,
   "metadata": {
    "pycharm": {
     "name": "#%%\n"
    }
   },
   "outputs": [
    {
     "name": "stdout",
     "output_type": "stream",
     "text": [
      "8469\n",
      "3946\n"
     ]
    },
    {
     "data": {
      "text/plain": "2832"
     },
     "execution_count": 3,
     "metadata": {},
     "output_type": "execute_result"
    }
   ],
   "source": [
    "print(tim.distinct().count())\n",
    "print(tim.select('dailymed_id').distinct().count())\n",
    "tim.select('chembl_id', 'efo_id').distinct().count()"
   ]
  },
  {
   "cell_type": "code",
   "execution_count": 4,
   "outputs": [
    {
     "data": {
      "text/plain": "''"
     },
     "execution_count": 4,
     "metadata": {},
     "output_type": "execute_result"
    }
   ],
   "source": [
    "'''\n",
    "tim_expanded = (\n",
    "\n",
    "    tim.join(disease_idx, disease_idx['id'] == tim['efo_id'], how='left')\n",
    "        .withColumn('efo_id', F.coalesce('ids', F.array(F.col('efo_id'))))\n",
    "        .withColumn('efo_id', F.explode('efo_id'))\n",
    "        .distinct()\n",
    "        .persist()\n",
    "\n",
    ")\n",
    "'''\n",
    ";"
   ],
   "metadata": {
    "collapsed": false,
    "pycharm": {
     "name": "#%%\n"
    }
   }
  },
  {
   "cell_type": "code",
   "execution_count": 5,
   "outputs": [],
   "source": [
    "# Current manual indications\n",
    "\n",
    "ind = spark.read.parquet('/Users/irene/Documents/dev/pyspark/21.08/indication')"
   ],
   "metadata": {
    "collapsed": false,
    "pycharm": {
     "name": "#%%\n"
    }
   }
  },
  {
   "cell_type": "code",
   "execution_count": 6,
   "outputs": [
    {
     "data": {
      "text/plain": "Row(id='CHEMBL480', efo_id='EFO_0003948', dailymed_id='da982c79-4f29-467c-b237-1f13c2051c59')"
     },
     "execution_count": 6,
     "metadata": {},
     "output_type": "execute_result"
    }
   ],
   "source": [
    "# Extract dailymed refs\n",
    "\n",
    "dailymed = (\n",
    "    ind.withColumn('indication', F.explode('indications'))\n",
    "        .withColumn('reference', F.explode('indication.references'))\n",
    "        .filter(F.col('reference.source') == 'DailyMed')\n",
    "        .withColumn('efo_id', F.col('indication.disease'))\n",
    "        .withColumn('dailymed_id', F.explode('reference.ids'))\n",
    "        .drop('approvedIndications', 'indications', 'references', 'reference', 'indication', 'indicationCount')\n",
    "        .distinct()\n",
    ")\n",
    "\n",
    "dailymed.first()"
   ],
   "metadata": {
    "collapsed": false,
    "pycharm": {
     "name": "#%%\n"
    }
   }
  },
  {
   "cell_type": "code",
   "execution_count": 7,
   "outputs": [
    {
     "name": "stdout",
     "output_type": "stream",
     "text": [
      "24720\n",
      "9510\n"
     ]
    },
    {
     "data": {
      "text/plain": "2552"
     },
     "execution_count": 7,
     "metadata": {},
     "output_type": "execute_result"
    }
   ],
   "source": [
    "print(dailymed.distinct().count())\n",
    "print(dailymed.select('dailymed_id').distinct().count())\n",
    "dailymed.select('id', 'efo_id').distinct().count()"
   ],
   "metadata": {
    "collapsed": false,
    "pycharm": {
     "name": "#%%\n"
    }
   }
  },
  {
   "cell_type": "code",
   "execution_count": 8,
   "outputs": [],
   "source": [
    "## Compare datasets"
   ],
   "metadata": {
    "collapsed": false,
    "pycharm": {
     "name": "#%%\n"
    }
   }
  },
  {
   "cell_type": "code",
   "execution_count": 9,
   "outputs": [
    {
     "name": "stdout",
     "output_type": "stream",
     "text": [
      "2504\n",
      "337\n"
     ]
    }
   ],
   "source": [
    "print(dailymed.join(tim, on='efo_id', how='left_anti').distinct().count())\n",
    "print(tim.join(dailymed, on='efo_id', how='left_anti').select('efo_id').distinct().count())\n",
    "# 2504 EFOs are lost\n",
    "# 337 are gained"
   ],
   "metadata": {
    "collapsed": false,
    "pycharm": {
     "name": "#%%\n"
    }
   }
  },
  {
   "cell_type": "code",
   "execution_count": 10,
   "outputs": [
    {
     "name": "stdout",
     "output_type": "stream",
     "text": [
      "516\n"
     ]
    },
    {
     "data": {
      "text/plain": "548"
     },
     "execution_count": 10,
     "metadata": {},
     "output_type": "execute_result"
    }
   ],
   "source": [
    "print(dailymed.join(tim, dailymed['id'] == tim['chembl_id'], how='left_anti').select('id').distinct().count())\n",
    "tim.join(dailymed, dailymed['id'] == tim['chembl_id'], how='left_anti').select('chembl_id').distinct().count()\n",
    "\n",
    "# 516 chembl ids are lost\n",
    "# 548 are gained"
   ],
   "metadata": {
    "collapsed": false,
    "pycharm": {
     "name": "#%%\n"
    }
   }
  },
  {
   "cell_type": "code",
   "execution_count": 11,
   "outputs": [
    {
     "data": {
      "text/plain": "Row(id='CHEMBL480', dailymed_id='da982c79-4f29-467c-b237-1f13c2051c59')"
     },
     "execution_count": 11,
     "metadata": {},
     "output_type": "execute_result"
    }
   ],
   "source": [
    "dailymed.join(tim, dailymed['id'] == tim['chembl_id'], how='left_anti').select('id', 'dailymed_id').first()"
   ],
   "metadata": {
    "collapsed": false,
    "pycharm": {
     "name": "#%%\n"
    }
   }
  },
  {
   "cell_type": "code",
   "execution_count": 12,
   "outputs": [
    {
     "name": "stdout",
     "output_type": "stream",
     "text": [
      "+------------------------------------+\n",
      "|dailymed_id                         |\n",
      "+------------------------------------+\n",
      "|f70e7022-0c44-48f2-9f7e-606e7ac730aa|\n",
      "|de965605-268a-4479-86f7-84de949cf36f|\n",
      "|f625d3e3-c175-4d9a-99ea-dab410b262f1|\n",
      "|9b93035b-34d6-4084-ba73-5dea72f9d124|\n",
      "|759d754e-48eb-4e37-a28a-9b79ac20416b|\n",
      "|331733b8-9da7-4901-ad1f-b7c088730f8c|\n",
      "|c3335a21-20c9-46a5-5d9f-12227d67fd11|\n",
      "|f2bd24a1-01cd-461b-a330-0456a0e5ee58|\n",
      "|c8c7e092-0eb4-4945-934d-0b4cf664ad23|\n",
      "|f9d9d64a-3a3c-44ad-b40d-02789f29eb04|\n",
      "|e054ec39-06e2-43ec-88cc-28095f76c6f5|\n",
      "|80adf27d-60fb-4394-8881-e75d3acb2774|\n",
      "|b1397a52-d99f-44f0-8649-8ceb8e7b9b85|\n",
      "|001dd372-2692-4d6f-a71c-95e7056349a9|\n",
      "|93ee7bb4-4be0-45a4-8f5b-6b17c9f8cfdf|\n",
      "|b17f29ca-517e-4d89-84f1-024d98fc5d77|\n",
      "|d224143d-2199-4969-a64f-dc2e6b865ec4|\n",
      "|52321fe5-c001-4e2d-8149-3197ddc13764|\n",
      "|a03f40f5-068e-41f2-826d-6ed627dd8776|\n",
      "|6d0c2df4-e9db-4622-95e8-33aa8a08f593|\n",
      "+------------------------------------+\n",
      "only showing top 20 rows\n",
      "\n"
     ]
    }
   ],
   "source": [
    "dailymed.join(tim, on='dailymed_id', how='left_anti').select('dailymed_id').distinct().show(truncate=False)"
   ],
   "metadata": {
    "collapsed": false,
    "pycharm": {
     "name": "#%%\n"
    }
   }
  },
  {
   "cell_type": "code",
   "execution_count": 13,
   "outputs": [
    {
     "name": "stdout",
     "output_type": "stream",
     "text": [
      "8710\n"
     ]
    },
    {
     "data": {
      "text/plain": "3146"
     },
     "execution_count": 13,
     "metadata": {},
     "output_type": "execute_result"
    }
   ],
   "source": [
    "print(dailymed.join(tim, on='dailymed_id', how='left_anti').select('dailymed_id').distinct().count())\n",
    "tim.join(dailymed, on='dailymed_id', how='left_anti').select('dailymed_id').distinct().count()\n",
    "\n",
    "# 8710 references are lost\n",
    "# 3146 are gained"
   ],
   "metadata": {
    "collapsed": false,
    "pycharm": {
     "name": "#%%\n"
    }
   }
  },
  {
   "cell_type": "code",
   "execution_count": 14,
   "outputs": [
    {
     "name": "stdout",
     "output_type": "stream",
     "text": [
      "1848\n"
     ]
    },
    {
     "data": {
      "text/plain": "2128"
     },
     "execution_count": 14,
     "metadata": {},
     "output_type": "execute_result"
    }
   ],
   "source": [
    "print(dailymed.withColumnRenamed('id', 'chembl_id').join(tim, ['chembl_id', 'efo_id'], how='left_anti').select('chembl_id', 'efo_id').distinct().count())\n",
    "tim.join(dailymed.withColumnRenamed('id', 'chembl_id'), ['chembl_id', 'efo_id'], how='left_anti').select('chembl_id', 'efo_id').distinct().count()\n",
    "\n",
    "# 1848 drug/indication pairs are lost\n",
    "# 2128 are gained"
   ],
   "metadata": {
    "collapsed": false,
    "pycharm": {
     "name": "#%%\n"
    }
   }
  },
  {
   "cell_type": "code",
   "execution_count": 15,
   "outputs": [
    {
     "name": "stdout",
     "output_type": "stream",
     "text": [
      "1170\n",
      "1202\n"
     ]
    }
   ],
   "source": [
    "print(dailymed.select('id').distinct().count())\n",
    "print(tim.select('chembl_id').distinct().count())"
   ],
   "metadata": {
    "collapsed": false,
    "pycharm": {
     "name": "#%%\n"
    }
   }
  },
  {
   "cell_type": "code",
   "execution_count": 16,
   "outputs": [
    {
     "data": {
      "text/plain": "''"
     },
     "execution_count": 16,
     "metadata": {},
     "output_type": "execute_result"
    }
   ],
   "source": [
    "'''\n",
    "# are the lost references the source of the lost chembl ids? no. There are only 42 diff chembl ids in lost_refs.\n",
    "\n",
    "lost_refs = dailymed.join(tim, on='dailymed_id', how='left_anti').select('id').distinct()\n",
    "\n",
    "lost_refs.select('id').distinct().join(tim.select('chembl_id').distinct(), tim['chembl_id'] == lost_refs['id'], how='left_anti').distinct().count()\n",
    "'''\n",
    ";"
   ],
   "metadata": {
    "collapsed": false,
    "pycharm": {
     "name": "#%%\n"
    }
   }
  },
  {
   "cell_type": "code",
   "execution_count": 17,
   "outputs": [
    {
     "name": "stdout",
     "output_type": "stream",
     "text": [
      "+-----------+-------------+--------------------+--------------------+\n",
      "|     efo_id|    chembl_id|         dailymed_id|     expanded_efo_id|\n",
      "+-----------+-------------+--------------------+--------------------+\n",
      "|EFO_0003144|   CHEMBL1751|58678fd6-afe3-4a4...|[EFO_0003144, MON...|\n",
      "|EFO_0006505|CHEMBL1200735|7d74dfa6-0468-43a...|[EFO_0006505, MON...|\n",
      "|EFO_0000676|    CHEMBL424|af7060a9-986c-500...|[EFO_0000676, OTA...|\n",
      "| HP_0002148|CHEMBL1200925|475f5cd7-45bd-412...|[HP_0002148, EFO_...|\n",
      "| HP_0000989|CHEMBL1201089|6f68cbbb-6269-4bb...|[HP_0000989, HP_0...|\n",
      "+-----------+-------------+--------------------+--------------------+\n",
      "only showing top 5 rows\n",
      "\n"
     ]
    }
   ],
   "source": [
    "# Taking the manual curation as the baseline, I want to see if the annotation is related\n",
    "\n",
    "efo_ancestors = (\n",
    "    spark.read.parquet('/Users/irene/Documents/dev/pyspark/21.09.5/diseases')\n",
    "        .select(F.array(F.col('id')).alias('id'), 'ancestors')\n",
    "        .withColumn('expanded_efo_id', F.array_union(F.col('id'), F.col('ancestors')))\n",
    "        .withColumn('efo_id', F.explode('id'))\n",
    "        .select('efo_id', 'expanded_efo_id')\n",
    ")\n",
    "\n",
    "tim_w_ancestors = tim.join(efo_ancestors, on='efo_id', how='left')\n",
    "tim_w_ancestors.show(5)"
   ],
   "metadata": {
    "collapsed": false,
    "pycharm": {
     "name": "#%%\n"
    }
   }
  },
  {
   "cell_type": "code",
   "execution_count": 18,
   "outputs": [
    {
     "name": "stdout",
     "output_type": "stream",
     "text": [
      "+--------------------+-------------+-----------+-----------+--------------------+-----------+---------+\n",
      "|         dailymed_id|    chembl_id|     efo_id| new_efo_id|     expanded_efo_id|sameMapping|isRelated|\n",
      "+--------------------+-------------+-----------+-----------+--------------------+-----------+---------+\n",
      "|000dc81d-ab91-450...|   CHEMBL1069|EFO_0003144|EFO_0003144|[EFO_0003144, MON...|       true|     true|\n",
      "|000dc81d-ab91-450...|   CHEMBL1069|EFO_0000373|EFO_0003144|[EFO_0003144, MON...|      false|    false|\n",
      "|0038f081-a867-43e...|CHEMBL1200636|EFO_1000632|       null|                null|      false|    false|\n",
      "|0038f081-a867-43e...|CHEMBL1200636| HP_0001257|       null|                null|      false|    false|\n",
      "|0038f081-a867-43e...|CHEMBL1200636|EFO_0009488|       null|                null|      false|    false|\n",
      "|0038f081-a867-43e...|CHEMBL1200636| HP_0003326|       null|                null|      false|    false|\n",
      "|025876b6-f031-43e...|   CHEMBL1163|EFO_0000764|       null|                null|      false|    false|\n",
      "|079ed521-3ff0-47f...|CHEMBL1083385|EFO_0005672|       null|                null|      false|    false|\n",
      "|0876897e-32e6-499...|   CHEMBL1237|EFO_0000537|       null|                null|      false|    false|\n",
      "|0f131f23-80dd-4a4...|    CHEMBL716|EFO_0000289|       null|                null|      false|    false|\n",
      "|0f131f23-80dd-4a4...|    CHEMBL716|EFO_0000692|       null|                null|      false|    false|\n",
      "|117b20fa-6ccc-585...|CHEMBL1200806|EFO_0002506|       null|                null|      false|    false|\n",
      "|117b20fa-6ccc-585...|CHEMBL1200806| HP_0100607|       null|                null|      false|    false|\n",
      "|1e522939-4af2-4a2...|    CHEMBL112|EFO_0003843|       null|                null|      false|    false|\n",
      "|221c6c53-35b8-4bd...|CHEMBL3989677|EFO_0003843|       null|                null|      false|    false|\n",
      "|237d8fa2-633c-4c2...|    CHEMBL595|EFO_0001360|       null|                null|      false|    false|\n",
      "|27f9a2d4-9783-4a5...|    CHEMBL870|EFO_0003882|       null|                null|      false|    false|\n",
      "|27f9a2d4-9783-4a5...|    CHEMBL870|EFO_0004261|       null|                null|      false|    false|\n",
      "|2c94fed2-f880-44a...|CHEMBL3186492|EFO_0006911|       null|                null|      false|    false|\n",
      "|2ebee624-71ee-4eb...|    CHEMBL435|EFO_0000537|       null|                null|      false|    false|\n",
      "+--------------------+-------------+-----------+-----------+--------------------+-----------+---------+\n",
      "only showing top 20 rows\n",
      "\n"
     ]
    }
   ],
   "source": [
    "# Grouping by drug and reference. Is the mapping related? -->\n",
    "# --> Is the curated mapping present in any of the ancestors in Tim's annotation\n",
    "\n",
    "enrichment = (\n",
    "    dailymed.withColumnRenamed('id', 'chembl_id')\n",
    "        .join(\n",
    "        tim_w_ancestors.withColumnRenamed('efo_id', 'new_efo_id'),\n",
    "        on = ['dailymed_id', 'chembl_id'],\n",
    "        how='left')\n",
    "        .distinct()\n",
    "        .withColumn('sameMapping', F.when(F.col('efo_id') == F.col('new_efo_id'), True).otherwise(False))\n",
    "        .withColumn('isRelated', F.array_contains(F.col('expanded_efo_id'), F.col('efo_id')))\n",
    "        .withColumn('isRelated', F.when(F.col('isRelated').isNull(), False).otherwise(F.col('isRelated')))\n",
    ")\n",
    "\n",
    "enrichment.show()"
   ],
   "metadata": {
    "collapsed": false,
    "pycharm": {
     "name": "#%%\n"
    }
   }
  },
  {
   "cell_type": "code",
   "execution_count": 19,
   "outputs": [
    {
     "name": "stdout",
     "output_type": "stream",
     "text": [
      "+---------+-----+\n",
      "|isRelated|count|\n",
      "+---------+-----+\n",
      "|     true|  766|\n",
      "|    false|24358|\n",
      "+---------+-----+\n",
      "\n"
     ]
    }
   ],
   "source": [
    "enrichment.select('dailymed_id', 'chembl_id', 'efo_id', 'isRelated').distinct().groupBy('isRelated').count().show()"
   ],
   "metadata": {
    "collapsed": false,
    "pycharm": {
     "name": "#%%\n"
    }
   }
  },
  {
   "cell_type": "code",
   "execution_count": 20,
   "outputs": [
    {
     "name": "stdout",
     "output_type": "stream",
     "text": [
      "Annotation with different mapping 24031\n",
      "Annotation with same mapping 689\n"
     ]
    }
   ],
   "source": [
    "# It is not so trivial to check the enrichment of only the current indications.\n",
    "# The explosion is so big that the counts are not informative enough\n",
    "# I'll break it into parts\n",
    "\n",
    "sameMapping = (\n",
    "    dailymed.withColumnRenamed('id', 'chembl_id')\n",
    "        .join(\n",
    "        tim_w_ancestors,\n",
    "        on = ['dailymed_id', 'chembl_id', 'efo_id'],\n",
    "        how='inner')\n",
    "        .distinct()\n",
    ")\n",
    "\n",
    "diffMapping = (\n",
    "    dailymed.withColumnRenamed('id', 'chembl_id')\n",
    "        .join(\n",
    "        tim_w_ancestors,\n",
    "        on = ['dailymed_id', 'chembl_id', 'efo_id'],\n",
    "        how='left_anti')\n",
    "        .distinct()\n",
    ")\n",
    "\n",
    "print('Annotation with different mapping', diffMapping.count())\n",
    "print('Annotation with same mapping', sameMapping.count())"
   ],
   "metadata": {
    "collapsed": false,
    "pycharm": {
     "name": "#%%\n"
    }
   }
  },
  {
   "cell_type": "code",
   "execution_count": 21,
   "outputs": [
    {
     "data": {
      "text/plain": "24031"
     },
     "execution_count": 21,
     "metadata": {},
     "output_type": "execute_result"
    }
   ],
   "source": [
    "# A record equals to a reference/drug/indication relationship\n",
    "dailymed.select('dailymed_id', F.col('id').alias('chembl_id'), 'efo_id').distinct().join(tim.select('dailymed_id', 'chembl_id', 'efo_id').distinct(), on=['dailymed_id', 'chembl_id', 'efo_id'], how='left_anti').distinct().count()"
   ],
   "metadata": {
    "collapsed": false,
    "pycharm": {
     "name": "#%%\n"
    }
   }
  },
  {
   "cell_type": "code",
   "execution_count": 22,
   "outputs": [
    {
     "data": {
      "text/plain": "DataFrame[dailymed_id: string, chembl_id: string, efo_id: string, expanded_efo_id: array<string>]"
     },
     "execution_count": 22,
     "metadata": {},
     "output_type": "execute_result"
    }
   ],
   "source": [
    "sameMapping"
   ],
   "metadata": {
    "collapsed": false,
    "pycharm": {
     "name": "#%%\n"
    }
   }
  },
  {
   "cell_type": "code",
   "execution_count": 23,
   "outputs": [
    {
     "name": "stdout",
     "output_type": "stream",
     "text": [
      "+--------------------+-------------+-----------+\n",
      "|         dailymed_id|    chembl_id|     efo_id|\n",
      "+--------------------+-------------+-----------+\n",
      "|00f67e1a-6999-429...|   CHEMBL1237|EFO_0000537|\n",
      "|01139e81-a4fa-4e1...|   CHEMBL1491|EFO_1000013|\n",
      "|03cdc2f8-78d1-11d...|    CHEMBL485|EFO_0003843|\n",
      "|0f81f505-a962-414...|     CHEMBL38|EFO_0000224|\n",
      "|10a64abf-9704-4ab...|    CHEMBL894|EFO_0003761|\n",
      "|10a7ba02-42d6-4ca...| CHEMBL393220|EFO_0003913|\n",
      "|112fdec3-882b-14d...|    CHEMBL154|EFO_0002506|\n",
      "|15cbb661-b92e-4fa...|    CHEMBL716|EFO_0000289|\n",
      "|1bc4c6c8-7e75-494...|    CHEMBL141|EFO_0000764|\n",
      "|1c20ce12-06d3-406...|   CHEMBL1694|EFO_0000537|\n",
      "|1d99ad89-82b1-484...|    CHEMBL154|EFO_0002609|\n",
      "|1e958146-6457-44e...|CHEMBL1201032|EFO_0003821|\n",
      "|24a02cd6-667c-4e0...|     CHEMBL85|EFO_0003758|\n",
      "|24cde2c2-dac7-4cd...|   CHEMBL1431|EFO_0001360|\n",
      "|2596b87c-de70-4bf...| CHEMBL389621| MP_0001845|\n",
      "|2676f761-4fe5-40a...|    CHEMBL190|EFO_0000270|\n",
      "|27f9a2d4-9783-4a5...|    CHEMBL870|EFO_0003882|\n",
      "|2892f3c2-bff6-441...|    CHEMBL707|EFO_0000537|\n",
      "|2970fe7e-9e1f-47a...|   CHEMBL1003|EFO_0004992|\n",
      "|2997739a-aa91-42a...|CHEMBL1213165|EFO_0000764|\n",
      "+--------------------+-------------+-----------+\n",
      "only showing top 20 rows\n",
      "\n"
     ]
    }
   ],
   "source": [
    "diffMapping.show()"
   ],
   "metadata": {
    "collapsed": false,
    "pycharm": {
     "name": "#%%\n"
    }
   }
  },
  {
   "cell_type": "code",
   "execution_count": 25,
   "outputs": [
    {
     "name": "stdout",
     "output_type": "stream",
     "text": [
      "+--------------------+-------------+-------------+-------------+--------------------+---------+\n",
      "|         dailymed_id|    chembl_id|       efo_id|   new_efo_id|     expanded_efo_id|isRelated|\n",
      "+--------------------+-------------+-------------+-------------+--------------------+---------+\n",
      "|144067b2-0532-476...|    CHEMBL885|  EFO_0000764|  EFO_0000180|[EFO_0000180, EFO...|     true|\n",
      "|80e736d3-2017-4d6...|   CHEMBL1430| Orphanet_905|MONDO_0003937|[MONDO_0003937, O...|    false|\n",
      "|89595dbd-2722-41f...|     CHEMBL85|  EFO_0003015|  EFO_0003758|[EFO_0003758, MON...|    false|\n",
      "|00088ecd-e45d-408...|CHEMBL3184512|  EFO_0008588|  EFO_0003102|[EFO_0003102, EFO...|    false|\n",
      "|457a026c-ebce-470...|    CHEMBL730|  EFO_0000537|  EFO_0003144|[EFO_0003144, MON...|    false|\n",
      "|deb4a13c-855b-437...|CHEMBL1201129|  EFO_0003811|  EFO_0000198|[EFO_0000198, OTA...|    false|\n",
      "|4ea10b58-88d0-4d7...|    CHEMBL435|  EFO_0000537|  EFO_0000373|[EFO_0000373, MON...|    false|\n",
      "|0fd36cb9-c4f6-416...|CHEMBL1201566|  EFO_0004272|  EFO_0003884|[EFO_0003884, EFO...|    false|\n",
      "|3495a71a-cc04-477...|   CHEMBL1489|  EFO_0003811|  EFO_0000198|[EFO_0000198, OTA...|    false|\n",
      "|07b7d9af-75db-459...|   CHEMBL1014|  EFO_0000373|  EFO_0003144|[EFO_0003144, MON...|    false|\n",
      "|903939b3-a01d-459...|   CHEMBL1741|  EFO_0003106|  EFO_0007486|[EFO_0007486, EFO...|    false|\n",
      "|2df7349c-f5d7-47b...|    CHEMBL141|  EFO_0004197|   HP_0012115|[HP_0012115, HP_0...|    false|\n",
      "|693ba38b-4cbe-4a6...|     CHEMBL46|  EFO_0006911|   HP_0002017|[HP_0002017, HP_0...|    false|\n",
      "|1521d321-e724-4ff...| CHEMBL325041|  EFO_0001378|  EFO_1001469|[EFO_1001469, EFO...|    false|\n",
      "|a3173c26-0e19-47a...|CHEMBL1963683|  EFO_1001069|  EFO_0004190|[EFO_0004190, EFO...|    false|\n",
      "|1cb912d1-0d48-7e6...|     CHEMBL20|MONDO_0001744|  EFO_0000516|[EFO_0000516, EFO...|    false|\n",
      "|9513589d-ef5d-4b8...|    CHEMBL154|  EFO_0003898|  EFO_0002506|[EFO_0002506, EFO...|    false|\n",
      "|693ba38b-4cbe-4a6...|     CHEMBL46|  EFO_0006911|  EFO_0000311|[EFO_0000311, MON...|    false|\n",
      "|c4520457-0b0e-493...|    CHEMBL661|  EFO_0004262|  EFO_0006788|[EFO_0006788, EFO...|    false|\n",
      "|c32ccd4d-77b4-445...|CHEMBL1201066|  EFO_0003761|  EFO_1001917|[EFO_1001917, EFO...|    false|\n",
      "+--------------------+-------------+-------------+-------------+--------------------+---------+\n",
      "only showing top 20 rows\n",
      "\n",
      "+--------------------+-------------+-------------+-------------+--------------------+---------+\n",
      "|         dailymed_id|    chembl_id|       efo_id|   new_efo_id|     expanded_efo_id|isRelated|\n",
      "+--------------------+-------------+-------------+-------------+--------------------+---------+\n",
      "|144067b2-0532-476...|    CHEMBL885|  EFO_0000764|  EFO_0000180|[EFO_0000180, EFO...|     true|\n",
      "|80e736d3-2017-4d6...|   CHEMBL1430| Orphanet_905|MONDO_0003937|[MONDO_0003937, O...|    false|\n",
      "|89595dbd-2722-41f...|     CHEMBL85|  EFO_0003015|  EFO_0003758|[EFO_0003758, MON...|    false|\n",
      "|00088ecd-e45d-408...|CHEMBL3184512|  EFO_0008588|  EFO_0003102|[EFO_0003102, EFO...|    false|\n",
      "|457a026c-ebce-470...|    CHEMBL730|  EFO_0000537|  EFO_0003144|[EFO_0003144, MON...|    false|\n",
      "|deb4a13c-855b-437...|CHEMBL1201129|  EFO_0003811|  EFO_0000198|[EFO_0000198, OTA...|    false|\n",
      "|4ea10b58-88d0-4d7...|    CHEMBL435|  EFO_0000537|  EFO_0000373|[EFO_0000373, MON...|    false|\n",
      "|0fd36cb9-c4f6-416...|CHEMBL1201566|  EFO_0004272|  EFO_0003884|[EFO_0003884, EFO...|    false|\n",
      "|3495a71a-cc04-477...|   CHEMBL1489|  EFO_0003811|  EFO_0000198|[EFO_0000198, OTA...|    false|\n",
      "|07b7d9af-75db-459...|   CHEMBL1014|  EFO_0000373|  EFO_0003144|[EFO_0003144, MON...|    false|\n",
      "|903939b3-a01d-459...|   CHEMBL1741|  EFO_0003106|  EFO_0007486|[EFO_0007486, EFO...|    false|\n",
      "|2df7349c-f5d7-47b...|    CHEMBL141|  EFO_0004197|   HP_0012115|[HP_0012115, HP_0...|    false|\n",
      "|693ba38b-4cbe-4a6...|     CHEMBL46|  EFO_0006911|   HP_0002017|[HP_0002017, HP_0...|    false|\n",
      "|1521d321-e724-4ff...| CHEMBL325041|  EFO_0001378|  EFO_1001469|[EFO_1001469, EFO...|    false|\n",
      "|a3173c26-0e19-47a...|CHEMBL1963683|  EFO_1001069|  EFO_0004190|[EFO_0004190, EFO...|    false|\n",
      "|1cb912d1-0d48-7e6...|     CHEMBL20|MONDO_0001744|  EFO_0000516|[EFO_0000516, EFO...|    false|\n",
      "|9513589d-ef5d-4b8...|    CHEMBL154|  EFO_0003898|  EFO_0002506|[EFO_0002506, EFO...|    false|\n",
      "|693ba38b-4cbe-4a6...|     CHEMBL46|  EFO_0006911|  EFO_0000311|[EFO_0000311, MON...|    false|\n",
      "|c4520457-0b0e-493...|    CHEMBL661|  EFO_0004262|  EFO_0006788|[EFO_0006788, EFO...|    false|\n",
      "|c32ccd4d-77b4-445...|CHEMBL1201066|  EFO_0003761|  EFO_1001917|[EFO_1001917, EFO...|    false|\n",
      "+--------------------+-------------+-------------+-------------+--------------------+---------+\n",
      "only showing top 20 rows\n",
      "\n"
     ]
    }
   ],
   "source": [
    "(\n",
    "    diffMapping\n",
    "        .join(\n",
    "        tim_w_ancestors.withColumnRenamed('efo_id', 'new_efo_id'),\n",
    "        on = ['dailymed_id', 'chembl_id'],\n",
    "        how='left')\n",
    "        .distinct()\n",
    "        .filter(F.col('new_efo_id').isNotNull())\n",
    "        .withColumn('isRelated', F.array_contains(F.col('expanded_efo_id'), F.col('efo_id')))\n",
    "        .withColumn('isRelated', F.when(F.col('isRelated').isNull(), False).otherwise(F.col('isRelated')))\n",
    "        #.select('dailymed_id', 'chembl_id', 'efo_id').distinct()\n",
    "        .show()\n",
    ")"
   ],
   "metadata": {
    "collapsed": false,
    "pycharm": {
     "name": "#%%\n"
    }
   }
  },
  {
   "cell_type": "code",
   "execution_count": 26,
   "outputs": [],
   "source": [
    "# Key thing here: when Tim annotates the same drug in a reference, most likely the EFO ID is the same.\n",
    "\n",
    "# Question: What is the reason for annotating a different drug?"
   ],
   "metadata": {
    "collapsed": false,
    "pycharm": {
     "name": "#%%\n"
    }
   }
  },
  {
   "cell_type": "code",
   "execution_count": 27,
   "outputs": [
    {
     "data": {
      "text/plain": "558"
     },
     "execution_count": 27,
     "metadata": {},
     "output_type": "execute_result"
    }
   ],
   "source": [
    "tim.joi"
   ],
   "metadata": {
    "collapsed": false,
    "pycharm": {
     "name": "#%%\n"
    }
   }
  },
  {
   "cell_type": "code",
   "execution_count": 28,
   "outputs": [
    {
     "data": {
      "text/plain": "7780"
     },
     "execution_count": 28,
     "metadata": {},
     "output_type": "execute_result"
    }
   ],
   "source": [
    "tim_w_ancestors.select('chembl_id', 'dailymed_id', 'efo_id').distinct().join(dailymed.withColumnRenamed('id', 'chembl_id').select('chembl_id', 'dailymed_id', 'efo_id').distinct(), on=['chembl_id', 'dailymed_id', 'efo_id'], how='left_anti').count()"
   ],
   "metadata": {
    "collapsed": false,
    "pycharm": {
     "name": "#%%\n"
    }
   }
  },
  {
   "cell_type": "code",
   "execution_count": 29,
   "outputs": [
    {
     "name": "stdout",
     "output_type": "stream",
     "text": [
      "+-------------+-----------+--------------------+\n",
      "|           id|     efo_id|         dailymed_id|\n",
      "+-------------+-----------+--------------------+\n",
      "|CHEMBL1200328|EFO_0003761|fe3e2db6-1aee-476...|\n",
      "|   CHEMBL1175|EFO_0003761|fe3e2db6-1aee-476...|\n",
      "+-------------+-----------+--------------------+\n",
      "\n"
     ]
    }
   ],
   "source": [
    "dailymed.filter(F.col('dailymed_id').contains('fe3e2db6-1aee-4767-bc1f')).show()"
   ],
   "metadata": {
    "collapsed": false,
    "pycharm": {
     "name": "#%%\n"
    }
   }
  },
  {
   "cell_type": "code",
   "execution_count": 30,
   "outputs": [
    {
     "name": "stdout",
     "output_type": "stream",
     "text": [
      "+------+---------+-----------+---------------+\n",
      "|efo_id|chembl_id|dailymed_id|expanded_efo_id|\n",
      "+------+---------+-----------+---------------+\n",
      "+------+---------+-----------+---------------+\n",
      "\n"
     ]
    }
   ],
   "source": [
    "tim_w_ancestors.filter(F.col('dailymed_id').contains('fe3e2db6-1aee-4767-bc1f')).show()"
   ],
   "metadata": {
    "collapsed": false,
    "pycharm": {
     "name": "#%%\n"
    }
   }
  },
  {
   "cell_type": "code",
   "execution_count": 31,
   "outputs": [],
   "source": [
    "# Finding: it is mainly because Tim only annotates one drug per reference, whereas the manual curation gets more chembl ids."
   ],
   "metadata": {
    "collapsed": false,
    "pycharm": {
     "name": "#%%\n"
    }
   }
  },
  {
   "cell_type": "code",
   "execution_count": 32,
   "outputs": [
    {
     "data": {
      "text/plain": "1170"
     },
     "execution_count": 32,
     "metadata": {},
     "output_type": "execute_result"
    }
   ],
   "source": [
    "dailymed.select('id').distinct().count()"
   ],
   "metadata": {
    "collapsed": false,
    "pycharm": {
     "name": "#%%\n"
    }
   }
  },
  {
   "cell_type": "code",
   "execution_count": 66,
   "outputs": [],
   "source": [],
   "metadata": {
    "collapsed": false,
    "pycharm": {
     "name": "#%%\n"
    }
   }
  }
 ],
 "metadata": {
  "kernelspec": {
   "display_name": "Python 3",
   "language": "python",
   "name": "python3"
  },
  "language_info": {
   "codemirror_mode": {
    "name": "ipython",
    "version": 3
   },
   "file_extension": ".py",
   "mimetype": "text/x-python",
   "name": "python",
   "nbconvert_exporter": "python",
   "pygments_lexer": "ipython3",
   "version": "3.7.9"
  }
 },
 "nbformat": 4,
 "nbformat_minor": 1
}