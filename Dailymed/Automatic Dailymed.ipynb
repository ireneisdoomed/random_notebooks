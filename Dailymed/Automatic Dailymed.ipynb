{
 "cells": [
  {
   "cell_type": "code",
   "execution_count": 2,
   "metadata": {
    "collapsed": true
   },
   "outputs": [],
   "source": [
    "import pandas as pd\n",
    "from pyspark.sql import SparkSession\n",
    "import pyspark.sql.functions as F\n",
    "from pyspark.sql.types import *\n",
    "\n",
    "spark = (SparkSession.builder\n",
    "    .master('local[*]')\n",
    "    .config(\"spark.driver.memory\", \"15g\")\n",
    "    .appName('spark')\n",
    "    .getOrCreate())"
   ]
  },
  {
   "cell_type": "code",
   "execution_count": 3,
   "metadata": {
    "pycharm": {
     "name": "#%%\n"
    }
   },
   "outputs": [
    {
     "data": {
      "text/plain": [
       "Row(chembl_id='CHEMBL1751', efo_id='EFO_0003144', dailymed_id='58678fd6-afe3-4a4c-a37f-356444194cd6')"
      ]
     },
     "execution_count": 3,
     "metadata": {},
     "output_type": "execute_result"
    }
   ],
   "source": [
    "tim = (spark.read.csv('data/DAILYMED_DISEASE_ChEMBL_ML_2.tsv', sep='\\t', header=True)\n",
    "    .select('chembl_id', 'efo_id', 'ref_url', 'method_by')\n",
    "    .withColumn('efo_id', F.regexp_replace(F.col('efo_id'), ':', '_'))\n",
    "    .withColumn('dailymed_id', F.element_at(F.split(F.col('ref_url'), '='), -1)).drop('ref_url').distinct()\n",
    "\n",
    "    .filter(F.col('method_by') == 'ml').drop('method_by')\n",
    "    )\n",
    "tim.first()"
   ]
  },
  {
   "cell_type": "code",
   "execution_count": 4,
   "metadata": {
    "pycharm": {
     "name": "#%%\n"
    }
   },
   "outputs": [
    {
     "name": "stdout",
     "output_type": "stream",
     "text": [
      "8469\n",
      "3946\n"
     ]
    },
    {
     "data": {
      "text/plain": [
       "2832"
      ]
     },
     "execution_count": 4,
     "metadata": {},
     "output_type": "execute_result"
    }
   ],
   "source": [
    "print(tim.distinct().count())\n",
    "print(tim.select('dailymed_id').distinct().count())\n",
    "tim.select('chembl_id', 'efo_id').distinct().count()"
   ]
  },
  {
   "cell_type": "code",
   "execution_count": 5,
   "metadata": {
    "collapsed": false,
    "pycharm": {
     "name": "#%%\n"
    }
   },
   "outputs": [
    {
     "data": {
      "text/plain": [
       "''"
      ]
     },
     "execution_count": 5,
     "metadata": {},
     "output_type": "execute_result"
    }
   ],
   "source": [
    "'''\n",
    "tim_expanded = (\n",
    "\n",
    "    tim.join(disease_idx, disease_idx['id'] == tim['efo_id'], how='left')\n",
    "        .withColumn('efo_id', F.coalesce('ids', F.array(F.col('efo_id'))))\n",
    "        .withColumn('efo_id', F.explode('efo_id'))\n",
    "        .distinct()\n",
    "        .persist()\n",
    "\n",
    ")\n",
    "'''\n",
    ";"
   ]
  },
  {
   "cell_type": "code",
   "execution_count": 6,
   "metadata": {
    "collapsed": false,
    "pycharm": {
     "name": "#%%\n"
    }
   },
   "outputs": [],
   "source": [
    "# Current manual indications\n",
    "\n",
    "ind = spark.read.parquet('data/indication')"
   ]
  },
  {
   "cell_type": "code",
   "execution_count": 7,
   "metadata": {
    "collapsed": false,
    "pycharm": {
     "name": "#%%\n"
    }
   },
   "outputs": [
    {
     "data": {
      "text/plain": [
       "Row(id='CHEMBL480', efo_id='EFO_0003948', dailymed_id='da982c79-4f29-467c-b237-1f13c2051c59')"
      ]
     },
     "execution_count": 7,
     "metadata": {},
     "output_type": "execute_result"
    }
   ],
   "source": [
    "# Extract dailymed refs\n",
    "\n",
    "dailymed = (\n",
    "    ind.withColumn('indication', F.explode('indications'))\n",
    "        .withColumn('reference', F.explode('indication.references'))\n",
    "        .filter(F.col('reference.source') == 'DailyMed')\n",
    "        .withColumn('efo_id', F.col('indication.disease'))\n",
    "        .withColumn('dailymed_id', F.explode('reference.ids'))\n",
    "        .drop('approvedIndications', 'indications', 'references', 'reference', 'indication', 'indicationCount')\n",
    "        .distinct()\n",
    ")\n",
    "\n",
    "dailymed.first()"
   ]
  },
  {
   "cell_type": "code",
   "execution_count": 8,
   "metadata": {
    "collapsed": false,
    "pycharm": {
     "name": "#%%\n"
    }
   },
   "outputs": [
    {
     "name": "stdout",
     "output_type": "stream",
     "text": [
      "24720\n",
      "9510\n"
     ]
    },
    {
     "data": {
      "text/plain": [
       "2552"
      ]
     },
     "execution_count": 8,
     "metadata": {},
     "output_type": "execute_result"
    }
   ],
   "source": [
    "print(dailymed.distinct().count())\n",
    "print(dailymed.select('dailymed_id').distinct().count())\n",
    "dailymed.select('id', 'efo_id').distinct().count()"
   ]
  },
  {
   "cell_type": "code",
   "execution_count": 9,
   "metadata": {
    "collapsed": false,
    "pycharm": {
     "name": "#%%\n"
    }
   },
   "outputs": [],
   "source": [
    "## Compare datasets"
   ]
  },
  {
   "cell_type": "code",
   "execution_count": 10,
   "metadata": {
    "collapsed": false,
    "pycharm": {
     "name": "#%%\n"
    }
   },
   "outputs": [
    {
     "name": "stdout",
     "output_type": "stream",
     "text": [
      "2504\n",
      "337\n"
     ]
    }
   ],
   "source": [
    "print(dailymed.join(tim, on='efo_id', how='left_anti').distinct().count())\n",
    "print(tim.join(dailymed, on='efo_id', how='left_anti').select('efo_id').distinct().count())\n",
    "# 2504 EFOs are lost\n",
    "# 337 are gained"
   ]
  },
  {
   "cell_type": "code",
   "execution_count": 11,
   "metadata": {
    "collapsed": false,
    "pycharm": {
     "name": "#%%\n"
    }
   },
   "outputs": [
    {
     "name": "stdout",
     "output_type": "stream",
     "text": [
      "516\n"
     ]
    },
    {
     "data": {
      "text/plain": [
       "548"
      ]
     },
     "execution_count": 11,
     "metadata": {},
     "output_type": "execute_result"
    }
   ],
   "source": [
    "print(dailymed.join(tim, dailymed['id'] == tim['chembl_id'], how='left_anti').select('id').distinct().count())\n",
    "tim.join(dailymed, dailymed['id'] == tim['chembl_id'], how='left_anti').select('chembl_id').distinct().count()\n",
    "\n",
    "# 516 chembl ids are lost\n",
    "# 548 are gained"
   ]
  },
  {
   "cell_type": "code",
   "execution_count": 12,
   "metadata": {
    "collapsed": false,
    "pycharm": {
     "name": "#%%\n"
    }
   },
   "outputs": [
    {
     "data": {
      "text/plain": [
       "Row(id='CHEMBL480', dailymed_id='da982c79-4f29-467c-b237-1f13c2051c59')"
      ]
     },
     "execution_count": 12,
     "metadata": {},
     "output_type": "execute_result"
    }
   ],
   "source": [
    "dailymed.join(tim, dailymed['id'] == tim['chembl_id'], how='left_anti').select('id', 'dailymed_id').first()"
   ]
  },
  {
   "cell_type": "code",
   "execution_count": 13,
   "metadata": {
    "collapsed": false,
    "pycharm": {
     "name": "#%%\n"
    }
   },
   "outputs": [
    {
     "name": "stdout",
     "output_type": "stream",
     "text": [
      "+------------------------------------+\n",
      "|dailymed_id                         |\n",
      "+------------------------------------+\n",
      "|52321fe5-c001-4e2d-8149-3197ddc13764|\n",
      "|9b600839-6c1b-4000-a9c5-efd74586a68a|\n",
      "|c0ec7e75-03b9-4b5b-ca8b-58cb0f65b5d9|\n",
      "|a84712bf-221d-4366-9cf0-b8c19428c276|\n",
      "|c18073be-d52a-4347-a8d1-6be11bcb7824|\n",
      "|a3ae5cba-f495-4593-b8fc-5ada34790745|\n",
      "|7b2638f5-8975-4259-be52-0da5c263bcc0|\n",
      "|c8c7e092-0eb4-4945-934d-0b4cf664ad23|\n",
      "|ef9044c1-eed3-4239-8f8b-64affd7a9ba0|\n",
      "|de965605-268a-4479-86f7-84de949cf36f|\n",
      "|b1397a52-d99f-44f0-8649-8ceb8e7b9b85|\n",
      "|01484f7c-24c9-4c0a-8ae5-c483cb7e6aaa|\n",
      "|f0c660da-4198-4d04-87e9-5d6a7b6f75cf|\n",
      "|b03d1cc5-6142-474b-9670-a364393d4142|\n",
      "|0ffab497-1988-426b-8c9e-3be653a203dd|\n",
      "|854f3663-35e4-4aef-9dfa-7e023b70b8fd|\n",
      "|8f8f4ece-de78-4c13-8d9f-c3bb7053019d|\n",
      "|17561aae-f0bc-4ffc-a007-985b17e9baf0|\n",
      "|06fbdb63-d32f-4212-9962-f1de15597dda|\n",
      "|91d45442-4232-4111-9dd8-0d787085af6d|\n",
      "+------------------------------------+\n",
      "only showing top 20 rows\n",
      "\n"
     ]
    }
   ],
   "source": [
    "dailymed.join(tim, on='dailymed_id', how='left_anti').select('dailymed_id').distinct().show(truncate=False)"
   ]
  },
  {
   "cell_type": "code",
   "execution_count": 14,
   "metadata": {
    "collapsed": false,
    "pycharm": {
     "name": "#%%\n"
    }
   },
   "outputs": [
    {
     "name": "stdout",
     "output_type": "stream",
     "text": [
      "8710\n"
     ]
    },
    {
     "data": {
      "text/plain": [
       "3146"
      ]
     },
     "execution_count": 14,
     "metadata": {},
     "output_type": "execute_result"
    }
   ],
   "source": [
    "print(dailymed.join(tim, on='dailymed_id', how='left_anti').select('dailymed_id').distinct().count())\n",
    "tim.join(dailymed, on='dailymed_id', how='left_anti').select('dailymed_id').distinct().count()\n",
    "\n",
    "# 8710 references are lost\n",
    "# 3146 are gained"
   ]
  },
  {
   "cell_type": "code",
   "execution_count": 15,
   "metadata": {
    "collapsed": false,
    "pycharm": {
     "name": "#%%\n"
    }
   },
   "outputs": [
    {
     "name": "stdout",
     "output_type": "stream",
     "text": [
      "1848\n"
     ]
    },
    {
     "data": {
      "text/plain": [
       "2128"
      ]
     },
     "execution_count": 15,
     "metadata": {},
     "output_type": "execute_result"
    }
   ],
   "source": [
    "print(dailymed.withColumnRenamed('id', 'chembl_id').join(tim, ['chembl_id', 'efo_id'], how='left_anti').select('chembl_id', 'efo_id').distinct().count())\n",
    "tim.join(dailymed.withColumnRenamed('id', 'chembl_id'), ['chembl_id', 'efo_id'], how='left_anti').select('chembl_id', 'efo_id').distinct().count()\n",
    "\n",
    "# 1848 drug/indication pairs are lost\n",
    "# 2128 are gained"
   ]
  },
  {
   "cell_type": "code",
   "execution_count": 16,
   "metadata": {
    "collapsed": false,
    "pycharm": {
     "name": "#%%\n"
    }
   },
   "outputs": [
    {
     "name": "stdout",
     "output_type": "stream",
     "text": [
      "1170\n",
      "1202\n"
     ]
    }
   ],
   "source": [
    "print(dailymed.select('id').distinct().count())\n",
    "print(tim.select('chembl_id').distinct().count())"
   ]
  },
  {
   "cell_type": "code",
   "execution_count": 17,
   "metadata": {
    "collapsed": false,
    "pycharm": {
     "name": "#%%\n"
    }
   },
   "outputs": [
    {
     "data": {
      "text/plain": [
       "''"
      ]
     },
     "execution_count": 17,
     "metadata": {},
     "output_type": "execute_result"
    }
   ],
   "source": [
    "'''\n",
    "# are the lost references the source of the lost chembl ids? no. There are only 42 diff chembl ids in lost_refs.\n",
    "\n",
    "lost_refs = dailymed.join(tim, on='dailymed_id', how='left_anti').select('id').distinct()\n",
    "\n",
    "lost_refs.select('id').distinct().join(tim.select('chembl_id').distinct(), tim['chembl_id'] == lost_refs['id'], how='left_anti').distinct().count()\n",
    "'''\n",
    ";"
   ]
  },
  {
   "cell_type": "code",
   "execution_count": 18,
   "metadata": {
    "collapsed": false,
    "pycharm": {
     "name": "#%%\n"
    }
   },
   "outputs": [
    {
     "name": "stdout",
     "output_type": "stream",
     "text": [
      "+-----------+-------------+--------------------+--------------------+\n",
      "|     efo_id|    chembl_id|         dailymed_id|     expanded_efo_id|\n",
      "+-----------+-------------+--------------------+--------------------+\n",
      "|EFO_0003144|   CHEMBL1751|58678fd6-afe3-4a4...|[EFO_0003144, MON...|\n",
      "|EFO_0006505|CHEMBL1200735|7d74dfa6-0468-43a...|[EFO_0006505, MON...|\n",
      "|EFO_0000676|    CHEMBL424|af7060a9-986c-500...|[EFO_0000676, OTA...|\n",
      "| HP_0002148|CHEMBL1200925|475f5cd7-45bd-412...|[HP_0002148, EFO_...|\n",
      "| HP_0000989|CHEMBL1201089|6f68cbbb-6269-4bb...|[HP_0000989, HP_0...|\n",
      "+-----------+-------------+--------------------+--------------------+\n",
      "only showing top 5 rows\n",
      "\n"
     ]
    }
   ],
   "source": [
    "# Taking the manual curation as the baseline, I want to see if the annotation is related\n",
    "\n",
    "efo_ancestors = (\n",
    "    spark.read.parquet('/Users/irene/Documents/dev/pyspark/21.09.5/diseases')\n",
    "        .select(F.array(F.col('id')).alias('id'), 'ancestors')\n",
    "        .withColumn('expanded_efo_id', F.array_union(F.col('id'), F.col('ancestors')))\n",
    "        .withColumn('efo_id', F.explode('id'))\n",
    "        .select('efo_id', 'expanded_efo_id')\n",
    ")\n",
    "\n",
    "tim_w_ancestors = tim.join(efo_ancestors, on='efo_id', how='left')\n",
    "tim_w_ancestors.show(5)"
   ]
  },
  {
   "cell_type": "code",
   "execution_count": 19,
   "metadata": {
    "collapsed": false,
    "pycharm": {
     "name": "#%%\n"
    }
   },
   "outputs": [
    {
     "name": "stdout",
     "output_type": "stream",
     "text": [
      "+--------------------+-------------+-----------+-----------+--------------------+-----------+---------+\n",
      "|         dailymed_id|    chembl_id|     efo_id| new_efo_id|     expanded_efo_id|sameMapping|isRelated|\n",
      "+--------------------+-------------+-----------+-----------+--------------------+-----------+---------+\n",
      "|e6d0a19a-8d4e-4c5...|   CHEMBL1464|EFO_0000275|       null|                null|      false|    false|\n",
      "|bf1dd603-d91e-03d...|    CHEMBL911|EFO_0004698|       null|                null|      false|    false|\n",
      "|d58e820b-bfd2-4e6...|   CHEMBL1643|EFO_0004220|       null|                null|      false|    false|\n",
      "|d62d754e-2310-491...|CHEMBL1201863| HP_0100633|       null|                null|      false|    false|\n",
      "|000dc81d-ab91-450...|   CHEMBL1069|EFO_0003144|EFO_0003144|[EFO_0003144, MON...|       true|     true|\n",
      "|2ebee624-71ee-4eb...|    CHEMBL435|EFO_0000537|       null|                null|      false|    false|\n",
      "|3302a75c-94d0-4e3...|    CHEMBL435|EFO_0000537|       null|                null|      false|    false|\n",
      "|d58e820b-bfd2-4e6...|   CHEMBL1643|EFO_0001422|       null|                null|      false|    false|\n",
      "|4456d10b-9995-443...|CHEMBL3989769| MP_0001845|       null|                null|      false|    false|\n",
      "|000dc81d-ab91-450...|   CHEMBL1069|EFO_0000373|EFO_0003144|[EFO_0003144, MON...|      false|    false|\n",
      "|4847a2ec-e72b-48b...|   CHEMBL1708|EFO_0004262|       null|                null|      false|    false|\n",
      "|532dcc5d-9640-430...| CHEMBL389621|EFO_0002506|       null|                null|      false|    false|\n",
      "|d62d754e-2310-491...|CHEMBL1201863|EFO_0003948|       null|                null|      false|    false|\n",
      "|532dcc5d-9640-430...| CHEMBL389621|EFO_0003106|       null|                null|      false|    false|\n",
      "|025876b6-f031-43e...|   CHEMBL1163|EFO_0000764|       null|                null|      false|    false|\n",
      "|532dcc5d-9640-430...| CHEMBL389621|EFO_0000384|       null|                null|      false|    false|\n",
      "|4847a2ec-e72b-48b...|   CHEMBL1708|EFO_0003761|       null|                null|      false|    false|\n",
      "|a80036fe-3016-454...|    CHEMBL107|EFO_0004274|       null|                null|      false|    false|\n",
      "|4456d10b-9995-443...|CHEMBL3989769|EFO_0000544|       null|                null|      false|    false|\n",
      "|532dcc5d-9640-430...| CHEMBL389621|EFO_0000274|       null|                null|      false|    false|\n",
      "+--------------------+-------------+-----------+-----------+--------------------+-----------+---------+\n",
      "only showing top 20 rows\n",
      "\n"
     ]
    }
   ],
   "source": [
    "# Grouping by drug and reference. Is the mapping related? -->\n",
    "# --> Is the curated mapping present in any of the ancestors in Tim's annotation\n",
    "\n",
    "enrichment = (\n",
    "    dailymed.withColumnRenamed('id', 'chembl_id')\n",
    "        .join(\n",
    "        tim_w_ancestors.withColumnRenamed('efo_id', 'new_efo_id'),\n",
    "        on = ['dailymed_id', 'chembl_id'],\n",
    "        how='left')\n",
    "        .distinct()\n",
    "        .withColumn('sameMapping', F.when(F.col('efo_id') == F.col('new_efo_id'), True).otherwise(False))\n",
    "        .withColumn('isRelated', F.array_contains(F.col('expanded_efo_id'), F.col('efo_id')))\n",
    "        .withColumn('isRelated', F.when(F.col('isRelated').isNull(), False).otherwise(F.col('isRelated')))\n",
    ")\n",
    "\n",
    "enrichment.show()"
   ]
  },
  {
   "cell_type": "code",
   "execution_count": 20,
   "metadata": {
    "collapsed": false,
    "pycharm": {
     "name": "#%%\n"
    }
   },
   "outputs": [
    {
     "name": "stdout",
     "output_type": "stream",
     "text": [
      "+---------+-----+\n",
      "|isRelated|count|\n",
      "+---------+-----+\n",
      "|     true|  766|\n",
      "|    false|24358|\n",
      "+---------+-----+\n",
      "\n"
     ]
    }
   ],
   "source": [
    "enrichment.select('dailymed_id', 'chembl_id', 'efo_id', 'isRelated').distinct().groupBy('isRelated').count().show()"
   ]
  },
  {
   "cell_type": "code",
   "execution_count": 21,
   "metadata": {
    "collapsed": false,
    "pycharm": {
     "name": "#%%\n"
    }
   },
   "outputs": [
    {
     "name": "stdout",
     "output_type": "stream",
     "text": [
      "Annotation with different mapping 24031\n",
      "Annotation with same mapping 689\n"
     ]
    }
   ],
   "source": [
    "# It is not so trivial to check the enrichment of only the current indications.\n",
    "# The explosion is so big that the counts are not informative enough\n",
    "# I'll break it into parts\n",
    "\n",
    "sameMapping = (\n",
    "    dailymed.withColumnRenamed('id', 'chembl_id')\n",
    "        .join(\n",
    "        tim_w_ancestors,\n",
    "        on = ['dailymed_id', 'chembl_id', 'efo_id'],\n",
    "        how='inner')\n",
    "        .distinct()\n",
    ")\n",
    "\n",
    "diffMapping = (\n",
    "    dailymed.withColumnRenamed('id', 'chembl_id')\n",
    "        .join(\n",
    "        tim_w_ancestors,\n",
    "        on = ['dailymed_id', 'chembl_id', 'efo_id'],\n",
    "        how='left_anti')\n",
    "        .distinct()\n",
    ")\n",
    "\n",
    "print('Annotation with different mapping', diffMapping.count())\n",
    "print('Annotation with same mapping', sameMapping.count())"
   ]
  },
  {
   "cell_type": "code",
   "execution_count": 22,
   "metadata": {
    "collapsed": false,
    "pycharm": {
     "name": "#%%\n"
    }
   },
   "outputs": [
    {
     "data": {
      "text/plain": [
       "24031"
      ]
     },
     "execution_count": 22,
     "metadata": {},
     "output_type": "execute_result"
    }
   ],
   "source": [
    "# A record equals to a reference/drug/indication relationship\n",
    "dailymed.select('dailymed_id', F.col('id').alias('chembl_id'), 'efo_id').distinct().join(tim.select('dailymed_id', 'chembl_id', 'efo_id').distinct(), on=['dailymed_id', 'chembl_id', 'efo_id'], how='left_anti').distinct().count()"
   ]
  },
  {
   "cell_type": "code",
   "execution_count": 23,
   "metadata": {
    "collapsed": false,
    "pycharm": {
     "name": "#%%\n"
    }
   },
   "outputs": [
    {
     "data": {
      "text/plain": [
       "DataFrame[dailymed_id: string, chembl_id: string, efo_id: string, expanded_efo_id: array<string>]"
      ]
     },
     "execution_count": 23,
     "metadata": {},
     "output_type": "execute_result"
    }
   ],
   "source": [
    "sameMapping"
   ]
  },
  {
   "cell_type": "code",
   "execution_count": 24,
   "metadata": {
    "collapsed": false,
    "pycharm": {
     "name": "#%%\n"
    }
   },
   "outputs": [
    {
     "name": "stdout",
     "output_type": "stream",
     "text": [
      "+--------------------+-------------+-----------+\n",
      "|         dailymed_id|    chembl_id|     efo_id|\n",
      "+--------------------+-------------+-----------+\n",
      "|da982c79-4f29-467...|    CHEMBL480|EFO_0003948|\n",
      "|5d080267-a1ad-471...|   CHEMBL1082|EFO_0000544|\n",
      "|b03d1cc5-6142-474...|   CHEMBL1082|EFO_0004607|\n",
      "|ac453fa1-5b39-40e...|    CHEMBL112|EFO_0003843|\n",
      "|8c1edb39-1ae9-44f...|    CHEMBL113|EFO_0003821|\n",
      "|70e115cc-6e9b-4b9...|CHEMBL1201082|EFO_0003761|\n",
      "|16348d76-055f-4a7...|   CHEMBL1708|EFO_0003761|\n",
      "|d1b9dd40-8140-40d...|   CHEMBL1708|EFO_0003761|\n",
      "|a1de8bba-3b1d-4c9...|   CHEMBL1773|EFO_0000305|\n",
      "|fc29adaa-48f1-40d...| CHEMBL389621|EFO_0000270|\n",
      "|4b37f277-4319-455...|    CHEMBL435|EFO_0000537|\n",
      "|4ea10b58-88d0-4d7...|    CHEMBL435|EFO_0000537|\n",
      "|caaf1b7f-eaab-4fb...|    CHEMBL137|EFO_1000760|\n",
      "|4e1f4eb4-19b2-eee...|CHEMBL1201129|EFO_0003811|\n",
      "|c155d6ba-9a16-406...|CHEMBL1201129|EFO_1001779|\n",
      "|d606a983-3146-4f5...|    CHEMBL787|EFO_0000270|\n",
      "|6fd7131e-7ac4-42f...|   CHEMBL1175|EFO_0005687|\n",
      "|4616f5fa-8e43-4a4...|   CHEMBL1175|EFO_0003761|\n",
      "|17b567bb-05c1-430...|CHEMBL1201099|EFO_0003843|\n",
      "|8aa4f3fc-720b-448...|   CHEMBL1741|EFO_0004607|\n",
      "+--------------------+-------------+-----------+\n",
      "only showing top 20 rows\n",
      "\n"
     ]
    }
   ],
   "source": [
    "diffMapping.show()"
   ]
  },
  {
   "cell_type": "code",
   "execution_count": 25,
   "metadata": {
    "collapsed": false,
    "pycharm": {
     "name": "#%%\n"
    }
   },
   "outputs": [
    {
     "name": "stdout",
     "output_type": "stream",
     "text": [
      "+--------------------+-------------+-------------+-------------+--------------------+---------+\n",
      "|         dailymed_id|    chembl_id|       efo_id|   new_efo_id|     expanded_efo_id|isRelated|\n",
      "+--------------------+-------------+-------------+-------------+--------------------+---------+\n",
      "|144067b2-0532-476...|    CHEMBL885|  EFO_0000764|  EFO_0000180|[EFO_0000180, EFO...|     true|\n",
      "|80e736d3-2017-4d6...|   CHEMBL1430| Orphanet_905|MONDO_0003937|[MONDO_0003937, O...|    false|\n",
      "|89595dbd-2722-41f...|     CHEMBL85|  EFO_0003015|  EFO_0003758|[EFO_0003758, MON...|    false|\n",
      "|00088ecd-e45d-408...|CHEMBL3184512|  EFO_0008588|  EFO_0003102|[EFO_0003102, EFO...|    false|\n",
      "|457a026c-ebce-470...|    CHEMBL730|  EFO_0000537|  EFO_0003144|[EFO_0003144, MON...|    false|\n",
      "|deb4a13c-855b-437...|CHEMBL1201129|  EFO_0003811|  EFO_0000198|[EFO_0000198, OTA...|    false|\n",
      "|4ea10b58-88d0-4d7...|    CHEMBL435|  EFO_0000537|  EFO_0000373|[EFO_0000373, MON...|    false|\n",
      "|0fd36cb9-c4f6-416...|CHEMBL1201566|  EFO_0004272|  EFO_0003884|[EFO_0003884, EFO...|    false|\n",
      "|3495a71a-cc04-477...|   CHEMBL1489|  EFO_0003811|  EFO_0000198|[EFO_0000198, OTA...|    false|\n",
      "|07b7d9af-75db-459...|   CHEMBL1014|  EFO_0000373|  EFO_0003144|[EFO_0003144, MON...|    false|\n",
      "|903939b3-a01d-459...|   CHEMBL1741|  EFO_0003106|  EFO_0007486|[EFO_0007486, EFO...|    false|\n",
      "|2df7349c-f5d7-47b...|    CHEMBL141|  EFO_0004197|   HP_0012115|[HP_0012115, HP_0...|    false|\n",
      "|693ba38b-4cbe-4a6...|     CHEMBL46|  EFO_0006911|   HP_0002017|[HP_0002017, HP_0...|    false|\n",
      "|1521d321-e724-4ff...| CHEMBL325041|  EFO_0001378|  EFO_1001469|[EFO_1001469, EFO...|    false|\n",
      "|a3173c26-0e19-47a...|CHEMBL1963683|  EFO_1001069|  EFO_0004190|[EFO_0004190, EFO...|    false|\n",
      "|1cb912d1-0d48-7e6...|     CHEMBL20|MONDO_0001744|  EFO_0000516|[EFO_0000516, EFO...|    false|\n",
      "|9513589d-ef5d-4b8...|    CHEMBL154|  EFO_0003898|  EFO_0002506|[EFO_0002506, EFO...|    false|\n",
      "|693ba38b-4cbe-4a6...|     CHEMBL46|  EFO_0006911|  EFO_0000311|[EFO_0000311, MON...|    false|\n",
      "|c4520457-0b0e-493...|    CHEMBL661|  EFO_0004262|  EFO_0006788|[EFO_0006788, EFO...|    false|\n",
      "|c32ccd4d-77b4-445...|CHEMBL1201066|  EFO_0003761|  EFO_1001917|[EFO_1001917, EFO...|    false|\n",
      "+--------------------+-------------+-------------+-------------+--------------------+---------+\n",
      "only showing top 20 rows\n",
      "\n"
     ]
    }
   ],
   "source": [
    "(\n",
    "    diffMapping\n",
    "        .join(\n",
    "        tim_w_ancestors.withColumnRenamed('efo_id', 'new_efo_id'),\n",
    "        on = ['dailymed_id', 'chembl_id'],\n",
    "        how='left')\n",
    "        .distinct()\n",
    "        .filter(F.col('new_efo_id').isNotNull())\n",
    "        .withColumn('isRelated', F.array_contains(F.col('expanded_efo_id'), F.col('efo_id')))\n",
    "        .withColumn('isRelated', F.when(F.col('isRelated').isNull(), False).otherwise(F.col('isRelated')))\n",
    "        #.select('dailymed_id', 'chembl_id', 'efo_id').distinct()\n",
    "        .show()\n",
    ")"
   ]
  },
  {
   "cell_type": "code",
   "execution_count": 26,
   "metadata": {
    "collapsed": false,
    "pycharm": {
     "name": "#%%\n"
    }
   },
   "outputs": [],
   "source": [
    "# Key thing here: when Tim annotates the same drug in a reference, most likely the EFO ID is the same.\n",
    "\n",
    "# Question: What is the reason for annotating a different drug?"
   ]
  },
  {
   "cell_type": "code",
   "execution_count": 27,
   "metadata": {
    "collapsed": false,
    "pycharm": {
     "name": "#%%\n"
    }
   },
   "outputs": [
    {
     "ename": "AttributeError",
     "evalue": "'DataFrame' object has no attribute 'joi'",
     "output_type": "error",
     "traceback": [
      "\u001b[0;31m---------------------------------------------------------------------------\u001b[0m",
      "\u001b[0;31mAttributeError\u001b[0m                            Traceback (most recent call last)",
      "\u001b[0;32m<ipython-input-27-baf58815c19f>\u001b[0m in \u001b[0;36m<module>\u001b[0;34m\u001b[0m\n\u001b[0;32m----> 1\u001b[0;31m \u001b[0mtim\u001b[0m\u001b[0;34m.\u001b[0m\u001b[0mjoi\u001b[0m\u001b[0;34m\u001b[0m\u001b[0;34m\u001b[0m\u001b[0m\n\u001b[0m",
      "\u001b[0;32m~/miniconda3/envs/pyspark/lib/python3.7/site-packages/pyspark/sql/dataframe.py\u001b[0m in \u001b[0;36m__getattr__\u001b[0;34m(self, name)\u001b[0m\n\u001b[1;32m   1658\u001b[0m         \u001b[0;32mif\u001b[0m \u001b[0mname\u001b[0m \u001b[0;32mnot\u001b[0m \u001b[0;32min\u001b[0m \u001b[0mself\u001b[0m\u001b[0;34m.\u001b[0m\u001b[0mcolumns\u001b[0m\u001b[0;34m:\u001b[0m\u001b[0;34m\u001b[0m\u001b[0;34m\u001b[0m\u001b[0m\n\u001b[1;32m   1659\u001b[0m             raise AttributeError(\n\u001b[0;32m-> 1660\u001b[0;31m                 \"'%s' object has no attribute '%s'\" % (self.__class__.__name__, name))\n\u001b[0m\u001b[1;32m   1661\u001b[0m         \u001b[0mjc\u001b[0m \u001b[0;34m=\u001b[0m \u001b[0mself\u001b[0m\u001b[0;34m.\u001b[0m\u001b[0m_jdf\u001b[0m\u001b[0;34m.\u001b[0m\u001b[0mapply\u001b[0m\u001b[0;34m(\u001b[0m\u001b[0mname\u001b[0m\u001b[0;34m)\u001b[0m\u001b[0;34m\u001b[0m\u001b[0;34m\u001b[0m\u001b[0m\n\u001b[1;32m   1662\u001b[0m         \u001b[0;32mreturn\u001b[0m \u001b[0mColumn\u001b[0m\u001b[0;34m(\u001b[0m\u001b[0mjc\u001b[0m\u001b[0;34m)\u001b[0m\u001b[0;34m\u001b[0m\u001b[0;34m\u001b[0m\u001b[0m\n",
      "\u001b[0;31mAttributeError\u001b[0m: 'DataFrame' object has no attribute 'joi'"
     ]
    }
   ],
   "source": [
    "tim.joi"
   ]
  },
  {
   "cell_type": "code",
   "execution_count": null,
   "metadata": {
    "collapsed": false,
    "pycharm": {
     "name": "#%%\n"
    }
   },
   "outputs": [
    {
     "data": {
      "text/plain": [
       "7780"
      ]
     },
     "execution_count": 28,
     "metadata": {},
     "output_type": "execute_result"
    }
   ],
   "source": [
    "tim_w_ancestors.select('chembl_id', 'dailymed_id', 'efo_id').distinct().join(dailymed.withColumnRenamed('id', 'chembl_id').select('chembl_id', 'dailymed_id', 'efo_id').distinct(), on=['chembl_id', 'dailymed_id', 'efo_id'], how='left_anti').count()"
   ]
  },
  {
   "cell_type": "code",
   "execution_count": null,
   "metadata": {
    "collapsed": false,
    "pycharm": {
     "name": "#%%\n"
    }
   },
   "outputs": [
    {
     "name": "stdout",
     "output_type": "stream",
     "text": [
      "+-------------+-----------+--------------------+\n",
      "|           id|     efo_id|         dailymed_id|\n",
      "+-------------+-----------+--------------------+\n",
      "|CHEMBL1200328|EFO_0003761|fe3e2db6-1aee-476...|\n",
      "|   CHEMBL1175|EFO_0003761|fe3e2db6-1aee-476...|\n",
      "+-------------+-----------+--------------------+\n",
      "\n"
     ]
    }
   ],
   "source": [
    "dailymed.filter(F.col('dailymed_id').contains('fe3e2db6-1aee-4767-bc1f')).show()"
   ]
  },
  {
   "cell_type": "code",
   "execution_count": null,
   "metadata": {
    "collapsed": false,
    "pycharm": {
     "name": "#%%\n"
    }
   },
   "outputs": [
    {
     "name": "stdout",
     "output_type": "stream",
     "text": [
      "+------+---------+-----------+---------------+\n",
      "|efo_id|chembl_id|dailymed_id|expanded_efo_id|\n",
      "+------+---------+-----------+---------------+\n",
      "+------+---------+-----------+---------------+\n",
      "\n"
     ]
    }
   ],
   "source": [
    "tim_w_ancestors.filter(F.col('dailymed_id').contains('fe3e2db6-1aee-4767-bc1f')).show()"
   ]
  },
  {
   "cell_type": "code",
   "execution_count": null,
   "metadata": {
    "collapsed": false,
    "pycharm": {
     "name": "#%%\n"
    }
   },
   "outputs": [],
   "source": [
    "# Finding: it is mainly because Tim only annotates one drug per reference, whereas the manual curation gets more chembl ids."
   ]
  },
  {
   "cell_type": "code",
   "execution_count": null,
   "metadata": {
    "collapsed": false,
    "pycharm": {
     "name": "#%%\n"
    }
   },
   "outputs": [
    {
     "data": {
      "text/plain": [
       "1170"
      ]
     },
     "execution_count": 32,
     "metadata": {},
     "output_type": "execute_result"
    }
   ],
   "source": [
    "dailymed.select('id').distinct().count()"
   ]
  },
  {
   "cell_type": "code",
   "execution_count": null,
   "metadata": {
    "collapsed": false,
    "pycharm": {
     "name": "#%%\n"
    }
   },
   "outputs": [],
   "source": []
  }
 ],
 "metadata": {
  "kernelspec": {
   "display_name": "Python 3",
   "language": "python",
   "name": "python3"
  },
  "language_info": {
   "codemirror_mode": {
    "name": "ipython",
    "version": 3
   },
   "file_extension": ".py",
   "mimetype": "text/x-python",
   "name": "python",
   "nbconvert_exporter": "python",
   "pygments_lexer": "ipython3",
   "version": "3.7.9"
  }
 },
 "nbformat": 4,
 "nbformat_minor": 1
}
