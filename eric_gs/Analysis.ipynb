{
 "cells": [
  {
   "cell_type": "code",
   "execution_count": 118,
   "metadata": {},
   "outputs": [],
   "source": [
    "import pandas as pd\n",
    "from pyspark.sql import SparkSession\n",
    "import pyspark.sql.functions as F\n",
    "from pyspark.sql.types import *\n",
    "\n",
    "spark = SparkSession.builder \\\n",
    "    .master('local[*]') \\\n",
    "    .config(\"spark.driver.memory\", \"15g\") \\\n",
    "    .appName('spark') \\\n",
    "    .getOrCreate()"
   ]
  },
  {
   "cell_type": "code",
   "execution_count": 13,
   "metadata": {},
   "outputs": [],
   "source": [
    "## 1. OTs GS\n",
    "\n",
    "ot_gs = spark.read.json('data/gwas_gold_standards.191108.jsonl')"
   ]
  },
  {
   "cell_type": "code",
   "execution_count": 17,
   "metadata": {},
   "outputs": [
    {
     "name": "stdout",
     "output_type": "stream",
     "text": [
      "Row(association_info=Row(ancestry=['EUR'], doi=None, gwas_catalog_id='GCST000324', neg_log_pval=23.699, otg_id='GCST000324_3', pubmed_id='19185284', url=None), gold_standard_info=Row(evidence=[Row(class='expert curated', confidence='High', curated_by='Eric Fauman', description='BCO1 (previously referred to as BCMO1) encodes beta-carotene oxygenase 1 which uses a molecule of oxygen to produce two molecules of retinol from beta-carotene.  Enzyme deficiency results in accumulation of beta-carotene.', pubmed_id='11401432', source=None)], gene_id='ENSG00000135697', highest_confidence='High'), metadata=Row(comments=None, date_added='2019-05-17', reviewed_by='Ed Mountjoy', set_label='ProGeM', submitted_by='Eric Fauman', tags=['metabolite', 'mQTL']), sentinel_variant=Row(alleles=Row(alternative='G', reference='T'), locus_GRCh37=Row(chromosome='16', position=81264597), locus_GRCh38=Row(chromosome='16', position=81230992), rsid='rs6564851'), trait_info=Row(ontology=['HMDB0000561'], reported_trait_name='Carotenoid and tocopherol levels (beta-carotene)', standard_trait_name='B-Carotene'))\n"
     ]
    }
   ],
   "source": [
    "print(ot_gs.first())\n",
    "#ot_gs.printSchema()"
   ]
  },
  {
   "cell_type": "code",
   "execution_count": 36,
   "metadata": {},
   "outputs": [
    {
     "name": "stdout",
     "output_type": "stream",
     "text": [
      "+---------------------------------+\n",
      "|tags                             |\n",
      "+---------------------------------+\n",
      "|[drug, ChEMBL, ChEMBL_III]       |\n",
      "|null                             |\n",
      "|[metabolite, mQTL]               |\n",
      "|[drug, ChEMBL, ChEMBL_II]        |\n",
      "|[T2D]                            |\n",
      "|[Fauman, Biological plausability]|\n",
      "|[drug, ChEMBL, ChEMBL_IV]        |\n",
      "+---------------------------------+\n",
      "\n",
      "None\n"
     ]
    }
   ],
   "source": [
    "# Provenances of the assoc\n",
    "print(ot_gs.select('metadata.tags').distinct().show(truncate=False))\n",
    "\n",
    "#print(ot_gs.filter(F.col('metadata.tags').isNull()).first())"
   ]
  },
  {
   "cell_type": "code",
   "execution_count": 37,
   "metadata": {},
   "outputs": [],
   "source": [
    "ot_gs = (ot_gs\n",
    " .filter(F.col('gold_standard_info.highest_confidence').isin(['High', 'Medium']))\n",
    " # Extract gene/trait pairs\n",
    " .withColumn('trait_id', F.explode('trait_info.ontology'))\n",
    " .select('gold_standard_info.gene_id', 'trait_id')\n",
    " .distinct()\n",
    ")\n",
    "\n",
    "# 619 pairs in the OT's GS with a high, medium confidence"
   ]
  },
  {
   "cell_type": "code",
   "execution_count": 38,
   "metadata": {},
   "outputs": [
    {
     "name": "stdout",
     "output_type": "stream",
     "text": [
      "+---------------+-----------+\n",
      "|        gene_id|   trait_id|\n",
      "+---------------+-----------+\n",
      "|ENSG00000198721|HMDB0013205|\n",
      "|ENSG00000107611|HMDB0002174|\n",
      "|ENSG00000258947|EFO_0000707|\n",
      "|ENSG00000015520|EFO_0004611|\n",
      "|ENSG00000093217|HMDB0000115|\n",
      "|ENSG00000134333|HMDB0000407|\n",
      "|ENSG00000163931|HMDB0001429|\n",
      "|ENSG00000167910|HMDB0000067|\n",
      "|ENSG00000137834|EFO_0009387|\n",
      "|ENSG00000100075|HMDB0000094|\n",
      "|ENSG00000090857|HMDB0000243|\n",
      "|ENSG00000137869|EFO_1001512|\n",
      "|ENSG00000087085|EFO_0000289|\n",
      "|ENSG00000136997|EFO_0001663|\n",
      "|ENSG00000215182|EFO_0009824|\n",
      "|ENSG00000159216|EFO_0007985|\n",
      "|ENSG00000138207|HMDB0000305|\n",
      "|ENSG00000151790|HMDB0000929|\n",
      "|ENSG00000133019|EFO_0000341|\n",
      "|ENSG00000061918|EFO_0000319|\n",
      "+---------------+-----------+\n",
      "only showing top 20 rows\n",
      "\n"
     ]
    }
   ],
   "source": [
    "(ot_gs.show())"
   ]
  },
  {
   "cell_type": "code",
   "execution_count": 187,
   "metadata": {},
   "outputs": [
    {
     "data": {
      "text/plain": [
       "Row(id='GO_0044238', ids=['GO_0044238', 'GO_0008152', 'GO_0008150'])"
      ]
     },
     "execution_count": 187,
     "metadata": {},
     "output_type": "execute_result"
    }
   ],
   "source": [
    "## 1.2. Expand ontology\n",
    "\n",
    "disease_idx = (\n",
    "    spark.read.parquet('/Users/irene/Documents/dev/pyspark/21.09.5/diseases')\n",
    "    .select(F.array(F.col('id')).alias('id'), 'ancestors')\n",
    "    .withColumn('ids', F.array_union(F.col('id'), F.col('ancestors')))\n",
    "    .withColumn('id', F.explode('id'))\n",
    "    .select('id', 'ids')\n",
    ")\n",
    "\n",
    "disease_idx.first()"
   ]
  },
  {
   "cell_type": "code",
   "execution_count": 188,
   "metadata": {},
   "outputs": [
    {
     "name": "stdout",
     "output_type": "stream",
     "text": [
      "+---------------+---------------+\n",
      "|        gene_id|     disease_id|\n",
      "+---------------+---------------+\n",
      "|ENSG00000198721|    HMDB0013205|\n",
      "|ENSG00000107611|    HMDB0002174|\n",
      "|ENSG00000258947|    EFO_0000707|\n",
      "|ENSG00000115380|    EFO_0000618|\n",
      "|ENSG00000145777|    EFO_0009433|\n",
      "|ENSG00000154122|  MONDO_0001933|\n",
      "|ENSG00000134243|    EFO_0004732|\n",
      "|ENSG00000100344|    EFO_0010284|\n",
      "|ENSG00000157978|    EFO_0001444|\n",
      "|ENSG00000122691|     HP_0011025|\n",
      "|ENSG00000088832|   OTAR_0000020|\n",
      "|ENSG00000100985|    EFO_0006858|\n",
      "|ENSG00000257923|   OTAR_0000010|\n",
      "|ENSG00000015520|    EFO_0004611|\n",
      "|ENSG00000093217|    HMDB0000115|\n",
      "|ENSG00000113302|Orphanet_158300|\n",
      "|ENSG00000258947|  MONDO_0000653|\n",
      "|ENSG00000134827|    EFO_0001069|\n",
      "|ENSG00000113580|  MONDO_0007263|\n",
      "|ENSG00000171094|    EFO_0000311|\n",
      "+---------------+---------------+\n",
      "only showing top 20 rows\n",
      "\n"
     ]
    }
   ],
   "source": [
    "ot_gs_expanded = (\n",
    "    ot_gs.join(disease_idx, disease_idx['id'] == ot_gs['trait_id'], how='left')\n",
    "    .withColumn('disease_id', F.coalesce('ids', F.array(F.col('trait_id'))))\n",
    "    .withColumn('disease_id', F.explode('disease_id'))\n",
    "    .select('gene_id', 'disease_id')\n",
    "    .distinct()\n",
    "    .persist()\n",
    ")\n",
    "\n",
    "ot_gs_expanded.show()"
   ]
  },
  {
   "cell_type": "code",
   "execution_count": 171,
   "metadata": {},
   "outputs": [
    {
     "data": {
      "text/plain": [
       "Row(type='metQTL', assertion_source='Fauman metabolites', published='yes', gene='A4GALT', trait='HMDB0011594|HMDB0011595', confidence='1000', why='A4GALT encodes a lactosylceramide 4-alpha-galactosyltransferase which adds a galactose moeity to a lactosylceramide molecule resulting in  globotriaosylceramide\\xa0(Gb3). The observed metabolite is a likely substrate.', source='10748143')"
      ]
     },
     "execution_count": 171,
     "metadata": {},
     "output_type": "execute_result"
    }
   ],
   "source": [
    "## 2. Eric's GS\n",
    "\n",
    "file = 'data/manual_gene_to_trait_rules.xlsx'\n",
    "\n",
    "eric_gs = spark.createDataFrame(pd.read_excel(file, sheet_name='Sheet1').astype(str))\n",
    "eric_gs_2.first()"
   ]
  },
  {
   "cell_type": "code",
   "execution_count": 172,
   "metadata": {},
   "outputs": [
    {
     "name": "stdout",
     "output_type": "stream",
     "text": [
      "+-----------+-------+\n",
      "|   trait_id|   gene|\n",
      "+-----------+-------+\n",
      "|HMDB0001438|    ABO|\n",
      "|HMDB0001291|  ACADM|\n",
      "|HMDB0011738|  ACADM|\n",
      "|     CXCL11|  ACKR1|\n",
      "|HMDB0000625|   ADH6|\n",
      "|HMDB0007973|  APOA4|\n",
      "|HMDB0000043|   CPS1|\n",
      "|HMDB0001032|CYP2C18|\n",
      "|HMDB0000554| CYP3A5|\n",
      "|HMDB0008039|  FADS2|\n",
      "|HMDB0010382|  FADS2|\n",
      "|HMDB0007874|  FADS2|\n",
      "|EFO_0005036|  GATA1|\n",
      "|EFO_0004324|   GDF5|\n",
      "|HMDB0000407|   HAO2|\n",
      "|HMDB0000067|  PPARG|\n",
      "|EFO_0004226|   PRNP|\n",
      "|HMDB0000158|  PRODH|\n",
      "|EFO_0004208|SLC24A5|\n",
      "|       MSTN|WFIKKN2|\n",
      "+-----------+-------+\n",
      "only showing top 20 rows\n",
      "\n"
     ]
    }
   ],
   "source": [
    "eric_gs = (\n",
    "    \n",
    "    eric_gs.filter(F.col('gene').isNotNull())\n",
    "    \n",
    "    .filter(F.col('confidence') == '1000')\n",
    "    \n",
    "    # some metabolites are mapped to a less specific term.\n",
    "    # That is indicated with a \"~\" before the ID (~HMDB0008047).\n",
    "    # I take those mappings are valid and remove the '~'\n",
    "    .withColumn('trait_id', F.translate('trait', '~+', ''))\n",
    "    \n",
    "    # Multiple gene/disease traits are divided by '|'\n",
    "    .withColumn('trait_id', F.explode(F.split(F.col('trait_id'), '\\|')))\n",
    "    .withColumn('gene', F.explode(F.split(F.col('gene'), '\\|')))\n",
    "    \n",
    "    .select('trait_id', 'gene').distinct()\n",
    ")\n",
    "\n",
    "eric_gs.show()"
   ]
  },
  {
   "cell_type": "code",
   "execution_count": 141,
   "metadata": {},
   "outputs": [
    {
     "data": {
      "text/plain": [
       "Row(gene_id='ENSG00000002016', gene='RAD52')"
      ]
     },
     "execution_count": 141,
     "metadata": {},
     "output_type": "execute_result"
    }
   ],
   "source": [
    "## 2.1. Map gene to Ensembl\n",
    "\n",
    "target_idx = (\n",
    "    spark.read.parquet('/Users/irene/Documents/dev/pyspark/21.09.5/targets')\n",
    "    .select(F.col('id').alias('gene_id'), F.col('approvedSymbol').alias('gene'))\n",
    ")\n",
    "target_idx.first()"
   ]
  },
  {
   "cell_type": "code",
   "execution_count": 173,
   "metadata": {},
   "outputs": [
    {
     "name": "stdout",
     "output_type": "stream",
     "text": [
      "+-------+-----------+---------------+\n",
      "|   gene|   trait_id|        gene_id|\n",
      "+-------+-----------+---------------+\n",
      "|    ABO|HMDB0001438|ENSG00000175164|\n",
      "|  ACADM|HMDB0001291|ENSG00000117054|\n",
      "|  ACADM|HMDB0011738|ENSG00000117054|\n",
      "|  ACKR1|     CXCL11|ENSG00000213088|\n",
      "|   ADH6|HMDB0000625|ENSG00000172955|\n",
      "|  APOA4|HMDB0007973|ENSG00000110244|\n",
      "|   CPS1|HMDB0000043|ENSG00000021826|\n",
      "|CYP2C18|HMDB0001032|ENSG00000108242|\n",
      "| CYP3A5|HMDB0000554|ENSG00000106258|\n",
      "|  FADS2|HMDB0008039|ENSG00000134824|\n",
      "|  FADS2|HMDB0010382|ENSG00000134824|\n",
      "|  FADS2|HMDB0007874|ENSG00000134824|\n",
      "|  GATA1|EFO_0005036|ENSG00000102145|\n",
      "|   GDF5|EFO_0004324|ENSG00000125965|\n",
      "|   HAO2|HMDB0000407|ENSG00000116882|\n",
      "|  PPARG|HMDB0000067|ENSG00000132170|\n",
      "|   PRNP|EFO_0004226|ENSG00000171867|\n",
      "|  PRODH|HMDB0000158|ENSG00000100033|\n",
      "|SLC24A5|EFO_0004208|ENSG00000188467|\n",
      "|WFIKKN2|       MSTN|ENSG00000173714|\n",
      "+-------+-----------+---------------+\n",
      "only showing top 20 rows\n",
      "\n"
     ]
    }
   ],
   "source": [
    "# All genes except one (813/814) are mappable using the approved symbol \n",
    "\n",
    "eric_gs = eric_gs.join(target_idx, on='gene', how='left')\n",
    "eric_gs.show()"
   ]
  },
  {
   "cell_type": "code",
   "execution_count": 174,
   "metadata": {},
   "outputs": [
    {
     "name": "stdout",
     "output_type": "stream",
     "text": [
      "+---------------+-------------+\n",
      "|        gene_id|   disease_id|\n",
      "+---------------+-------------+\n",
      "|ENSG00000196344|  EFO_0000618|\n",
      "|ENSG00000157978|  EFO_0001444|\n",
      "|ENSG00000177150|  EFO_0004260|\n",
      "|ENSG00000242515|  HMDB0000054|\n",
      "|ENSG00000132855|  HMDB0009815|\n",
      "|ENSG00000110090|  HMDB0001043|\n",
      "|ENSG00000162552|MONDO_0000632|\n",
      "|ENSG00000169083|  EFO_0004191|\n",
      "|ENSG00000158865|  HMDB0006088|\n",
      "|ENSG00000172955|  EFO_0001444|\n",
      "|ENSG00000134824|  HMDB0010371|\n",
      "|ENSG00000100344|  EFO_0010284|\n",
      "|ENSG00000042832|MONDO_0000569|\n",
      "|ENSG00000134824|  HMDB0010392|\n",
      "|ENSG00000130203|  EFO_0007796|\n",
      "|ENSG00000126821|  HMDB0240616|\n",
      "|ENSG00000235169|  EFO_0001444|\n",
      "|ENSG00000119866|MONDO_0002280|\n",
      "|ENSG00000164532|  EFO_0005278|\n",
      "|ENSG00000269858|         HBA2|\n",
      "+---------------+-------------+\n",
      "only showing top 20 rows\n",
      "\n"
     ]
    }
   ],
   "source": [
    "## 2.2 Expand ontology\n",
    "\n",
    "eric_gs_expanded = (\n",
    "    eric_gs.join(diseases, diseases['id'] == eric_gs['trait_id'], how='left')\n",
    "    .withColumn('disease_id', F.coalesce('ids', F.array(F.col('trait_id'))))\n",
    "    .withColumn('disease_id', F.explode('disease_id'))\n",
    "    .select('gene_id', 'disease_id')\n",
    "    .distinct()\n",
    "    .persist()\n",
    ")\n",
    "\n",
    "eric_gs_expanded.show()\n",
    "\n"
   ]
  },
  {
   "cell_type": "markdown",
   "metadata": {},
   "source": [
    "## Questions"
   ]
  },
  {
   "cell_type": "markdown",
   "metadata": {},
   "source": [
    "### 1. What is the overlap between GSs?"
   ]
  },
  {
   "cell_type": "code",
   "execution_count": 144,
   "metadata": {},
   "outputs": [
    {
     "name": "stdout",
     "output_type": "stream",
     "text": [
      "Assocs without expansion:  288 (0.079)\n",
      "Assocs with expansion:  1041 (0.146)\n"
     ]
    }
   ],
   "source": [
    "\n",
    "overlap = eric_gs.join(ot_gs, on=['trait_id', 'gene_id'], how='inner')\n",
    "overlap_w_expansion = eric_gs_expanded.join(ot_gs_expanded, on=['disease_id', 'gene_id'], how='inner')\n",
    "\n",
    "print('Assocs without expansion: ', overlap.count(), f'({overlap.count()/eric_gs.count():.3f})')\n",
    "print('Assocs with expansion: ', overlap_w_expansion.count(), f'({overlap_w_expansion.count()/eric_gs_expanded.count():.3f})')"
   ]
  },
  {
   "cell_type": "markdown",
   "metadata": {},
   "source": [
    "### 2. Assess the value of this set as an evidence by seeing the overlap wth Clinvar."
   ]
  },
  {
   "cell_type": "code",
   "execution_count": 175,
   "metadata": {},
   "outputs": [
    {
     "data": {
      "text/plain": [
       "Row(gene_id='ENSG00000085999', disease_id='EFO_0000574')"
      ]
     },
     "execution_count": 175,
     "metadata": {},
     "output_type": "execute_result"
    }
   ],
   "source": [
    "\n",
    "clinvar = (\n",
    "    spark.read.parquet('/Users/irene/Documents/dev/pyspark/21.09.5/associationByDatasourceIndirect')\n",
    "    .filter(F.col('datasourceId') == 'eva')\n",
    "    .select(\n",
    "        F.col('targetId').alias('gene_id'),\n",
    "        F.col('diseaseId').alias('disease_id'))\n",
    ") \n",
    "\n",
    "clinvar.first()"
   ]
  },
  {
   "cell_type": "code",
   "execution_count": 179,
   "metadata": {},
   "outputs": [
    {
     "name": "stdout",
     "output_type": "stream",
     "text": [
      "Erics assocs already in Clinvar:  1107 (0.136)\n"
     ]
    }
   ],
   "source": [
    "# Overlap with the expanded dataset as the assocs are indirect \n",
    "\n",
    "clinvar_overlap = eric_gs_expanded.join(clinvar, on=['disease_id', 'gene_id'], how='inner').distinct()\n",
    "\n",
    "print('Erics assocs already in Clinvar: ', clinvar_overlap.count(), f'({clinvar_overlap.count()/eric_gs_expanded.count():.3f})')"
   ]
  },
  {
   "cell_type": "markdown",
   "metadata": {},
   "source": [
    "### 3. Assess the value of this set as an evidence by seeing the overlap with OT Platform."
   ]
  },
  {
   "cell_type": "code",
   "execution_count": 182,
   "metadata": {},
   "outputs": [
    {
     "name": "stdout",
     "output_type": "stream",
     "text": [
      "Erics assocs already in OT:  5333 (0.654)\n"
     ]
    }
   ],
   "source": [
    "# Clinvar only covers a small amount of the GS. Let's make the comparison with the all the sources\n",
    "\n",
    "assocs = (\n",
    "    spark.read.parquet('/Users/irene/Documents/dev/pyspark/21.09.5/associationByDatasourceIndirect')\n",
    "    .select(\n",
    "        F.col('targetId').alias('gene_id'),\n",
    "        F.col('diseaseId').alias('disease_id'))\n",
    ") \n",
    "\n",
    "ot_overlap = eric_gs_expanded.join(assocs, on=['disease_id', 'gene_id'], how='inner').distinct()\n",
    "\n",
    "print('Erics assocs already in OT: ', ot_overlap.count(), f'({ot_overlap.count()/eric_gs_expanded.count():.3f})')"
   ]
  },
  {
   "cell_type": "code",
   "execution_count": 194,
   "metadata": {},
   "outputs": [
    {
     "name": "stdout",
     "output_type": "stream",
     "text": [
      "Potential Erics novel associations:  2818\n",
      "... of which 421 (0.149) can be resolved to OTs entities\n"
     ]
    }
   ],
   "source": [
    "# Are Eric's novelties compatible with the Platform?\n",
    "\n",
    "eric_novel = eric_gs_expanded.join(assocs, on=['disease_id', 'gene_id'], how='left_anti').distinct()\n",
    "\n",
    "eric_resolvable_assocs = eric_novel.join(disease_idx, eric_novel['disease_id'] == disease_idx['id'], how='inner').drop('id', 'ids').distinct()\n",
    "\n",
    "print('Potential Erics novel associations: ', eric_novel.count())\n",
    "print(f'... of which {eric_resolvable_assocs.count()} ({eric_resolvable_assocs.count()/eric_novel.count():.3f}) can be resolved to OTs entities')"
   ]
  },
  {
   "cell_type": "code",
   "execution_count": 203,
   "metadata": {},
   "outputs": [
    {
     "name": "stdout",
     "output_type": "stream",
     "text": [
      "711 / 770 refer to metabolites (HMDB terms).\n"
     ]
    }
   ],
   "source": [
    "# Where are the non resolvable diseases coming from?\n",
    "eric_nonresolvable_traits = eric_novel.join(disease_idx, eric_novel['disease_id'] == disease_idx['id'], how='left_anti').select('disease_id').distinct()\n",
    "print(f\"{eric_nonresolvable_traits.filter(F.col('disease_id').startswith('HMDB')).count()} / {eric_nonresolvable_traits.count()} refer to metabolites (HMDB terms).\")"
   ]
  },
  {
   "cell_type": "code",
   "execution_count": 246,
   "metadata": {},
   "outputs": [
    {
     "data": {
      "text/plain": [
       "Row(disease_id='HMDB0011260')"
      ]
     },
     "execution_count": 246,
     "metadata": {},
     "output_type": "execute_result"
    }
   ],
   "source": [
    "eric_nonresolvable_traits.first()"
   ]
  },
  {
   "cell_type": "markdown",
   "metadata": {},
   "source": [
    "### 4. Benchmark the locus2gene score"
   ]
  },
  {
   "cell_type": "code",
   "execution_count": 115,
   "metadata": {},
   "outputs": [
    {
     "data": {
      "text/plain": [
       "24118"
      ]
     },
     "execution_count": 115,
     "metadata": {},
     "output_type": "execute_result"
    }
   ],
   "source": [
    "## 2. Benchmark the locus2gene score with the dataset\n",
    "Likelihood of a gene is causal is to a certain trait.\n",
    "Is the assignment Eric is making "
   ]
  },
  {
   "cell_type": "code",
   "execution_count": 216,
   "metadata": {},
   "outputs": [
    {
     "data": {
      "text/plain": [
       "Row(study_id='NEALE2_20015_raw', chrom='11', pos=66882056, ref='G', alt='C', gene_id='ENSG00000248643', training_clf='xgboost', training_gs='high_medium', training_fold='fold2=20|5|11|18', y_proba_dist_foot=0.016477391123771667, y_proba_dist_tss=0.03394272178411484, y_proba_full_model=0.025197738781571388, y_proba_logi_distance=0.02190273441374302, y_proba_logi_interaction=0.04681830853223801, y_proba_logi_molecularQTL=0.05755378678441048, y_proba_logi_pathogenicity=0.1470467895269394, y_proba_logo_distance=0.022010287269949913, y_proba_logo_interaction=0.017333192750811577, y_proba_logo_molecularQTL=0.021643899381160736, y_proba_logo_pathogenicity=0.021079089492559433)"
      ]
     },
     "execution_count": 216,
     "metadata": {},
     "output_type": "execute_result"
    }
   ],
   "source": [
    "# Read the table with the inferred **causal gene** of a **variant** for a certain **study**\n",
    "\n",
    "l2g_table = spark.read.parquet('data/l2g.full.200127.parquet')\n",
    "l2g_table.first()"
   ]
  },
  {
   "cell_type": "code",
   "execution_count": 250,
   "metadata": {},
   "outputs": [
    {
     "data": {
      "text/plain": [
       "Row(study_id='GCST005306', variant_id='10_103565017_C_T', gene_id='ENSG00000107954')"
      ]
     },
     "execution_count": 250,
     "metadata": {},
     "output_type": "execute_result"
    }
   ],
   "source": [
    "l2g_table_processed = (\n",
    "    \n",
    "    l2g_table.withColumn('variant_id', F.concat('chrom', F.lit('_'), 'pos', F.lit('_'), 'ref', F.lit('_'), 'alt'))\n",
    "    .withColumn('prediction', F.struct(F.col('gene_id').alias('gene_id'), F.col('y_proba_full_model').alias('proba')))\n",
    "    \n",
    "    .groupBy('variant_id', 'study_id')\n",
    "    .agg(F.collect_set('prediction').alias('prediction'), F.max('y_proba_full_model').alias('max_proba'))\n",
    "    \n",
    "    # take gene_id with the greatest proba\n",
    "    .withColumn('prediction', F.explode('prediction'))\n",
    "    .filter(F.col('prediction.proba') == F.col('max_proba'))\n",
    "    .withColumn('gene_id', F.col('prediction.gene_id'))\n",
    "    \n",
    "    # filter associations with a l2g score > .5\n",
    "    .filter(F.col('max_proba') >= 0.5)\n",
    "    \n",
    "    .select('study_id', 'variant_id', 'gene_id')\n",
    "    .distinct()\n",
    ")\n",
    "\n",
    "l2g_table_processed.first()"
   ]
  },
  {
   "cell_type": "code",
   "execution_count": 251,
   "metadata": {},
   "outputs": [
    {
     "data": {
      "text/plain": [
       "Row(variant_id='10_103565017_C_T', gene_id='ENSG00000107954', trait_id='EFO_0000275')"
      ]
     },
     "execution_count": 251,
     "metadata": {},
     "output_type": "execute_result"
    }
   ],
   "source": [
    "# Extract associated trait for the study_id\n",
    "\n",
    "study_idx = spark.read.json('/Users/irene/study-index').select('study_id', 'trait_efos')\n",
    "\n",
    "l2g_table_processed_w_trait = (\n",
    "    \n",
    "    l2g_table_processed\n",
    "    .join(study_idx, on='study_id', how='left')\n",
    "    .withColumn('trait_id', F.explode('trait_efos'))\n",
    "    \n",
    "    .drop('trait_efos', 'study_id')\n",
    ")\n",
    "\n",
    "l2g_table_processed_w_trait.first()"
   ]
  },
  {
   "cell_type": "code",
   "execution_count": 252,
   "metadata": {},
   "outputs": [
    {
     "data": {
      "text/plain": [
       "165088"
      ]
     },
     "execution_count": 252,
     "metadata": {},
     "output_type": "execute_result"
    }
   ],
   "source": [
    "# Ontology expansion to make it comparable with Eric's GS\n",
    "\n",
    "l2g_table_processed_w_trait_expanded = (\n",
    "    \n",
    "    l2g_table_processed_w_trait.join(disease_idx, disease_idx['id'] == l2g_table_processed_w_trait['trait_id'], how='left')\n",
    "    .withColumn('disease_id', F.coalesce('ids', F.array(F.col('trait_id'))))\n",
    "    .withColumn('disease_id', F.explode('disease_id'))\n",
    "    .select(F.col('gene_id').alias('predicted_gene_id'), 'disease_id')\n",
    "    .distinct()\n",
    "    .persist()\n",
    "    \n",
    ")\n",
    "\n",
    "l2g_table_processed_w_trait_expanded.count()"
   ]
  },
  {
   "cell_type": "code",
   "execution_count": 253,
   "metadata": {},
   "outputs": [
    {
     "data": {
      "text/plain": [
       "Row(disease_id='EFO_0000618', gene_id='ENSG00000196344', predicted_gene_id='ENSG00000143786', exactMatch=False)"
      ]
     },
     "execution_count": 253,
     "metadata": {},
     "output_type": "execute_result"
    }
   ],
   "source": [
    "# How well does l2g predictions perform against the GS?\n",
    "\n",
    "benchmark = (\n",
    "    eric_gs_expanded.join(l2g_table_processed_w_trait_expanded, on='disease_id', how='left')\n",
    "    .withColumn(\n",
    "        'exactMatch',\n",
    "        F.when(F.col('gene_id') == F.col('predicted_gene_id'), True).otherwise(False)\n",
    "    )\n",
    "    .distinct()\n",
    ")\n",
    "\n",
    "benchmark.first()"
   ]
  },
  {
   "cell_type": "code",
   "execution_count": 254,
   "metadata": {},
   "outputs": [
    {
     "name": "stdout",
     "output_type": "stream",
     "text": [
      "3311 out of 8151 Eric's gene/trait pairs overlap with those inferred from L2G.\n"
     ]
    }
   ],
   "source": [
    "benchmark.filter(F.col('exactMatch')).select('disease_id', 'gene_id').distinct().count()\n",
    "\n",
    "print(f\"{benchmark.filter(F.col('exactMatch')).select('disease_id', 'gene_id').distinct().count()} out of {benchmark.select('disease_id', 'gene_id').distinct().count()} Eric's gene/trait pairs overlap with those inferred from L2G.\")"
   ]
  },
  {
   "cell_type": "code",
   "execution_count": null,
   "metadata": {},
   "outputs": [],
   "source": []
  }
 ],
 "metadata": {
  "kernelspec": {
   "display_name": "Python 3",
   "language": "python",
   "name": "python3"
  },
  "language_info": {
   "codemirror_mode": {
    "name": "ipython",
    "version": 3
   },
   "file_extension": ".py",
   "mimetype": "text/x-python",
   "name": "python",
   "nbconvert_exporter": "python",
   "pygments_lexer": "ipython3",
   "version": "3.7.9"
  }
 },
 "nbformat": 4,
 "nbformat_minor": 4
}
