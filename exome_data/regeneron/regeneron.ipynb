{
 "cells": [
  {
   "cell_type": "code",
   "execution_count": null,
   "metadata": {},
   "outputs": [],
   "source": [
    "from pyspark.sql import DataFrame, SparkSession, Window\n",
    "from pyspark import StorageLevel\n",
    "import pyspark.sql.functions as F\n",
    "\n",
    "spark = (SparkSession.builder\n",
    "         .master('local[*]')\n",
    "         .config(\"spark.driver.memory\", \"15g\")\n",
    "         .appName('spark')\n",
    "         .getOrCreate())"
   ]
  },
  {
   "cell_type": "code",
   "execution_count": 10,
   "metadata": {},
   "outputs": [
    {
     "name": "stderr",
     "output_type": "stream",
     "text": [
      "                                                                                \r"
     ]
    }
   ],
   "source": [
    "gwas = spark.read.csv('data/studies_alternative', header=True, inferSchema=True, sep='\\t')\n",
    "gwas_assoc = spark.read.csv('data/alternative', header=True, inferSchema=True, sep='\\t')"
   ]
  },
  {
   "cell_type": "code",
   "execution_count": 18,
   "metadata": {},
   "outputs": [],
   "source": [
    "regeneron = gwas.filter(F.col('LINK').contains('34662886'))\n",
    "regeneron_assoc = gwas_assoc.filter(F.col('LINK').contains('34662886'))"
   ]
  },
  {
   "cell_type": "code",
   "execution_count": 17,
   "metadata": {},
   "outputs": [
    {
     "data": {
      "text/plain": [
       "7972"
      ]
     },
     "execution_count": 17,
     "metadata": {},
     "output_type": "execute_result"
    }
   ],
   "source": [
    "regeneron.count()"
   ]
  },
  {
   "cell_type": "code",
   "execution_count": 20,
   "metadata": {},
   "outputs": [
    {
     "data": {
      "text/plain": [
       "Row(DATE ADDED TO CATALOG='2022-03-01', PUBMEDID=34662886, FIRST AUTHOR='Backman JD', DATE='2021-10-18', JOURNAL='Nature', LINK='www.ncbi.nlm.nih.gov/pubmed/34662886', STUDY='Exome sequencing and analysis of 454,787 UK Biobank participants.', DISEASE/TRAIT='Apolipoprotein B levels (UKB data field 30640)', INITIAL SAMPLE SIZE='410,113 European ancestry individuals', REPLICATION SAMPLE SIZE='NA', REGION=None, CHR_ID=None, CHR_POS=None, REPORTED GENE(S)=None, MAPPED_GENE=None, UPSTREAM_GENE_ID=None, DOWNSTREAM_GENE_ID=None, SNP_GENE_IDS=None, UPSTREAM_GENE_DISTANCE=None, DOWNSTREAM_GENE_DISTANCE=None, STRONGEST SNP-RISK ALLELE='chr19:44428735-CT', SNPS='chr19:44428735', MERGED=0, SNP_ID_CURRENT=None, CONTEXT=None, INTERGENIC=1, RISK ALLELE FREQUENCY='0.0054', P-VALUE=3e-58, PVALUE_MLOG=57.52287874528034, P-VALUE (TEXT)=None, OR or BETA=0.231, 95% CI (TEXT)='[-0.259--0.203] unit decrease', PLATFORM [SNPS PASSING QC]='Affymetrix, Illumina [530598]', CNV='N', MAPPED_TRAIT='apolipoprotein B measurement', MAPPED_TRAIT_URI='http://www.ebi.ac.uk/efo/EFO_0004615', STUDY ACCESSION='GCST90079018', GENOTYPING TECHNOLOGY='Genome-wide genotyping array, Exome-wide sequencing [UK Biobank/UK BiLEVE Axiom Array]')"
      ]
     },
     "execution_count": 20,
     "metadata": {},
     "output_type": "execute_result"
    }
   ],
   "source": [
    "regeneron_assoc.first()"
   ]
  },
  {
   "cell_type": "code",
   "execution_count": null,
   "metadata": {},
   "outputs": [],
   "source": []
  }
 ],
 "metadata": {
  "interpreter": {
   "hash": "f4b6dc36c032161cfa2dcc93f31fcb0bfb11bc6fea6f0772b15a0710e4778680"
  },
  "kernelspec": {
   "display_name": "Python 3.7.9 ('pyspark')",
   "language": "python",
   "name": "python3"
  },
  "language_info": {
   "codemirror_mode": {
    "name": "ipython",
    "version": 3
   },
   "file_extension": ".py",
   "mimetype": "text/x-python",
   "name": "python",
   "nbconvert_exporter": "python",
   "pygments_lexer": "ipython3",
   "version": "3.7.9"
  },
  "orig_nbformat": 4
 },
 "nbformat": 4,
 "nbformat_minor": 2
}
