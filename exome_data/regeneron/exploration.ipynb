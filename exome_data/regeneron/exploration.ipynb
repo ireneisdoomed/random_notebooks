{
 "cells": [
  {
   "cell_type": "code",
   "execution_count": null,
   "metadata": {},
   "outputs": [],
   "source": [
    "from pyspark.sql import DataFrame, SparkSession, Window\n",
    "import pyspark.sql.functions as F\n",
    "\n",
    "spark = (SparkSession.builder\n",
    "         .master('local[*]')\n",
    "         .config(\"spark.driver.memory\", \"15g\")\n",
    "         .appName('spark')\n",
    "         .getOrCreate())"
   ]
  },
  {
   "cell_type": "code",
   "execution_count": 13,
   "metadata": {},
   "outputs": [],
   "source": [
    "def drop_fully_null_columns(df, but_keep_these=[]):\n",
    "    \"\"\"Drops DataFrame columns that are fully null\n",
    "    (i.e. the maximum value is null)\n",
    "\n",
    "    Arguments:\n",
    "        df {spark DataFrame} -- spark dataframe\n",
    "        but_keep_these {list} -- list of columns to keep without checking for nulls\n",
    "\n",
    "    Returns:\n",
    "        spark DataFrame -- dataframe with fully null columns removed\n",
    "    \"\"\"\n",
    "\n",
    "    # skip checking some columns\n",
    "    cols_to_check = [col for col in df.columns if col not in but_keep_these]\n",
    "    if len(cols_to_check) > 0:\n",
    "        # drop columns for which the max is None\n",
    "        rows_with_data = df.select(*cols_to_check).groupby().agg(*[F.max(c).alias(c) for c in cols_to_check]).take(1)[0]\n",
    "        cols_to_drop = [c for c, const in rows_with_data.asDict().items() if const == None]\n",
    "        new_df = df.drop(*cols_to_drop)\n",
    "\n",
    "        return new_df\n",
    "    else:\n",
    "        return df"
   ]
  },
  {
   "cell_type": "code",
   "execution_count": 38,
   "metadata": {},
   "outputs": [
    {
     "data": {
      "text/plain": [
       "Row(DATE ADDED TO CATALOG='2022-03-01', PUBMEDID=34662886, FIRST AUTHOR='Backman JD', DATE='2021-10-18', JOURNAL='Nature', LINK='www.ncbi.nlm.nih.gov/pubmed/34662886', STUDY='Exome sequencing and analysis of 454,787 UK Biobank participants.', DISEASE/TRAIT='Usual walking pace - Brisk pace (UKB data field 924)', INITIAL SAMPLE SIZE='176,054 European ancestry cases, 252,201 European ancestry controls', REPLICATION SAMPLE SIZE='NA', PLATFORM [SNPS PASSING QC]='Affymetrix, Illumina [546001]', ASSOCIATION COUNT=0, MAPPED_TRAIT='physical activity measurement', MAPPED_TRAIT_URI='http://www.ebi.ac.uk/efo/EFO_0008002', STUDY ACCESSION='GCST90079511', GENOTYPING TECHNOLOGY='Genome-wide genotyping array, Exome-wide sequencing [UK Biobank/UK BiLEVE Axiom Array]')"
      ]
     },
     "execution_count": 38,
     "metadata": {},
     "output_type": "execute_result"
    }
   ],
   "source": []
  },
  {
   "cell_type": "code",
   "execution_count": 43,
   "metadata": {},
   "outputs": [
    {
     "name": "stderr",
     "output_type": "stream",
     "text": [
      "                                                                                \r"
     ]
    },
    {
     "name": "stdout",
     "output_type": "stream",
     "text": [
      "root\n",
      " |-- DATE ADDED TO CATALOG: string (nullable = true)\n",
      " |-- PUBMEDID: integer (nullable = true)\n",
      " |-- FIRST AUTHOR: string (nullable = true)\n",
      " |-- DATE: string (nullable = true)\n",
      " |-- JOURNAL: string (nullable = true)\n",
      " |-- LINK: string (nullable = true)\n",
      " |-- STUDY: string (nullable = true)\n",
      " |-- DISEASE/TRAIT: string (nullable = true)\n",
      " |-- INITIAL SAMPLE SIZE: string (nullable = true)\n",
      " |-- REPLICATION SAMPLE SIZE: string (nullable = true)\n",
      " |-- STRONGEST SNP-RISK ALLELE: string (nullable = true)\n",
      " |-- SNPS: string (nullable = true)\n",
      " |-- MERGED: integer (nullable = true)\n",
      " |-- INTERGENIC: integer (nullable = true)\n",
      " |-- RISK ALLELE FREQUENCY: string (nullable = true)\n",
      " |-- P-VALUE: double (nullable = true)\n",
      " |-- PVALUE_MLOG: double (nullable = true)\n",
      " |-- OR or BETA: double (nullable = true)\n",
      " |-- 95% CI (TEXT): string (nullable = true)\n",
      " |-- PLATFORM [SNPS PASSING QC]: string (nullable = true)\n",
      " |-- CNV: string (nullable = true)\n",
      " |-- MAPPED_TRAIT: string (nullable = true)\n",
      " |-- MAPPED_TRAIT_URI: string (nullable = true)\n",
      " |-- STUDY ACCESSION: string (nullable = true)\n",
      " |-- GENOTYPING TECHNOLOGY: string (nullable = true)\n",
      "\n",
      "None\n",
      "Row(DATE ADDED TO CATALOG='2022-03-01', PUBMEDID=34662886, FIRST AUTHOR='Backman JD', DATE='2021-10-18', JOURNAL='Nature', LINK='www.ncbi.nlm.nih.gov/pubmed/34662886', STUDY='Exome sequencing and analysis of 454,787 UK Biobank participants.', DISEASE/TRAIT='Apolipoprotein B levels (UKB data field 30640)', INITIAL SAMPLE SIZE='410,113 European ancestry individuals', REPLICATION SAMPLE SIZE='NA', STRONGEST SNP-RISK ALLELE='chr19:44428735-CT', SNPS='chr19:44428735', MERGED=0, INTERGENIC=1, RISK ALLELE FREQUENCY='0.0054', P-VALUE=3e-58, PVALUE_MLOG=57.52287874528034, OR or BETA=0.231, 95% CI (TEXT)='[-0.259--0.203] unit decrease', PLATFORM [SNPS PASSING QC]='Affymetrix, Illumina [530598]', CNV='N', MAPPED_TRAIT='apolipoprotein B measurement', MAPPED_TRAIT_URI='http://www.ebi.ac.uk/efo/EFO_0004615', STUDY ACCESSION='GCST90079018', GENOTYPING TECHNOLOGY='Genome-wide genotyping array, Exome-wide sequencing [UK Biobank/UK BiLEVE Axiom Array]')\n"
     ]
    }
   ],
   "source": [
    "# gwas_studies = spark.read.csv('data/studies_alternative', header=True, inferSchema=True, sep='\\t')\n",
    "\n",
    "studies = (\n",
    "    spark.read.csv('data/studies_alternative', header=True, inferSchema=True, sep='\\t')\n",
    "    .filter(F.col('LINK').contains('34662886'))\n",
    ")\n",
    "\n",
    "assocs = (\n",
    "    spark.read.csv('data/alternative', header=True, inferSchema=True, sep='\\t')\n",
    "    .filter(F.col('LINK').contains('34662886'))\n",
    ")\n",
    "assocs = drop_fully_null_columns(assocs)\n",
    "studies = drop_fully_null_columns(studies)\n",
    "\n",
    "print(assocs.printSchema())\n",
    "print(assocs.first())"
   ]
  },
  {
   "cell_type": "code",
   "execution_count": 44,
   "metadata": {},
   "outputs": [
    {
     "name": "stdout",
     "output_type": "stream",
     "text": [
      "root\n",
      " |-- DATE ADDED TO CATALOG: string (nullable = true)\n",
      " |-- PUBMEDID: integer (nullable = true)\n",
      " |-- FIRST AUTHOR: string (nullable = true)\n",
      " |-- DATE: string (nullable = true)\n",
      " |-- JOURNAL: string (nullable = true)\n",
      " |-- LINK: string (nullable = true)\n",
      " |-- STUDY: string (nullable = true)\n",
      " |-- DISEASE/TRAIT: string (nullable = true)\n",
      " |-- INITIAL SAMPLE SIZE: string (nullable = true)\n",
      " |-- REPLICATION SAMPLE SIZE: string (nullable = true)\n",
      " |-- PLATFORM [SNPS PASSING QC]: string (nullable = true)\n",
      " |-- ASSOCIATION COUNT: integer (nullable = true)\n",
      " |-- MAPPED_TRAIT: string (nullable = true)\n",
      " |-- MAPPED_TRAIT_URI: string (nullable = true)\n",
      " |-- STUDY ACCESSION: string (nullable = true)\n",
      " |-- GENOTYPING TECHNOLOGY: string (nullable = true)\n",
      "\n",
      "None\n",
      "Row(DATE ADDED TO CATALOG='2022-03-01', PUBMEDID=34662886, FIRST AUTHOR='Backman JD', DATE='2021-10-18', JOURNAL='Nature', LINK='www.ncbi.nlm.nih.gov/pubmed/34662886', STUDY='Exome sequencing and analysis of 454,787 UK Biobank participants.', DISEASE/TRAIT='Usual walking pace - Brisk pace (UKB data field 924)', INITIAL SAMPLE SIZE='176,054 European ancestry cases, 252,201 European ancestry controls', REPLICATION SAMPLE SIZE='NA', PLATFORM [SNPS PASSING QC]='Affymetrix, Illumina [546001]', ASSOCIATION COUNT=0, MAPPED_TRAIT='physical activity measurement', MAPPED_TRAIT_URI='http://www.ebi.ac.uk/efo/EFO_0008002', STUDY ACCESSION='GCST90079511', GENOTYPING TECHNOLOGY='Genome-wide genotyping array, Exome-wide sequencing [UK Biobank/UK BiLEVE Axiom Array]')\n"
     ]
    }
   ],
   "source": [
    "print(studies.printSchema())\n",
    "print(studies.first())"
   ]
  },
  {
   "cell_type": "code",
   "execution_count": 49,
   "metadata": {},
   "outputs": [
    {
     "data": {
      "text/plain": [
       "200"
      ]
     },
     "execution_count": 49,
     "metadata": {},
     "output_type": "execute_result"
    }
   ],
   "source": [
    "studies.filter(F.col('ASSOCIATION COUNT') != 0).count()"
   ]
  },
  {
   "cell_type": "code",
   "execution_count": 48,
   "metadata": {},
   "outputs": [
    {
     "data": {
      "text/plain": [
       "1028"
      ]
     },
     "execution_count": 48,
     "metadata": {},
     "output_type": "execute_result"
    }
   ],
   "source": [
    "studies.select('MAPPED_TRAIT_URI').distinct().count()"
   ]
  },
  {
   "cell_type": "code",
   "execution_count": null,
   "metadata": {},
   "outputs": [],
   "source": []
  }
 ],
 "metadata": {
  "interpreter": {
   "hash": "f4b6dc36c032161cfa2dcc93f31fcb0bfb11bc6fea6f0772b15a0710e4778680"
  },
  "kernelspec": {
   "display_name": "Python 3.7.9 ('pyspark')",
   "language": "python",
   "name": "python3"
  },
  "language_info": {
   "codemirror_mode": {
    "name": "ipython",
    "version": 3
   },
   "file_extension": ".py",
   "mimetype": "text/x-python",
   "name": "python",
   "nbconvert_exporter": "python",
   "pygments_lexer": "ipython3",
   "version": "3.7.9"
  },
  "orig_nbformat": 4
 },
 "nbformat": 4,
 "nbformat_minor": 2
}
