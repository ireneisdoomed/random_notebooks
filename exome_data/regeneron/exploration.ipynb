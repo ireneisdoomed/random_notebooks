{
 "cells": [
  {
   "cell_type": "code",
   "execution_count": null,
   "metadata": {},
   "outputs": [],
   "source": [
    "import pandas as pd\n",
    "from pyspark.sql import DataFrame, SparkSession, Window\n",
    "import pyspark.sql.functions as F\n",
    "\n",
    "spark = (SparkSession.builder\n",
    "         .master('local[*]')\n",
    "         .config(\"spark.driver.memory\", \"15g\")\n",
    "         .appName('spark')\n",
    "         .getOrCreate())"
   ]
  },
  {
   "cell_type": "code",
   "execution_count": 18,
   "metadata": {},
   "outputs": [],
   "source": [
    "def drop_fully_null_columns(df, but_keep_these=[]):\n",
    "    \"\"\"Drops DataFrame columns that are fully null\n",
    "    (i.e. the maximum value is null)\n",
    "\n",
    "    Arguments:\n",
    "        df {spark DataFrame} -- spark dataframe\n",
    "        but_keep_these {list} -- list of columns to keep without checking for nulls\n",
    "\n",
    "    Returns:\n",
    "        spark DataFrame -- dataframe with fully null columns removed\n",
    "    \"\"\"\n",
    "\n",
    "    # skip checking some columns\n",
    "    cols_to_check = [col for col in df.columns if col not in but_keep_these]\n",
    "    if len(cols_to_check) > 0:\n",
    "        # drop columns for which the max is None\n",
    "        rows_with_data = df.select(*cols_to_check).groupby().agg(*[F.max(c).alias(c) for c in cols_to_check]).take(1)[0]\n",
    "        cols_to_drop = [c for c, const in rows_with_data.asDict().items() if const == None]\n",
    "        new_df = df.drop(*cols_to_drop)\n",
    "\n",
    "        return new_df\n",
    "    else:\n",
    "        return df"
   ]
  },
  {
   "cell_type": "markdown",
   "metadata": {},
   "source": [
    "## Data from GWAS Catalog"
   ]
  },
  {
   "cell_type": "code",
   "execution_count": 19,
   "metadata": {},
   "outputs": [
    {
     "name": "stderr",
     "output_type": "stream",
     "text": [
      "22/03/21 16:10:12 WARN package: Truncated the string representation of a plan since it was too large. This behavior can be adjusted by setting 'spark.sql.debug.maxToStringFields'.\n",
      "                                                                                \r"
     ]
    },
    {
     "name": "stdout",
     "output_type": "stream",
     "text": [
      "root\n",
      " |-- DATE ADDED TO CATALOG: string (nullable = true)\n",
      " |-- PUBMEDID: integer (nullable = true)\n",
      " |-- FIRST AUTHOR: string (nullable = true)\n",
      " |-- DATE: string (nullable = true)\n",
      " |-- JOURNAL: string (nullable = true)\n",
      " |-- LINK: string (nullable = true)\n",
      " |-- STUDY: string (nullable = true)\n",
      " |-- DISEASE/TRAIT: string (nullable = true)\n",
      " |-- INITIAL SAMPLE SIZE: string (nullable = true)\n",
      " |-- REPLICATION SAMPLE SIZE: string (nullable = true)\n",
      " |-- STRONGEST SNP-RISK ALLELE: string (nullable = true)\n",
      " |-- SNPS: string (nullable = true)\n",
      " |-- MERGED: integer (nullable = true)\n",
      " |-- INTERGENIC: integer (nullable = true)\n",
      " |-- RISK ALLELE FREQUENCY: string (nullable = true)\n",
      " |-- P-VALUE: double (nullable = true)\n",
      " |-- PVALUE_MLOG: double (nullable = true)\n",
      " |-- OR or BETA: double (nullable = true)\n",
      " |-- 95% CI (TEXT): string (nullable = true)\n",
      " |-- PLATFORM [SNPS PASSING QC]: string (nullable = true)\n",
      " |-- CNV: string (nullable = true)\n",
      " |-- MAPPED_TRAIT: string (nullable = true)\n",
      " |-- MAPPED_TRAIT_URI: string (nullable = true)\n",
      " |-- STUDY ACCESSION: string (nullable = true)\n",
      " |-- GENOTYPING TECHNOLOGY: string (nullable = true)\n",
      "\n",
      "None\n",
      "Row(DATE ADDED TO CATALOG='2022-03-01', PUBMEDID=34662886, FIRST AUTHOR='Backman JD', DATE='2021-10-18', JOURNAL='Nature', LINK='www.ncbi.nlm.nih.gov/pubmed/34662886', STUDY='Exome sequencing and analysis of 454,787 UK Biobank participants.', DISEASE/TRAIT='Apolipoprotein B levels (UKB data field 30640)', INITIAL SAMPLE SIZE='410,113 European ancestry individuals', REPLICATION SAMPLE SIZE='NA', STRONGEST SNP-RISK ALLELE='chr19:44428735-CT', SNPS='chr19:44428735', MERGED=0, INTERGENIC=1, RISK ALLELE FREQUENCY='0.0054', P-VALUE=3e-58, PVALUE_MLOG=57.52287874528034, OR or BETA=0.231, 95% CI (TEXT)='[-0.259--0.203] unit decrease', PLATFORM [SNPS PASSING QC]='Affymetrix, Illumina [530598]', CNV='N', MAPPED_TRAIT='apolipoprotein B measurement', MAPPED_TRAIT_URI='http://www.ebi.ac.uk/efo/EFO_0004615', STUDY ACCESSION='GCST90079018', GENOTYPING TECHNOLOGY='Genome-wide genotyping array, Exome-wide sequencing [UK Biobank/UK BiLEVE Axiom Array]')\n"
     ]
    }
   ],
   "source": [
    "studies = (\n",
    "    spark.read.csv('data/gwas_catalog/studies_alternative', header=True, inferSchema=True, sep='\\t')\n",
    "    .filter(F.col('LINK').contains('34662886'))\n",
    ")\n",
    "\n",
    "assocs = (\n",
    "    spark.read.csv('data/gwas_catalog/alternative', header=True, inferSchema=True, sep='\\t')\n",
    "    .filter(F.col('LINK').contains('34662886'))\n",
    ")\n",
    "assocs = drop_fully_null_columns(assocs)\n",
    "studies = drop_fully_null_columns(studies)\n",
    "\n",
    "print(assocs.printSchema())\n",
    "print(assocs.first())"
   ]
  },
  {
   "cell_type": "code",
   "execution_count": 44,
   "metadata": {},
   "outputs": [
    {
     "name": "stdout",
     "output_type": "stream",
     "text": [
      "root\n",
      " |-- DATE ADDED TO CATALOG: string (nullable = true)\n",
      " |-- PUBMEDID: integer (nullable = true)\n",
      " |-- FIRST AUTHOR: string (nullable = true)\n",
      " |-- DATE: string (nullable = true)\n",
      " |-- JOURNAL: string (nullable = true)\n",
      " |-- LINK: string (nullable = true)\n",
      " |-- STUDY: string (nullable = true)\n",
      " |-- DISEASE/TRAIT: string (nullable = true)\n",
      " |-- INITIAL SAMPLE SIZE: string (nullable = true)\n",
      " |-- REPLICATION SAMPLE SIZE: string (nullable = true)\n",
      " |-- PLATFORM [SNPS PASSING QC]: string (nullable = true)\n",
      " |-- ASSOCIATION COUNT: integer (nullable = true)\n",
      " |-- MAPPED_TRAIT: string (nullable = true)\n",
      " |-- MAPPED_TRAIT_URI: string (nullable = true)\n",
      " |-- STUDY ACCESSION: string (nullable = true)\n",
      " |-- GENOTYPING TECHNOLOGY: string (nullable = true)\n",
      "\n",
      "None\n",
      "Row(DATE ADDED TO CATALOG='2022-03-01', PUBMEDID=34662886, FIRST AUTHOR='Backman JD', DATE='2021-10-18', JOURNAL='Nature', LINK='www.ncbi.nlm.nih.gov/pubmed/34662886', STUDY='Exome sequencing and analysis of 454,787 UK Biobank participants.', DISEASE/TRAIT='Usual walking pace - Brisk pace (UKB data field 924)', INITIAL SAMPLE SIZE='176,054 European ancestry cases, 252,201 European ancestry controls', REPLICATION SAMPLE SIZE='NA', PLATFORM [SNPS PASSING QC]='Affymetrix, Illumina [546001]', ASSOCIATION COUNT=0, MAPPED_TRAIT='physical activity measurement', MAPPED_TRAIT_URI='http://www.ebi.ac.uk/efo/EFO_0008002', STUDY ACCESSION='GCST90079511', GENOTYPING TECHNOLOGY='Genome-wide genotyping array, Exome-wide sequencing [UK Biobank/UK BiLEVE Axiom Array]')\n"
     ]
    }
   ],
   "source": [
    "print(studies.printSchema())\n",
    "print(studies.first())"
   ]
  },
  {
   "cell_type": "code",
   "execution_count": 49,
   "metadata": {},
   "outputs": [
    {
     "data": {
      "text/plain": [
       "200"
      ]
     },
     "execution_count": 49,
     "metadata": {},
     "output_type": "execute_result"
    }
   ],
   "source": [
    "studies.filter(F.col('ASSOCIATION COUNT') != 0).count()"
   ]
  },
  {
   "cell_type": "code",
   "execution_count": 48,
   "metadata": {},
   "outputs": [
    {
     "data": {
      "text/plain": [
       "1028"
      ]
     },
     "execution_count": 48,
     "metadata": {},
     "output_type": "execute_result"
    }
   ],
   "source": [
    "studies.select('MAPPED_TRAIT_URI').distinct().count()"
   ]
  },
  {
   "cell_type": "markdown",
   "metadata": {},
   "source": [
    "## Data from publication\n",
    "\n",
    "Metrics:\n",
    "- 8865 variant/gene/trait associations (`pub_data.filter(items=['Gene', 'Trait', 'Marker']).drop_duplicates().shape[0]`)\n",
    "- 2283 gene/trait pairs (`pub_data.filter(items=['Gene', 'Trait']).drop_duplicates().shape[0]`)\n",
    "- 18285 records. Breakdown per ancestry:\n",
    "  - EUR    17544\n",
    "  - SAS      433\n",
    "  - AFR      182\n",
    "  - EAS      126\n",
    "- 564 genes (`pub_data.Gene.unique().shape[0]`)\n",
    "- 492 traits (`pub_data.Trait.unique().shape[0]`)\n",
    "- 611 variants (`pub_data.Marker.unique().shape[0]`)\n",
    "- 973 GWAS Catalog accessions (`assocs_pub['Study Accession'].unique().shape[0]`). 168 associations without a study.\n",
    "- 0 GWAS Catalog studies overlap "
   ]
  },
  {
   "cell_type": "code",
   "execution_count": 110,
   "metadata": {},
   "outputs": [
    {
     "data": {
      "text/plain": [
       "Ancestry                                                                                                         SAS\n",
       "Gene                                                                                                            ALPL\n",
       "Trait                                                                                   Alkaline phosphatase (30610)\n",
       "Trait description                                                  Measured by AMP(IFCC) analysis on a Beckman Co...\n",
       "Trait type                                                                                                        QT\n",
       "                                                                                         ...                        \n",
       "Effect direction, UKB SAS ancestry                                                                               NaN\n",
       "Effect direction consistent with EUR, UKB SAS ancestry                                                           NaN\n",
       "N cases with 0|1|2 copies of effect allele, UKB SAS ancestry                                                     NaN\n",
       "N controls with 0|1|2 copies of effect allele, UKB SAS ancestry                                                  NaN\n",
       "Study Accession                                                                                         GCST90079013\n",
       "Name: 0, Length: 61, dtype: object"
      ]
     },
     "execution_count": 110,
     "metadata": {},
     "output_type": "execute_result"
    }
   ],
   "source": [
    "# Load raw data\n",
    "assocs_pub_non_european = pd.read_excel('data/publication/41586_2021_4103_MOESM5_ESM.xlsx', sheet_name='SD3')\n",
    "assocs_pub_european = pd.read_excel('data/publication/41586_2021_4103_MOESM5_ESM.xlsx', sheet_name='SD2')\n",
    "summary_stats = (\n",
    "    pd.read_excel('data/publication/41586_2021_4103_MOESM5_ESM.xlsx', sheet_name='SD4', skiprows=0, header=1).iloc[2:]\n",
    "    .reset_index(drop=True)\n",
    "    .filter(items=['Reported trait', 'Study Accession'])\n",
    ")\n",
    "\n",
    "# Combine Data 2 with Data 3 and merge with sumstats to get study accession\n",
    "assocs_pub = (\n",
    "    pd.concat([assocs_pub_non_european, assocs_pub_european], ignore_index=True)\n",
    "    .fillna(value={'Ancestry': 'EUR'})\n",
    "    .drop_duplicates()\n",
    ")\n",
    "assocs_pub = assocs_pub.merge(summary_stats, left_on='Trait', right_on='Reported trait', how='left').drop('Reported trait', axis=1)\n",
    "\n",
    "assocs_pub.iloc[0]\n"
   ]
  },
  {
   "cell_type": "code",
   "execution_count": null,
   "metadata": {},
   "outputs": [],
   "source": []
  },
  {
   "cell_type": "code",
   "execution_count": 117,
   "metadata": {},
   "outputs": [
    {
     "name": "stdout",
     "output_type": "stream",
     "text": [
      "Ancestry                                                                                                         EUR\n",
      "Gene                                                                                                           ACAP3\n",
      "Trait                                                                                  6mm weak meridian left (5097)\n",
      "Trait description                                                  This is the weak meridian of keratometry resul...\n",
      "Trait type                                                                                                        QT\n",
      "                                                                                         ...                        \n",
      "Effect direction, UKB SAS ancestry                                                                                 -\n",
      "Effect direction consistent with EUR, UKB SAS ancestry                                                           Yes\n",
      "N cases with 0|1|2 copies of effect allele, UKB SAS ancestry                                               3900|36|1\n",
      "N controls with 0|1|2 copies of effect allele, UKB SAS ancestry                                             NA|NA|NA\n",
      "Study Accession                                                                                         GCST90083260\n",
      "Name: 742, Length: 61, dtype: object\n"
     ]
    }
   ],
   "source": [
    "print(assocs_pub.query('`Study Accession` == \"GCST90083260\"').iloc[0])"
   ]
  },
  {
   "cell_type": "code",
   "execution_count": 26,
   "metadata": {},
   "outputs": [
    {
     "name": "stdout",
     "output_type": "stream",
     "text": [
      "+------------------------------------------------------------------------------------------------------------------------------------------------+\n",
      "|DISEASE/TRAIT                                                                                                                                   |\n",
      "+------------------------------------------------------------------------------------------------------------------------------------------------+\n",
      "|Usual walking pace - Brisk pace (924)                                                                                                           |\n",
      "|Actions taken following self harm - Use a helpline voluntary organization (20554) (Gene-based burden)                                           |\n",
      "|Usual walking pace - Slow pace (924)                                                                                                            |\n",
      "|Activities undertaken to treat anxiety - Other therapeutic activities such as mindfulness yoga or art classes (20550) (Gene-based burden)       |\n",
      "|Usual walking pace - Steady average pace (924)                                                                                                  |\n",
      "|Activities undertaken to treat anxiety - Talking therapies such as psychotherapy counselling group therapy or CBT (20550) (Gene-based burden)   |\n",
      "|Reaction time - Duration to first press of snap button in each round (404)                                                                      |\n",
      "|Activities undertaken to treat depression - Other therapeutic activities such as mindfulness yoga or art classes (20547) (Gene-based burden)    |\n",
      "|Seen doctor for nerves anxiety tension or depression (2090)                                                                                     |\n",
      "|Activities undertaken to treat depression - Talking therapies such as psychotherapy counselling group therapy or CBT (20547) (Gene-based burden)|\n",
      "|Mean time to correctly identify matches (20023)                                                                                                 |\n",
      "|Adopted father still alive (3912) (Gene-based burden)                                                                                           |\n",
      "|Frequency of stair climbing in last 4 weeks - 11 to 15 times a day (943)                                                                        |\n",
      "|Adopted mother still alive (3942) (Gene-based burden)                                                                                           |\n",
      "|Frequency of stair climbing in last 4 weeks - 16 to 20 times a day (943)                                                                        |\n",
      "|Adult asthma (Gene-based burden)                                                                                                                |\n",
      "|Frequency of stair climbing in last 4 weeks - More than 20 times a day (943)                                                                    |\n",
      "|Adult asthma vs allergic disease (Gene-based burden)                                                                                            |\n",
      "|Frequency of stair climbing in last 4 weeks - None (943)                                                                                        |\n",
      "|Age at cancer diagnosis (40008) (Gene-based burden)                                                                                             |\n",
      "+------------------------------------------------------------------------------------------------------------------------------------------------+\n",
      "only showing top 20 rows\n",
      "\n"
     ]
    }
   ],
   "source": [
    "## GWAS Catalog report very few associations as being significant, why is that?\n",
    "# Traits in GWASCat and Regeneron are not identical, I have to make a conversion:\n",
    "# Raw: \"Red blood cell erythrocyte distribution width (30070)\" / GWASCat: \"Red blood cell erythrocyte distribution width (UKB data field 30070)\"\n",
    "\n",
    "studies.withColumn('DISEASE/TRAIT', F.regexp_replace('DISEASE/TRAIT', 'UKB data field ', '')).select('DISEASE/TRAIT').show(truncate=False)"
   ]
  },
  {
   "cell_type": "code",
   "execution_count": 118,
   "metadata": {},
   "outputs": [
    {
     "name": "stdout",
     "output_type": "stream",
     "text": [
      "8973 associations are not in GWAS Catalog\n"
     ]
    },
    {
     "data": {
      "text/html": [
       "<div>\n",
       "<style scoped>\n",
       "    .dataframe tbody tr th:only-of-type {\n",
       "        vertical-align: middle;\n",
       "    }\n",
       "\n",
       "    .dataframe tbody tr th {\n",
       "        vertical-align: top;\n",
       "    }\n",
       "\n",
       "    .dataframe thead th {\n",
       "        text-align: right;\n",
       "    }\n",
       "</style>\n",
       "<table border=\"1\" class=\"dataframe\">\n",
       "  <thead>\n",
       "    <tr style=\"text-align: right;\">\n",
       "      <th></th>\n",
       "      <th>Gene</th>\n",
       "      <th>Trait</th>\n",
       "      <th>Marker</th>\n",
       "      <th>Study Accession</th>\n",
       "      <th>P-value</th>\n",
       "      <th>Marker type</th>\n",
       "      <th>STUDY ACCESSION</th>\n",
       "    </tr>\n",
       "  </thead>\n",
       "  <tbody>\n",
       "    <tr>\n",
       "      <th>710</th>\n",
       "      <td>ALPL</td>\n",
       "      <td>Alkaline phosphatase (30610)</td>\n",
       "      <td>M3.0001</td>\n",
       "      <td>GCST90082999</td>\n",
       "      <td>1.140000e-13</td>\n",
       "      <td>Burden</td>\n",
       "      <td>NaN</td>\n",
       "    </tr>\n",
       "    <tr>\n",
       "      <th>711</th>\n",
       "      <td>ALPL</td>\n",
       "      <td>Alkaline phosphatase (30610)</td>\n",
       "      <td>M3.001</td>\n",
       "      <td>GCST90082999</td>\n",
       "      <td>1.140000e-13</td>\n",
       "      <td>Burden</td>\n",
       "      <td>NaN</td>\n",
       "    </tr>\n",
       "    <tr>\n",
       "      <th>712</th>\n",
       "      <td>ALPL</td>\n",
       "      <td>Alkaline phosphatase (30610)</td>\n",
       "      <td>M3.01</td>\n",
       "      <td>GCST90082999</td>\n",
       "      <td>1.140000e-13</td>\n",
       "      <td>Burden</td>\n",
       "      <td>NaN</td>\n",
       "    </tr>\n",
       "    <tr>\n",
       "      <th>713</th>\n",
       "      <td>ALPL</td>\n",
       "      <td>Alkaline phosphatase (30610)</td>\n",
       "      <td>M3.1</td>\n",
       "      <td>GCST90082999</td>\n",
       "      <td>1.140000e-13</td>\n",
       "      <td>Burden</td>\n",
       "      <td>NaN</td>\n",
       "    </tr>\n",
       "    <tr>\n",
       "      <th>714</th>\n",
       "      <td>ALPL</td>\n",
       "      <td>Alkaline phosphatase (30610)</td>\n",
       "      <td>M3.001</td>\n",
       "      <td>GCST90082999</td>\n",
       "      <td>3.090000e-13</td>\n",
       "      <td>Burden</td>\n",
       "      <td>NaN</td>\n",
       "    </tr>\n",
       "  </tbody>\n",
       "</table>\n",
       "</div>"
      ],
      "text/plain": [
       "     Gene                         Trait   Marker Study Accession  \\\n",
       "710  ALPL  Alkaline phosphatase (30610)  M3.0001    GCST90082999   \n",
       "711  ALPL  Alkaline phosphatase (30610)   M3.001    GCST90082999   \n",
       "712  ALPL  Alkaline phosphatase (30610)    M3.01    GCST90082999   \n",
       "713  ALPL  Alkaline phosphatase (30610)     M3.1    GCST90082999   \n",
       "714  ALPL  Alkaline phosphatase (30610)   M3.001    GCST90082999   \n",
       "\n",
       "          P-value Marker type STUDY ACCESSION  \n",
       "710  1.140000e-13      Burden             NaN  \n",
       "711  1.140000e-13      Burden             NaN  \n",
       "712  1.140000e-13      Burden             NaN  \n",
       "713  1.140000e-13      Burden             NaN  \n",
       "714  3.090000e-13      Burden             NaN  "
      ]
     },
     "execution_count": 118,
     "metadata": {},
     "output_type": "execute_result"
    }
   ],
   "source": [
    "missing_assocs = (\n",
    "    assocs_pub.filter(['Gene', 'Trait', 'Marker', 'Study Accession', 'P-value', 'Marker type'])\n",
    "    .merge(assocs.toPandas().filter(['STUDY ACCESSION']), left_on='Study Accession', right_on='STUDY ACCESSION', how='outer', indicator=True)\n",
    "    .query('_merge == \"left_only\"')\n",
    "    .drop('_merge', axis=1)\n",
    "    .drop_duplicates()\n",
    ")\n",
    "\n",
    "print(f\"{missing_assocs.filter(['Gene', 'Trait', 'Marker']).drop_duplicates().shape[0]} associations are not in GWAS Catalog\")\n",
    "missing_assocs.head()"
   ]
  },
  {
   "cell_type": "code",
   "execution_count": 132,
   "metadata": {},
   "outputs": [
    {
     "data": {
      "text/plain": [
       "Burden         9912\n",
       "DelMissense    1088\n",
       "pLOF            564\n",
       "Name: Marker type, dtype: int64"
      ]
     },
     "execution_count": 132,
     "metadata": {},
     "output_type": "execute_result"
    }
   ],
   "source": [
    "missing_assocs['Marker type'].value_counts()"
   ]
  },
  {
   "cell_type": "code",
   "execution_count": null,
   "metadata": {},
   "outputs": [],
   "source": []
  }
 ],
 "metadata": {
  "interpreter": {
   "hash": "f4b6dc36c032161cfa2dcc93f31fcb0bfb11bc6fea6f0772b15a0710e4778680"
  },
  "kernelspec": {
   "display_name": "Python 3.7.9 ('pyspark')",
   "language": "python",
   "name": "python3"
  },
  "language_info": {
   "codemirror_mode": {
    "name": "ipython",
    "version": 3
   },
   "file_extension": ".py",
   "mimetype": "text/x-python",
   "name": "python",
   "nbconvert_exporter": "python",
   "pygments_lexer": "ipython3",
   "version": "3.7.9"
  },
  "orig_nbformat": 4
 },
 "nbformat": 4,
 "nbformat_minor": 2
}
