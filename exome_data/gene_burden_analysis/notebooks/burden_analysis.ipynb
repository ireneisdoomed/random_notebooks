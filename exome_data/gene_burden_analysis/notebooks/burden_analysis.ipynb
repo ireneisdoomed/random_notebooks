{
 "cells": [
  {
   "cell_type": "code",
   "execution_count": 3,
   "metadata": {},
   "outputs": [],
   "source": [
    "import chart_studio\n",
    "import chart_studio.plotly as py\n",
    "import matplotlib.pyplot as plt\n",
    "import pandas as pd\n",
    "from pathlib import Path\n",
    "import plotly.express as px\n",
    "from plotly.subplots import make_subplots\n",
    "import plotly.graph_objects as go\n",
    "import plotly.offline as pyo\n",
    "from pyspark.sql import DataFrame, SparkSession\n",
    "import pyspark.sql.functions as F\n",
    "from venn import venn\n",
    "\n",
    "spark = (\n",
    "    SparkSession.builder.master('local[*]')\n",
    "    .config(\"spark.driver.memory\", \"15g\")\n",
    "    .config('spark.ui.showConsoleProgress', 'false')\n",
    "    .appName('spark')\n",
    "    .getOrCreate()\n",
    ")\n",
    "\n",
    "\n",
    "chart_studio.tools.set_credentials_file(username=username, api_key=api_key)"
   ]
  },
  {
   "cell_type": "code",
   "execution_count": 4,
   "metadata": {},
   "outputs": [],
   "source": [
    "def drop_null_columns(df: DataFrame) -> DataFrame:\n",
    "    \"\"\"Drops all columns which only contain null values.\"\"\"\n",
    "    df_count = df.count()\n",
    "    null_counts = df.select([F.count(F.when(F.col(c).isNull(), c)).alias(c) for c in df.columns]).collect()[0].asDict()\n",
    "    to_drop = [k for k, v in null_counts.items() if v == df_count]\n",
    "    return df.drop(*to_drop)"
   ]
  },
  {
   "cell_type": "code",
   "execution_count": 5,
   "metadata": {},
   "outputs": [],
   "source": [
    "ROOT = Path.cwd().parent"
   ]
  },
  {
   "cell_type": "code",
   "execution_count": 6,
   "metadata": {},
   "outputs": [
    {
     "name": "stdout",
     "output_type": "stream",
     "text": [
      "23/02/27 12:39:46 WARN package: Truncated the string representation of a plan since it was too large. This behavior can be adjusted by setting 'spark.sql.debug.maxToStringFields'.\n"
     ]
    }
   ],
   "source": [
    "SOURCES_OF_INTEREST = ['REGENERON', 'AstraZeneca PheWAS Portal', 'Genebass']\n",
    "\n",
    "# UPDATE: use therapeutic are to distinguish between binary and quantitative traits\n",
    "diseases = spark.read.parquet(Path.joinpath(ROOT / 'data/diseases').as_posix()).select('id', 'name', 'ancestors', 'therapeuticAreas')\n",
    "evd = drop_null_columns(\n",
    "    spark.read.parquet(Path.joinpath(ROOT / 'data/gene_burden_evidence').as_posix()).filter(F.col('projectId').isin(SOURCES_OF_INTEREST))\n",
    "    .join(diseases.selectExpr('id as diseaseId', 'therapeuticAreas'), on='diseaseId', how='left')\n",
    "    .coalesce(1)\n",
    ")\n",
    "regeneron_evd = evd.filter(F.col('projectId') == 'REGENERON')\n",
    "az_evd = evd.filter(F.col('projectId') == 'AstraZeneca PheWAS Portal')\n",
    "genebass_evd = evd.filter(F.col('projectId') == 'Genebass')\n",
    "\n",
    "\n",
    "# regeneron_raw = read_regeneron('data/41586_2021_4103_MOESM5_ESM.xlsx')\n",
    "# az_raw = read_az('data/azphewas-com-450k-phewas-binary', 'data/azphewas-com-450k-phewas-quantitative')\n"
   ]
  },
  {
   "cell_type": "markdown",
   "metadata": {},
   "source": [
    "## General outline of the comparative analysis between both results\n",
    "\n",
    "- General statistics (table).\n",
    "- Nº assocs binary/quant, genes, binary/quant phenotypes, overlaps.\n",
    "- Model comparison.\n",
    "- Ancestry specificity.\n"
   ]
  },
  {
   "cell_type": "markdown",
   "metadata": {},
   "source": [
    "### 1. General statistics"
   ]
  },
  {
   "cell_type": "code",
   "execution_count": 7,
   "metadata": {},
   "outputs": [
    {
     "name": "stdout",
     "output_type": "stream",
     "text": [
      "# of REGENERON evd: 7382\n",
      "# of REGENERON distinct targets: 483\n",
      "# of REGENERON distinct mapped diseases: 205\n",
      "# of REGENERON distinct raw diseases: 427\n",
      "... of which are quantitative: 213\n",
      "... of which are binary: 216\n",
      "--------------------------------------------------------------------------------\n",
      "# of REGENERON assocs (considering different disease terms): 1397\n",
      "# of REGENERON assocs: 1397\n",
      "# of REGENERON assocs with quant traits: 1168\n",
      "# of REGENERON assocs with binary traits: 229\n",
      "# of REGENERON collapsing models: 10 ['ADD-WGR-FIRTH_M3.1', 'ADD-WGR-FIRTH_M1.001', 'ADD-WGR-FIRTH_M3.001', 'ADD-WGR-FIRTH_M1.singleton', 'ADD-WGR-FIRTH_M3.0001', 'ADD-WGR-FIRTH_M1.1', 'ADD-WGR-FIRTH_M1.01', 'ADD-WGR-FIRTH_M3.01', 'ADD-WGR-FIRTH_M1.0001', 'ADD-WGR-FIRTH_M3.singleton']\n",
      "----------------------------------------------------------------------------------------------------\n",
      "# of AZ evd: 11767\n",
      "# of AZ distinct targets: 713\n",
      "# of AZ distinct mapped diseases: 431\n",
      "# of AZ distinct raw diseases: 1095\n",
      "... of which are quantitative: 234\n",
      "... of which are binary: 870\n",
      "--------------------------------------------------------------------------------\n",
      "# of AZ assocs (considering different disease terms): 2395\n",
      "# of AZ assocs: 2393\n",
      "# of AZ assocs with quant traits: 1518\n",
      "# of AZ assocs with binary traits: 875\n",
      "# of AZ collapsing models: 10 ['ADD-WGR-FIRTH_M3.1', 'ADD-WGR-FIRTH_M1.001', 'ADD-WGR-FIRTH_M3.001', 'ADD-WGR-FIRTH_M1.singleton', 'ADD-WGR-FIRTH_M3.0001', 'ADD-WGR-FIRTH_M1.1', 'ADD-WGR-FIRTH_M1.01', 'ADD-WGR-FIRTH_M3.01', 'ADD-WGR-FIRTH_M1.0001', 'ADD-WGR-FIRTH_M3.singleton']\n",
      "----------------------------------------------------------------------------------------------------\n",
      "# of Genebass evd: 7901\n",
      "# of Genebass distinct targets: 1436\n",
      "# of Genebass distinct mapped diseases: 299\n",
      "# of Genebass distinct raw diseases: 480\n",
      "... of which are quantitative: 308\n",
      "... of which are binary: 175\n",
      "--------------------------------------------------------------------------------\n",
      "# of Genebass assocs (considering different disease terms): 3749\n",
      "# of Genebass assocs: 3749\n",
      "# of Genebass assocs with quant traits: 3093\n",
      "# of Genebass assocs with binary traits: 656\n",
      "# of Genebass collapsing models: 4 ['ADD-WGR-FIRTH_M3.1', 'ADD-WGR-FIRTH_M1.001', 'ADD-WGR-FIRTH_M3.001', 'ADD-WGR-FIRTH_M1.singleton', 'ADD-WGR-FIRTH_M3.0001', 'ADD-WGR-FIRTH_M1.1', 'ADD-WGR-FIRTH_M1.01', 'ADD-WGR-FIRTH_M3.01', 'ADD-WGR-FIRTH_M1.0001', 'ADD-WGR-FIRTH_M3.singleton']\n",
      "----------------------------------------------------------------------------------------------------\n"
     ]
    }
   ],
   "source": [
    "dfs = [('REGENERON', regeneron_evd), ('AZ', az_evd), ('Genebass', genebass_evd)]\n",
    "\n",
    "for (name, df) in dfs:\n",
    "    print(f\"# of {name} evd: {df.count()}\")\n",
    "    print(f\"# of {name} distinct targets: {df.select('targetId').distinct().count()}\")\n",
    "    print(f\"# of {name} distinct mapped diseases: {df.select('diseaseFromSourceMappedId').distinct().count()}\")\n",
    "    print(f\"# of {name} distinct raw diseases: {df.select('diseaseFromSource').distinct().count()}\")\n",
    "    print(\n",
    "        f\"... of which are quantitative: {df.filter(F.array_contains('therapeuticAreas', 'EFO_0001444')).select('diseaseFromSource').distinct().count()}\"\n",
    "    )\n",
    "    print(\n",
    "        f\"... of which are binary: {df.filter(~F.array_contains('therapeuticAreas', 'EFO_0001444')).select('diseaseFromSource').distinct().count()}\"\n",
    "    )\n",
    "    print('-' * 80)\n",
    "    print(\n",
    "        f\"# of {name} assocs (considering different disease terms): {df.select('diseaseFromSourceMappedId', 'targetId').distinct().count()}\"\n",
    "    )\n",
    "    print(f\"# of {name} assocs: {df.select('diseaseId', 'targetId').distinct().count()}\")\n",
    "    print(\n",
    "        f\"# of {name} assocs with quant traits: {df.filter(F.array_contains('therapeuticAreas', 'EFO_0001444')).select('diseaseId', 'targetId').distinct().count()}\"\n",
    "    )\n",
    "    print(\n",
    "        f\"# of {name} assocs with binary traits: {df.filter(~F.array_contains('therapeuticAreas', 'EFO_0001444')).select('diseaseId', 'targetId').distinct().count()}\"\n",
    "    )\n",
    "    print(\n",
    "        f\"# of {name} collapsing models: {df.select('statisticalMethod').distinct().count()} {regeneron_evd.select('statisticalMethod').distinct().toPandas()['statisticalMethod'].to_list()}\"\n",
    "    )\n",
    "    print('-' * 100)"
   ]
  },
  {
   "cell_type": "markdown",
   "metadata": {},
   "source": [
    "### 2. Overlap"
   ]
  },
  {
   "cell_type": "code",
   "execution_count": 8,
   "metadata": {},
   "outputs": [],
   "source": [
    "# OVERLAP\n",
    "\n",
    "az_assocs = az_evd.select('diseaseId', 'targetId').distinct()\n",
    "regeneron_assocs = regeneron_evd.select('diseaseId', 'targetId').distinct()\n",
    "genebass_assocs = genebass_evd.select('diseaseId', 'targetId').distinct()\n",
    "\n"
   ]
  },
  {
   "cell_type": "code",
   "execution_count": 9,
   "metadata": {},
   "outputs": [
    {
     "name": "stdout",
     "output_type": "stream",
     "text": [
      "-RECORD 0-----------------------------------------------------------------------------------------------------------------------------------------------------------------------------------------------------------------------------------------------------------------------------------------------------\n",
      " id          | EFO_0000255                                                                                                                                                                                                                                                                                    \n",
      " name        | angioimmunoblastic T-cell lymphoma                                                                                                                                                                                                                                                             \n",
      " expanded_id | [EFO_0000255, MONDO_0000430, OTAR_0000018, MONDO_0002334, MONDO_0023370, MONDO_0044881, MONDO_0045024, Orphanet_322126, EFO_0002426, Orphanet_68336, EFO_0001642, EFO_0000574, MONDO_0015757, MONDO_0024615, EFO_0005952, EFO_0000508, MONDO_0019044, EFO_0005803, MONDO_0015760, EFO_0000616] \n",
      " ancestors   | [MONDO_0000430, OTAR_0000018, MONDO_0002334, MONDO_0023370, MONDO_0044881, MONDO_0045024, Orphanet_322126, EFO_0002426, Orphanet_68336, EFO_0001642, EFO_0000574, MONDO_0015757, MONDO_0024615, EFO_0005952, EFO_0000508, MONDO_0019044, EFO_0005803, MONDO_0015760, EFO_0000616]              \n",
      "only showing top 1 row\n",
      "\n"
     ]
    }
   ],
   "source": [
    "# I want to expand the ontology to adress for differences in the mapping\n",
    "# For that, I will use the disease index\n",
    "\n",
    "diseases = (\n",
    "        diseases\n",
    "        # expanded_id will include its id and all its ancestors\n",
    "        .withColumn('expanded_id', F.array_union(F.array(F.col('id')), F.col('ancestors')))\n",
    "        .select('id', 'name', 'expanded_id', 'ancestors')\n",
    ")\n",
    "\n",
    "diseases.show(1, False, True)"
   ]
  },
  {
   "cell_type": "code",
   "execution_count": 10,
   "metadata": {},
   "outputs": [
    {
     "data": {
      "text/plain": [
       "Text(0.5, 1.0, 'Overlap of traits after mapping to EFO')"
      ]
     },
     "execution_count": 10,
     "metadata": {},
     "output_type": "execute_result"
    },
    {
     "data": {
      "image/png": "[encoded data removed]",
      "text/plain": [
       "<Figure size 800x800 with 1 Axes>"
      ]
     },
     "metadata": {},
     "output_type": "display_data"
    }
   ],
   "source": [
    "# Simple mapped trait overlap\n",
    "\n",
    "# Here we see that the excess in AZ is largely due to the unions.\n",
    "# However, although REGENERON doesn't aggregate traits into union of phenotypes, it does have some.\n",
    "\n",
    "trait_simple_overlap_sets = {\n",
    "    'AstraZeneca': set(\n",
    "        az_assocs.select('diseaseId').toPandas()['diseaseId'].tolist()\n",
    "    ),\n",
    "    'REGENERON': set(\n",
    "        regeneron_assocs.select('diseaseId').toPandas()['diseaseId'].tolist()\n",
    "    ),\n",
    "    'Union traits': set(\n",
    "        az_assocs.filter(F.col('diseaseFromSource').startswith('Union')).select('diseaseId').toPandas()['diseaseId'].tolist()\n",
    "    ),\n",
    "}\n",
    "\n",
    "venn(trait_simple_overlap_sets, legend_loc=\"best\")\n",
    "plt.title('Overlap of traits after mapping to EFO', fontsize=20)\n"
   ]
  },
  {
   "cell_type": "code",
   "execution_count": 11,
   "metadata": {},
   "outputs": [
    {
     "data": {
      "text/plain": [
       "Text(0.5, 1.0, 'Overlap of traits after mapping to EFO')"
      ]
     },
     "execution_count": 11,
     "metadata": {},
     "output_type": "execute_result"
    },
    {
     "data": {
      "image/png": "[encoded data removed]",
      "text/plain": [
       "<Figure size 800x800 with 1 Axes>"
      ]
     },
     "metadata": {},
     "output_type": "display_data"
    }
   ],
   "source": [
    "trait_simple_overlap_sets = {\n",
    "    'AstraZeneca': set(\n",
    "        az_assocs.select('diseaseId').toPandas()['diseaseId'].tolist()\n",
    "    ),\n",
    "    'REGENERON': set(\n",
    "        regeneron_assocs.select('diseaseId').toPandas()['diseaseId'].tolist()\n",
    "    ),\n",
    "    'Genebass': set(\n",
    "        genebass_assocs.select('diseaseId').toPandas()['diseaseId'].tolist()\n",
    "    ),\n",
    "}\n",
    "\n",
    "\n",
    "venn(trait_simple_overlap_sets, legend_loc=\"best\")\n",
    "plt.title('Overlap of traits after mapping to EFO', fontsize=20)"
   ]
  },
  {
   "cell_type": "code",
   "execution_count": 10,
   "metadata": {},
   "outputs": [
    {
     "name": "stdout",
     "output_type": "stream",
     "text": [
      "+-----------+-----------------------------------------------------------------------------------------+\n",
      "|diseaseId  |diseaseFromSource                                                                        |\n",
      "+-----------+-----------------------------------------------------------------------------------------+\n",
      "|EFO_0000546|ICD10 Y43.3: Adverse effects in the therapeutic use of other antineoplastic drugs (Y43.3)|\n",
      "|EFO_0000546|ICD10 Y43: Adverse effects in the therapeutic use of primarily systemic agents (Y43)     |\n",
      "|EFO_0000689|Touchscreen duration (630)                                                               |\n",
      "|EFO_0002427|ICD10 C92: Myeloid leukemia                                                              |\n",
      "|EFO_0002686|Atopy CC (RGC)                                                                           |\n",
      "|EFO_0003784|Skin colour - Very fair (1717)                                                           |\n",
      "|EFO_0003784|Skin colour - Light olive (1717)                                                         |\n",
      "|EFO_0003784|Skin colour - Dark olive (1717)                                                          |\n",
      "|EFO_0003784|Skin colour - Fair (1717)                                                                |\n",
      "|EFO_0003881|Ever had hysterectomy womb removed - Yes (3591)                                          |\n",
      "|EFO_0004210|Non cancer illness code self reported - cholelithiasis gall stones                       |\n",
      "|EFO_0004210|Non cancer illness code self reported - cholelithiasis gall stones/ICD10 K80             |\n",
      "|EFO_0004272|ICD10 D63.165.8: Anemia in chronic kidney disease                                        |\n",
      "|EFO_0004272|ICD10 D64.9: Anemia, unspecified                                                         |\n",
      "|EFO_0004272|ICD10 D64: Other anemias                                                                 |\n",
      "|EFO_0004319|Age stopped smoking (2897)                                                               |\n",
      "|EFO_0004338|Weight (21002)                                                                           |\n",
      "|EFO_0004338|Weight (23098)                                                                           |\n",
      "|EFO_0004340|Body mass index BMI (21001)                                                              |\n",
      "|EFO_0004340|Body mass index BMI (23104)                                                              |\n",
      "+-----------+-----------------------------------------------------------------------------------------+\n",
      "only showing top 20 rows\n",
      "\n"
     ]
    }
   ],
   "source": [
    "# Non overlapping REGENERON traits - it doesn't seem to be due to a selection criterion\n",
    "(\n",
    "    regeneron_assocs.select('diseaseId')\n",
    "    .join(az_assocs.select('diseaseId'), on='diseaseId', how='left_anti').distinct()\n",
    "    .join(regeneron_evd.select('diseaseId', 'diseaseFromSource'), on='diseaseId', how='inner').distinct()\n",
    "    .show(truncate=False)\n",
    ")"
   ]
  },
  {
   "cell_type": "code",
   "execution_count": 11,
   "metadata": {},
   "outputs": [
    {
     "data": {
      "text/plain": [
       "191"
      ]
     },
     "execution_count": 11,
     "metadata": {},
     "output_type": "execute_result"
    }
   ],
   "source": [
    "# Non overlapping AZ traits - 191/265 refer to Union phenotypes\n",
    "(\n",
    "    az_assocs.select('diseaseId')\n",
    "    .join(regeneron_assocs.select('diseaseId'), on='diseaseId', how='left_anti').distinct()\n",
    "    .join(az_evd.select('diseaseId', 'diseaseFromSource'), on='diseaseId', how='inner')\n",
    "    .filter(F.col('diseaseFromSource').startswith('Union'))\n",
    "    .select('diseaseId').distinct()\n",
    "    .count()\n",
    ")"
   ]
  },
  {
   "cell_type": "code",
   "execution_count": 12,
   "metadata": {},
   "outputs": [
    {
     "data": {
      "text/plain": [
       "0"
      ]
     },
     "execution_count": 12,
     "metadata": {},
     "output_type": "execute_result"
    }
   ],
   "source": [
    "regeneron_evd.filter(F.col('diseaseFromSource').startswith('Union')).select('diseaseFromSource').distinct().count()"
   ]
  },
  {
   "cell_type": "code",
   "execution_count": 12,
   "metadata": {},
   "outputs": [
    {
     "data": {
      "text/plain": [
       "Text(0.5, 1.0, 'Gene/disease associations overlap')"
      ]
     },
     "execution_count": 12,
     "metadata": {},
     "output_type": "execute_result"
    },
    {
     "data": {
      "image/png": "[encoded data removed]",
      "text/plain": [
       "<Figure size 800x800 with 1 Axes>"
      ]
     },
     "metadata": {},
     "output_type": "display_data"
    }
   ],
   "source": [
    "assoc_overlap_sets = {\n",
    "    'AstraZeneca': set(\n",
    "        az_assocs.withColumn('assoc', F.concat('targetId', F.lit('|'), 'diseaseId')).toPandas()['assoc'].tolist()\n",
    "    ),\n",
    "    'REGENERON': set(\n",
    "        regeneron_assocs.withColumn('assoc', F.concat('targetId', F.lit('|'), 'diseaseId')).toPandas()['assoc'].tolist()\n",
    "    ),\n",
    "    'Genebass': set(\n",
    "        genebass_assocs.withColumn('assoc', F.concat('targetId', F.lit('|'), 'diseaseId')).toPandas()['assoc'].tolist()\n",
    "    ),\n",
    "}\n",
    "\n",
    "venn(assoc_overlap_sets, legend_loc=\"best\")\n",
    "plt.title('Gene/disease associations overlap', fontsize=20)\n"
   ]
  },
  {
   "cell_type": "markdown",
   "metadata": {},
   "source": [
    "### # OF ASSOCIATIONS PER GENE\n",
    "\n",
    "I want to remove from the list the diseases that are ancestors of other diseases, so that the metric is not contaminated\n",
    "\n",
    "**--> TODO: REMOVE ANCESTORS**\n",
    "\n",
    "**I haven't found a way to do that yet, but I estimate the impact is not large - as it affects 262/851 targets and the difference is not significantly large (next cell)**"
   ]
  },
  {
   "cell_type": "code",
   "execution_count": 14,
   "metadata": {},
   "outputs": [
    {
     "name": "stdout",
     "output_type": "stream",
     "text": [
      "-RECORD 0----------------------------------------------------------------------------------------------------------------------------------------------------------------------------------------------------------------------------------------------------------------------------------------------------------------------------------------------------------------------------\n",
      " disease                       | EFO_0007986                                                                                                                                                                                                                                                                                                                                         \n",
      " targetId                      | ENSG00000004939                                                                                                                                                                                                                                                                                                                                     \n",
      " associated_diseases           | [EFO_0005803, EFO_0007010, EFO_0007986, EFO_0004574, EFO_0004528, EFO_0004615, EFO_0010700, EFO_0000701, HP_0004804, EFO_0005558, EFO_0002571, EFO_0004541, EFO_0000540, EFO_0004348, EFO_0010701, EFO_0004611, EFO_0007990, EFO_0007993, MONDO_0019350, EFO_0004526, EFO_0004570, EFO_0009188, EFO_0004527, EFO_0004305, EFO_0004503, EFO_0004833] \n",
      " ancestors                     | [EFO_0010700, EFO_0004503, EFO_0001444]                                                                                                                                                                                                                                                                                                             \n",
      " associated_diseases_clean     | [EFO_0005803, EFO_0007010, EFO_0007986, EFO_0004574, EFO_0004528, EFO_0004615, EFO_0000701, HP_0004804, EFO_0005558, EFO_0002571, EFO_0004541, EFO_0000540, EFO_0004348, EFO_0010701, EFO_0004611, EFO_0007990, EFO_0007993, MONDO_0019350, EFO_0004526, EFO_0004570, EFO_0009188, EFO_0004527, EFO_0004305, EFO_0004833]                           \n",
      " diff_after_removing_ancestors | 2                                                                                                                                                                                                                                                                                                                                                   \n",
      "-RECORD 1----------------------------------------------------------------------------------------------------------------------------------------------------------------------------------------------------------------------------------------------------------------------------------------------------------------------------------------------------------------------------\n",
      " disease                       | EFO_0004528                                                                                                                                                                                                                                                                                                                                         \n",
      " targetId                      | ENSG00000004939                                                                                                                                                                                                                                                                                                                                     \n",
      " associated_diseases           | [EFO_0005803, EFO_0007010, EFO_0007986, EFO_0004574, EFO_0004528, EFO_0004615, EFO_0010700, EFO_0000701, HP_0004804, EFO_0005558, EFO_0002571, EFO_0004541, EFO_0000540, EFO_0004348, EFO_0010701, EFO_0004611, EFO_0007990, EFO_0007993, MONDO_0019350, EFO_0004526, EFO_0004570, EFO_0009188, EFO_0004527, EFO_0004305, EFO_0004503, EFO_0004833] \n",
      " ancestors                     | [EFO_0004747, EFO_0004306, EFO_0004503, EFO_0001444, EFO_0005047, EFO_0004509]                                                                                                                                                                                                                                                                      \n",
      " associated_diseases_clean     | [EFO_0005803, EFO_0007010, EFO_0007986, EFO_0004574, EFO_0004528, EFO_0004615, EFO_0010700, EFO_0000701, HP_0004804, EFO_0005558, EFO_0002571, EFO_0004541, EFO_0000540, EFO_0004348, EFO_0010701, EFO_0004611, EFO_0007990, EFO_0007993, MONDO_0019350, EFO_0004526, EFO_0004570, EFO_0009188, EFO_0004527, EFO_0004305, EFO_0004833]              \n",
      " diff_after_removing_ancestors | 1                                                                                                                                                                                                                                                                                                                                                   \n",
      "-RECORD 2----------------------------------------------------------------------------------------------------------------------------------------------------------------------------------------------------------------------------------------------------------------------------------------------------------------------------------------------------------------------------\n",
      " disease                       | EFO_0010700                                                                                                                                                                                                                                                                                                                                         \n",
      " targetId                      | ENSG00000004939                                                                                                                                                                                                                                                                                                                                     \n",
      " associated_diseases           | [EFO_0005803, EFO_0007010, EFO_0007986, EFO_0004574, EFO_0004528, EFO_0004615, EFO_0010700, EFO_0000701, HP_0004804, EFO_0005558, EFO_0002571, EFO_0004541, EFO_0000540, EFO_0004348, EFO_0010701, EFO_0004611, EFO_0007990, EFO_0007993, MONDO_0019350, EFO_0004526, EFO_0004570, EFO_0009188, EFO_0004527, EFO_0004305, EFO_0004503, EFO_0004833] \n",
      " ancestors                     | [EFO_0004503, EFO_0001444]                                                                                                                                                                                                                                                                                                                          \n",
      " associated_diseases_clean     | [EFO_0005803, EFO_0007010, EFO_0007986, EFO_0004574, EFO_0004528, EFO_0004615, EFO_0010700, EFO_0000701, HP_0004804, EFO_0005558, EFO_0002571, EFO_0004541, EFO_0000540, EFO_0004348, EFO_0010701, EFO_0004611, EFO_0007990, EFO_0007993, MONDO_0019350, EFO_0004526, EFO_0004570, EFO_0009188, EFO_0004527, EFO_0004305, EFO_0004833]              \n",
      " diff_after_removing_ancestors | 1                                                                                                                                                                                                                                                                                                                                                   \n",
      "only showing top 3 rows\n",
      "\n"
     ]
    }
   ],
   "source": [
    "'''\n",
    "I want to remove from the list the diseases that are ancestors of other diseases, so that the metric is not contaminated\n",
    "\n",
    "I haven't found a way to do that yet, but I estimate the impact is not large - as it affects 262/851 targets and the difference is not significantly large\n",
    "'''\n",
    "\n",
    "\n",
    "(\n",
    "    evd.groupBy('targetId').agg(F.collect_set('diseaseId').alias('associated_diseases'))\n",
    "    \n",
    "    # i want to remove from the list the diseases that are ancestors of other diseases, so that the metric is not contaminated\n",
    "    .withColumn('disease', F.explode('associated_diseases'))\n",
    "    .join(diseases.withColumnRenamed('id', 'disease').select('disease', 'ancestors'), on='disease', how='left')\n",
    "\n",
    "    .withColumn('associated_diseases_clean', F.array_except(F.col('associated_diseases'), F.col('ancestors')))\n",
    "\n",
    "    .withColumn('diff_after_removing_ancestors', F.size('associated_diseases') - F.size('associated_diseases_clean'))\n",
    "    .filter(F.col('diff_after_removing_ancestors') > 0)\n",
    "\n",
    "    # associated_diseases_clean hosts the list of associated diseases without the ancestor for the given disease\n",
    "    # I have to group the data again on the target, and collect the list of these lists\n",
    "    # flatten them and remove the duplicates\n",
    "    #.groupBy('targetId', 'associated_diseases').agg(F.collect_set('associated_diseases_clean').alias('associated_diseases_clean_lists'))\n",
    "    #.withColumn('agg_associated_diseases_clean', F.array_distinct(F.flatten('associated_diseases_clean_lists')))\n",
    "\n",
    "    .show(3, False, True)\n",
    ")"
   ]
  },
  {
   "cell_type": "code",
   "execution_count": 10,
   "metadata": {},
   "outputs": [
    {
     "name": "stdout",
     "output_type": "stream",
     "text": [
      "Average # of associations per gene in total: 2.989801699716714\n",
      "... in REGENERON: 2.8923395445134576\n",
      "... in AZ: 3.356241234221599\n",
      "... in Genebass: 2.610724233983287\n",
      "Median # of associations per gene in total: 1\n",
      "... in REGENERON: 2\n",
      "... in AZ: 2\n",
      "... in Genebass: 1\n"
     ]
    }
   ],
   "source": [
    "print(\n",
    "    f\"Average # of associations per gene in total: {evd.select('targetId', 'diseaseId').distinct().groupBy('targetId').count().agg({'count': 'mean'}).toPandas()['avg(count)'][0]}\"\n",
    ")\n",
    "print(\n",
    "    f\"... in REGENERON: {regeneron_assocs.groupBy('targetId').count().agg({'count': 'mean'}).toPandas()['avg(count)'][0]}\"\n",
    ")\n",
    "print(f\"... in AZ: {az_assocs.groupBy('targetId').count().agg({'count': 'mean'}).toPandas()['avg(count)'][0]}\")\n",
    "print(\n",
    "    f\"... in Genebass: {genebass_assocs.groupBy('targetId').count().agg({'count': 'mean'}).toPandas()['avg(count)'][0]}\"\n",
    ")\n",
    "\n",
    "\n",
    "print(\n",
    "    f\"Median # of associations per gene in total: {evd.select('targetId', 'diseaseId').distinct().groupBy('targetId').count().agg(F.expr('percentile_approx(count, 0.5)').alias('median')).toPandas()['median'][0]}\"\n",
    ")\n",
    "print(\n",
    "    f\"... in REGENERON: {regeneron_assocs.groupBy('targetId').count().agg(F.expr('percentile_approx(count, 0.5)').alias('median')).toPandas()['median'][0]}\"\n",
    ")\n",
    "print(\n",
    "    f\"... in AZ: {az_assocs.groupBy('targetId').count().agg(F.expr('percentile_approx(count, 0.5)').alias('median')).toPandas()['median'][0]}\"\n",
    ")\n",
    "print(\n",
    "    f\"... in Genebass: {genebass_assocs.groupBy('targetId').count().agg(F.expr('percentile_approx(count, 0.5)').alias('median')).toPandas()['median'][0]}\"\n",
    ")\n"
   ]
  },
  {
   "attachments": {},
   "cell_type": "markdown",
   "metadata": {},
   "source": [
    "### # NUMBER OF GENES PER TRAIT\n",
    "\n",
    "To test for poligenicity and analyse the hypothesis that common and rare variation have a similar genetic architecture."
   ]
  },
  {
   "cell_type": "code",
   "execution_count": 12,
   "metadata": {},
   "outputs": [
    {
     "name": "stdout",
     "output_type": "stream",
     "text": [
      "Average # of genes associated with a trait in total: 9.051457975986278\n",
      "... in REGENERON: 6.814634146341463\n",
      "... in AZ: 5.578088578088578\n",
      "... in Genebass: 12.538461538461538\n",
      "Median # of genes associated with a trait in total: 2\n",
      "... in REGENERON: 2\n",
      "... in AZ: 2\n",
      "... in Genebass: 3\n"
     ]
    }
   ],
   "source": [
    "print(\n",
    "    f\"Average # of genes associated with a trait in total: {evd.select('targetId', 'diseaseId').distinct().groupBy('diseaseId').count().agg({'count': 'mean'}).toPandas()['avg(count)'][0]}\"\n",
    ")\n",
    "print(\n",
    "    f\"... in REGENERON: {regeneron_assocs.groupBy('diseaseId').count().agg({'count': 'mean'}).toPandas()['avg(count)'][0]}\"\n",
    ")\n",
    "print(f\"... in AZ: {az_assocs.groupBy('diseaseId').count().agg({'count': 'mean'}).toPandas()['avg(count)'][0]}\")\n",
    "print(\n",
    "    f\"... in Genebass: {genebass_assocs.groupBy('diseaseId').count().agg({'count': 'mean'}).toPandas()['avg(count)'][0]}\"\n",
    ")\n",
    "\n",
    "\n",
    "print(\n",
    "    f\"Median # of genes associated with a trait in total: {evd.select('targetId', 'diseaseId').distinct().groupBy('diseaseId').count().agg(F.expr('percentile_approx(count, 0.5)').alias('median')).toPandas()['median'][0]}\"\n",
    ")\n",
    "print(\n",
    "    f\"... in REGENERON: {regeneron_assocs.groupBy('diseaseId').count().agg(F.expr('percentile_approx(count, 0.5)').alias('median')).toPandas()['median'][0]}\"\n",
    ")\n",
    "print(\n",
    "    f\"... in AZ: {az_assocs.groupBy('diseaseId').count().agg(F.expr('percentile_approx(count, 0.5)').alias('median')).toPandas()['median'][0]}\"\n",
    ")\n",
    "print(\n",
    "    f\"... in Genebass: {genebass_assocs.groupBy('diseaseId').count().agg(F.expr('percentile_approx(count, 0.5)').alias('median')).toPandas()['median'][0]}\"\n",
    ")\n"
   ]
  },
  {
   "cell_type": "markdown",
   "metadata": {},
   "source": [
    "### 3. Model comparison"
   ]
  },
  {
   "cell_type": "code",
   "execution_count": 13,
   "metadata": {},
   "outputs": [
    {
     "data": {
      "application/vnd.plotly.v1+json": {
       "config": {
        "plotlyServerURL": "https://plotly.com"
       },
       "data": [
        {
         "alignmentgroup": "True",
         "hovertemplate": "Project=Genebass<br>Model=%{x}<br>Association count=%{y}<extra></extra>",
         "legendgroup": "Genebass",
         "marker": {
          "color": "#636efa",
          "pattern": {
           "shape": ""
          }
         },
         "name": "Genebass",
         "offsetgroup": "Genebass",
         "orientation": "v",
         "showlegend": true,
         "textposition": "auto",
         "type": "bar",
         "x": [
          "pLoF|missense|LC",
          "pLoF",
          "missense|LC",
          "synonymous"
         ],
         "xaxis": "x",
         "y": [
          2747,
          2264,
          2254,
          636
         ],
         "yaxis": "y"
        },
        {
         "alignmentgroup": "True",
         "hovertemplate": "Project=AstraZeneca PheWAS Portal<br>Model=%{x}<br>Association count=%{y}<extra></extra>",
         "legendgroup": "AstraZeneca PheWAS Portal",
         "marker": {
          "color": "#EF553B",
          "pattern": {
           "shape": ""
          }
         },
         "name": "AstraZeneca PheWAS Portal",
         "offsetgroup": "AstraZeneca PheWAS Portal",
         "orientation": "v",
         "showlegend": true,
         "textposition": "auto",
         "type": "bar",
         "x": [
          "ptv5pcnt",
          "ptv",
          "flexdmg",
          "ptvraredmg",
          "flexnonsynmtr",
          "UR",
          "URmtr",
          "raredmg",
          "raredmgmtr",
          "rec"
         ],
         "xaxis": "x",
         "y": [
          2379,
          1948,
          1739,
          1599,
          1019,
          990,
          931,
          666,
          287,
          209
         ],
         "yaxis": "y"
        },
        {
         "alignmentgroup": "True",
         "hovertemplate": "Project=REGENERON<br>Model=%{x}<br>Association count=%{y}<extra></extra>",
         "legendgroup": "REGENERON",
         "marker": {
          "color": "#00cc96",
          "pattern": {
           "shape": ""
          }
         },
         "name": "REGENERON",
         "offsetgroup": "REGENERON",
         "orientation": "v",
         "showlegend": true,
         "textposition": "auto",
         "type": "bar",
         "x": [
          "ADD-WGR-FIRTH_M3.1",
          "ADD-WGR-FIRTH_M3.01",
          "ADD-WGR-FIRTH_M1.1",
          "ADD-WGR-FIRTH_M3.001",
          "ADD-WGR-FIRTH_M1.01",
          "ADD-WGR-FIRTH_M1.001",
          "ADD-WGR-FIRTH_M3.0001",
          "ADD-WGR-FIRTH_M1.0001",
          "ADD-WGR-FIRTH_M3.singleton",
          "ADD-WGR-FIRTH_M1.singleton"
         ],
         "xaxis": "x",
         "y": [
          1475,
          1086,
          952,
          905,
          841,
          752,
          516,
          481,
          192,
          182
         ],
         "yaxis": "y"
        }
       ],
       "layout": {
        "barmode": "relative",
        "height": 500,
        "legend": {
         "orientation": "h",
         "title": {
          "text": "Project"
         },
         "tracegroupgap": 0,
         "x": 1,
         "xanchor": "right",
         "y": 1.02,
         "yanchor": "bottom"
        },
        "template": {
         "data": {
          "bar": [
           {
            "error_x": {
             "color": "#2a3f5f"
            },
            "error_y": {
             "color": "#2a3f5f"
            },
            "marker": {
             "line": {
              "color": "#E5ECF6",
              "width": 0.5
             },
             "pattern": {
              "fillmode": "overlay",
              "size": 10,
              "solidity": 0.2
             }
            },
            "type": "bar"
           }
          ],
          "barpolar": [
           {
            "marker": {
             "line": {
              "color": "#E5ECF6",
              "width": 0.5
             },
             "pattern": {
              "fillmode": "overlay",
              "size": 10,
              "solidity": 0.2
             }
            },
            "type": "barpolar"
           }
          ],
          "carpet": [
           {
            "aaxis": {
             "endlinecolor": "#2a3f5f",
             "gridcolor": "white",
             "linecolor": "white",
             "minorgridcolor": "white",
             "startlinecolor": "#2a3f5f"
            },
            "baxis": {
             "endlinecolor": "#2a3f5f",
             "gridcolor": "white",
             "linecolor": "white",
             "minorgridcolor": "white",
             "startlinecolor": "#2a3f5f"
            },
            "type": "carpet"
           }
          ],
          "choropleth": [
           {
            "colorbar": {
             "outlinewidth": 0,
             "ticks": ""
            },
            "type": "choropleth"
           }
          ],
          "contour": [
           {
            "colorbar": {
             "outlinewidth": 0,
             "ticks": ""
            },
            "colorscale": [
             [
              0,
              "#0d0887"
             ],
             [
              0.1111111111111111,
              "#46039f"
             ],
             [
              0.2222222222222222,
              "#7201a8"
             ],
             [
              0.3333333333333333,
              "#9c179e"
             ],
             [
              0.4444444444444444,
              "#bd3786"
             ],
             [
              0.5555555555555556,
              "#d8576b"
             ],
             [
              0.6666666666666666,
              "#ed7953"
             ],
             [
              0.7777777777777778,
              "#fb9f3a"
             ],
             [
              0.8888888888888888,
              "#fdca26"
             ],
             [
              1,
              "#f0f921"
             ]
            ],
            "type": "contour"
           }
          ],
          "contourcarpet": [
           {
            "colorbar": {
             "outlinewidth": 0,
             "ticks": ""
            },
            "type": "contourcarpet"
           }
          ],
          "heatmap": [
           {
            "colorbar": {
             "outlinewidth": 0,
             "ticks": ""
            },
            "colorscale": [
             [
              0,
              "#0d0887"
             ],
             [
              0.1111111111111111,
              "#46039f"
             ],
             [
              0.2222222222222222,
              "#7201a8"
             ],
             [
              0.3333333333333333,
              "#9c179e"
             ],
             [
              0.4444444444444444,
              "#bd3786"
             ],
             [
              0.5555555555555556,
              "#d8576b"
             ],
             [
              0.6666666666666666,
              "#ed7953"
             ],
             [
              0.7777777777777778,
              "#fb9f3a"
             ],
             [
              0.8888888888888888,
              "#fdca26"
             ],
             [
              1,
              "#f0f921"
             ]
            ],
            "type": "heatmap"
           }
          ],
          "heatmapgl": [
           {
            "colorbar": {
             "outlinewidth": 0,
             "ticks": ""
            },
            "colorscale": [
             [
              0,
              "#0d0887"
             ],
             [
              0.1111111111111111,
              "#46039f"
             ],
             [
              0.2222222222222222,
              "#7201a8"
             ],
             [
              0.3333333333333333,
              "#9c179e"
             ],
             [
              0.4444444444444444,
              "#bd3786"
             ],
             [
              0.5555555555555556,
              "#d8576b"
             ],
             [
              0.6666666666666666,
              "#ed7953"
             ],
             [
              0.7777777777777778,
              "#fb9f3a"
             ],
             [
              0.8888888888888888,
              "#fdca26"
             ],
             [
              1,
              "#f0f921"
             ]
            ],
            "type": "heatmapgl"
           }
          ],
          "histogram": [
           {
            "marker": {
             "pattern": {
              "fillmode": "overlay",
              "size": 10,
              "solidity": 0.2
             }
            },
            "type": "histogram"
           }
          ],
          "histogram2d": [
           {
            "colorbar": {
             "outlinewidth": 0,
             "ticks": ""
            },
            "colorscale": [
             [
              0,
              "#0d0887"
             ],
             [
              0.1111111111111111,
              "#46039f"
             ],
             [
              0.2222222222222222,
              "#7201a8"
             ],
             [
              0.3333333333333333,
              "#9c179e"
             ],
             [
              0.4444444444444444,
              "#bd3786"
             ],
             [
              0.5555555555555556,
              "#d8576b"
             ],
             [
              0.6666666666666666,
              "#ed7953"
             ],
             [
              0.7777777777777778,
              "#fb9f3a"
             ],
             [
              0.8888888888888888,
              "#fdca26"
             ],
             [
              1,
              "#f0f921"
             ]
            ],
            "type": "histogram2d"
           }
          ],
          "histogram2dcontour": [
           {
            "colorbar": {
             "outlinewidth": 0,
             "ticks": ""
            },
            "colorscale": [
             [
              0,
              "#0d0887"
             ],
             [
              0.1111111111111111,
              "#46039f"
             ],
             [
              0.2222222222222222,
              "#7201a8"
             ],
             [
              0.3333333333333333,
              "#9c179e"
             ],
             [
              0.4444444444444444,
              "#bd3786"
             ],
             [
              0.5555555555555556,
              "#d8576b"
             ],
             [
              0.6666666666666666,
              "#ed7953"
             ],
             [
              0.7777777777777778,
              "#fb9f3a"
             ],
             [
              0.8888888888888888,
              "#fdca26"
             ],
             [
              1,
              "#f0f921"
             ]
            ],
            "type": "histogram2dcontour"
           }
          ],
          "mesh3d": [
           {
            "colorbar": {
             "outlinewidth": 0,
             "ticks": ""
            },
            "type": "mesh3d"
           }
          ],
          "parcoords": [
           {
            "line": {
             "colorbar": {
              "outlinewidth": 0,
              "ticks": ""
             }
            },
            "type": "parcoords"
           }
          ],
          "pie": [
           {
            "automargin": true,
            "type": "pie"
           }
          ],
          "scatter": [
           {
            "fillpattern": {
             "fillmode": "overlay",
             "size": 10,
             "solidity": 0.2
            },
            "type": "scatter"
           }
          ],
          "scatter3d": [
           {
            "line": {
             "colorbar": {
              "outlinewidth": 0,
              "ticks": ""
             }
            },
            "marker": {
             "colorbar": {
              "outlinewidth": 0,
              "ticks": ""
             }
            },
            "type": "scatter3d"
           }
          ],
          "scattercarpet": [
           {
            "marker": {
             "colorbar": {
              "outlinewidth": 0,
              "ticks": ""
             }
            },
            "type": "scattercarpet"
           }
          ],
          "scattergeo": [
           {
            "marker": {
             "colorbar": {
              "outlinewidth": 0,
              "ticks": ""
             }
            },
            "type": "scattergeo"
           }
          ],
          "scattergl": [
           {
            "marker": {
             "colorbar": {
              "outlinewidth": 0,
              "ticks": ""
             }
            },
            "type": "scattergl"
           }
          ],
          "scattermapbox": [
           {
            "marker": {
             "colorbar": {
              "outlinewidth": 0,
              "ticks": ""
             }
            },
            "type": "scattermapbox"
           }
          ],
          "scatterpolar": [
           {
            "marker": {
             "colorbar": {
              "outlinewidth": 0,
              "ticks": ""
             }
            },
            "type": "scatterpolar"
           }
          ],
          "scatterpolargl": [
           {
            "marker": {
             "colorbar": {
              "outlinewidth": 0,
              "ticks": ""
             }
            },
            "type": "scatterpolargl"
           }
          ],
          "scatterternary": [
           {
            "marker": {
             "colorbar": {
              "outlinewidth": 0,
              "ticks": ""
             }
            },
            "type": "scatterternary"
           }
          ],
          "surface": [
           {
            "colorbar": {
             "outlinewidth": 0,
             "ticks": ""
            },
            "colorscale": [
             [
              0,
              "#0d0887"
             ],
             [
              0.1111111111111111,
              "#46039f"
             ],
             [
              0.2222222222222222,
              "#7201a8"
             ],
             [
              0.3333333333333333,
              "#9c179e"
             ],
             [
              0.4444444444444444,
              "#bd3786"
             ],
             [
              0.5555555555555556,
              "#d8576b"
             ],
             [
              0.6666666666666666,
              "#ed7953"
             ],
             [
              0.7777777777777778,
              "#fb9f3a"
             ],
             [
              0.8888888888888888,
              "#fdca26"
             ],
             [
              1,
              "#f0f921"
             ]
            ],
            "type": "surface"
           }
          ],
          "table": [
           {
            "cells": {
             "fill": {
              "color": "#EBF0F8"
             },
             "line": {
              "color": "white"
             }
            },
            "header": {
             "fill": {
              "color": "#C8D4E3"
             },
             "line": {
              "color": "white"
             }
            },
            "type": "table"
           }
          ]
         },
         "layout": {
          "annotationdefaults": {
           "arrowcolor": "#2a3f5f",
           "arrowhead": 0,
           "arrowwidth": 1
          },
          "autotypenumbers": "strict",
          "coloraxis": {
           "colorbar": {
            "outlinewidth": 0,
            "ticks": ""
           }
          },
          "colorscale": {
           "diverging": [
            [
             0,
             "#8e0152"
            ],
            [
             0.1,
             "#c51b7d"
            ],
            [
             0.2,
             "#de77ae"
            ],
            [
             0.3,
             "#f1b6da"
            ],
            [
             0.4,
             "#fde0ef"
            ],
            [
             0.5,
             "#f7f7f7"
            ],
            [
             0.6,
             "#e6f5d0"
            ],
            [
             0.7,
             "#b8e186"
            ],
            [
             0.8,
             "#7fbc41"
            ],
            [
             0.9,
             "#4d9221"
            ],
            [
             1,
             "#276419"
            ]
           ],
           "sequential": [
            [
             0,
             "#0d0887"
            ],
            [
             0.1111111111111111,
             "#46039f"
            ],
            [
             0.2222222222222222,
             "#7201a8"
            ],
            [
             0.3333333333333333,
             "#9c179e"
            ],
            [
             0.4444444444444444,
             "#bd3786"
            ],
            [
             0.5555555555555556,
             "#d8576b"
            ],
            [
             0.6666666666666666,
             "#ed7953"
            ],
            [
             0.7777777777777778,
             "#fb9f3a"
            ],
            [
             0.8888888888888888,
             "#fdca26"
            ],
            [
             1,
             "#f0f921"
            ]
           ],
           "sequentialminus": [
            [
             0,
             "#0d0887"
            ],
            [
             0.1111111111111111,
             "#46039f"
            ],
            [
             0.2222222222222222,
             "#7201a8"
            ],
            [
             0.3333333333333333,
             "#9c179e"
            ],
            [
             0.4444444444444444,
             "#bd3786"
            ],
            [
             0.5555555555555556,
             "#d8576b"
            ],
            [
             0.6666666666666666,
             "#ed7953"
            ],
            [
             0.7777777777777778,
             "#fb9f3a"
            ],
            [
             0.8888888888888888,
             "#fdca26"
            ],
            [
             1,
             "#f0f921"
            ]
           ]
          },
          "colorway": [
           "#636efa",
           "#EF553B",
           "#00cc96",
           "#ab63fa",
           "#FFA15A",
           "#19d3f3",
           "#FF6692",
           "#B6E880",
           "#FF97FF",
           "#FECB52"
          ],
          "font": {
           "color": "#2a3f5f"
          },
          "geo": {
           "bgcolor": "white",
           "lakecolor": "white",
           "landcolor": "#E5ECF6",
           "showlakes": true,
           "showland": true,
           "subunitcolor": "white"
          },
          "hoverlabel": {
           "align": "left"
          },
          "hovermode": "closest",
          "mapbox": {
           "style": "light"
          },
          "paper_bgcolor": "white",
          "plot_bgcolor": "#E5ECF6",
          "polar": {
           "angularaxis": {
            "gridcolor": "white",
            "linecolor": "white",
            "ticks": ""
           },
           "bgcolor": "#E5ECF6",
           "radialaxis": {
            "gridcolor": "white",
            "linecolor": "white",
            "ticks": ""
           }
          },
          "scene": {
           "xaxis": {
            "backgroundcolor": "#E5ECF6",
            "gridcolor": "white",
            "gridwidth": 2,
            "linecolor": "white",
            "showbackground": true,
            "ticks": "",
            "zerolinecolor": "white"
           },
           "yaxis": {
            "backgroundcolor": "#E5ECF6",
            "gridcolor": "white",
            "gridwidth": 2,
            "linecolor": "white",
            "showbackground": true,
            "ticks": "",
            "zerolinecolor": "white"
           },
           "zaxis": {
            "backgroundcolor": "#E5ECF6",
            "gridcolor": "white",
            "gridwidth": 2,
            "linecolor": "white",
            "showbackground": true,
            "ticks": "",
            "zerolinecolor": "white"
           }
          },
          "shapedefaults": {
           "line": {
            "color": "#2a3f5f"
           }
          },
          "ternary": {
           "aaxis": {
            "gridcolor": "white",
            "linecolor": "white",
            "ticks": ""
           },
           "baxis": {
            "gridcolor": "white",
            "linecolor": "white",
            "ticks": ""
           },
           "bgcolor": "#E5ECF6",
           "caxis": {
            "gridcolor": "white",
            "linecolor": "white",
            "ticks": ""
           }
          },
          "title": {
           "x": 0.05
          },
          "xaxis": {
           "automargin": true,
           "gridcolor": "white",
           "linecolor": "white",
           "ticks": "",
           "title": {
            "standoff": 15
           },
           "zerolinecolor": "white",
           "zerolinewidth": 2
          },
          "yaxis": {
           "automargin": true,
           "gridcolor": "white",
           "linecolor": "white",
           "ticks": "",
           "title": {
            "standoff": 15
           },
           "zerolinecolor": "white",
           "zerolinewidth": 2
          }
         }
        },
        "title": {
         "text": "Distribution of associations per collapsing model"
        },
        "xaxis": {
         "anchor": "y",
         "domain": [
          0,
          1
         ],
         "title": {
          "text": "Model"
         }
        },
        "yaxis": {
         "anchor": "x",
         "domain": [
          0,
          1
         ],
         "title": {
          "text": "Association count"
         }
        }
       }
      }
     },
     "metadata": {},
     "output_type": "display_data"
    }
   ],
   "source": [
    "## # OF ASSOCIATIONS PER MODEL\n",
    "\n",
    "'''\n",
    "Common (MAF >= 1%): >= 1%\n",
    "rare: < 1%\n",
    "Very rare (MAF < 0.1%): < 0.1%\n",
    "Ultra rare: < 0.01%\n",
    "\n",
    "M1 -> pLOF / M3 -> pLOF and missense\n",
    "'''\n",
    "\n",
    "MODEL_TO_MAF = {\n",
    "    'ptv': 'Very rare (MAF < 0.1%)',\n",
    "    'ptv5pcnt': 'Common (MAF >= 1%)',\n",
    "    'UR': 'Ultra rare (MAF < 0.01%)',\n",
    "    'URmtr': 'Ultra rare (MAF < 0.01%)',\n",
    "    'raredmg': 'Ultra rare (MAF < 0.01%)',\n",
    "    'raredmgmtr': 'Ultra rare (MAF < 0.01%)',\n",
    "    'flexdmg': 'Ultra rare (MAF < 0.01%)',\n",
    "    'flexnonsyn': 'Ultra rare (MAF < 0.01%)',\n",
    "    'flexnonsynmtr': 'Ultra rare (MAF < 0.01%)',\n",
    "    'ptvraredmg': 'Ultra rare (MAF < 0.01%)',\n",
    "    'rec': 'Common (MAF >= 1%)',\n",
    "    'M1.singleton': 'Ultra rare (MAF < 0.01%)',\n",
    "    'M1.0001': 'Ultra rare (MAF < 0.01%)',\n",
    "    'M1.001': 'Ultra rare (MAF < 0.01%)',\n",
    "    'M1.01': 'Very rare (MAF < 0.1%)',\n",
    "    'M1.1': 'Rare (MAF < 1%)',\n",
    "    'M3.singleton': 'Ultra rare (MAF < 0.01%)',\n",
    "    'M3.0001': 'Ultra rare (MAF < 0.01%)',\n",
    "    'M3.001': 'Ultra rare (MAF < 0.01%)',\n",
    "    'M3.01': 'Very rare (MAF < 0.1%)',\n",
    "    'M3.1': 'Rare (MAF < 1%)',\n",
    "    'ADD-WGR-FIRTH_M1.singleton': 'Ultra rare (MAF < 0.01%)',\n",
    "    'ADD-WGR-FIRTH_M1.0001': 'Ultra rare (MAF < 0.01%)',\n",
    "    'ADD-WGR-FIRTH_M1.001': 'Ultra rare (MAF < 0.01%)',\n",
    "    'ADD-WGR-FIRTH_M1.01': 'Very rare (MAF < 0.1%)',\n",
    "    'ADD-WGR-FIRTH_M1.1': 'Rare (MAF < 1%)',\n",
    "    'ADD-WGR-FIRTH_M3.singleton': 'Ultra rare (MAF < 0.01%)',\n",
    "    'ADD-WGR-FIRTH_M3.0001': 'Ultra rare (MAF < 0.01%)',\n",
    "    'ADD-WGR-FIRTH_M3.001': 'Ultra rare (MAF < 0.01%)',\n",
    "    'ADD-WGR-FIRTH_M3.01': 'Very rare (MAF < 0.1%)',\n",
    "    'ADD-WGR-FIRTH_M3.1': 'Rare (MAF < 1%)',\n",
    "    'pLoF': 'Ultra rare (MAF < 0.01%)',\n",
    "    'missense|LC': 'Ultra rare (MAF < 0.01%)',\n",
    "    'synonymous': 'Ultra rare (MAF < 0.01%)',\n",
    "    'pLoF|missense|LC': 'Ultra rare (MAF < 0.01%)'\n",
    "\n",
    "}\n",
    "\n",
    "assocs_per_model = (\n",
    "    evd.select('statisticalMethod', F.concat_ws('|', 'diseaseId', 'targetId'), 'projectId')\n",
    "    .withColumn('mafThreshold', F.col('statisticalMethod'))\n",
    "    .replace(to_replace=MODEL_TO_MAF, subset=['mafThreshold'])\n",
    "    .groupBy('statisticalMethod', 'projectId', 'mafThreshold')\n",
    "    .count()\n",
    "    .toPandas()\n",
    "    .sort_values(by='count', ascending=False)\n",
    ")\n",
    "\n",
    "fig1= px.bar(\n",
    "    assocs_per_model,\n",
    "    x='statisticalMethod',\n",
    "    y='count',\n",
    "    color='projectId',\n",
    "    height=500,\n",
    "    title='Distribution of associations per collapsing model',\n",
    "    labels={'statisticalMethod': 'Model', 'count': 'Association count', 'projectId': 'Project'},\n",
    ")\n",
    "\n",
    "fig1.update_layout(legend=dict(\n",
    "    orientation=\"h\",\n",
    "    yanchor=\"bottom\",\n",
    "    y=1.02,\n",
    "    xanchor=\"right\",\n",
    "    x=1\n",
    "))\n"
   ]
  },
  {
   "cell_type": "code",
   "execution_count": 14,
   "metadata": {},
   "outputs": [
    {
     "data": {
      "text/plain": [
       "'https://plotly.com/~irenelopezs/1/'"
      ]
     },
     "execution_count": 14,
     "metadata": {},
     "output_type": "execute_result"
    }
   ],
   "source": [
    "fig2 = px.bar(\n",
    "    assocs_per_model,\n",
    "    x='statisticalMethod',\n",
    "    y='count',\n",
    "    color='mafThreshold',\n",
    "    #pattern_shape='projectId',\n",
    "    height=500,\n",
    "    title='Distribution of associations per collapsing model',\n",
    "    hover_data=[\"projectId\", \"statisticalMethod\", \"count\", 'mafThreshold'],\n",
    "    labels={'projectId': 'Source', 'statisticalMethod': 'Model', 'count': 'Association count', 'mafThreshold': 'Minor Allele frequency'},\n",
    "    category_orders={'mafThreshold': ['Ultra rare (MAF < 0.01%)', 'Very rare (MAF < 0.1%)', 'Rare (MAF < 1%)', 'Common (MAF >= 1%)']},\n",
    ")\n",
    "\n",
    "fig2.update_layout(legend=dict(\n",
    "    orientation=\"h\",\n",
    "    yanchor=\"bottom\",\n",
    "    y=1.02,\n",
    "    xanchor=\"right\",\n",
    "    x=1\n",
    "))\n",
    "\n",
    "py.plot(fig2, filename = 'assocs_per_model', auto_open=True)"
   ]
  },
  {
   "cell_type": "markdown",
   "metadata": {},
   "source": [
    "### 4. Directions of effect\n",
    "\n",
    "1. Different directions of effect decrease the statistical power of the analysis.\n",
    "I want to get 10 overlapping genes/disease pairs and stack them to see if directions are equal."
   ]
  },
  {
   "cell_type": "code",
   "execution_count": 15,
   "metadata": {},
   "outputs": [
    {
     "name": "stdout",
     "output_type": "stream",
     "text": [
      "+---------------------------+---------+------+------------------+--------------------------+\n",
      "|associationId              |projectId|beta  |score             |statisticalMethod         |\n",
      "+---------------------------+---------+------+------------------+--------------------------+\n",
      "|EFO_0004532|ENSG00000100031|REGENERON|-0.982|1.0               |ADD-WGR-FIRTH_M3.001      |\n",
      "|EFO_0004532|ENSG00000100031|REGENERON|-1.028|1.0               |ADD-WGR-FIRTH_M3.01       |\n",
      "|EFO_0004532|ENSG00000100031|REGENERON|-1.159|1.0               |ADD-WGR-FIRTH_M3.0001     |\n",
      "|EFO_0004532|ENSG00000100031|REGENERON|-1.362|1.0               |ADD-WGR-FIRTH_M1.01       |\n",
      "|EFO_0004532|ENSG00000100031|REGENERON|-1.045|0.5915796847544801|ADD-WGR-FIRTH_M3.singleton|\n",
      "+---------------------------+---------+------+------------------+--------------------------+\n",
      "only showing top 5 rows\n",
      "\n"
     ]
    }
   ],
   "source": [
    "common_assocs = (\n",
    "    regeneron_evd\n",
    "    .filter(F.col('beta').isNotNull())\n",
    "    .select(F.concat_ws('|', 'diseaseId', 'targetId').alias('associationId'))\n",
    "    \n",
    "    .join(\n",
    "        az_evd.filter(F.col('beta').isNotNull())\n",
    "        .select(F.concat_ws('|', 'diseaseId', 'targetId').alias('associationId')),\n",
    "        on='associationId', how='inner'\n",
    "    )\n",
    "\n",
    "    .join(\n",
    "        genebass_evd.filter(F.col('beta').isNotNull())\n",
    "        .select(F.concat_ws('|', 'diseaseId', 'targetId').alias('associationId')),\n",
    "        on='associationId', how='inner'\n",
    "    )\n",
    "    .distinct()\n",
    ")\n",
    "\n",
    "regeneron_common_effects = (\n",
    "    regeneron_evd.select(F.concat_ws('|', 'diseaseId', 'targetId').alias('associationId'), 'projectId', 'beta', 'score', 'statisticalMethod')\n",
    "    .join(common_assocs, on='associationId', how='inner').distinct()\n",
    "\n",
    "    # We'll have multiple values due to multiple models - we'll take the mean\n",
    "    #.groupBy('associationId', 'projectId').agg(F.mean('beta').alias('beta'))\n",
    ")\n",
    "\n",
    "az_common_effects = (\n",
    "    az_evd.select(F.concat_ws('|', 'diseaseId', 'targetId').alias('associationId'), 'projectId', 'beta', 'score', 'statisticalMethod')\n",
    "    .join(common_assocs, on='associationId', how='inner').distinct()\n",
    ")\n",
    "\n",
    "genebass_common_effects = (\n",
    "    genebass_evd.select(F.concat_ws('|', 'diseaseId', 'targetId').alias('associationId'), 'projectId', 'beta', 'score', 'statisticalMethod')\n",
    "    .join(common_assocs, on='associationId', how='inner').distinct()\n",
    ")\n",
    "\n",
    "effects_common_assocs = regeneron_common_effects.union(az_common_effects).union(genebass_common_effects).distinct()\n",
    "\n",
    "effects_common_assocs.filter(F.col('associationId') == 'EFO_0004532|ENSG00000100031').show(5, truncate=False)\n",
    "# great!"
   ]
  },
  {
   "cell_type": "code",
   "execution_count": 16,
   "metadata": {},
   "outputs": [
    {
     "data": {
      "text/plain": [
       "'https://plotly.com/~irenelopezs/4/'"
      ]
     },
     "execution_count": 16,
     "metadata": {},
     "output_type": "execute_result"
    }
   ],
   "source": [
    "assoc_to_label = {\n",
    "    'EFO_0004458|ENSG00000132693' : 'CRP measurement&/CRP',\n",
    "    'EFO_0004584|ENSG00000101162' : 'mean platelet volume/TUBB1',\n",
    "    'EFO_0007800|ENSG00000166603' : 'body fat percentage/MC4R',\n",
    "    'EFO_0004541|ENSG00000164756' : 'HbA1c measurement/SLC30A8',\n",
    "    'EFO_0004518|ENSG00000021488' : 'creatinine measurement/SLC7A9',\n",
    "    'EFO_0010701|ENSG00000070182' : 'mean reticulocyte volume/SPTB',\n",
    "    'EFO_0004518|ENSG00000137204' : 'creatinine measurement/SLC22A7',\n",
    "    'EFO_0007993|ENSG00000196712' : 'lymphocyte percentage/NF1',\n",
    "    'EFO_0007985|ENSG00000117400' : 'platelet crit/MPL',\n",
    "    'EFO_0007985|ENSG00000054219' : 'platelet crit/LY75'\n",
    "}\n",
    "\n",
    "# I'll extract 10 examples\n",
    "top_effects_common_assocs = (\n",
    "    effects_common_assocs.orderBy('beta', ascending=False)\n",
    "    .select('associationId').distinct().limit(10)\n",
    "    .toPandas()['associationId'].to_list()\n",
    ")\n",
    "\n",
    "fig3 = px.bar(\n",
    "    (\n",
    "        effects_common_assocs\n",
    "        .filter(F.col('associationId').isin(top_effects_common_assocs))\n",
    "        .withColumn('prettyAssociationId', F.col('associationId')).replace(to_replace=assoc_to_label, subset=['prettyAssociationId'])\n",
    "        .toPandas()\n",
    "    ),\n",
    "    x='beta', y='prettyAssociationId', color='projectId', orientation='h',\n",
    "    height=400, title='Directions of effect in common associations (bigger means more risk)',\n",
    "    labels={'projectId': 'Source', 'prettyAssociationId': 'Association', 'beta': 'Effect size (beta)'},\n",
    ")\n",
    "\n",
    "fig3.update_layout(legend=dict(\n",
    "    orientation=\"h\",\n",
    "    yanchor=\"bottom\",\n",
    "    y=1.02,\n",
    "    xanchor=\"right\",\n",
    "    x=1\n",
    "))\n",
    "\n",
    "py.plot(fig3, filename = 'effect_common_assoc', auto_open=True)\n",
    "#fig3.show()\n"
   ]
  },
  {
   "cell_type": "markdown",
   "metadata": {},
   "source": [
    "### 4.2 Direction of effect comparing GWAS with Burden tests\n",
    "\n",
    "Scatter plot where:\n",
    "- X: direction of effect of Burden tests\n",
    "- Y: direction of effect of GWAS\n",
    "\n",
    "\n",
    "Are the rare variants direction of effect consistent with GWAS?"
   ]
  },
  {
   "cell_type": "code",
   "execution_count": 17,
   "metadata": {},
   "outputs": [
    {
     "name": "stdout",
     "output_type": "stream",
     "text": [
      "+--------------------+------------------+-----+-----------------+-------------------+\n",
      "|       associationId|       burden_beta|score|statisticalMethod|      genetics_beta|\n",
      "+--------------------+------------------+-----+-----------------+-------------------+\n",
      "|EFO_0004458|ENSG0...|-0.656730135449463|  1.0|              ptv|-0.1915349999999999|\n",
      "|EFO_0004458|ENSG0...|-0.656730135449463|  1.0|              ptv|             -0.186|\n",
      "|EFO_0004458|ENSG0...|-0.656730135449463|  1.0|              ptv|             -0.272|\n",
      "|EFO_0004458|ENSG0...|-0.656730135449463|  1.0|              ptv|             -0.182|\n",
      "|EFO_0004458|ENSG0...|-0.656730135449463|  1.0|              ptv|               0.15|\n",
      "+--------------------+------------------+-----+-----------------+-------------------+\n",
      "only showing top 5 rows\n",
      "\n",
      "None\n",
      "['EFO_0004458|ENSG00000132693', 'EFO_0004584|ENSG00000101162', 'EFO_0007800|ENSG00000166603', 'EFO_0010701|ENSG00000070182', 'EFO_0004308|ENSG00000168769']\n"
     ]
    }
   ],
   "source": [
    "genetics_burden_common_assocs = (\n",
    "    effects_common_assocs.withColumnRenamed('beta', 'burden_beta').drop('projectId')\n",
    "    .filter(F.col('statisticalMethod') == 'ptv').filter(F.col('burden_beta').isNotNull())\n",
    "    .join(\n",
    "        spark.read.parquet('/Users/irenelopez/Documents/dev/pyspark/22.11/evidence/sourceId=ot_genetics_portal')\n",
    "        .select(F.concat_ws('|', 'diseaseId', 'targetId').alias('associationId'), F.col('beta').alias('genetics_beta'))\n",
    "        .filter(F.col('genetics_beta').isNotNull()),\n",
    "        on='associationId', how='inner'\n",
    "    )\n",
    "\n",
    "    .distinct()\n",
    ")\n",
    "\n",
    "print(genetics_burden_common_assocs.show(5))\n",
    "\n",
    "top10 = (\n",
    "    genetics_burden_common_assocs.filter(F.abs('genetics_beta') < 5).orderBy('score', ascending=False)\n",
    "    .select('associationId').distinct().limit(10)\n",
    "    .toPandas()['associationId'].to_list()\n",
    ")\n",
    "\n",
    "print(top10[:5])\n"
   ]
  },
  {
   "cell_type": "code",
   "execution_count": 18,
   "metadata": {},
   "outputs": [
    {
     "data": {
      "application/vnd.plotly.v1+json": {
       "config": {
        "plotlyServerURL": "https://plotly.com"
       },
       "data": [
        {
         "hovertemplate": "associationId=EFO_0004308|ENSG00000168769<br>genetics_beta=%{x}<br>burden_beta=%{y}<extra></extra>",
         "legendgroup": "EFO_0004308|ENSG00000168769",
         "marker": {
          "color": "#636efa",
          "symbol": "circle"
         },
         "mode": "markers",
         "name": "EFO_0004308|ENSG00000168769",
         "orientation": "v",
         "showlegend": true,
         "type": "scatter",
         "x": [
          -0.0139654999999999,
          -0.0136449,
          0.0472,
          0.1143469999999999,
          0.0514737,
          -0.0254406,
          0.0390447
         ],
         "xaxis": "x",
         "y": [
          -0.258650519805315,
          -0.258650519805315,
          -0.258650519805315,
          -0.258650519805315,
          -0.258650519805315,
          -0.258650519805315,
          -0.258650519805315
         ],
         "yaxis": "y"
        },
        {
         "hovertemplate": "associationId=EFO_0004309|ENSG00000179218<br>genetics_beta=%{x}<br>burden_beta=%{y}<extra></extra>",
         "legendgroup": "EFO_0004309|ENSG00000179218",
         "marker": {
          "color": "#EF553B",
          "symbol": "circle"
         },
         "mode": "markers",
         "name": "EFO_0004309|ENSG00000179218",
         "orientation": "v",
         "showlegend": true,
         "type": "scatter",
         "x": [
          -2.49689,
          -0.0403769999999999,
          -0.0132036999999999,
          -0.0434,
          -1.13714,
          -0.0423133
         ],
         "xaxis": "x",
         "y": [
          1.08191585454144,
          1.08191585454144,
          1.08191585454144,
          1.08191585454144,
          1.08191585454144,
          1.08191585454144
         ],
         "yaxis": "y"
        },
        {
         "hovertemplate": "associationId=EFO_0004339|ENSG00000196739<br>genetics_beta=%{x}<br>burden_beta=%{y}<extra></extra>",
         "legendgroup": "EFO_0004339|ENSG00000196739",
         "marker": {
          "color": "#00cc96",
          "symbol": "circle"
         },
         "mode": "markers",
         "name": "EFO_0004339|ENSG00000196739",
         "orientation": "v",
         "showlegend": true,
         "type": "scatter",
         "x": [
          -0.0282172999999999,
          0.0166293,
          0.118715
         ],
         "xaxis": "x",
         "y": [
          -0.381080886804862,
          -0.381080886804862,
          -0.381080886804862
         ],
         "yaxis": "y"
        },
        {
         "hovertemplate": "associationId=EFO_0004458|ENSG00000132693<br>genetics_beta=%{x}<br>burden_beta=%{y}<extra></extra>",
         "legendgroup": "EFO_0004458|ENSG00000132693",
         "marker": {
          "color": "#ab63fa",
          "symbol": "circle"
         },
         "mode": "markers",
         "name": "EFO_0004458|ENSG00000132693",
         "orientation": "v",
         "showlegend": true,
         "type": "scatter",
         "x": [
          -0.1915349999999999,
          -0.186,
          -0.272,
          -0.182,
          0.15,
          -0.0166774,
          0.3729,
          0.2137,
          -20.7,
          0.153,
          0.0142043,
          -0.129,
          0.2,
          -0.1724,
          0.2321,
          0.33,
          -0.106,
          0.152,
          -0.224,
          -0.288,
          0.2412,
          0.0854352999999999,
          -0.168069,
          0.161,
          -0.16,
          0.169,
          -0.2906749999999999,
          -0.202,
          0.116,
          -0.164,
          0.244,
          0.4199,
          -0.1783
         ],
         "xaxis": "x",
         "y": [
          -0.656730135449463,
          -0.656730135449463,
          -0.656730135449463,
          -0.656730135449463,
          -0.656730135449463,
          -0.656730135449463,
          -0.656730135449463,
          -0.656730135449463,
          -0.656730135449463,
          -0.656730135449463,
          -0.656730135449463,
          -0.656730135449463,
          -0.656730135449463,
          -0.656730135449463,
          -0.656730135449463,
          -0.656730135449463,
          -0.656730135449463,
          -0.656730135449463,
          -0.656730135449463,
          -0.656730135449463,
          -0.656730135449463,
          -0.656730135449463,
          -0.656730135449463,
          -0.656730135449463,
          -0.656730135449463,
          -0.656730135449463,
          -0.656730135449463,
          -0.656730135449463,
          -0.656730135449463,
          -0.656730135449463,
          -0.656730135449463,
          -0.656730135449463,
          -0.656730135449463
         ],
         "yaxis": "y"
        },
        {
         "hovertemplate": "associationId=EFO_0004584|ENSG00000101162<br>genetics_beta=%{x}<br>burden_beta=%{y}<extra></extra>",
         "legendgroup": "EFO_0004584|ENSG00000101162",
         "marker": {
          "color": "#FFA15A",
          "symbol": "circle"
         },
         "mode": "markers",
         "name": "EFO_0004584|ENSG00000101162",
         "orientation": "v",
         "showlegend": true,
         "type": "scatter",
         "x": [
          -0.008,
          -0.07418731,
          -0.108509,
          0.0549649,
          -0.121293,
          -0.0817296,
          0.04952565,
          -0.073268,
          0.1408,
          -0.126311,
          -0.1267309999999999,
          0.0528014999999999,
          -0.1120279999999999,
          0.0536667,
          0.0589496,
          0.049427,
          -0.132564,
          -0.1409989999999999,
          -0.1279017,
          0.0539759999999999,
          -0.0719855,
          -0.112057,
          -0.0748171,
          -0.114893
         ],
         "xaxis": "x",
         "y": [
          0.895214313874276,
          0.895214313874276,
          0.895214313874276,
          0.895214313874276,
          0.895214313874276,
          0.895214313874276,
          0.895214313874276,
          0.895214313874276,
          0.895214313874276,
          0.895214313874276,
          0.895214313874276,
          0.895214313874276,
          0.895214313874276,
          0.895214313874276,
          0.895214313874276,
          0.895214313874276,
          0.895214313874276,
          0.895214313874276,
          0.895214313874276,
          0.895214313874276,
          0.895214313874276,
          0.895214313874276,
          0.895214313874276,
          0.895214313874276
         ],
         "yaxis": "y"
        },
        {
         "hovertemplate": "associationId=EFO_0004584|ENSG00000145703<br>genetics_beta=%{x}<br>burden_beta=%{y}<extra></extra>",
         "legendgroup": "EFO_0004584|ENSG00000145703",
         "marker": {
          "color": "#19d3f3",
          "symbol": "circle"
         },
         "mode": "markers",
         "name": "EFO_0004584|ENSG00000145703",
         "orientation": "v",
         "showlegend": true,
         "type": "scatter",
         "x": [
          0.3249944999999999,
          0.02964302,
          0.021,
          -0.0671142,
          0.197351,
          0.273798,
          0.2202619999999999,
          0.2677879999999999,
          0.2008289999999999,
          -0.0680059,
          -0.1009569999999999,
          0.0270147,
          -0.0328578999999999,
          0.338273,
          -0.0707373,
          0.2696778999999999,
          0.049419,
          0.0774595999999999,
          -0.069648,
          0.2728069999999999,
          0.1974979999999999,
          0.0269167,
          -0.0709614,
          -0.06466721,
          -0.0271923,
          -0.0286535,
          0.0332166,
          -0.066815,
          0.33657,
          -0.026411,
          0.0279350999999999,
          0.2105824,
          0.334995,
          0.026854,
          0.3618909999999999,
          0.297738,
          0.074996
         ],
         "xaxis": "x",
         "y": [
          0.706484597860028,
          0.706484597860028,
          0.706484597860028,
          0.706484597860028,
          0.706484597860028,
          0.706484597860028,
          0.706484597860028,
          0.706484597860028,
          0.706484597860028,
          0.706484597860028,
          0.706484597860028,
          0.706484597860028,
          0.706484597860028,
          0.706484597860028,
          0.706484597860028,
          0.706484597860028,
          0.706484597860028,
          0.706484597860028,
          0.706484597860028,
          0.706484597860028,
          0.706484597860028,
          0.706484597860028,
          0.706484597860028,
          0.706484597860028,
          0.706484597860028,
          0.706484597860028,
          0.706484597860028,
          0.706484597860028,
          0.706484597860028,
          0.706484597860028,
          0.706484597860028,
          0.706484597860028,
          0.706484597860028,
          0.706484597860028,
          0.706484597860028,
          0.706484597860028,
          0.706484597860028
         ],
         "yaxis": "y"
        },
        {
         "hovertemplate": "associationId=EFO_0004587|ENSG00000155903<br>genetics_beta=%{x}<br>burden_beta=%{y}<extra></extra>",
         "legendgroup": "EFO_0004587|ENSG00000155903",
         "marker": {
          "color": "#FF6692",
          "symbol": "circle"
         },
         "mode": "markers",
         "name": "EFO_0004587|ENSG00000155903",
         "orientation": "v",
         "showlegend": true,
         "type": "scatter",
         "x": [
          0.0236962,
          0.025176,
          0.024999,
          0.0184,
          0.02903412
         ],
         "xaxis": "x",
         "y": [
          -0.362009996209302,
          -0.362009996209302,
          -0.362009996209302,
          -0.362009996209302,
          -0.362009996209302
         ],
         "yaxis": "y"
        },
        {
         "hovertemplate": "associationId=EFO_0004732|ENSG00000084674<br>genetics_beta=%{x}<br>burden_beta=%{y}<extra></extra>",
         "legendgroup": "EFO_0004732|ENSG00000084674",
         "marker": {
          "color": "#B6E880",
          "symbol": "circle"
         },
         "mode": "markers",
         "name": "EFO_0004732|ENSG00000084674",
         "orientation": "v",
         "showlegend": true,
         "type": "scatter",
         "x": [
          0.11
         ],
         "xaxis": "x",
         "y": [
          0.250802816963574
         ],
         "yaxis": "y"
        },
        {
         "hovertemplate": "associationId=EFO_0007800|ENSG00000166603<br>genetics_beta=%{x}<br>burden_beta=%{y}<extra></extra>",
         "legendgroup": "EFO_0007800|ENSG00000166603",
         "marker": {
          "color": "#FF97FF",
          "symbol": "circle"
         },
         "mode": "markers",
         "name": "EFO_0007800|ENSG00000166603",
         "orientation": "v",
         "showlegend": true,
         "type": "scatter",
         "x": [
          -0.533301,
          0.2956769999999999,
          0.034,
          0.026,
          0.2055179999999999,
          0.212993,
          0.1617279999999999,
          -0.771246,
          0.29978,
          0.186057,
          -0.7896900000000001,
          -0.6854359999999999,
          0.185894,
          0.172984,
          0.042,
          0.131483,
          -0.546862,
          -0.647716,
          -0.533301,
          0.2956769999999999,
          0.034,
          0.026,
          0.2055179999999999,
          0.212993,
          0.1617279999999999,
          -0.771246,
          0.29978,
          0.186057,
          -0.7896900000000001,
          -0.6854359999999999,
          0.185894,
          0.172984,
          0.042,
          0.131483,
          -0.546862,
          -0.647716
         ],
         "xaxis": "x",
         "y": [
          0.321788484564147,
          0.321788484564147,
          0.321788484564147,
          0.321788484564147,
          0.321788484564147,
          0.321788484564147,
          0.321788484564147,
          0.321788484564147,
          0.321788484564147,
          0.321788484564147,
          0.321788484564147,
          0.321788484564147,
          0.321788484564147,
          0.321788484564147,
          0.321788484564147,
          0.321788484564147,
          0.321788484564147,
          0.321788484564147,
          0.329680336999825,
          0.329680336999825,
          0.329680336999825,
          0.329680336999825,
          0.329680336999825,
          0.329680336999825,
          0.329680336999825,
          0.329680336999825,
          0.329680336999825,
          0.329680336999825,
          0.329680336999825,
          0.329680336999825,
          0.329680336999825,
          0.329680336999825,
          0.329680336999825,
          0.329680336999825,
          0.329680336999825,
          0.329680336999825
         ],
         "yaxis": "y"
        },
        {
         "hovertemplate": "associationId=EFO_0010701|ENSG00000070182<br>genetics_beta=%{x}<br>burden_beta=%{y}<extra></extra>",
         "legendgroup": "EFO_0010701|ENSG00000070182",
         "marker": {
          "color": "#FECB52",
          "symbol": "circle"
         },
         "mode": "markers",
         "name": "EFO_0010701|ENSG00000070182",
         "orientation": "v",
         "showlegend": true,
         "type": "scatter",
         "x": [
          0.0437127,
          0.0225795,
          -0.0509035,
          0.014001,
          0.012787,
          0.0512585,
          -0.0330696,
          0.0481370999999999,
          0.0172472
         ],
         "xaxis": "x",
         "y": [
          -0.806573160894074,
          -0.806573160894074,
          -0.806573160894074,
          -0.806573160894074,
          -0.806573160894074,
          -0.806573160894074,
          -0.806573160894074,
          -0.806573160894074,
          -0.806573160894074
         ],
         "yaxis": "y"
        }
       ],
       "layout": {
        "autosize": false,
        "height": 700,
        "legend": {
         "orientation": "h",
         "title": {
          "text": "associationId"
         },
         "tracegroupgap": 0
        },
        "shapes": [
         {
          "type": "line",
          "x0": 0,
          "x1": 1,
          "xref": "x domain",
          "y0": 0,
          "y1": 0,
          "yref": "y"
         },
         {
          "type": "line",
          "x0": 0,
          "x1": 0,
          "xref": "x",
          "y0": 0,
          "y1": 1,
          "yref": "y domain"
         }
        ],
        "template": {
         "data": {
          "bar": [
           {
            "error_x": {
             "color": "#2a3f5f"
            },
            "error_y": {
             "color": "#2a3f5f"
            },
            "marker": {
             "line": {
              "color": "#E5ECF6",
              "width": 0.5
             },
             "pattern": {
              "fillmode": "overlay",
              "size": 10,
              "solidity": 0.2
             }
            },
            "type": "bar"
           }
          ],
          "barpolar": [
           {
            "marker": {
             "line": {
              "color": "#E5ECF6",
              "width": 0.5
             },
             "pattern": {
              "fillmode": "overlay",
              "size": 10,
              "solidity": 0.2
             }
            },
            "type": "barpolar"
           }
          ],
          "carpet": [
           {
            "aaxis": {
             "endlinecolor": "#2a3f5f",
             "gridcolor": "white",
             "linecolor": "white",
             "minorgridcolor": "white",
             "startlinecolor": "#2a3f5f"
            },
            "baxis": {
             "endlinecolor": "#2a3f5f",
             "gridcolor": "white",
             "linecolor": "white",
             "minorgridcolor": "white",
             "startlinecolor": "#2a3f5f"
            },
            "type": "carpet"
           }
          ],
          "choropleth": [
           {
            "colorbar": {
             "outlinewidth": 0,
             "ticks": ""
            },
            "type": "choropleth"
           }
          ],
          "contour": [
           {
            "colorbar": {
             "outlinewidth": 0,
             "ticks": ""
            },
            "colorscale": [
             [
              0,
              "#0d0887"
             ],
             [
              0.1111111111111111,
              "#46039f"
             ],
             [
              0.2222222222222222,
              "#7201a8"
             ],
             [
              0.3333333333333333,
              "#9c179e"
             ],
             [
              0.4444444444444444,
              "#bd3786"
             ],
             [
              0.5555555555555556,
              "#d8576b"
             ],
             [
              0.6666666666666666,
              "#ed7953"
             ],
             [
              0.7777777777777778,
              "#fb9f3a"
             ],
             [
              0.8888888888888888,
              "#fdca26"
             ],
             [
              1,
              "#f0f921"
             ]
            ],
            "type": "contour"
           }
          ],
          "contourcarpet": [
           {
            "colorbar": {
             "outlinewidth": 0,
             "ticks": ""
            },
            "type": "contourcarpet"
           }
          ],
          "heatmap": [
           {
            "colorbar": {
             "outlinewidth": 0,
             "ticks": ""
            },
            "colorscale": [
             [
              0,
              "#0d0887"
             ],
             [
              0.1111111111111111,
              "#46039f"
             ],
             [
              0.2222222222222222,
              "#7201a8"
             ],
             [
              0.3333333333333333,
              "#9c179e"
             ],
             [
              0.4444444444444444,
              "#bd3786"
             ],
             [
              0.5555555555555556,
              "#d8576b"
             ],
             [
              0.6666666666666666,
              "#ed7953"
             ],
             [
              0.7777777777777778,
              "#fb9f3a"
             ],
             [
              0.8888888888888888,
              "#fdca26"
             ],
             [
              1,
              "#f0f921"
             ]
            ],
            "type": "heatmap"
           }
          ],
          "heatmapgl": [
           {
            "colorbar": {
             "outlinewidth": 0,
             "ticks": ""
            },
            "colorscale": [
             [
              0,
              "#0d0887"
             ],
             [
              0.1111111111111111,
              "#46039f"
             ],
             [
              0.2222222222222222,
              "#7201a8"
             ],
             [
              0.3333333333333333,
              "#9c179e"
             ],
             [
              0.4444444444444444,
              "#bd3786"
             ],
             [
              0.5555555555555556,
              "#d8576b"
             ],
             [
              0.6666666666666666,
              "#ed7953"
             ],
             [
              0.7777777777777778,
              "#fb9f3a"
             ],
             [
              0.8888888888888888,
              "#fdca26"
             ],
             [
              1,
              "#f0f921"
             ]
            ],
            "type": "heatmapgl"
           }
          ],
          "histogram": [
           {
            "marker": {
             "pattern": {
              "fillmode": "overlay",
              "size": 10,
              "solidity": 0.2
             }
            },
            "type": "histogram"
           }
          ],
          "histogram2d": [
           {
            "colorbar": {
             "outlinewidth": 0,
             "ticks": ""
            },
            "colorscale": [
             [
              0,
              "#0d0887"
             ],
             [
              0.1111111111111111,
              "#46039f"
             ],
             [
              0.2222222222222222,
              "#7201a8"
             ],
             [
              0.3333333333333333,
              "#9c179e"
             ],
             [
              0.4444444444444444,
              "#bd3786"
             ],
             [
              0.5555555555555556,
              "#d8576b"
             ],
             [
              0.6666666666666666,
              "#ed7953"
             ],
             [
              0.7777777777777778,
              "#fb9f3a"
             ],
             [
              0.8888888888888888,
              "#fdca26"
             ],
             [
              1,
              "#f0f921"
             ]
            ],
            "type": "histogram2d"
           }
          ],
          "histogram2dcontour": [
           {
            "colorbar": {
             "outlinewidth": 0,
             "ticks": ""
            },
            "colorscale": [
             [
              0,
              "#0d0887"
             ],
             [
              0.1111111111111111,
              "#46039f"
             ],
             [
              0.2222222222222222,
              "#7201a8"
             ],
             [
              0.3333333333333333,
              "#9c179e"
             ],
             [
              0.4444444444444444,
              "#bd3786"
             ],
             [
              0.5555555555555556,
              "#d8576b"
             ],
             [
              0.6666666666666666,
              "#ed7953"
             ],
             [
              0.7777777777777778,
              "#fb9f3a"
             ],
             [
              0.8888888888888888,
              "#fdca26"
             ],
             [
              1,
              "#f0f921"
             ]
            ],
            "type": "histogram2dcontour"
           }
          ],
          "mesh3d": [
           {
            "colorbar": {
             "outlinewidth": 0,
             "ticks": ""
            },
            "type": "mesh3d"
           }
          ],
          "parcoords": [
           {
            "line": {
             "colorbar": {
              "outlinewidth": 0,
              "ticks": ""
             }
            },
            "type": "parcoords"
           }
          ],
          "pie": [
           {
            "automargin": true,
            "type": "pie"
           }
          ],
          "scatter": [
           {
            "fillpattern": {
             "fillmode": "overlay",
             "size": 10,
             "solidity": 0.2
            },
            "type": "scatter"
           }
          ],
          "scatter3d": [
           {
            "line": {
             "colorbar": {
              "outlinewidth": 0,
              "ticks": ""
             }
            },
            "marker": {
             "colorbar": {
              "outlinewidth": 0,
              "ticks": ""
             }
            },
            "type": "scatter3d"
           }
          ],
          "scattercarpet": [
           {
            "marker": {
             "colorbar": {
              "outlinewidth": 0,
              "ticks": ""
             }
            },
            "type": "scattercarpet"
           }
          ],
          "scattergeo": [
           {
            "marker": {
             "colorbar": {
              "outlinewidth": 0,
              "ticks": ""
             }
            },
            "type": "scattergeo"
           }
          ],
          "scattergl": [
           {
            "marker": {
             "colorbar": {
              "outlinewidth": 0,
              "ticks": ""
             }
            },
            "type": "scattergl"
           }
          ],
          "scattermapbox": [
           {
            "marker": {
             "colorbar": {
              "outlinewidth": 0,
              "ticks": ""
             }
            },
            "type": "scattermapbox"
           }
          ],
          "scatterpolar": [
           {
            "marker": {
             "colorbar": {
              "outlinewidth": 0,
              "ticks": ""
             }
            },
            "type": "scatterpolar"
           }
          ],
          "scatterpolargl": [
           {
            "marker": {
             "colorbar": {
              "outlinewidth": 0,
              "ticks": ""
             }
            },
            "type": "scatterpolargl"
           }
          ],
          "scatterternary": [
           {
            "marker": {
             "colorbar": {
              "outlinewidth": 0,
              "ticks": ""
             }
            },
            "type": "scatterternary"
           }
          ],
          "surface": [
           {
            "colorbar": {
             "outlinewidth": 0,
             "ticks": ""
            },
            "colorscale": [
             [
              0,
              "#0d0887"
             ],
             [
              0.1111111111111111,
              "#46039f"
             ],
             [
              0.2222222222222222,
              "#7201a8"
             ],
             [
              0.3333333333333333,
              "#9c179e"
             ],
             [
              0.4444444444444444,
              "#bd3786"
             ],
             [
              0.5555555555555556,
              "#d8576b"
             ],
             [
              0.6666666666666666,
              "#ed7953"
             ],
             [
              0.7777777777777778,
              "#fb9f3a"
             ],
             [
              0.8888888888888888,
              "#fdca26"
             ],
             [
              1,
              "#f0f921"
             ]
            ],
            "type": "surface"
           }
          ],
          "table": [
           {
            "cells": {
             "fill": {
              "color": "#EBF0F8"
             },
             "line": {
              "color": "white"
             }
            },
            "header": {
             "fill": {
              "color": "#C8D4E3"
             },
             "line": {
              "color": "white"
             }
            },
            "type": "table"
           }
          ]
         },
         "layout": {
          "annotationdefaults": {
           "arrowcolor": "#2a3f5f",
           "arrowhead": 0,
           "arrowwidth": 1
          },
          "autotypenumbers": "strict",
          "coloraxis": {
           "colorbar": {
            "outlinewidth": 0,
            "ticks": ""
           }
          },
          "colorscale": {
           "diverging": [
            [
             0,
             "#8e0152"
            ],
            [
             0.1,
             "#c51b7d"
            ],
            [
             0.2,
             "#de77ae"
            ],
            [
             0.3,
             "#f1b6da"
            ],
            [
             0.4,
             "#fde0ef"
            ],
            [
             0.5,
             "#f7f7f7"
            ],
            [
             0.6,
             "#e6f5d0"
            ],
            [
             0.7,
             "#b8e186"
            ],
            [
             0.8,
             "#7fbc41"
            ],
            [
             0.9,
             "#4d9221"
            ],
            [
             1,
             "#276419"
            ]
           ],
           "sequential": [
            [
             0,
             "#0d0887"
            ],
            [
             0.1111111111111111,
             "#46039f"
            ],
            [
             0.2222222222222222,
             "#7201a8"
            ],
            [
             0.3333333333333333,
             "#9c179e"
            ],
            [
             0.4444444444444444,
             "#bd3786"
            ],
            [
             0.5555555555555556,
             "#d8576b"
            ],
            [
             0.6666666666666666,
             "#ed7953"
            ],
            [
             0.7777777777777778,
             "#fb9f3a"
            ],
            [
             0.8888888888888888,
             "#fdca26"
            ],
            [
             1,
             "#f0f921"
            ]
           ],
           "sequentialminus": [
            [
             0,
             "#0d0887"
            ],
            [
             0.1111111111111111,
             "#46039f"
            ],
            [
             0.2222222222222222,
             "#7201a8"
            ],
            [
             0.3333333333333333,
             "#9c179e"
            ],
            [
             0.4444444444444444,
             "#bd3786"
            ],
            [
             0.5555555555555556,
             "#d8576b"
            ],
            [
             0.6666666666666666,
             "#ed7953"
            ],
            [
             0.7777777777777778,
             "#fb9f3a"
            ],
            [
             0.8888888888888888,
             "#fdca26"
            ],
            [
             1,
             "#f0f921"
            ]
           ]
          },
          "colorway": [
           "#636efa",
           "#EF553B",
           "#00cc96",
           "#ab63fa",
           "#FFA15A",
           "#19d3f3",
           "#FF6692",
           "#B6E880",
           "#FF97FF",
           "#FECB52"
          ],
          "font": {
           "color": "#2a3f5f"
          },
          "geo": {
           "bgcolor": "white",
           "lakecolor": "white",
           "landcolor": "#E5ECF6",
           "showlakes": true,
           "showland": true,
           "subunitcolor": "white"
          },
          "hoverlabel": {
           "align": "left"
          },
          "hovermode": "closest",
          "mapbox": {
           "style": "light"
          },
          "paper_bgcolor": "white",
          "plot_bgcolor": "#E5ECF6",
          "polar": {
           "angularaxis": {
            "gridcolor": "white",
            "linecolor": "white",
            "ticks": ""
           },
           "bgcolor": "#E5ECF6",
           "radialaxis": {
            "gridcolor": "white",
            "linecolor": "white",
            "ticks": ""
           }
          },
          "scene": {
           "xaxis": {
            "backgroundcolor": "#E5ECF6",
            "gridcolor": "white",
            "gridwidth": 2,
            "linecolor": "white",
            "showbackground": true,
            "ticks": "",
            "zerolinecolor": "white"
           },
           "yaxis": {
            "backgroundcolor": "#E5ECF6",
            "gridcolor": "white",
            "gridwidth": 2,
            "linecolor": "white",
            "showbackground": true,
            "ticks": "",
            "zerolinecolor": "white"
           },
           "zaxis": {
            "backgroundcolor": "#E5ECF6",
            "gridcolor": "white",
            "gridwidth": 2,
            "linecolor": "white",
            "showbackground": true,
            "ticks": "",
            "zerolinecolor": "white"
           }
          },
          "shapedefaults": {
           "line": {
            "color": "#2a3f5f"
           }
          },
          "ternary": {
           "aaxis": {
            "gridcolor": "white",
            "linecolor": "white",
            "ticks": ""
           },
           "baxis": {
            "gridcolor": "white",
            "linecolor": "white",
            "ticks": ""
           },
           "bgcolor": "#E5ECF6",
           "caxis": {
            "gridcolor": "white",
            "linecolor": "white",
            "ticks": ""
           }
          },
          "title": {
           "x": 0.05
          },
          "xaxis": {
           "automargin": true,
           "gridcolor": "white",
           "linecolor": "white",
           "ticks": "",
           "title": {
            "standoff": 15
           },
           "zerolinecolor": "white",
           "zerolinewidth": 2
          },
          "yaxis": {
           "automargin": true,
           "gridcolor": "white",
           "linecolor": "white",
           "ticks": "",
           "title": {
            "standoff": 15
           },
           "zerolinecolor": "white",
           "zerolinewidth": 2
          }
         }
        },
        "title": {
         "text": "Direction of effect"
        },
        "width": 700,
        "xaxis": {
         "anchor": "y",
         "domain": [
          0,
          1
         ],
         "title": {
          "text": "Effect size (OT Genetics Portal)"
         }
        },
        "yaxis": {
         "anchor": "x",
         "domain": [
          0,
          1
         ],
         "title": {
          "text": "Effect size (Gene Burden)"
         }
        }
       }
      }
     },
     "metadata": {},
     "output_type": "display_data"
    }
   ],
   "source": [
    "# I want to plot the top 10 associations with the most number of evidence\n",
    "\n",
    "fig3b = px.scatter(\n",
    "    genetics_burden_common_assocs.filter(F.col('associationId').isin(top10)).toPandas(),\n",
    "    y='burden_beta', x='genetics_beta',\n",
    "    color='associationId',\n",
    "    title='Direction of effect',\n",
    ")\n",
    "fig3b.add_hline(y=0)\n",
    "fig3b.add_vline(x=0)\n",
    "\n",
    "fig3b.update_layout(\n",
    "    #xaxis=dict(range=[-16, 16]),\n",
    "    #yaxis=dict(range=[-2, 2]),\n",
    "    autosize=False,\n",
    "    width=700,\n",
    "    height=700,\n",
    "    legend=dict(\n",
    "        orientation=\"h\",\n",
    "    ),\n",
    "    xaxis_title='Effect size (OT Genetics Portal)',\n",
    "    yaxis_title='Effect size (Gene Burden)',\n",
    ")\n",
    "\n",
    "#pyo.plot(fig3b, filename = 'Direction of effect', auto_open=True)\n",
    "#py.plot(fig3b, filename = 'gwas_exwas_doe', auto_open=True)\n",
    "fig3b.show()"
   ]
  },
  {
   "cell_type": "code",
   "execution_count": 19,
   "metadata": {},
   "outputs": [
    {
     "data": {
      "text/plain": [
       "['EFO_0004458|ENSG00000132693',\n",
       " 'EFO_0004584|ENSG00000101162',\n",
       " 'EFO_0007800|ENSG00000166603',\n",
       " 'EFO_0010701|ENSG00000070182',\n",
       " 'EFO_0004308|ENSG00000168769',\n",
       " 'EFO_0004339|ENSG00000196739',\n",
       " 'EFO_0004584|ENSG00000145703',\n",
       " 'EFO_0004732|ENSG00000084674',\n",
       " 'EFO_0004309|ENSG00000179218',\n",
       " 'EFO_0004587|ENSG00000155903']"
      ]
     },
     "execution_count": 19,
     "metadata": {},
     "output_type": "execute_result"
    }
   ],
   "source": [
    "top10"
   ]
  },
  {
   "cell_type": "code",
   "execution_count": 20,
   "metadata": {},
   "outputs": [
    {
     "name": "stdout",
     "output_type": "stream",
     "text": [
      "+--------------------+------------------+-----+-----------------+-------------------+\n",
      "|       associationId|       burden_beta|score|statisticalMethod|      genetics_beta|\n",
      "+--------------------+------------------+-----+-----------------+-------------------+\n",
      "|EFO_0004509|ENSG0...|-0.408703226328481|  1.0|              ptv|               0.13|\n",
      "|EFO_0004509|ENSG0...|-0.408703226328481|  1.0|              ptv|          -0.040178|\n",
      "|EFO_0004509|ENSG0...|-0.408703226328481|  1.0|              ptv|             0.0671|\n",
      "|EFO_0004509|ENSG0...|-0.408703226328481|  1.0|              ptv|-0.0394737999999999|\n",
      "|EFO_0004509|ENSG0...|-0.408703226328481|  1.0|              ptv|         0.09874955|\n",
      "|EFO_0004509|ENSG0...|-0.408703226328481|  1.0|              ptv|          0.0963295|\n",
      "|EFO_0004509|ENSG0...|-0.408703226328481|  1.0|              ptv|              0.122|\n",
      "|EFO_0004509|ENSG0...|-0.408703226328481|  1.0|              ptv|              0.062|\n",
      "|EFO_0004509|ENSG0...|-0.408703226328481|  1.0|              ptv|               0.15|\n",
      "|EFO_0004509|ENSG0...|-0.408703226328481|  1.0|              ptv|          -0.041752|\n",
      "|EFO_0004509|ENSG0...|-0.408703226328481|  1.0|              ptv|               0.11|\n",
      "|EFO_0004509|ENSG0...|-0.408703226328481|  1.0|              ptv|           0.062835|\n",
      "|EFO_0004509|ENSG0...|-0.408703226328481|  1.0|              ptv|          -0.073198|\n",
      "|EFO_0004509|ENSG0...|-0.408703226328481|  1.0|              ptv|        -0.04432027|\n",
      "|EFO_0004509|ENSG0...|-0.408703226328481|  1.0|              ptv|            0.10122|\n",
      "|EFO_0004509|ENSG0...|-0.408703226328481|  1.0|              ptv|             0.0896|\n",
      "|EFO_0004509|ENSG0...|-0.408703226328481|  1.0|              ptv|-0.0736691999999999|\n",
      "|EFO_0004509|ENSG0...|-0.408703226328481|  1.0|              ptv|             0.0872|\n",
      "|EFO_0004509|ENSG0...|-0.408703226328481|  1.0|              ptv|              0.109|\n",
      "|EFO_0004509|ENSG0...|-0.408703226328481|  1.0|              ptv|          0.0481428|\n",
      "+--------------------+------------------+-----+-----------------+-------------------+\n",
      "only showing top 20 rows\n",
      "\n"
     ]
    }
   ],
   "source": [
    "genetics_burden_common_assocs.filter(F.col('associationId') == 'EFO_0004509|ENSG00000187045').show()"
   ]
  },
  {
   "cell_type": "markdown",
   "metadata": {},
   "source": [
    "### 3. MEASURE OF EFFECT PER MUTATION TYPE -> Not relevant."
   ]
  },
  {
   "cell_type": "code",
   "execution_count": 27,
   "metadata": {},
   "outputs": [],
   "source": [
    "effect_variant_corr_quant = (\n",
    "    evd.select('statisticalMethod', F.concat_ws('|', 'diseaseId', 'targetId'), 'projectId', 'beta')\n",
    "    .filter(F.col('beta').isNotNull())\n",
    "    .withColumn('mafThreshold', F.col('statisticalMethod'))\n",
    "    .replace(to_replace=MODEL_TO_MAF, subset=['mafThreshold'])\n",
    "    .withColumn(\n",
    "        'effectDirection',\n",
    "        F.when(F.col('beta') > 0, 'risk')\n",
    "        .when(F.col('beta') < 0, 'protective')\n",
    "    )\n",
    "    .toPandas()\n",
    ")\n",
    "\n",
    "effect_variant_corr_bin = (\n",
    "    evd.select('statisticalMethod', F.concat_ws('|', 'diseaseId', 'targetId'), 'projectId', 'oddsRatio')\n",
    "    .filter(F.col('oddsRatio').isNotNull())\n",
    "    .withColumn('mafThreshold', F.col('statisticalMethod'))\n",
    "    .replace(to_replace=MODEL_TO_MAF, subset=['mafThreshold'])\n",
    "    .withColumn(\n",
    "        'effectDirection',\n",
    "        F.when(F.col('oddsRatio') >= 1, 'risk')\n",
    "        .when(F.col('oddsRatio') <= 1, 'protective')\n",
    "    )\n",
    "    .toPandas()\n",
    ")\n",
    "\n",
    "\n",
    "#print(effect_variant_corr_bin.effectDirection.value_counts().plot(kind='pie', title='Binary trait effect'))\n",
    "#print(effect_variant_corr_quant.effectDirection.value_counts().plot(kind='pie', title='Quant trait effect'))\n"
   ]
  },
  {
   "cell_type": "markdown",
   "metadata": {},
   "source": [
    "### 4. What is the fraction of evidence that show consistent directions of effect?"
   ]
  },
  {
   "cell_type": "code",
   "execution_count": 22,
   "metadata": {},
   "outputs": [
    {
     "name": "stdout",
     "output_type": "stream",
     "text": [
      "+---------------+-----------+--------------------+------------------+\n",
      "|       targetId|  diseaseId|               betas|  effectDirections|\n",
      "+---------------+-----------+--------------------+------------------+\n",
      "|ENSG00000000460|EFO_0004704|[0.00363895166362...|            [risk]|\n",
      "|ENSG00000001626|EFO_0004541|[-0.0044070929031...|      [protective]|\n",
      "|ENSG00000002745|EFO_0009270|[-0.0033675306388...|[protective, risk]|\n",
      "|ENSG00000004139|EFO_0002571|[0.05324806976693...|            [risk]|\n",
      "|ENSG00000004399|EFO_0004343|[-0.0224494580267...|      [protective]|\n",
      "+---------------+-----------+--------------------+------------------+\n",
      "only showing top 5 rows\n",
      "\n"
     ]
    }
   ],
   "source": [
    "\n",
    "bin_assoc_effect = (\n",
    "    evd.filter(F.col('oddsRatio').isNotNull())\n",
    "    .withColumn(\n",
    "        'effectDirection',\n",
    "        F.when(F.col('oddsRatio') > 1, 'risk')\n",
    "        .when(F.col('oddsRatio') < 1, 'protective')\n",
    "    )\n",
    "    .groupBy('targetId', 'diseaseId').agg(F.collect_set('oddsRatio').alias('oddsRatios'), F.collect_set('effectDirection').alias('effectDirections'))\n",
    ")\n",
    "\n",
    "quant_assoc_effect = (\n",
    "    evd.filter(F.col('beta').isNotNull())\n",
    "    .withColumn(\n",
    "        'effectDirection',\n",
    "        F.when(F.col('beta') > 0, 'risk')\n",
    "        .when(F.col('beta') < 0, 'protective')\n",
    "    )\n",
    "    .groupBy('targetId', 'diseaseId').agg(F.collect_set('beta').alias('betas'), F.collect_set('effectDirection').alias('effectDirections'))\n",
    ")\n",
    "\n",
    "quant_assoc_effect.show(5)"
   ]
  },
  {
   "cell_type": "code",
   "execution_count": 23,
   "metadata": {},
   "outputs": [
    {
     "name": "stdout",
     "output_type": "stream",
     "text": [
      "---------- Assocs of binary traits ----------\n",
      "Total assocs: 998\n",
      "Assocs with consistent direction of effect: 963\n",
      "Assocs with inconsistent direction of effect: 35\n",
      "Assocs with a negative direction of effect (OR > 1): 945\n",
      "LOF mediated traits???: 357\n",
      "\n",
      "---------- Assocs of quantitative traits ----------\n",
      "Total assocs: 4452\n",
      "Assocs with consistent direction of effect: 4394\n",
      "Assocs with inconsistent direction of effect: 58\n",
      "Assocs with a negative direction of effect (beta > 0): 2408\n",
      "LOF mediated traits???: 303\n"
     ]
    }
   ],
   "source": [
    "print('-'*10, 'Assocs of binary traits', '-'*10)\n",
    "print(f'Total assocs: {bin_assoc_effect.count()}')\n",
    "print(f\"Assocs with consistent direction of effect: {bin_assoc_effect.filter(F.size('effectDirections') == 1).count()}\")\n",
    "print(f\"Assocs with inconsistent direction of effect: {bin_assoc_effect.filter(F.size('effectDirections') == 2).count()}\")\n",
    "print(f\"Assocs with a negative direction of effect (OR > 1): {bin_assoc_effect.filter(F.array_contains('effectDirections', 'risk')).count()}\")\n",
    "print(f\"LOF mediated traits???: {bin_assoc_effect.filter(F.array_contains('effectDirections', 'risk')).select('diseaseId').distinct().count()}\\n\")\n",
    "\n",
    "print('-'*10, 'Assocs of quantitative traits', '-'*10)\n",
    "print(f'Total assocs: {quant_assoc_effect.count()}')\n",
    "print(f\"Assocs with consistent direction of effect: {quant_assoc_effect.filter(F.size('effectDirections') == 1).count()}\")\n",
    "print(f\"Assocs with inconsistent direction of effect: {quant_assoc_effect.filter(F.size('effectDirections') == 2).count()}\")\n",
    "print(f\"Assocs with a negative direction of effect (beta > 0): {quant_assoc_effect.filter(F.array_contains('effectDirections', 'risk')).count()}\")\n",
    "print(f\"LOF mediated traits???: {quant_assoc_effect.filter(F.array_contains('effectDirections', 'risk')).select('diseaseId').distinct().count()}\")\n"
   ]
  },
  {
   "cell_type": "code",
   "execution_count": 24,
   "metadata": {},
   "outputs": [
    {
     "data": {
      "application/vnd.plotly.v1+json": {
       "config": {
        "plotlyServerURL": "https://plotly.com"
       },
       "data": [
        {
         "domain": {
          "x": [
           0,
           0.45
          ],
          "y": [
           0,
           1
          ]
         },
         "labels": [
          "risk",
          "protective"
         ],
         "textinfo": "percent+label",
         "textposition": "inside",
         "title": {
          "text": "Quantitative traits"
         },
         "type": "pie",
         "values": [
          2408,
          2102
         ]
        },
        {
         "domain": {
          "x": [
           0.55,
           1
          ],
          "y": [
           0,
           1
          ]
         },
         "labels": [
          "risk",
          "protective"
         ],
         "textinfo": "percent+label",
         "textposition": "inside",
         "title": {
          "text": "Binary traits"
         },
         "type": "pie",
         "values": [
          945,
          88
         ]
        }
       ],
       "layout": {
        "showlegend": false,
        "template": {
         "data": {
          "bar": [
           {
            "error_x": {
             "color": "#2a3f5f"
            },
            "error_y": {
             "color": "#2a3f5f"
            },
            "marker": {
             "line": {
              "color": "#E5ECF6",
              "width": 0.5
             },
             "pattern": {
              "fillmode": "overlay",
              "size": 10,
              "solidity": 0.2
             }
            },
            "type": "bar"
           }
          ],
          "barpolar": [
           {
            "marker": {
             "line": {
              "color": "#E5ECF6",
              "width": 0.5
             },
             "pattern": {
              "fillmode": "overlay",
              "size": 10,
              "solidity": 0.2
             }
            },
            "type": "barpolar"
           }
          ],
          "carpet": [
           {
            "aaxis": {
             "endlinecolor": "#2a3f5f",
             "gridcolor": "white",
             "linecolor": "white",
             "minorgridcolor": "white",
             "startlinecolor": "#2a3f5f"
            },
            "baxis": {
             "endlinecolor": "#2a3f5f",
             "gridcolor": "white",
             "linecolor": "white",
             "minorgridcolor": "white",
             "startlinecolor": "#2a3f5f"
            },
            "type": "carpet"
           }
          ],
          "choropleth": [
           {
            "colorbar": {
             "outlinewidth": 0,
             "ticks": ""
            },
            "type": "choropleth"
           }
          ],
          "contour": [
           {
            "colorbar": {
             "outlinewidth": 0,
             "ticks": ""
            },
            "colorscale": [
             [
              0,
              "#0d0887"
             ],
             [
              0.1111111111111111,
              "#46039f"
             ],
             [
              0.2222222222222222,
              "#7201a8"
             ],
             [
              0.3333333333333333,
              "#9c179e"
             ],
             [
              0.4444444444444444,
              "#bd3786"
             ],
             [
              0.5555555555555556,
              "#d8576b"
             ],
             [
              0.6666666666666666,
              "#ed7953"
             ],
             [
              0.7777777777777778,
              "#fb9f3a"
             ],
             [
              0.8888888888888888,
              "#fdca26"
             ],
             [
              1,
              "#f0f921"
             ]
            ],
            "type": "contour"
           }
          ],
          "contourcarpet": [
           {
            "colorbar": {
             "outlinewidth": 0,
             "ticks": ""
            },
            "type": "contourcarpet"
           }
          ],
          "heatmap": [
           {
            "colorbar": {
             "outlinewidth": 0,
             "ticks": ""
            },
            "colorscale": [
             [
              0,
              "#0d0887"
             ],
             [
              0.1111111111111111,
              "#46039f"
             ],
             [
              0.2222222222222222,
              "#7201a8"
             ],
             [
              0.3333333333333333,
              "#9c179e"
             ],
             [
              0.4444444444444444,
              "#bd3786"
             ],
             [
              0.5555555555555556,
              "#d8576b"
             ],
             [
              0.6666666666666666,
              "#ed7953"
             ],
             [
              0.7777777777777778,
              "#fb9f3a"
             ],
             [
              0.8888888888888888,
              "#fdca26"
             ],
             [
              1,
              "#f0f921"
             ]
            ],
            "type": "heatmap"
           }
          ],
          "heatmapgl": [
           {
            "colorbar": {
             "outlinewidth": 0,
             "ticks": ""
            },
            "colorscale": [
             [
              0,
              "#0d0887"
             ],
             [
              0.1111111111111111,
              "#46039f"
             ],
             [
              0.2222222222222222,
              "#7201a8"
             ],
             [
              0.3333333333333333,
              "#9c179e"
             ],
             [
              0.4444444444444444,
              "#bd3786"
             ],
             [
              0.5555555555555556,
              "#d8576b"
             ],
             [
              0.6666666666666666,
              "#ed7953"
             ],
             [
              0.7777777777777778,
              "#fb9f3a"
             ],
             [
              0.8888888888888888,
              "#fdca26"
             ],
             [
              1,
              "#f0f921"
             ]
            ],
            "type": "heatmapgl"
           }
          ],
          "histogram": [
           {
            "marker": {
             "pattern": {
              "fillmode": "overlay",
              "size": 10,
              "solidity": 0.2
             }
            },
            "type": "histogram"
           }
          ],
          "histogram2d": [
           {
            "colorbar": {
             "outlinewidth": 0,
             "ticks": ""
            },
            "colorscale": [
             [
              0,
              "#0d0887"
             ],
             [
              0.1111111111111111,
              "#46039f"
             ],
             [
              0.2222222222222222,
              "#7201a8"
             ],
             [
              0.3333333333333333,
              "#9c179e"
             ],
             [
              0.4444444444444444,
              "#bd3786"
             ],
             [
              0.5555555555555556,
              "#d8576b"
             ],
             [
              0.6666666666666666,
              "#ed7953"
             ],
             [
              0.7777777777777778,
              "#fb9f3a"
             ],
             [
              0.8888888888888888,
              "#fdca26"
             ],
             [
              1,
              "#f0f921"
             ]
            ],
            "type": "histogram2d"
           }
          ],
          "histogram2dcontour": [
           {
            "colorbar": {
             "outlinewidth": 0,
             "ticks": ""
            },
            "colorscale": [
             [
              0,
              "#0d0887"
             ],
             [
              0.1111111111111111,
              "#46039f"
             ],
             [
              0.2222222222222222,
              "#7201a8"
             ],
             [
              0.3333333333333333,
              "#9c179e"
             ],
             [
              0.4444444444444444,
              "#bd3786"
             ],
             [
              0.5555555555555556,
              "#d8576b"
             ],
             [
              0.6666666666666666,
              "#ed7953"
             ],
             [
              0.7777777777777778,
              "#fb9f3a"
             ],
             [
              0.8888888888888888,
              "#fdca26"
             ],
             [
              1,
              "#f0f921"
             ]
            ],
            "type": "histogram2dcontour"
           }
          ],
          "mesh3d": [
           {
            "colorbar": {
             "outlinewidth": 0,
             "ticks": ""
            },
            "type": "mesh3d"
           }
          ],
          "parcoords": [
           {
            "line": {
             "colorbar": {
              "outlinewidth": 0,
              "ticks": ""
             }
            },
            "type": "parcoords"
           }
          ],
          "pie": [
           {
            "automargin": true,
            "type": "pie"
           }
          ],
          "scatter": [
           {
            "fillpattern": {
             "fillmode": "overlay",
             "size": 10,
             "solidity": 0.2
            },
            "type": "scatter"
           }
          ],
          "scatter3d": [
           {
            "line": {
             "colorbar": {
              "outlinewidth": 0,
              "ticks": ""
             }
            },
            "marker": {
             "colorbar": {
              "outlinewidth": 0,
              "ticks": ""
             }
            },
            "type": "scatter3d"
           }
          ],
          "scattercarpet": [
           {
            "marker": {
             "colorbar": {
              "outlinewidth": 0,
              "ticks": ""
             }
            },
            "type": "scattercarpet"
           }
          ],
          "scattergeo": [
           {
            "marker": {
             "colorbar": {
              "outlinewidth": 0,
              "ticks": ""
             }
            },
            "type": "scattergeo"
           }
          ],
          "scattergl": [
           {
            "marker": {
             "colorbar": {
              "outlinewidth": 0,
              "ticks": ""
             }
            },
            "type": "scattergl"
           }
          ],
          "scattermapbox": [
           {
            "marker": {
             "colorbar": {
              "outlinewidth": 0,
              "ticks": ""
             }
            },
            "type": "scattermapbox"
           }
          ],
          "scatterpolar": [
           {
            "marker": {
             "colorbar": {
              "outlinewidth": 0,
              "ticks": ""
             }
            },
            "type": "scatterpolar"
           }
          ],
          "scatterpolargl": [
           {
            "marker": {
             "colorbar": {
              "outlinewidth": 0,
              "ticks": ""
             }
            },
            "type": "scatterpolargl"
           }
          ],
          "scatterternary": [
           {
            "marker": {
             "colorbar": {
              "outlinewidth": 0,
              "ticks": ""
             }
            },
            "type": "scatterternary"
           }
          ],
          "surface": [
           {
            "colorbar": {
             "outlinewidth": 0,
             "ticks": ""
            },
            "colorscale": [
             [
              0,
              "#0d0887"
             ],
             [
              0.1111111111111111,
              "#46039f"
             ],
             [
              0.2222222222222222,
              "#7201a8"
             ],
             [
              0.3333333333333333,
              "#9c179e"
             ],
             [
              0.4444444444444444,
              "#bd3786"
             ],
             [
              0.5555555555555556,
              "#d8576b"
             ],
             [
              0.6666666666666666,
              "#ed7953"
             ],
             [
              0.7777777777777778,
              "#fb9f3a"
             ],
             [
              0.8888888888888888,
              "#fdca26"
             ],
             [
              1,
              "#f0f921"
             ]
            ],
            "type": "surface"
           }
          ],
          "table": [
           {
            "cells": {
             "fill": {
              "color": "#EBF0F8"
             },
             "line": {
              "color": "white"
             }
            },
            "header": {
             "fill": {
              "color": "#C8D4E3"
             },
             "line": {
              "color": "white"
             }
            },
            "type": "table"
           }
          ]
         },
         "layout": {
          "annotationdefaults": {
           "arrowcolor": "#2a3f5f",
           "arrowhead": 0,
           "arrowwidth": 1
          },
          "autotypenumbers": "strict",
          "coloraxis": {
           "colorbar": {
            "outlinewidth": 0,
            "ticks": ""
           }
          },
          "colorscale": {
           "diverging": [
            [
             0,
             "#8e0152"
            ],
            [
             0.1,
             "#c51b7d"
            ],
            [
             0.2,
             "#de77ae"
            ],
            [
             0.3,
             "#f1b6da"
            ],
            [
             0.4,
             "#fde0ef"
            ],
            [
             0.5,
             "#f7f7f7"
            ],
            [
             0.6,
             "#e6f5d0"
            ],
            [
             0.7,
             "#b8e186"
            ],
            [
             0.8,
             "#7fbc41"
            ],
            [
             0.9,
             "#4d9221"
            ],
            [
             1,
             "#276419"
            ]
           ],
           "sequential": [
            [
             0,
             "#0d0887"
            ],
            [
             0.1111111111111111,
             "#46039f"
            ],
            [
             0.2222222222222222,
             "#7201a8"
            ],
            [
             0.3333333333333333,
             "#9c179e"
            ],
            [
             0.4444444444444444,
             "#bd3786"
            ],
            [
             0.5555555555555556,
             "#d8576b"
            ],
            [
             0.6666666666666666,
             "#ed7953"
            ],
            [
             0.7777777777777778,
             "#fb9f3a"
            ],
            [
             0.8888888888888888,
             "#fdca26"
            ],
            [
             1,
             "#f0f921"
            ]
           ],
           "sequentialminus": [
            [
             0,
             "#0d0887"
            ],
            [
             0.1111111111111111,
             "#46039f"
            ],
            [
             0.2222222222222222,
             "#7201a8"
            ],
            [
             0.3333333333333333,
             "#9c179e"
            ],
            [
             0.4444444444444444,
             "#bd3786"
            ],
            [
             0.5555555555555556,
             "#d8576b"
            ],
            [
             0.6666666666666666,
             "#ed7953"
            ],
            [
             0.7777777777777778,
             "#fb9f3a"
            ],
            [
             0.8888888888888888,
             "#fdca26"
            ],
            [
             1,
             "#f0f921"
            ]
           ]
          },
          "colorway": [
           "#636efa",
           "#EF553B",
           "#00cc96",
           "#ab63fa",
           "#FFA15A",
           "#19d3f3",
           "#FF6692",
           "#B6E880",
           "#FF97FF",
           "#FECB52"
          ],
          "font": {
           "color": "#2a3f5f"
          },
          "geo": {
           "bgcolor": "white",
           "lakecolor": "white",
           "landcolor": "#E5ECF6",
           "showlakes": true,
           "showland": true,
           "subunitcolor": "white"
          },
          "hoverlabel": {
           "align": "left"
          },
          "hovermode": "closest",
          "mapbox": {
           "style": "light"
          },
          "paper_bgcolor": "white",
          "plot_bgcolor": "#E5ECF6",
          "polar": {
           "angularaxis": {
            "gridcolor": "white",
            "linecolor": "white",
            "ticks": ""
           },
           "bgcolor": "#E5ECF6",
           "radialaxis": {
            "gridcolor": "white",
            "linecolor": "white",
            "ticks": ""
           }
          },
          "scene": {
           "xaxis": {
            "backgroundcolor": "#E5ECF6",
            "gridcolor": "white",
            "gridwidth": 2,
            "linecolor": "white",
            "showbackground": true,
            "ticks": "",
            "zerolinecolor": "white"
           },
           "yaxis": {
            "backgroundcolor": "#E5ECF6",
            "gridcolor": "white",
            "gridwidth": 2,
            "linecolor": "white",
            "showbackground": true,
            "ticks": "",
            "zerolinecolor": "white"
           },
           "zaxis": {
            "backgroundcolor": "#E5ECF6",
            "gridcolor": "white",
            "gridwidth": 2,
            "linecolor": "white",
            "showbackground": true,
            "ticks": "",
            "zerolinecolor": "white"
           }
          },
          "shapedefaults": {
           "line": {
            "color": "#2a3f5f"
           }
          },
          "ternary": {
           "aaxis": {
            "gridcolor": "white",
            "linecolor": "white",
            "ticks": ""
           },
           "baxis": {
            "gridcolor": "white",
            "linecolor": "white",
            "ticks": ""
           },
           "bgcolor": "#E5ECF6",
           "caxis": {
            "gridcolor": "white",
            "linecolor": "white",
            "ticks": ""
           }
          },
          "title": {
           "x": 0.05
          },
          "xaxis": {
           "automargin": true,
           "gridcolor": "white",
           "linecolor": "white",
           "ticks": "",
           "title": {
            "standoff": 15
           },
           "zerolinecolor": "white",
           "zerolinewidth": 2
          },
          "yaxis": {
           "automargin": true,
           "gridcolor": "white",
           "linecolor": "white",
           "ticks": "",
           "title": {
            "standoff": 15
           },
           "zerolinecolor": "white",
           "zerolinewidth": 2
          }
         }
        },
        "title": {
         "text": "Direction of effect in associations"
        }
       }
      }
     },
     "metadata": {},
     "output_type": "display_data"
    }
   ],
   "source": [
    "# Subplot with piechart with the directions of effect per type of trait\n",
    "\n",
    "\n",
    "fig4 = make_subplots(rows=1, cols=2, specs=[[{'type':'domain'}, {'type':'domain'}]])\n",
    "\n",
    "fig4.add_trace(\n",
    "    go.Pie(\n",
    "        labels=quant_assoc_effect.withColumn('effectDirection', F.explode('effectDirections')).groupBy('effectDirection').count().toPandas()['effectDirection'].to_list(),\n",
    "        values=quant_assoc_effect.withColumn('effectDirection', F.explode('effectDirections')).groupBy('effectDirection').count().toPandas()['count'].to_list(),\n",
    "        title='Quantitative traits',\n",
    "    ), 1, 1\n",
    ")\n",
    "\n",
    "fig4.add_trace(\n",
    "    go.Pie(\n",
    "        labels=bin_assoc_effect.withColumn('effectDirection', F.explode('effectDirections')).groupBy('effectDirection').count().toPandas()['effectDirection'].to_list(),\n",
    "        values=bin_assoc_effect.withColumn('effectDirection', F.explode('effectDirections')).groupBy('effectDirection').count().toPandas()['count'].to_list(),\n",
    "        title='Binary traits',\n",
    "    ), 1, 2\n",
    ")\n",
    "\n",
    "fig4.update_layout(\n",
    "    title_text=\"Direction of effect in associations\",\n",
    "    showlegend=False,\n",
    ")\n",
    "fig4.update_traces(textposition='inside', textinfo='percent+label')\n",
    "\n",
    "py.plot(fig4, filename = 'effect_assoc', auto_open=True)\n",
    "fig4.show()"
   ]
  },
  {
   "cell_type": "markdown",
   "metadata": {},
   "source": [
    "#### Ancestry specificity"
   ]
  },
  {
   "cell_type": "code",
   "execution_count": 31,
   "metadata": {},
   "outputs": [
    {
     "data": {
      "text/plain": [
       "0"
      ]
     },
     "execution_count": 31,
     "metadata": {},
     "output_type": "execute_result"
    }
   ],
   "source": [
    "# Are there any unique associations in non EUR that are not seen in EUR samples? NO\n",
    "\n",
    "(\n",
    "\n",
    "    regeneron_evd.filter(F.col('ancestry') != 'EUR').select(F.concat_ws('|', 'targetId', 'diseaseId').alias('assoc'))\n",
    "\n",
    "    .join(\n",
    "        az_assocs.select(F.concat_ws('|', 'targetId', 'diseaseId').alias('assoc'))\n",
    "        .union(regeneron_assocs.select(F.concat_ws('|', 'targetId', 'diseaseId').alias('assoc')))\n",
    "        .distinct(),\n",
    "        on='assoc', how='left_anti'\n",
    "    )\n",
    "    .count()\n",
    ")"
   ]
  },
  {
   "cell_type": "code",
   "execution_count": 32,
   "metadata": {},
   "outputs": [
    {
     "data": {
      "application/vnd.plotly.v1+json": {
       "config": {
        "plotlyServerURL": "https://plotly.com"
       },
       "data": [
        {
         "domain": {
          "x": [
           0,
           1
          ],
          "y": [
           0,
           1
          ]
         },
         "hovertemplate": "ancestry=%{label}<br>count=%{value}<extra></extra>",
         "labels": [
          "EUR",
          "AFR",
          "EAS",
          "SAS"
         ],
         "legendgroup": "",
         "name": "",
         "showlegend": true,
         "type": "pie",
         "values": [
          26779,
          64,
          57,
          150
         ]
        }
       ],
       "layout": {
        "legend": {
         "orientation": "h",
         "tracegroupgap": 0,
         "x": 1,
         "xanchor": "right",
         "y": 1.02,
         "yanchor": "bottom"
        },
        "template": {
         "data": {
          "bar": [
           {
            "error_x": {
             "color": "#2a3f5f"
            },
            "error_y": {
             "color": "#2a3f5f"
            },
            "marker": {
             "line": {
              "color": "#E5ECF6",
              "width": 0.5
             },
             "pattern": {
              "fillmode": "overlay",
              "size": 10,
              "solidity": 0.2
             }
            },
            "type": "bar"
           }
          ],
          "barpolar": [
           {
            "marker": {
             "line": {
              "color": "#E5ECF6",
              "width": 0.5
             },
             "pattern": {
              "fillmode": "overlay",
              "size": 10,
              "solidity": 0.2
             }
            },
            "type": "barpolar"
           }
          ],
          "carpet": [
           {
            "aaxis": {
             "endlinecolor": "#2a3f5f",
             "gridcolor": "white",
             "linecolor": "white",
             "minorgridcolor": "white",
             "startlinecolor": "#2a3f5f"
            },
            "baxis": {
             "endlinecolor": "#2a3f5f",
             "gridcolor": "white",
             "linecolor": "white",
             "minorgridcolor": "white",
             "startlinecolor": "#2a3f5f"
            },
            "type": "carpet"
           }
          ],
          "choropleth": [
           {
            "colorbar": {
             "outlinewidth": 0,
             "ticks": ""
            },
            "type": "choropleth"
           }
          ],
          "contour": [
           {
            "colorbar": {
             "outlinewidth": 0,
             "ticks": ""
            },
            "colorscale": [
             [
              0,
              "#0d0887"
             ],
             [
              0.1111111111111111,
              "#46039f"
             ],
             [
              0.2222222222222222,
              "#7201a8"
             ],
             [
              0.3333333333333333,
              "#9c179e"
             ],
             [
              0.4444444444444444,
              "#bd3786"
             ],
             [
              0.5555555555555556,
              "#d8576b"
             ],
             [
              0.6666666666666666,
              "#ed7953"
             ],
             [
              0.7777777777777778,
              "#fb9f3a"
             ],
             [
              0.8888888888888888,
              "#fdca26"
             ],
             [
              1,
              "#f0f921"
             ]
            ],
            "type": "contour"
           }
          ],
          "contourcarpet": [
           {
            "colorbar": {
             "outlinewidth": 0,
             "ticks": ""
            },
            "type": "contourcarpet"
           }
          ],
          "heatmap": [
           {
            "colorbar": {
             "outlinewidth": 0,
             "ticks": ""
            },
            "colorscale": [
             [
              0,
              "#0d0887"
             ],
             [
              0.1111111111111111,
              "#46039f"
             ],
             [
              0.2222222222222222,
              "#7201a8"
             ],
             [
              0.3333333333333333,
              "#9c179e"
             ],
             [
              0.4444444444444444,
              "#bd3786"
             ],
             [
              0.5555555555555556,
              "#d8576b"
             ],
             [
              0.6666666666666666,
              "#ed7953"
             ],
             [
              0.7777777777777778,
              "#fb9f3a"
             ],
             [
              0.8888888888888888,
              "#fdca26"
             ],
             [
              1,
              "#f0f921"
             ]
            ],
            "type": "heatmap"
           }
          ],
          "heatmapgl": [
           {
            "colorbar": {
             "outlinewidth": 0,
             "ticks": ""
            },
            "colorscale": [
             [
              0,
              "#0d0887"
             ],
             [
              0.1111111111111111,
              "#46039f"
             ],
             [
              0.2222222222222222,
              "#7201a8"
             ],
             [
              0.3333333333333333,
              "#9c179e"
             ],
             [
              0.4444444444444444,
              "#bd3786"
             ],
             [
              0.5555555555555556,
              "#d8576b"
             ],
             [
              0.6666666666666666,
              "#ed7953"
             ],
             [
              0.7777777777777778,
              "#fb9f3a"
             ],
             [
              0.8888888888888888,
              "#fdca26"
             ],
             [
              1,
              "#f0f921"
             ]
            ],
            "type": "heatmapgl"
           }
          ],
          "histogram": [
           {
            "marker": {
             "pattern": {
              "fillmode": "overlay",
              "size": 10,
              "solidity": 0.2
             }
            },
            "type": "histogram"
           }
          ],
          "histogram2d": [
           {
            "colorbar": {
             "outlinewidth": 0,
             "ticks": ""
            },
            "colorscale": [
             [
              0,
              "#0d0887"
             ],
             [
              0.1111111111111111,
              "#46039f"
             ],
             [
              0.2222222222222222,
              "#7201a8"
             ],
             [
              0.3333333333333333,
              "#9c179e"
             ],
             [
              0.4444444444444444,
              "#bd3786"
             ],
             [
              0.5555555555555556,
              "#d8576b"
             ],
             [
              0.6666666666666666,
              "#ed7953"
             ],
             [
              0.7777777777777778,
              "#fb9f3a"
             ],
             [
              0.8888888888888888,
              "#fdca26"
             ],
             [
              1,
              "#f0f921"
             ]
            ],
            "type": "histogram2d"
           }
          ],
          "histogram2dcontour": [
           {
            "colorbar": {
             "outlinewidth": 0,
             "ticks": ""
            },
            "colorscale": [
             [
              0,
              "#0d0887"
             ],
             [
              0.1111111111111111,
              "#46039f"
             ],
             [
              0.2222222222222222,
              "#7201a8"
             ],
             [
              0.3333333333333333,
              "#9c179e"
             ],
             [
              0.4444444444444444,
              "#bd3786"
             ],
             [
              0.5555555555555556,
              "#d8576b"
             ],
             [
              0.6666666666666666,
              "#ed7953"
             ],
             [
              0.7777777777777778,
              "#fb9f3a"
             ],
             [
              0.8888888888888888,
              "#fdca26"
             ],
             [
              1,
              "#f0f921"
             ]
            ],
            "type": "histogram2dcontour"
           }
          ],
          "mesh3d": [
           {
            "colorbar": {
             "outlinewidth": 0,
             "ticks": ""
            },
            "type": "mesh3d"
           }
          ],
          "parcoords": [
           {
            "line": {
             "colorbar": {
              "outlinewidth": 0,
              "ticks": ""
             }
            },
            "type": "parcoords"
           }
          ],
          "pie": [
           {
            "automargin": true,
            "type": "pie"
           }
          ],
          "scatter": [
           {
            "fillpattern": {
             "fillmode": "overlay",
             "size": 10,
             "solidity": 0.2
            },
            "type": "scatter"
           }
          ],
          "scatter3d": [
           {
            "line": {
             "colorbar": {
              "outlinewidth": 0,
              "ticks": ""
             }
            },
            "marker": {
             "colorbar": {
              "outlinewidth": 0,
              "ticks": ""
             }
            },
            "type": "scatter3d"
           }
          ],
          "scattercarpet": [
           {
            "marker": {
             "colorbar": {
              "outlinewidth": 0,
              "ticks": ""
             }
            },
            "type": "scattercarpet"
           }
          ],
          "scattergeo": [
           {
            "marker": {
             "colorbar": {
              "outlinewidth": 0,
              "ticks": ""
             }
            },
            "type": "scattergeo"
           }
          ],
          "scattergl": [
           {
            "marker": {
             "colorbar": {
              "outlinewidth": 0,
              "ticks": ""
             }
            },
            "type": "scattergl"
           }
          ],
          "scattermapbox": [
           {
            "marker": {
             "colorbar": {
              "outlinewidth": 0,
              "ticks": ""
             }
            },
            "type": "scattermapbox"
           }
          ],
          "scatterpolar": [
           {
            "marker": {
             "colorbar": {
              "outlinewidth": 0,
              "ticks": ""
             }
            },
            "type": "scatterpolar"
           }
          ],
          "scatterpolargl": [
           {
            "marker": {
             "colorbar": {
              "outlinewidth": 0,
              "ticks": ""
             }
            },
            "type": "scatterpolargl"
           }
          ],
          "scatterternary": [
           {
            "marker": {
             "colorbar": {
              "outlinewidth": 0,
              "ticks": ""
             }
            },
            "type": "scatterternary"
           }
          ],
          "surface": [
           {
            "colorbar": {
             "outlinewidth": 0,
             "ticks": ""
            },
            "colorscale": [
             [
              0,
              "#0d0887"
             ],
             [
              0.1111111111111111,
              "#46039f"
             ],
             [
              0.2222222222222222,
              "#7201a8"
             ],
             [
              0.3333333333333333,
              "#9c179e"
             ],
             [
              0.4444444444444444,
              "#bd3786"
             ],
             [
              0.5555555555555556,
              "#d8576b"
             ],
             [
              0.6666666666666666,
              "#ed7953"
             ],
             [
              0.7777777777777778,
              "#fb9f3a"
             ],
             [
              0.8888888888888888,
              "#fdca26"
             ],
             [
              1,
              "#f0f921"
             ]
            ],
            "type": "surface"
           }
          ],
          "table": [
           {
            "cells": {
             "fill": {
              "color": "#EBF0F8"
             },
             "line": {
              "color": "white"
             }
            },
            "header": {
             "fill": {
              "color": "#C8D4E3"
             },
             "line": {
              "color": "white"
             }
            },
            "type": "table"
           }
          ]
         },
         "layout": {
          "annotationdefaults": {
           "arrowcolor": "#2a3f5f",
           "arrowhead": 0,
           "arrowwidth": 1
          },
          "autotypenumbers": "strict",
          "coloraxis": {
           "colorbar": {
            "outlinewidth": 0,
            "ticks": ""
           }
          },
          "colorscale": {
           "diverging": [
            [
             0,
             "#8e0152"
            ],
            [
             0.1,
             "#c51b7d"
            ],
            [
             0.2,
             "#de77ae"
            ],
            [
             0.3,
             "#f1b6da"
            ],
            [
             0.4,
             "#fde0ef"
            ],
            [
             0.5,
             "#f7f7f7"
            ],
            [
             0.6,
             "#e6f5d0"
            ],
            [
             0.7,
             "#b8e186"
            ],
            [
             0.8,
             "#7fbc41"
            ],
            [
             0.9,
             "#4d9221"
            ],
            [
             1,
             "#276419"
            ]
           ],
           "sequential": [
            [
             0,
             "#0d0887"
            ],
            [
             0.1111111111111111,
             "#46039f"
            ],
            [
             0.2222222222222222,
             "#7201a8"
            ],
            [
             0.3333333333333333,
             "#9c179e"
            ],
            [
             0.4444444444444444,
             "#bd3786"
            ],
            [
             0.5555555555555556,
             "#d8576b"
            ],
            [
             0.6666666666666666,
             "#ed7953"
            ],
            [
             0.7777777777777778,
             "#fb9f3a"
            ],
            [
             0.8888888888888888,
             "#fdca26"
            ],
            [
             1,
             "#f0f921"
            ]
           ],
           "sequentialminus": [
            [
             0,
             "#0d0887"
            ],
            [
             0.1111111111111111,
             "#46039f"
            ],
            [
             0.2222222222222222,
             "#7201a8"
            ],
            [
             0.3333333333333333,
             "#9c179e"
            ],
            [
             0.4444444444444444,
             "#bd3786"
            ],
            [
             0.5555555555555556,
             "#d8576b"
            ],
            [
             0.6666666666666666,
             "#ed7953"
            ],
            [
             0.7777777777777778,
             "#fb9f3a"
            ],
            [
             0.8888888888888888,
             "#fdca26"
            ],
            [
             1,
             "#f0f921"
            ]
           ]
          },
          "colorway": [
           "#636efa",
           "#EF553B",
           "#00cc96",
           "#ab63fa",
           "#FFA15A",
           "#19d3f3",
           "#FF6692",
           "#B6E880",
           "#FF97FF",
           "#FECB52"
          ],
          "font": {
           "color": "#2a3f5f"
          },
          "geo": {
           "bgcolor": "white",
           "lakecolor": "white",
           "landcolor": "#E5ECF6",
           "showlakes": true,
           "showland": true,
           "subunitcolor": "white"
          },
          "hoverlabel": {
           "align": "left"
          },
          "hovermode": "closest",
          "mapbox": {
           "style": "light"
          },
          "paper_bgcolor": "white",
          "plot_bgcolor": "#E5ECF6",
          "polar": {
           "angularaxis": {
            "gridcolor": "white",
            "linecolor": "white",
            "ticks": ""
           },
           "bgcolor": "#E5ECF6",
           "radialaxis": {
            "gridcolor": "white",
            "linecolor": "white",
            "ticks": ""
           }
          },
          "scene": {
           "xaxis": {
            "backgroundcolor": "#E5ECF6",
            "gridcolor": "white",
            "gridwidth": 2,
            "linecolor": "white",
            "showbackground": true,
            "ticks": "",
            "zerolinecolor": "white"
           },
           "yaxis": {
            "backgroundcolor": "#E5ECF6",
            "gridcolor": "white",
            "gridwidth": 2,
            "linecolor": "white",
            "showbackground": true,
            "ticks": "",
            "zerolinecolor": "white"
           },
           "zaxis": {
            "backgroundcolor": "#E5ECF6",
            "gridcolor": "white",
            "gridwidth": 2,
            "linecolor": "white",
            "showbackground": true,
            "ticks": "",
            "zerolinecolor": "white"
           }
          },
          "shapedefaults": {
           "line": {
            "color": "#2a3f5f"
           }
          },
          "ternary": {
           "aaxis": {
            "gridcolor": "white",
            "linecolor": "white",
            "ticks": ""
           },
           "baxis": {
            "gridcolor": "white",
            "linecolor": "white",
            "ticks": ""
           },
           "bgcolor": "#E5ECF6",
           "caxis": {
            "gridcolor": "white",
            "linecolor": "white",
            "ticks": ""
           }
          },
          "title": {
           "x": 0.05
          },
          "xaxis": {
           "automargin": true,
           "gridcolor": "white",
           "linecolor": "white",
           "ticks": "",
           "title": {
            "standoff": 15
           },
           "zerolinecolor": "white",
           "zerolinewidth": 2
          },
          "yaxis": {
           "automargin": true,
           "gridcolor": "white",
           "linecolor": "white",
           "ticks": "",
           "title": {
            "standoff": 15
           },
           "zerolinecolor": "white",
           "zerolinewidth": 2
          }
         }
        },
        "title": {
         "text": "Ancestry distribution across evidence"
        }
       }
      }
     },
     "metadata": {},
     "output_type": "display_data"
    }
   ],
   "source": [
    "fig5 = px.pie(\n",
    "    evd.groupBy('ancestry').count().toPandas(),\n",
    "    names='ancestry', values='count',\n",
    "    title='Ancestry distribution across evidence',\n",
    "    labels={'EUR': 'European'},\n",
    ")\n",
    "\n",
    "fig5.update_layout(\n",
    "    legend=dict(\n",
    "    orientation=\"h\",\n",
    "    yanchor=\"bottom\",\n",
    "    y=1.02,\n",
    "    xanchor=\"right\",\n",
    "    x=1\n",
    "))\n",
    "py.plot(fig5, filename = 'ancestry_distribution', auto_open=True)\n",
    "fig5.show()"
   ]
  },
  {
   "cell_type": "code",
   "execution_count": 32,
   "metadata": {},
   "outputs": [
    {
     "name": "stdout",
     "output_type": "stream",
     "text": [
      "+---------+------------+--------+-------------------+--------+----------+----+---------------------------+---------------------------+--------+----------+-----------------+-------------------+-------------------------+----------+---------+--------------------------------+--------------------------------+--------------+--------------+---------+-------------+-----------------+-------------------------+----------+--------------------------------+-------+---------------+------------------+---+-----+----------------+\n",
      "|diseaseId|datasourceId|targetId|allelicRequirements|ancestry|ancestryId|beta|betaConfidenceIntervalLower|betaConfidenceIntervalUpper|cohortId|datatypeId|diseaseFromSource|diseaseFromSourceId|diseaseFromSourceMappedId|literature|oddsRatio|oddsRatioConfidenceIntervalLower|oddsRatioConfidenceIntervalUpper|pValueExponent|pValueMantissa|projectId|resourceScore|statisticalMethod|statisticalMethodOverview|studyCases|studyCasesWithQualifyingVariants|studyId|studySampleSize|targetFromSourceId| id|score|therapeuticAreas|\n",
      "+---------+------------+--------+-------------------+--------+----------+----+---------------------------+---------------------------+--------+----------+-----------------+-------------------+-------------------------+----------+---------+--------------------------------+--------------------------------+--------------+--------------+---------+-------------+-----------------+-------------------------+----------+--------------------------------+-------+---------------+------------------+---+-----+----------------+\n",
      "+---------+------------+--------+-------------------+--------+----------+----+---------------------------+---------------------------+--------+----------+-----------------+-------------------+-------------------------+----------+---------+--------------------------------+--------------------------------+--------------+--------------+---------+-------------+-----------------+-------------------------+----------+--------------------------------+-------+---------------+------------------+---+-----+----------------+\n",
      "\n"
     ]
    }
   ],
   "source": [
    "## Which other sources bring associations from non EUR samples? Just REGENERON\n",
    "\n"
   ]
  },
  {
   "cell_type": "markdown",
   "metadata": {},
   "source": [
    "## How much was already known?\n",
    "\n",
    "3. Where is the novelty?\n",
    "\t1. Overlap of assocs with OTP excluding literature.\n",
    "\t\t1. Breakdown per data source in REGENERON and AZ\n",
    "\t\tFigure: 2x2 horizontal bar plots (X-axis: % overlap; Y-axis: sources) broken down by trait type.\n",
    "\t2. PheWAS plot with p values of AZ and REGENERON (probably not very informative).\n",
    "\t3. PheWAS plot with all data sources. (X-axis: traits ordered by TA; Y-axis:-log2 assoc score)"
   ]
  },
  {
   "cell_type": "markdown",
   "metadata": {},
   "source": [
    "### Overlap of gene_burden and OTP assocs across sources"
   ]
  },
  {
   "cell_type": "code",
   "execution_count": 258,
   "metadata": {},
   "outputs": [
    {
     "data": {
      "text/plain": [
       "\"otp = (\\n    spark.read.parquet('/Users/irene/Documents/dev/pyspark/22.04.4/evidence')\\n    .filter(F.col('sourceId') != 'gene_burden')\\n    .select(F.concat_ws('|', 'targetId', 'diseaseId').alias('assoc'), 'targetId', 'diseaseId', 'datasourceId')\\n)\\n\\notp.show(5)\""
      ]
     },
     "execution_count": 258,
     "metadata": {},
     "output_type": "execute_result"
    }
   ],
   "source": [
    "'''otp = (\n",
    "    spark.read.parquet('/Users/irene/Documents/dev/pyspark/22.04.4/evidence')\n",
    "    .filter(F.col('sourceId') != 'gene_burden')\n",
    "    .select(F.concat_ws('|', 'targetId', 'diseaseId').alias('assoc'), 'targetId', 'diseaseId', 'datasourceId')\n",
    ")\n",
    "\n",
    "otp.show(5)'''"
   ]
  },
  {
   "cell_type": "code",
   "execution_count": null,
   "metadata": {},
   "outputs": [],
   "source": [
    "'''# Let's try a diff approach\n",
    "\n",
    "num_gene_burden_assocs = evd.select(F.concat_ws('|', 'targetId', 'diseaseId').alias('assoc')).select('assoc').distinct().count()\n",
    "\n",
    "overlap_between_sources = (\n",
    "\n",
    "    # I first get all common associations across sources\n",
    "    evd.select(F.concat_ws('|', 'targetId', 'diseaseId').alias('assoc'), F.col('datasourceId').alias('datasourceId_left'))\n",
    "    .join(otp, how='inner', on='assoc')\n",
    "    .distinct()\n",
    "\n",
    "    # Break down by data source and percentage relative to the total number of associations\n",
    "    .groupBy('datasourceId').count()\n",
    "    .withColumn('percentage', F.col('count') / num_gene_burden_assocs)\n",
    ")\n",
    "\n",
    "overlap_between_sources.show(30, truncate=False)\n",
    "# Not great coverage'''"
   ]
  },
  {
   "cell_type": "code",
   "execution_count": 34,
   "metadata": {},
   "outputs": [
    {
     "name": "stdout",
     "output_type": "stream",
     "text": [
      "+------------------+-----+-------------------+\n",
      "|datasourceId      |count|percentageOverlap  |\n",
      "+------------------+-----+-------------------+\n",
      "|crispr            |94   |0.5342123209820413 |\n",
      "|uniprot_variants  |870  |4.944305523982724  |\n",
      "|genomics_england  |1469 |8.348488292793817  |\n",
      "|chembl            |717  |4.074789724937486  |\n",
      "|slapenrich        |1026 |5.830870652421004  |\n",
      "|intogen           |811  |4.609002045919527  |\n",
      "|orphanet          |984  |5.59218004091839   |\n",
      "|cancer_gene_census|1464 |8.320072743805412  |\n",
      "|progeny           |16   |0.09092975676290066|\n",
      "|clingen           |778  |4.421459422596045  |\n",
      "|eva               |2325 |13.213230279609004 |\n",
      "|gene2phenotype    |596  |3.38713343941805   |\n",
      "|uniprot_literature|978  |5.558081382132303  |\n",
      "|eva_somatic       |889  |5.052284610138668  |\n",
      "|ot_genetics_portal|9060 |51.4889747669925   |\n",
      "|impc              |2638 |14.992043646283246 |\n",
      "|sysbio            |6    |0.03409865878608775|\n",
      "+------------------+-----+-------------------+\n",
      "\n"
     ]
    }
   ],
   "source": [
    "# Same exercise but with indirect associations\n",
    "\n",
    "burden_indirect_assocs = (\n",
    "    spark.read.parquet(f'{ROOT}/data/associationByDatasourceIndirect')\n",
    "    .filter(F.col('datasourceId') == 'gene_burden')\n",
    "    .select(\n",
    "        'targetId',\n",
    "        'diseaseId',\n",
    "        F.col('datasourceId').alias('datasourceId_left'),\n",
    "    )\n",
    "    .distinct()\n",
    ")\n",
    "num_gene_burden_assocs = burden_indirect_assocs.select('diseaseId', 'targetId').distinct().count()\n",
    "\n",
    "\n",
    "non_genetic_sources = ['europepmc', 'expression_atlas', 'reactome', 'cancer_biomarkers']\n",
    "eva_benign_confidence_criteria = [\n",
    "    'no assertion for the individual variant',\n",
    "    'no assertion criteria provided',\n",
    "    'no assertion provided',\n",
    "    'association not found',\n",
    "    'benign',\n",
    "    'not provided',\n",
    "    'likely benign',\n",
    "]\n",
    "otp_indirect_assocs = (\n",
    "    spark.read.parquet(f'{ROOT}/data/associationByDatasourceIndirect')\n",
    "    .filter(~F.col('datasourceId').isin(non_genetic_sources + ['gene_burden']))\n",
    "    .join(\n",
    "        # Remove the EVA benign associations\n",
    "        spark.read.parquet(\n",
    "            f'{ROOT}/data/evidence'\n",
    "        )\n",
    "        .filter(\n",
    "            ((F.col('datasourceId') == 'eva') | (F.col('datasourceId') == 'eva_somatic')) &\n",
    "            (~F.col('confidence').isin(eva_benign_confidence_criteria))\n",
    "        ),\n",
    "        on=['targetId', 'diseaseId'],\n",
    "        how='left_anti',\n",
    "    )\n",
    "    .select('targetId', 'diseaseId', 'datasourceId')\n",
    "    .distinct()\n",
    ")\n",
    "\n",
    "indirect_overlap_between_sources = (\n",
    "\n",
    "    # I first get all common associations across sources\n",
    "    burden_indirect_assocs\n",
    "    .join(otp_indirect_assocs, how='inner', on=['targetId', 'diseaseId'])\n",
    "    .distinct()\n",
    "\n",
    "    # Break down by data source and percentage relative to the total number of associations\n",
    "    .groupBy('datasourceId').count()\n",
    "    .withColumn('percentageOverlap', F.col('count') / num_gene_burden_assocs * 100)\n",
    ")\n",
    "\n",
    "indirect_overlap_between_sources.show(30, truncate=False)"
   ]
  },
  {
   "cell_type": "code",
   "execution_count": 35,
   "metadata": {},
   "outputs": [
    {
     "name": "stdout",
     "output_type": "stream",
     "text": [
      "+---------------+---------------+------------+\n",
      "|       targetId|      diseaseId|datasourceId|\n",
      "+---------------+---------------+------------+\n",
      "|ENSG00000000419|    EFO_0005545|         eva|\n",
      "|ENSG00000000419|Orphanet_371047|         eva|\n",
      "|ENSG00000000419|Orphanet_371071|         eva|\n",
      "|ENSG00000000971|    EFO_0000508|         eva|\n",
      "|ENSG00000000971|  MONDO_0002280|         eva|\n",
      "|ENSG00000000971|  MONDO_0035290|         eva|\n",
      "|ENSG00000000971| Orphanet_71862|         eva|\n",
      "|ENSG00000001084|    EFO_0000319|         eva|\n",
      "|ENSG00000001084|    EFO_0003777|         eva|\n",
      "|ENSG00000001084|    EFO_0009556|         eva|\n",
      "|ENSG00000001460|  MONDO_0019042|         eva|\n",
      "|ENSG00000001460|  MONDO_0019755|         eva|\n",
      "|ENSG00000001497|     HP_0012638|         eva|\n",
      "|ENSG00000001497|   OTAR_0000018|         eva|\n",
      "|ENSG00000001617|    EFO_0000512|         eva|\n",
      "|ENSG00000001617|   OTAR_0000017|         eva|\n",
      "|ENSG00000001626|    EFO_0000545|         eva|\n",
      "|ENSG00000001626|    EFO_0000618|         eva|\n",
      "|ENSG00000001626|    EFO_0002422|         eva|\n",
      "|ENSG00000001626|    EFO_0005774|         eva|\n",
      "+---------------+---------------+------------+\n",
      "only showing top 20 rows\n",
      "\n"
     ]
    }
   ],
   "source": [
    "otp_indirect_assocs.filter(F.col(\"datasourceId\") == \"eva\").show()"
   ]
  },
  {
   "cell_type": "code",
   "execution_count": 36,
   "metadata": {},
   "outputs": [
    {
     "data": {
      "application/vnd.plotly.v1+json": {
       "config": {
        "plotlyServerURL": "https://plotly.com"
       },
       "data": [
        {
         "alignmentgroup": "True",
         "hovertemplate": "percentageOverlap=%{x}<br>datasourceId=%{y}<extra></extra>",
         "legendgroup": "",
         "marker": {
          "color": "#636efa",
          "pattern": {
           "shape": ""
          }
         },
         "name": "",
         "offsetgroup": "",
         "orientation": "h",
         "showlegend": false,
         "textposition": "auto",
         "type": "bar",
         "x": [
          0.5342123209820413,
          4.944305523982724,
          8.348488292793817,
          4.074789724937486,
          5.830870652421004,
          4.609002045919527,
          5.59218004091839,
          8.320072743805412,
          0.09092975676290066,
          4.421459422596045,
          13.213230279609004,
          3.38713343941805,
          5.558081382132303,
          5.052284610138668,
          51.4889747669925,
          14.992043646283246,
          0.03409865878608775
         ],
         "xaxis": "x",
         "y": [
          "crispr",
          "uniprot_variants",
          "genomics_england",
          "chembl",
          "slapenrich",
          "intogen",
          "orphanet",
          "cancer_gene_census",
          "progeny",
          "clingen",
          "eva",
          "gene2phenotype",
          "uniprot_literature",
          "eva_somatic",
          "ot_genetics_portal",
          "impc",
          "sysbio"
         ],
         "yaxis": "y"
        }
       ],
       "layout": {
        "barmode": "relative",
        "legend": {
         "tracegroupgap": 0
        },
        "template": {
         "data": {
          "bar": [
           {
            "error_x": {
             "color": "#2a3f5f"
            },
            "error_y": {
             "color": "#2a3f5f"
            },
            "marker": {
             "line": {
              "color": "#E5ECF6",
              "width": 0.5
             },
             "pattern": {
              "fillmode": "overlay",
              "size": 10,
              "solidity": 0.2
             }
            },
            "type": "bar"
           }
          ],
          "barpolar": [
           {
            "marker": {
             "line": {
              "color": "#E5ECF6",
              "width": 0.5
             },
             "pattern": {
              "fillmode": "overlay",
              "size": 10,
              "solidity": 0.2
             }
            },
            "type": "barpolar"
           }
          ],
          "carpet": [
           {
            "aaxis": {
             "endlinecolor": "#2a3f5f",
             "gridcolor": "white",
             "linecolor": "white",
             "minorgridcolor": "white",
             "startlinecolor": "#2a3f5f"
            },
            "baxis": {
             "endlinecolor": "#2a3f5f",
             "gridcolor": "white",
             "linecolor": "white",
             "minorgridcolor": "white",
             "startlinecolor": "#2a3f5f"
            },
            "type": "carpet"
           }
          ],
          "choropleth": [
           {
            "colorbar": {
             "outlinewidth": 0,
             "ticks": ""
            },
            "type": "choropleth"
           }
          ],
          "contour": [
           {
            "colorbar": {
             "outlinewidth": 0,
             "ticks": ""
            },
            "colorscale": [
             [
              0,
              "#0d0887"
             ],
             [
              0.1111111111111111,
              "#46039f"
             ],
             [
              0.2222222222222222,
              "#7201a8"
             ],
             [
              0.3333333333333333,
              "#9c179e"
             ],
             [
              0.4444444444444444,
              "#bd3786"
             ],
             [
              0.5555555555555556,
              "#d8576b"
             ],
             [
              0.6666666666666666,
              "#ed7953"
             ],
             [
              0.7777777777777778,
              "#fb9f3a"
             ],
             [
              0.8888888888888888,
              "#fdca26"
             ],
             [
              1,
              "#f0f921"
             ]
            ],
            "type": "contour"
           }
          ],
          "contourcarpet": [
           {
            "colorbar": {
             "outlinewidth": 0,
             "ticks": ""
            },
            "type": "contourcarpet"
           }
          ],
          "heatmap": [
           {
            "colorbar": {
             "outlinewidth": 0,
             "ticks": ""
            },
            "colorscale": [
             [
              0,
              "#0d0887"
             ],
             [
              0.1111111111111111,
              "#46039f"
             ],
             [
              0.2222222222222222,
              "#7201a8"
             ],
             [
              0.3333333333333333,
              "#9c179e"
             ],
             [
              0.4444444444444444,
              "#bd3786"
             ],
             [
              0.5555555555555556,
              "#d8576b"
             ],
             [
              0.6666666666666666,
              "#ed7953"
             ],
             [
              0.7777777777777778,
              "#fb9f3a"
             ],
             [
              0.8888888888888888,
              "#fdca26"
             ],
             [
              1,
              "#f0f921"
             ]
            ],
            "type": "heatmap"
           }
          ],
          "heatmapgl": [
           {
            "colorbar": {
             "outlinewidth": 0,
             "ticks": ""
            },
            "colorscale": [
             [
              0,
              "#0d0887"
             ],
             [
              0.1111111111111111,
              "#46039f"
             ],
             [
              0.2222222222222222,
              "#7201a8"
             ],
             [
              0.3333333333333333,
              "#9c179e"
             ],
             [
              0.4444444444444444,
              "#bd3786"
             ],
             [
              0.5555555555555556,
              "#d8576b"
             ],
             [
              0.6666666666666666,
              "#ed7953"
             ],
             [
              0.7777777777777778,
              "#fb9f3a"
             ],
             [
              0.8888888888888888,
              "#fdca26"
             ],
             [
              1,
              "#f0f921"
             ]
            ],
            "type": "heatmapgl"
           }
          ],
          "histogram": [
           {
            "marker": {
             "pattern": {
              "fillmode": "overlay",
              "size": 10,
              "solidity": 0.2
             }
            },
            "type": "histogram"
           }
          ],
          "histogram2d": [
           {
            "colorbar": {
             "outlinewidth": 0,
             "ticks": ""
            },
            "colorscale": [
             [
              0,
              "#0d0887"
             ],
             [
              0.1111111111111111,
              "#46039f"
             ],
             [
              0.2222222222222222,
              "#7201a8"
             ],
             [
              0.3333333333333333,
              "#9c179e"
             ],
             [
              0.4444444444444444,
              "#bd3786"
             ],
             [
              0.5555555555555556,
              "#d8576b"
             ],
             [
              0.6666666666666666,
              "#ed7953"
             ],
             [
              0.7777777777777778,
              "#fb9f3a"
             ],
             [
              0.8888888888888888,
              "#fdca26"
             ],
             [
              1,
              "#f0f921"
             ]
            ],
            "type": "histogram2d"
           }
          ],
          "histogram2dcontour": [
           {
            "colorbar": {
             "outlinewidth": 0,
             "ticks": ""
            },
            "colorscale": [
             [
              0,
              "#0d0887"
             ],
             [
              0.1111111111111111,
              "#46039f"
             ],
             [
              0.2222222222222222,
              "#7201a8"
             ],
             [
              0.3333333333333333,
              "#9c179e"
             ],
             [
              0.4444444444444444,
              "#bd3786"
             ],
             [
              0.5555555555555556,
              "#d8576b"
             ],
             [
              0.6666666666666666,
              "#ed7953"
             ],
             [
              0.7777777777777778,
              "#fb9f3a"
             ],
             [
              0.8888888888888888,
              "#fdca26"
             ],
             [
              1,
              "#f0f921"
             ]
            ],
            "type": "histogram2dcontour"
           }
          ],
          "mesh3d": [
           {
            "colorbar": {
             "outlinewidth": 0,
             "ticks": ""
            },
            "type": "mesh3d"
           }
          ],
          "parcoords": [
           {
            "line": {
             "colorbar": {
              "outlinewidth": 0,
              "ticks": ""
             }
            },
            "type": "parcoords"
           }
          ],
          "pie": [
           {
            "automargin": true,
            "type": "pie"
           }
          ],
          "scatter": [
           {
            "fillpattern": {
             "fillmode": "overlay",
             "size": 10,
             "solidity": 0.2
            },
            "type": "scatter"
           }
          ],
          "scatter3d": [
           {
            "line": {
             "colorbar": {
              "outlinewidth": 0,
              "ticks": ""
             }
            },
            "marker": {
             "colorbar": {
              "outlinewidth": 0,
              "ticks": ""
             }
            },
            "type": "scatter3d"
           }
          ],
          "scattercarpet": [
           {
            "marker": {
             "colorbar": {
              "outlinewidth": 0,
              "ticks": ""
             }
            },
            "type": "scattercarpet"
           }
          ],
          "scattergeo": [
           {
            "marker": {
             "colorbar": {
              "outlinewidth": 0,
              "ticks": ""
             }
            },
            "type": "scattergeo"
           }
          ],
          "scattergl": [
           {
            "marker": {
             "colorbar": {
              "outlinewidth": 0,
              "ticks": ""
             }
            },
            "type": "scattergl"
           }
          ],
          "scattermapbox": [
           {
            "marker": {
             "colorbar": {
              "outlinewidth": 0,
              "ticks": ""
             }
            },
            "type": "scattermapbox"
           }
          ],
          "scatterpolar": [
           {
            "marker": {
             "colorbar": {
              "outlinewidth": 0,
              "ticks": ""
             }
            },
            "type": "scatterpolar"
           }
          ],
          "scatterpolargl": [
           {
            "marker": {
             "colorbar": {
              "outlinewidth": 0,
              "ticks": ""
             }
            },
            "type": "scatterpolargl"
           }
          ],
          "scatterternary": [
           {
            "marker": {
             "colorbar": {
              "outlinewidth": 0,
              "ticks": ""
             }
            },
            "type": "scatterternary"
           }
          ],
          "surface": [
           {
            "colorbar": {
             "outlinewidth": 0,
             "ticks": ""
            },
            "colorscale": [
             [
              0,
              "#0d0887"
             ],
             [
              0.1111111111111111,
              "#46039f"
             ],
             [
              0.2222222222222222,
              "#7201a8"
             ],
             [
              0.3333333333333333,
              "#9c179e"
             ],
             [
              0.4444444444444444,
              "#bd3786"
             ],
             [
              0.5555555555555556,
              "#d8576b"
             ],
             [
              0.6666666666666666,
              "#ed7953"
             ],
             [
              0.7777777777777778,
              "#fb9f3a"
             ],
             [
              0.8888888888888888,
              "#fdca26"
             ],
             [
              1,
              "#f0f921"
             ]
            ],
            "type": "surface"
           }
          ],
          "table": [
           {
            "cells": {
             "fill": {
              "color": "#EBF0F8"
             },
             "line": {
              "color": "white"
             }
            },
            "header": {
             "fill": {
              "color": "#C8D4E3"
             },
             "line": {
              "color": "white"
             }
            },
            "type": "table"
           }
          ]
         },
         "layout": {
          "annotationdefaults": {
           "arrowcolor": "#2a3f5f",
           "arrowhead": 0,
           "arrowwidth": 1
          },
          "autotypenumbers": "strict",
          "coloraxis": {
           "colorbar": {
            "outlinewidth": 0,
            "ticks": ""
           }
          },
          "colorscale": {
           "diverging": [
            [
             0,
             "#8e0152"
            ],
            [
             0.1,
             "#c51b7d"
            ],
            [
             0.2,
             "#de77ae"
            ],
            [
             0.3,
             "#f1b6da"
            ],
            [
             0.4,
             "#fde0ef"
            ],
            [
             0.5,
             "#f7f7f7"
            ],
            [
             0.6,
             "#e6f5d0"
            ],
            [
             0.7,
             "#b8e186"
            ],
            [
             0.8,
             "#7fbc41"
            ],
            [
             0.9,
             "#4d9221"
            ],
            [
             1,
             "#276419"
            ]
           ],
           "sequential": [
            [
             0,
             "#0d0887"
            ],
            [
             0.1111111111111111,
             "#46039f"
            ],
            [
             0.2222222222222222,
             "#7201a8"
            ],
            [
             0.3333333333333333,
             "#9c179e"
            ],
            [
             0.4444444444444444,
             "#bd3786"
            ],
            [
             0.5555555555555556,
             "#d8576b"
            ],
            [
             0.6666666666666666,
             "#ed7953"
            ],
            [
             0.7777777777777778,
             "#fb9f3a"
            ],
            [
             0.8888888888888888,
             "#fdca26"
            ],
            [
             1,
             "#f0f921"
            ]
           ],
           "sequentialminus": [
            [
             0,
             "#0d0887"
            ],
            [
             0.1111111111111111,
             "#46039f"
            ],
            [
             0.2222222222222222,
             "#7201a8"
            ],
            [
             0.3333333333333333,
             "#9c179e"
            ],
            [
             0.4444444444444444,
             "#bd3786"
            ],
            [
             0.5555555555555556,
             "#d8576b"
            ],
            [
             0.6666666666666666,
             "#ed7953"
            ],
            [
             0.7777777777777778,
             "#fb9f3a"
            ],
            [
             0.8888888888888888,
             "#fdca26"
            ],
            [
             1,
             "#f0f921"
            ]
           ]
          },
          "colorway": [
           "#636efa",
           "#EF553B",
           "#00cc96",
           "#ab63fa",
           "#FFA15A",
           "#19d3f3",
           "#FF6692",
           "#B6E880",
           "#FF97FF",
           "#FECB52"
          ],
          "font": {
           "color": "#2a3f5f"
          },
          "geo": {
           "bgcolor": "white",
           "lakecolor": "white",
           "landcolor": "#E5ECF6",
           "showlakes": true,
           "showland": true,
           "subunitcolor": "white"
          },
          "hoverlabel": {
           "align": "left"
          },
          "hovermode": "closest",
          "mapbox": {
           "style": "light"
          },
          "paper_bgcolor": "white",
          "plot_bgcolor": "#E5ECF6",
          "polar": {
           "angularaxis": {
            "gridcolor": "white",
            "linecolor": "white",
            "ticks": ""
           },
           "bgcolor": "#E5ECF6",
           "radialaxis": {
            "gridcolor": "white",
            "linecolor": "white",
            "ticks": ""
           }
          },
          "scene": {
           "xaxis": {
            "backgroundcolor": "#E5ECF6",
            "gridcolor": "white",
            "gridwidth": 2,
            "linecolor": "white",
            "showbackground": true,
            "ticks": "",
            "zerolinecolor": "white"
           },
           "yaxis": {
            "backgroundcolor": "#E5ECF6",
            "gridcolor": "white",
            "gridwidth": 2,
            "linecolor": "white",
            "showbackground": true,
            "ticks": "",
            "zerolinecolor": "white"
           },
           "zaxis": {
            "backgroundcolor": "#E5ECF6",
            "gridcolor": "white",
            "gridwidth": 2,
            "linecolor": "white",
            "showbackground": true,
            "ticks": "",
            "zerolinecolor": "white"
           }
          },
          "shapedefaults": {
           "line": {
            "color": "#2a3f5f"
           }
          },
          "ternary": {
           "aaxis": {
            "gridcolor": "white",
            "linecolor": "white",
            "ticks": ""
           },
           "baxis": {
            "gridcolor": "white",
            "linecolor": "white",
            "ticks": ""
           },
           "bgcolor": "#E5ECF6",
           "caxis": {
            "gridcolor": "white",
            "linecolor": "white",
            "ticks": ""
           }
          },
          "title": {
           "x": 0.05
          },
          "xaxis": {
           "automargin": true,
           "gridcolor": "white",
           "linecolor": "white",
           "ticks": "",
           "title": {
            "standoff": 15
           },
           "zerolinecolor": "white",
           "zerolinewidth": 2
          },
          "yaxis": {
           "automargin": true,
           "gridcolor": "white",
           "linecolor": "white",
           "ticks": "",
           "title": {
            "standoff": 15
           },
           "zerolinecolor": "white",
           "zerolinewidth": 2
          }
         }
        },
        "title": {
         "text": "Associations overlap between gene burden and other sources"
        },
        "xaxis": {
         "anchor": "y",
         "domain": [
          0,
          1
         ],
         "title": {
          "text": "percentageOverlap"
         }
        },
        "yaxis": {
         "anchor": "x",
         "domain": [
          0,
          1
         ],
         "title": {
          "text": "datasourceId"
         }
        }
       }
      }
     },
     "metadata": {},
     "output_type": "display_data"
    }
   ],
   "source": [
    "# Associations overlap between gene burden and other sources (all phenotypes)\n",
    "\n",
    "fig6 = px.bar(\n",
    "    indirect_overlap_between_sources.toPandas(),\n",
    "    x='percentageOverlap', y='datasourceId', orientation='h',\n",
    "    title='Associations overlap between gene burden and other sources',\n",
    ")\n",
    "\n",
    "fig6.show()"
   ]
  },
  {
   "cell_type": "code",
   "execution_count": 37,
   "metadata": {},
   "outputs": [
    {
     "name": "stdout",
     "output_type": "stream",
     "text": [
      "+------------------+-----+-------------------+------------------+\n",
      "|datasourceId      |count|percentageOverlap  |prettyDatasourceId|\n",
      "+------------------+-----+-------------------+------------------+\n",
      "|crispr            |41   |1.247717589774802  |CRISPR            |\n",
      "|uniprot_variants  |397  |12.0815581253804   |Uniprot Variants  |\n",
      "|genomics_england  |647  |19.689592209373096 |GE Panel App      |\n",
      "|chembl            |321  |9.768715763846622  |ChEMBL            |\n",
      "|slapenrich        |476  |14.485696895922093 |SLAPenrich        |\n",
      "|intogen           |341  |10.377358490566039 |IntOGen           |\n",
      "|orphanet          |467  |14.211807668898357 |Orphanet          |\n",
      "|cancer_gene_census|620  |18.867924528301888 |Cancer Gene Census|\n",
      "|clingen           |364  |11.077297626293365 |ClinGen           |\n",
      "|eva               |953  |29.001825928180157 |ClinVar           |\n",
      "|gene2phenotype    |274  |8.338405356055995  |Gene2Phenotype    |\n",
      "|uniprot_literature|443  |13.48143639683506  |Uniprot Literature|\n",
      "|eva_somatic       |371  |11.29032258064516  |ClinVar Somatic   |\n",
      "|ot_genetics_portal|1018 |30.97991479001826  |Genetics Portal   |\n",
      "|impc              |1102 |33.5362142422398   |IMPC              |\n",
      "|progeny           |7    |0.2130249543517955 |PROGENy           |\n",
      "|sysbio            |3    |0.09129640900791236|Gene Signatures   |\n",
      "+------------------+-----+-------------------+------------------+\n",
      "\n"
     ]
    }
   ],
   "source": [
    "# Let's plot the same by phenotype type\n",
    "\n",
    "PRETTY_DATASOURCE_NAMES = {\n",
    "    'gene_burden': 'Gene Burden',\n",
    "    'eva_somatic': 'ClinVar Somatic',\n",
    "    'eva': 'ClinVar',\n",
    "    'genomics_england': 'GE Panel App',\n",
    "    'ot_genetics_portal': 'Genetics Portal',\n",
    "    'sysbio': 'Gene Signatures',\n",
    "    'uniprot_literature': 'Uniprot Literature',\n",
    "    'progeny': 'PROGENy',\n",
    "    'cancer_biomarkers': 'Cancer Biomarkers',\n",
    "    'reactome': 'Reactome',\n",
    "    'expression_atlas': 'Expression Atlas',\n",
    "    'chembl': 'ChEMBL',\n",
    "    'uniprot_variants': 'Uniprot Variants',\n",
    "    'europepmc': 'EuropePMC',\n",
    "    'crispr': 'CRISPR',\n",
    "    'slapenrich': 'SLAPenrich',\n",
    "    'intogen': 'IntOGen',\n",
    "    'orphanet': 'Orphanet',\n",
    "    'cancer_gene_census': 'Cancer Gene Census',\n",
    "    'clingen': 'ClinGen',\n",
    "    'gene2phenotype': 'Gene2Phenotype',\n",
    "    'impc': 'IMPC'\n",
    "\n",
    "}\n",
    "\n",
    "gene_burden_bin_dis = bin_assoc_effect.select('diseaseId').distinct().toPandas()['diseaseId'].to_list()\n",
    "num_gene_burden_bin_assocs = burden_indirect_assocs.filter(F.col('diseaseId').isin(gene_burden_bin_dis)).select('diseaseId', 'targetId').distinct().count()\n",
    "num_gene_burden_quant_assocs = burden_indirect_assocs.filter(~F.col('diseaseId').isin(gene_burden_bin_dis)).select('diseaseId', 'targetId').distinct().count()\n",
    "\n",
    "bin_indirect_overlap_between_sources = (\n",
    "\n",
    "    # I first get all common associations across sources for binary traits\n",
    "    burden_indirect_assocs.filter(F.col('diseaseId').isin(gene_burden_bin_dis))\n",
    "    .join(otp_indirect_assocs, how='inner', on=['targetId', 'diseaseId'])\n",
    "    .distinct()\n",
    "\n",
    "    # Break down by data source and percentage relative to the total number of associations\n",
    "    .groupBy('datasourceId').count()\n",
    "    .withColumn('percentageOverlap', F.col('count') / num_gene_burden_bin_assocs * 100)\n",
    "    .withColumn('prettyDatasourceId', F.col('datasourceId')).replace(to_replace=PRETTY_DATASOURCE_NAMES, subset=['prettyDatasourceId'])\n",
    ")\n",
    "\n",
    "quant_indirect_overlap_between_sources = (\n",
    "\n",
    "    # I first get all common associations across sources for quantitative traits\n",
    "    burden_indirect_assocs.filter(~F.col('diseaseId').isin(gene_burden_bin_dis))\n",
    "    .join(otp_indirect_assocs, how='inner', on=['targetId', 'diseaseId'])\n",
    "    .distinct()\n",
    "\n",
    "    # Break down by data source and percentage relative to the total number of associations\n",
    "    .groupBy('datasourceId').count()\n",
    "    .withColumn('percentageOverlap', F.col('count') / num_gene_burden_quant_assocs * 100)\n",
    "    .withColumn('prettyDatasourceId', F.col('datasourceId')).replace(to_replace=PRETTY_DATASOURCE_NAMES, subset=['prettyDatasourceId'])\n",
    ")\n",
    "\n",
    "bin_indirect_overlap_between_sources.show(30, truncate=False)"
   ]
  },
  {
   "cell_type": "code",
   "execution_count": 38,
   "metadata": {},
   "outputs": [
    {
     "data": {
      "application/vnd.plotly.v1+json": {
       "config": {
        "plotlyServerURL": "https://plotly.com"
       },
       "data": [
        {
         "hovertemplate": "%{y}: %{x}%<extra></extra>",
         "orientation": "h",
         "text": [
          "1.25%",
          "12.08%",
          "19.69%",
          "9.77%",
          "14.49%",
          "10.38%",
          "14.21%",
          "18.87%",
          "11.08%",
          "29.00%",
          "8.34%",
          "13.48%",
          "11.29%",
          "30.98%",
          "33.54%",
          "0.21%",
          "0.09%"
         ],
         "type": "bar",
         "x": [
          1.247717589774802,
          12.0815581253804,
          19.689592209373096,
          9.768715763846622,
          14.485696895922093,
          10.377358490566039,
          14.211807668898357,
          18.867924528301888,
          11.077297626293365,
          29.001825928180157,
          8.338405356055995,
          13.48143639683506,
          11.29032258064516,
          30.97991479001826,
          33.5362142422398,
          0.2130249543517955,
          0.09129640900791236
         ],
         "xaxis": "x",
         "y": [
          "CRISPR",
          "Uniprot Variants",
          "GE Panel App",
          "ChEMBL",
          "SLAPenrich",
          "IntOGen",
          "Orphanet",
          "Cancer Gene Census",
          "ClinGen",
          "ClinVar",
          "Gene2Phenotype",
          "Uniprot Literature",
          "ClinVar Somatic",
          "Genetics Portal",
          "IMPC",
          "PROGENy",
          "Gene Signatures"
         ],
         "yaxis": "y"
        },
        {
         "hovertemplate": "%{y}: %{x}%<extra></extra>",
         "orientation": "h",
         "text": [
          "0.37%",
          "3.31%",
          "5.74%",
          "2.77%",
          "3.84%",
          "3.28%",
          "3.61%",
          "5.90%",
          "0.06%",
          "2.89%",
          "9.59%",
          "2.25%",
          "3.74%",
          "3.62%",
          "56.20%",
          "10.73%",
          "0.02%"
         ],
         "type": "bar",
         "x": [
          0.3703703703703704,
          3.3053808525506643,
          5.744234800838575,
          2.767295597484277,
          3.843466107617051,
          3.284416491963662,
          3.6128581411600282,
          5.897973445143256,
          0.06289308176100629,
          2.8930817610062896,
          9.587700908455625,
          2.2501747030048915,
          3.738644304682041,
          3.6198462613556956,
          56.198462613556956,
          10.733752620545072,
          0.020964360587002094
         ],
         "xaxis": "x2",
         "y": [
          "CRISPR",
          "Uniprot Variants",
          "GE Panel App",
          "ChEMBL",
          "SLAPenrich",
          "IntOGen",
          "Orphanet",
          "Cancer Gene Census",
          "PROGENy",
          "ClinGen",
          "ClinVar",
          "Gene2Phenotype",
          "Uniprot Literature",
          "ClinVar Somatic",
          "Genetics Portal",
          "IMPC",
          "Gene Signatures"
         ],
         "yaxis": "y2"
        }
       ],
       "layout": {
        "annotations": [
         {
          "font": {
           "size": 16
          },
          "showarrow": false,
          "text": "Binary traits",
          "x": 0.225,
          "xanchor": "center",
          "xref": "paper",
          "y": 1,
          "yanchor": "bottom",
          "yref": "paper"
         },
         {
          "font": {
           "size": 16
          },
          "showarrow": false,
          "text": "Quantitative traits",
          "x": 0.775,
          "xanchor": "center",
          "xref": "paper",
          "y": 1,
          "yanchor": "bottom",
          "yref": "paper"
         },
         {
          "font": {
           "size": 16
          },
          "showarrow": false,
          "text": "Overlap (%) of gene (or target)-trait associations",
          "x": 0.5,
          "xanchor": "center",
          "xref": "paper",
          "y": 0,
          "yanchor": "top",
          "yref": "paper",
          "yshift": -30
         }
        ],
        "height": 600,
        "showlegend": false,
        "template": {
         "data": {
          "bar": [
           {
            "error_x": {
             "color": "#2a3f5f"
            },
            "error_y": {
             "color": "#2a3f5f"
            },
            "marker": {
             "line": {
              "color": "#E5ECF6",
              "width": 0.5
             },
             "pattern": {
              "fillmode": "overlay",
              "size": 10,
              "solidity": 0.2
             }
            },
            "type": "bar"
           }
          ],
          "barpolar": [
           {
            "marker": {
             "line": {
              "color": "#E5ECF6",
              "width": 0.5
             },
             "pattern": {
              "fillmode": "overlay",
              "size": 10,
              "solidity": 0.2
             }
            },
            "type": "barpolar"
           }
          ],
          "carpet": [
           {
            "aaxis": {
             "endlinecolor": "#2a3f5f",
             "gridcolor": "white",
             "linecolor": "white",
             "minorgridcolor": "white",
             "startlinecolor": "#2a3f5f"
            },
            "baxis": {
             "endlinecolor": "#2a3f5f",
             "gridcolor": "white",
             "linecolor": "white",
             "minorgridcolor": "white",
             "startlinecolor": "#2a3f5f"
            },
            "type": "carpet"
           }
          ],
          "choropleth": [
           {
            "colorbar": {
             "outlinewidth": 0,
             "ticks": ""
            },
            "type": "choropleth"
           }
          ],
          "contour": [
           {
            "colorbar": {
             "outlinewidth": 0,
             "ticks": ""
            },
            "colorscale": [
             [
              0,
              "#0d0887"
             ],
             [
              0.1111111111111111,
              "#46039f"
             ],
             [
              0.2222222222222222,
              "#7201a8"
             ],
             [
              0.3333333333333333,
              "#9c179e"
             ],
             [
              0.4444444444444444,
              "#bd3786"
             ],
             [
              0.5555555555555556,
              "#d8576b"
             ],
             [
              0.6666666666666666,
              "#ed7953"
             ],
             [
              0.7777777777777778,
              "#fb9f3a"
             ],
             [
              0.8888888888888888,
              "#fdca26"
             ],
             [
              1,
              "#f0f921"
             ]
            ],
            "type": "contour"
           }
          ],
          "contourcarpet": [
           {
            "colorbar": {
             "outlinewidth": 0,
             "ticks": ""
            },
            "type": "contourcarpet"
           }
          ],
          "heatmap": [
           {
            "colorbar": {
             "outlinewidth": 0,
             "ticks": ""
            },
            "colorscale": [
             [
              0,
              "#0d0887"
             ],
             [
              0.1111111111111111,
              "#46039f"
             ],
             [
              0.2222222222222222,
              "#7201a8"
             ],
             [
              0.3333333333333333,
              "#9c179e"
             ],
             [
              0.4444444444444444,
              "#bd3786"
             ],
             [
              0.5555555555555556,
              "#d8576b"
             ],
             [
              0.6666666666666666,
              "#ed7953"
             ],
             [
              0.7777777777777778,
              "#fb9f3a"
             ],
             [
              0.8888888888888888,
              "#fdca26"
             ],
             [
              1,
              "#f0f921"
             ]
            ],
            "type": "heatmap"
           }
          ],
          "heatmapgl": [
           {
            "colorbar": {
             "outlinewidth": 0,
             "ticks": ""
            },
            "colorscale": [
             [
              0,
              "#0d0887"
             ],
             [
              0.1111111111111111,
              "#46039f"
             ],
             [
              0.2222222222222222,
              "#7201a8"
             ],
             [
              0.3333333333333333,
              "#9c179e"
             ],
             [
              0.4444444444444444,
              "#bd3786"
             ],
             [
              0.5555555555555556,
              "#d8576b"
             ],
             [
              0.6666666666666666,
              "#ed7953"
             ],
             [
              0.7777777777777778,
              "#fb9f3a"
             ],
             [
              0.8888888888888888,
              "#fdca26"
             ],
             [
              1,
              "#f0f921"
             ]
            ],
            "type": "heatmapgl"
           }
          ],
          "histogram": [
           {
            "marker": {
             "pattern": {
              "fillmode": "overlay",
              "size": 10,
              "solidity": 0.2
             }
            },
            "type": "histogram"
           }
          ],
          "histogram2d": [
           {
            "colorbar": {
             "outlinewidth": 0,
             "ticks": ""
            },
            "colorscale": [
             [
              0,
              "#0d0887"
             ],
             [
              0.1111111111111111,
              "#46039f"
             ],
             [
              0.2222222222222222,
              "#7201a8"
             ],
             [
              0.3333333333333333,
              "#9c179e"
             ],
             [
              0.4444444444444444,
              "#bd3786"
             ],
             [
              0.5555555555555556,
              "#d8576b"
             ],
             [
              0.6666666666666666,
              "#ed7953"
             ],
             [
              0.7777777777777778,
              "#fb9f3a"
             ],
             [
              0.8888888888888888,
              "#fdca26"
             ],
             [
              1,
              "#f0f921"
             ]
            ],
            "type": "histogram2d"
           }
          ],
          "histogram2dcontour": [
           {
            "colorbar": {
             "outlinewidth": 0,
             "ticks": ""
            },
            "colorscale": [
             [
              0,
              "#0d0887"
             ],
             [
              0.1111111111111111,
              "#46039f"
             ],
             [
              0.2222222222222222,
              "#7201a8"
             ],
             [
              0.3333333333333333,
              "#9c179e"
             ],
             [
              0.4444444444444444,
              "#bd3786"
             ],
             [
              0.5555555555555556,
              "#d8576b"
             ],
             [
              0.6666666666666666,
              "#ed7953"
             ],
             [
              0.7777777777777778,
              "#fb9f3a"
             ],
             [
              0.8888888888888888,
              "#fdca26"
             ],
             [
              1,
              "#f0f921"
             ]
            ],
            "type": "histogram2dcontour"
           }
          ],
          "mesh3d": [
           {
            "colorbar": {
             "outlinewidth": 0,
             "ticks": ""
            },
            "type": "mesh3d"
           }
          ],
          "parcoords": [
           {
            "line": {
             "colorbar": {
              "outlinewidth": 0,
              "ticks": ""
             }
            },
            "type": "parcoords"
           }
          ],
          "pie": [
           {
            "automargin": true,
            "type": "pie"
           }
          ],
          "scatter": [
           {
            "fillpattern": {
             "fillmode": "overlay",
             "size": 10,
             "solidity": 0.2
            },
            "type": "scatter"
           }
          ],
          "scatter3d": [
           {
            "line": {
             "colorbar": {
              "outlinewidth": 0,
              "ticks": ""
             }
            },
            "marker": {
             "colorbar": {
              "outlinewidth": 0,
              "ticks": ""
             }
            },
            "type": "scatter3d"
           }
          ],
          "scattercarpet": [
           {
            "marker": {
             "colorbar": {
              "outlinewidth": 0,
              "ticks": ""
             }
            },
            "type": "scattercarpet"
           }
          ],
          "scattergeo": [
           {
            "marker": {
             "colorbar": {
              "outlinewidth": 0,
              "ticks": ""
             }
            },
            "type": "scattergeo"
           }
          ],
          "scattergl": [
           {
            "marker": {
             "colorbar": {
              "outlinewidth": 0,
              "ticks": ""
             }
            },
            "type": "scattergl"
           }
          ],
          "scattermapbox": [
           {
            "marker": {
             "colorbar": {
              "outlinewidth": 0,
              "ticks": ""
             }
            },
            "type": "scattermapbox"
           }
          ],
          "scatterpolar": [
           {
            "marker": {
             "colorbar": {
              "outlinewidth": 0,
              "ticks": ""
             }
            },
            "type": "scatterpolar"
           }
          ],
          "scatterpolargl": [
           {
            "marker": {
             "colorbar": {
              "outlinewidth": 0,
              "ticks": ""
             }
            },
            "type": "scatterpolargl"
           }
          ],
          "scatterternary": [
           {
            "marker": {
             "colorbar": {
              "outlinewidth": 0,
              "ticks": ""
             }
            },
            "type": "scatterternary"
           }
          ],
          "surface": [
           {
            "colorbar": {
             "outlinewidth": 0,
             "ticks": ""
            },
            "colorscale": [
             [
              0,
              "#0d0887"
             ],
             [
              0.1111111111111111,
              "#46039f"
             ],
             [
              0.2222222222222222,
              "#7201a8"
             ],
             [
              0.3333333333333333,
              "#9c179e"
             ],
             [
              0.4444444444444444,
              "#bd3786"
             ],
             [
              0.5555555555555556,
              "#d8576b"
             ],
             [
              0.6666666666666666,
              "#ed7953"
             ],
             [
              0.7777777777777778,
              "#fb9f3a"
             ],
             [
              0.8888888888888888,
              "#fdca26"
             ],
             [
              1,
              "#f0f921"
             ]
            ],
            "type": "surface"
           }
          ],
          "table": [
           {
            "cells": {
             "fill": {
              "color": "#EBF0F8"
             },
             "line": {
              "color": "white"
             }
            },
            "header": {
             "fill": {
              "color": "#C8D4E3"
             },
             "line": {
              "color": "white"
             }
            },
            "type": "table"
           }
          ]
         },
         "layout": {
          "annotationdefaults": {
           "arrowcolor": "#2a3f5f",
           "arrowhead": 0,
           "arrowwidth": 1
          },
          "autotypenumbers": "strict",
          "coloraxis": {
           "colorbar": {
            "outlinewidth": 0,
            "ticks": ""
           }
          },
          "colorscale": {
           "diverging": [
            [
             0,
             "#8e0152"
            ],
            [
             0.1,
             "#c51b7d"
            ],
            [
             0.2,
             "#de77ae"
            ],
            [
             0.3,
             "#f1b6da"
            ],
            [
             0.4,
             "#fde0ef"
            ],
            [
             0.5,
             "#f7f7f7"
            ],
            [
             0.6,
             "#e6f5d0"
            ],
            [
             0.7,
             "#b8e186"
            ],
            [
             0.8,
             "#7fbc41"
            ],
            [
             0.9,
             "#4d9221"
            ],
            [
             1,
             "#276419"
            ]
           ],
           "sequential": [
            [
             0,
             "#0d0887"
            ],
            [
             0.1111111111111111,
             "#46039f"
            ],
            [
             0.2222222222222222,
             "#7201a8"
            ],
            [
             0.3333333333333333,
             "#9c179e"
            ],
            [
             0.4444444444444444,
             "#bd3786"
            ],
            [
             0.5555555555555556,
             "#d8576b"
            ],
            [
             0.6666666666666666,
             "#ed7953"
            ],
            [
             0.7777777777777778,
             "#fb9f3a"
            ],
            [
             0.8888888888888888,
             "#fdca26"
            ],
            [
             1,
             "#f0f921"
            ]
           ],
           "sequentialminus": [
            [
             0,
             "#0d0887"
            ],
            [
             0.1111111111111111,
             "#46039f"
            ],
            [
             0.2222222222222222,
             "#7201a8"
            ],
            [
             0.3333333333333333,
             "#9c179e"
            ],
            [
             0.4444444444444444,
             "#bd3786"
            ],
            [
             0.5555555555555556,
             "#d8576b"
            ],
            [
             0.6666666666666666,
             "#ed7953"
            ],
            [
             0.7777777777777778,
             "#fb9f3a"
            ],
            [
             0.8888888888888888,
             "#fdca26"
            ],
            [
             1,
             "#f0f921"
            ]
           ]
          },
          "colorway": [
           "#636efa",
           "#EF553B",
           "#00cc96",
           "#ab63fa",
           "#FFA15A",
           "#19d3f3",
           "#FF6692",
           "#B6E880",
           "#FF97FF",
           "#FECB52"
          ],
          "font": {
           "color": "#2a3f5f"
          },
          "geo": {
           "bgcolor": "white",
           "lakecolor": "white",
           "landcolor": "#E5ECF6",
           "showlakes": true,
           "showland": true,
           "subunitcolor": "white"
          },
          "hoverlabel": {
           "align": "left"
          },
          "hovermode": "closest",
          "mapbox": {
           "style": "light"
          },
          "paper_bgcolor": "white",
          "plot_bgcolor": "#E5ECF6",
          "polar": {
           "angularaxis": {
            "gridcolor": "white",
            "linecolor": "white",
            "ticks": ""
           },
           "bgcolor": "#E5ECF6",
           "radialaxis": {
            "gridcolor": "white",
            "linecolor": "white",
            "ticks": ""
           }
          },
          "scene": {
           "xaxis": {
            "backgroundcolor": "#E5ECF6",
            "gridcolor": "white",
            "gridwidth": 2,
            "linecolor": "white",
            "showbackground": true,
            "ticks": "",
            "zerolinecolor": "white"
           },
           "yaxis": {
            "backgroundcolor": "#E5ECF6",
            "gridcolor": "white",
            "gridwidth": 2,
            "linecolor": "white",
            "showbackground": true,
            "ticks": "",
            "zerolinecolor": "white"
           },
           "zaxis": {
            "backgroundcolor": "#E5ECF6",
            "gridcolor": "white",
            "gridwidth": 2,
            "linecolor": "white",
            "showbackground": true,
            "ticks": "",
            "zerolinecolor": "white"
           }
          },
          "shapedefaults": {
           "line": {
            "color": "#2a3f5f"
           }
          },
          "ternary": {
           "aaxis": {
            "gridcolor": "white",
            "linecolor": "white",
            "ticks": ""
           },
           "baxis": {
            "gridcolor": "white",
            "linecolor": "white",
            "ticks": ""
           },
           "bgcolor": "#E5ECF6",
           "caxis": {
            "gridcolor": "white",
            "linecolor": "white",
            "ticks": ""
           }
          },
          "title": {
           "x": 0.05
          },
          "xaxis": {
           "automargin": true,
           "gridcolor": "white",
           "linecolor": "white",
           "ticks": "",
           "title": {
            "standoff": 15
           },
           "zerolinecolor": "white",
           "zerolinewidth": 2
          },
          "yaxis": {
           "automargin": true,
           "gridcolor": "white",
           "linecolor": "white",
           "ticks": "",
           "title": {
            "standoff": 15
           },
           "zerolinecolor": "white",
           "zerolinewidth": 2
          }
         }
        },
        "title": {
         "text": "Associations overlap between gene burden and other sources"
        },
        "xaxis": {
         "anchor": "y",
         "domain": [
          0,
          0.45
         ],
         "range": [
          0,
          60
         ]
        },
        "xaxis2": {
         "anchor": "y2",
         "domain": [
          0.55,
          1
         ]
        },
        "yaxis": {
         "anchor": "x",
         "domain": [
          0,
          1
         ]
        },
        "yaxis2": {
         "anchor": "x2",
         "domain": [
          0,
          1
         ],
         "matches": "y",
         "showticklabels": false
        }
       }
      }
     },
     "metadata": {},
     "output_type": "display_data"
    }
   ],
   "source": [
    "fig7 = make_subplots(\n",
    "    rows=1, cols=2, shared_yaxes=True, shared_xaxes=True, specs=[[{\"type\": \"xy\"}, {\"type\": \"xy\"}]],\n",
    "    x_title='Overlap (%) of gene (or target)-trait associations', # y_title='Data source',\n",
    "    subplot_titles=('Binary traits', 'Quantitative traits'),\n",
    ")\n",
    "\n",
    "fig7.add_trace(go.Bar(\n",
    "    x=bin_indirect_overlap_between_sources.toPandas()['percentageOverlap'],\n",
    "    y=bin_indirect_overlap_between_sources.toPandas()['prettyDatasourceId'],\n",
    "    text=bin_indirect_overlap_between_sources.toPandas()['percentageOverlap'].apply(lambda x: f\"{'%.2f'%x}%\"),\n",
    "    orientation='h',\n",
    "    hovertemplate='%{y}: %{x}%<extra></extra>',\n",
    "    ), row=1, col=1,\n",
    "    )\n",
    "\n",
    "fig7.add_trace(go.Bar(\n",
    "    x=quant_indirect_overlap_between_sources.toPandas()['percentageOverlap'],\n",
    "    y=quant_indirect_overlap_between_sources.toPandas()['prettyDatasourceId'],\n",
    "    text=quant_indirect_overlap_between_sources.toPandas()['percentageOverlap'].apply(lambda x: f\"{'%.2f'%x}%\"),\n",
    "    orientation='h',\n",
    "    hovertemplate='%{y}: %{x}%<extra></extra>',\n",
    "    ), row=1, col=2)\n",
    "\n",
    "# fig7.update_layout(coloraxis=dict(colorscale='Bluered_r'), showlegend=False)\n",
    "\n",
    "fig7.update_layout(\n",
    "    title_text=\"Associations overlap between gene burden and other sources\",\n",
    "    xaxis_range=[0,60],\n",
    "    showlegend=False, height=600)\n",
    "py.plot(fig7, filename = 'assoc_ot_burden_overlap', auto_open=True)\n",
    "fig7.show()"
   ]
  },
  {
   "cell_type": "code",
   "execution_count": 31,
   "metadata": {},
   "outputs": [
    {
     "name": "stdout",
     "output_type": "stream",
     "text": [
      "Count of targets in gene_burden: 1848\n",
      "Count of overlapping targets with ClinVar: 881 (47.67316017316017%)\n"
     ]
    }
   ],
   "source": [
    "# Overlap with ClinVar is surprisingly low\n",
    "# AZ was reporting a 90% overlap with ClinVar in the number of genes. Do I see this?\n",
    "\n",
    "tmp = (\n",
    "    burden_indirect_assocs.join(\n",
    "        spark.read.parquet('/Users/irene/Documents/dev/pyspark/22.02.4/evidence')\n",
    "        .filter((F.col('datasourceId') == 'eva') | (F.col('datasourceId') == 'eva_somatic')),\n",
    "        on='targetId', how='inner')\n",
    "    .select('targetId').distinct().count()\n",
    ")\n",
    "\n",
    "print(f\"Count of targets in gene_burden: {burden_indirect_assocs.select('targetId').distinct().count()}\")\n",
    "print(f\"Count of overlapping targets with ClinVar: {tmp} ({tmp / burden_indirect_assocs.select('targetId').distinct().count() * 100}%)\")"
   ]
  },
  {
   "cell_type": "code",
   "execution_count": 33,
   "metadata": {},
   "outputs": [
    {
     "data": {
      "text/plain": [
       "Text(0.5, 1.0, 'Targets overlap with ClinVar')"
      ]
     },
     "execution_count": 33,
     "metadata": {},
     "output_type": "execute_result"
    },
    {
     "data": {
      "image/png": "[encoded data removed]",
      "text/plain": [
       "<Figure size 576x576 with 1 Axes>"
      ]
     },
     "metadata": {},
     "output_type": "display_data"
    }
   ],
   "source": [
    "# Is REGENERON providing the novel targets? No\n",
    "\n",
    "tmp = (\n",
    "    spark.read.parquet('/Users/irene/Documents/dev/pyspark/22.04.4/associationByDatasourceIndirect')\n",
    "    .filter((F.col('datasourceId') == 'eva') | (F.col('datasourceId') == 'eva_somatic'))\n",
    "    .select('targetId').distinct())\n",
    "\n",
    "targets_overlap_sets = {\n",
    "    'AstraZeneca': set(\n",
    "        az_assocs.select('targetId').distinct().toPandas()['targetId'].tolist()\n",
    "    ),\n",
    "    'REGENERON': set(\n",
    "        regeneron_assocs.select('targetId').distinct().toPandas()['targetId'].tolist()\n",
    "    ),\n",
    "    'ClinVar': set(\n",
    "        tmp.toPandas()['targetId'].tolist()\n",
    "    )\n",
    "}\n",
    "\n",
    "venn(targets_overlap_sets, legend_loc=\"best\")\n",
    "plt.title('Targets overlap with ClinVar', fontsize=20)"
   ]
  },
  {
   "cell_type": "code",
   "execution_count": 39,
   "metadata": {},
   "outputs": [
    {
     "data": {
      "application/vnd.plotly.v1+json": {
       "config": {
        "plotlyServerURL": "https://plotly.com"
       },
       "data": [
        {
         "hovertemplate": "%{y}: %{x}%<extra></extra>",
         "orientation": "h",
         "type": "bar",
         "x": [
          0.30432136335970783,
          2.982349360925137,
          4.382227632379793,
          1.399878271454656,
          2.7388922702373706,
          2.586731588557517,
          3.0127814972611078,
          5.234327449786975,
          2.2215459525258674,
          6.60377358490566,
          1.8259281801582472,
          3.4388314059646987,
          2.586731588557517,
          5.873402312842361,
          6.725502130249543,
          0.030432136335970784
         ],
         "xaxis": "x",
         "y": [
          "CRISPR",
          "Uniprot Variants",
          "GE Panel App",
          "ChEMBL",
          "SLAPenrich",
          "IntOGen",
          "Orphanet",
          "Cancer Gene Census",
          "ClinGen",
          "ClinVar",
          "Gene2Phenotype",
          "Uniprot Literature",
          "ClinVar Somatic",
          "Genetics Portal",
          "IMPC",
          "PROGENy"
         ],
         "yaxis": "y"
        },
        {
         "hovertemplate": "%{y}: %{x}%<extra></extra>",
         "orientation": "h",
         "type": "bar",
         "x": [
          5.366876310272536,
          0.006988120195667365
         ],
         "xaxis": "x2",
         "y": [
          "Genetics Portal",
          "ClinVar"
         ],
         "yaxis": "y2"
        }
       ],
       "layout": {
        "annotations": [
         {
          "font": {
           "size": 16
          },
          "showarrow": false,
          "text": "Binary traits",
          "x": 0.225,
          "xanchor": "center",
          "xref": "paper",
          "y": 1,
          "yanchor": "bottom",
          "yref": "paper"
         },
         {
          "font": {
           "size": 16
          },
          "showarrow": false,
          "text": "Quantitative traits",
          "x": 0.775,
          "xanchor": "center",
          "xref": "paper",
          "y": 1,
          "yanchor": "bottom",
          "yref": "paper"
         },
         {
          "font": {
           "size": 16
          },
          "showarrow": false,
          "text": "Overlap (%)",
          "x": 0.5,
          "xanchor": "center",
          "xref": "paper",
          "y": 0,
          "yanchor": "top",
          "yref": "paper",
          "yshift": -30
         }
        ],
        "height": 600,
        "showlegend": false,
        "template": {
         "data": {
          "bar": [
           {
            "error_x": {
             "color": "#2a3f5f"
            },
            "error_y": {
             "color": "#2a3f5f"
            },
            "marker": {
             "line": {
              "color": "#E5ECF6",
              "width": 0.5
             },
             "pattern": {
              "fillmode": "overlay",
              "size": 10,
              "solidity": 0.2
             }
            },
            "type": "bar"
           }
          ],
          "barpolar": [
           {
            "marker": {
             "line": {
              "color": "#E5ECF6",
              "width": 0.5
             },
             "pattern": {
              "fillmode": "overlay",
              "size": 10,
              "solidity": 0.2
             }
            },
            "type": "barpolar"
           }
          ],
          "carpet": [
           {
            "aaxis": {
             "endlinecolor": "#2a3f5f",
             "gridcolor": "white",
             "linecolor": "white",
             "minorgridcolor": "white",
             "startlinecolor": "#2a3f5f"
            },
            "baxis": {
             "endlinecolor": "#2a3f5f",
             "gridcolor": "white",
             "linecolor": "white",
             "minorgridcolor": "white",
             "startlinecolor": "#2a3f5f"
            },
            "type": "carpet"
           }
          ],
          "choropleth": [
           {
            "colorbar": {
             "outlinewidth": 0,
             "ticks": ""
            },
            "type": "choropleth"
           }
          ],
          "contour": [
           {
            "colorbar": {
             "outlinewidth": 0,
             "ticks": ""
            },
            "colorscale": [
             [
              0,
              "#0d0887"
             ],
             [
              0.1111111111111111,
              "#46039f"
             ],
             [
              0.2222222222222222,
              "#7201a8"
             ],
             [
              0.3333333333333333,
              "#9c179e"
             ],
             [
              0.4444444444444444,
              "#bd3786"
             ],
             [
              0.5555555555555556,
              "#d8576b"
             ],
             [
              0.6666666666666666,
              "#ed7953"
             ],
             [
              0.7777777777777778,
              "#fb9f3a"
             ],
             [
              0.8888888888888888,
              "#fdca26"
             ],
             [
              1,
              "#f0f921"
             ]
            ],
            "type": "contour"
           }
          ],
          "contourcarpet": [
           {
            "colorbar": {
             "outlinewidth": 0,
             "ticks": ""
            },
            "type": "contourcarpet"
           }
          ],
          "heatmap": [
           {
            "colorbar": {
             "outlinewidth": 0,
             "ticks": ""
            },
            "colorscale": [
             [
              0,
              "#0d0887"
             ],
             [
              0.1111111111111111,
              "#46039f"
             ],
             [
              0.2222222222222222,
              "#7201a8"
             ],
             [
              0.3333333333333333,
              "#9c179e"
             ],
             [
              0.4444444444444444,
              "#bd3786"
             ],
             [
              0.5555555555555556,
              "#d8576b"
             ],
             [
              0.6666666666666666,
              "#ed7953"
             ],
             [
              0.7777777777777778,
              "#fb9f3a"
             ],
             [
              0.8888888888888888,
              "#fdca26"
             ],
             [
              1,
              "#f0f921"
             ]
            ],
            "type": "heatmap"
           }
          ],
          "heatmapgl": [
           {
            "colorbar": {
             "outlinewidth": 0,
             "ticks": ""
            },
            "colorscale": [
             [
              0,
              "#0d0887"
             ],
             [
              0.1111111111111111,
              "#46039f"
             ],
             [
              0.2222222222222222,
              "#7201a8"
             ],
             [
              0.3333333333333333,
              "#9c179e"
             ],
             [
              0.4444444444444444,
              "#bd3786"
             ],
             [
              0.5555555555555556,
              "#d8576b"
             ],
             [
              0.6666666666666666,
              "#ed7953"
             ],
             [
              0.7777777777777778,
              "#fb9f3a"
             ],
             [
              0.8888888888888888,
              "#fdca26"
             ],
             [
              1,
              "#f0f921"
             ]
            ],
            "type": "heatmapgl"
           }
          ],
          "histogram": [
           {
            "marker": {
             "pattern": {
              "fillmode": "overlay",
              "size": 10,
              "solidity": 0.2
             }
            },
            "type": "histogram"
           }
          ],
          "histogram2d": [
           {
            "colorbar": {
             "outlinewidth": 0,
             "ticks": ""
            },
            "colorscale": [
             [
              0,
              "#0d0887"
             ],
             [
              0.1111111111111111,
              "#46039f"
             ],
             [
              0.2222222222222222,
              "#7201a8"
             ],
             [
              0.3333333333333333,
              "#9c179e"
             ],
             [
              0.4444444444444444,
              "#bd3786"
             ],
             [
              0.5555555555555556,
              "#d8576b"
             ],
             [
              0.6666666666666666,
              "#ed7953"
             ],
             [
              0.7777777777777778,
              "#fb9f3a"
             ],
             [
              0.8888888888888888,
              "#fdca26"
             ],
             [
              1,
              "#f0f921"
             ]
            ],
            "type": "histogram2d"
           }
          ],
          "histogram2dcontour": [
           {
            "colorbar": {
             "outlinewidth": 0,
             "ticks": ""
            },
            "colorscale": [
             [
              0,
              "#0d0887"
             ],
             [
              0.1111111111111111,
              "#46039f"
             ],
             [
              0.2222222222222222,
              "#7201a8"
             ],
             [
              0.3333333333333333,
              "#9c179e"
             ],
             [
              0.4444444444444444,
              "#bd3786"
             ],
             [
              0.5555555555555556,
              "#d8576b"
             ],
             [
              0.6666666666666666,
              "#ed7953"
             ],
             [
              0.7777777777777778,
              "#fb9f3a"
             ],
             [
              0.8888888888888888,
              "#fdca26"
             ],
             [
              1,
              "#f0f921"
             ]
            ],
            "type": "histogram2dcontour"
           }
          ],
          "mesh3d": [
           {
            "colorbar": {
             "outlinewidth": 0,
             "ticks": ""
            },
            "type": "mesh3d"
           }
          ],
          "parcoords": [
           {
            "line": {
             "colorbar": {
              "outlinewidth": 0,
              "ticks": ""
             }
            },
            "type": "parcoords"
           }
          ],
          "pie": [
           {
            "automargin": true,
            "type": "pie"
           }
          ],
          "scatter": [
           {
            "fillpattern": {
             "fillmode": "overlay",
             "size": 10,
             "solidity": 0.2
            },
            "type": "scatter"
           }
          ],
          "scatter3d": [
           {
            "line": {
             "colorbar": {
              "outlinewidth": 0,
              "ticks": ""
             }
            },
            "marker": {
             "colorbar": {
              "outlinewidth": 0,
              "ticks": ""
             }
            },
            "type": "scatter3d"
           }
          ],
          "scattercarpet": [
           {
            "marker": {
             "colorbar": {
              "outlinewidth": 0,
              "ticks": ""
             }
            },
            "type": "scattercarpet"
           }
          ],
          "scattergeo": [
           {
            "marker": {
             "colorbar": {
              "outlinewidth": 0,
              "ticks": ""
             }
            },
            "type": "scattergeo"
           }
          ],
          "scattergl": [
           {
            "marker": {
             "colorbar": {
              "outlinewidth": 0,
              "ticks": ""
             }
            },
            "type": "scattergl"
           }
          ],
          "scattermapbox": [
           {
            "marker": {
             "colorbar": {
              "outlinewidth": 0,
              "ticks": ""
             }
            },
            "type": "scattermapbox"
           }
          ],
          "scatterpolar": [
           {
            "marker": {
             "colorbar": {
              "outlinewidth": 0,
              "ticks": ""
             }
            },
            "type": "scatterpolar"
           }
          ],
          "scatterpolargl": [
           {
            "marker": {
             "colorbar": {
              "outlinewidth": 0,
              "ticks": ""
             }
            },
            "type": "scatterpolargl"
           }
          ],
          "scatterternary": [
           {
            "marker": {
             "colorbar": {
              "outlinewidth": 0,
              "ticks": ""
             }
            },
            "type": "scatterternary"
           }
          ],
          "surface": [
           {
            "colorbar": {
             "outlinewidth": 0,
             "ticks": ""
            },
            "colorscale": [
             [
              0,
              "#0d0887"
             ],
             [
              0.1111111111111111,
              "#46039f"
             ],
             [
              0.2222222222222222,
              "#7201a8"
             ],
             [
              0.3333333333333333,
              "#9c179e"
             ],
             [
              0.4444444444444444,
              "#bd3786"
             ],
             [
              0.5555555555555556,
              "#d8576b"
             ],
             [
              0.6666666666666666,
              "#ed7953"
             ],
             [
              0.7777777777777778,
              "#fb9f3a"
             ],
             [
              0.8888888888888888,
              "#fdca26"
             ],
             [
              1,
              "#f0f921"
             ]
            ],
            "type": "surface"
           }
          ],
          "table": [
           {
            "cells": {
             "fill": {
              "color": "#EBF0F8"
             },
             "line": {
              "color": "white"
             }
            },
            "header": {
             "fill": {
              "color": "#C8D4E3"
             },
             "line": {
              "color": "white"
             }
            },
            "type": "table"
           }
          ]
         },
         "layout": {
          "annotationdefaults": {
           "arrowcolor": "#2a3f5f",
           "arrowhead": 0,
           "arrowwidth": 1
          },
          "autotypenumbers": "strict",
          "coloraxis": {
           "colorbar": {
            "outlinewidth": 0,
            "ticks": ""
           }
          },
          "colorscale": {
           "diverging": [
            [
             0,
             "#8e0152"
            ],
            [
             0.1,
             "#c51b7d"
            ],
            [
             0.2,
             "#de77ae"
            ],
            [
             0.3,
             "#f1b6da"
            ],
            [
             0.4,
             "#fde0ef"
            ],
            [
             0.5,
             "#f7f7f7"
            ],
            [
             0.6,
             "#e6f5d0"
            ],
            [
             0.7,
             "#b8e186"
            ],
            [
             0.8,
             "#7fbc41"
            ],
            [
             0.9,
             "#4d9221"
            ],
            [
             1,
             "#276419"
            ]
           ],
           "sequential": [
            [
             0,
             "#0d0887"
            ],
            [
             0.1111111111111111,
             "#46039f"
            ],
            [
             0.2222222222222222,
             "#7201a8"
            ],
            [
             0.3333333333333333,
             "#9c179e"
            ],
            [
             0.4444444444444444,
             "#bd3786"
            ],
            [
             0.5555555555555556,
             "#d8576b"
            ],
            [
             0.6666666666666666,
             "#ed7953"
            ],
            [
             0.7777777777777778,
             "#fb9f3a"
            ],
            [
             0.8888888888888888,
             "#fdca26"
            ],
            [
             1,
             "#f0f921"
            ]
           ],
           "sequentialminus": [
            [
             0,
             "#0d0887"
            ],
            [
             0.1111111111111111,
             "#46039f"
            ],
            [
             0.2222222222222222,
             "#7201a8"
            ],
            [
             0.3333333333333333,
             "#9c179e"
            ],
            [
             0.4444444444444444,
             "#bd3786"
            ],
            [
             0.5555555555555556,
             "#d8576b"
            ],
            [
             0.6666666666666666,
             "#ed7953"
            ],
            [
             0.7777777777777778,
             "#fb9f3a"
            ],
            [
             0.8888888888888888,
             "#fdca26"
            ],
            [
             1,
             "#f0f921"
            ]
           ]
          },
          "colorway": [
           "#636efa",
           "#EF553B",
           "#00cc96",
           "#ab63fa",
           "#FFA15A",
           "#19d3f3",
           "#FF6692",
           "#B6E880",
           "#FF97FF",
           "#FECB52"
          ],
          "font": {
           "color": "#2a3f5f"
          },
          "geo": {
           "bgcolor": "white",
           "lakecolor": "white",
           "landcolor": "#E5ECF6",
           "showlakes": true,
           "showland": true,
           "subunitcolor": "white"
          },
          "hoverlabel": {
           "align": "left"
          },
          "hovermode": "closest",
          "mapbox": {
           "style": "light"
          },
          "paper_bgcolor": "white",
          "plot_bgcolor": "#E5ECF6",
          "polar": {
           "angularaxis": {
            "gridcolor": "white",
            "linecolor": "white",
            "ticks": ""
           },
           "bgcolor": "#E5ECF6",
           "radialaxis": {
            "gridcolor": "white",
            "linecolor": "white",
            "ticks": ""
           }
          },
          "scene": {
           "xaxis": {
            "backgroundcolor": "#E5ECF6",
            "gridcolor": "white",
            "gridwidth": 2,
            "linecolor": "white",
            "showbackground": true,
            "ticks": "",
            "zerolinecolor": "white"
           },
           "yaxis": {
            "backgroundcolor": "#E5ECF6",
            "gridcolor": "white",
            "gridwidth": 2,
            "linecolor": "white",
            "showbackground": true,
            "ticks": "",
            "zerolinecolor": "white"
           },
           "zaxis": {
            "backgroundcolor": "#E5ECF6",
            "gridcolor": "white",
            "gridwidth": 2,
            "linecolor": "white",
            "showbackground": true,
            "ticks": "",
            "zerolinecolor": "white"
           }
          },
          "shapedefaults": {
           "line": {
            "color": "#2a3f5f"
           }
          },
          "ternary": {
           "aaxis": {
            "gridcolor": "white",
            "linecolor": "white",
            "ticks": ""
           },
           "baxis": {
            "gridcolor": "white",
            "linecolor": "white",
            "ticks": ""
           },
           "bgcolor": "#E5ECF6",
           "caxis": {
            "gridcolor": "white",
            "linecolor": "white",
            "ticks": ""
           }
          },
          "title": {
           "x": 0.05
          },
          "xaxis": {
           "automargin": true,
           "gridcolor": "white",
           "linecolor": "white",
           "ticks": "",
           "title": {
            "standoff": 15
           },
           "zerolinecolor": "white",
           "zerolinewidth": 2
          },
          "yaxis": {
           "automargin": true,
           "gridcolor": "white",
           "linecolor": "white",
           "ticks": "",
           "title": {
            "standoff": 15
           },
           "zerolinecolor": "white",
           "zerolinewidth": 2
          }
         }
        },
        "title": {
         "text": "Overlap between PTV based gene burden associations and other sources"
        },
        "xaxis": {
         "anchor": "y",
         "domain": [
          0,
          0.45
         ],
         "range": [
          0,
          60
         ]
        },
        "xaxis2": {
         "anchor": "y2",
         "domain": [
          0.55,
          1
         ]
        },
        "yaxis": {
         "anchor": "x",
         "domain": [
          0,
          1
         ]
        },
        "yaxis2": {
         "anchor": "x2",
         "domain": [
          0,
          1
         ],
         "matches": "y",
         "showticklabels": false
        }
       }
      }
     },
     "metadata": {},
     "output_type": "display_data"
    }
   ],
   "source": [
    "# Is the overlap only referring to associations based on PTVs? Apparently not...\n",
    "\n",
    "bin_ptv_overlap_between_sources = (\n",
    "\n",
    "    # I first get all common associations across sources for binary traits\n",
    "    burden_indirect_assocs.filter(F.col('diseaseId').isin(gene_burden_bin_dis))\n",
    "\n",
    "    # Keep only associations with PTVs\n",
    "    .join(\n",
    "        evd.filter(F.col('statisticalMethod').contains('ptv')).select('targetId', 'diseaseId').distinct(),\n",
    "        on=['targetId', 'diseaseId'], how='inner'\n",
    "    )\n",
    "\n",
    "    .join(otp_indirect_assocs, how='inner', on=['targetId', 'diseaseId'])\n",
    "    .distinct()\n",
    "\n",
    "    # Break down by data source and percentage relative to the total number of associations\n",
    "    .groupBy('datasourceId').count()\n",
    "    .withColumn('percentageOverlap', F.col('count') / num_gene_burden_bin_assocs * 100)\n",
    "    .withColumn('prettyDatasourceId', F.col('datasourceId')).replace(to_replace=PRETTY_DATASOURCE_NAMES, subset=['prettyDatasourceId'])\n",
    ")\n",
    "\n",
    "quant_ptv_overlap_between_sources = (\n",
    "\n",
    "    # I first get all common associations across sources for quantitative traits\n",
    "    burden_indirect_assocs.filter(~F.col('diseaseId').isin(gene_burden_bin_dis))\n",
    "\n",
    "    # Keep only associations with PTVs\n",
    "    .join(\n",
    "        evd.filter(F.col('statisticalMethod').contains('ptv')).select('targetId', 'diseaseId').distinct(),\n",
    "        on=['targetId', 'diseaseId'], how='inner'\n",
    "    )\n",
    "\n",
    "    .join(otp_indirect_assocs, how='inner', on=['targetId', 'diseaseId'])\n",
    "    .distinct()\n",
    "\n",
    "    # Break down by data source and percentage relative to the total number of associations\n",
    "    .groupBy('datasourceId').count()\n",
    "    .withColumn('percentageOverlap', F.col('count') / num_gene_burden_quant_assocs * 100)\n",
    "    .withColumn('prettyDatasourceId', F.col('datasourceId')).replace(to_replace=PRETTY_DATASOURCE_NAMES, subset=['prettyDatasourceId'])\n",
    ")\n",
    "\n",
    "fig7b = make_subplots(\n",
    "    rows=1, cols=2, shared_yaxes=True, specs=[[{\"type\": \"xy\"}, {\"type\": \"xy\"}]],\n",
    "    x_title='Overlap (%)', # y_title='Data source',\n",
    "    subplot_titles=('Binary traits', 'Quantitative traits'),\n",
    ")\n",
    "\n",
    "fig7b.add_trace(go.Bar(\n",
    "    x=bin_ptv_overlap_between_sources.toPandas()['percentageOverlap'],\n",
    "    y=bin_ptv_overlap_between_sources.toPandas()['prettyDatasourceId'],\n",
    "    orientation='h',\n",
    "    hovertemplate='%{y}: %{x}%<extra></extra>',\n",
    "    ), row=1, col=1)\n",
    "\n",
    "fig7b.add_trace(go.Bar(\n",
    "    x=quant_ptv_overlap_between_sources.toPandas()['percentageOverlap'],\n",
    "    y=quant_ptv_overlap_between_sources.toPandas()['prettyDatasourceId'],\n",
    "    orientation='h',\n",
    "    hovertemplate='%{y}: %{x}%<extra></extra>',\n",
    "    ), row=1, col=2)\n",
    "\n",
    "# fig7.update_layout(coloraxis=dict(colorscale='Bluered_r'), showlegend=False)\n",
    "\n",
    "fig7b.update_layout(\n",
    "    title_text=\"Overlap between PTV based gene burden associations and other sources\",\n",
    "    xaxis_range=[0,60],\n",
    "    showlegend=False, height=600)\n",
    "#py.plot(fig7, filename = 'assoc_ot_burden_overlap', auto_open=True)\n",
    "fig7b.show()"
   ]
  },
  {
   "cell_type": "markdown",
   "metadata": {},
   "source": [
    "### 2. PheWAS plot with all data sources. (X-axis: traits ordered by TA; Y-axis:-log2 assoc score)"
   ]
  },
  {
   "cell_type": "code",
   "execution_count": 70,
   "metadata": {},
   "outputs": [],
   "source": [
    "# Snippet to extract most relevant TA - also used in V2D\n",
    "\n",
    "THERAPEUTIC_AREAS = {\n",
    "    # I had to add 'OTAR_0000020' (nutritional or metabolic disease) and 'MONDO_0100336' (infectious disease or post-infectious disorder)\n",
    "    # because they were not in the list\n",
    "    'therapeutic_area': [\n",
    "        'cell proliferation disorder',\n",
    "        'infectious disease',\n",
    "        'infectious disease or post-infectious disorder',\n",
    "        'pregnancy or perinatal disease',\n",
    "        'animal disease',\n",
    "        'disease of visual system',\n",
    "        'cardiovascular disease',\n",
    "        'pancreas disease',\n",
    "        'gastrointestinal disease',\n",
    "        'reproductive system or breast disease',\n",
    "        'integumentary system disease',\n",
    "        'endocrine system disease',\n",
    "        'nutritional or metabolic disease',\n",
    "        'respiratory or thoracic disease',\n",
    "        'urinary system disease',\n",
    "        'musculoskeletal or connective tissue disease',\n",
    "        'disease of ear',\n",
    "        'immune system disease',\n",
    "        'hematologic disease',\n",
    "        'nervous system disease',\n",
    "        'psychiatric disorder',\n",
    "        'nutritional or metabolic disease',\n",
    "        'genetic, familial or congenital disease',\n",
    "        'injury, poisoning or other complication',\n",
    "        'phenotype',\n",
    "        'measurement',\n",
    "        'biological process',\n",
    "    ],\n",
    "    'id': [\n",
    "        'MONDO_0045024',\n",
    "        'EFO_0005741',\n",
    "        'MONDO_0100336',\n",
    "        'OTAR_0000014',\n",
    "        'EFO_0005932',\n",
    "        'MONDO_0024458',\n",
    "        'EFO_0000319',\n",
    "        'EFO_0009605',\n",
    "        'EFO_0010282',\n",
    "        'OTAR_0000017',\n",
    "        'EFO_0010285',\n",
    "        'EFO_0001379',\n",
    "        'OTAR_0000020',\n",
    "        'OTAR_0000010',\n",
    "        'EFO_0009690',\n",
    "        'OTAR_0000006',\n",
    "        'MONDO_0021205',\n",
    "        'EFO_0000540',\n",
    "        'EFO_0005803',\n",
    "        'EFO_0000618',\n",
    "        'MONDO_0002025',\n",
    "        'MONDO_0024297',\n",
    "        'OTAR_0000018',\n",
    "        'OTAR_0000009',\n",
    "        'EFO_0000651',\n",
    "        'EFO_0001444',\n",
    "        'GO_0008150',\n",
    "    ],\n",
    "}\n",
    "SORTED_TAS_DF = pd.DataFrame(data=THERAPEUTIC_AREAS)\n",
    "\n",
    "def get_prioritised_therapeutic_area(\n",
    "    therapeutic_areas,\n",
    ") -> str:\n",
    "    \"\"\"\n",
    "    SORTED_TAS_DF is a df where the therapeutic areas are arranged in order of relevance.\n",
    "    The more relevant TA is extracted by selecting which one has the minimal index.\n",
    "    \"\"\"\n",
    "    try:\n",
    "        if len(therapeutic_areas) > 0:\n",
    "            min_index = float('inf')\n",
    "            for ta in therapeutic_areas:\n",
    "                idx = SORTED_TAS_DF.index[SORTED_TAS_DF['id'] == ta]\n",
    "                if idx < min_index:\n",
    "                    min_index = idx\n",
    "            ta = SORTED_TAS_DF.iloc[min_index][\"therapeutic_area\"].values[0]\n",
    "            return ta\n",
    "    except TypeError:\n",
    "        return \"Uncategorised\"\n",
    "    except Exception as e:\n",
    "        raise e"
   ]
  },
  {
   "cell_type": "code",
   "execution_count": 71,
   "metadata": {},
   "outputs": [
    {
     "name": "stdout",
     "output_type": "stream",
     "text": [
      "+-----------+------------+---------------+--------------------+----------------+\n",
      "|  diseaseId|datasourceId|       targetId|               score|therapeuticAreas|\n",
      "+-----------+------------+---------------+--------------------+----------------+\n",
      "|EFO_0000595|   europepmc|ENSG00000075624|0.012158615952232422| [MONDO_0045024]|\n",
      "|EFO_0000595|   europepmc|ENSG00000125618| 0.01823792392834863| [MONDO_0045024]|\n",
      "|EFO_0000595|   europepmc|ENSG00000135903| 0.03647584785669726| [MONDO_0045024]|\n",
      "|EFO_0000595|   europepmc|ENSG00000171791|0.030396539880581056| [MONDO_0045024]|\n",
      "|EFO_0000595|   europepmc|ENSG00000175084|0.012158615952232422| [MONDO_0045024]|\n",
      "+-----------+------------+---------------+--------------------+----------------+\n",
      "only showing top 5 rows\n",
      "\n"
     ]
    }
   ],
   "source": [
    "ind_assocs = (\n",
    "    spark.read.parquet('/Users/irenelopez/Documents/dev/pyspark/22.11/associationByDatasourceIndirect')\n",
    "    .select('datasourceId', 'diseaseId', 'targetId', 'score')\n",
    "\n",
    "    # Get list of therapeutic areas from disease index\n",
    "    .join(\n",
    "        spark.read.parquet(Path.joinpath(ROOT / 'data/diseases').as_posix()).select(F.col('id').alias('diseaseId'), 'therapeuticAreas'),\n",
    "        on='diseaseId', how='left'\n",
    "    )\n",
    ")\n",
    "\n",
    "ind_assocs.show(5)"
   ]
  },
  {
   "cell_type": "code",
   "execution_count": 72,
   "metadata": {},
   "outputs": [
    {
     "name": "stderr",
     "output_type": "stream",
     "text": [
      "/var/folders/54/2j7x_lqn343_d6hjm7mcv9rc0000gn/T/ipykernel_8715/1604393622.py:79: DeprecationWarning:\n",
      "\n",
      "The truth value of an empty array is ambiguous. Returning False, but in future this will result in an error. Use `array.size > 0` to check that an array is not empty.\n",
      "\n"
     ]
    },
    {
     "data": {
      "text/html": [
       "<div>\n",
       "<style scoped>\n",
       "    .dataframe tbody tr th:only-of-type {\n",
       "        vertical-align: middle;\n",
       "    }\n",
       "\n",
       "    .dataframe tbody tr th {\n",
       "        vertical-align: top;\n",
       "    }\n",
       "\n",
       "    .dataframe thead th {\n",
       "        text-align: right;\n",
       "    }\n",
       "</style>\n",
       "<table border=\"1\" class=\"dataframe\">\n",
       "  <thead>\n",
       "    <tr style=\"text-align: right;\">\n",
       "      <th></th>\n",
       "      <th>diseaseId</th>\n",
       "      <th>therapeuticAreas</th>\n",
       "      <th>therapeuticCategory</th>\n",
       "    </tr>\n",
       "  </thead>\n",
       "  <tbody>\n",
       "    <tr>\n",
       "      <th>0</th>\n",
       "      <td>EFO_0009177</td>\n",
       "      <td>[EFO_0001444]</td>\n",
       "      <td>measurement</td>\n",
       "    </tr>\n",
       "    <tr>\n",
       "      <th>1</th>\n",
       "      <td>EFO_0009904</td>\n",
       "      <td>[OTAR_0000018, EFO_0000618]</td>\n",
       "      <td>nervous system disease</td>\n",
       "    </tr>\n",
       "    <tr>\n",
       "      <th>2</th>\n",
       "      <td>EFO_0009938</td>\n",
       "      <td>[EFO_0001444]</td>\n",
       "      <td>measurement</td>\n",
       "    </tr>\n",
       "    <tr>\n",
       "      <th>3</th>\n",
       "      <td>EFO_0007633</td>\n",
       "      <td>[GO_0008150]</td>\n",
       "      <td>biological process</td>\n",
       "    </tr>\n",
       "    <tr>\n",
       "      <th>4</th>\n",
       "      <td>EFO_0009167</td>\n",
       "      <td>[GO_0008150]</td>\n",
       "      <td>biological process</td>\n",
       "    </tr>\n",
       "    <tr>\n",
       "      <th>...</th>\n",
       "      <td>...</td>\n",
       "      <td>...</td>\n",
       "      <td>...</td>\n",
       "    </tr>\n",
       "    <tr>\n",
       "      <th>16595</th>\n",
       "      <td>EFO_1000653</td>\n",
       "      <td>[OTAR_0000006]</td>\n",
       "      <td>musculoskeletal or connective tissue disease</td>\n",
       "    </tr>\n",
       "    <tr>\n",
       "      <th>16596</th>\n",
       "      <td>EFO_0002502</td>\n",
       "      <td>[EFO_0001379, EFO_0000540, EFO_0009605, EFO_00...</td>\n",
       "      <td>pancreas disease</td>\n",
       "    </tr>\n",
       "    <tr>\n",
       "      <th>16597</th>\n",
       "      <td>Orphanet_98806</td>\n",
       "      <td>[OTAR_0000018, EFO_0000618]</td>\n",
       "      <td>nervous system disease</td>\n",
       "    </tr>\n",
       "    <tr>\n",
       "      <th>16598</th>\n",
       "      <td>HP_0000974</td>\n",
       "      <td>[EFO_0000651]</td>\n",
       "      <td>phenotype</td>\n",
       "    </tr>\n",
       "    <tr>\n",
       "      <th>16599</th>\n",
       "      <td>HP_0000479</td>\n",
       "      <td>[EFO_0000651]</td>\n",
       "      <td>phenotype</td>\n",
       "    </tr>\n",
       "  </tbody>\n",
       "</table>\n",
       "<p>16600 rows × 3 columns</p>\n",
       "</div>"
      ],
      "text/plain": [
       "            diseaseId                                   therapeuticAreas  \\\n",
       "0         EFO_0009177                                      [EFO_0001444]   \n",
       "1         EFO_0009904                        [OTAR_0000018, EFO_0000618]   \n",
       "2         EFO_0009938                                      [EFO_0001444]   \n",
       "3         EFO_0007633                                       [GO_0008150]   \n",
       "4         EFO_0009167                                       [GO_0008150]   \n",
       "...               ...                                                ...   \n",
       "16595     EFO_1000653                                     [OTAR_0000006]   \n",
       "16596     EFO_0002502  [EFO_0001379, EFO_0000540, EFO_0009605, EFO_00...   \n",
       "16597  Orphanet_98806                        [OTAR_0000018, EFO_0000618]   \n",
       "16598      HP_0000974                                      [EFO_0000651]   \n",
       "16599      HP_0000479                                      [EFO_0000651]   \n",
       "\n",
       "                                therapeuticCategory  \n",
       "0                                       measurement  \n",
       "1                            nervous system disease  \n",
       "2                                       measurement  \n",
       "3                                biological process  \n",
       "4                                biological process  \n",
       "...                                             ...  \n",
       "16595  musculoskeletal or connective tissue disease  \n",
       "16596                              pancreas disease  \n",
       "16597                        nervous system disease  \n",
       "16598                                     phenotype  \n",
       "16599                                     phenotype  \n",
       "\n",
       "[16600 rows x 3 columns]"
      ]
     },
     "execution_count": 72,
     "metadata": {},
     "output_type": "execute_result"
    }
   ],
   "source": [
    "# Logic is built with Pandas\n",
    "\n",
    "ind_diseases_pdf = ind_assocs.select('diseaseId', 'therapeuticAreas').distinct().toPandas()\n",
    "ind_diseases_pdf['therapeuticCategory'] = (\n",
    "    ind_diseases_pdf['therapeuticAreas'].apply(get_prioritised_therapeutic_area)   \n",
    ")\n",
    "\n",
    "ind_diseases_pdf\n"
   ]
  },
  {
   "cell_type": "code",
   "execution_count": 79,
   "metadata": {},
   "outputs": [
    {
     "name": "stdout",
     "output_type": "stream",
     "text": [
      "+-----------+------------+---------------+--------------------+----------------+--------------------+--------------------+\n",
      "|  diseaseId|datasourceId|       targetId|               score|therapeuticAreas| therapeuticCategory|           log2score|\n",
      "+-----------+------------+---------------+--------------------+----------------+--------------------+--------------------+\n",
      "|EFO_0000595|   europepmc|ENSG00000075624|0.012158615952232422| [MONDO_0045024]|cell proliferatio...|0.017648685484778454|\n",
      "|EFO_0000595|   europepmc|ENSG00000125618| 0.01823792392834863| [MONDO_0045024]|cell proliferatio...|  0.0265546561525172|\n",
      "|EFO_0000595|   europepmc|ENSG00000135903| 0.03647584785669726| [MONDO_0045024]|cell proliferatio...|0.053607264650065045|\n",
      "|EFO_0000595|   europepmc|ENSG00000171791|0.030396539880581056| [MONDO_0045024]|cell proliferatio...|0.044533247676932175|\n",
      "|EFO_0000595|   europepmc|ENSG00000175084|0.012158615952232422| [MONDO_0045024]|cell proliferatio...|0.017648685484778454|\n",
      "+-----------+------------+---------------+--------------------+----------------+--------------------+--------------------+\n",
      "only showing top 5 rows\n",
      "\n"
     ]
    }
   ],
   "source": [
    "ind_assocs = (\n",
    "    ind_assocs.join(spark.createDataFrame(ind_diseases_pdf[['diseaseId', 'therapeuticCategory']]), on='diseaseId', how='left')\n",
    "    .withColumn('log2score', -F.log2(1 - F.col('score')))\n",
    ")\n",
    "\n",
    "ind_assocs.show(5)"
   ]
  },
  {
   "cell_type": "code",
   "execution_count": null,
   "metadata": {},
   "outputs": [],
   "source": [
    "'''fig8 = px.scatter(\n",
    "    ind_assocs_pdf,\n",
    "    x='therapeuticCategory', y='log2score',\n",
    "    title='PheWAS',\n",
    ")\n",
    "\n",
    "fig8.show()'''\n",
    "\n",
    "# Plotly Express is not able to handle millions of data points"
   ]
  },
  {
   "cell_type": "code",
   "execution_count": null,
   "metadata": {},
   "outputs": [],
   "source": [
    "# I'll try with Datashader - not ideal / only numerical variables are allowed\n",
    "\n",
    "'''import holoviews as hv\n",
    "import datashader as ds\n",
    "\n",
    "hv.extension('bokeh')\n",
    "\n",
    "agg = ds.Canvas().points(ind_assocs_pdf.head(1000),'therapeuticCategory','log2score')\n",
    "'''\n"
   ]
  },
  {
   "cell_type": "code",
   "execution_count": 50,
   "metadata": {},
   "outputs": [],
   "source": [
    "import plotly.offline as pyo\n",
    "\n",
    "# I want to color the points per data source. \n",
    "# That is not implemented by default in Scattergl, so I have to add the traces manually per source\n",
    "groups = ind_assocs_pdf.datasourceId.unique()\n",
    "\n",
    "# Create as many traces as different groups there are and save them in data list\n",
    "data = []\n",
    "for source in groups:\n",
    "    df_group = ind_assocs_pdf[ind_assocs_pdf['datasourceId'] == source]\n",
    "    if source != 'gene_burden':\n",
    "        trace = go.Scattergl(x=df_group['therapeuticCategory'], \n",
    "                            y=df_group['log2score'],\n",
    "                            mode='markers',\n",
    "                            name=source,\n",
    "                            customdata=df_group['targetId'],\n",
    "                            hovertemplate = \"Target: %{customdata} <br>-log2 score: %{y} </br> Therapeutic area:%{x}\",\n",
    "                            visible='legendonly')\n",
    "    else:\n",
    "        trace = go.Scattergl(x=df_group['therapeuticCategory'], \n",
    "                    y=df_group['log2score'],\n",
    "                    mode='markers',\n",
    "                    name=source,\n",
    "                    customdata=df_group['targetId'],\n",
    "                    hovertemplate = \"Target: %{customdata} <br>-log2 score: %{y} </br> Therapeutic area:%{x}\",\n",
    "                )\n",
    "    data.append(trace)\n",
    "\n",
    "# Layout of the plot\n",
    "layout = go.Layout(\n",
    "    title='PheWAS <br><sup>Strength of association map (sample of 7 000 associations)</sup>',\n",
    "    xaxis={'title': 'Therapeutic areas'},\n",
    "    yaxis={'title': '-log2 score'},\n",
    ")\n",
    "fig8 = go.Figure(data=data, layout=layout)\n",
    "\n",
    "#pyo.plot(fig8)\n",
    "#py.plot(fig8, filename = 'phewas', auto_open=True) \n",
    "\n",
    "#fig8.show()"
   ]
  },
  {
   "cell_type": "markdown",
   "metadata": {},
   "source": [
    "### A less noisy way of displaying distribution of associations\n",
    "\n",
    "Stacked bar chart per therapeutic area with 3 groups:\n",
    "-  number of associations in OTP (unselected by default)\n",
    "-  number of associations in both\n",
    "-  number of new associations from gene burden"
   ]
  },
  {
   "cell_type": "code",
   "execution_count": 84,
   "metadata": {},
   "outputs": [
    {
     "data": {
      "text/html": [
       "<div>\n",
       "<style scoped>\n",
       "    .dataframe tbody tr th:only-of-type {\n",
       "        vertical-align: middle;\n",
       "    }\n",
       "\n",
       "    .dataframe tbody tr th {\n",
       "        vertical-align: top;\n",
       "    }\n",
       "\n",
       "    .dataframe thead th {\n",
       "        text-align: right;\n",
       "    }\n",
       "</style>\n",
       "<table border=\"1\" class=\"dataframe\">\n",
       "  <thead>\n",
       "    <tr style=\"text-align: right;\">\n",
       "      <th></th>\n",
       "      <th>therapeuticCategory</th>\n",
       "      <th>count</th>\n",
       "      <th>metric</th>\n",
       "    </tr>\n",
       "  </thead>\n",
       "  <tbody>\n",
       "    <tr>\n",
       "      <th>0</th>\n",
       "      <td>infectious disease</td>\n",
       "      <td>204619</td>\n",
       "      <td>Associations in OT Platform</td>\n",
       "    </tr>\n",
       "    <tr>\n",
       "      <th>1</th>\n",
       "      <td>urinary system disease</td>\n",
       "      <td>120908</td>\n",
       "      <td>Associations in OT Platform</td>\n",
       "    </tr>\n",
       "    <tr>\n",
       "      <th>2</th>\n",
       "      <td>reproductive system or breast disease</td>\n",
       "      <td>245595</td>\n",
       "      <td>Associations in OT Platform</td>\n",
       "    </tr>\n",
       "    <tr>\n",
       "      <th>3</th>\n",
       "      <td>infectious disease or post-infectious disorder</td>\n",
       "      <td>20305</td>\n",
       "      <td>Associations in OT Platform</td>\n",
       "    </tr>\n",
       "    <tr>\n",
       "      <th>4</th>\n",
       "      <td>injury, poisoning or other complication</td>\n",
       "      <td>11673</td>\n",
       "      <td>Associations in OT Platform</td>\n",
       "    </tr>\n",
       "  </tbody>\n",
       "</table>\n",
       "</div>"
      ],
      "text/plain": [
       "                              therapeuticCategory   count  \\\n",
       "0                              infectious disease  204619   \n",
       "1                          urinary system disease  120908   \n",
       "2           reproductive system or breast disease  245595   \n",
       "3  infectious disease or post-infectious disorder   20305   \n",
       "4         injury, poisoning or other complication   11673   \n",
       "\n",
       "                        metric  \n",
       "0  Associations in OT Platform  \n",
       "1  Associations in OT Platform  \n",
       "2  Associations in OT Platform  \n",
       "3  Associations in OT Platform  \n",
       "4  Associations in OT Platform  "
      ]
     },
     "execution_count": 84,
     "metadata": {},
     "output_type": "execute_result"
    }
   ],
   "source": [
    "total_assocs_df = (\n",
    "    ind_assocs.filter(F.col('datasourceId') != 'gene_burden')\n",
    "    .select(F.concat_ws(\"|\", \"targetId\", \"diseaseId\").alias(\"assoc\"), \"therapeuticCategory\")\n",
    "    .distinct()\n",
    "    .groupBy(\"therapeuticCategory\").count()\n",
    "    .withColumn(\"metric\", F.lit(\"Associations in OT Platform\"))\n",
    "    .toPandas()\n",
    ")\n",
    "\n",
    "\n",
    "total_assocs_df.head(5)\n"
   ]
  },
  {
   "cell_type": "code",
   "execution_count": 86,
   "metadata": {},
   "outputs": [
    {
     "data": {
      "text/html": [
       "<div>\n",
       "<style scoped>\n",
       "    .dataframe tbody tr th:only-of-type {\n",
       "        vertical-align: middle;\n",
       "    }\n",
       "\n",
       "    .dataframe tbody tr th {\n",
       "        vertical-align: top;\n",
       "    }\n",
       "\n",
       "    .dataframe thead th {\n",
       "        text-align: right;\n",
       "    }\n",
       "</style>\n",
       "<table border=\"1\" class=\"dataframe\">\n",
       "  <thead>\n",
       "    <tr style=\"text-align: right;\">\n",
       "      <th></th>\n",
       "      <th>therapeuticCategory</th>\n",
       "      <th>count</th>\n",
       "      <th>metric</th>\n",
       "    </tr>\n",
       "  </thead>\n",
       "  <tbody>\n",
       "    <tr>\n",
       "      <th>0</th>\n",
       "      <td>infectious disease</td>\n",
       "      <td>21</td>\n",
       "      <td>Novel gene burden associations</td>\n",
       "    </tr>\n",
       "    <tr>\n",
       "      <th>1</th>\n",
       "      <td>urinary system disease</td>\n",
       "      <td>23</td>\n",
       "      <td>Novel gene burden associations</td>\n",
       "    </tr>\n",
       "    <tr>\n",
       "      <th>2</th>\n",
       "      <td>reproductive system or breast disease</td>\n",
       "      <td>22</td>\n",
       "      <td>Novel gene burden associations</td>\n",
       "    </tr>\n",
       "    <tr>\n",
       "      <th>3</th>\n",
       "      <td>injury, poisoning or other complication</td>\n",
       "      <td>12</td>\n",
       "      <td>Novel gene burden associations</td>\n",
       "    </tr>\n",
       "    <tr>\n",
       "      <th>4</th>\n",
       "      <td>cardiovascular disease</td>\n",
       "      <td>100</td>\n",
       "      <td>Novel gene burden associations</td>\n",
       "    </tr>\n",
       "  </tbody>\n",
       "</table>\n",
       "</div>"
      ],
      "text/plain": [
       "                       therapeuticCategory  count  \\\n",
       "0                       infectious disease     21   \n",
       "1                   urinary system disease     23   \n",
       "2    reproductive system or breast disease     22   \n",
       "3  injury, poisoning or other complication     12   \n",
       "4                   cardiovascular disease    100   \n",
       "\n",
       "                           metric  \n",
       "0  Novel gene burden associations  \n",
       "1  Novel gene burden associations  \n",
       "2  Novel gene burden associations  \n",
       "3  Novel gene burden associations  \n",
       "4  Novel gene burden associations  "
      ]
     },
     "execution_count": 86,
     "metadata": {},
     "output_type": "execute_result"
    }
   ],
   "source": [
    "new_burden_assocs_df = (\n",
    "    ind_assocs.filter(F.col('datasourceId') == 'gene_burden')\n",
    "    .select(F.concat_ws(\"|\", \"targetId\", \"diseaseId\").alias(\"assoc\"), \"therapeuticCategory\")\n",
    "    .distinct()\n",
    "    .join(\n",
    "        (\n",
    "            ind_assocs.filter(F.col('datasourceId') != 'gene_burden')\n",
    "            .select(F.concat_ws(\"|\", \"targetId\", \"diseaseId\").alias(\"assoc\")).distinct()\n",
    "        ),\n",
    "        on='assoc',\n",
    "        how='left_anti'\n",
    "    ).distinct()\n",
    "    .groupBy(\"therapeuticCategory\").count()\n",
    "    .withColumn(\"metric\", F.lit(\"Novel gene burden associations\"))\n",
    "    .toPandas()\n",
    ")\n",
    "\n",
    "\n",
    "new_burden_assocs_df.head()\n"
   ]
  },
  {
   "cell_type": "code",
   "execution_count": 87,
   "metadata": {},
   "outputs": [
    {
     "data": {
      "text/html": [
       "<div>\n",
       "<style scoped>\n",
       "    .dataframe tbody tr th:only-of-type {\n",
       "        vertical-align: middle;\n",
       "    }\n",
       "\n",
       "    .dataframe tbody tr th {\n",
       "        vertical-align: top;\n",
       "    }\n",
       "\n",
       "    .dataframe thead th {\n",
       "        text-align: right;\n",
       "    }\n",
       "</style>\n",
       "<table border=\"1\" class=\"dataframe\">\n",
       "  <thead>\n",
       "    <tr style=\"text-align: right;\">\n",
       "      <th></th>\n",
       "      <th>therapeuticCategory</th>\n",
       "      <th>count</th>\n",
       "      <th>metric</th>\n",
       "    </tr>\n",
       "  </thead>\n",
       "  <tbody>\n",
       "    <tr>\n",
       "      <th>0</th>\n",
       "      <td>infectious disease</td>\n",
       "      <td>20</td>\n",
       "      <td>Overlapping associations</td>\n",
       "    </tr>\n",
       "    <tr>\n",
       "      <th>1</th>\n",
       "      <td>urinary system disease</td>\n",
       "      <td>59</td>\n",
       "      <td>Overlapping associations</td>\n",
       "    </tr>\n",
       "    <tr>\n",
       "      <th>2</th>\n",
       "      <td>reproductive system or breast disease</td>\n",
       "      <td>59</td>\n",
       "      <td>Overlapping associations</td>\n",
       "    </tr>\n",
       "    <tr>\n",
       "      <th>3</th>\n",
       "      <td>infectious disease or post-infectious disorder</td>\n",
       "      <td>11</td>\n",
       "      <td>Overlapping associations</td>\n",
       "    </tr>\n",
       "    <tr>\n",
       "      <th>4</th>\n",
       "      <td>cardiovascular disease</td>\n",
       "      <td>206</td>\n",
       "      <td>Overlapping associations</td>\n",
       "    </tr>\n",
       "  </tbody>\n",
       "</table>\n",
       "</div>"
      ],
      "text/plain": [
       "                              therapeuticCategory  count  \\\n",
       "0                              infectious disease     20   \n",
       "1                          urinary system disease     59   \n",
       "2           reproductive system or breast disease     59   \n",
       "3  infectious disease or post-infectious disorder     11   \n",
       "4                          cardiovascular disease    206   \n",
       "\n",
       "                     metric  \n",
       "0  Overlapping associations  \n",
       "1  Overlapping associations  \n",
       "2  Overlapping associations  \n",
       "3  Overlapping associations  \n",
       "4  Overlapping associations  "
      ]
     },
     "execution_count": 87,
     "metadata": {},
     "output_type": "execute_result"
    }
   ],
   "source": [
    "overlap_assocs_df = (\n",
    "    ind_assocs.filter(F.col('datasourceId') == 'gene_burden')\n",
    "    .select(F.concat_ws(\"|\", \"targetId\", \"diseaseId\").alias(\"assoc\"), \"therapeuticCategory\")\n",
    "    .distinct()\n",
    "    .join(\n",
    "        (\n",
    "            ind_assocs.filter(F.col('datasourceId') != 'gene_burden')\n",
    "            .select(F.concat_ws(\"|\", \"targetId\", \"diseaseId\").alias(\"assoc\")).distinct()\n",
    "        ),\n",
    "        on='assoc',\n",
    "        how='inner'\n",
    "    ).distinct()\n",
    "    .groupBy(\"therapeuticCategory\").count()\n",
    "    .withColumn(\"metric\", F.lit(\"Overlapping associations\"))\n",
    "    .toPandas()\n",
    ")\n",
    "\n",
    "\n",
    "overlap_assocs_df.head(5)\n"
   ]
  },
  {
   "cell_type": "code",
   "execution_count": 88,
   "metadata": {},
   "outputs": [
    {
     "data": {
      "text/html": [
       "<div>\n",
       "<style scoped>\n",
       "    .dataframe tbody tr th:only-of-type {\n",
       "        vertical-align: middle;\n",
       "    }\n",
       "\n",
       "    .dataframe tbody tr th {\n",
       "        vertical-align: top;\n",
       "    }\n",
       "\n",
       "    .dataframe thead th {\n",
       "        text-align: right;\n",
       "    }\n",
       "</style>\n",
       "<table border=\"1\" class=\"dataframe\">\n",
       "  <thead>\n",
       "    <tr style=\"text-align: right;\">\n",
       "      <th></th>\n",
       "      <th>index</th>\n",
       "      <th>therapeuticCategory</th>\n",
       "      <th>count</th>\n",
       "      <th>metric</th>\n",
       "    </tr>\n",
       "  </thead>\n",
       "  <tbody>\n",
       "    <tr>\n",
       "      <th>0</th>\n",
       "      <td>0</td>\n",
       "      <td>infectious disease</td>\n",
       "      <td>204619</td>\n",
       "      <td>Associations in OT Platform</td>\n",
       "    </tr>\n",
       "    <tr>\n",
       "      <th>1</th>\n",
       "      <td>1</td>\n",
       "      <td>urinary system disease</td>\n",
       "      <td>120908</td>\n",
       "      <td>Associations in OT Platform</td>\n",
       "    </tr>\n",
       "    <tr>\n",
       "      <th>2</th>\n",
       "      <td>2</td>\n",
       "      <td>reproductive system or breast disease</td>\n",
       "      <td>245595</td>\n",
       "      <td>Associations in OT Platform</td>\n",
       "    </tr>\n",
       "    <tr>\n",
       "      <th>3</th>\n",
       "      <td>3</td>\n",
       "      <td>infectious disease or post-infectious disorder</td>\n",
       "      <td>20305</td>\n",
       "      <td>Associations in OT Platform</td>\n",
       "    </tr>\n",
       "    <tr>\n",
       "      <th>4</th>\n",
       "      <td>4</td>\n",
       "      <td>injury, poisoning or other complication</td>\n",
       "      <td>11673</td>\n",
       "      <td>Associations in OT Platform</td>\n",
       "    </tr>\n",
       "    <tr>\n",
       "      <th>5</th>\n",
       "      <td>5</td>\n",
       "      <td>cardiovascular disease</td>\n",
       "      <td>295213</td>\n",
       "      <td>Associations in OT Platform</td>\n",
       "    </tr>\n",
       "    <tr>\n",
       "      <th>6</th>\n",
       "      <td>6</td>\n",
       "      <td>respiratory or thoracic disease</td>\n",
       "      <td>129779</td>\n",
       "      <td>Associations in OT Platform</td>\n",
       "    </tr>\n",
       "    <tr>\n",
       "      <th>7</th>\n",
       "      <td>7</td>\n",
       "      <td>measurement</td>\n",
       "      <td>541725</td>\n",
       "      <td>Associations in OT Platform</td>\n",
       "    </tr>\n",
       "    <tr>\n",
       "      <th>8</th>\n",
       "      <td>8</td>\n",
       "      <td>disease of visual system</td>\n",
       "      <td>314328</td>\n",
       "      <td>Associations in OT Platform</td>\n",
       "    </tr>\n",
       "    <tr>\n",
       "      <th>9</th>\n",
       "      <td>9</td>\n",
       "      <td>genetic, familial or congenital disease</td>\n",
       "      <td>372516</td>\n",
       "      <td>Associations in OT Platform</td>\n",
       "    </tr>\n",
       "  </tbody>\n",
       "</table>\n",
       "</div>"
      ],
      "text/plain": [
       "   index                             therapeuticCategory   count  \\\n",
       "0      0                              infectious disease  204619   \n",
       "1      1                          urinary system disease  120908   \n",
       "2      2           reproductive system or breast disease  245595   \n",
       "3      3  infectious disease or post-infectious disorder   20305   \n",
       "4      4         injury, poisoning or other complication   11673   \n",
       "5      5                          cardiovascular disease  295213   \n",
       "6      6                 respiratory or thoracic disease  129779   \n",
       "7      7                                     measurement  541725   \n",
       "8      8                        disease of visual system  314328   \n",
       "9      9         genetic, familial or congenital disease  372516   \n",
       "\n",
       "                        metric  \n",
       "0  Associations in OT Platform  \n",
       "1  Associations in OT Platform  \n",
       "2  Associations in OT Platform  \n",
       "3  Associations in OT Platform  \n",
       "4  Associations in OT Platform  \n",
       "5  Associations in OT Platform  \n",
       "6  Associations in OT Platform  \n",
       "7  Associations in OT Platform  \n",
       "8  Associations in OT Platform  \n",
       "9  Associations in OT Platform  "
      ]
     },
     "execution_count": 88,
     "metadata": {},
     "output_type": "execute_result"
    }
   ],
   "source": [
    "stacked_df = pd.concat([total_assocs_df, new_burden_assocs_df, overlap_assocs_df], axis=0).drop_duplicates().reset_index()\n",
    "\n",
    "stacked_df.head(10)"
   ]
  },
  {
   "cell_type": "code",
   "execution_count": 89,
   "metadata": {},
   "outputs": [
    {
     "data": {
      "text/plain": [
       "Associations in OT Platform       27\n",
       "Novel gene burden associations    26\n",
       "Overlapping associations          26\n",
       "Name: metric, dtype: int64"
      ]
     },
     "execution_count": 89,
     "metadata": {},
     "output_type": "execute_result"
    }
   ],
   "source": [
    "stacked_df.metric.value_counts()"
   ]
  },
  {
   "cell_type": "code",
   "execution_count": 100,
   "metadata": {},
   "outputs": [
    {
     "data": {
      "text/plain": [
       "'fig9 = px.bar(\\n    stacked_df, x=\\'count\\', y=\\'therapeuticCategory\\', color=\\'metric\\', orientation=\\'h\\',\\n    title=\\'Association count per therapeutic area\\', height=600,\\n)\\n#fig9.update_layout(title_text=\"Associations overlap between gene burden and other sources\", showlegend=False, height=600)\\n\\nfig9.show()'"
      ]
     },
     "execution_count": 100,
     "metadata": {},
     "output_type": "execute_result"
    }
   ],
   "source": [
    "'''fig9 = px.bar(\n",
    "    stacked_df, x='count', y='therapeuticCategory', color='metric', orientation='h',\n",
    "    title='Association count per therapeutic area', height=600,\n",
    ")\n",
    "#fig9.update_layout(title_text=\"Associations overlap between gene burden and other sources\", showlegend=False, height=600)\n",
    "\n",
    "fig9.show()''')"
   ]
  },
  {
   "cell_type": "code",
   "execution_count": 90,
   "metadata": {},
   "outputs": [
    {
     "ename": "ValueError",
     "evalue": "Mime type rendering requires nbformat>=4.2.0 but it is not installed",
     "output_type": "error",
     "traceback": [
      "\u001b[0;31m---------------------------------------------------------------------------\u001b[0m",
      "\u001b[0;31mValueError\u001b[0m                                Traceback (most recent call last)",
      "Cell \u001b[0;32mIn [90], line 44\u001b[0m\n\u001b[1;32m     41\u001b[0m \u001b[39m#pyo.plot(fig9)\u001b[39;00m\n\u001b[1;32m     42\u001b[0m py\u001b[39m.\u001b[39mplot(fig9, filename \u001b[39m=\u001b[39m \u001b[39m'\u001b[39m\u001b[39mta_distribution\u001b[39m\u001b[39m'\u001b[39m, auto_open\u001b[39m=\u001b[39m\u001b[39mTrue\u001b[39;00m)\n\u001b[0;32m---> 44\u001b[0m fig9\u001b[39m.\u001b[39;49mshow()\n",
      "File \u001b[0;32m~/.pyenv/versions/3.8.13/lib/python3.8/site-packages/plotly/basedatatypes.py:3398\u001b[0m, in \u001b[0;36mBaseFigure.show\u001b[0;34m(self, *args, **kwargs)\u001b[0m\n\u001b[1;32m   3365\u001b[0m \u001b[39m\"\"\"\u001b[39;00m\n\u001b[1;32m   3366\u001b[0m \u001b[39mShow a figure using either the default renderer(s) or the renderer(s)\u001b[39;00m\n\u001b[1;32m   3367\u001b[0m \u001b[39mspecified by the renderer argument\u001b[39;00m\n\u001b[0;32m   (...)\u001b[0m\n\u001b[1;32m   3394\u001b[0m \u001b[39mNone\u001b[39;00m\n\u001b[1;32m   3395\u001b[0m \u001b[39m\"\"\"\u001b[39;00m\n\u001b[1;32m   3396\u001b[0m \u001b[39mimport\u001b[39;00m \u001b[39mplotly\u001b[39;00m\u001b[39m.\u001b[39;00m\u001b[39mio\u001b[39;00m \u001b[39mas\u001b[39;00m \u001b[39mpio\u001b[39;00m\n\u001b[0;32m-> 3398\u001b[0m \u001b[39mreturn\u001b[39;00m pio\u001b[39m.\u001b[39;49mshow(\u001b[39mself\u001b[39;49m, \u001b[39m*\u001b[39;49margs, \u001b[39m*\u001b[39;49m\u001b[39m*\u001b[39;49mkwargs)\n",
      "File \u001b[0;32m~/.pyenv/versions/3.8.13/lib/python3.8/site-packages/plotly/io/_renderers.py:396\u001b[0m, in \u001b[0;36mshow\u001b[0;34m(fig, renderer, validate, **kwargs)\u001b[0m\n\u001b[1;32m    391\u001b[0m         \u001b[39mraise\u001b[39;00m \u001b[39mValueError\u001b[39;00m(\n\u001b[1;32m    392\u001b[0m             \u001b[39m\"\u001b[39m\u001b[39mMime type rendering requires ipython but it is not installed\u001b[39m\u001b[39m\"\u001b[39m\n\u001b[1;32m    393\u001b[0m         )\n\u001b[1;32m    395\u001b[0m     \u001b[39mif\u001b[39;00m \u001b[39mnot\u001b[39;00m nbformat \u001b[39mor\u001b[39;00m LooseVersion(nbformat\u001b[39m.\u001b[39m__version__) \u001b[39m<\u001b[39m LooseVersion(\u001b[39m\"\u001b[39m\u001b[39m4.2.0\u001b[39m\u001b[39m\"\u001b[39m):\n\u001b[0;32m--> 396\u001b[0m         \u001b[39mraise\u001b[39;00m \u001b[39mValueError\u001b[39;00m(\n\u001b[1;32m    397\u001b[0m             \u001b[39m\"\u001b[39m\u001b[39mMime type rendering requires nbformat>=4.2.0 but it is not installed\u001b[39m\u001b[39m\"\u001b[39m\n\u001b[1;32m    398\u001b[0m         )\n\u001b[1;32m    400\u001b[0m     ipython_display\u001b[39m.\u001b[39mdisplay(bundle, raw\u001b[39m=\u001b[39m\u001b[39mTrue\u001b[39;00m)\n\u001b[1;32m    402\u001b[0m \u001b[39m# external renderers\u001b[39;00m\n",
      "\u001b[0;31mValueError\u001b[0m: Mime type rendering requires nbformat>=4.2.0 but it is not installed"
     ]
    }
   ],
   "source": [
    "# I want to unselect the total count of OTP by default, so I have to add the traces manually per type of metric\n",
    "groups = ['Associations in OT Platform', 'Overlapping associations', 'Novel gene burden associations']\n",
    "\n",
    "# Create as many traces as different groups there are and save them in data list\n",
    "data = []\n",
    "for metric in groups:\n",
    "    df_group = stacked_df[stacked_df['metric'] == metric]\n",
    "    if metric == 'Associations in OT Platform':\n",
    "        trace = go.Bar(x=df_group['count'], \n",
    "                            y=df_group['therapeuticCategory'],\n",
    "                            name=metric,\n",
    "                            orientation='h',\n",
    "                            visible='legendonly')\n",
    "    else:\n",
    "        trace = go.Bar(x=df_group['count'], \n",
    "                            y=df_group['therapeuticCategory'],\n",
    "                            name=metric,\n",
    "                            orientation='h',\n",
    "                )\n",
    "    data.append(trace)\n",
    "\n",
    "# Layout of the plot\n",
    "layout = go.Layout(\n",
    "    title='Novel associations from gene burden analysis',\n",
    "    xaxis={'title': 'Number of gene (or target)-trait associations'},\n",
    "    yaxis={'title': 'Therapeutic areas'},\n",
    "    legend=dict(\n",
    "        orientation=\"h\",\n",
    "        yanchor=\"bottom\",\n",
    "        y=1.02,\n",
    "        xanchor=\"right\",\n",
    "        x=1\n",
    "        ),\n",
    "    barmode='stack'\n",
    ")\n",
    "\n",
    "fig9 = go.Figure(data=data, layout=layout)\n",
    "\n",
    "\n",
    "\n",
    "#pyo.plot(fig9)\n",
    "py.plot(fig9, filename = 'ta_distribution', auto_open=True)\n",
    "\n",
    "fig9.show()"
   ]
  },
  {
   "cell_type": "markdown",
   "metadata": {},
   "source": [
    "### Less noise: distribution of overlap and novelty considering only **non genetic sources**\n",
    "\n",
    "- Build the same plot as above but with a different set of associations:\n",
    "  1. Build associations set with datatype and source\n",
    "  2. Remove genetic associations unless they're coming from gene_burden\n",
    "  3. Repeat steps as section below"
   ]
  },
  {
   "cell_type": "code",
   "execution_count": 125,
   "metadata": {},
   "outputs": [],
   "source": [
    "assocs_by_datatype = (\n",
    "    pd.read_parquet('/Users/irene/Documents/dev/pyspark/22.04.4/associationByDatatypeIndirect')\n",
    "    .filter(items=['diseaseId', 'targetId', 'datatypeId'])\n",
    ")"
   ]
  },
  {
   "cell_type": "code",
   "execution_count": 128,
   "metadata": {},
   "outputs": [
    {
     "data": {
      "text/html": [
       "<div>\n",
       "<style scoped>\n",
       "    .dataframe tbody tr th:only-of-type {\n",
       "        vertical-align: middle;\n",
       "    }\n",
       "\n",
       "    .dataframe tbody tr th {\n",
       "        vertical-align: top;\n",
       "    }\n",
       "\n",
       "    .dataframe thead th {\n",
       "        text-align: right;\n",
       "    }\n",
       "</style>\n",
       "<table border=\"1\" class=\"dataframe\">\n",
       "  <thead>\n",
       "    <tr style=\"text-align: right;\">\n",
       "      <th></th>\n",
       "      <th>diseaseId</th>\n",
       "      <th>datasourceId</th>\n",
       "      <th>targetId</th>\n",
       "      <th>score</th>\n",
       "      <th>therapeuticAreas</th>\n",
       "      <th>therapeuticCategory</th>\n",
       "      <th>log2score</th>\n",
       "      <th>datatypeId</th>\n",
       "    </tr>\n",
       "  </thead>\n",
       "  <tbody>\n",
       "    <tr>\n",
       "      <th>0</th>\n",
       "      <td>OTAR_0000014</td>\n",
       "      <td>eva_somatic</td>\n",
       "      <td>ENSG00000008086</td>\n",
       "      <td>0.577534</td>\n",
       "      <td>[OTAR_0000014]</td>\n",
       "      <td>pregnancy or perinatal disease</td>\n",
       "      <td>0.792022</td>\n",
       "      <td>animal_model</td>\n",
       "    </tr>\n",
       "    <tr>\n",
       "      <th>1</th>\n",
       "      <td>OTAR_0000014</td>\n",
       "      <td>eva_somatic</td>\n",
       "      <td>ENSG00000008086</td>\n",
       "      <td>0.577534</td>\n",
       "      <td>[OTAR_0000014]</td>\n",
       "      <td>pregnancy or perinatal disease</td>\n",
       "      <td>0.792022</td>\n",
       "      <td>genetic_association</td>\n",
       "    </tr>\n",
       "    <tr>\n",
       "      <th>2</th>\n",
       "      <td>OTAR_0000014</td>\n",
       "      <td>eva_somatic</td>\n",
       "      <td>ENSG00000008086</td>\n",
       "      <td>0.577534</td>\n",
       "      <td>[OTAR_0000014]</td>\n",
       "      <td>pregnancy or perinatal disease</td>\n",
       "      <td>0.792022</td>\n",
       "      <td>literature</td>\n",
       "    </tr>\n",
       "    <tr>\n",
       "      <th>3</th>\n",
       "      <td>OTAR_0000014</td>\n",
       "      <td>eva_somatic</td>\n",
       "      <td>ENSG00000008086</td>\n",
       "      <td>0.577534</td>\n",
       "      <td>[OTAR_0000014]</td>\n",
       "      <td>pregnancy or perinatal disease</td>\n",
       "      <td>0.792022</td>\n",
       "      <td>somatic_mutation</td>\n",
       "    </tr>\n",
       "    <tr>\n",
       "      <th>4</th>\n",
       "      <td>OTAR_0000014</td>\n",
       "      <td>genomics_england</td>\n",
       "      <td>ENSG00000008086</td>\n",
       "      <td>0.827461</td>\n",
       "      <td>[OTAR_0000014]</td>\n",
       "      <td>pregnancy or perinatal disease</td>\n",
       "      <td>0.273236</td>\n",
       "      <td>animal_model</td>\n",
       "    </tr>\n",
       "  </tbody>\n",
       "</table>\n",
       "</div>"
      ],
      "text/plain": [
       "      diseaseId      datasourceId         targetId     score therapeuticAreas  \\\n",
       "0  OTAR_0000014       eva_somatic  ENSG00000008086  0.577534   [OTAR_0000014]   \n",
       "1  OTAR_0000014       eva_somatic  ENSG00000008086  0.577534   [OTAR_0000014]   \n",
       "2  OTAR_0000014       eva_somatic  ENSG00000008086  0.577534   [OTAR_0000014]   \n",
       "3  OTAR_0000014       eva_somatic  ENSG00000008086  0.577534   [OTAR_0000014]   \n",
       "4  OTAR_0000014  genomics_england  ENSG00000008086  0.827461   [OTAR_0000014]   \n",
       "\n",
       "              therapeuticCategory  log2score           datatypeId  \n",
       "0  pregnancy or perinatal disease   0.792022         animal_model  \n",
       "1  pregnancy or perinatal disease   0.792022  genetic_association  \n",
       "2  pregnancy or perinatal disease   0.792022           literature  \n",
       "3  pregnancy or perinatal disease   0.792022     somatic_mutation  \n",
       "4  pregnancy or perinatal disease   0.273236         animal_model  "
      ]
     },
     "execution_count": 128,
     "metadata": {},
     "output_type": "execute_result"
    }
   ],
   "source": [
    "ind_assocs_pdf = (\n",
    "    ind_assocs_pdf\n",
    "    .merge(assocs_by_datatype, on=['diseaseId', 'targetId'], how='inner')\n",
    ")\n",
    "\n",
    "ind_assocs_pdf.head(5)"
   ]
  },
  {
   "cell_type": "code",
   "execution_count": null,
   "metadata": {},
   "outputs": [],
   "source": [
    "non_genetic_total_assocs_df = (\n",
    "    ind_assocs_pdf.query('datatypeId != \"genetic_association\"')\n",
    "    .assign(assoc=lambda x: f'{x.targetId}|{x.diseaseId}')\n",
    "    .groupby('therapeuticCategory')\n",
    "    .agg(count=('assoc', 'count'))\n",
    "    .assign(metric='Associations in OT Platform')\n",
    ")\n",
    "\n",
    "\n",
    "non_genetic_total_assocs_df.head(5)\n"
   ]
  },
  {
   "attachments": {},
   "cell_type": "markdown",
   "metadata": {},
   "source": [
    "## Are the "
   ]
  }
 ],
 "metadata": {
  "kernelspec": {
   "display_name": "Python 3.8.13 64-bit ('3.8.13')",
   "language": "python",
   "name": "python3"
  },
  "language_info": {
   "codemirror_mode": {
    "name": "ipython",
    "version": 3
   },
   "file_extension": ".py",
   "mimetype": "text/x-python",
   "name": "python",
   "nbconvert_exporter": "python",
   "pygments_lexer": "ipython3",
   "version": "3.8.13"
  },
  "orig_nbformat": 4,
  "vscode": {
   "interpreter": {
    "hash": "2190a2f637e2a87988e11b17702e03d98d1627c436fe80462069a819403d5500"
   }
  }
 },
 "nbformat": 4,
 "nbformat_minor": 2
}
