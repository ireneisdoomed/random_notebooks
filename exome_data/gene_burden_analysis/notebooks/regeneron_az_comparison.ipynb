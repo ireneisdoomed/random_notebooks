{
 "cells": [
  {
   "cell_type": "code",
   "execution_count": 20,
   "metadata": {},
   "outputs": [],
   "source": [
    "import chart_studio\n",
    "import chart_studio.plotly as py\n",
    "import matplotlib.pyplot as plt\n",
    "import pandas as pd\n",
    "from pathlib import Path\n",
    "import plotly.express as px\n",
    "from plotly.subplots import make_subplots\n",
    "import plotly.graph_objects as go\n",
    "import plotly.offline as pyo\n",
    "from pyspark.sql import DataFrame, SparkSession\n",
    "import pyspark.sql.functions as F\n",
    "from venn import venn\n",
    "\n",
    "spark = (\n",
    "    SparkSession.builder.master('local[*]')\n",
    "    .config(\"spark.driver.memory\", \"15g\")\n",
    "    .config('spark.ui.showConsoleProgress', 'false')\n",
    "    .appName('spark')\n",
    "    .getOrCreate()\n",
    ")\n",
    "\n",
    "username = 'irenelopezs'\n",
    "api_key = 'RaERO2wbBPVpLGiNNL1y'\n",
    "\n",
    "chart_studio.tools.set_credentials_file(username=username, api_key=api_key)"
   ]
  },
  {
   "cell_type": "code",
   "execution_count": 21,
   "metadata": {},
   "outputs": [],
   "source": [
    "def drop_null_columns(df: DataFrame) -> DataFrame:\n",
    "    \"\"\"Drops all columns which only contain null values.\"\"\"\n",
    "    df_count = df.count()\n",
    "    null_counts = df.select([F.count(F.when(F.col(c).isNull(), c)).alias(c) for c in df.columns]).collect()[0].asDict()\n",
    "    to_drop = [k for k, v in null_counts.items() if v == df_count]\n",
    "    return df.drop(*to_drop)"
   ]
  },
  {
   "cell_type": "code",
   "execution_count": 3,
   "metadata": {},
   "outputs": [],
   "source": [
    "ROOT = Path.cwd().parent"
   ]
  },
  {
   "cell_type": "code",
   "execution_count": 34,
   "metadata": {},
   "outputs": [],
   "source": [
    "SOURCES_OF_INTEREST = ['REGENERON', 'AstraZeneca PheWAS Portal', 'Genebass']\n",
    "\n",
    "# UPDATE: use therapeutic are to distinguish between binary and quantitative traits\n",
    "diseases = spark.read.parquet(Path.joinpath(ROOT / 'data/diseases').as_posix()).select('id', 'name', 'ancestors', 'therapeuticAreas')\n",
    "evd = drop_null_columns(\n",
    "    spark.read.parquet(Path.joinpath(ROOT / 'data/gene_burden_evidence').as_posix()).filter(F.col('projectId').isin(SOURCES_OF_INTEREST))\n",
    "    .join(diseases.selectExpr('id as diseaseId', 'therapeuticAreas'), on='diseaseId', how='left')\n",
    "    .coalesce(1)\n",
    ")\n",
    "regeneron_evd = evd.filter(F.col('projectId') == 'REGENERON')\n",
    "az_evd = evd.filter(F.col('projectId') == 'AstraZeneca PheWAS Portal')\n",
    "genebass_evd = evd.filter(F.col('projectId') == 'Genebass')\n",
    "\n",
    "\n",
    "# regeneron_raw = read_regeneron('data/41586_2021_4103_MOESM5_ESM.xlsx')\n",
    "# az_raw = read_az('data/azphewas-com-450k-phewas-binary', 'data/azphewas-com-450k-phewas-quantitative')\n"
   ]
  },
  {
   "cell_type": "markdown",
   "metadata": {},
   "source": [
    "## General outline of the comparative analysis between both results\n",
    "\n",
    "- General statistics (table).\n",
    "- Nº assocs binary/quant, genes, binary/quant phenotypes, overlaps.\n",
    "- Model comparison.\n",
    "- Ancestry specificity.\n"
   ]
  },
  {
   "cell_type": "markdown",
   "metadata": {},
   "source": [
    "### 1. General statistics"
   ]
  },
  {
   "cell_type": "code",
   "execution_count": 31,
   "metadata": {},
   "outputs": [
    {
     "name": "stdout",
     "output_type": "stream",
     "text": [
      "# of REGENERON evd: 7382\n",
      "# of REGENERON distinct targets: 483\n",
      "# of REGENERON distinct mapped diseases: 205\n",
      "# of REGENERON distinct raw diseases: 427\n",
      "... of which are quantitative: 213\n",
      "... of which are binary: 216\n",
      "--------------------------------------------------------------------------------\n",
      "# of REGENERON assocs (considering different disease terms): 1397\n",
      "# of REGENERON assocs: 1397\n",
      "# of REGENERON assocs with quant traits: 1168\n",
      "# of REGENERON assocs with binary traits: 229\n",
      "# of REGENERON collapsing models: 10 ['ADD-WGR-FIRTH_M1.001', 'ADD-WGR-FIRTH_M3.01', 'ADD-WGR-FIRTH_M3.1', 'ADD-WGR-FIRTH_M3.001', 'ADD-WGR-FIRTH_M1.0001', 'ADD-WGR-FIRTH_M3.singleton', 'ADD-WGR-FIRTH_M1.1', 'ADD-WGR-FIRTH_M1.singleton', 'ADD-WGR-FIRTH_M1.01', 'ADD-WGR-FIRTH_M3.0001']\n",
      "----------------------------------------------------------------------------------------------------\n",
      "# of AZ evd: 11767\n",
      "# of AZ distinct targets: 713\n",
      "# of AZ distinct mapped diseases: 431\n",
      "# of AZ distinct raw diseases: 1095\n",
      "... of which are quantitative: 234\n",
      "... of which are binary: 870\n",
      "--------------------------------------------------------------------------------\n",
      "# of AZ assocs (considering different disease terms): 2395\n",
      "# of AZ assocs: 2393\n",
      "# of AZ assocs with quant traits: 1518\n",
      "# of AZ assocs with binary traits: 875\n",
      "# of AZ collapsing models: 10 ['ADD-WGR-FIRTH_M1.001', 'ADD-WGR-FIRTH_M3.01', 'ADD-WGR-FIRTH_M3.1', 'ADD-WGR-FIRTH_M3.001', 'ADD-WGR-FIRTH_M1.0001', 'ADD-WGR-FIRTH_M3.singleton', 'ADD-WGR-FIRTH_M1.1', 'ADD-WGR-FIRTH_M1.singleton', 'ADD-WGR-FIRTH_M1.01', 'ADD-WGR-FIRTH_M3.0001']\n",
      "----------------------------------------------------------------------------------------------------\n",
      "# of Genebass evd: 7901\n",
      "# of Genebass distinct targets: 1436\n",
      "# of Genebass distinct mapped diseases: 299\n",
      "# of Genebass distinct raw diseases: 480\n",
      "... of which are quantitative: 308\n",
      "... of which are binary: 175\n",
      "--------------------------------------------------------------------------------\n",
      "# of Genebass assocs (considering different disease terms): 3749\n",
      "# of Genebass assocs: 3749\n",
      "# of Genebass assocs with quant traits: 3093\n",
      "# of Genebass assocs with binary traits: 656\n",
      "# of Genebass collapsing models: 4 ['ADD-WGR-FIRTH_M1.001', 'ADD-WGR-FIRTH_M3.01', 'ADD-WGR-FIRTH_M3.1', 'ADD-WGR-FIRTH_M3.001', 'ADD-WGR-FIRTH_M1.0001', 'ADD-WGR-FIRTH_M3.singleton', 'ADD-WGR-FIRTH_M1.1', 'ADD-WGR-FIRTH_M1.singleton', 'ADD-WGR-FIRTH_M1.01', 'ADD-WGR-FIRTH_M3.0001']\n",
      "----------------------------------------------------------------------------------------------------\n"
     ]
    }
   ],
   "source": [
    "dfs = [('REGENERON', regeneron_evd), ('AZ', az_evd), ('Genebass', genebass_evd)]\n",
    "\n",
    "for (name, df) in dfs:\n",
    "    print(f\"# of {name} evd: {df.count()}\")\n",
    "    print(f\"# of {name} distinct targets: {df.select('targetId').distinct().count()}\")\n",
    "    print(f\"# of {name} distinct mapped diseases: {df.select('diseaseFromSourceMappedId').distinct().count()}\")\n",
    "    print(f\"# of {name} distinct raw diseases: {df.select('diseaseFromSource').distinct().count()}\")\n",
    "    print(\n",
    "        f\"... of which are quantitative: {df.filter(F.array_contains('therapeuticAreas', 'EFO_0001444')).select('diseaseFromSource').distinct().count()}\"\n",
    "    )\n",
    "    print(\n",
    "        f\"... of which are binary: {df.filter(~F.array_contains('therapeuticAreas', 'EFO_0001444')).select('diseaseFromSource').distinct().count()}\"\n",
    "    )\n",
    "    print('-' * 80)\n",
    "    print(\n",
    "        f\"# of {name} assocs (considering different disease terms): {df.select('diseaseFromSourceMappedId', 'targetId').distinct().count()}\"\n",
    "    )\n",
    "    print(f\"# of {name} assocs: {df.select('diseaseId', 'targetId').distinct().count()}\")\n",
    "    print(\n",
    "        f\"# of {name} assocs with quant traits: {df.filter(F.array_contains('therapeuticAreas', 'EFO_0001444')).select('diseaseId', 'targetId').distinct().count()}\"\n",
    "    )\n",
    "    print(\n",
    "        f\"# of {name} assocs with binary traits: {df.filter(~F.array_contains('therapeuticAreas', 'EFO_0001444')).select('diseaseId', 'targetId').distinct().count()}\"\n",
    "    )\n",
    "    print(\n",
    "        f\"# of {name} collapsing models: {df.select('statisticalMethod').distinct().count()} {regeneron_evd.select('statisticalMethod').distinct().toPandas()['statisticalMethod'].to_list()}\"\n",
    "    )\n",
    "    print('-' * 100)"
   ]
  },
  {
   "cell_type": "markdown",
   "metadata": {},
   "source": [
    "### 2. Overlap"
   ]
  },
  {
   "cell_type": "code",
   "execution_count": 39,
   "metadata": {},
   "outputs": [],
   "source": [
    "# OVERLAP\n",
    "\n",
    "az_assocs = az_evd.select('diseaseId', 'targetId').distinct()\n",
    "regeneron_assocs = regeneron_evd.select('diseaseId', 'targetId').distinct()\n",
    "genebass_assocs = genebass_evd.select('diseaseId', 'targetId').distinct()\n",
    "\n"
   ]
  },
  {
   "cell_type": "code",
   "execution_count": 35,
   "metadata": {},
   "outputs": [
    {
     "name": "stdout",
     "output_type": "stream",
     "text": [
      "-RECORD 0-----------------------------------------------------------------------------------------------------------------------------------------------------------------------------------------------------------------------------------------------------------------------------------------------------\n",
      " id          | EFO_0000255                                                                                                                                                                                                                                                                                    \n",
      " name        | angioimmunoblastic T-cell lymphoma                                                                                                                                                                                                                                                             \n",
      " expanded_id | [EFO_0000255, MONDO_0000430, OTAR_0000018, MONDO_0002334, MONDO_0023370, MONDO_0044881, MONDO_0045024, Orphanet_322126, EFO_0002426, Orphanet_68336, EFO_0001642, EFO_0000574, MONDO_0015757, MONDO_0024615, EFO_0005952, EFO_0000508, MONDO_0019044, EFO_0005803, MONDO_0015760, EFO_0000616] \n",
      " ancestors   | [MONDO_0000430, OTAR_0000018, MONDO_0002334, MONDO_0023370, MONDO_0044881, MONDO_0045024, Orphanet_322126, EFO_0002426, Orphanet_68336, EFO_0001642, EFO_0000574, MONDO_0015757, MONDO_0024615, EFO_0005952, EFO_0000508, MONDO_0019044, EFO_0005803, MONDO_0015760, EFO_0000616]              \n",
      "only showing top 1 row\n",
      "\n"
     ]
    }
   ],
   "source": [
    "# I want to expand the ontology to adress for differences in the mapping\n",
    "# For that, I will use the disease index\n",
    "\n",
    "diseases = (\n",
    "        diseases\n",
    "        # expanded_id will include its id and all its ancestors\n",
    "        .withColumn('expanded_id', F.array_union(F.array(F.col('id')), F.col('ancestors')))\n",
    "        .select('id', 'name', 'expanded_id', 'ancestors')\n",
    ")\n",
    "\n",
    "diseases.show(1, False, True)"
   ]
  },
  {
   "cell_type": "code",
   "execution_count": 36,
   "metadata": {},
   "outputs": [
    {
     "data": {
      "text/plain": [
       "Text(0.5, 1.0, 'Overlap of traits after mapping to EFO')"
      ]
     },
     "execution_count": 36,
     "metadata": {},
     "output_type": "execute_result"
    },
    {
     "data": {
      "image/png": "[encoded data removed]",
      "text/plain": [
       "<Figure size 800x800 with 1 Axes>"
      ]
     },
     "metadata": {},
     "output_type": "display_data"
    }
   ],
   "source": [
    "# Simple mapped trait overlap\n",
    "\n",
    "# Here we see that the excess in AZ is largely due to the unions.\n",
    "# However, although REGENERON doesn't aggregate traits into union of phenotypes, it does have some.\n",
    "\n",
    "trait_simple_overlap_sets = {\n",
    "    'AstraZeneca': set(\n",
    "        az_assocs.select('diseaseId').toPandas()['diseaseId'].tolist()\n",
    "    ),\n",
    "    'REGENERON': set(\n",
    "        regeneron_assocs.select('diseaseId').toPandas()['diseaseId'].tolist()\n",
    "    ),\n",
    "    'Union traits': set(\n",
    "        az_assocs.filter(F.col('diseaseFromSource').startswith('Union')).select('diseaseId').toPandas()['diseaseId'].tolist()\n",
    "    ),\n",
    "}\n",
    "\n",
    "venn(trait_simple_overlap_sets, legend_loc=\"best\")\n",
    "plt.title('Overlap of traits after mapping to EFO', fontsize=20)\n"
   ]
  },
  {
   "cell_type": "code",
   "execution_count": 37,
   "metadata": {},
   "outputs": [
    {
     "data": {
      "text/plain": [
       "Text(0.5, 1.0, 'Overlap of traits after mapping to EFO')"
      ]
     },
     "execution_count": 37,
     "metadata": {},
     "output_type": "execute_result"
    },
    {
     "data": {
      "image/png": "[encoded data removed]",
      "text/plain": [
       "<Figure size 800x800 with 1 Axes>"
      ]
     },
     "metadata": {},
     "output_type": "display_data"
    }
   ],
   "source": [
    "trait_simple_overlap_sets = {\n",
    "    'AstraZeneca': set(\n",
    "        az_assocs.select('diseaseId').toPandas()['diseaseId'].tolist()\n",
    "    ),\n",
    "    'REGENERON': set(\n",
    "        regeneron_assocs.select('diseaseId').toPandas()['diseaseId'].tolist()\n",
    "    ),\n",
    "    'Genebass': set(\n",
    "        genebass_assocs.select('diseaseId').toPandas()['diseaseId'].tolist()\n",
    "    ),\n",
    "}\n",
    "\n",
    "\n",
    "venn(trait_simple_overlap_sets, legend_loc=\"best\")\n",
    "plt.title('Overlap of traits after mapping to EFO', fontsize=20)"
   ]
  },
  {
   "cell_type": "code",
   "execution_count": 48,
   "metadata": {},
   "outputs": [
    {
     "name": "stdout",
     "output_type": "stream",
     "text": [
      "+-------------+----------------------------------------------------------------------------------------------+\n",
      "|diseaseId    |diseaseFromSource                                                                             |\n",
      "+-------------+----------------------------------------------------------------------------------------------+\n",
      "|EFO_0006527  |Smoking status - Current (20116)                                                              |\n",
      "|MONDO_0001475|ICD10 D70: Neutropenia                                                                        |\n",
      "|EFO_0010729  |Use of sun uv protection - Always (2267)                                                      |\n",
      "|EFO_0002686  |Atopy CC (RGC)                                                                                |\n",
      "|EFO_0007010  |Treatment or Medication Code - rosuvastatin                                                   |\n",
      "|EFO_0007778  |Urinary AlbuminCreatinine Ratio (RGC)                                                         |\n",
      "|EFO_0011015  |Education score England (26414)                                                               |\n",
      "|EFO_0004631  |Vitamin D (30890)                                                                             |\n",
      "|EFO_0002427  |ICD10 C92: Myeloid leukemia                                                                   |\n",
      "|EFO_0003784  |Skin colour - Light olive (1717)                                                              |\n",
      "|EFO_0007009  |Ease of skin tanning - Never tan only burn (1727)                                             |\n",
      "|EFO_0007010  |Cholesterol lowering medication (6177)                                                        |\n",
      "|MONDO_0024339|ICD10 C77: Secondary and unspecified malignant neoplasm of lymph nodes                        |\n",
      "|EFO_0007010  |Treatment or Medication Code - digoxin                                                        |\n",
      "|EFO_0000546  |ICD10 Y43: Adverse effects in the therapeutic use of primarily systemic agents (Y43)          |\n",
      "|EFO_0007796  |Mother still alive - Yes (1835)                                                               |\n",
      "|MONDO_0024339|ICD10 C77.3: Secondary and unspecified malignant neoplasm of axilla and upper limb lymph nodes|\n",
      "|EFO_0005319  |Non cancer illness code self reported - eczema dermatitis                                     |\n",
      "|EFO_0007822  |Hair colour natural before greying - Dark brown (1747)                                        |\n",
      "|EFO_0004838  |Calcium (30680)                                                                               |\n",
      "+-------------+----------------------------------------------------------------------------------------------+\n",
      "only showing top 20 rows\n",
      "\n"
     ]
    }
   ],
   "source": [
    "# Non overlapping REGENERON traits - it doesn't seem to be due to a selection criterion\n",
    "(\n",
    "    regeneron_assocs.select('diseaseId')\n",
    "    .join(az_assocs.select('diseaseId'), on='diseaseId', how='left_anti').distinct()\n",
    "    .join(regeneron_evd.select('diseaseId', 'diseaseFromSource'), on='diseaseId', how='inner').distinct()\n",
    "    .show(truncate=False)\n",
    ")"
   ]
  },
  {
   "cell_type": "code",
   "execution_count": 58,
   "metadata": {},
   "outputs": [
    {
     "data": {
      "text/plain": [
       "192"
      ]
     },
     "execution_count": 58,
     "metadata": {},
     "output_type": "execute_result"
    }
   ],
   "source": [
    "# Non overlapping AZ traits - 192/265 refer to Union phenotypes\n",
    "(\n",
    "    az_assocs.select('diseaseId')\n",
    "    .join(regeneron_assocs.select('diseaseId'), on='diseaseId', how='left_anti').distinct()\n",
    "    .join(az_evd.select('diseaseId', 'diseaseFromSource'), on='diseaseId', how='inner')\n",
    "    .filter(F.col('diseaseFromSource').startswith('Union'))\n",
    "    .select('diseaseId').distinct()\n",
    "    .count()\n",
    ")"
   ]
  },
  {
   "cell_type": "code",
   "execution_count": 59,
   "metadata": {},
   "outputs": [
    {
     "data": {
      "text/plain": [
       "0"
      ]
     },
     "execution_count": 59,
     "metadata": {},
     "output_type": "execute_result"
    }
   ],
   "source": [
    "regeneron_evd.filter(F.col('diseaseFromSource').startswith('Union')).select('diseaseFromSource').distinct().count()"
   ]
  },
  {
   "cell_type": "code",
   "execution_count": 42,
   "metadata": {},
   "outputs": [
    {
     "data": {
      "text/plain": [
       "Text(0.5, 1.0, 'Gene/disease associations overlap')"
      ]
     },
     "execution_count": 42,
     "metadata": {},
     "output_type": "execute_result"
    },
    {
     "data": {
      "image/png": "[encoded data removed]",
      "text/plain": [
       "<Figure size 800x800 with 1 Axes>"
      ]
     },
     "metadata": {},
     "output_type": "display_data"
    }
   ],
   "source": [
    "assoc_overlap_sets = {\n",
    "    'AstraZeneca': set(\n",
    "        az_assocs.withColumn('assoc', F.concat('targetId', F.lit('|'), 'diseaseId')).toPandas()['assoc'].tolist()\n",
    "    ),\n",
    "    'REGENERON': set(\n",
    "        regeneron_assocs.withColumn('assoc', F.concat('targetId', F.lit('|'), 'diseaseId')).toPandas()['assoc'].tolist()\n",
    "    ),\n",
    "    'Genebass': set(\n",
    "        genebass_assocs.withColumn('assoc', F.concat('targetId', F.lit('|'), 'diseaseId')).toPandas()['assoc'].tolist()\n",
    "    ),\n",
    "}\n",
    "\n",
    "venn(assoc_overlap_sets, legend_loc=\"best\")\n",
    "plt.title('Gene/disease associations overlap', fontsize=20)\n"
   ]
  },
  {
   "cell_type": "markdown",
   "metadata": {},
   "source": [
    "### # OF ASSOCIATIONS PER GENE\n",
    "\n",
    "I want to remove from the list the diseases that are ancestors of other diseases, so that the metric is not contaminated\n",
    "\n",
    "**--> TODO: REMOVE ANCESTORS**\n",
    "\n",
    "**I haven't found a way to do that yet, but I estimate the impact is not large - as it affects 262/851 targets and the difference is not significantly large (next cell)**"
   ]
  },
  {
   "cell_type": "code",
   "execution_count": 103,
   "metadata": {},
   "outputs": [
    {
     "name": "stdout",
     "output_type": "stream",
     "text": [
      "-RECORD 0------------------------------------------------------------------------------------------------------------------------------------------------------------------------------------------------------------------------------------------------------------------------------------------------------------------------------------\n",
      " disease                       | EFO_0007986                                                                                                                                                                                                                                                                                                 \n",
      " targetId                      | ENSG00000004939                                                                                                                                                                                                                                                                                             \n",
      " associated_diseases           | [EFO_0005803, EFO_0007986, EFO_0004574, EFO_0004528, EFO_0010700, Orphanet_822, EFO_0000701, HP_0004804, EFO_0005558, EFO_0004541, EFO_0000540, EFO_0004348, EFO_0010701, EFO_0004611, EFO_0007990, EFO_0007993, EFO_0004526, EFO_0004570, EFO_0009188, EFO_0004305, EFO_0004527, EFO_0004503, EFO_0004833] \n",
      " ancestors                     | [EFO_0010700, EFO_0004503, EFO_0001444]                                                                                                                                                                                                                                                                     \n",
      " associated_diseases_clean     | [EFO_0005803, EFO_0007986, EFO_0004574, EFO_0004528, Orphanet_822, EFO_0000701, HP_0004804, EFO_0005558, EFO_0004541, EFO_0000540, EFO_0004348, EFO_0010701, EFO_0004611, EFO_0007990, EFO_0007993, EFO_0004526, EFO_0004570, EFO_0009188, EFO_0004305, EFO_0004527, EFO_0004833]                           \n",
      " diff_after_removing_ancestors | 2                                                                                                                                                                                                                                                                                                           \n",
      "-RECORD 1------------------------------------------------------------------------------------------------------------------------------------------------------------------------------------------------------------------------------------------------------------------------------------------------------------------------------------\n",
      " disease                       | EFO_0004528                                                                                                                                                                                                                                                                                                 \n",
      " targetId                      | ENSG00000004939                                                                                                                                                                                                                                                                                             \n",
      " associated_diseases           | [EFO_0005803, EFO_0007986, EFO_0004574, EFO_0004528, EFO_0010700, Orphanet_822, EFO_0000701, HP_0004804, EFO_0005558, EFO_0004541, EFO_0000540, EFO_0004348, EFO_0010701, EFO_0004611, EFO_0007990, EFO_0007993, EFO_0004526, EFO_0004570, EFO_0009188, EFO_0004305, EFO_0004527, EFO_0004503, EFO_0004833] \n",
      " ancestors                     | [EFO_0004747, EFO_0004306, EFO_0004503, EFO_0001444, EFO_0005047, EFO_0004509]                                                                                                                                                                                                                              \n",
      " associated_diseases_clean     | [EFO_0005803, EFO_0007986, EFO_0004574, EFO_0004528, EFO_0010700, Orphanet_822, EFO_0000701, HP_0004804, EFO_0005558, EFO_0004541, EFO_0000540, EFO_0004348, EFO_0010701, EFO_0004611, EFO_0007990, EFO_0007993, EFO_0004526, EFO_0004570, EFO_0009188, EFO_0004305, EFO_0004527, EFO_0004833]              \n",
      " diff_after_removing_ancestors | 1                                                                                                                                                                                                                                                                                                           \n",
      "-RECORD 2------------------------------------------------------------------------------------------------------------------------------------------------------------------------------------------------------------------------------------------------------------------------------------------------------------------------------------\n",
      " disease                       | EFO_0010700                                                                                                                                                                                                                                                                                                 \n",
      " targetId                      | ENSG00000004939                                                                                                                                                                                                                                                                                             \n",
      " associated_diseases           | [EFO_0005803, EFO_0007986, EFO_0004574, EFO_0004528, EFO_0010700, Orphanet_822, EFO_0000701, HP_0004804, EFO_0005558, EFO_0004541, EFO_0000540, EFO_0004348, EFO_0010701, EFO_0004611, EFO_0007990, EFO_0007993, EFO_0004526, EFO_0004570, EFO_0009188, EFO_0004305, EFO_0004527, EFO_0004503, EFO_0004833] \n",
      " ancestors                     | [EFO_0004503, EFO_0001444]                                                                                                                                                                                                                                                                                  \n",
      " associated_diseases_clean     | [EFO_0005803, EFO_0007986, EFO_0004574, EFO_0004528, EFO_0010700, Orphanet_822, EFO_0000701, HP_0004804, EFO_0005558, EFO_0004541, EFO_0000540, EFO_0004348, EFO_0010701, EFO_0004611, EFO_0007990, EFO_0007993, EFO_0004526, EFO_0004570, EFO_0009188, EFO_0004305, EFO_0004527, EFO_0004833]              \n",
      " diff_after_removing_ancestors | 1                                                                                                                                                                                                                                                                                                           \n",
      "only showing top 3 rows\n",
      "\n"
     ]
    }
   ],
   "source": [
    "'''\n",
    "I want to remove from the list the diseases that are ancestors of other diseases, so that the metric is not contaminated\n",
    "\n",
    "I haven't found a way to do that yet, but I estimate the impact is not large - as it affects 262/851 targets and the difference is not significantly large\n",
    "'''\n",
    "\n",
    "\n",
    "(\n",
    "    evd.groupBy('targetId').agg(F.collect_set('diseaseId').alias('associated_diseases'))\n",
    "    \n",
    "    # i want to remove from the list the diseases that are ancestors of other diseases, so that the metric is not contaminated\n",
    "    .withColumn('disease', F.explode('associated_diseases'))\n",
    "    .join(diseases.withColumnRenamed('id', 'disease').select('disease', 'ancestors'), on='disease', how='left')\n",
    "\n",
    "    .withColumn('associated_diseases_clean', F.array_except(F.col('associated_diseases'), F.col('ancestors')))\n",
    "\n",
    "    .withColumn('diff_after_removing_ancestors', F.size('associated_diseases') - F.size('associated_diseases_clean'))\n",
    "    .filter(F.col('diff_after_removing_ancestors') > 0)\n",
    "\n",
    "    # associated_diseases_clean hosts the list of associated diseases without the ancestor for the given disease\n",
    "    # I have to group the data again on the target, and collect the list of these lists\n",
    "    # flatten them and remove the duplicates\n",
    "    #.groupBy('targetId', 'associated_diseases').agg(F.collect_set('associated_diseases_clean').alias('associated_diseases_clean_lists'))\n",
    "    #.withColumn('agg_associated_diseases_clean', F.array_distinct(F.flatten('associated_diseases_clean_lists')))\n",
    "\n",
    "    .show(3, False, True)\n",
    ")"
   ]
  },
  {
   "cell_type": "code",
   "execution_count": 43,
   "metadata": {},
   "outputs": [
    {
     "name": "stdout",
     "output_type": "stream",
     "text": [
      "Average # of associations per gene in total: 2.989801699716714\n",
      "... in REGENERON: 2.8923395445134576\n",
      "... in AZ: 3.356241234221599\n",
      "... in Genebass: 2.610724233983287\n",
      "Median # of associations per gene in total: 1\n",
      "... in REGENERON: 2\n",
      "... in AZ: 2\n",
      "... in Genebass: 1\n"
     ]
    }
   ],
   "source": [
    "print(\n",
    "    f\"Average # of associations per gene in total: {evd.select('targetId', 'diseaseId').distinct().groupBy('targetId').count().agg({'count': 'mean'}).toPandas()['avg(count)'][0]}\"\n",
    ")\n",
    "print(\n",
    "    f\"... in REGENERON: {regeneron_assocs.groupBy('targetId').count().agg({'count': 'mean'}).toPandas()['avg(count)'][0]}\"\n",
    ")\n",
    "print(f\"... in AZ: {az_assocs.groupBy('targetId').count().agg({'count': 'mean'}).toPandas()['avg(count)'][0]}\")\n",
    "print(\n",
    "    f\"... in Genebass: {genebass_assocs.groupBy('targetId').count().agg({'count': 'mean'}).toPandas()['avg(count)'][0]}\"\n",
    ")\n",
    "\n",
    "\n",
    "print(\n",
    "    f\"Median # of associations per gene in total: {evd.select('targetId', 'diseaseId').distinct().groupBy('targetId').count().agg(F.expr('percentile_approx(count, 0.5)').alias('median')).toPandas()['median'][0]}\"\n",
    ")\n",
    "print(\n",
    "    f\"... in REGENERON: {regeneron_assocs.groupBy('targetId').count().agg(F.expr('percentile_approx(count, 0.5)').alias('median')).toPandas()['median'][0]}\"\n",
    ")\n",
    "print(\n",
    "    f\"... in AZ: {az_assocs.groupBy('targetId').count().agg(F.expr('percentile_approx(count, 0.5)').alias('median')).toPandas()['median'][0]}\"\n",
    ")\n",
    "print(\n",
    "    f\"... in Genebass: {genebass_assocs.groupBy('targetId').count().agg(F.expr('percentile_approx(count, 0.5)').alias('median')).toPandas()['median'][0]}\"\n",
    ")\n"
   ]
  },
  {
   "cell_type": "markdown",
   "metadata": {},
   "source": [
    "### 3. Model comparison"
   ]
  },
  {
   "cell_type": "code",
   "execution_count": 44,
   "metadata": {},
   "outputs": [
    {
     "ename": "ValueError",
     "evalue": "Mime type rendering requires nbformat>=4.2.0 but it is not installed",
     "output_type": "error",
     "traceback": [
      "\u001b[0;31m---------------------------------------------------------------------------\u001b[0m",
      "\u001b[0;31mValueError\u001b[0m                                Traceback (most recent call last)",
      "File \u001b[0;32m~/.pyenv/versions/3.8.13/lib/python3.8/site-packages/IPython/core/formatters.py:920\u001b[0m, in \u001b[0;36mIPythonDisplayFormatter.__call__\u001b[0;34m(self, obj)\u001b[0m\n\u001b[1;32m    918\u001b[0m method \u001b[39m=\u001b[39m get_real_method(obj, \u001b[39mself\u001b[39m\u001b[39m.\u001b[39mprint_method)\n\u001b[1;32m    919\u001b[0m \u001b[39mif\u001b[39;00m method \u001b[39mis\u001b[39;00m \u001b[39mnot\u001b[39;00m \u001b[39mNone\u001b[39;00m:\n\u001b[0;32m--> 920\u001b[0m     method()\n\u001b[1;32m    921\u001b[0m     \u001b[39mreturn\u001b[39;00m \u001b[39mTrue\u001b[39;00m\n",
      "File \u001b[0;32m~/.pyenv/versions/3.8.13/lib/python3.8/site-packages/plotly/basedatatypes.py:842\u001b[0m, in \u001b[0;36mBaseFigure._ipython_display_\u001b[0;34m(self)\u001b[0m\n\u001b[1;32m    839\u001b[0m \u001b[39mimport\u001b[39;00m \u001b[39mplotly\u001b[39;00m\u001b[39m.\u001b[39;00m\u001b[39mio\u001b[39;00m \u001b[39mas\u001b[39;00m \u001b[39mpio\u001b[39;00m\n\u001b[1;32m    841\u001b[0m \u001b[39mif\u001b[39;00m pio\u001b[39m.\u001b[39mrenderers\u001b[39m.\u001b[39mrender_on_display \u001b[39mand\u001b[39;00m pio\u001b[39m.\u001b[39mrenderers\u001b[39m.\u001b[39mdefault:\n\u001b[0;32m--> 842\u001b[0m     pio\u001b[39m.\u001b[39;49mshow(\u001b[39mself\u001b[39;49m)\n\u001b[1;32m    843\u001b[0m \u001b[39melse\u001b[39;00m:\n\u001b[1;32m    844\u001b[0m     \u001b[39mprint\u001b[39m(\u001b[39mrepr\u001b[39m(\u001b[39mself\u001b[39m))\n",
      "File \u001b[0;32m~/.pyenv/versions/3.8.13/lib/python3.8/site-packages/plotly/io/_renderers.py:396\u001b[0m, in \u001b[0;36mshow\u001b[0;34m(fig, renderer, validate, **kwargs)\u001b[0m\n\u001b[1;32m    391\u001b[0m         \u001b[39mraise\u001b[39;00m \u001b[39mValueError\u001b[39;00m(\n\u001b[1;32m    392\u001b[0m             \u001b[39m\"\u001b[39m\u001b[39mMime type rendering requires ipython but it is not installed\u001b[39m\u001b[39m\"\u001b[39m\n\u001b[1;32m    393\u001b[0m         )\n\u001b[1;32m    395\u001b[0m     \u001b[39mif\u001b[39;00m \u001b[39mnot\u001b[39;00m nbformat \u001b[39mor\u001b[39;00m LooseVersion(nbformat\u001b[39m.\u001b[39m__version__) \u001b[39m<\u001b[39m LooseVersion(\u001b[39m\"\u001b[39m\u001b[39m4.2.0\u001b[39m\u001b[39m\"\u001b[39m):\n\u001b[0;32m--> 396\u001b[0m         \u001b[39mraise\u001b[39;00m \u001b[39mValueError\u001b[39;00m(\n\u001b[1;32m    397\u001b[0m             \u001b[39m\"\u001b[39m\u001b[39mMime type rendering requires nbformat>=4.2.0 but it is not installed\u001b[39m\u001b[39m\"\u001b[39m\n\u001b[1;32m    398\u001b[0m         )\n\u001b[1;32m    400\u001b[0m     ipython_display\u001b[39m.\u001b[39mdisplay(bundle, raw\u001b[39m=\u001b[39m\u001b[39mTrue\u001b[39;00m)\n\u001b[1;32m    402\u001b[0m \u001b[39m# external renderers\u001b[39;00m\n",
      "\u001b[0;31mValueError\u001b[0m: Mime type rendering requires nbformat>=4.2.0 but it is not installed"
     ]
    },
    {
     "data": {
      "application/vnd.plotly.v1+json": {
       "config": {
        "plotlyServerURL": "https://plotly.com"
       },
       "data": [
        {
         "alignmentgroup": "True",
         "hovertemplate": "Project=Genebass<br>Model=%{x}<br>Association count=%{y}<extra></extra>",
         "legendgroup": "Genebass",
         "marker": {
          "color": "#636efa",
          "pattern": {
           "shape": ""
          }
         },
         "name": "Genebass",
         "offsetgroup": "Genebass",
         "orientation": "v",
         "showlegend": true,
         "textposition": "auto",
         "type": "bar",
         "x": [
          "pLoF|missense|LC",
          "pLoF",
          "missense|LC",
          "synonymous"
         ],
         "xaxis": "x",
         "y": [
          2747,
          2264,
          2254,
          636
         ],
         "yaxis": "y"
        },
        {
         "alignmentgroup": "True",
         "hovertemplate": "Project=AstraZeneca PheWAS Portal<br>Model=%{x}<br>Association count=%{y}<extra></extra>",
         "legendgroup": "AstraZeneca PheWAS Portal",
         "marker": {
          "color": "#EF553B",
          "pattern": {
           "shape": ""
          }
         },
         "name": "AstraZeneca PheWAS Portal",
         "offsetgroup": "AstraZeneca PheWAS Portal",
         "orientation": "v",
         "showlegend": true,
         "textposition": "auto",
         "type": "bar",
         "x": [
          "ptv5pcnt",
          "ptv",
          "flexdmg",
          "ptvraredmg",
          "flexnonsynmtr",
          "UR",
          "URmtr",
          "raredmg",
          "raredmgmtr",
          "rec"
         ],
         "xaxis": "x",
         "y": [
          2379,
          1948,
          1739,
          1599,
          1019,
          990,
          931,
          666,
          287,
          209
         ],
         "yaxis": "y"
        },
        {
         "alignmentgroup": "True",
         "hovertemplate": "Project=REGENERON<br>Model=%{x}<br>Association count=%{y}<extra></extra>",
         "legendgroup": "REGENERON",
         "marker": {
          "color": "#00cc96",
          "pattern": {
           "shape": ""
          }
         },
         "name": "REGENERON",
         "offsetgroup": "REGENERON",
         "orientation": "v",
         "showlegend": true,
         "textposition": "auto",
         "type": "bar",
         "x": [
          "ADD-WGR-FIRTH_M3.1",
          "ADD-WGR-FIRTH_M3.01",
          "ADD-WGR-FIRTH_M1.1",
          "ADD-WGR-FIRTH_M3.001",
          "ADD-WGR-FIRTH_M1.01",
          "ADD-WGR-FIRTH_M1.001",
          "ADD-WGR-FIRTH_M3.0001",
          "ADD-WGR-FIRTH_M1.0001",
          "ADD-WGR-FIRTH_M3.singleton",
          "ADD-WGR-FIRTH_M1.singleton"
         ],
         "xaxis": "x",
         "y": [
          1475,
          1086,
          952,
          905,
          841,
          752,
          516,
          481,
          192,
          182
         ],
         "yaxis": "y"
        }
       ],
       "layout": {
        "barmode": "relative",
        "height": 500,
        "legend": {
         "orientation": "h",
         "title": {
          "text": "Project"
         },
         "tracegroupgap": 0,
         "x": 1,
         "xanchor": "right",
         "y": 1.02,
         "yanchor": "bottom"
        },
        "template": {
         "data": {
          "bar": [
           {
            "error_x": {
             "color": "#2a3f5f"
            },
            "error_y": {
             "color": "#2a3f5f"
            },
            "marker": {
             "line": {
              "color": "#E5ECF6",
              "width": 0.5
             },
             "pattern": {
              "fillmode": "overlay",
              "size": 10,
              "solidity": 0.2
             }
            },
            "type": "bar"
           }
          ],
          "barpolar": [
           {
            "marker": {
             "line": {
              "color": "#E5ECF6",
              "width": 0.5
             },
             "pattern": {
              "fillmode": "overlay",
              "size": 10,
              "solidity": 0.2
             }
            },
            "type": "barpolar"
           }
          ],
          "carpet": [
           {
            "aaxis": {
             "endlinecolor": "#2a3f5f",
             "gridcolor": "white",
             "linecolor": "white",
             "minorgridcolor": "white",
             "startlinecolor": "#2a3f5f"
            },
            "baxis": {
             "endlinecolor": "#2a3f5f",
             "gridcolor": "white",
             "linecolor": "white",
             "minorgridcolor": "white",
             "startlinecolor": "#2a3f5f"
            },
            "type": "carpet"
           }
          ],
          "choropleth": [
           {
            "colorbar": {
             "outlinewidth": 0,
             "ticks": ""
            },
            "type": "choropleth"
           }
          ],
          "contour": [
           {
            "colorbar": {
             "outlinewidth": 0,
             "ticks": ""
            },
            "colorscale": [
             [
              0,
              "#0d0887"
             ],
             [
              0.1111111111111111,
              "#46039f"
             ],
             [
              0.2222222222222222,
              "#7201a8"
             ],
             [
              0.3333333333333333,
              "#9c179e"
             ],
             [
              0.4444444444444444,
              "#bd3786"
             ],
             [
              0.5555555555555556,
              "#d8576b"
             ],
             [
              0.6666666666666666,
              "#ed7953"
             ],
             [
              0.7777777777777778,
              "#fb9f3a"
             ],
             [
              0.8888888888888888,
              "#fdca26"
             ],
             [
              1,
              "#f0f921"
             ]
            ],
            "type": "contour"
           }
          ],
          "contourcarpet": [
           {
            "colorbar": {
             "outlinewidth": 0,
             "ticks": ""
            },
            "type": "contourcarpet"
           }
          ],
          "heatmap": [
           {
            "colorbar": {
             "outlinewidth": 0,
             "ticks": ""
            },
            "colorscale": [
             [
              0,
              "#0d0887"
             ],
             [
              0.1111111111111111,
              "#46039f"
             ],
             [
              0.2222222222222222,
              "#7201a8"
             ],
             [
              0.3333333333333333,
              "#9c179e"
             ],
             [
              0.4444444444444444,
              "#bd3786"
             ],
             [
              0.5555555555555556,
              "#d8576b"
             ],
             [
              0.6666666666666666,
              "#ed7953"
             ],
             [
              0.7777777777777778,
              "#fb9f3a"
             ],
             [
              0.8888888888888888,
              "#fdca26"
             ],
             [
              1,
              "#f0f921"
             ]
            ],
            "type": "heatmap"
           }
          ],
          "heatmapgl": [
           {
            "colorbar": {
             "outlinewidth": 0,
             "ticks": ""
            },
            "colorscale": [
             [
              0,
              "#0d0887"
             ],
             [
              0.1111111111111111,
              "#46039f"
             ],
             [
              0.2222222222222222,
              "#7201a8"
             ],
             [
              0.3333333333333333,
              "#9c179e"
             ],
             [
              0.4444444444444444,
              "#bd3786"
             ],
             [
              0.5555555555555556,
              "#d8576b"
             ],
             [
              0.6666666666666666,
              "#ed7953"
             ],
             [
              0.7777777777777778,
              "#fb9f3a"
             ],
             [
              0.8888888888888888,
              "#fdca26"
             ],
             [
              1,
              "#f0f921"
             ]
            ],
            "type": "heatmapgl"
           }
          ],
          "histogram": [
           {
            "marker": {
             "pattern": {
              "fillmode": "overlay",
              "size": 10,
              "solidity": 0.2
             }
            },
            "type": "histogram"
           }
          ],
          "histogram2d": [
           {
            "colorbar": {
             "outlinewidth": 0,
             "ticks": ""
            },
            "colorscale": [
             [
              0,
              "#0d0887"
             ],
             [
              0.1111111111111111,
              "#46039f"
             ],
             [
              0.2222222222222222,
              "#7201a8"
             ],
             [
              0.3333333333333333,
              "#9c179e"
             ],
             [
              0.4444444444444444,
              "#bd3786"
             ],
             [
              0.5555555555555556,
              "#d8576b"
             ],
             [
              0.6666666666666666,
              "#ed7953"
             ],
             [
              0.7777777777777778,
              "#fb9f3a"
             ],
             [
              0.8888888888888888,
              "#fdca26"
             ],
             [
              1,
              "#f0f921"
             ]
            ],
            "type": "histogram2d"
           }
          ],
          "histogram2dcontour": [
           {
            "colorbar": {
             "outlinewidth": 0,
             "ticks": ""
            },
            "colorscale": [
             [
              0,
              "#0d0887"
             ],
             [
              0.1111111111111111,
              "#46039f"
             ],
             [
              0.2222222222222222,
              "#7201a8"
             ],
             [
              0.3333333333333333,
              "#9c179e"
             ],
             [
              0.4444444444444444,
              "#bd3786"
             ],
             [
              0.5555555555555556,
              "#d8576b"
             ],
             [
              0.6666666666666666,
              "#ed7953"
             ],
             [
              0.7777777777777778,
              "#fb9f3a"
             ],
             [
              0.8888888888888888,
              "#fdca26"
             ],
             [
              1,
              "#f0f921"
             ]
            ],
            "type": "histogram2dcontour"
           }
          ],
          "mesh3d": [
           {
            "colorbar": {
             "outlinewidth": 0,
             "ticks": ""
            },
            "type": "mesh3d"
           }
          ],
          "parcoords": [
           {
            "line": {
             "colorbar": {
              "outlinewidth": 0,
              "ticks": ""
             }
            },
            "type": "parcoords"
           }
          ],
          "pie": [
           {
            "automargin": true,
            "type": "pie"
           }
          ],
          "scatter": [
           {
            "fillpattern": {
             "fillmode": "overlay",
             "size": 10,
             "solidity": 0.2
            },
            "type": "scatter"
           }
          ],
          "scatter3d": [
           {
            "line": {
             "colorbar": {
              "outlinewidth": 0,
              "ticks": ""
             }
            },
            "marker": {
             "colorbar": {
              "outlinewidth": 0,
              "ticks": ""
             }
            },
            "type": "scatter3d"
           }
          ],
          "scattercarpet": [
           {
            "marker": {
             "colorbar": {
              "outlinewidth": 0,
              "ticks": ""
             }
            },
            "type": "scattercarpet"
           }
          ],
          "scattergeo": [
           {
            "marker": {
             "colorbar": {
              "outlinewidth": 0,
              "ticks": ""
             }
            },
            "type": "scattergeo"
           }
          ],
          "scattergl": [
           {
            "marker": {
             "colorbar": {
              "outlinewidth": 0,
              "ticks": ""
             }
            },
            "type": "scattergl"
           }
          ],
          "scattermapbox": [
           {
            "marker": {
             "colorbar": {
              "outlinewidth": 0,
              "ticks": ""
             }
            },
            "type": "scattermapbox"
           }
          ],
          "scatterpolar": [
           {
            "marker": {
             "colorbar": {
              "outlinewidth": 0,
              "ticks": ""
             }
            },
            "type": "scatterpolar"
           }
          ],
          "scatterpolargl": [
           {
            "marker": {
             "colorbar": {
              "outlinewidth": 0,
              "ticks": ""
             }
            },
            "type": "scatterpolargl"
           }
          ],
          "scatterternary": [
           {
            "marker": {
             "colorbar": {
              "outlinewidth": 0,
              "ticks": ""
             }
            },
            "type": "scatterternary"
           }
          ],
          "surface": [
           {
            "colorbar": {
             "outlinewidth": 0,
             "ticks": ""
            },
            "colorscale": [
             [
              0,
              "#0d0887"
             ],
             [
              0.1111111111111111,
              "#46039f"
             ],
             [
              0.2222222222222222,
              "#7201a8"
             ],
             [
              0.3333333333333333,
              "#9c179e"
             ],
             [
              0.4444444444444444,
              "#bd3786"
             ],
             [
              0.5555555555555556,
              "#d8576b"
             ],
             [
              0.6666666666666666,
              "#ed7953"
             ],
             [
              0.7777777777777778,
              "#fb9f3a"
             ],
             [
              0.8888888888888888,
              "#fdca26"
             ],
             [
              1,
              "#f0f921"
             ]
            ],
            "type": "surface"
           }
          ],
          "table": [
           {
            "cells": {
             "fill": {
              "color": "#EBF0F8"
             },
             "line": {
              "color": "white"
             }
            },
            "header": {
             "fill": {
              "color": "#C8D4E3"
             },
             "line": {
              "color": "white"
             }
            },
            "type": "table"
           }
          ]
         },
         "layout": {
          "annotationdefaults": {
           "arrowcolor": "#2a3f5f",
           "arrowhead": 0,
           "arrowwidth": 1
          },
          "autotypenumbers": "strict",
          "coloraxis": {
           "colorbar": {
            "outlinewidth": 0,
            "ticks": ""
           }
          },
          "colorscale": {
           "diverging": [
            [
             0,
             "#8e0152"
            ],
            [
             0.1,
             "#c51b7d"
            ],
            [
             0.2,
             "#de77ae"
            ],
            [
             0.3,
             "#f1b6da"
            ],
            [
             0.4,
             "#fde0ef"
            ],
            [
             0.5,
             "#f7f7f7"
            ],
            [
             0.6,
             "#e6f5d0"
            ],
            [
             0.7,
             "#b8e186"
            ],
            [
             0.8,
             "#7fbc41"
            ],
            [
             0.9,
             "#4d9221"
            ],
            [
             1,
             "#276419"
            ]
           ],
           "sequential": [
            [
             0,
             "#0d0887"
            ],
            [
             0.1111111111111111,
             "#46039f"
            ],
            [
             0.2222222222222222,
             "#7201a8"
            ],
            [
             0.3333333333333333,
             "#9c179e"
            ],
            [
             0.4444444444444444,
             "#bd3786"
            ],
            [
             0.5555555555555556,
             "#d8576b"
            ],
            [
             0.6666666666666666,
             "#ed7953"
            ],
            [
             0.7777777777777778,
             "#fb9f3a"
            ],
            [
             0.8888888888888888,
             "#fdca26"
            ],
            [
             1,
             "#f0f921"
            ]
           ],
           "sequentialminus": [
            [
             0,
             "#0d0887"
            ],
            [
             0.1111111111111111,
             "#46039f"
            ],
            [
             0.2222222222222222,
             "#7201a8"
            ],
            [
             0.3333333333333333,
             "#9c179e"
            ],
            [
             0.4444444444444444,
             "#bd3786"
            ],
            [
             0.5555555555555556,
             "#d8576b"
            ],
            [
             0.6666666666666666,
             "#ed7953"
            ],
            [
             0.7777777777777778,
             "#fb9f3a"
            ],
            [
             0.8888888888888888,
             "#fdca26"
            ],
            [
             1,
             "#f0f921"
            ]
           ]
          },
          "colorway": [
           "#636efa",
           "#EF553B",
           "#00cc96",
           "#ab63fa",
           "#FFA15A",
           "#19d3f3",
           "#FF6692",
           "#B6E880",
           "#FF97FF",
           "#FECB52"
          ],
          "font": {
           "color": "#2a3f5f"
          },
          "geo": {
           "bgcolor": "white",
           "lakecolor": "white",
           "landcolor": "#E5ECF6",
           "showlakes": true,
           "showland": true,
           "subunitcolor": "white"
          },
          "hoverlabel": {
           "align": "left"
          },
          "hovermode": "closest",
          "mapbox": {
           "style": "light"
          },
          "paper_bgcolor": "white",
          "plot_bgcolor": "#E5ECF6",
          "polar": {
           "angularaxis": {
            "gridcolor": "white",
            "linecolor": "white",
            "ticks": ""
           },
           "bgcolor": "#E5ECF6",
           "radialaxis": {
            "gridcolor": "white",
            "linecolor": "white",
            "ticks": ""
           }
          },
          "scene": {
           "xaxis": {
            "backgroundcolor": "#E5ECF6",
            "gridcolor": "white",
            "gridwidth": 2,
            "linecolor": "white",
            "showbackground": true,
            "ticks": "",
            "zerolinecolor": "white"
           },
           "yaxis": {
            "backgroundcolor": "#E5ECF6",
            "gridcolor": "white",
            "gridwidth": 2,
            "linecolor": "white",
            "showbackground": true,
            "ticks": "",
            "zerolinecolor": "white"
           },
           "zaxis": {
            "backgroundcolor": "#E5ECF6",
            "gridcolor": "white",
            "gridwidth": 2,
            "linecolor": "white",
            "showbackground": true,
            "ticks": "",
            "zerolinecolor": "white"
           }
          },
          "shapedefaults": {
           "line": {
            "color": "#2a3f5f"
           }
          },
          "ternary": {
           "aaxis": {
            "gridcolor": "white",
            "linecolor": "white",
            "ticks": ""
           },
           "baxis": {
            "gridcolor": "white",
            "linecolor": "white",
            "ticks": ""
           },
           "bgcolor": "#E5ECF6",
           "caxis": {
            "gridcolor": "white",
            "linecolor": "white",
            "ticks": ""
           }
          },
          "title": {
           "x": 0.05
          },
          "xaxis": {
           "automargin": true,
           "gridcolor": "white",
           "linecolor": "white",
           "ticks": "",
           "title": {
            "standoff": 15
           },
           "zerolinecolor": "white",
           "zerolinewidth": 2
          },
          "yaxis": {
           "automargin": true,
           "gridcolor": "white",
           "linecolor": "white",
           "ticks": "",
           "title": {
            "standoff": 15
           },
           "zerolinecolor": "white",
           "zerolinewidth": 2
          }
         }
        },
        "title": {
         "text": "Distribution of associations per collapsing model"
        },
        "xaxis": {
         "anchor": "y",
         "domain": [
          0,
          1
         ],
         "title": {
          "text": "Model"
         }
        },
        "yaxis": {
         "anchor": "x",
         "domain": [
          0,
          1
         ],
         "title": {
          "text": "Association count"
         }
        }
       }
      },
      "text/html": [
       "<div>                        <script type=\"text/javascript\">window.PlotlyConfig = {MathJaxConfig: 'local'};</script>\n",
       "        <script src=\"https://cdn.plot.ly/plotly-2.16.1.min.js\"></script>                <div id=\"32aa700b-e7cb-45b3-a318-39f115165c52\" class=\"plotly-graph-div\" style=\"height:500px; width:100%;\"></div>            <script type=\"text/javascript\">                                    window.PLOTLYENV=window.PLOTLYENV || {};                                    if (document.getElementById(\"32aa700b-e7cb-45b3-a318-39f115165c52\")) {                    Plotly.newPlot(                        \"32aa700b-e7cb-45b3-a318-39f115165c52\",                        [{\"alignmentgroup\":\"True\",\"hovertemplate\":\"Project=Genebass<br>Model=%{x}<br>Association count=%{y}<extra></extra>\",\"legendgroup\":\"Genebass\",\"marker\":{\"color\":\"#636efa\",\"pattern\":{\"shape\":\"\"}},\"name\":\"Genebass\",\"offsetgroup\":\"Genebass\",\"orientation\":\"v\",\"showlegend\":true,\"textposition\":\"auto\",\"x\":[\"pLoF|missense|LC\",\"pLoF\",\"missense|LC\",\"synonymous\"],\"xaxis\":\"x\",\"y\":[2747,2264,2254,636],\"yaxis\":\"y\",\"type\":\"bar\"},{\"alignmentgroup\":\"True\",\"hovertemplate\":\"Project=AstraZeneca PheWAS Portal<br>Model=%{x}<br>Association count=%{y}<extra></extra>\",\"legendgroup\":\"AstraZeneca PheWAS Portal\",\"marker\":{\"color\":\"#EF553B\",\"pattern\":{\"shape\":\"\"}},\"name\":\"AstraZeneca PheWAS Portal\",\"offsetgroup\":\"AstraZeneca PheWAS Portal\",\"orientation\":\"v\",\"showlegend\":true,\"textposition\":\"auto\",\"x\":[\"ptv5pcnt\",\"ptv\",\"flexdmg\",\"ptvraredmg\",\"flexnonsynmtr\",\"UR\",\"URmtr\",\"raredmg\",\"raredmgmtr\",\"rec\"],\"xaxis\":\"x\",\"y\":[2379,1948,1739,1599,1019,990,931,666,287,209],\"yaxis\":\"y\",\"type\":\"bar\"},{\"alignmentgroup\":\"True\",\"hovertemplate\":\"Project=REGENERON<br>Model=%{x}<br>Association count=%{y}<extra></extra>\",\"legendgroup\":\"REGENERON\",\"marker\":{\"color\":\"#00cc96\",\"pattern\":{\"shape\":\"\"}},\"name\":\"REGENERON\",\"offsetgroup\":\"REGENERON\",\"orientation\":\"v\",\"showlegend\":true,\"textposition\":\"auto\",\"x\":[\"ADD-WGR-FIRTH_M3.1\",\"ADD-WGR-FIRTH_M3.01\",\"ADD-WGR-FIRTH_M1.1\",\"ADD-WGR-FIRTH_M3.001\",\"ADD-WGR-FIRTH_M1.01\",\"ADD-WGR-FIRTH_M1.001\",\"ADD-WGR-FIRTH_M3.0001\",\"ADD-WGR-FIRTH_M1.0001\",\"ADD-WGR-FIRTH_M3.singleton\",\"ADD-WGR-FIRTH_M1.singleton\"],\"xaxis\":\"x\",\"y\":[1475,1086,952,905,841,752,516,481,192,182],\"yaxis\":\"y\",\"type\":\"bar\"}],                        {\"template\":{\"data\":{\"histogram2dcontour\":[{\"type\":\"histogram2dcontour\",\"colorbar\":{\"outlinewidth\":0,\"ticks\":\"\"},\"colorscale\":[[0.0,\"#0d0887\"],[0.1111111111111111,\"#46039f\"],[0.2222222222222222,\"#7201a8\"],[0.3333333333333333,\"#9c179e\"],[0.4444444444444444,\"#bd3786\"],[0.5555555555555556,\"#d8576b\"],[0.6666666666666666,\"#ed7953\"],[0.7777777777777778,\"#fb9f3a\"],[0.8888888888888888,\"#fdca26\"],[1.0,\"#f0f921\"]]}],\"choropleth\":[{\"type\":\"choropleth\",\"colorbar\":{\"outlinewidth\":0,\"ticks\":\"\"}}],\"histogram2d\":[{\"type\":\"histogram2d\",\"colorbar\":{\"outlinewidth\":0,\"ticks\":\"\"},\"colorscale\":[[0.0,\"#0d0887\"],[0.1111111111111111,\"#46039f\"],[0.2222222222222222,\"#7201a8\"],[0.3333333333333333,\"#9c179e\"],[0.4444444444444444,\"#bd3786\"],[0.5555555555555556,\"#d8576b\"],[0.6666666666666666,\"#ed7953\"],[0.7777777777777778,\"#fb9f3a\"],[0.8888888888888888,\"#fdca26\"],[1.0,\"#f0f921\"]]}],\"heatmap\":[{\"type\":\"heatmap\",\"colorbar\":{\"outlinewidth\":0,\"ticks\":\"\"},\"colorscale\":[[0.0,\"#0d0887\"],[0.1111111111111111,\"#46039f\"],[0.2222222222222222,\"#7201a8\"],[0.3333333333333333,\"#9c179e\"],[0.4444444444444444,\"#bd3786\"],[0.5555555555555556,\"#d8576b\"],[0.6666666666666666,\"#ed7953\"],[0.7777777777777778,\"#fb9f3a\"],[0.8888888888888888,\"#fdca26\"],[1.0,\"#f0f921\"]]}],\"heatmapgl\":[{\"type\":\"heatmapgl\",\"colorbar\":{\"outlinewidth\":0,\"ticks\":\"\"},\"colorscale\":[[0.0,\"#0d0887\"],[0.1111111111111111,\"#46039f\"],[0.2222222222222222,\"#7201a8\"],[0.3333333333333333,\"#9c179e\"],[0.4444444444444444,\"#bd3786\"],[0.5555555555555556,\"#d8576b\"],[0.6666666666666666,\"#ed7953\"],[0.7777777777777778,\"#fb9f3a\"],[0.8888888888888888,\"#fdca26\"],[1.0,\"#f0f921\"]]}],\"contourcarpet\":[{\"type\":\"contourcarpet\",\"colorbar\":{\"outlinewidth\":0,\"ticks\":\"\"}}],\"contour\":[{\"type\":\"contour\",\"colorbar\":{\"outlinewidth\":0,\"ticks\":\"\"},\"colorscale\":[[0.0,\"#0d0887\"],[0.1111111111111111,\"#46039f\"],[0.2222222222222222,\"#7201a8\"],[0.3333333333333333,\"#9c179e\"],[0.4444444444444444,\"#bd3786\"],[0.5555555555555556,\"#d8576b\"],[0.6666666666666666,\"#ed7953\"],[0.7777777777777778,\"#fb9f3a\"],[0.8888888888888888,\"#fdca26\"],[1.0,\"#f0f921\"]]}],\"surface\":[{\"type\":\"surface\",\"colorbar\":{\"outlinewidth\":0,\"ticks\":\"\"},\"colorscale\":[[0.0,\"#0d0887\"],[0.1111111111111111,\"#46039f\"],[0.2222222222222222,\"#7201a8\"],[0.3333333333333333,\"#9c179e\"],[0.4444444444444444,\"#bd3786\"],[0.5555555555555556,\"#d8576b\"],[0.6666666666666666,\"#ed7953\"],[0.7777777777777778,\"#fb9f3a\"],[0.8888888888888888,\"#fdca26\"],[1.0,\"#f0f921\"]]}],\"mesh3d\":[{\"type\":\"mesh3d\",\"colorbar\":{\"outlinewidth\":0,\"ticks\":\"\"}}],\"scatter\":[{\"fillpattern\":{\"fillmode\":\"overlay\",\"size\":10,\"solidity\":0.2},\"type\":\"scatter\"}],\"parcoords\":[{\"type\":\"parcoords\",\"line\":{\"colorbar\":{\"outlinewidth\":0,\"ticks\":\"\"}}}],\"scatterpolargl\":[{\"type\":\"scatterpolargl\",\"marker\":{\"colorbar\":{\"outlinewidth\":0,\"ticks\":\"\"}}}],\"bar\":[{\"error_x\":{\"color\":\"#2a3f5f\"},\"error_y\":{\"color\":\"#2a3f5f\"},\"marker\":{\"line\":{\"color\":\"#E5ECF6\",\"width\":0.5},\"pattern\":{\"fillmode\":\"overlay\",\"size\":10,\"solidity\":0.2}},\"type\":\"bar\"}],\"scattergeo\":[{\"type\":\"scattergeo\",\"marker\":{\"colorbar\":{\"outlinewidth\":0,\"ticks\":\"\"}}}],\"scatterpolar\":[{\"type\":\"scatterpolar\",\"marker\":{\"colorbar\":{\"outlinewidth\":0,\"ticks\":\"\"}}}],\"histogram\":[{\"marker\":{\"pattern\":{\"fillmode\":\"overlay\",\"size\":10,\"solidity\":0.2}},\"type\":\"histogram\"}],\"scattergl\":[{\"type\":\"scattergl\",\"marker\":{\"colorbar\":{\"outlinewidth\":0,\"ticks\":\"\"}}}],\"scatter3d\":[{\"type\":\"scatter3d\",\"line\":{\"colorbar\":{\"outlinewidth\":0,\"ticks\":\"\"}},\"marker\":{\"colorbar\":{\"outlinewidth\":0,\"ticks\":\"\"}}}],\"scattermapbox\":[{\"type\":\"scattermapbox\",\"marker\":{\"colorbar\":{\"outlinewidth\":0,\"ticks\":\"\"}}}],\"scatterternary\":[{\"type\":\"scatterternary\",\"marker\":{\"colorbar\":{\"outlinewidth\":0,\"ticks\":\"\"}}}],\"scattercarpet\":[{\"type\":\"scattercarpet\",\"marker\":{\"colorbar\":{\"outlinewidth\":0,\"ticks\":\"\"}}}],\"carpet\":[{\"aaxis\":{\"endlinecolor\":\"#2a3f5f\",\"gridcolor\":\"white\",\"linecolor\":\"white\",\"minorgridcolor\":\"white\",\"startlinecolor\":\"#2a3f5f\"},\"baxis\":{\"endlinecolor\":\"#2a3f5f\",\"gridcolor\":\"white\",\"linecolor\":\"white\",\"minorgridcolor\":\"white\",\"startlinecolor\":\"#2a3f5f\"},\"type\":\"carpet\"}],\"table\":[{\"cells\":{\"fill\":{\"color\":\"#EBF0F8\"},\"line\":{\"color\":\"white\"}},\"header\":{\"fill\":{\"color\":\"#C8D4E3\"},\"line\":{\"color\":\"white\"}},\"type\":\"table\"}],\"barpolar\":[{\"marker\":{\"line\":{\"color\":\"#E5ECF6\",\"width\":0.5},\"pattern\":{\"fillmode\":\"overlay\",\"size\":10,\"solidity\":0.2}},\"type\":\"barpolar\"}],\"pie\":[{\"automargin\":true,\"type\":\"pie\"}]},\"layout\":{\"autotypenumbers\":\"strict\",\"colorway\":[\"#636efa\",\"#EF553B\",\"#00cc96\",\"#ab63fa\",\"#FFA15A\",\"#19d3f3\",\"#FF6692\",\"#B6E880\",\"#FF97FF\",\"#FECB52\"],\"font\":{\"color\":\"#2a3f5f\"},\"hovermode\":\"closest\",\"hoverlabel\":{\"align\":\"left\"},\"paper_bgcolor\":\"white\",\"plot_bgcolor\":\"#E5ECF6\",\"polar\":{\"bgcolor\":\"#E5ECF6\",\"angularaxis\":{\"gridcolor\":\"white\",\"linecolor\":\"white\",\"ticks\":\"\"},\"radialaxis\":{\"gridcolor\":\"white\",\"linecolor\":\"white\",\"ticks\":\"\"}},\"ternary\":{\"bgcolor\":\"#E5ECF6\",\"aaxis\":{\"gridcolor\":\"white\",\"linecolor\":\"white\",\"ticks\":\"\"},\"baxis\":{\"gridcolor\":\"white\",\"linecolor\":\"white\",\"ticks\":\"\"},\"caxis\":{\"gridcolor\":\"white\",\"linecolor\":\"white\",\"ticks\":\"\"}},\"coloraxis\":{\"colorbar\":{\"outlinewidth\":0,\"ticks\":\"\"}},\"colorscale\":{\"sequential\":[[0.0,\"#0d0887\"],[0.1111111111111111,\"#46039f\"],[0.2222222222222222,\"#7201a8\"],[0.3333333333333333,\"#9c179e\"],[0.4444444444444444,\"#bd3786\"],[0.5555555555555556,\"#d8576b\"],[0.6666666666666666,\"#ed7953\"],[0.7777777777777778,\"#fb9f3a\"],[0.8888888888888888,\"#fdca26\"],[1.0,\"#f0f921\"]],\"sequentialminus\":[[0.0,\"#0d0887\"],[0.1111111111111111,\"#46039f\"],[0.2222222222222222,\"#7201a8\"],[0.3333333333333333,\"#9c179e\"],[0.4444444444444444,\"#bd3786\"],[0.5555555555555556,\"#d8576b\"],[0.6666666666666666,\"#ed7953\"],[0.7777777777777778,\"#fb9f3a\"],[0.8888888888888888,\"#fdca26\"],[1.0,\"#f0f921\"]],\"diverging\":[[0,\"#8e0152\"],[0.1,\"#c51b7d\"],[0.2,\"#de77ae\"],[0.3,\"#f1b6da\"],[0.4,\"#fde0ef\"],[0.5,\"#f7f7f7\"],[0.6,\"#e6f5d0\"],[0.7,\"#b8e186\"],[0.8,\"#7fbc41\"],[0.9,\"#4d9221\"],[1,\"#276419\"]]},\"xaxis\":{\"gridcolor\":\"white\",\"linecolor\":\"white\",\"ticks\":\"\",\"title\":{\"standoff\":15},\"zerolinecolor\":\"white\",\"automargin\":true,\"zerolinewidth\":2},\"yaxis\":{\"gridcolor\":\"white\",\"linecolor\":\"white\",\"ticks\":\"\",\"title\":{\"standoff\":15},\"zerolinecolor\":\"white\",\"automargin\":true,\"zerolinewidth\":2},\"scene\":{\"xaxis\":{\"backgroundcolor\":\"#E5ECF6\",\"gridcolor\":\"white\",\"linecolor\":\"white\",\"showbackground\":true,\"ticks\":\"\",\"zerolinecolor\":\"white\",\"gridwidth\":2},\"yaxis\":{\"backgroundcolor\":\"#E5ECF6\",\"gridcolor\":\"white\",\"linecolor\":\"white\",\"showbackground\":true,\"ticks\":\"\",\"zerolinecolor\":\"white\",\"gridwidth\":2},\"zaxis\":{\"backgroundcolor\":\"#E5ECF6\",\"gridcolor\":\"white\",\"linecolor\":\"white\",\"showbackground\":true,\"ticks\":\"\",\"zerolinecolor\":\"white\",\"gridwidth\":2}},\"shapedefaults\":{\"line\":{\"color\":\"#2a3f5f\"}},\"annotationdefaults\":{\"arrowcolor\":\"#2a3f5f\",\"arrowhead\":0,\"arrowwidth\":1},\"geo\":{\"bgcolor\":\"white\",\"landcolor\":\"#E5ECF6\",\"subunitcolor\":\"white\",\"showland\":true,\"showlakes\":true,\"lakecolor\":\"white\"},\"title\":{\"x\":0.05},\"mapbox\":{\"style\":\"light\"}}},\"xaxis\":{\"anchor\":\"y\",\"domain\":[0.0,1.0],\"title\":{\"text\":\"Model\"}},\"yaxis\":{\"anchor\":\"x\",\"domain\":[0.0,1.0],\"title\":{\"text\":\"Association count\"}},\"legend\":{\"title\":{\"text\":\"Project\"},\"tracegroupgap\":0,\"orientation\":\"h\",\"yanchor\":\"bottom\",\"y\":1.02,\"xanchor\":\"right\",\"x\":1},\"title\":{\"text\":\"Distribution of associations per collapsing model\"},\"barmode\":\"relative\",\"height\":500},                        {\"responsive\": true}                    )                };                            </script>        </div>"
      ],
      "text/plain": [
       "Figure({\n",
       "    'data': [{'alignmentgroup': 'True',\n",
       "              'hovertemplate': 'Project=Genebass<br>Model=%{x}<br>Association count=%{y}<extra></extra>',\n",
       "              'legendgroup': 'Genebass',\n",
       "              'marker': {'color': '#636efa', 'pattern': {'shape': ''}},\n",
       "              'name': 'Genebass',\n",
       "              'offsetgroup': 'Genebass',\n",
       "              'orientation': 'v',\n",
       "              'showlegend': True,\n",
       "              'textposition': 'auto',\n",
       "              'type': 'bar',\n",
       "              'x': array(['pLoF|missense|LC', 'pLoF', 'missense|LC', 'synonymous'], dtype=object),\n",
       "              'xaxis': 'x',\n",
       "              'y': array([2747, 2264, 2254,  636]),\n",
       "              'yaxis': 'y'},\n",
       "             {'alignmentgroup': 'True',\n",
       "              'hovertemplate': ('Project=AstraZeneca PheWAS Por' ... 'tion count=%{y}<extra></extra>'),\n",
       "              'legendgroup': 'AstraZeneca PheWAS Portal',\n",
       "              'marker': {'color': '#EF553B', 'pattern': {'shape': ''}},\n",
       "              'name': 'AstraZeneca PheWAS Portal',\n",
       "              'offsetgroup': 'AstraZeneca PheWAS Portal',\n",
       "              'orientation': 'v',\n",
       "              'showlegend': True,\n",
       "              'textposition': 'auto',\n",
       "              'type': 'bar',\n",
       "              'x': array(['ptv5pcnt', 'ptv', 'flexdmg', 'ptvraredmg', 'flexnonsynmtr', 'UR',\n",
       "                          'URmtr', 'raredmg', 'raredmgmtr', 'rec'], dtype=object),\n",
       "              'xaxis': 'x',\n",
       "              'y': array([2379, 1948, 1739, 1599, 1019,  990,  931,  666,  287,  209]),\n",
       "              'yaxis': 'y'},\n",
       "             {'alignmentgroup': 'True',\n",
       "              'hovertemplate': 'Project=REGENERON<br>Model=%{x}<br>Association count=%{y}<extra></extra>',\n",
       "              'legendgroup': 'REGENERON',\n",
       "              'marker': {'color': '#00cc96', 'pattern': {'shape': ''}},\n",
       "              'name': 'REGENERON',\n",
       "              'offsetgroup': 'REGENERON',\n",
       "              'orientation': 'v',\n",
       "              'showlegend': True,\n",
       "              'textposition': 'auto',\n",
       "              'type': 'bar',\n",
       "              'x': array(['ADD-WGR-FIRTH_M3.1', 'ADD-WGR-FIRTH_M3.01', 'ADD-WGR-FIRTH_M1.1',\n",
       "                          'ADD-WGR-FIRTH_M3.001', 'ADD-WGR-FIRTH_M1.01', 'ADD-WGR-FIRTH_M1.001',\n",
       "                          'ADD-WGR-FIRTH_M3.0001', 'ADD-WGR-FIRTH_M1.0001',\n",
       "                          'ADD-WGR-FIRTH_M3.singleton', 'ADD-WGR-FIRTH_M1.singleton'],\n",
       "                         dtype=object),\n",
       "              'xaxis': 'x',\n",
       "              'y': array([1475, 1086,  952,  905,  841,  752,  516,  481,  192,  182]),\n",
       "              'yaxis': 'y'}],\n",
       "    'layout': {'barmode': 'relative',\n",
       "               'height': 500,\n",
       "               'legend': {'orientation': 'h',\n",
       "                          'title': {'text': 'Project'},\n",
       "                          'tracegroupgap': 0,\n",
       "                          'x': 1,\n",
       "                          'xanchor': 'right',\n",
       "                          'y': 1.02,\n",
       "                          'yanchor': 'bottom'},\n",
       "               'template': '...',\n",
       "               'title': {'text': 'Distribution of associations per collapsing model'},\n",
       "               'xaxis': {'anchor': 'y', 'domain': [0.0, 1.0], 'title': {'text': 'Model'}},\n",
       "               'yaxis': {'anchor': 'x', 'domain': [0.0, 1.0], 'title': {'text': 'Association count'}}}\n",
       "})"
      ]
     },
     "execution_count": 44,
     "metadata": {},
     "output_type": "execute_result"
    }
   ],
   "source": [
    "## # OF ASSOCIATIONS PER MODEL\n",
    "\n",
    "'''\n",
    "Common (MAF >= 1%): >= 1%\n",
    "rare: < 1%\n",
    "Very rare (MAF < 0.1%): < 0.1%\n",
    "Ultra rare: < 0.01%\n",
    "\n",
    "M1 -> pLOF / M3 -> pLOF and missense\n",
    "'''\n",
    "\n",
    "MODEL_TO_MAF = {\n",
    "    'ptv': 'Very rare (MAF < 0.1%)',\n",
    "    'ptv5pcnt': 'Common (MAF >= 1%)',\n",
    "    'UR': 'Ultra rare (MAF < 0.01%)',\n",
    "    'URmtr': 'Ultra rare (MAF < 0.01%)',\n",
    "    'raredmg': 'Ultra rare (MAF < 0.01%)',\n",
    "    'raredmgmtr': 'Ultra rare (MAF < 0.01%)',\n",
    "    'flexdmg': 'Ultra rare (MAF < 0.01%)',\n",
    "    'flexnonsyn': 'Ultra rare (MAF < 0.01%)',\n",
    "    'flexnonsynmtr': 'Ultra rare (MAF < 0.01%)',\n",
    "    'ptvraredmg': 'Ultra rare (MAF < 0.01%)',\n",
    "    'rec': 'Common (MAF >= 1%)',\n",
    "    'M1.singleton': 'Ultra rare (MAF < 0.01%)',\n",
    "    'M1.0001': 'Ultra rare (MAF < 0.01%)',\n",
    "    'M1.001': 'Ultra rare (MAF < 0.01%)',\n",
    "    'M1.01': 'Very rare (MAF < 0.1%)',\n",
    "    'M1.1': 'Rare (MAF < 1%)',\n",
    "    'M3.singleton': 'Ultra rare (MAF < 0.01%)',\n",
    "    'M3.0001': 'Ultra rare (MAF < 0.01%)',\n",
    "    'M3.001': 'Ultra rare (MAF < 0.01%)',\n",
    "    'M3.01': 'Very rare (MAF < 0.1%)',\n",
    "    'M3.1': 'Rare (MAF < 1%)',\n",
    "    'ADD-WGR-FIRTH_M1.singleton': 'Ultra rare (MAF < 0.01%)',\n",
    "    'ADD-WGR-FIRTH_M1.0001': 'Ultra rare (MAF < 0.01%)',\n",
    "    'ADD-WGR-FIRTH_M1.001': 'Ultra rare (MAF < 0.01%)',\n",
    "    'ADD-WGR-FIRTH_M1.01': 'Very rare (MAF < 0.1%)',\n",
    "    'ADD-WGR-FIRTH_M1.1': 'Rare (MAF < 1%)',\n",
    "    'ADD-WGR-FIRTH_M3.singleton': 'Ultra rare (MAF < 0.01%)',\n",
    "    'ADD-WGR-FIRTH_M3.0001': 'Ultra rare (MAF < 0.01%)',\n",
    "    'ADD-WGR-FIRTH_M3.001': 'Ultra rare (MAF < 0.01%)',\n",
    "    'ADD-WGR-FIRTH_M3.01': 'Very rare (MAF < 0.1%)',\n",
    "    'ADD-WGR-FIRTH_M3.1': 'Rare (MAF < 1%)',\n",
    "    'pLoF': 'Ultra rare (MAF < 0.01%)',\n",
    "    'missense|LC': 'Ultra rare (MAF < 0.01%)',\n",
    "    'synonymous': 'Ultra rare (MAF < 0.01%)',\n",
    "    'pLoF|missense|LC': 'Ultra rare (MAF < 0.01%)'\n",
    "\n",
    "}\n",
    "\n",
    "assocs_per_model = (\n",
    "    evd.select('statisticalMethod', F.concat_ws('|', 'diseaseId', 'targetId'), 'projectId')\n",
    "    .withColumn('mafThreshold', F.col('statisticalMethod'))\n",
    "    .replace(to_replace=MODEL_TO_MAF, subset=['mafThreshold'])\n",
    "    .groupBy('statisticalMethod', 'projectId', 'mafThreshold')\n",
    "    .count()\n",
    "    .toPandas()\n",
    "    .sort_values(by='count', ascending=False)\n",
    ")\n",
    "\n",
    "fig1= px.bar(\n",
    "    assocs_per_model,\n",
    "    x='statisticalMethod',\n",
    "    y='count',\n",
    "    color='projectId',\n",
    "    height=500,\n",
    "    title='Distribution of associations per collapsing model',\n",
    "    labels={'statisticalMethod': 'Model', 'count': 'Association count', 'projectId': 'Project'},\n",
    ")\n",
    "\n",
    "fig1.update_layout(legend=dict(\n",
    "    orientation=\"h\",\n",
    "    yanchor=\"bottom\",\n",
    "    y=1.02,\n",
    "    xanchor=\"right\",\n",
    "    x=1\n",
    "))\n"
   ]
  },
  {
   "cell_type": "code",
   "execution_count": 45,
   "metadata": {},
   "outputs": [
    {
     "data": {
      "text/plain": [
       "'https://plotly.com/~irenelopezs/1/'"
      ]
     },
     "execution_count": 45,
     "metadata": {},
     "output_type": "execute_result"
    }
   ],
   "source": [
    "fig2 = px.bar(\n",
    "    assocs_per_model,\n",
    "    x='statisticalMethod',\n",
    "    y='count',\n",
    "    color='mafThreshold',\n",
    "    #pattern_shape='projectId',\n",
    "    height=500,\n",
    "    title='Distribution of associations per collapsing model',\n",
    "    hover_data=[\"projectId\", \"statisticalMethod\", \"count\", 'mafThreshold'],\n",
    "    labels={'projectId': 'Source', 'statisticalMethod': 'Model', 'count': 'Association count', 'mafThreshold': 'Allele frequency cutoff'},\n",
    "    category_orders={'mafThreshold': ['Ultra rare (MAF < 0.01%)', 'Very rare (MAF < 0.1%)', 'Rare (MAF < 1%)', 'Common (MAF >= 1%)']},\n",
    ")\n",
    "\n",
    "fig2.update_layout(legend=dict(\n",
    "    orientation=\"h\",\n",
    "    yanchor=\"bottom\",\n",
    "    y=1.02,\n",
    "    xanchor=\"right\",\n",
    "    x=1\n",
    "))\n",
    "\n",
    "py.plot(fig2, filename = 'assocs_per_model', auto_open=True)"
   ]
  },
  {
   "cell_type": "markdown",
   "metadata": {},
   "source": [
    "### 4. Directions of effect\n",
    "\n",
    "1. Different directions of effect decrease the statistical power of the analysis.\n",
    "I want to get 10 overlapping genes/disease pairs and stack them to see if directions are equal."
   ]
  },
  {
   "cell_type": "code",
   "execution_count": 46,
   "metadata": {},
   "outputs": [
    {
     "name": "stdout",
     "output_type": "stream",
     "text": [
      "+---------------------------+---------+------+------------------+--------------------------+\n",
      "|associationId              |projectId|beta  |score             |statisticalMethod         |\n",
      "+---------------------------+---------+------+------------------+--------------------------+\n",
      "|EFO_0004532|ENSG00000100031|REGENERON|-0.982|1.0               |ADD-WGR-FIRTH_M3.001      |\n",
      "|EFO_0004532|ENSG00000100031|REGENERON|-1.028|1.0               |ADD-WGR-FIRTH_M3.01       |\n",
      "|EFO_0004532|ENSG00000100031|REGENERON|-1.159|1.0               |ADD-WGR-FIRTH_M3.0001     |\n",
      "|EFO_0004532|ENSG00000100031|REGENERON|-1.362|1.0               |ADD-WGR-FIRTH_M1.01       |\n",
      "|EFO_0004532|ENSG00000100031|REGENERON|-1.045|0.5915796847544801|ADD-WGR-FIRTH_M3.singleton|\n",
      "+---------------------------+---------+------+------------------+--------------------------+\n",
      "only showing top 5 rows\n",
      "\n"
     ]
    }
   ],
   "source": [
    "common_assocs = (\n",
    "    regeneron_evd\n",
    "    .filter(F.col('beta').isNotNull())\n",
    "    .select(F.concat_ws('|', 'diseaseId', 'targetId').alias('associationId'))\n",
    "    \n",
    "    .join(\n",
    "        az_evd.filter(F.col('beta').isNotNull())\n",
    "        .select(F.concat_ws('|', 'diseaseId', 'targetId').alias('associationId')),\n",
    "        on='associationId', how='inner'\n",
    "    )\n",
    "\n",
    "    .join(\n",
    "        genebass_evd.filter(F.col('beta').isNotNull())\n",
    "        .select(F.concat_ws('|', 'diseaseId', 'targetId').alias('associationId')),\n",
    "        on='associationId', how='inner'\n",
    "    )\n",
    "    .distinct()\n",
    ")\n",
    "\n",
    "regeneron_common_effects = (\n",
    "    regeneron_evd.select(F.concat_ws('|', 'diseaseId', 'targetId').alias('associationId'), 'projectId', 'beta', 'score', 'statisticalMethod')\n",
    "    .join(common_assocs, on='associationId', how='inner').distinct()\n",
    "\n",
    "    # We'll have multiple values due to multiple models - we'll take the mean\n",
    "    #.groupBy('associationId', 'projectId').agg(F.mean('beta').alias('beta'))\n",
    ")\n",
    "\n",
    "az_common_effects = (\n",
    "    az_evd.select(F.concat_ws('|', 'diseaseId', 'targetId').alias('associationId'), 'projectId', 'beta', 'score', 'statisticalMethod')\n",
    "    .join(common_assocs, on='associationId', how='inner').distinct()\n",
    ")\n",
    "\n",
    "genebass_common_effects = (\n",
    "    genebass_evd.select(F.concat_ws('|', 'diseaseId', 'targetId').alias('associationId'), 'projectId', 'beta', 'score', 'statisticalMethod')\n",
    "    .join(common_assocs, on='associationId', how='inner').distinct()\n",
    ")\n",
    "\n",
    "effects_common_assocs = regeneron_common_effects.union(az_common_effects).union(genebass_common_effects).distinct()\n",
    "\n",
    "effects_common_assocs.filter(F.col('associationId') == 'EFO_0004532|ENSG00000100031').show(5, truncate=False)\n",
    "# great!"
   ]
  },
  {
   "cell_type": "code",
   "execution_count": 69,
   "metadata": {},
   "outputs": [
    {
     "data": {
      "text/plain": [
       "'https://plotly.com/~irenelopezs/4/'"
      ]
     },
     "execution_count": 69,
     "metadata": {},
     "output_type": "execute_result"
    }
   ],
   "source": [
    "assoc_to_label = {\n",
    "    'EFO_0004458|ENSG00000132693' : 'CRP measurement&/CRP',\n",
    "    'EFO_0004584|ENSG00000101162' : 'mean platelet volume/TUBB1',\n",
    "    'EFO_0007800|ENSG00000166603' : 'body fat percentage/MC4R',\n",
    "    'EFO_0004541|ENSG00000164756' : 'HbA1c measurement/SLC30A8',\n",
    "    'EFO_0004518|ENSG00000021488' : 'creatinine measurement/SLC7A9',\n",
    "    'EFO_0010701|ENSG00000070182' : 'mean reticulocyte volume/SPTB',\n",
    "    'EFO_0004518|ENSG00000137204' : 'creatinine measurement/SLC22A7',\n",
    "    'EFO_0007993|ENSG00000196712' : 'lymphocyte percentage/NF1',\n",
    "    'EFO_0007985|ENSG00000117400' : 'platelet crit/MPL',\n",
    "    'EFO_0007985|ENSG00000054219' : 'platelet crit/LY75'\n",
    "}\n",
    "\n",
    "# I'll extract 10 examples\n",
    "top_effects_common_assocs = (\n",
    "    effects_common_assocs.orderBy('beta', ascending=False)\n",
    "    .select('associationId').distinct().limit(10)\n",
    "    .toPandas()['associationId'].to_list()\n",
    ")\n",
    "\n",
    "fig3 = px.bar(\n",
    "    (\n",
    "        effects_common_assocs\n",
    "        .filter(F.col('associationId').isin(top_effects_common_assocs))\n",
    "        .withColumn('prettyAssociationId', F.col('associationId')).replace(to_replace=assoc_to_label, subset=['prettyAssociationId'])\n",
    "        .toPandas()\n",
    "    ),\n",
    "    x='beta', y='prettyAssociationId', color='projectId', orientation='h',\n",
    "    height=400, title='Directions of effect in common associations (bigger means more risk)',\n",
    "    labels={'projectId': 'Source', 'prettyAssociationId': 'Association', 'beta': 'Effect size (beta)'},\n",
    ")\n",
    "\n",
    "fig3.update_layout(legend=dict(\n",
    "    orientation=\"h\",\n",
    "    yanchor=\"bottom\",\n",
    "    y=1.02,\n",
    "    xanchor=\"right\",\n",
    "    x=1\n",
    "))\n",
    "\n",
    "py.plot(fig3, filename = 'effect_common_assoc', auto_open=True)\n",
    "#fig3.show()\n"
   ]
  },
  {
   "cell_type": "markdown",
   "metadata": {},
   "source": [
    "### 4.2 Direction of effect comparing GWAS with Burden tests\n",
    "\n",
    "Scatter plot where:\n",
    "- X: direction of effect of Burden tests\n",
    "- Y: direction of effect of GWAS\n",
    "\n",
    "\n",
    "Are the rare variants direction of effect consistent with GWAS?"
   ]
  },
  {
   "cell_type": "code",
   "execution_count": 52,
   "metadata": {},
   "outputs": [
    {
     "name": "stdout",
     "output_type": "stream",
     "text": [
      "+--------------------+------------------+-----+-----------------+-------------------+\n",
      "|       associationId|       burden_beta|score|statisticalMethod|      genetics_beta|\n",
      "+--------------------+------------------+-----+-----------------+-------------------+\n",
      "|EFO_0004458|ENSG0...|-0.656730135449463|  1.0|              ptv|-0.1915349999999999|\n",
      "|EFO_0004458|ENSG0...|-0.656730135449463|  1.0|              ptv|             -0.186|\n",
      "|EFO_0004458|ENSG0...|-0.656730135449463|  1.0|              ptv|             -0.272|\n",
      "|EFO_0004458|ENSG0...|-0.656730135449463|  1.0|              ptv|             -0.182|\n",
      "|EFO_0004458|ENSG0...|-0.656730135449463|  1.0|              ptv|               0.15|\n",
      "+--------------------+------------------+-----+-----------------+-------------------+\n",
      "only showing top 5 rows\n",
      "\n",
      "None\n",
      "['EFO_0004458|ENSG00000132693', 'EFO_0004584|ENSG00000101162', 'EFO_0007800|ENSG00000166603', 'EFO_0010701|ENSG00000070182', 'EFO_0004308|ENSG00000168769']\n"
     ]
    }
   ],
   "source": [
    "genetics_burden_common_assocs = (\n",
    "    effects_common_assocs.withColumnRenamed('beta', 'burden_beta').drop('projectId')\n",
    "    .filter(F.col('statisticalMethod') == 'ptv').filter(F.col('burden_beta').isNotNull())\n",
    "    .join(\n",
    "        spark.read.parquet('/Users/irenelopez/Documents/dev/pyspark/22.11/evidence/sourceId=ot_genetics_portal')\n",
    "        .select(F.concat_ws('|', 'diseaseId', 'targetId').alias('associationId'), F.col('beta').alias('genetics_beta'))\n",
    "        .filter(F.col('genetics_beta').isNotNull()),\n",
    "        on='associationId', how='inner'\n",
    "    )\n",
    "\n",
    "    .distinct()\n",
    ")\n",
    "\n",
    "print(genetics_burden_common_assocs.show(5))\n",
    "\n",
    "top10 = (\n",
    "    genetics_burden_common_assocs.filter(F.abs('genetics_beta') < 5).orderBy('score', ascending=False)\n",
    "    .select('associationId').distinct().limit(10)\n",
    "    .toPandas()['associationId'].to_list()\n",
    ")\n",
    "\n",
    "print(top10[:5])\n"
   ]
  },
  {
   "cell_type": "code",
   "execution_count": 53,
   "metadata": {},
   "outputs": [
    {
     "ename": "ValueError",
     "evalue": "Mime type rendering requires nbformat>=4.2.0 but it is not installed",
     "output_type": "error",
     "traceback": [
      "\u001b[0;31m---------------------------------------------------------------------------\u001b[0m",
      "\u001b[0;31mValueError\u001b[0m                                Traceback (most recent call last)",
      "Cell \u001b[0;32mIn [53], line 27\u001b[0m\n\u001b[1;32m     12\u001b[0m fig3b\u001b[39m.\u001b[39mupdate_layout(\n\u001b[1;32m     13\u001b[0m     \u001b[39m#xaxis=dict(range=[-16, 16]),\u001b[39;00m\n\u001b[1;32m     14\u001b[0m     \u001b[39m#yaxis=dict(range=[-2, 2]),\u001b[39;00m\n\u001b[0;32m   (...)\u001b[0m\n\u001b[1;32m     22\u001b[0m     yaxis_title\u001b[39m=\u001b[39m\u001b[39m'\u001b[39m\u001b[39mEffect size (Gene Burden)\u001b[39m\u001b[39m'\u001b[39m,\n\u001b[1;32m     23\u001b[0m )\n\u001b[1;32m     25\u001b[0m \u001b[39m#pyo.plot(fig3b, filename = 'Direction of effect', auto_open=True)\u001b[39;00m\n\u001b[1;32m     26\u001b[0m \u001b[39m#py.plot(fig3b, filename = 'gwas_exwas_doe', auto_open=True)\u001b[39;00m\n\u001b[0;32m---> 27\u001b[0m fig3b\u001b[39m.\u001b[39;49mshow()\n",
      "File \u001b[0;32m~/.pyenv/versions/3.8.13/lib/python3.8/site-packages/plotly/basedatatypes.py:3398\u001b[0m, in \u001b[0;36mBaseFigure.show\u001b[0;34m(self, *args, **kwargs)\u001b[0m\n\u001b[1;32m   3365\u001b[0m \u001b[39m\"\"\"\u001b[39;00m\n\u001b[1;32m   3366\u001b[0m \u001b[39mShow a figure using either the default renderer(s) or the renderer(s)\u001b[39;00m\n\u001b[1;32m   3367\u001b[0m \u001b[39mspecified by the renderer argument\u001b[39;00m\n\u001b[0;32m   (...)\u001b[0m\n\u001b[1;32m   3394\u001b[0m \u001b[39mNone\u001b[39;00m\n\u001b[1;32m   3395\u001b[0m \u001b[39m\"\"\"\u001b[39;00m\n\u001b[1;32m   3396\u001b[0m \u001b[39mimport\u001b[39;00m \u001b[39mplotly\u001b[39;00m\u001b[39m.\u001b[39;00m\u001b[39mio\u001b[39;00m \u001b[39mas\u001b[39;00m \u001b[39mpio\u001b[39;00m\n\u001b[0;32m-> 3398\u001b[0m \u001b[39mreturn\u001b[39;00m pio\u001b[39m.\u001b[39;49mshow(\u001b[39mself\u001b[39;49m, \u001b[39m*\u001b[39;49margs, \u001b[39m*\u001b[39;49m\u001b[39m*\u001b[39;49mkwargs)\n",
      "File \u001b[0;32m~/.pyenv/versions/3.8.13/lib/python3.8/site-packages/plotly/io/_renderers.py:396\u001b[0m, in \u001b[0;36mshow\u001b[0;34m(fig, renderer, validate, **kwargs)\u001b[0m\n\u001b[1;32m    391\u001b[0m         \u001b[39mraise\u001b[39;00m \u001b[39mValueError\u001b[39;00m(\n\u001b[1;32m    392\u001b[0m             \u001b[39m\"\u001b[39m\u001b[39mMime type rendering requires ipython but it is not installed\u001b[39m\u001b[39m\"\u001b[39m\n\u001b[1;32m    393\u001b[0m         )\n\u001b[1;32m    395\u001b[0m     \u001b[39mif\u001b[39;00m \u001b[39mnot\u001b[39;00m nbformat \u001b[39mor\u001b[39;00m LooseVersion(nbformat\u001b[39m.\u001b[39m__version__) \u001b[39m<\u001b[39m LooseVersion(\u001b[39m\"\u001b[39m\u001b[39m4.2.0\u001b[39m\u001b[39m\"\u001b[39m):\n\u001b[0;32m--> 396\u001b[0m         \u001b[39mraise\u001b[39;00m \u001b[39mValueError\u001b[39;00m(\n\u001b[1;32m    397\u001b[0m             \u001b[39m\"\u001b[39m\u001b[39mMime type rendering requires nbformat>=4.2.0 but it is not installed\u001b[39m\u001b[39m\"\u001b[39m\n\u001b[1;32m    398\u001b[0m         )\n\u001b[1;32m    400\u001b[0m     ipython_display\u001b[39m.\u001b[39mdisplay(bundle, raw\u001b[39m=\u001b[39m\u001b[39mTrue\u001b[39;00m)\n\u001b[1;32m    402\u001b[0m \u001b[39m# external renderers\u001b[39;00m\n",
      "\u001b[0;31mValueError\u001b[0m: Mime type rendering requires nbformat>=4.2.0 but it is not installed"
     ]
    }
   ],
   "source": [
    "# I want to plot the top 10 associations with the most number of evidence\n",
    "\n",
    "fig3b = px.scatter(\n",
    "    genetics_burden_common_assocs.filter(F.col('associationId').isin(top10)).toPandas(),\n",
    "    y='burden_beta', x='genetics_beta',\n",
    "    color='associationId',\n",
    "    title='Direction of effect',\n",
    ")\n",
    "fig3b.add_hline(y=0)\n",
    "fig3b.add_vline(x=0)\n",
    "\n",
    "fig3b.update_layout(\n",
    "    #xaxis=dict(range=[-16, 16]),\n",
    "    #yaxis=dict(range=[-2, 2]),\n",
    "    autosize=False,\n",
    "    width=700,\n",
    "    height=700,\n",
    "    legend=dict(\n",
    "        orientation=\"h\",\n",
    "    ),\n",
    "    xaxis_title='Effect size (OT Genetics Portal)',\n",
    "    yaxis_title='Effect size (Gene Burden)',\n",
    ")\n",
    "\n",
    "#pyo.plot(fig3b, filename = 'Direction of effect', auto_open=True)\n",
    "#py.plot(fig3b, filename = 'gwas_exwas_doe', auto_open=True)\n",
    "fig3b.show()"
   ]
  },
  {
   "cell_type": "code",
   "execution_count": 9,
   "metadata": {},
   "outputs": [
    {
     "data": {
      "text/plain": [
       "['EFO_0004458|ENSG00000132693',\n",
       " 'EFO_0004584|ENSG00000101162',\n",
       " 'EFO_0007800|ENSG00000166603',\n",
       " 'EFO_0010701|ENSG00000070182',\n",
       " 'EFO_0004584|ENSG00000145703',\n",
       " 'EFO_0004308|ENSG00000168769',\n",
       " 'EFO_0004339|ENSG00000196739',\n",
       " 'EFO_0004732|ENSG00000084674',\n",
       " 'EFO_0004309|ENSG00000179218',\n",
       " 'EFO_0007984|ENSG00000110243']"
      ]
     },
     "execution_count": 9,
     "metadata": {},
     "output_type": "execute_result"
    }
   ],
   "source": [
    "top10"
   ]
  },
  {
   "cell_type": "code",
   "execution_count": 10,
   "metadata": {},
   "outputs": [
    {
     "name": "stdout",
     "output_type": "stream",
     "text": [
      "+--------------------+------------------+-----+-----------------+-------------------+\n",
      "|       associationId|       burden_beta|score|statisticalMethod|      genetics_beta|\n",
      "+--------------------+------------------+-----+-----------------+-------------------+\n",
      "|EFO_0004509|ENSG0...|-0.408703226328481|  1.0|              ptv|               0.13|\n",
      "|EFO_0004509|ENSG0...|-0.408703226328481|  1.0|              ptv|           0.100367|\n",
      "|EFO_0004509|ENSG0...|-0.408703226328481|  1.0|              ptv|             0.0671|\n",
      "|EFO_0004509|ENSG0...|-0.408703226328481|  1.0|              ptv|          0.0481428|\n",
      "|EFO_0004509|ENSG0...|-0.408703226328481|  1.0|              ptv|             0.0872|\n",
      "|EFO_0004509|ENSG0...|-0.408703226328481|  1.0|              ptv|              0.089|\n",
      "|EFO_0004509|ENSG0...|-0.408703226328481|  1.0|              ptv|               0.09|\n",
      "|EFO_0004509|ENSG0...|-0.408703226328481|  1.0|              ptv|          -0.040178|\n",
      "|EFO_0004509|ENSG0...|-0.408703226328481|  1.0|              ptv|-0.0736691999999999|\n",
      "|EFO_0004509|ENSG0...|-0.408703226328481|  1.0|              ptv|               0.11|\n",
      "|EFO_0004509|ENSG0...|-0.408703226328481|  1.0|              ptv|           0.062835|\n",
      "|EFO_0004509|ENSG0...|-0.408703226328481|  1.0|              ptv|            0.10122|\n",
      "|EFO_0004509|ENSG0...|-0.408703226328481|  1.0|              ptv|               0.15|\n",
      "|EFO_0004509|ENSG0...|-0.408703226328481|  1.0|              ptv|         0.09874955|\n",
      "|EFO_0004509|ENSG0...|-0.408703226328481|  1.0|              ptv|          -0.073198|\n",
      "|EFO_0004509|ENSG0...|-0.408703226328481|  1.0|              ptv|         -0.0722435|\n",
      "|EFO_0004509|ENSG0...|-0.408703226328481|  1.0|              ptv|          -0.041752|\n",
      "|EFO_0004509|ENSG0...|-0.408703226328481|  1.0|              ptv|              0.076|\n",
      "|EFO_0004509|ENSG0...|-0.408703226328481|  1.0|              ptv|              0.109|\n",
      "|EFO_0004509|ENSG0...|-0.408703226328481|  1.0|              ptv|             0.0896|\n",
      "+--------------------+------------------+-----+-----------------+-------------------+\n",
      "only showing top 20 rows\n",
      "\n"
     ]
    }
   ],
   "source": [
    "genetics_burden_common_assocs.filter(F.col('associationId') == 'EFO_0004509|ENSG00000187045').show()"
   ]
  },
  {
   "cell_type": "markdown",
   "metadata": {},
   "source": [
    "### 3. MEASURE OF EFFECT PER MUTATION TYPE -> Not relevant."
   ]
  },
  {
   "cell_type": "code",
   "execution_count": 9,
   "metadata": {},
   "outputs": [],
   "source": [
    "effect_variant_corr_quant = (\n",
    "    evd.select('statisticalMethod', F.concat_ws('|', 'diseaseId', 'targetId'), 'projectId', 'beta')\n",
    "    .filter(F.col('beta').isNotNull())\n",
    "    .withColumn('mafThreshold', F.col('statisticalMethod'))\n",
    "    .replace(to_replace=MODEL_TO_MAF, subset=['mafThreshold'])\n",
    "    .withColumn(\n",
    "        'effectDirection',\n",
    "        F.when(F.col('beta') > 0, 'risk')\n",
    "        .when(F.col('beta') < 0, 'protective')\n",
    "    )\n",
    "    .toPandas()\n",
    ")\n",
    "\n",
    "effect_variant_corr_bin = (\n",
    "    evd.select('statisticalMethod', F.concat_ws('|', 'diseaseId', 'targetId'), 'projectId', 'oddsRatio')\n",
    "    .filter(F.col('oddsRatio').isNotNull())\n",
    "    .withColumn('mafThreshold', F.col('statisticalMethod'))\n",
    "    .replace(to_replace=MODEL_TO_MAF, subset=['mafThreshold'])\n",
    "    .withColumn(\n",
    "        'effectDirection',\n",
    "        F.when(F.col('oddsRatio') >= 1, 'risk')\n",
    "        .when(F.col('oddsRatio') <= 1, 'protective')\n",
    "    )\n",
    "    .toPandas()\n",
    ")\n",
    "\n",
    "\n",
    "#print(effect_variant_corr_bin.effectDirection.value_counts().plot(kind='pie', title='Binary trait effect'))\n",
    "#print(effect_variant_corr_quant.effectDirection.value_counts().plot(kind='pie', title='Quant trait effect'))\n"
   ]
  },
  {
   "cell_type": "markdown",
   "metadata": {},
   "source": [
    "### 4. What is the fraction of evidence that show consistent directions of effect?"
   ]
  },
  {
   "cell_type": "code",
   "execution_count": 63,
   "metadata": {},
   "outputs": [
    {
     "name": "stdout",
     "output_type": "stream",
     "text": [
      "+---------------+-----------+--------------------+------------------+\n",
      "|       targetId|  diseaseId|               betas|  effectDirections|\n",
      "+---------------+-----------+--------------------+------------------+\n",
      "|ENSG00000000460|EFO_0004704|[0.00363895166362...|            [risk]|\n",
      "|ENSG00000001626|EFO_0004541|[-0.0044070929031...|      [protective]|\n",
      "|ENSG00000002745|EFO_0009270|[-0.0033675306388...|[protective, risk]|\n",
      "|ENSG00000004139|EFO_0002571|[0.05324806976693...|            [risk]|\n",
      "|ENSG00000004399|EFO_0004343|[-0.0224494580267...|      [protective]|\n",
      "+---------------+-----------+--------------------+------------------+\n",
      "only showing top 5 rows\n",
      "\n"
     ]
    }
   ],
   "source": [
    "\n",
    "bin_assoc_effect = (\n",
    "    evd.filter(F.col('oddsRatio').isNotNull())\n",
    "    .withColumn(\n",
    "        'effectDirection',\n",
    "        F.when(F.col('oddsRatio') > 1, 'risk')\n",
    "        .when(F.col('oddsRatio') < 1, 'protective')\n",
    "    )\n",
    "    .groupBy('targetId', 'diseaseId').agg(F.collect_set('oddsRatio').alias('oddsRatios'), F.collect_set('effectDirection').alias('effectDirections'))\n",
    ")\n",
    "\n",
    "quant_assoc_effect = (\n",
    "    evd.filter(F.col('beta').isNotNull())\n",
    "    .withColumn(\n",
    "        'effectDirection',\n",
    "        F.when(F.col('beta') > 0, 'risk')\n",
    "        .when(F.col('beta') < 0, 'protective')\n",
    "    )\n",
    "    .groupBy('targetId', 'diseaseId').agg(F.collect_set('beta').alias('betas'), F.collect_set('effectDirection').alias('effectDirections'))\n",
    ")\n",
    "\n",
    "quant_assoc_effect.show(5)"
   ]
  },
  {
   "cell_type": "code",
   "execution_count": 64,
   "metadata": {},
   "outputs": [
    {
     "name": "stdout",
     "output_type": "stream",
     "text": [
      "---------- Assocs of binary traits ----------\n",
      "Total assocs: 998\n",
      "Assocs with consistent direction of effect: 963\n",
      "Assocs with inconsistent direction of effect: 35\n",
      "Assocs with a negative direction of effect (OR > 1): 945\n",
      "LOF mediated traits???: 357\n",
      "\n",
      "---------- Assocs of quantitative traits ----------\n",
      "Total assocs: 4452\n",
      "Assocs with consistent direction of effect: 4394\n",
      "Assocs with inconsistent direction of effect: 58\n",
      "Assocs with a negative direction of effect (beta > 0): 2408\n",
      "LOF mediated traits???: 303\n"
     ]
    }
   ],
   "source": [
    "print('-'*10, 'Assocs of binary traits', '-'*10)\n",
    "print(f'Total assocs: {bin_assoc_effect.count()}')\n",
    "print(f\"Assocs with consistent direction of effect: {bin_assoc_effect.filter(F.size('effectDirections') == 1).count()}\")\n",
    "print(f\"Assocs with inconsistent direction of effect: {bin_assoc_effect.filter(F.size('effectDirections') == 2).count()}\")\n",
    "print(f\"Assocs with a negative direction of effect (OR > 1): {bin_assoc_effect.filter(F.array_contains('effectDirections', 'risk')).count()}\")\n",
    "print(f\"LOF mediated traits???: {bin_assoc_effect.filter(F.array_contains('effectDirections', 'risk')).select('diseaseId').distinct().count()}\\n\")\n",
    "\n",
    "print('-'*10, 'Assocs of quantitative traits', '-'*10)\n",
    "print(f'Total assocs: {quant_assoc_effect.count()}')\n",
    "print(f\"Assocs with consistent direction of effect: {quant_assoc_effect.filter(F.size('effectDirections') == 1).count()}\")\n",
    "print(f\"Assocs with inconsistent direction of effect: {quant_assoc_effect.filter(F.size('effectDirections') == 2).count()}\")\n",
    "print(f\"Assocs with a negative direction of effect (beta > 0): {quant_assoc_effect.filter(F.array_contains('effectDirections', 'risk')).count()}\")\n",
    "print(f\"LOF mediated traits???: {quant_assoc_effect.filter(F.array_contains('effectDirections', 'risk')).select('diseaseId').distinct().count()}\")\n"
   ]
  },
  {
   "cell_type": "code",
   "execution_count": 16,
   "metadata": {},
   "outputs": [
    {
     "data": {
      "application/vnd.plotly.v1+json": {
       "config": {
        "plotlyServerURL": "https://plotly.com"
       },
       "data": [
        {
         "domain": {
          "x": [
           0,
           0.45
          ],
          "y": [
           0,
           1
          ]
         },
         "labels": [
          "risk",
          "protective"
         ],
         "textinfo": "percent+label",
         "textposition": "inside",
         "title": {
          "text": "Quantitative traits"
         },
         "type": "pie",
         "values": [
          1841,
          2069
         ]
        },
        {
         "domain": {
          "x": [
           0.55,
           1
          ],
          "y": [
           0,
           1
          ]
         },
         "labels": [
          "risk",
          "protective"
         ],
         "textinfo": "percent+label",
         "textposition": "inside",
         "title": {
          "text": "Binary traits"
         },
         "type": "pie",
         "values": [
          945,
          681
         ]
        }
       ],
       "layout": {
        "showlegend": false,
        "template": {
         "data": {
          "bar": [
           {
            "error_x": {
             "color": "#2a3f5f"
            },
            "error_y": {
             "color": "#2a3f5f"
            },
            "marker": {
             "line": {
              "color": "#E5ECF6",
              "width": 0.5
             },
             "pattern": {
              "fillmode": "overlay",
              "size": 10,
              "solidity": 0.2
             }
            },
            "type": "bar"
           }
          ],
          "barpolar": [
           {
            "marker": {
             "line": {
              "color": "#E5ECF6",
              "width": 0.5
             },
             "pattern": {
              "fillmode": "overlay",
              "size": 10,
              "solidity": 0.2
             }
            },
            "type": "barpolar"
           }
          ],
          "carpet": [
           {
            "aaxis": {
             "endlinecolor": "#2a3f5f",
             "gridcolor": "white",
             "linecolor": "white",
             "minorgridcolor": "white",
             "startlinecolor": "#2a3f5f"
            },
            "baxis": {
             "endlinecolor": "#2a3f5f",
             "gridcolor": "white",
             "linecolor": "white",
             "minorgridcolor": "white",
             "startlinecolor": "#2a3f5f"
            },
            "type": "carpet"
           }
          ],
          "choropleth": [
           {
            "colorbar": {
             "outlinewidth": 0,
             "ticks": ""
            },
            "type": "choropleth"
           }
          ],
          "contour": [
           {
            "colorbar": {
             "outlinewidth": 0,
             "ticks": ""
            },
            "colorscale": [
             [
              0,
              "#0d0887"
             ],
             [
              0.1111111111111111,
              "#46039f"
             ],
             [
              0.2222222222222222,
              "#7201a8"
             ],
             [
              0.3333333333333333,
              "#9c179e"
             ],
             [
              0.4444444444444444,
              "#bd3786"
             ],
             [
              0.5555555555555556,
              "#d8576b"
             ],
             [
              0.6666666666666666,
              "#ed7953"
             ],
             [
              0.7777777777777778,
              "#fb9f3a"
             ],
             [
              0.8888888888888888,
              "#fdca26"
             ],
             [
              1,
              "#f0f921"
             ]
            ],
            "type": "contour"
           }
          ],
          "contourcarpet": [
           {
            "colorbar": {
             "outlinewidth": 0,
             "ticks": ""
            },
            "type": "contourcarpet"
           }
          ],
          "heatmap": [
           {
            "colorbar": {
             "outlinewidth": 0,
             "ticks": ""
            },
            "colorscale": [
             [
              0,
              "#0d0887"
             ],
             [
              0.1111111111111111,
              "#46039f"
             ],
             [
              0.2222222222222222,
              "#7201a8"
             ],
             [
              0.3333333333333333,
              "#9c179e"
             ],
             [
              0.4444444444444444,
              "#bd3786"
             ],
             [
              0.5555555555555556,
              "#d8576b"
             ],
             [
              0.6666666666666666,
              "#ed7953"
             ],
             [
              0.7777777777777778,
              "#fb9f3a"
             ],
             [
              0.8888888888888888,
              "#fdca26"
             ],
             [
              1,
              "#f0f921"
             ]
            ],
            "type": "heatmap"
           }
          ],
          "heatmapgl": [
           {
            "colorbar": {
             "outlinewidth": 0,
             "ticks": ""
            },
            "colorscale": [
             [
              0,
              "#0d0887"
             ],
             [
              0.1111111111111111,
              "#46039f"
             ],
             [
              0.2222222222222222,
              "#7201a8"
             ],
             [
              0.3333333333333333,
              "#9c179e"
             ],
             [
              0.4444444444444444,
              "#bd3786"
             ],
             [
              0.5555555555555556,
              "#d8576b"
             ],
             [
              0.6666666666666666,
              "#ed7953"
             ],
             [
              0.7777777777777778,
              "#fb9f3a"
             ],
             [
              0.8888888888888888,
              "#fdca26"
             ],
             [
              1,
              "#f0f921"
             ]
            ],
            "type": "heatmapgl"
           }
          ],
          "histogram": [
           {
            "marker": {
             "pattern": {
              "fillmode": "overlay",
              "size": 10,
              "solidity": 0.2
             }
            },
            "type": "histogram"
           }
          ],
          "histogram2d": [
           {
            "colorbar": {
             "outlinewidth": 0,
             "ticks": ""
            },
            "colorscale": [
             [
              0,
              "#0d0887"
             ],
             [
              0.1111111111111111,
              "#46039f"
             ],
             [
              0.2222222222222222,
              "#7201a8"
             ],
             [
              0.3333333333333333,
              "#9c179e"
             ],
             [
              0.4444444444444444,
              "#bd3786"
             ],
             [
              0.5555555555555556,
              "#d8576b"
             ],
             [
              0.6666666666666666,
              "#ed7953"
             ],
             [
              0.7777777777777778,
              "#fb9f3a"
             ],
             [
              0.8888888888888888,
              "#fdca26"
             ],
             [
              1,
              "#f0f921"
             ]
            ],
            "type": "histogram2d"
           }
          ],
          "histogram2dcontour": [
           {
            "colorbar": {
             "outlinewidth": 0,
             "ticks": ""
            },
            "colorscale": [
             [
              0,
              "#0d0887"
             ],
             [
              0.1111111111111111,
              "#46039f"
             ],
             [
              0.2222222222222222,
              "#7201a8"
             ],
             [
              0.3333333333333333,
              "#9c179e"
             ],
             [
              0.4444444444444444,
              "#bd3786"
             ],
             [
              0.5555555555555556,
              "#d8576b"
             ],
             [
              0.6666666666666666,
              "#ed7953"
             ],
             [
              0.7777777777777778,
              "#fb9f3a"
             ],
             [
              0.8888888888888888,
              "#fdca26"
             ],
             [
              1,
              "#f0f921"
             ]
            ],
            "type": "histogram2dcontour"
           }
          ],
          "mesh3d": [
           {
            "colorbar": {
             "outlinewidth": 0,
             "ticks": ""
            },
            "type": "mesh3d"
           }
          ],
          "parcoords": [
           {
            "line": {
             "colorbar": {
              "outlinewidth": 0,
              "ticks": ""
             }
            },
            "type": "parcoords"
           }
          ],
          "pie": [
           {
            "automargin": true,
            "type": "pie"
           }
          ],
          "scatter": [
           {
            "marker": {
             "colorbar": {
              "outlinewidth": 0,
              "ticks": ""
             }
            },
            "type": "scatter"
           }
          ],
          "scatter3d": [
           {
            "line": {
             "colorbar": {
              "outlinewidth": 0,
              "ticks": ""
             }
            },
            "marker": {
             "colorbar": {
              "outlinewidth": 0,
              "ticks": ""
             }
            },
            "type": "scatter3d"
           }
          ],
          "scattercarpet": [
           {
            "marker": {
             "colorbar": {
              "outlinewidth": 0,
              "ticks": ""
             }
            },
            "type": "scattercarpet"
           }
          ],
          "scattergeo": [
           {
            "marker": {
             "colorbar": {
              "outlinewidth": 0,
              "ticks": ""
             }
            },
            "type": "scattergeo"
           }
          ],
          "scattergl": [
           {
            "marker": {
             "colorbar": {
              "outlinewidth": 0,
              "ticks": ""
             }
            },
            "type": "scattergl"
           }
          ],
          "scattermapbox": [
           {
            "marker": {
             "colorbar": {
              "outlinewidth": 0,
              "ticks": ""
             }
            },
            "type": "scattermapbox"
           }
          ],
          "scatterpolar": [
           {
            "marker": {
             "colorbar": {
              "outlinewidth": 0,
              "ticks": ""
             }
            },
            "type": "scatterpolar"
           }
          ],
          "scatterpolargl": [
           {
            "marker": {
             "colorbar": {
              "outlinewidth": 0,
              "ticks": ""
             }
            },
            "type": "scatterpolargl"
           }
          ],
          "scatterternary": [
           {
            "marker": {
             "colorbar": {
              "outlinewidth": 0,
              "ticks": ""
             }
            },
            "type": "scatterternary"
           }
          ],
          "surface": [
           {
            "colorbar": {
             "outlinewidth": 0,
             "ticks": ""
            },
            "colorscale": [
             [
              0,
              "#0d0887"
             ],
             [
              0.1111111111111111,
              "#46039f"
             ],
             [
              0.2222222222222222,
              "#7201a8"
             ],
             [
              0.3333333333333333,
              "#9c179e"
             ],
             [
              0.4444444444444444,
              "#bd3786"
             ],
             [
              0.5555555555555556,
              "#d8576b"
             ],
             [
              0.6666666666666666,
              "#ed7953"
             ],
             [
              0.7777777777777778,
              "#fb9f3a"
             ],
             [
              0.8888888888888888,
              "#fdca26"
             ],
             [
              1,
              "#f0f921"
             ]
            ],
            "type": "surface"
           }
          ],
          "table": [
           {
            "cells": {
             "fill": {
              "color": "#EBF0F8"
             },
             "line": {
              "color": "white"
             }
            },
            "header": {
             "fill": {
              "color": "#C8D4E3"
             },
             "line": {
              "color": "white"
             }
            },
            "type": "table"
           }
          ]
         },
         "layout": {
          "annotationdefaults": {
           "arrowcolor": "#2a3f5f",
           "arrowhead": 0,
           "arrowwidth": 1
          },
          "autotypenumbers": "strict",
          "coloraxis": {
           "colorbar": {
            "outlinewidth": 0,
            "ticks": ""
           }
          },
          "colorscale": {
           "diverging": [
            [
             0,
             "#8e0152"
            ],
            [
             0.1,
             "#c51b7d"
            ],
            [
             0.2,
             "#de77ae"
            ],
            [
             0.3,
             "#f1b6da"
            ],
            [
             0.4,
             "#fde0ef"
            ],
            [
             0.5,
             "#f7f7f7"
            ],
            [
             0.6,
             "#e6f5d0"
            ],
            [
             0.7,
             "#b8e186"
            ],
            [
             0.8,
             "#7fbc41"
            ],
            [
             0.9,
             "#4d9221"
            ],
            [
             1,
             "#276419"
            ]
           ],
           "sequential": [
            [
             0,
             "#0d0887"
            ],
            [
             0.1111111111111111,
             "#46039f"
            ],
            [
             0.2222222222222222,
             "#7201a8"
            ],
            [
             0.3333333333333333,
             "#9c179e"
            ],
            [
             0.4444444444444444,
             "#bd3786"
            ],
            [
             0.5555555555555556,
             "#d8576b"
            ],
            [
             0.6666666666666666,
             "#ed7953"
            ],
            [
             0.7777777777777778,
             "#fb9f3a"
            ],
            [
             0.8888888888888888,
             "#fdca26"
            ],
            [
             1,
             "#f0f921"
            ]
           ],
           "sequentialminus": [
            [
             0,
             "#0d0887"
            ],
            [
             0.1111111111111111,
             "#46039f"
            ],
            [
             0.2222222222222222,
             "#7201a8"
            ],
            [
             0.3333333333333333,
             "#9c179e"
            ],
            [
             0.4444444444444444,
             "#bd3786"
            ],
            [
             0.5555555555555556,
             "#d8576b"
            ],
            [
             0.6666666666666666,
             "#ed7953"
            ],
            [
             0.7777777777777778,
             "#fb9f3a"
            ],
            [
             0.8888888888888888,
             "#fdca26"
            ],
            [
             1,
             "#f0f921"
            ]
           ]
          },
          "colorway": [
           "#636efa",
           "#EF553B",
           "#00cc96",
           "#ab63fa",
           "#FFA15A",
           "#19d3f3",
           "#FF6692",
           "#B6E880",
           "#FF97FF",
           "#FECB52"
          ],
          "font": {
           "color": "#2a3f5f"
          },
          "geo": {
           "bgcolor": "white",
           "lakecolor": "white",
           "landcolor": "#E5ECF6",
           "showlakes": true,
           "showland": true,
           "subunitcolor": "white"
          },
          "hoverlabel": {
           "align": "left"
          },
          "hovermode": "closest",
          "mapbox": {
           "style": "light"
          },
          "paper_bgcolor": "white",
          "plot_bgcolor": "#E5ECF6",
          "polar": {
           "angularaxis": {
            "gridcolor": "white",
            "linecolor": "white",
            "ticks": ""
           },
           "bgcolor": "#E5ECF6",
           "radialaxis": {
            "gridcolor": "white",
            "linecolor": "white",
            "ticks": ""
           }
          },
          "scene": {
           "xaxis": {
            "backgroundcolor": "#E5ECF6",
            "gridcolor": "white",
            "gridwidth": 2,
            "linecolor": "white",
            "showbackground": true,
            "ticks": "",
            "zerolinecolor": "white"
           },
           "yaxis": {
            "backgroundcolor": "#E5ECF6",
            "gridcolor": "white",
            "gridwidth": 2,
            "linecolor": "white",
            "showbackground": true,
            "ticks": "",
            "zerolinecolor": "white"
           },
           "zaxis": {
            "backgroundcolor": "#E5ECF6",
            "gridcolor": "white",
            "gridwidth": 2,
            "linecolor": "white",
            "showbackground": true,
            "ticks": "",
            "zerolinecolor": "white"
           }
          },
          "shapedefaults": {
           "line": {
            "color": "#2a3f5f"
           }
          },
          "ternary": {
           "aaxis": {
            "gridcolor": "white",
            "linecolor": "white",
            "ticks": ""
           },
           "baxis": {
            "gridcolor": "white",
            "linecolor": "white",
            "ticks": ""
           },
           "bgcolor": "#E5ECF6",
           "caxis": {
            "gridcolor": "white",
            "linecolor": "white",
            "ticks": ""
           }
          },
          "title": {
           "x": 0.05
          },
          "xaxis": {
           "automargin": true,
           "gridcolor": "white",
           "linecolor": "white",
           "ticks": "",
           "title": {
            "standoff": 15
           },
           "zerolinecolor": "white",
           "zerolinewidth": 2
          },
          "yaxis": {
           "automargin": true,
           "gridcolor": "white",
           "linecolor": "white",
           "ticks": "",
           "title": {
            "standoff": 15
           },
           "zerolinecolor": "white",
           "zerolinewidth": 2
          }
         }
        },
        "title": {
         "text": "Direction of effect in associations"
        }
       }
      }
     },
     "metadata": {},
     "output_type": "display_data"
    }
   ],
   "source": [
    "# Subplot with piechart with the directions of effect per type of trait\n",
    "\n",
    "\n",
    "fig4 = make_subplots(rows=1, cols=2, specs=[[{'type':'domain'}, {'type':'domain'}]])\n",
    "\n",
    "fig4.add_trace(\n",
    "    go.Pie(\n",
    "        labels=quant_assoc_effect.withColumn('effectDirection', F.explode('effectDirections')).groupBy('effectDirection').count().toPandas()['effectDirection'].to_list(),\n",
    "        values=quant_assoc_effect.withColumn('effectDirection', F.explode('effectDirections')).groupBy('effectDirection').count().toPandas()['count'].to_list(),\n",
    "        title='Quantitative traits',\n",
    "    ), 1, 1\n",
    ")\n",
    "\n",
    "fig4.add_trace(\n",
    "    go.Pie(\n",
    "        labels=bin_assoc_effect.withColumn('effectDirection', F.explode('effectDirections')).groupBy('effectDirection').count().toPandas()['effectDirection'].to_list(),\n",
    "        values=bin_assoc_effect.withColumn('effectDirection', F.explode('effectDirections')).groupBy('effectDirection').count().toPandas()['count'].to_list(),\n",
    "        title='Binary traits',\n",
    "    ), 1, 2\n",
    ")\n",
    "\n",
    "fig4.update_layout(\n",
    "    title_text=\"Direction of effect in associations\",\n",
    "    showlegend=False,\n",
    ")\n",
    "fig4.update_traces(textposition='inside', textinfo='percent+label')\n",
    "\n",
    "py.plot(fig4, filename = 'effect_assoc', auto_open=True)\n",
    "fig4.show()"
   ]
  },
  {
   "cell_type": "markdown",
   "metadata": {},
   "source": [
    "#### Ancestry specificity"
   ]
  },
  {
   "cell_type": "code",
   "execution_count": 172,
   "metadata": {},
   "outputs": [
    {
     "data": {
      "text/plain": [
       "0"
      ]
     },
     "execution_count": 172,
     "metadata": {},
     "output_type": "execute_result"
    }
   ],
   "source": [
    "# Are there any unique associations in non EUR that are not seen in EUR samples? NO\n",
    "\n",
    "(\n",
    "\n",
    "    regeneron_evd.filter(F.col('ancestry') != 'EUR').select(F.concat_ws('|', 'targetId', 'diseaseId').alias('assoc'))\n",
    "\n",
    "    .join(\n",
    "        az_assocs.select(F.concat_ws('|', 'targetId', 'diseaseId').alias('assoc'))\n",
    "        .union(regeneron_assocs.select(F.concat_ws('|', 'targetId', 'diseaseId').alias('assoc')))\n",
    "        .distinct(),\n",
    "        on='assoc', how='left_anti'\n",
    "    )\n",
    "    .count()\n",
    ")"
   ]
  },
  {
   "cell_type": "code",
   "execution_count": 17,
   "metadata": {},
   "outputs": [
    {
     "data": {
      "application/vnd.plotly.v1+json": {
       "config": {
        "plotlyServerURL": "https://plotly.com"
       },
       "data": [
        {
         "domain": {
          "x": [
           0,
           1
          ],
          "y": [
           0,
           1
          ]
         },
         "hovertemplate": "ancestry=%{label}<br>count=%{value}<extra></extra>",
         "labels": [
          "EUR",
          "AFR",
          "EAS",
          "SAS"
         ],
         "legendgroup": "",
         "name": "",
         "showlegend": true,
         "type": "pie",
         "values": [
          26796,
          64,
          57,
          150
         ]
        }
       ],
       "layout": {
        "legend": {
         "orientation": "h",
         "tracegroupgap": 0,
         "x": 1,
         "xanchor": "right",
         "y": 1.02,
         "yanchor": "bottom"
        },
        "template": {
         "data": {
          "bar": [
           {
            "error_x": {
             "color": "#2a3f5f"
            },
            "error_y": {
             "color": "#2a3f5f"
            },
            "marker": {
             "line": {
              "color": "#E5ECF6",
              "width": 0.5
             },
             "pattern": {
              "fillmode": "overlay",
              "size": 10,
              "solidity": 0.2
             }
            },
            "type": "bar"
           }
          ],
          "barpolar": [
           {
            "marker": {
             "line": {
              "color": "#E5ECF6",
              "width": 0.5
             },
             "pattern": {
              "fillmode": "overlay",
              "size": 10,
              "solidity": 0.2
             }
            },
            "type": "barpolar"
           }
          ],
          "carpet": [
           {
            "aaxis": {
             "endlinecolor": "#2a3f5f",
             "gridcolor": "white",
             "linecolor": "white",
             "minorgridcolor": "white",
             "startlinecolor": "#2a3f5f"
            },
            "baxis": {
             "endlinecolor": "#2a3f5f",
             "gridcolor": "white",
             "linecolor": "white",
             "minorgridcolor": "white",
             "startlinecolor": "#2a3f5f"
            },
            "type": "carpet"
           }
          ],
          "choropleth": [
           {
            "colorbar": {
             "outlinewidth": 0,
             "ticks": ""
            },
            "type": "choropleth"
           }
          ],
          "contour": [
           {
            "colorbar": {
             "outlinewidth": 0,
             "ticks": ""
            },
            "colorscale": [
             [
              0,
              "#0d0887"
             ],
             [
              0.1111111111111111,
              "#46039f"
             ],
             [
              0.2222222222222222,
              "#7201a8"
             ],
             [
              0.3333333333333333,
              "#9c179e"
             ],
             [
              0.4444444444444444,
              "#bd3786"
             ],
             [
              0.5555555555555556,
              "#d8576b"
             ],
             [
              0.6666666666666666,
              "#ed7953"
             ],
             [
              0.7777777777777778,
              "#fb9f3a"
             ],
             [
              0.8888888888888888,
              "#fdca26"
             ],
             [
              1,
              "#f0f921"
             ]
            ],
            "type": "contour"
           }
          ],
          "contourcarpet": [
           {
            "colorbar": {
             "outlinewidth": 0,
             "ticks": ""
            },
            "type": "contourcarpet"
           }
          ],
          "heatmap": [
           {
            "colorbar": {
             "outlinewidth": 0,
             "ticks": ""
            },
            "colorscale": [
             [
              0,
              "#0d0887"
             ],
             [
              0.1111111111111111,
              "#46039f"
             ],
             [
              0.2222222222222222,
              "#7201a8"
             ],
             [
              0.3333333333333333,
              "#9c179e"
             ],
             [
              0.4444444444444444,
              "#bd3786"
             ],
             [
              0.5555555555555556,
              "#d8576b"
             ],
             [
              0.6666666666666666,
              "#ed7953"
             ],
             [
              0.7777777777777778,
              "#fb9f3a"
             ],
             [
              0.8888888888888888,
              "#fdca26"
             ],
             [
              1,
              "#f0f921"
             ]
            ],
            "type": "heatmap"
           }
          ],
          "heatmapgl": [
           {
            "colorbar": {
             "outlinewidth": 0,
             "ticks": ""
            },
            "colorscale": [
             [
              0,
              "#0d0887"
             ],
             [
              0.1111111111111111,
              "#46039f"
             ],
             [
              0.2222222222222222,
              "#7201a8"
             ],
             [
              0.3333333333333333,
              "#9c179e"
             ],
             [
              0.4444444444444444,
              "#bd3786"
             ],
             [
              0.5555555555555556,
              "#d8576b"
             ],
             [
              0.6666666666666666,
              "#ed7953"
             ],
             [
              0.7777777777777778,
              "#fb9f3a"
             ],
             [
              0.8888888888888888,
              "#fdca26"
             ],
             [
              1,
              "#f0f921"
             ]
            ],
            "type": "heatmapgl"
           }
          ],
          "histogram": [
           {
            "marker": {
             "pattern": {
              "fillmode": "overlay",
              "size": 10,
              "solidity": 0.2
             }
            },
            "type": "histogram"
           }
          ],
          "histogram2d": [
           {
            "colorbar": {
             "outlinewidth": 0,
             "ticks": ""
            },
            "colorscale": [
             [
              0,
              "#0d0887"
             ],
             [
              0.1111111111111111,
              "#46039f"
             ],
             [
              0.2222222222222222,
              "#7201a8"
             ],
             [
              0.3333333333333333,
              "#9c179e"
             ],
             [
              0.4444444444444444,
              "#bd3786"
             ],
             [
              0.5555555555555556,
              "#d8576b"
             ],
             [
              0.6666666666666666,
              "#ed7953"
             ],
             [
              0.7777777777777778,
              "#fb9f3a"
             ],
             [
              0.8888888888888888,
              "#fdca26"
             ],
             [
              1,
              "#f0f921"
             ]
            ],
            "type": "histogram2d"
           }
          ],
          "histogram2dcontour": [
           {
            "colorbar": {
             "outlinewidth": 0,
             "ticks": ""
            },
            "colorscale": [
             [
              0,
              "#0d0887"
             ],
             [
              0.1111111111111111,
              "#46039f"
             ],
             [
              0.2222222222222222,
              "#7201a8"
             ],
             [
              0.3333333333333333,
              "#9c179e"
             ],
             [
              0.4444444444444444,
              "#bd3786"
             ],
             [
              0.5555555555555556,
              "#d8576b"
             ],
             [
              0.6666666666666666,
              "#ed7953"
             ],
             [
              0.7777777777777778,
              "#fb9f3a"
             ],
             [
              0.8888888888888888,
              "#fdca26"
             ],
             [
              1,
              "#f0f921"
             ]
            ],
            "type": "histogram2dcontour"
           }
          ],
          "mesh3d": [
           {
            "colorbar": {
             "outlinewidth": 0,
             "ticks": ""
            },
            "type": "mesh3d"
           }
          ],
          "parcoords": [
           {
            "line": {
             "colorbar": {
              "outlinewidth": 0,
              "ticks": ""
             }
            },
            "type": "parcoords"
           }
          ],
          "pie": [
           {
            "automargin": true,
            "type": "pie"
           }
          ],
          "scatter": [
           {
            "marker": {
             "colorbar": {
              "outlinewidth": 0,
              "ticks": ""
             }
            },
            "type": "scatter"
           }
          ],
          "scatter3d": [
           {
            "line": {
             "colorbar": {
              "outlinewidth": 0,
              "ticks": ""
             }
            },
            "marker": {
             "colorbar": {
              "outlinewidth": 0,
              "ticks": ""
             }
            },
            "type": "scatter3d"
           }
          ],
          "scattercarpet": [
           {
            "marker": {
             "colorbar": {
              "outlinewidth": 0,
              "ticks": ""
             }
            },
            "type": "scattercarpet"
           }
          ],
          "scattergeo": [
           {
            "marker": {
             "colorbar": {
              "outlinewidth": 0,
              "ticks": ""
             }
            },
            "type": "scattergeo"
           }
          ],
          "scattergl": [
           {
            "marker": {
             "colorbar": {
              "outlinewidth": 0,
              "ticks": ""
             }
            },
            "type": "scattergl"
           }
          ],
          "scattermapbox": [
           {
            "marker": {
             "colorbar": {
              "outlinewidth": 0,
              "ticks": ""
             }
            },
            "type": "scattermapbox"
           }
          ],
          "scatterpolar": [
           {
            "marker": {
             "colorbar": {
              "outlinewidth": 0,
              "ticks": ""
             }
            },
            "type": "scatterpolar"
           }
          ],
          "scatterpolargl": [
           {
            "marker": {
             "colorbar": {
              "outlinewidth": 0,
              "ticks": ""
             }
            },
            "type": "scatterpolargl"
           }
          ],
          "scatterternary": [
           {
            "marker": {
             "colorbar": {
              "outlinewidth": 0,
              "ticks": ""
             }
            },
            "type": "scatterternary"
           }
          ],
          "surface": [
           {
            "colorbar": {
             "outlinewidth": 0,
             "ticks": ""
            },
            "colorscale": [
             [
              0,
              "#0d0887"
             ],
             [
              0.1111111111111111,
              "#46039f"
             ],
             [
              0.2222222222222222,
              "#7201a8"
             ],
             [
              0.3333333333333333,
              "#9c179e"
             ],
             [
              0.4444444444444444,
              "#bd3786"
             ],
             [
              0.5555555555555556,
              "#d8576b"
             ],
             [
              0.6666666666666666,
              "#ed7953"
             ],
             [
              0.7777777777777778,
              "#fb9f3a"
             ],
             [
              0.8888888888888888,
              "#fdca26"
             ],
             [
              1,
              "#f0f921"
             ]
            ],
            "type": "surface"
           }
          ],
          "table": [
           {
            "cells": {
             "fill": {
              "color": "#EBF0F8"
             },
             "line": {
              "color": "white"
             }
            },
            "header": {
             "fill": {
              "color": "#C8D4E3"
             },
             "line": {
              "color": "white"
             }
            },
            "type": "table"
           }
          ]
         },
         "layout": {
          "annotationdefaults": {
           "arrowcolor": "#2a3f5f",
           "arrowhead": 0,
           "arrowwidth": 1
          },
          "autotypenumbers": "strict",
          "coloraxis": {
           "colorbar": {
            "outlinewidth": 0,
            "ticks": ""
           }
          },
          "colorscale": {
           "diverging": [
            [
             0,
             "#8e0152"
            ],
            [
             0.1,
             "#c51b7d"
            ],
            [
             0.2,
             "#de77ae"
            ],
            [
             0.3,
             "#f1b6da"
            ],
            [
             0.4,
             "#fde0ef"
            ],
            [
             0.5,
             "#f7f7f7"
            ],
            [
             0.6,
             "#e6f5d0"
            ],
            [
             0.7,
             "#b8e186"
            ],
            [
             0.8,
             "#7fbc41"
            ],
            [
             0.9,
             "#4d9221"
            ],
            [
             1,
             "#276419"
            ]
           ],
           "sequential": [
            [
             0,
             "#0d0887"
            ],
            [
             0.1111111111111111,
             "#46039f"
            ],
            [
             0.2222222222222222,
             "#7201a8"
            ],
            [
             0.3333333333333333,
             "#9c179e"
            ],
            [
             0.4444444444444444,
             "#bd3786"
            ],
            [
             0.5555555555555556,
             "#d8576b"
            ],
            [
             0.6666666666666666,
             "#ed7953"
            ],
            [
             0.7777777777777778,
             "#fb9f3a"
            ],
            [
             0.8888888888888888,
             "#fdca26"
            ],
            [
             1,
             "#f0f921"
            ]
           ],
           "sequentialminus": [
            [
             0,
             "#0d0887"
            ],
            [
             0.1111111111111111,
             "#46039f"
            ],
            [
             0.2222222222222222,
             "#7201a8"
            ],
            [
             0.3333333333333333,
             "#9c179e"
            ],
            [
             0.4444444444444444,
             "#bd3786"
            ],
            [
             0.5555555555555556,
             "#d8576b"
            ],
            [
             0.6666666666666666,
             "#ed7953"
            ],
            [
             0.7777777777777778,
             "#fb9f3a"
            ],
            [
             0.8888888888888888,
             "#fdca26"
            ],
            [
             1,
             "#f0f921"
            ]
           ]
          },
          "colorway": [
           "#636efa",
           "#EF553B",
           "#00cc96",
           "#ab63fa",
           "#FFA15A",
           "#19d3f3",
           "#FF6692",
           "#B6E880",
           "#FF97FF",
           "#FECB52"
          ],
          "font": {
           "color": "#2a3f5f"
          },
          "geo": {
           "bgcolor": "white",
           "lakecolor": "white",
           "landcolor": "#E5ECF6",
           "showlakes": true,
           "showland": true,
           "subunitcolor": "white"
          },
          "hoverlabel": {
           "align": "left"
          },
          "hovermode": "closest",
          "mapbox": {
           "style": "light"
          },
          "paper_bgcolor": "white",
          "plot_bgcolor": "#E5ECF6",
          "polar": {
           "angularaxis": {
            "gridcolor": "white",
            "linecolor": "white",
            "ticks": ""
           },
           "bgcolor": "#E5ECF6",
           "radialaxis": {
            "gridcolor": "white",
            "linecolor": "white",
            "ticks": ""
           }
          },
          "scene": {
           "xaxis": {
            "backgroundcolor": "#E5ECF6",
            "gridcolor": "white",
            "gridwidth": 2,
            "linecolor": "white",
            "showbackground": true,
            "ticks": "",
            "zerolinecolor": "white"
           },
           "yaxis": {
            "backgroundcolor": "#E5ECF6",
            "gridcolor": "white",
            "gridwidth": 2,
            "linecolor": "white",
            "showbackground": true,
            "ticks": "",
            "zerolinecolor": "white"
           },
           "zaxis": {
            "backgroundcolor": "#E5ECF6",
            "gridcolor": "white",
            "gridwidth": 2,
            "linecolor": "white",
            "showbackground": true,
            "ticks": "",
            "zerolinecolor": "white"
           }
          },
          "shapedefaults": {
           "line": {
            "color": "#2a3f5f"
           }
          },
          "ternary": {
           "aaxis": {
            "gridcolor": "white",
            "linecolor": "white",
            "ticks": ""
           },
           "baxis": {
            "gridcolor": "white",
            "linecolor": "white",
            "ticks": ""
           },
           "bgcolor": "#E5ECF6",
           "caxis": {
            "gridcolor": "white",
            "linecolor": "white",
            "ticks": ""
           }
          },
          "title": {
           "x": 0.05
          },
          "xaxis": {
           "automargin": true,
           "gridcolor": "white",
           "linecolor": "white",
           "ticks": "",
           "title": {
            "standoff": 15
           },
           "zerolinecolor": "white",
           "zerolinewidth": 2
          },
          "yaxis": {
           "automargin": true,
           "gridcolor": "white",
           "linecolor": "white",
           "ticks": "",
           "title": {
            "standoff": 15
           },
           "zerolinecolor": "white",
           "zerolinewidth": 2
          }
         }
        },
        "title": {
         "text": "Ancestry distribution across evidence"
        }
       }
      }
     },
     "metadata": {},
     "output_type": "display_data"
    }
   ],
   "source": [
    "fig5 = px.pie(\n",
    "    evd.groupBy('ancestry').count().toPandas(),\n",
    "    names='ancestry', values='count',\n",
    "    title='Ancestry distribution across evidence',\n",
    "    labels={'EUR': 'European'},\n",
    ")\n",
    "\n",
    "fig5.update_layout(\n",
    "    legend=dict(\n",
    "    orientation=\"h\",\n",
    "    yanchor=\"bottom\",\n",
    "    y=1.02,\n",
    "    xanchor=\"right\",\n",
    "    x=1\n",
    "))\n",
    "py.plot(fig5, filename = 'ancestry_distribution', auto_open=True)\n",
    "fig5.show()"
   ]
  },
  {
   "cell_type": "markdown",
   "metadata": {},
   "source": [
    "## How much was already known?\n",
    "\n",
    "3. Where is the novelty?\n",
    "\t1. Overlap of assocs with OTP excluding literature.\n",
    "\t\t1. Breakdown per data source in REGENERON and AZ\n",
    "\t\tFigure: 2x2 horizontal bar plots (X-axis: % overlap; Y-axis: sources) broken down by trait type.\n",
    "\t2. PheWAS plot with p values of AZ and REGENERON (probably not very informative).\n",
    "\t3. PheWAS plot with all data sources. (X-axis: traits ordered by TA; Y-axis:-log2 assoc score)"
   ]
  },
  {
   "cell_type": "markdown",
   "metadata": {},
   "source": [
    "### Overlap of gene_burden and OTP assocs across sources"
   ]
  },
  {
   "cell_type": "code",
   "execution_count": 258,
   "metadata": {},
   "outputs": [
    {
     "data": {
      "text/plain": [
       "\"otp = (\\n    spark.read.parquet('/Users/irene/Documents/dev/pyspark/22.04.4/evidence')\\n    .filter(F.col('sourceId') != 'gene_burden')\\n    .select(F.concat_ws('|', 'targetId', 'diseaseId').alias('assoc'), 'targetId', 'diseaseId', 'datasourceId')\\n)\\n\\notp.show(5)\""
      ]
     },
     "execution_count": 258,
     "metadata": {},
     "output_type": "execute_result"
    }
   ],
   "source": [
    "'''otp = (\n",
    "    spark.read.parquet('/Users/irene/Documents/dev/pyspark/22.04.4/evidence')\n",
    "    .filter(F.col('sourceId') != 'gene_burden')\n",
    "    .select(F.concat_ws('|', 'targetId', 'diseaseId').alias('assoc'), 'targetId', 'diseaseId', 'datasourceId')\n",
    ")\n",
    "\n",
    "otp.show(5)'''"
   ]
  },
  {
   "cell_type": "code",
   "execution_count": null,
   "metadata": {},
   "outputs": [],
   "source": [
    "'''# Let's try a diff approach\n",
    "\n",
    "num_gene_burden_assocs = evd.select(F.concat_ws('|', 'targetId', 'diseaseId').alias('assoc')).select('assoc').distinct().count()\n",
    "\n",
    "overlap_between_sources = (\n",
    "\n",
    "    # I first get all common associations across sources\n",
    "    evd.select(F.concat_ws('|', 'targetId', 'diseaseId').alias('assoc'), F.col('datasourceId').alias('datasourceId_left'))\n",
    "    .join(otp, how='inner', on='assoc')\n",
    "    .distinct()\n",
    "\n",
    "    # Break down by data source and percentage relative to the total number of associations\n",
    "    .groupBy('datasourceId').count()\n",
    "    .withColumn('percentage', F.col('count') / num_gene_burden_assocs)\n",
    ")\n",
    "\n",
    "overlap_between_sources.show(30, truncate=False)\n",
    "# Not great coverage'''"
   ]
  },
  {
   "cell_type": "code",
   "execution_count": 18,
   "metadata": {},
   "outputs": [
    {
     "name": "stdout",
     "output_type": "stream",
     "text": [
      "+------------------+-----+--------------------+\n",
      "|datasourceId      |count|percentageOverlap   |\n",
      "+------------------+-----+--------------------+\n",
      "|crispr            |95   |0.5658803907553014  |\n",
      "|uniprot_variants  |873  |5.2001429592566115  |\n",
      "|genomics_england  |1221 |7.273052180128663   |\n",
      "|chembl            |713  |4.247081248510841   |\n",
      "|slapenrich        |1057 |6.296163926614248   |\n",
      "|intogen           |838  |4.991660710030975   |\n",
      "|orphanet          |809  |4.818918274958304   |\n",
      "|sysbio            |1    |0.005956635692161067|\n",
      "|cancer_gene_census|1506 |8.970693352394568   |\n",
      "|progeny           |16   |0.09530617107457708 |\n",
      "|clingen           |605  |3.6037645937574454  |\n",
      "|eva               |1932 |11.508220157255183  |\n",
      "|gene2phenotype    |481  |2.8651417679294733  |\n",
      "|uniprot_literature|1007 |5.998332142006195   |\n",
      "|eva_somatic       |819  |4.878484631879914   |\n",
      "|ot_genetics_portal|8611 |51.292589945198955  |\n",
      "|impc              |2483 |14.79032642363593   |\n",
      "+------------------+-----+--------------------+\n",
      "\n"
     ]
    }
   ],
   "source": [
    "# Same exercise but with indirect associations\n",
    "\n",
    "burden_indirect_assocs = (\n",
    "    spark.read.parquet('/Users/irene/Documents/dev/pyspark/22.06.2/associationByDatasourceIndirect')\n",
    "    .filter(F.col('datasourceId') == 'gene_burden')\n",
    "    .select('targetId', 'diseaseId', F.col('datasourceId').alias('datasourceId_left'))\n",
    "    .distinct()\n",
    ")\n",
    "num_gene_burden_assocs = burden_indirect_assocs.select('diseaseId', 'targetId').distinct().count()\n",
    "\n",
    "\n",
    "non_genetic_sources = ['europepmc', 'expression_atlas', 'reactome', 'cancer_biomarkers']\n",
    "eva_benign_confidence_criteria = [\n",
    "    'no assertion for the individual variant',\n",
    "    'no assertion criteria provided',\n",
    "    'no assertion provided',\n",
    "    'association not found',\n",
    "    'benign',\n",
    "    'not provided',\n",
    "    'likely benign',\n",
    "]\n",
    "otp_indirect_assocs = (\n",
    "    spark.read.parquet('/Users/irene/Documents/dev/pyspark/22.06.2/associationByDatasourceIndirect')\n",
    "\n",
    "    # Keep genetic related sources\n",
    "    .filter(~F.col('datasourceId').isin(non_genetic_sources))\n",
    "\n",
    "    # Filter out gene_burden associations\n",
    "    .filter(F.col('datasourceId') != 'gene_burden')\n",
    "\n",
    "    # Drop ClinVar's benign associations\n",
    "    .join(\n",
    "        spark.read.parquet('/Users/irene/Documents/dev/pyspark/22.04.4/evidence')\n",
    "        .filter((F.col('datasourceId') == 'eva') | (F.col('datasourceId') == 'eva_somatic'))\n",
    "        .filter(~F.col('confidence').isin(eva_benign_confidence_criteria)),\n",
    "        on=['targetId', 'diseaseId'], how='left_anti'\n",
    "    )\n",
    "\n",
    "    .select('targetId', 'diseaseId', 'datasourceId')\n",
    "    .distinct()\n",
    ")\n",
    "\n",
    "indirect_overlap_between_sources = (\n",
    "\n",
    "    # I first get all common associations across sources\n",
    "    burden_indirect_assocs\n",
    "    .join(otp_indirect_assocs, how='inner', on=['targetId', 'diseaseId'])\n",
    "    .distinct()\n",
    "\n",
    "    # Break down by data source and percentage relative to the total number of associations\n",
    "    .groupBy('datasourceId').count()\n",
    "    .withColumn('percentageOverlap', F.col('count') / num_gene_burden_assocs * 100)\n",
    ")\n",
    "\n",
    "indirect_overlap_between_sources.show(30, truncate=False)"
   ]
  },
  {
   "cell_type": "code",
   "execution_count": 19,
   "metadata": {},
   "outputs": [
    {
     "data": {
      "application/vnd.plotly.v1+json": {
       "config": {
        "plotlyServerURL": "https://plotly.com"
       },
       "data": [
        {
         "alignmentgroup": "True",
         "hovertemplate": "percentageOverlap=%{x}<br>datasourceId=%{y}<extra></extra>",
         "legendgroup": "",
         "marker": {
          "color": "#636efa",
          "pattern": {
           "shape": ""
          }
         },
         "name": "",
         "offsetgroup": "",
         "orientation": "h",
         "showlegend": false,
         "textposition": "auto",
         "type": "bar",
         "x": [
          0.5658803907553014,
          5.2001429592566115,
          7.273052180128663,
          4.247081248510841,
          6.296163926614248,
          4.991660710030975,
          4.818918274958304,
          0.005956635692161067,
          8.970693352394568,
          0.09530617107457708,
          3.6037645937574454,
          11.508220157255183,
          2.8651417679294733,
          5.998332142006195,
          4.878484631879914,
          51.292589945198955,
          14.79032642363593
         ],
         "xaxis": "x",
         "y": [
          "crispr",
          "uniprot_variants",
          "genomics_england",
          "chembl",
          "slapenrich",
          "intogen",
          "orphanet",
          "sysbio",
          "cancer_gene_census",
          "progeny",
          "clingen",
          "eva",
          "gene2phenotype",
          "uniprot_literature",
          "eva_somatic",
          "ot_genetics_portal",
          "impc"
         ],
         "yaxis": "y"
        }
       ],
       "layout": {
        "barmode": "relative",
        "legend": {
         "tracegroupgap": 0
        },
        "template": {
         "data": {
          "bar": [
           {
            "error_x": {
             "color": "#2a3f5f"
            },
            "error_y": {
             "color": "#2a3f5f"
            },
            "marker": {
             "line": {
              "color": "#E5ECF6",
              "width": 0.5
             },
             "pattern": {
              "fillmode": "overlay",
              "size": 10,
              "solidity": 0.2
             }
            },
            "type": "bar"
           }
          ],
          "barpolar": [
           {
            "marker": {
             "line": {
              "color": "#E5ECF6",
              "width": 0.5
             },
             "pattern": {
              "fillmode": "overlay",
              "size": 10,
              "solidity": 0.2
             }
            },
            "type": "barpolar"
           }
          ],
          "carpet": [
           {
            "aaxis": {
             "endlinecolor": "#2a3f5f",
             "gridcolor": "white",
             "linecolor": "white",
             "minorgridcolor": "white",
             "startlinecolor": "#2a3f5f"
            },
            "baxis": {
             "endlinecolor": "#2a3f5f",
             "gridcolor": "white",
             "linecolor": "white",
             "minorgridcolor": "white",
             "startlinecolor": "#2a3f5f"
            },
            "type": "carpet"
           }
          ],
          "choropleth": [
           {
            "colorbar": {
             "outlinewidth": 0,
             "ticks": ""
            },
            "type": "choropleth"
           }
          ],
          "contour": [
           {
            "colorbar": {
             "outlinewidth": 0,
             "ticks": ""
            },
            "colorscale": [
             [
              0,
              "#0d0887"
             ],
             [
              0.1111111111111111,
              "#46039f"
             ],
             [
              0.2222222222222222,
              "#7201a8"
             ],
             [
              0.3333333333333333,
              "#9c179e"
             ],
             [
              0.4444444444444444,
              "#bd3786"
             ],
             [
              0.5555555555555556,
              "#d8576b"
             ],
             [
              0.6666666666666666,
              "#ed7953"
             ],
             [
              0.7777777777777778,
              "#fb9f3a"
             ],
             [
              0.8888888888888888,
              "#fdca26"
             ],
             [
              1,
              "#f0f921"
             ]
            ],
            "type": "contour"
           }
          ],
          "contourcarpet": [
           {
            "colorbar": {
             "outlinewidth": 0,
             "ticks": ""
            },
            "type": "contourcarpet"
           }
          ],
          "heatmap": [
           {
            "colorbar": {
             "outlinewidth": 0,
             "ticks": ""
            },
            "colorscale": [
             [
              0,
              "#0d0887"
             ],
             [
              0.1111111111111111,
              "#46039f"
             ],
             [
              0.2222222222222222,
              "#7201a8"
             ],
             [
              0.3333333333333333,
              "#9c179e"
             ],
             [
              0.4444444444444444,
              "#bd3786"
             ],
             [
              0.5555555555555556,
              "#d8576b"
             ],
             [
              0.6666666666666666,
              "#ed7953"
             ],
             [
              0.7777777777777778,
              "#fb9f3a"
             ],
             [
              0.8888888888888888,
              "#fdca26"
             ],
             [
              1,
              "#f0f921"
             ]
            ],
            "type": "heatmap"
           }
          ],
          "heatmapgl": [
           {
            "colorbar": {
             "outlinewidth": 0,
             "ticks": ""
            },
            "colorscale": [
             [
              0,
              "#0d0887"
             ],
             [
              0.1111111111111111,
              "#46039f"
             ],
             [
              0.2222222222222222,
              "#7201a8"
             ],
             [
              0.3333333333333333,
              "#9c179e"
             ],
             [
              0.4444444444444444,
              "#bd3786"
             ],
             [
              0.5555555555555556,
              "#d8576b"
             ],
             [
              0.6666666666666666,
              "#ed7953"
             ],
             [
              0.7777777777777778,
              "#fb9f3a"
             ],
             [
              0.8888888888888888,
              "#fdca26"
             ],
             [
              1,
              "#f0f921"
             ]
            ],
            "type": "heatmapgl"
           }
          ],
          "histogram": [
           {
            "marker": {
             "pattern": {
              "fillmode": "overlay",
              "size": 10,
              "solidity": 0.2
             }
            },
            "type": "histogram"
           }
          ],
          "histogram2d": [
           {
            "colorbar": {
             "outlinewidth": 0,
             "ticks": ""
            },
            "colorscale": [
             [
              0,
              "#0d0887"
             ],
             [
              0.1111111111111111,
              "#46039f"
             ],
             [
              0.2222222222222222,
              "#7201a8"
             ],
             [
              0.3333333333333333,
              "#9c179e"
             ],
             [
              0.4444444444444444,
              "#bd3786"
             ],
             [
              0.5555555555555556,
              "#d8576b"
             ],
             [
              0.6666666666666666,
              "#ed7953"
             ],
             [
              0.7777777777777778,
              "#fb9f3a"
             ],
             [
              0.8888888888888888,
              "#fdca26"
             ],
             [
              1,
              "#f0f921"
             ]
            ],
            "type": "histogram2d"
           }
          ],
          "histogram2dcontour": [
           {
            "colorbar": {
             "outlinewidth": 0,
             "ticks": ""
            },
            "colorscale": [
             [
              0,
              "#0d0887"
             ],
             [
              0.1111111111111111,
              "#46039f"
             ],
             [
              0.2222222222222222,
              "#7201a8"
             ],
             [
              0.3333333333333333,
              "#9c179e"
             ],
             [
              0.4444444444444444,
              "#bd3786"
             ],
             [
              0.5555555555555556,
              "#d8576b"
             ],
             [
              0.6666666666666666,
              "#ed7953"
             ],
             [
              0.7777777777777778,
              "#fb9f3a"
             ],
             [
              0.8888888888888888,
              "#fdca26"
             ],
             [
              1,
              "#f0f921"
             ]
            ],
            "type": "histogram2dcontour"
           }
          ],
          "mesh3d": [
           {
            "colorbar": {
             "outlinewidth": 0,
             "ticks": ""
            },
            "type": "mesh3d"
           }
          ],
          "parcoords": [
           {
            "line": {
             "colorbar": {
              "outlinewidth": 0,
              "ticks": ""
             }
            },
            "type": "parcoords"
           }
          ],
          "pie": [
           {
            "automargin": true,
            "type": "pie"
           }
          ],
          "scatter": [
           {
            "marker": {
             "colorbar": {
              "outlinewidth": 0,
              "ticks": ""
             }
            },
            "type": "scatter"
           }
          ],
          "scatter3d": [
           {
            "line": {
             "colorbar": {
              "outlinewidth": 0,
              "ticks": ""
             }
            },
            "marker": {
             "colorbar": {
              "outlinewidth": 0,
              "ticks": ""
             }
            },
            "type": "scatter3d"
           }
          ],
          "scattercarpet": [
           {
            "marker": {
             "colorbar": {
              "outlinewidth": 0,
              "ticks": ""
             }
            },
            "type": "scattercarpet"
           }
          ],
          "scattergeo": [
           {
            "marker": {
             "colorbar": {
              "outlinewidth": 0,
              "ticks": ""
             }
            },
            "type": "scattergeo"
           }
          ],
          "scattergl": [
           {
            "marker": {
             "colorbar": {
              "outlinewidth": 0,
              "ticks": ""
             }
            },
            "type": "scattergl"
           }
          ],
          "scattermapbox": [
           {
            "marker": {
             "colorbar": {
              "outlinewidth": 0,
              "ticks": ""
             }
            },
            "type": "scattermapbox"
           }
          ],
          "scatterpolar": [
           {
            "marker": {
             "colorbar": {
              "outlinewidth": 0,
              "ticks": ""
             }
            },
            "type": "scatterpolar"
           }
          ],
          "scatterpolargl": [
           {
            "marker": {
             "colorbar": {
              "outlinewidth": 0,
              "ticks": ""
             }
            },
            "type": "scatterpolargl"
           }
          ],
          "scatterternary": [
           {
            "marker": {
             "colorbar": {
              "outlinewidth": 0,
              "ticks": ""
             }
            },
            "type": "scatterternary"
           }
          ],
          "surface": [
           {
            "colorbar": {
             "outlinewidth": 0,
             "ticks": ""
            },
            "colorscale": [
             [
              0,
              "#0d0887"
             ],
             [
              0.1111111111111111,
              "#46039f"
             ],
             [
              0.2222222222222222,
              "#7201a8"
             ],
             [
              0.3333333333333333,
              "#9c179e"
             ],
             [
              0.4444444444444444,
              "#bd3786"
             ],
             [
              0.5555555555555556,
              "#d8576b"
             ],
             [
              0.6666666666666666,
              "#ed7953"
             ],
             [
              0.7777777777777778,
              "#fb9f3a"
             ],
             [
              0.8888888888888888,
              "#fdca26"
             ],
             [
              1,
              "#f0f921"
             ]
            ],
            "type": "surface"
           }
          ],
          "table": [
           {
            "cells": {
             "fill": {
              "color": "#EBF0F8"
             },
             "line": {
              "color": "white"
             }
            },
            "header": {
             "fill": {
              "color": "#C8D4E3"
             },
             "line": {
              "color": "white"
             }
            },
            "type": "table"
           }
          ]
         },
         "layout": {
          "annotationdefaults": {
           "arrowcolor": "#2a3f5f",
           "arrowhead": 0,
           "arrowwidth": 1
          },
          "autotypenumbers": "strict",
          "coloraxis": {
           "colorbar": {
            "outlinewidth": 0,
            "ticks": ""
           }
          },
          "colorscale": {
           "diverging": [
            [
             0,
             "#8e0152"
            ],
            [
             0.1,
             "#c51b7d"
            ],
            [
             0.2,
             "#de77ae"
            ],
            [
             0.3,
             "#f1b6da"
            ],
            [
             0.4,
             "#fde0ef"
            ],
            [
             0.5,
             "#f7f7f7"
            ],
            [
             0.6,
             "#e6f5d0"
            ],
            [
             0.7,
             "#b8e186"
            ],
            [
             0.8,
             "#7fbc41"
            ],
            [
             0.9,
             "#4d9221"
            ],
            [
             1,
             "#276419"
            ]
           ],
           "sequential": [
            [
             0,
             "#0d0887"
            ],
            [
             0.1111111111111111,
             "#46039f"
            ],
            [
             0.2222222222222222,
             "#7201a8"
            ],
            [
             0.3333333333333333,
             "#9c179e"
            ],
            [
             0.4444444444444444,
             "#bd3786"
            ],
            [
             0.5555555555555556,
             "#d8576b"
            ],
            [
             0.6666666666666666,
             "#ed7953"
            ],
            [
             0.7777777777777778,
             "#fb9f3a"
            ],
            [
             0.8888888888888888,
             "#fdca26"
            ],
            [
             1,
             "#f0f921"
            ]
           ],
           "sequentialminus": [
            [
             0,
             "#0d0887"
            ],
            [
             0.1111111111111111,
             "#46039f"
            ],
            [
             0.2222222222222222,
             "#7201a8"
            ],
            [
             0.3333333333333333,
             "#9c179e"
            ],
            [
             0.4444444444444444,
             "#bd3786"
            ],
            [
             0.5555555555555556,
             "#d8576b"
            ],
            [
             0.6666666666666666,
             "#ed7953"
            ],
            [
             0.7777777777777778,
             "#fb9f3a"
            ],
            [
             0.8888888888888888,
             "#fdca26"
            ],
            [
             1,
             "#f0f921"
            ]
           ]
          },
          "colorway": [
           "#636efa",
           "#EF553B",
           "#00cc96",
           "#ab63fa",
           "#FFA15A",
           "#19d3f3",
           "#FF6692",
           "#B6E880",
           "#FF97FF",
           "#FECB52"
          ],
          "font": {
           "color": "#2a3f5f"
          },
          "geo": {
           "bgcolor": "white",
           "lakecolor": "white",
           "landcolor": "#E5ECF6",
           "showlakes": true,
           "showland": true,
           "subunitcolor": "white"
          },
          "hoverlabel": {
           "align": "left"
          },
          "hovermode": "closest",
          "mapbox": {
           "style": "light"
          },
          "paper_bgcolor": "white",
          "plot_bgcolor": "#E5ECF6",
          "polar": {
           "angularaxis": {
            "gridcolor": "white",
            "linecolor": "white",
            "ticks": ""
           },
           "bgcolor": "#E5ECF6",
           "radialaxis": {
            "gridcolor": "white",
            "linecolor": "white",
            "ticks": ""
           }
          },
          "scene": {
           "xaxis": {
            "backgroundcolor": "#E5ECF6",
            "gridcolor": "white",
            "gridwidth": 2,
            "linecolor": "white",
            "showbackground": true,
            "ticks": "",
            "zerolinecolor": "white"
           },
           "yaxis": {
            "backgroundcolor": "#E5ECF6",
            "gridcolor": "white",
            "gridwidth": 2,
            "linecolor": "white",
            "showbackground": true,
            "ticks": "",
            "zerolinecolor": "white"
           },
           "zaxis": {
            "backgroundcolor": "#E5ECF6",
            "gridcolor": "white",
            "gridwidth": 2,
            "linecolor": "white",
            "showbackground": true,
            "ticks": "",
            "zerolinecolor": "white"
           }
          },
          "shapedefaults": {
           "line": {
            "color": "#2a3f5f"
           }
          },
          "ternary": {
           "aaxis": {
            "gridcolor": "white",
            "linecolor": "white",
            "ticks": ""
           },
           "baxis": {
            "gridcolor": "white",
            "linecolor": "white",
            "ticks": ""
           },
           "bgcolor": "#E5ECF6",
           "caxis": {
            "gridcolor": "white",
            "linecolor": "white",
            "ticks": ""
           }
          },
          "title": {
           "x": 0.05
          },
          "xaxis": {
           "automargin": true,
           "gridcolor": "white",
           "linecolor": "white",
           "ticks": "",
           "title": {
            "standoff": 15
           },
           "zerolinecolor": "white",
           "zerolinewidth": 2
          },
          "yaxis": {
           "automargin": true,
           "gridcolor": "white",
           "linecolor": "white",
           "ticks": "",
           "title": {
            "standoff": 15
           },
           "zerolinecolor": "white",
           "zerolinewidth": 2
          }
         }
        },
        "title": {
         "text": "Associations overlap between gene burden and other sources"
        },
        "xaxis": {
         "anchor": "y",
         "domain": [
          0,
          1
         ],
         "title": {
          "text": "percentageOverlap"
         }
        },
        "yaxis": {
         "anchor": "x",
         "domain": [
          0,
          1
         ],
         "title": {
          "text": "datasourceId"
         }
        }
       }
      }
     },
     "metadata": {},
     "output_type": "display_data"
    }
   ],
   "source": [
    "# Associations overlap between gene burden and other sources (all phenotypes)\n",
    "\n",
    "fig6 = px.bar(\n",
    "    indirect_overlap_between_sources.toPandas(),\n",
    "    x='percentageOverlap', y='datasourceId', orientation='h',\n",
    "    title='Associations overlap between gene burden and other sources',\n",
    ")\n",
    "\n",
    "fig6.show()"
   ]
  },
  {
   "cell_type": "code",
   "execution_count": 20,
   "metadata": {},
   "outputs": [
    {
     "name": "stdout",
     "output_type": "stream",
     "text": [
      "+------------------+-----+--------------------+------------------+\n",
      "|datasourceId      |count|percentageOverlap   |prettyDatasourceId|\n",
      "+------------------+-----+--------------------+------------------+\n",
      "|crispr            |39   |1.1768255884127943  |CRISPR            |\n",
      "|uniprot_variants  |399  |12.03983101991551   |Uniprot Variants  |\n",
      "|genomics_england  |535  |16.143633071816534  |GE Panel App      |\n",
      "|chembl            |314  |9.474954737477368   |ChEMBL            |\n",
      "|slapenrich        |475  |14.333132166566084  |SLAPenrich        |\n",
      "|intogen           |353  |10.651780325890163  |IntOGen           |\n",
      "|orphanet          |378  |11.406155703077852  |Orphanet          |\n",
      "|sysbio            |1    |0.030175015087507546|Gene Signatures   |\n",
      "|cancer_gene_census|646  |19.493059746529873  |Cancer Gene Census|\n",
      "|progeny           |7    |0.2112251056125528  |PROGENy           |\n",
      "|clingen           |256  |7.724803862401932   |ClinGen           |\n",
      "|eva               |799  |24.10983705491853   |ClinVar           |\n",
      "|gene2phenotype    |224  |6.75920337960169    |Gene2Phenotype    |\n",
      "|uniprot_literature|455  |13.729631864815934  |Uniprot Literature|\n",
      "|eva_somatic       |350  |10.561255280627641  |ClinVar Somatic   |\n",
      "|ot_genetics_portal|959  |28.937839468919734  |Genetics Portal   |\n",
      "|impc              |982  |29.631864815932406  |IMPC              |\n",
      "+------------------+-----+--------------------+------------------+\n",
      "\n"
     ]
    }
   ],
   "source": [
    "# Let's plot the same by phenotype type\n",
    "\n",
    "PRETTY_DATASOURCE_NAMES = {\n",
    "    'gene_burden': 'Gene Burden',\n",
    "    'eva_somatic': 'ClinVar Somatic',\n",
    "    'eva': 'ClinVar',\n",
    "    'genomics_england': 'GE Panel App',\n",
    "    'ot_genetics_portal': 'Genetics Portal',\n",
    "    'sysbio': 'Gene Signatures',\n",
    "    'uniprot_literature': 'Uniprot Literature',\n",
    "    'progeny': 'PROGENy',\n",
    "    'cancer_biomarkers': 'Cancer Biomarkers',\n",
    "    'reactome': 'Reactome',\n",
    "    'expression_atlas': 'Expression Atlas',\n",
    "    'chembl': 'ChEMBL',\n",
    "    'uniprot_variants': 'Uniprot Variants',\n",
    "    'europepmc': 'EuropePMC',\n",
    "    'crispr': 'CRISPR',\n",
    "    'slapenrich': 'SLAPenrich',\n",
    "    'intogen': 'IntOGen',\n",
    "    'orphanet': 'Orphanet',\n",
    "    'cancer_gene_census': 'Cancer Gene Census',\n",
    "    'clingen': 'ClinGen',\n",
    "    'gene2phenotype': 'Gene2Phenotype',\n",
    "    'impc': 'IMPC'\n",
    "\n",
    "}\n",
    "\n",
    "gene_burden_bin_dis = bin_assoc_effect.select('diseaseId').distinct().toPandas()['diseaseId'].to_list()\n",
    "num_gene_burden_bin_assocs = burden_indirect_assocs.filter(F.col('diseaseId').isin(gene_burden_bin_dis)).select('diseaseId', 'targetId').distinct().count()\n",
    "num_gene_burden_quant_assocs = burden_indirect_assocs.filter(~F.col('diseaseId').isin(gene_burden_bin_dis)).select('diseaseId', 'targetId').distinct().count()\n",
    "\n",
    "bin_indirect_overlap_between_sources = (\n",
    "\n",
    "    # I first get all common associations across sources for binary traits\n",
    "    burden_indirect_assocs.filter(F.col('diseaseId').isin(gene_burden_bin_dis))\n",
    "    .join(otp_indirect_assocs, how='inner', on=['targetId', 'diseaseId'])\n",
    "    .distinct()\n",
    "\n",
    "    # Break down by data source and percentage relative to the total number of associations\n",
    "    .groupBy('datasourceId').count()\n",
    "    .withColumn('percentageOverlap', F.col('count') / num_gene_burden_bin_assocs * 100)\n",
    "    .withColumn('prettyDatasourceId', F.col('datasourceId')).replace(to_replace=PRETTY_DATASOURCE_NAMES, subset=['prettyDatasourceId'])\n",
    ")\n",
    "\n",
    "quant_indirect_overlap_between_sources = (\n",
    "\n",
    "    # I first get all common associations across sources for quantitative traits\n",
    "    burden_indirect_assocs.filter(~F.col('diseaseId').isin(gene_burden_bin_dis))\n",
    "    .join(otp_indirect_assocs, how='inner', on=['targetId', 'diseaseId'])\n",
    "    .distinct()\n",
    "\n",
    "    # Break down by data source and percentage relative to the total number of associations\n",
    "    .groupBy('datasourceId').count()\n",
    "    .withColumn('percentageOverlap', F.col('count') / num_gene_burden_quant_assocs * 100)\n",
    "    .withColumn('prettyDatasourceId', F.col('datasourceId')).replace(to_replace=PRETTY_DATASOURCE_NAMES, subset=['prettyDatasourceId'])\n",
    ")\n",
    "\n",
    "bin_indirect_overlap_between_sources.show(30, truncate=False)"
   ]
  },
  {
   "cell_type": "code",
   "execution_count": 26,
   "metadata": {},
   "outputs": [
    {
     "data": {
      "application/vnd.plotly.v1+json": {
       "config": {
        "plotlyServerURL": "https://plotly.com"
       },
       "data": [
        {
         "hovertemplate": "%{y}: %{x}%<extra></extra>",
         "orientation": "h",
         "text": [
          "1.18%",
          "12.04%",
          "16.14%",
          "9.47%",
          "14.33%",
          "10.65%",
          "11.41%",
          "0.03%",
          "19.49%",
          "0.21%",
          "7.72%",
          "24.11%",
          "6.76%",
          "13.73%",
          "10.56%",
          "28.94%",
          "29.63%"
         ],
         "type": "bar",
         "x": [
          1.1768255884127943,
          12.03983101991551,
          16.143633071816534,
          9.474954737477368,
          14.333132166566084,
          10.651780325890163,
          11.406155703077852,
          0.030175015087507546,
          19.493059746529873,
          0.2112251056125528,
          7.724803862401932,
          24.10983705491853,
          6.75920337960169,
          13.729631864815934,
          10.561255280627641,
          28.937839468919734,
          29.631864815932406
         ],
         "xaxis": "x",
         "y": [
          "CRISPR",
          "Uniprot Variants",
          "GE Panel App",
          "ChEMBL",
          "SLAPenrich",
          "IntOGen",
          "Orphanet",
          "Gene Signatures",
          "Cancer Gene Census",
          "PROGENy",
          "ClinGen",
          "ClinVar",
          "Gene2Phenotype",
          "Uniprot Literature",
          "ClinVar Somatic",
          "Genetics Portal",
          "IMPC"
         ],
         "yaxis": "y"
        },
        {
         "hovertemplate": "%{y}: %{x}%<extra></extra>",
         "orientation": "h",
         "text": [
          "0.42%",
          "3.52%",
          "5.09%",
          "2.96%",
          "4.32%",
          "3.60%",
          "3.20%",
          "6.38%",
          "0.07%",
          "2.59%",
          "8.41%",
          "1.91%",
          "4.10%",
          "3.48%",
          "56.79%",
          "11.14%"
         ],
         "type": "bar",
         "x": [
          0.41561525901736673,
          3.5178862995398545,
          5.091286922962743,
          2.9612587204987384,
          4.319430013359062,
          3.5995250111325516,
          3.1987531542229477,
          6.382662906338132,
          0.06679530948493394,
          2.5901736678046605,
          8.408787294047796,
          1.9073771708475584,
          4.096778981742615,
          3.480777794270447,
          56.79085646430162,
          11.139973281876205
         ],
         "xaxis": "x2",
         "y": [
          "CRISPR",
          "Uniprot Variants",
          "GE Panel App",
          "ChEMBL",
          "SLAPenrich",
          "IntOGen",
          "Orphanet",
          "Cancer Gene Census",
          "PROGENy",
          "ClinGen",
          "ClinVar",
          "Gene2Phenotype",
          "Uniprot Literature",
          "ClinVar Somatic",
          "Genetics Portal",
          "IMPC"
         ],
         "yaxis": "y2"
        }
       ],
       "layout": {
        "annotations": [
         {
          "font": {
           "size": 16
          },
          "showarrow": false,
          "text": "Binary traits",
          "x": 0.225,
          "xanchor": "center",
          "xref": "paper",
          "y": 1,
          "yanchor": "bottom",
          "yref": "paper"
         },
         {
          "font": {
           "size": 16
          },
          "showarrow": false,
          "text": "Quantitative traits",
          "x": 0.775,
          "xanchor": "center",
          "xref": "paper",
          "y": 1,
          "yanchor": "bottom",
          "yref": "paper"
         },
         {
          "font": {
           "size": 16
          },
          "showarrow": false,
          "text": "Overlap (%)",
          "x": 0.5,
          "xanchor": "center",
          "xref": "paper",
          "y": 0,
          "yanchor": "top",
          "yref": "paper",
          "yshift": -30
         }
        ],
        "height": 600,
        "showlegend": false,
        "template": {
         "data": {
          "bar": [
           {
            "error_x": {
             "color": "#2a3f5f"
            },
            "error_y": {
             "color": "#2a3f5f"
            },
            "marker": {
             "line": {
              "color": "#E5ECF6",
              "width": 0.5
             },
             "pattern": {
              "fillmode": "overlay",
              "size": 10,
              "solidity": 0.2
             }
            },
            "type": "bar"
           }
          ],
          "barpolar": [
           {
            "marker": {
             "line": {
              "color": "#E5ECF6",
              "width": 0.5
             },
             "pattern": {
              "fillmode": "overlay",
              "size": 10,
              "solidity": 0.2
             }
            },
            "type": "barpolar"
           }
          ],
          "carpet": [
           {
            "aaxis": {
             "endlinecolor": "#2a3f5f",
             "gridcolor": "white",
             "linecolor": "white",
             "minorgridcolor": "white",
             "startlinecolor": "#2a3f5f"
            },
            "baxis": {
             "endlinecolor": "#2a3f5f",
             "gridcolor": "white",
             "linecolor": "white",
             "minorgridcolor": "white",
             "startlinecolor": "#2a3f5f"
            },
            "type": "carpet"
           }
          ],
          "choropleth": [
           {
            "colorbar": {
             "outlinewidth": 0,
             "ticks": ""
            },
            "type": "choropleth"
           }
          ],
          "contour": [
           {
            "colorbar": {
             "outlinewidth": 0,
             "ticks": ""
            },
            "colorscale": [
             [
              0,
              "#0d0887"
             ],
             [
              0.1111111111111111,
              "#46039f"
             ],
             [
              0.2222222222222222,
              "#7201a8"
             ],
             [
              0.3333333333333333,
              "#9c179e"
             ],
             [
              0.4444444444444444,
              "#bd3786"
             ],
             [
              0.5555555555555556,
              "#d8576b"
             ],
             [
              0.6666666666666666,
              "#ed7953"
             ],
             [
              0.7777777777777778,
              "#fb9f3a"
             ],
             [
              0.8888888888888888,
              "#fdca26"
             ],
             [
              1,
              "#f0f921"
             ]
            ],
            "type": "contour"
           }
          ],
          "contourcarpet": [
           {
            "colorbar": {
             "outlinewidth": 0,
             "ticks": ""
            },
            "type": "contourcarpet"
           }
          ],
          "heatmap": [
           {
            "colorbar": {
             "outlinewidth": 0,
             "ticks": ""
            },
            "colorscale": [
             [
              0,
              "#0d0887"
             ],
             [
              0.1111111111111111,
              "#46039f"
             ],
             [
              0.2222222222222222,
              "#7201a8"
             ],
             [
              0.3333333333333333,
              "#9c179e"
             ],
             [
              0.4444444444444444,
              "#bd3786"
             ],
             [
              0.5555555555555556,
              "#d8576b"
             ],
             [
              0.6666666666666666,
              "#ed7953"
             ],
             [
              0.7777777777777778,
              "#fb9f3a"
             ],
             [
              0.8888888888888888,
              "#fdca26"
             ],
             [
              1,
              "#f0f921"
             ]
            ],
            "type": "heatmap"
           }
          ],
          "heatmapgl": [
           {
            "colorbar": {
             "outlinewidth": 0,
             "ticks": ""
            },
            "colorscale": [
             [
              0,
              "#0d0887"
             ],
             [
              0.1111111111111111,
              "#46039f"
             ],
             [
              0.2222222222222222,
              "#7201a8"
             ],
             [
              0.3333333333333333,
              "#9c179e"
             ],
             [
              0.4444444444444444,
              "#bd3786"
             ],
             [
              0.5555555555555556,
              "#d8576b"
             ],
             [
              0.6666666666666666,
              "#ed7953"
             ],
             [
              0.7777777777777778,
              "#fb9f3a"
             ],
             [
              0.8888888888888888,
              "#fdca26"
             ],
             [
              1,
              "#f0f921"
             ]
            ],
            "type": "heatmapgl"
           }
          ],
          "histogram": [
           {
            "marker": {
             "pattern": {
              "fillmode": "overlay",
              "size": 10,
              "solidity": 0.2
             }
            },
            "type": "histogram"
           }
          ],
          "histogram2d": [
           {
            "colorbar": {
             "outlinewidth": 0,
             "ticks": ""
            },
            "colorscale": [
             [
              0,
              "#0d0887"
             ],
             [
              0.1111111111111111,
              "#46039f"
             ],
             [
              0.2222222222222222,
              "#7201a8"
             ],
             [
              0.3333333333333333,
              "#9c179e"
             ],
             [
              0.4444444444444444,
              "#bd3786"
             ],
             [
              0.5555555555555556,
              "#d8576b"
             ],
             [
              0.6666666666666666,
              "#ed7953"
             ],
             [
              0.7777777777777778,
              "#fb9f3a"
             ],
             [
              0.8888888888888888,
              "#fdca26"
             ],
             [
              1,
              "#f0f921"
             ]
            ],
            "type": "histogram2d"
           }
          ],
          "histogram2dcontour": [
           {
            "colorbar": {
             "outlinewidth": 0,
             "ticks": ""
            },
            "colorscale": [
             [
              0,
              "#0d0887"
             ],
             [
              0.1111111111111111,
              "#46039f"
             ],
             [
              0.2222222222222222,
              "#7201a8"
             ],
             [
              0.3333333333333333,
              "#9c179e"
             ],
             [
              0.4444444444444444,
              "#bd3786"
             ],
             [
              0.5555555555555556,
              "#d8576b"
             ],
             [
              0.6666666666666666,
              "#ed7953"
             ],
             [
              0.7777777777777778,
              "#fb9f3a"
             ],
             [
              0.8888888888888888,
              "#fdca26"
             ],
             [
              1,
              "#f0f921"
             ]
            ],
            "type": "histogram2dcontour"
           }
          ],
          "mesh3d": [
           {
            "colorbar": {
             "outlinewidth": 0,
             "ticks": ""
            },
            "type": "mesh3d"
           }
          ],
          "parcoords": [
           {
            "line": {
             "colorbar": {
              "outlinewidth": 0,
              "ticks": ""
             }
            },
            "type": "parcoords"
           }
          ],
          "pie": [
           {
            "automargin": true,
            "type": "pie"
           }
          ],
          "scatter": [
           {
            "marker": {
             "colorbar": {
              "outlinewidth": 0,
              "ticks": ""
             }
            },
            "type": "scatter"
           }
          ],
          "scatter3d": [
           {
            "line": {
             "colorbar": {
              "outlinewidth": 0,
              "ticks": ""
             }
            },
            "marker": {
             "colorbar": {
              "outlinewidth": 0,
              "ticks": ""
             }
            },
            "type": "scatter3d"
           }
          ],
          "scattercarpet": [
           {
            "marker": {
             "colorbar": {
              "outlinewidth": 0,
              "ticks": ""
             }
            },
            "type": "scattercarpet"
           }
          ],
          "scattergeo": [
           {
            "marker": {
             "colorbar": {
              "outlinewidth": 0,
              "ticks": ""
             }
            },
            "type": "scattergeo"
           }
          ],
          "scattergl": [
           {
            "marker": {
             "colorbar": {
              "outlinewidth": 0,
              "ticks": ""
             }
            },
            "type": "scattergl"
           }
          ],
          "scattermapbox": [
           {
            "marker": {
             "colorbar": {
              "outlinewidth": 0,
              "ticks": ""
             }
            },
            "type": "scattermapbox"
           }
          ],
          "scatterpolar": [
           {
            "marker": {
             "colorbar": {
              "outlinewidth": 0,
              "ticks": ""
             }
            },
            "type": "scatterpolar"
           }
          ],
          "scatterpolargl": [
           {
            "marker": {
             "colorbar": {
              "outlinewidth": 0,
              "ticks": ""
             }
            },
            "type": "scatterpolargl"
           }
          ],
          "scatterternary": [
           {
            "marker": {
             "colorbar": {
              "outlinewidth": 0,
              "ticks": ""
             }
            },
            "type": "scatterternary"
           }
          ],
          "surface": [
           {
            "colorbar": {
             "outlinewidth": 0,
             "ticks": ""
            },
            "colorscale": [
             [
              0,
              "#0d0887"
             ],
             [
              0.1111111111111111,
              "#46039f"
             ],
             [
              0.2222222222222222,
              "#7201a8"
             ],
             [
              0.3333333333333333,
              "#9c179e"
             ],
             [
              0.4444444444444444,
              "#bd3786"
             ],
             [
              0.5555555555555556,
              "#d8576b"
             ],
             [
              0.6666666666666666,
              "#ed7953"
             ],
             [
              0.7777777777777778,
              "#fb9f3a"
             ],
             [
              0.8888888888888888,
              "#fdca26"
             ],
             [
              1,
              "#f0f921"
             ]
            ],
            "type": "surface"
           }
          ],
          "table": [
           {
            "cells": {
             "fill": {
              "color": "#EBF0F8"
             },
             "line": {
              "color": "white"
             }
            },
            "header": {
             "fill": {
              "color": "#C8D4E3"
             },
             "line": {
              "color": "white"
             }
            },
            "type": "table"
           }
          ]
         },
         "layout": {
          "annotationdefaults": {
           "arrowcolor": "#2a3f5f",
           "arrowhead": 0,
           "arrowwidth": 1
          },
          "autotypenumbers": "strict",
          "coloraxis": {
           "colorbar": {
            "outlinewidth": 0,
            "ticks": ""
           }
          },
          "colorscale": {
           "diverging": [
            [
             0,
             "#8e0152"
            ],
            [
             0.1,
             "#c51b7d"
            ],
            [
             0.2,
             "#de77ae"
            ],
            [
             0.3,
             "#f1b6da"
            ],
            [
             0.4,
             "#fde0ef"
            ],
            [
             0.5,
             "#f7f7f7"
            ],
            [
             0.6,
             "#e6f5d0"
            ],
            [
             0.7,
             "#b8e186"
            ],
            [
             0.8,
             "#7fbc41"
            ],
            [
             0.9,
             "#4d9221"
            ],
            [
             1,
             "#276419"
            ]
           ],
           "sequential": [
            [
             0,
             "#0d0887"
            ],
            [
             0.1111111111111111,
             "#46039f"
            ],
            [
             0.2222222222222222,
             "#7201a8"
            ],
            [
             0.3333333333333333,
             "#9c179e"
            ],
            [
             0.4444444444444444,
             "#bd3786"
            ],
            [
             0.5555555555555556,
             "#d8576b"
            ],
            [
             0.6666666666666666,
             "#ed7953"
            ],
            [
             0.7777777777777778,
             "#fb9f3a"
            ],
            [
             0.8888888888888888,
             "#fdca26"
            ],
            [
             1,
             "#f0f921"
            ]
           ],
           "sequentialminus": [
            [
             0,
             "#0d0887"
            ],
            [
             0.1111111111111111,
             "#46039f"
            ],
            [
             0.2222222222222222,
             "#7201a8"
            ],
            [
             0.3333333333333333,
             "#9c179e"
            ],
            [
             0.4444444444444444,
             "#bd3786"
            ],
            [
             0.5555555555555556,
             "#d8576b"
            ],
            [
             0.6666666666666666,
             "#ed7953"
            ],
            [
             0.7777777777777778,
             "#fb9f3a"
            ],
            [
             0.8888888888888888,
             "#fdca26"
            ],
            [
             1,
             "#f0f921"
            ]
           ]
          },
          "colorway": [
           "#636efa",
           "#EF553B",
           "#00cc96",
           "#ab63fa",
           "#FFA15A",
           "#19d3f3",
           "#FF6692",
           "#B6E880",
           "#FF97FF",
           "#FECB52"
          ],
          "font": {
           "color": "#2a3f5f"
          },
          "geo": {
           "bgcolor": "white",
           "lakecolor": "white",
           "landcolor": "#E5ECF6",
           "showlakes": true,
           "showland": true,
           "subunitcolor": "white"
          },
          "hoverlabel": {
           "align": "left"
          },
          "hovermode": "closest",
          "mapbox": {
           "style": "light"
          },
          "paper_bgcolor": "white",
          "plot_bgcolor": "#E5ECF6",
          "polar": {
           "angularaxis": {
            "gridcolor": "white",
            "linecolor": "white",
            "ticks": ""
           },
           "bgcolor": "#E5ECF6",
           "radialaxis": {
            "gridcolor": "white",
            "linecolor": "white",
            "ticks": ""
           }
          },
          "scene": {
           "xaxis": {
            "backgroundcolor": "#E5ECF6",
            "gridcolor": "white",
            "gridwidth": 2,
            "linecolor": "white",
            "showbackground": true,
            "ticks": "",
            "zerolinecolor": "white"
           },
           "yaxis": {
            "backgroundcolor": "#E5ECF6",
            "gridcolor": "white",
            "gridwidth": 2,
            "linecolor": "white",
            "showbackground": true,
            "ticks": "",
            "zerolinecolor": "white"
           },
           "zaxis": {
            "backgroundcolor": "#E5ECF6",
            "gridcolor": "white",
            "gridwidth": 2,
            "linecolor": "white",
            "showbackground": true,
            "ticks": "",
            "zerolinecolor": "white"
           }
          },
          "shapedefaults": {
           "line": {
            "color": "#2a3f5f"
           }
          },
          "ternary": {
           "aaxis": {
            "gridcolor": "white",
            "linecolor": "white",
            "ticks": ""
           },
           "baxis": {
            "gridcolor": "white",
            "linecolor": "white",
            "ticks": ""
           },
           "bgcolor": "#E5ECF6",
           "caxis": {
            "gridcolor": "white",
            "linecolor": "white",
            "ticks": ""
           }
          },
          "title": {
           "x": 0.05
          },
          "xaxis": {
           "automargin": true,
           "gridcolor": "white",
           "linecolor": "white",
           "ticks": "",
           "title": {
            "standoff": 15
           },
           "zerolinecolor": "white",
           "zerolinewidth": 2
          },
          "yaxis": {
           "automargin": true,
           "gridcolor": "white",
           "linecolor": "white",
           "ticks": "",
           "title": {
            "standoff": 15
           },
           "zerolinecolor": "white",
           "zerolinewidth": 2
          }
         }
        },
        "title": {
         "text": "Associations overlap between gene burden and other sources"
        },
        "xaxis": {
         "anchor": "y",
         "domain": [
          0,
          0.45
         ],
         "range": [
          0,
          60
         ]
        },
        "xaxis2": {
         "anchor": "y2",
         "domain": [
          0.55,
          1
         ]
        },
        "yaxis": {
         "anchor": "x",
         "domain": [
          0,
          1
         ]
        },
        "yaxis2": {
         "anchor": "x2",
         "domain": [
          0,
          1
         ],
         "matches": "y",
         "showticklabels": false
        }
       }
      }
     },
     "metadata": {},
     "output_type": "display_data"
    }
   ],
   "source": [
    "fig7 = make_subplots(\n",
    "    rows=1, cols=2, shared_yaxes=True, shared_xaxes=True, specs=[[{\"type\": \"xy\"}, {\"type\": \"xy\"}]],\n",
    "    x_title='Overlap (%)', # y_title='Data source',\n",
    "    subplot_titles=('Binary traits', 'Quantitative traits'),\n",
    ")\n",
    "\n",
    "fig7.add_trace(go.Bar(\n",
    "    x=bin_indirect_overlap_between_sources.toPandas()['percentageOverlap'],\n",
    "    y=bin_indirect_overlap_between_sources.toPandas()['prettyDatasourceId'],\n",
    "    text=bin_indirect_overlap_between_sources.toPandas()['percentageOverlap'].apply(lambda x: f\"{'%.2f'%x}%\"),\n",
    "    orientation='h',\n",
    "    hovertemplate='%{y}: %{x}%<extra></extra>',\n",
    "    ), row=1, col=1,\n",
    "    )\n",
    "\n",
    "fig7.add_trace(go.Bar(\n",
    "    x=quant_indirect_overlap_between_sources.toPandas()['percentageOverlap'],\n",
    "    y=quant_indirect_overlap_between_sources.toPandas()['prettyDatasourceId'],\n",
    "    text=quant_indirect_overlap_between_sources.toPandas()['percentageOverlap'].apply(lambda x: f\"{'%.2f'%x}%\"),\n",
    "    orientation='h',\n",
    "    hovertemplate='%{y}: %{x}%<extra></extra>',\n",
    "    ), row=1, col=2)\n",
    "\n",
    "# fig7.update_layout(coloraxis=dict(colorscale='Bluered_r'), showlegend=False)\n",
    "\n",
    "fig7.update_layout(\n",
    "    title_text=\"Associations overlap between gene burden and other sources\",\n",
    "    xaxis_range=[0,60],\n",
    "    showlegend=False, height=600)\n",
    "py.plot(fig7, filename = 'assoc_ot_burden_overlap', auto_open=True)\n",
    "fig7.show()"
   ]
  },
  {
   "cell_type": "code",
   "execution_count": 31,
   "metadata": {},
   "outputs": [
    {
     "name": "stdout",
     "output_type": "stream",
     "text": [
      "Count of targets in gene_burden: 1848\n",
      "Count of overlapping targets with ClinVar: 881 (47.67316017316017%)\n"
     ]
    }
   ],
   "source": [
    "# Overlap with ClinVar is surprisingly low\n",
    "# AZ was reporting a 90% overlap with ClinVar in the number of genes. Do I see this?\n",
    "\n",
    "tmp = (\n",
    "    burden_indirect_assocs.join(\n",
    "        spark.read.parquet('/Users/irene/Documents/dev/pyspark/22.02.4/evidence')\n",
    "        .filter((F.col('datasourceId') == 'eva') | (F.col('datasourceId') == 'eva_somatic')),\n",
    "        on='targetId', how='inner')\n",
    "    .select('targetId').distinct().count()\n",
    ")\n",
    "\n",
    "print(f\"Count of targets in gene_burden: {burden_indirect_assocs.select('targetId').distinct().count()}\")\n",
    "print(f\"Count of overlapping targets with ClinVar: {tmp} ({tmp / burden_indirect_assocs.select('targetId').distinct().count() * 100}%)\")"
   ]
  },
  {
   "cell_type": "code",
   "execution_count": 33,
   "metadata": {},
   "outputs": [
    {
     "data": {
      "text/plain": [
       "Text(0.5, 1.0, 'Targets overlap with ClinVar')"
      ]
     },
     "execution_count": 33,
     "metadata": {},
     "output_type": "execute_result"
    },
    {
     "data": {
      "image/png": "[encoded data removed]",
      "text/plain": [
       "<Figure size 576x576 with 1 Axes>"
      ]
     },
     "metadata": {},
     "output_type": "display_data"
    }
   ],
   "source": [
    "# Is REGENERON providing the novel targets? No\n",
    "\n",
    "tmp = (\n",
    "    spark.read.parquet('/Users/irene/Documents/dev/pyspark/22.04.4/associationByDatasourceIndirect')\n",
    "    .filter((F.col('datasourceId') == 'eva') | (F.col('datasourceId') == 'eva_somatic'))\n",
    "    .select('targetId').distinct())\n",
    "\n",
    "targets_overlap_sets = {\n",
    "    'AstraZeneca': set(\n",
    "        az_assocs.select('targetId').distinct().toPandas()['targetId'].tolist()\n",
    "    ),\n",
    "    'REGENERON': set(\n",
    "        regeneron_assocs.select('targetId').distinct().toPandas()['targetId'].tolist()\n",
    "    ),\n",
    "    'ClinVar': set(\n",
    "        tmp.toPandas()['targetId'].tolist()\n",
    "    )\n",
    "}\n",
    "\n",
    "venn(targets_overlap_sets, legend_loc=\"best\")\n",
    "plt.title('Targets overlap with ClinVar', fontsize=20)"
   ]
  },
  {
   "cell_type": "code",
   "execution_count": 42,
   "metadata": {},
   "outputs": [
    {
     "data": {
      "application/vnd.plotly.v1+json": {
       "config": {
        "plotlyServerURL": "https://plotly.com"
       },
       "data": [
        {
         "hovertemplate": "%{y}: %{x}%<extra></extra>",
         "orientation": "h",
         "type": "bar",
         "x": [
          0.4859086491739553,
          5.8794946550048595,
          7.774538386783285,
          2.380952380952381,
          4.470359572400389,
          4.324586977648202,
          5.442176870748299,
          8.794946550048591,
          3.9358600583090384,
          11.613216715257533,
          2.672497570456754,
          6.511175898931001,
          4.081632653061225,
          9.66958211856171,
          11.41885325558795,
          0.048590864917395525
         ],
         "xaxis": "x",
         "y": [
          "CRISPR",
          "Uniprot Variants",
          "GE Panel App",
          "ChEMBL",
          "SLAPenrich",
          "IntOGen",
          "Orphanet",
          "Cancer Gene Census",
          "ClinGen",
          "ClinVar",
          "Gene2Phenotype",
          "Uniprot Literature",
          "ClinVar Somatic",
          "Genetics Portal",
          "IMPC",
          "PROGENy"
         ],
         "yaxis": "y"
        },
        {
         "hovertemplate": "%{y}: %{x}%<extra></extra>",
         "orientation": "h",
         "type": "bar",
         "x": [
          10.04267425320057,
          0.21337126600284498,
          0.07112375533428165
         ],
         "xaxis": "x2",
         "y": [
          "Genetics Portal",
          "IMPC",
          "ClinVar"
         ],
         "yaxis": "y2"
        }
       ],
       "layout": {
        "annotations": [
         {
          "font": {
           "size": 16
          },
          "showarrow": false,
          "text": "Binary traits",
          "x": 0.225,
          "xanchor": "center",
          "xref": "paper",
          "y": 1,
          "yanchor": "bottom",
          "yref": "paper"
         },
         {
          "font": {
           "size": 16
          },
          "showarrow": false,
          "text": "Quantitative traits",
          "x": 0.775,
          "xanchor": "center",
          "xref": "paper",
          "y": 1,
          "yanchor": "bottom",
          "yref": "paper"
         },
         {
          "font": {
           "size": 16
          },
          "showarrow": false,
          "text": "Overlap (%)",
          "x": 0.5,
          "xanchor": "center",
          "xref": "paper",
          "y": 0,
          "yanchor": "top",
          "yref": "paper",
          "yshift": -30
         }
        ],
        "height": 600,
        "showlegend": false,
        "template": {
         "data": {
          "bar": [
           {
            "error_x": {
             "color": "#2a3f5f"
            },
            "error_y": {
             "color": "#2a3f5f"
            },
            "marker": {
             "line": {
              "color": "#E5ECF6",
              "width": 0.5
             },
             "pattern": {
              "fillmode": "overlay",
              "size": 10,
              "solidity": 0.2
             }
            },
            "type": "bar"
           }
          ],
          "barpolar": [
           {
            "marker": {
             "line": {
              "color": "#E5ECF6",
              "width": 0.5
             },
             "pattern": {
              "fillmode": "overlay",
              "size": 10,
              "solidity": 0.2
             }
            },
            "type": "barpolar"
           }
          ],
          "carpet": [
           {
            "aaxis": {
             "endlinecolor": "#2a3f5f",
             "gridcolor": "white",
             "linecolor": "white",
             "minorgridcolor": "white",
             "startlinecolor": "#2a3f5f"
            },
            "baxis": {
             "endlinecolor": "#2a3f5f",
             "gridcolor": "white",
             "linecolor": "white",
             "minorgridcolor": "white",
             "startlinecolor": "#2a3f5f"
            },
            "type": "carpet"
           }
          ],
          "choropleth": [
           {
            "colorbar": {
             "outlinewidth": 0,
             "ticks": ""
            },
            "type": "choropleth"
           }
          ],
          "contour": [
           {
            "colorbar": {
             "outlinewidth": 0,
             "ticks": ""
            },
            "colorscale": [
             [
              0,
              "#0d0887"
             ],
             [
              0.1111111111111111,
              "#46039f"
             ],
             [
              0.2222222222222222,
              "#7201a8"
             ],
             [
              0.3333333333333333,
              "#9c179e"
             ],
             [
              0.4444444444444444,
              "#bd3786"
             ],
             [
              0.5555555555555556,
              "#d8576b"
             ],
             [
              0.6666666666666666,
              "#ed7953"
             ],
             [
              0.7777777777777778,
              "#fb9f3a"
             ],
             [
              0.8888888888888888,
              "#fdca26"
             ],
             [
              1,
              "#f0f921"
             ]
            ],
            "type": "contour"
           }
          ],
          "contourcarpet": [
           {
            "colorbar": {
             "outlinewidth": 0,
             "ticks": ""
            },
            "type": "contourcarpet"
           }
          ],
          "heatmap": [
           {
            "colorbar": {
             "outlinewidth": 0,
             "ticks": ""
            },
            "colorscale": [
             [
              0,
              "#0d0887"
             ],
             [
              0.1111111111111111,
              "#46039f"
             ],
             [
              0.2222222222222222,
              "#7201a8"
             ],
             [
              0.3333333333333333,
              "#9c179e"
             ],
             [
              0.4444444444444444,
              "#bd3786"
             ],
             [
              0.5555555555555556,
              "#d8576b"
             ],
             [
              0.6666666666666666,
              "#ed7953"
             ],
             [
              0.7777777777777778,
              "#fb9f3a"
             ],
             [
              0.8888888888888888,
              "#fdca26"
             ],
             [
              1,
              "#f0f921"
             ]
            ],
            "type": "heatmap"
           }
          ],
          "heatmapgl": [
           {
            "colorbar": {
             "outlinewidth": 0,
             "ticks": ""
            },
            "colorscale": [
             [
              0,
              "#0d0887"
             ],
             [
              0.1111111111111111,
              "#46039f"
             ],
             [
              0.2222222222222222,
              "#7201a8"
             ],
             [
              0.3333333333333333,
              "#9c179e"
             ],
             [
              0.4444444444444444,
              "#bd3786"
             ],
             [
              0.5555555555555556,
              "#d8576b"
             ],
             [
              0.6666666666666666,
              "#ed7953"
             ],
             [
              0.7777777777777778,
              "#fb9f3a"
             ],
             [
              0.8888888888888888,
              "#fdca26"
             ],
             [
              1,
              "#f0f921"
             ]
            ],
            "type": "heatmapgl"
           }
          ],
          "histogram": [
           {
            "marker": {
             "pattern": {
              "fillmode": "overlay",
              "size": 10,
              "solidity": 0.2
             }
            },
            "type": "histogram"
           }
          ],
          "histogram2d": [
           {
            "colorbar": {
             "outlinewidth": 0,
             "ticks": ""
            },
            "colorscale": [
             [
              0,
              "#0d0887"
             ],
             [
              0.1111111111111111,
              "#46039f"
             ],
             [
              0.2222222222222222,
              "#7201a8"
             ],
             [
              0.3333333333333333,
              "#9c179e"
             ],
             [
              0.4444444444444444,
              "#bd3786"
             ],
             [
              0.5555555555555556,
              "#d8576b"
             ],
             [
              0.6666666666666666,
              "#ed7953"
             ],
             [
              0.7777777777777778,
              "#fb9f3a"
             ],
             [
              0.8888888888888888,
              "#fdca26"
             ],
             [
              1,
              "#f0f921"
             ]
            ],
            "type": "histogram2d"
           }
          ],
          "histogram2dcontour": [
           {
            "colorbar": {
             "outlinewidth": 0,
             "ticks": ""
            },
            "colorscale": [
             [
              0,
              "#0d0887"
             ],
             [
              0.1111111111111111,
              "#46039f"
             ],
             [
              0.2222222222222222,
              "#7201a8"
             ],
             [
              0.3333333333333333,
              "#9c179e"
             ],
             [
              0.4444444444444444,
              "#bd3786"
             ],
             [
              0.5555555555555556,
              "#d8576b"
             ],
             [
              0.6666666666666666,
              "#ed7953"
             ],
             [
              0.7777777777777778,
              "#fb9f3a"
             ],
             [
              0.8888888888888888,
              "#fdca26"
             ],
             [
              1,
              "#f0f921"
             ]
            ],
            "type": "histogram2dcontour"
           }
          ],
          "mesh3d": [
           {
            "colorbar": {
             "outlinewidth": 0,
             "ticks": ""
            },
            "type": "mesh3d"
           }
          ],
          "parcoords": [
           {
            "line": {
             "colorbar": {
              "outlinewidth": 0,
              "ticks": ""
             }
            },
            "type": "parcoords"
           }
          ],
          "pie": [
           {
            "automargin": true,
            "type": "pie"
           }
          ],
          "scatter": [
           {
            "fillpattern": {
             "fillmode": "overlay",
             "size": 10,
             "solidity": 0.2
            },
            "type": "scatter"
           }
          ],
          "scatter3d": [
           {
            "line": {
             "colorbar": {
              "outlinewidth": 0,
              "ticks": ""
             }
            },
            "marker": {
             "colorbar": {
              "outlinewidth": 0,
              "ticks": ""
             }
            },
            "type": "scatter3d"
           }
          ],
          "scattercarpet": [
           {
            "marker": {
             "colorbar": {
              "outlinewidth": 0,
              "ticks": ""
             }
            },
            "type": "scattercarpet"
           }
          ],
          "scattergeo": [
           {
            "marker": {
             "colorbar": {
              "outlinewidth": 0,
              "ticks": ""
             }
            },
            "type": "scattergeo"
           }
          ],
          "scattergl": [
           {
            "marker": {
             "colorbar": {
              "outlinewidth": 0,
              "ticks": ""
             }
            },
            "type": "scattergl"
           }
          ],
          "scattermapbox": [
           {
            "marker": {
             "colorbar": {
              "outlinewidth": 0,
              "ticks": ""
             }
            },
            "type": "scattermapbox"
           }
          ],
          "scatterpolar": [
           {
            "marker": {
             "colorbar": {
              "outlinewidth": 0,
              "ticks": ""
             }
            },
            "type": "scatterpolar"
           }
          ],
          "scatterpolargl": [
           {
            "marker": {
             "colorbar": {
              "outlinewidth": 0,
              "ticks": ""
             }
            },
            "type": "scatterpolargl"
           }
          ],
          "scatterternary": [
           {
            "marker": {
             "colorbar": {
              "outlinewidth": 0,
              "ticks": ""
             }
            },
            "type": "scatterternary"
           }
          ],
          "surface": [
           {
            "colorbar": {
             "outlinewidth": 0,
             "ticks": ""
            },
            "colorscale": [
             [
              0,
              "#0d0887"
             ],
             [
              0.1111111111111111,
              "#46039f"
             ],
             [
              0.2222222222222222,
              "#7201a8"
             ],
             [
              0.3333333333333333,
              "#9c179e"
             ],
             [
              0.4444444444444444,
              "#bd3786"
             ],
             [
              0.5555555555555556,
              "#d8576b"
             ],
             [
              0.6666666666666666,
              "#ed7953"
             ],
             [
              0.7777777777777778,
              "#fb9f3a"
             ],
             [
              0.8888888888888888,
              "#fdca26"
             ],
             [
              1,
              "#f0f921"
             ]
            ],
            "type": "surface"
           }
          ],
          "table": [
           {
            "cells": {
             "fill": {
              "color": "#EBF0F8"
             },
             "line": {
              "color": "white"
             }
            },
            "header": {
             "fill": {
              "color": "#C8D4E3"
             },
             "line": {
              "color": "white"
             }
            },
            "type": "table"
           }
          ]
         },
         "layout": {
          "annotationdefaults": {
           "arrowcolor": "#2a3f5f",
           "arrowhead": 0,
           "arrowwidth": 1
          },
          "autotypenumbers": "strict",
          "coloraxis": {
           "colorbar": {
            "outlinewidth": 0,
            "ticks": ""
           }
          },
          "colorscale": {
           "diverging": [
            [
             0,
             "#8e0152"
            ],
            [
             0.1,
             "#c51b7d"
            ],
            [
             0.2,
             "#de77ae"
            ],
            [
             0.3,
             "#f1b6da"
            ],
            [
             0.4,
             "#fde0ef"
            ],
            [
             0.5,
             "#f7f7f7"
            ],
            [
             0.6,
             "#e6f5d0"
            ],
            [
             0.7,
             "#b8e186"
            ],
            [
             0.8,
             "#7fbc41"
            ],
            [
             0.9,
             "#4d9221"
            ],
            [
             1,
             "#276419"
            ]
           ],
           "sequential": [
            [
             0,
             "#0d0887"
            ],
            [
             0.1111111111111111,
             "#46039f"
            ],
            [
             0.2222222222222222,
             "#7201a8"
            ],
            [
             0.3333333333333333,
             "#9c179e"
            ],
            [
             0.4444444444444444,
             "#bd3786"
            ],
            [
             0.5555555555555556,
             "#d8576b"
            ],
            [
             0.6666666666666666,
             "#ed7953"
            ],
            [
             0.7777777777777778,
             "#fb9f3a"
            ],
            [
             0.8888888888888888,
             "#fdca26"
            ],
            [
             1,
             "#f0f921"
            ]
           ],
           "sequentialminus": [
            [
             0,
             "#0d0887"
            ],
            [
             0.1111111111111111,
             "#46039f"
            ],
            [
             0.2222222222222222,
             "#7201a8"
            ],
            [
             0.3333333333333333,
             "#9c179e"
            ],
            [
             0.4444444444444444,
             "#bd3786"
            ],
            [
             0.5555555555555556,
             "#d8576b"
            ],
            [
             0.6666666666666666,
             "#ed7953"
            ],
            [
             0.7777777777777778,
             "#fb9f3a"
            ],
            [
             0.8888888888888888,
             "#fdca26"
            ],
            [
             1,
             "#f0f921"
            ]
           ]
          },
          "colorway": [
           "#636efa",
           "#EF553B",
           "#00cc96",
           "#ab63fa",
           "#FFA15A",
           "#19d3f3",
           "#FF6692",
           "#B6E880",
           "#FF97FF",
           "#FECB52"
          ],
          "font": {
           "color": "#2a3f5f"
          },
          "geo": {
           "bgcolor": "white",
           "lakecolor": "white",
           "landcolor": "#E5ECF6",
           "showlakes": true,
           "showland": true,
           "subunitcolor": "white"
          },
          "hoverlabel": {
           "align": "left"
          },
          "hovermode": "closest",
          "mapbox": {
           "style": "light"
          },
          "paper_bgcolor": "white",
          "plot_bgcolor": "#E5ECF6",
          "polar": {
           "angularaxis": {
            "gridcolor": "white",
            "linecolor": "white",
            "ticks": ""
           },
           "bgcolor": "#E5ECF6",
           "radialaxis": {
            "gridcolor": "white",
            "linecolor": "white",
            "ticks": ""
           }
          },
          "scene": {
           "xaxis": {
            "backgroundcolor": "#E5ECF6",
            "gridcolor": "white",
            "gridwidth": 2,
            "linecolor": "white",
            "showbackground": true,
            "ticks": "",
            "zerolinecolor": "white"
           },
           "yaxis": {
            "backgroundcolor": "#E5ECF6",
            "gridcolor": "white",
            "gridwidth": 2,
            "linecolor": "white",
            "showbackground": true,
            "ticks": "",
            "zerolinecolor": "white"
           },
           "zaxis": {
            "backgroundcolor": "#E5ECF6",
            "gridcolor": "white",
            "gridwidth": 2,
            "linecolor": "white",
            "showbackground": true,
            "ticks": "",
            "zerolinecolor": "white"
           }
          },
          "shapedefaults": {
           "line": {
            "color": "#2a3f5f"
           }
          },
          "ternary": {
           "aaxis": {
            "gridcolor": "white",
            "linecolor": "white",
            "ticks": ""
           },
           "baxis": {
            "gridcolor": "white",
            "linecolor": "white",
            "ticks": ""
           },
           "bgcolor": "#E5ECF6",
           "caxis": {
            "gridcolor": "white",
            "linecolor": "white",
            "ticks": ""
           }
          },
          "title": {
           "x": 0.05
          },
          "xaxis": {
           "automargin": true,
           "gridcolor": "white",
           "linecolor": "white",
           "ticks": "",
           "title": {
            "standoff": 15
           },
           "zerolinecolor": "white",
           "zerolinewidth": 2
          },
          "yaxis": {
           "automargin": true,
           "gridcolor": "white",
           "linecolor": "white",
           "ticks": "",
           "title": {
            "standoff": 15
           },
           "zerolinecolor": "white",
           "zerolinewidth": 2
          }
         }
        },
        "title": {
         "text": "Overlap between PTV based gene burden associations and other sources"
        },
        "xaxis": {
         "anchor": "y",
         "domain": [
          0,
          0.45
         ],
         "range": [
          0,
          60
         ]
        },
        "xaxis2": {
         "anchor": "y2",
         "domain": [
          0.55,
          1
         ]
        },
        "yaxis": {
         "anchor": "x",
         "domain": [
          0,
          1
         ]
        },
        "yaxis2": {
         "anchor": "x2",
         "domain": [
          0,
          1
         ],
         "matches": "y",
         "showticklabels": false
        }
       }
      }
     },
     "metadata": {},
     "output_type": "display_data"
    }
   ],
   "source": [
    "# Is the overlap only referring to associations based on PTVs? Apparently not...\n",
    "\n",
    "bin_ptv_overlap_between_sources = (\n",
    "\n",
    "    # I first get all common associations across sources for binary traits\n",
    "    burden_indirect_assocs.filter(F.col('diseaseId').isin(gene_burden_bin_dis))\n",
    "\n",
    "    # Keep only associations with PTVs\n",
    "    .join(\n",
    "        evd.filter(F.col('statisticalMethod').contains('ptv')).select('targetId', 'diseaseId').distinct(),\n",
    "        on=['targetId', 'diseaseId'], how='inner'\n",
    "    )\n",
    "\n",
    "    .join(otp_indirect_assocs, how='inner', on=['targetId', 'diseaseId'])\n",
    "    .distinct()\n",
    "\n",
    "    # Break down by data source and percentage relative to the total number of associations\n",
    "    .groupBy('datasourceId').count()\n",
    "    .withColumn('percentageOverlap', F.col('count') / num_gene_burden_bin_assocs * 100)\n",
    "    .withColumn('prettyDatasourceId', F.col('datasourceId')).replace(to_replace=PRETTY_DATASOURCE_NAMES, subset=['prettyDatasourceId'])\n",
    ")\n",
    "\n",
    "quant_ptv_overlap_between_sources = (\n",
    "\n",
    "    # I first get all common associations across sources for quantitative traits\n",
    "    burden_indirect_assocs.filter(~F.col('diseaseId').isin(gene_burden_bin_dis))\n",
    "\n",
    "    # Keep only associations with PTVs\n",
    "    .join(\n",
    "        evd.filter(F.col('statisticalMethod').contains('ptv')).select('targetId', 'diseaseId').distinct(),\n",
    "        on=['targetId', 'diseaseId'], how='inner'\n",
    "    )\n",
    "\n",
    "    .join(otp_indirect_assocs, how='inner', on=['targetId', 'diseaseId'])\n",
    "    .distinct()\n",
    "\n",
    "    # Break down by data source and percentage relative to the total number of associations\n",
    "    .groupBy('datasourceId').count()\n",
    "    .withColumn('percentageOverlap', F.col('count') / num_gene_burden_quant_assocs * 100)\n",
    "    .withColumn('prettyDatasourceId', F.col('datasourceId')).replace(to_replace=PRETTY_DATASOURCE_NAMES, subset=['prettyDatasourceId'])\n",
    ")\n",
    "\n",
    "fig7b = make_subplots(\n",
    "    rows=1, cols=2, shared_yaxes=True, specs=[[{\"type\": \"xy\"}, {\"type\": \"xy\"}]],\n",
    "    x_title='Overlap (%)', # y_title='Data source',\n",
    "    subplot_titles=('Binary traits', 'Quantitative traits'),\n",
    ")\n",
    "\n",
    "fig7b.add_trace(go.Bar(\n",
    "    x=bin_ptv_overlap_between_sources.toPandas()['percentageOverlap'],\n",
    "    y=bin_ptv_overlap_between_sources.toPandas()['prettyDatasourceId'],\n",
    "    orientation='h',\n",
    "    hovertemplate='%{y}: %{x}%<extra></extra>',\n",
    "    ), row=1, col=1)\n",
    "\n",
    "fig7b.add_trace(go.Bar(\n",
    "    x=quant_ptv_overlap_between_sources.toPandas()['percentageOverlap'],\n",
    "    y=quant_ptv_overlap_between_sources.toPandas()['prettyDatasourceId'],\n",
    "    orientation='h',\n",
    "    hovertemplate='%{y}: %{x}%<extra></extra>',\n",
    "    ), row=1, col=2)\n",
    "\n",
    "# fig7.update_layout(coloraxis=dict(colorscale='Bluered_r'), showlegend=False)\n",
    "\n",
    "fig7b.update_layout(\n",
    "    title_text=\"Overlap between PTV based gene burden associations and other sources\",\n",
    "    xaxis_range=[0,60],\n",
    "    showlegend=False, height=600)\n",
    "#py.plot(fig7, filename = 'assoc_ot_burden_overlap', auto_open=True)\n",
    "fig7b.show()"
   ]
  },
  {
   "cell_type": "markdown",
   "metadata": {},
   "source": [
    "### 2. PheWAS plot with all data sources. (X-axis: traits ordered by TA; Y-axis:-log2 assoc score)"
   ]
  },
  {
   "cell_type": "code",
   "execution_count": 70,
   "metadata": {},
   "outputs": [],
   "source": [
    "# Snippet to extract most relevant TA - also used in V2D\n",
    "\n",
    "THERAPEUTIC_AREAS = {\n",
    "    # I had to add 'OTAR_0000020' (nutritional or metabolic disease) and 'MONDO_0100336' (infectious disease or post-infectious disorder)\n",
    "    # because they were not in the list\n",
    "    'therapeutic_area': [\n",
    "        'cell proliferation disorder',\n",
    "        'infectious disease',\n",
    "        'infectious disease or post-infectious disorder',\n",
    "        'pregnancy or perinatal disease',\n",
    "        'animal disease',\n",
    "        'disease of visual system',\n",
    "        'cardiovascular disease',\n",
    "        'pancreas disease',\n",
    "        'gastrointestinal disease',\n",
    "        'reproductive system or breast disease',\n",
    "        'integumentary system disease',\n",
    "        'endocrine system disease',\n",
    "        'nutritional or metabolic disease',\n",
    "        'respiratory or thoracic disease',\n",
    "        'urinary system disease',\n",
    "        'musculoskeletal or connective tissue disease',\n",
    "        'disease of ear',\n",
    "        'immune system disease',\n",
    "        'hematologic disease',\n",
    "        'nervous system disease',\n",
    "        'psychiatric disorder',\n",
    "        'nutritional or metabolic disease',\n",
    "        'genetic, familial or congenital disease',\n",
    "        'injury, poisoning or other complication',\n",
    "        'phenotype',\n",
    "        'measurement',\n",
    "        'biological process',\n",
    "    ],\n",
    "    'id': [\n",
    "        'MONDO_0045024',\n",
    "        'EFO_0005741',\n",
    "        'MONDO_0100336',\n",
    "        'OTAR_0000014',\n",
    "        'EFO_0005932',\n",
    "        'MONDO_0024458',\n",
    "        'EFO_0000319',\n",
    "        'EFO_0009605',\n",
    "        'EFO_0010282',\n",
    "        'OTAR_0000017',\n",
    "        'EFO_0010285',\n",
    "        'EFO_0001379',\n",
    "        'OTAR_0000020',\n",
    "        'OTAR_0000010',\n",
    "        'EFO_0009690',\n",
    "        'OTAR_0000006',\n",
    "        'MONDO_0021205',\n",
    "        'EFO_0000540',\n",
    "        'EFO_0005803',\n",
    "        'EFO_0000618',\n",
    "        'MONDO_0002025',\n",
    "        'MONDO_0024297',\n",
    "        'OTAR_0000018',\n",
    "        'OTAR_0000009',\n",
    "        'EFO_0000651',\n",
    "        'EFO_0001444',\n",
    "        'GO_0008150',\n",
    "    ],\n",
    "}\n",
    "SORTED_TAS_DF = pd.DataFrame(data=THERAPEUTIC_AREAS)\n",
    "\n",
    "def get_prioritised_therapeutic_area(\n",
    "    therapeutic_areas,\n",
    ") -> str:\n",
    "    \"\"\"\n",
    "    SORTED_TAS_DF is a df where the therapeutic areas are arranged in order of relevance.\n",
    "    The more relevant TA is extracted by selecting which one has the minimal index.\n",
    "    \"\"\"\n",
    "    try:\n",
    "        if len(therapeutic_areas) > 0:\n",
    "            min_index = float('inf')\n",
    "            for ta in therapeutic_areas:\n",
    "                idx = SORTED_TAS_DF.index[SORTED_TAS_DF['id'] == ta]\n",
    "                if idx < min_index:\n",
    "                    min_index = idx\n",
    "            ta = SORTED_TAS_DF.iloc[min_index][\"therapeutic_area\"].values[0]\n",
    "            return ta\n",
    "    except TypeError:\n",
    "        return \"Uncategorised\"\n",
    "    except Exception as e:\n",
    "        raise e"
   ]
  },
  {
   "cell_type": "code",
   "execution_count": 71,
   "metadata": {},
   "outputs": [
    {
     "name": "stdout",
     "output_type": "stream",
     "text": [
      "+-----------+------------+---------------+--------------------+----------------+\n",
      "|  diseaseId|datasourceId|       targetId|               score|therapeuticAreas|\n",
      "+-----------+------------+---------------+--------------------+----------------+\n",
      "|EFO_0000595|   europepmc|ENSG00000075624|0.012158615952232422| [MONDO_0045024]|\n",
      "|EFO_0000595|   europepmc|ENSG00000125618| 0.01823792392834863| [MONDO_0045024]|\n",
      "|EFO_0000595|   europepmc|ENSG00000135903| 0.03647584785669726| [MONDO_0045024]|\n",
      "|EFO_0000595|   europepmc|ENSG00000171791|0.030396539880581056| [MONDO_0045024]|\n",
      "|EFO_0000595|   europepmc|ENSG00000175084|0.012158615952232422| [MONDO_0045024]|\n",
      "+-----------+------------+---------------+--------------------+----------------+\n",
      "only showing top 5 rows\n",
      "\n"
     ]
    }
   ],
   "source": [
    "ind_assocs = (\n",
    "    spark.read.parquet('/Users/irenelopez/Documents/dev/pyspark/22.11/associationByDatasourceIndirect')\n",
    "    .select('datasourceId', 'diseaseId', 'targetId', 'score')\n",
    "\n",
    "    # Get list of therapeutic areas from disease index\n",
    "    .join(\n",
    "        spark.read.parquet(Path.joinpath(ROOT / 'data/diseases').as_posix()).select(F.col('id').alias('diseaseId'), 'therapeuticAreas'),\n",
    "        on='diseaseId', how='left'\n",
    "    )\n",
    ")\n",
    "\n",
    "ind_assocs.show(5)"
   ]
  },
  {
   "cell_type": "code",
   "execution_count": 72,
   "metadata": {},
   "outputs": [
    {
     "name": "stderr",
     "output_type": "stream",
     "text": [
      "/var/folders/54/2j7x_lqn343_d6hjm7mcv9rc0000gn/T/ipykernel_8715/1604393622.py:79: DeprecationWarning:\n",
      "\n",
      "The truth value of an empty array is ambiguous. Returning False, but in future this will result in an error. Use `array.size > 0` to check that an array is not empty.\n",
      "\n"
     ]
    },
    {
     "data": {
      "text/html": [
       "<div>\n",
       "<style scoped>\n",
       "    .dataframe tbody tr th:only-of-type {\n",
       "        vertical-align: middle;\n",
       "    }\n",
       "\n",
       "    .dataframe tbody tr th {\n",
       "        vertical-align: top;\n",
       "    }\n",
       "\n",
       "    .dataframe thead th {\n",
       "        text-align: right;\n",
       "    }\n",
       "</style>\n",
       "<table border=\"1\" class=\"dataframe\">\n",
       "  <thead>\n",
       "    <tr style=\"text-align: right;\">\n",
       "      <th></th>\n",
       "      <th>diseaseId</th>\n",
       "      <th>therapeuticAreas</th>\n",
       "      <th>therapeuticCategory</th>\n",
       "    </tr>\n",
       "  </thead>\n",
       "  <tbody>\n",
       "    <tr>\n",
       "      <th>0</th>\n",
       "      <td>EFO_0009177</td>\n",
       "      <td>[EFO_0001444]</td>\n",
       "      <td>measurement</td>\n",
       "    </tr>\n",
       "    <tr>\n",
       "      <th>1</th>\n",
       "      <td>EFO_0009904</td>\n",
       "      <td>[OTAR_0000018, EFO_0000618]</td>\n",
       "      <td>nervous system disease</td>\n",
       "    </tr>\n",
       "    <tr>\n",
       "      <th>2</th>\n",
       "      <td>EFO_0009938</td>\n",
       "      <td>[EFO_0001444]</td>\n",
       "      <td>measurement</td>\n",
       "    </tr>\n",
       "    <tr>\n",
       "      <th>3</th>\n",
       "      <td>EFO_0007633</td>\n",
       "      <td>[GO_0008150]</td>\n",
       "      <td>biological process</td>\n",
       "    </tr>\n",
       "    <tr>\n",
       "      <th>4</th>\n",
       "      <td>EFO_0009167</td>\n",
       "      <td>[GO_0008150]</td>\n",
       "      <td>biological process</td>\n",
       "    </tr>\n",
       "    <tr>\n",
       "      <th>...</th>\n",
       "      <td>...</td>\n",
       "      <td>...</td>\n",
       "      <td>...</td>\n",
       "    </tr>\n",
       "    <tr>\n",
       "      <th>16595</th>\n",
       "      <td>EFO_1000653</td>\n",
       "      <td>[OTAR_0000006]</td>\n",
       "      <td>musculoskeletal or connective tissue disease</td>\n",
       "    </tr>\n",
       "    <tr>\n",
       "      <th>16596</th>\n",
       "      <td>EFO_0002502</td>\n",
       "      <td>[EFO_0001379, EFO_0000540, EFO_0009605, EFO_00...</td>\n",
       "      <td>pancreas disease</td>\n",
       "    </tr>\n",
       "    <tr>\n",
       "      <th>16597</th>\n",
       "      <td>Orphanet_98806</td>\n",
       "      <td>[OTAR_0000018, EFO_0000618]</td>\n",
       "      <td>nervous system disease</td>\n",
       "    </tr>\n",
       "    <tr>\n",
       "      <th>16598</th>\n",
       "      <td>HP_0000974</td>\n",
       "      <td>[EFO_0000651]</td>\n",
       "      <td>phenotype</td>\n",
       "    </tr>\n",
       "    <tr>\n",
       "      <th>16599</th>\n",
       "      <td>HP_0000479</td>\n",
       "      <td>[EFO_0000651]</td>\n",
       "      <td>phenotype</td>\n",
       "    </tr>\n",
       "  </tbody>\n",
       "</table>\n",
       "<p>16600 rows × 3 columns</p>\n",
       "</div>"
      ],
      "text/plain": [
       "            diseaseId                                   therapeuticAreas  \\\n",
       "0         EFO_0009177                                      [EFO_0001444]   \n",
       "1         EFO_0009904                        [OTAR_0000018, EFO_0000618]   \n",
       "2         EFO_0009938                                      [EFO_0001444]   \n",
       "3         EFO_0007633                                       [GO_0008150]   \n",
       "4         EFO_0009167                                       [GO_0008150]   \n",
       "...               ...                                                ...   \n",
       "16595     EFO_1000653                                     [OTAR_0000006]   \n",
       "16596     EFO_0002502  [EFO_0001379, EFO_0000540, EFO_0009605, EFO_00...   \n",
       "16597  Orphanet_98806                        [OTAR_0000018, EFO_0000618]   \n",
       "16598      HP_0000974                                      [EFO_0000651]   \n",
       "16599      HP_0000479                                      [EFO_0000651]   \n",
       "\n",
       "                                therapeuticCategory  \n",
       "0                                       measurement  \n",
       "1                            nervous system disease  \n",
       "2                                       measurement  \n",
       "3                                biological process  \n",
       "4                                biological process  \n",
       "...                                             ...  \n",
       "16595  musculoskeletal or connective tissue disease  \n",
       "16596                              pancreas disease  \n",
       "16597                        nervous system disease  \n",
       "16598                                     phenotype  \n",
       "16599                                     phenotype  \n",
       "\n",
       "[16600 rows x 3 columns]"
      ]
     },
     "execution_count": 72,
     "metadata": {},
     "output_type": "execute_result"
    }
   ],
   "source": [
    "# Logic is built with Pandas\n",
    "\n",
    "ind_diseases_pdf = ind_assocs.select('diseaseId', 'therapeuticAreas').distinct().toPandas()\n",
    "ind_diseases_pdf['therapeuticCategory'] = (\n",
    "    ind_diseases_pdf['therapeuticAreas'].apply(get_prioritised_therapeutic_area)   \n",
    ")\n",
    "\n",
    "ind_diseases_pdf\n"
   ]
  },
  {
   "cell_type": "code",
   "execution_count": 79,
   "metadata": {},
   "outputs": [
    {
     "name": "stdout",
     "output_type": "stream",
     "text": [
      "+-----------+------------+---------------+--------------------+----------------+--------------------+--------------------+\n",
      "|  diseaseId|datasourceId|       targetId|               score|therapeuticAreas| therapeuticCategory|           log2score|\n",
      "+-----------+------------+---------------+--------------------+----------------+--------------------+--------------------+\n",
      "|EFO_0000595|   europepmc|ENSG00000075624|0.012158615952232422| [MONDO_0045024]|cell proliferatio...|0.017648685484778454|\n",
      "|EFO_0000595|   europepmc|ENSG00000125618| 0.01823792392834863| [MONDO_0045024]|cell proliferatio...|  0.0265546561525172|\n",
      "|EFO_0000595|   europepmc|ENSG00000135903| 0.03647584785669726| [MONDO_0045024]|cell proliferatio...|0.053607264650065045|\n",
      "|EFO_0000595|   europepmc|ENSG00000171791|0.030396539880581056| [MONDO_0045024]|cell proliferatio...|0.044533247676932175|\n",
      "|EFO_0000595|   europepmc|ENSG00000175084|0.012158615952232422| [MONDO_0045024]|cell proliferatio...|0.017648685484778454|\n",
      "+-----------+------------+---------------+--------------------+----------------+--------------------+--------------------+\n",
      "only showing top 5 rows\n",
      "\n"
     ]
    }
   ],
   "source": [
    "ind_assocs = (\n",
    "    ind_assocs.join(spark.createDataFrame(ind_diseases_pdf[['diseaseId', 'therapeuticCategory']]), on='diseaseId', how='left')\n",
    "    .withColumn('log2score', -F.log2(1 - F.col('score')))\n",
    ")\n",
    "\n",
    "ind_assocs.show(5)"
   ]
  },
  {
   "cell_type": "code",
   "execution_count": null,
   "metadata": {},
   "outputs": [],
   "source": [
    "'''fig8 = px.scatter(\n",
    "    ind_assocs_pdf,\n",
    "    x='therapeuticCategory', y='log2score',\n",
    "    title='PheWAS',\n",
    ")\n",
    "\n",
    "fig8.show()'''\n",
    "\n",
    "# Plotly Express is not able to handle millions of data points"
   ]
  },
  {
   "cell_type": "code",
   "execution_count": null,
   "metadata": {},
   "outputs": [],
   "source": [
    "# I'll try with Datashader - not ideal / only numerical variables are allowed\n",
    "\n",
    "'''import holoviews as hv\n",
    "import datashader as ds\n",
    "\n",
    "hv.extension('bokeh')\n",
    "\n",
    "agg = ds.Canvas().points(ind_assocs_pdf.head(1000),'therapeuticCategory','log2score')\n",
    "'''\n"
   ]
  },
  {
   "cell_type": "code",
   "execution_count": 50,
   "metadata": {},
   "outputs": [],
   "source": [
    "import plotly.offline as pyo\n",
    "\n",
    "# I want to color the points per data source. \n",
    "# That is not implemented by default in Scattergl, so I have to add the traces manually per source\n",
    "groups = ind_assocs_pdf.datasourceId.unique()\n",
    "\n",
    "# Create as many traces as different groups there are and save them in data list\n",
    "data = []\n",
    "for source in groups:\n",
    "    df_group = ind_assocs_pdf[ind_assocs_pdf['datasourceId'] == source]\n",
    "    if source != 'gene_burden':\n",
    "        trace = go.Scattergl(x=df_group['therapeuticCategory'], \n",
    "                            y=df_group['log2score'],\n",
    "                            mode='markers',\n",
    "                            name=source,\n",
    "                            customdata=df_group['targetId'],\n",
    "                            hovertemplate = \"Target: %{customdata} <br>-log2 score: %{y} </br> Therapeutic area:%{x}\",\n",
    "                            visible='legendonly')\n",
    "    else:\n",
    "        trace = go.Scattergl(x=df_group['therapeuticCategory'], \n",
    "                    y=df_group['log2score'],\n",
    "                    mode='markers',\n",
    "                    name=source,\n",
    "                    customdata=df_group['targetId'],\n",
    "                    hovertemplate = \"Target: %{customdata} <br>-log2 score: %{y} </br> Therapeutic area:%{x}\",\n",
    "                )\n",
    "    data.append(trace)\n",
    "\n",
    "# Layout of the plot\n",
    "layout = go.Layout(\n",
    "    title='PheWAS <br><sup>Strength of association map (sample of 7 000 associations)</sup>',\n",
    "    xaxis={'title': 'Therapeutic areas'},\n",
    "    yaxis={'title': '-log2 score'},\n",
    ")\n",
    "fig8 = go.Figure(data=data, layout=layout)\n",
    "\n",
    "#pyo.plot(fig8)\n",
    "#py.plot(fig8, filename = 'phewas', auto_open=True) \n",
    "\n",
    "#fig8.show()"
   ]
  },
  {
   "cell_type": "markdown",
   "metadata": {},
   "source": [
    "### A less noisy way of displaying distribution of associations\n",
    "\n",
    "Stacked bar chart per therapeutic area with 3 groups:\n",
    "-  number of associations in OTP (unselected by default)\n",
    "-  number of associations in both\n",
    "-  number of new associations from gene burden"
   ]
  },
  {
   "cell_type": "code",
   "execution_count": 84,
   "metadata": {},
   "outputs": [
    {
     "data": {
      "text/html": [
       "<div>\n",
       "<style scoped>\n",
       "    .dataframe tbody tr th:only-of-type {\n",
       "        vertical-align: middle;\n",
       "    }\n",
       "\n",
       "    .dataframe tbody tr th {\n",
       "        vertical-align: top;\n",
       "    }\n",
       "\n",
       "    .dataframe thead th {\n",
       "        text-align: right;\n",
       "    }\n",
       "</style>\n",
       "<table border=\"1\" class=\"dataframe\">\n",
       "  <thead>\n",
       "    <tr style=\"text-align: right;\">\n",
       "      <th></th>\n",
       "      <th>therapeuticCategory</th>\n",
       "      <th>count</th>\n",
       "      <th>metric</th>\n",
       "    </tr>\n",
       "  </thead>\n",
       "  <tbody>\n",
       "    <tr>\n",
       "      <th>0</th>\n",
       "      <td>infectious disease</td>\n",
       "      <td>204619</td>\n",
       "      <td>Associations in OT Platform</td>\n",
       "    </tr>\n",
       "    <tr>\n",
       "      <th>1</th>\n",
       "      <td>urinary system disease</td>\n",
       "      <td>120908</td>\n",
       "      <td>Associations in OT Platform</td>\n",
       "    </tr>\n",
       "    <tr>\n",
       "      <th>2</th>\n",
       "      <td>reproductive system or breast disease</td>\n",
       "      <td>245595</td>\n",
       "      <td>Associations in OT Platform</td>\n",
       "    </tr>\n",
       "    <tr>\n",
       "      <th>3</th>\n",
       "      <td>infectious disease or post-infectious disorder</td>\n",
       "      <td>20305</td>\n",
       "      <td>Associations in OT Platform</td>\n",
       "    </tr>\n",
       "    <tr>\n",
       "      <th>4</th>\n",
       "      <td>injury, poisoning or other complication</td>\n",
       "      <td>11673</td>\n",
       "      <td>Associations in OT Platform</td>\n",
       "    </tr>\n",
       "  </tbody>\n",
       "</table>\n",
       "</div>"
      ],
      "text/plain": [
       "                              therapeuticCategory   count  \\\n",
       "0                              infectious disease  204619   \n",
       "1                          urinary system disease  120908   \n",
       "2           reproductive system or breast disease  245595   \n",
       "3  infectious disease or post-infectious disorder   20305   \n",
       "4         injury, poisoning or other complication   11673   \n",
       "\n",
       "                        metric  \n",
       "0  Associations in OT Platform  \n",
       "1  Associations in OT Platform  \n",
       "2  Associations in OT Platform  \n",
       "3  Associations in OT Platform  \n",
       "4  Associations in OT Platform  "
      ]
     },
     "execution_count": 84,
     "metadata": {},
     "output_type": "execute_result"
    }
   ],
   "source": [
    "total_assocs_df = (\n",
    "    ind_assocs.filter(F.col('datasourceId') != 'gene_burden')\n",
    "    .select(F.concat_ws(\"|\", \"targetId\", \"diseaseId\").alias(\"assoc\"), \"therapeuticCategory\")\n",
    "    .distinct()\n",
    "    .groupBy(\"therapeuticCategory\").count()\n",
    "    .withColumn(\"metric\", F.lit(\"Associations in OT Platform\"))\n",
    "    .toPandas()\n",
    ")\n",
    "\n",
    "\n",
    "total_assocs_df.head(5)\n"
   ]
  },
  {
   "cell_type": "code",
   "execution_count": 86,
   "metadata": {},
   "outputs": [
    {
     "data": {
      "text/html": [
       "<div>\n",
       "<style scoped>\n",
       "    .dataframe tbody tr th:only-of-type {\n",
       "        vertical-align: middle;\n",
       "    }\n",
       "\n",
       "    .dataframe tbody tr th {\n",
       "        vertical-align: top;\n",
       "    }\n",
       "\n",
       "    .dataframe thead th {\n",
       "        text-align: right;\n",
       "    }\n",
       "</style>\n",
       "<table border=\"1\" class=\"dataframe\">\n",
       "  <thead>\n",
       "    <tr style=\"text-align: right;\">\n",
       "      <th></th>\n",
       "      <th>therapeuticCategory</th>\n",
       "      <th>count</th>\n",
       "      <th>metric</th>\n",
       "    </tr>\n",
       "  </thead>\n",
       "  <tbody>\n",
       "    <tr>\n",
       "      <th>0</th>\n",
       "      <td>infectious disease</td>\n",
       "      <td>21</td>\n",
       "      <td>Novel gene burden associations</td>\n",
       "    </tr>\n",
       "    <tr>\n",
       "      <th>1</th>\n",
       "      <td>urinary system disease</td>\n",
       "      <td>23</td>\n",
       "      <td>Novel gene burden associations</td>\n",
       "    </tr>\n",
       "    <tr>\n",
       "      <th>2</th>\n",
       "      <td>reproductive system or breast disease</td>\n",
       "      <td>22</td>\n",
       "      <td>Novel gene burden associations</td>\n",
       "    </tr>\n",
       "    <tr>\n",
       "      <th>3</th>\n",
       "      <td>injury, poisoning or other complication</td>\n",
       "      <td>12</td>\n",
       "      <td>Novel gene burden associations</td>\n",
       "    </tr>\n",
       "    <tr>\n",
       "      <th>4</th>\n",
       "      <td>cardiovascular disease</td>\n",
       "      <td>100</td>\n",
       "      <td>Novel gene burden associations</td>\n",
       "    </tr>\n",
       "  </tbody>\n",
       "</table>\n",
       "</div>"
      ],
      "text/plain": [
       "                       therapeuticCategory  count  \\\n",
       "0                       infectious disease     21   \n",
       "1                   urinary system disease     23   \n",
       "2    reproductive system or breast disease     22   \n",
       "3  injury, poisoning or other complication     12   \n",
       "4                   cardiovascular disease    100   \n",
       "\n",
       "                           metric  \n",
       "0  Novel gene burden associations  \n",
       "1  Novel gene burden associations  \n",
       "2  Novel gene burden associations  \n",
       "3  Novel gene burden associations  \n",
       "4  Novel gene burden associations  "
      ]
     },
     "execution_count": 86,
     "metadata": {},
     "output_type": "execute_result"
    }
   ],
   "source": [
    "new_burden_assocs_df = (\n",
    "    ind_assocs.filter(F.col('datasourceId') == 'gene_burden')\n",
    "    .select(F.concat_ws(\"|\", \"targetId\", \"diseaseId\").alias(\"assoc\"), \"therapeuticCategory\")\n",
    "    .distinct()\n",
    "    .join(\n",
    "        (\n",
    "            ind_assocs.filter(F.col('datasourceId') != 'gene_burden')\n",
    "            .select(F.concat_ws(\"|\", \"targetId\", \"diseaseId\").alias(\"assoc\")).distinct()\n",
    "        ),\n",
    "        on='assoc',\n",
    "        how='left_anti'\n",
    "    ).distinct()\n",
    "    .groupBy(\"therapeuticCategory\").count()\n",
    "    .withColumn(\"metric\", F.lit(\"Novel gene burden associations\"))\n",
    "    .toPandas()\n",
    ")\n",
    "\n",
    "\n",
    "new_burden_assocs_df.head()\n"
   ]
  },
  {
   "cell_type": "code",
   "execution_count": 87,
   "metadata": {},
   "outputs": [
    {
     "data": {
      "text/html": [
       "<div>\n",
       "<style scoped>\n",
       "    .dataframe tbody tr th:only-of-type {\n",
       "        vertical-align: middle;\n",
       "    }\n",
       "\n",
       "    .dataframe tbody tr th {\n",
       "        vertical-align: top;\n",
       "    }\n",
       "\n",
       "    .dataframe thead th {\n",
       "        text-align: right;\n",
       "    }\n",
       "</style>\n",
       "<table border=\"1\" class=\"dataframe\">\n",
       "  <thead>\n",
       "    <tr style=\"text-align: right;\">\n",
       "      <th></th>\n",
       "      <th>therapeuticCategory</th>\n",
       "      <th>count</th>\n",
       "      <th>metric</th>\n",
       "    </tr>\n",
       "  </thead>\n",
       "  <tbody>\n",
       "    <tr>\n",
       "      <th>0</th>\n",
       "      <td>infectious disease</td>\n",
       "      <td>20</td>\n",
       "      <td>Overlapping associations</td>\n",
       "    </tr>\n",
       "    <tr>\n",
       "      <th>1</th>\n",
       "      <td>urinary system disease</td>\n",
       "      <td>59</td>\n",
       "      <td>Overlapping associations</td>\n",
       "    </tr>\n",
       "    <tr>\n",
       "      <th>2</th>\n",
       "      <td>reproductive system or breast disease</td>\n",
       "      <td>59</td>\n",
       "      <td>Overlapping associations</td>\n",
       "    </tr>\n",
       "    <tr>\n",
       "      <th>3</th>\n",
       "      <td>infectious disease or post-infectious disorder</td>\n",
       "      <td>11</td>\n",
       "      <td>Overlapping associations</td>\n",
       "    </tr>\n",
       "    <tr>\n",
       "      <th>4</th>\n",
       "      <td>cardiovascular disease</td>\n",
       "      <td>206</td>\n",
       "      <td>Overlapping associations</td>\n",
       "    </tr>\n",
       "  </tbody>\n",
       "</table>\n",
       "</div>"
      ],
      "text/plain": [
       "                              therapeuticCategory  count  \\\n",
       "0                              infectious disease     20   \n",
       "1                          urinary system disease     59   \n",
       "2           reproductive system or breast disease     59   \n",
       "3  infectious disease or post-infectious disorder     11   \n",
       "4                          cardiovascular disease    206   \n",
       "\n",
       "                     metric  \n",
       "0  Overlapping associations  \n",
       "1  Overlapping associations  \n",
       "2  Overlapping associations  \n",
       "3  Overlapping associations  \n",
       "4  Overlapping associations  "
      ]
     },
     "execution_count": 87,
     "metadata": {},
     "output_type": "execute_result"
    }
   ],
   "source": [
    "overlap_assocs_df = (\n",
    "    ind_assocs.filter(F.col('datasourceId') == 'gene_burden')\n",
    "    .select(F.concat_ws(\"|\", \"targetId\", \"diseaseId\").alias(\"assoc\"), \"therapeuticCategory\")\n",
    "    .distinct()\n",
    "    .join(\n",
    "        (\n",
    "            ind_assocs.filter(F.col('datasourceId') != 'gene_burden')\n",
    "            .select(F.concat_ws(\"|\", \"targetId\", \"diseaseId\").alias(\"assoc\")).distinct()\n",
    "        ),\n",
    "        on='assoc',\n",
    "        how='inner'\n",
    "    ).distinct()\n",
    "    .groupBy(\"therapeuticCategory\").count()\n",
    "    .withColumn(\"metric\", F.lit(\"Overlapping associations\"))\n",
    "    .toPandas()\n",
    ")\n",
    "\n",
    "\n",
    "overlap_assocs_df.head(5)\n"
   ]
  },
  {
   "cell_type": "code",
   "execution_count": 88,
   "metadata": {},
   "outputs": [
    {
     "data": {
      "text/html": [
       "<div>\n",
       "<style scoped>\n",
       "    .dataframe tbody tr th:only-of-type {\n",
       "        vertical-align: middle;\n",
       "    }\n",
       "\n",
       "    .dataframe tbody tr th {\n",
       "        vertical-align: top;\n",
       "    }\n",
       "\n",
       "    .dataframe thead th {\n",
       "        text-align: right;\n",
       "    }\n",
       "</style>\n",
       "<table border=\"1\" class=\"dataframe\">\n",
       "  <thead>\n",
       "    <tr style=\"text-align: right;\">\n",
       "      <th></th>\n",
       "      <th>index</th>\n",
       "      <th>therapeuticCategory</th>\n",
       "      <th>count</th>\n",
       "      <th>metric</th>\n",
       "    </tr>\n",
       "  </thead>\n",
       "  <tbody>\n",
       "    <tr>\n",
       "      <th>0</th>\n",
       "      <td>0</td>\n",
       "      <td>infectious disease</td>\n",
       "      <td>204619</td>\n",
       "      <td>Associations in OT Platform</td>\n",
       "    </tr>\n",
       "    <tr>\n",
       "      <th>1</th>\n",
       "      <td>1</td>\n",
       "      <td>urinary system disease</td>\n",
       "      <td>120908</td>\n",
       "      <td>Associations in OT Platform</td>\n",
       "    </tr>\n",
       "    <tr>\n",
       "      <th>2</th>\n",
       "      <td>2</td>\n",
       "      <td>reproductive system or breast disease</td>\n",
       "      <td>245595</td>\n",
       "      <td>Associations in OT Platform</td>\n",
       "    </tr>\n",
       "    <tr>\n",
       "      <th>3</th>\n",
       "      <td>3</td>\n",
       "      <td>infectious disease or post-infectious disorder</td>\n",
       "      <td>20305</td>\n",
       "      <td>Associations in OT Platform</td>\n",
       "    </tr>\n",
       "    <tr>\n",
       "      <th>4</th>\n",
       "      <td>4</td>\n",
       "      <td>injury, poisoning or other complication</td>\n",
       "      <td>11673</td>\n",
       "      <td>Associations in OT Platform</td>\n",
       "    </tr>\n",
       "    <tr>\n",
       "      <th>5</th>\n",
       "      <td>5</td>\n",
       "      <td>cardiovascular disease</td>\n",
       "      <td>295213</td>\n",
       "      <td>Associations in OT Platform</td>\n",
       "    </tr>\n",
       "    <tr>\n",
       "      <th>6</th>\n",
       "      <td>6</td>\n",
       "      <td>respiratory or thoracic disease</td>\n",
       "      <td>129779</td>\n",
       "      <td>Associations in OT Platform</td>\n",
       "    </tr>\n",
       "    <tr>\n",
       "      <th>7</th>\n",
       "      <td>7</td>\n",
       "      <td>measurement</td>\n",
       "      <td>541725</td>\n",
       "      <td>Associations in OT Platform</td>\n",
       "    </tr>\n",
       "    <tr>\n",
       "      <th>8</th>\n",
       "      <td>8</td>\n",
       "      <td>disease of visual system</td>\n",
       "      <td>314328</td>\n",
       "      <td>Associations in OT Platform</td>\n",
       "    </tr>\n",
       "    <tr>\n",
       "      <th>9</th>\n",
       "      <td>9</td>\n",
       "      <td>genetic, familial or congenital disease</td>\n",
       "      <td>372516</td>\n",
       "      <td>Associations in OT Platform</td>\n",
       "    </tr>\n",
       "  </tbody>\n",
       "</table>\n",
       "</div>"
      ],
      "text/plain": [
       "   index                             therapeuticCategory   count  \\\n",
       "0      0                              infectious disease  204619   \n",
       "1      1                          urinary system disease  120908   \n",
       "2      2           reproductive system or breast disease  245595   \n",
       "3      3  infectious disease or post-infectious disorder   20305   \n",
       "4      4         injury, poisoning or other complication   11673   \n",
       "5      5                          cardiovascular disease  295213   \n",
       "6      6                 respiratory or thoracic disease  129779   \n",
       "7      7                                     measurement  541725   \n",
       "8      8                        disease of visual system  314328   \n",
       "9      9         genetic, familial or congenital disease  372516   \n",
       "\n",
       "                        metric  \n",
       "0  Associations in OT Platform  \n",
       "1  Associations in OT Platform  \n",
       "2  Associations in OT Platform  \n",
       "3  Associations in OT Platform  \n",
       "4  Associations in OT Platform  \n",
       "5  Associations in OT Platform  \n",
       "6  Associations in OT Platform  \n",
       "7  Associations in OT Platform  \n",
       "8  Associations in OT Platform  \n",
       "9  Associations in OT Platform  "
      ]
     },
     "execution_count": 88,
     "metadata": {},
     "output_type": "execute_result"
    }
   ],
   "source": [
    "stacked_df = pd.concat([total_assocs_df, new_burden_assocs_df, overlap_assocs_df], axis=0).drop_duplicates().reset_index()\n",
    "\n",
    "stacked_df.head(10)"
   ]
  },
  {
   "cell_type": "code",
   "execution_count": 89,
   "metadata": {},
   "outputs": [
    {
     "data": {
      "text/plain": [
       "Associations in OT Platform       27\n",
       "Novel gene burden associations    26\n",
       "Overlapping associations          26\n",
       "Name: metric, dtype: int64"
      ]
     },
     "execution_count": 89,
     "metadata": {},
     "output_type": "execute_result"
    }
   ],
   "source": [
    "stacked_df.metric.value_counts()"
   ]
  },
  {
   "cell_type": "code",
   "execution_count": 100,
   "metadata": {},
   "outputs": [
    {
     "data": {
      "text/plain": [
       "'fig9 = px.bar(\\n    stacked_df, x=\\'count\\', y=\\'therapeuticCategory\\', color=\\'metric\\', orientation=\\'h\\',\\n    title=\\'Association count per therapeutic area\\', height=600,\\n)\\n#fig9.update_layout(title_text=\"Associations overlap between gene burden and other sources\", showlegend=False, height=600)\\n\\nfig9.show()'"
      ]
     },
     "execution_count": 100,
     "metadata": {},
     "output_type": "execute_result"
    }
   ],
   "source": [
    "'''fig9 = px.bar(\n",
    "    stacked_df, x='count', y='therapeuticCategory', color='metric', orientation='h',\n",
    "    title='Association count per therapeutic area', height=600,\n",
    ")\n",
    "#fig9.update_layout(title_text=\"Associations overlap between gene burden and other sources\", showlegend=False, height=600)\n",
    "\n",
    "fig9.show()''')"
   ]
  },
  {
   "cell_type": "code",
   "execution_count": 90,
   "metadata": {},
   "outputs": [
    {
     "ename": "ValueError",
     "evalue": "Mime type rendering requires nbformat>=4.2.0 but it is not installed",
     "output_type": "error",
     "traceback": [
      "\u001b[0;31m---------------------------------------------------------------------------\u001b[0m",
      "\u001b[0;31mValueError\u001b[0m                                Traceback (most recent call last)",
      "Cell \u001b[0;32mIn [90], line 44\u001b[0m\n\u001b[1;32m     41\u001b[0m \u001b[39m#pyo.plot(fig9)\u001b[39;00m\n\u001b[1;32m     42\u001b[0m py\u001b[39m.\u001b[39mplot(fig9, filename \u001b[39m=\u001b[39m \u001b[39m'\u001b[39m\u001b[39mta_distribution\u001b[39m\u001b[39m'\u001b[39m, auto_open\u001b[39m=\u001b[39m\u001b[39mTrue\u001b[39;00m)\n\u001b[0;32m---> 44\u001b[0m fig9\u001b[39m.\u001b[39;49mshow()\n",
      "File \u001b[0;32m~/.pyenv/versions/3.8.13/lib/python3.8/site-packages/plotly/basedatatypes.py:3398\u001b[0m, in \u001b[0;36mBaseFigure.show\u001b[0;34m(self, *args, **kwargs)\u001b[0m\n\u001b[1;32m   3365\u001b[0m \u001b[39m\"\"\"\u001b[39;00m\n\u001b[1;32m   3366\u001b[0m \u001b[39mShow a figure using either the default renderer(s) or the renderer(s)\u001b[39;00m\n\u001b[1;32m   3367\u001b[0m \u001b[39mspecified by the renderer argument\u001b[39;00m\n\u001b[0;32m   (...)\u001b[0m\n\u001b[1;32m   3394\u001b[0m \u001b[39mNone\u001b[39;00m\n\u001b[1;32m   3395\u001b[0m \u001b[39m\"\"\"\u001b[39;00m\n\u001b[1;32m   3396\u001b[0m \u001b[39mimport\u001b[39;00m \u001b[39mplotly\u001b[39;00m\u001b[39m.\u001b[39;00m\u001b[39mio\u001b[39;00m \u001b[39mas\u001b[39;00m \u001b[39mpio\u001b[39;00m\n\u001b[0;32m-> 3398\u001b[0m \u001b[39mreturn\u001b[39;00m pio\u001b[39m.\u001b[39;49mshow(\u001b[39mself\u001b[39;49m, \u001b[39m*\u001b[39;49margs, \u001b[39m*\u001b[39;49m\u001b[39m*\u001b[39;49mkwargs)\n",
      "File \u001b[0;32m~/.pyenv/versions/3.8.13/lib/python3.8/site-packages/plotly/io/_renderers.py:396\u001b[0m, in \u001b[0;36mshow\u001b[0;34m(fig, renderer, validate, **kwargs)\u001b[0m\n\u001b[1;32m    391\u001b[0m         \u001b[39mraise\u001b[39;00m \u001b[39mValueError\u001b[39;00m(\n\u001b[1;32m    392\u001b[0m             \u001b[39m\"\u001b[39m\u001b[39mMime type rendering requires ipython but it is not installed\u001b[39m\u001b[39m\"\u001b[39m\n\u001b[1;32m    393\u001b[0m         )\n\u001b[1;32m    395\u001b[0m     \u001b[39mif\u001b[39;00m \u001b[39mnot\u001b[39;00m nbformat \u001b[39mor\u001b[39;00m LooseVersion(nbformat\u001b[39m.\u001b[39m__version__) \u001b[39m<\u001b[39m LooseVersion(\u001b[39m\"\u001b[39m\u001b[39m4.2.0\u001b[39m\u001b[39m\"\u001b[39m):\n\u001b[0;32m--> 396\u001b[0m         \u001b[39mraise\u001b[39;00m \u001b[39mValueError\u001b[39;00m(\n\u001b[1;32m    397\u001b[0m             \u001b[39m\"\u001b[39m\u001b[39mMime type rendering requires nbformat>=4.2.0 but it is not installed\u001b[39m\u001b[39m\"\u001b[39m\n\u001b[1;32m    398\u001b[0m         )\n\u001b[1;32m    400\u001b[0m     ipython_display\u001b[39m.\u001b[39mdisplay(bundle, raw\u001b[39m=\u001b[39m\u001b[39mTrue\u001b[39;00m)\n\u001b[1;32m    402\u001b[0m \u001b[39m# external renderers\u001b[39;00m\n",
      "\u001b[0;31mValueError\u001b[0m: Mime type rendering requires nbformat>=4.2.0 but it is not installed"
     ]
    }
   ],
   "source": [
    "# I want to unselect the total count of OTP by default, so I have to add the traces manually per type of metric\n",
    "groups = ['Associations in OT Platform', 'Overlapping associations', 'Novel gene burden associations']\n",
    "\n",
    "# Create as many traces as different groups there are and save them in data list\n",
    "data = []\n",
    "for metric in groups:\n",
    "    df_group = stacked_df[stacked_df['metric'] == metric]\n",
    "    if metric == 'Associations in OT Platform':\n",
    "        trace = go.Bar(x=df_group['count'], \n",
    "                            y=df_group['therapeuticCategory'],\n",
    "                            name=metric,\n",
    "                            orientation='h',\n",
    "                            visible='legendonly')\n",
    "    else:\n",
    "        trace = go.Bar(x=df_group['count'], \n",
    "                            y=df_group['therapeuticCategory'],\n",
    "                            name=metric,\n",
    "                            orientation='h',\n",
    "                )\n",
    "    data.append(trace)\n",
    "\n",
    "# Layout of the plot\n",
    "layout = go.Layout(\n",
    "    title='Novel associations from gene burden analysis',\n",
    "    xaxis={'title': 'Number of gene (or target)-trait associations'},\n",
    "    yaxis={'title': 'Therapeutic areas'},\n",
    "    legend=dict(\n",
    "        orientation=\"h\",\n",
    "        yanchor=\"bottom\",\n",
    "        y=1.02,\n",
    "        xanchor=\"right\",\n",
    "        x=1\n",
    "        ),\n",
    "    barmode='stack'\n",
    ")\n",
    "\n",
    "fig9 = go.Figure(data=data, layout=layout)\n",
    "\n",
    "\n",
    "\n",
    "#pyo.plot(fig9)\n",
    "py.plot(fig9, filename = 'ta_distribution', auto_open=True)\n",
    "\n",
    "fig9.show()"
   ]
  },
  {
   "cell_type": "markdown",
   "metadata": {},
   "source": [
    "### Less noise: distribution of overlap and novelty considering only **non genetic sources**\n",
    "\n",
    "- Build the same plot as above but with a different set of associations:\n",
    "  1. Build associations set with datatype and source\n",
    "  2. Remove genetic associations unless they're coming from gene_burden\n",
    "  3. Repeat steps as section below"
   ]
  },
  {
   "cell_type": "code",
   "execution_count": 125,
   "metadata": {},
   "outputs": [],
   "source": [
    "assocs_by_datatype = (\n",
    "    pd.read_parquet('/Users/irene/Documents/dev/pyspark/22.04.4/associationByDatatypeIndirect')\n",
    "    .filter(items=['diseaseId', 'targetId', 'datatypeId'])\n",
    ")"
   ]
  },
  {
   "cell_type": "code",
   "execution_count": 128,
   "metadata": {},
   "outputs": [
    {
     "data": {
      "text/html": [
       "<div>\n",
       "<style scoped>\n",
       "    .dataframe tbody tr th:only-of-type {\n",
       "        vertical-align: middle;\n",
       "    }\n",
       "\n",
       "    .dataframe tbody tr th {\n",
       "        vertical-align: top;\n",
       "    }\n",
       "\n",
       "    .dataframe thead th {\n",
       "        text-align: right;\n",
       "    }\n",
       "</style>\n",
       "<table border=\"1\" class=\"dataframe\">\n",
       "  <thead>\n",
       "    <tr style=\"text-align: right;\">\n",
       "      <th></th>\n",
       "      <th>diseaseId</th>\n",
       "      <th>datasourceId</th>\n",
       "      <th>targetId</th>\n",
       "      <th>score</th>\n",
       "      <th>therapeuticAreas</th>\n",
       "      <th>therapeuticCategory</th>\n",
       "      <th>log2score</th>\n",
       "      <th>datatypeId</th>\n",
       "    </tr>\n",
       "  </thead>\n",
       "  <tbody>\n",
       "    <tr>\n",
       "      <th>0</th>\n",
       "      <td>OTAR_0000014</td>\n",
       "      <td>eva_somatic</td>\n",
       "      <td>ENSG00000008086</td>\n",
       "      <td>0.577534</td>\n",
       "      <td>[OTAR_0000014]</td>\n",
       "      <td>pregnancy or perinatal disease</td>\n",
       "      <td>0.792022</td>\n",
       "      <td>animal_model</td>\n",
       "    </tr>\n",
       "    <tr>\n",
       "      <th>1</th>\n",
       "      <td>OTAR_0000014</td>\n",
       "      <td>eva_somatic</td>\n",
       "      <td>ENSG00000008086</td>\n",
       "      <td>0.577534</td>\n",
       "      <td>[OTAR_0000014]</td>\n",
       "      <td>pregnancy or perinatal disease</td>\n",
       "      <td>0.792022</td>\n",
       "      <td>genetic_association</td>\n",
       "    </tr>\n",
       "    <tr>\n",
       "      <th>2</th>\n",
       "      <td>OTAR_0000014</td>\n",
       "      <td>eva_somatic</td>\n",
       "      <td>ENSG00000008086</td>\n",
       "      <td>0.577534</td>\n",
       "      <td>[OTAR_0000014]</td>\n",
       "      <td>pregnancy or perinatal disease</td>\n",
       "      <td>0.792022</td>\n",
       "      <td>literature</td>\n",
       "    </tr>\n",
       "    <tr>\n",
       "      <th>3</th>\n",
       "      <td>OTAR_0000014</td>\n",
       "      <td>eva_somatic</td>\n",
       "      <td>ENSG00000008086</td>\n",
       "      <td>0.577534</td>\n",
       "      <td>[OTAR_0000014]</td>\n",
       "      <td>pregnancy or perinatal disease</td>\n",
       "      <td>0.792022</td>\n",
       "      <td>somatic_mutation</td>\n",
       "    </tr>\n",
       "    <tr>\n",
       "      <th>4</th>\n",
       "      <td>OTAR_0000014</td>\n",
       "      <td>genomics_england</td>\n",
       "      <td>ENSG00000008086</td>\n",
       "      <td>0.827461</td>\n",
       "      <td>[OTAR_0000014]</td>\n",
       "      <td>pregnancy or perinatal disease</td>\n",
       "      <td>0.273236</td>\n",
       "      <td>animal_model</td>\n",
       "    </tr>\n",
       "  </tbody>\n",
       "</table>\n",
       "</div>"
      ],
      "text/plain": [
       "      diseaseId      datasourceId         targetId     score therapeuticAreas  \\\n",
       "0  OTAR_0000014       eva_somatic  ENSG00000008086  0.577534   [OTAR_0000014]   \n",
       "1  OTAR_0000014       eva_somatic  ENSG00000008086  0.577534   [OTAR_0000014]   \n",
       "2  OTAR_0000014       eva_somatic  ENSG00000008086  0.577534   [OTAR_0000014]   \n",
       "3  OTAR_0000014       eva_somatic  ENSG00000008086  0.577534   [OTAR_0000014]   \n",
       "4  OTAR_0000014  genomics_england  ENSG00000008086  0.827461   [OTAR_0000014]   \n",
       "\n",
       "              therapeuticCategory  log2score           datatypeId  \n",
       "0  pregnancy or perinatal disease   0.792022         animal_model  \n",
       "1  pregnancy or perinatal disease   0.792022  genetic_association  \n",
       "2  pregnancy or perinatal disease   0.792022           literature  \n",
       "3  pregnancy or perinatal disease   0.792022     somatic_mutation  \n",
       "4  pregnancy or perinatal disease   0.273236         animal_model  "
      ]
     },
     "execution_count": 128,
     "metadata": {},
     "output_type": "execute_result"
    }
   ],
   "source": [
    "ind_assocs_pdf = (\n",
    "    ind_assocs_pdf\n",
    "    .merge(assocs_by_datatype, on=['diseaseId', 'targetId'], how='inner')\n",
    ")\n",
    "\n",
    "ind_assocs_pdf.head(5)"
   ]
  },
  {
   "cell_type": "code",
   "execution_count": null,
   "metadata": {},
   "outputs": [],
   "source": [
    "non_genetic_total_assocs_df = (\n",
    "    ind_assocs_pdf.query('datatypeId != \"genetic_association\"')\n",
    "    .assign(assoc=lambda x: f'{x.targetId}|{x.diseaseId}')\n",
    "    .groupby('therapeuticCategory')\n",
    "    .agg(count=('assoc', 'count'))\n",
    "    .assign(metric='Associations in OT Platform')\n",
    ")\n",
    "\n",
    "\n",
    "non_genetic_total_assocs_df.head(5)\n"
   ]
  }
 ],
 "metadata": {
  "kernelspec": {
   "display_name": "Python 3.8.13 64-bit ('3.8.13')",
   "language": "python",
   "name": "python3"
  },
  "language_info": {
   "codemirror_mode": {
    "name": "ipython",
    "version": 3
   },
   "file_extension": ".py",
   "mimetype": "text/x-python",
   "name": "python",
   "nbconvert_exporter": "python",
   "pygments_lexer": "ipython3",
   "version": "3.8.13"
  },
  "orig_nbformat": 4,
  "vscode": {
   "interpreter": {
    "hash": "2190a2f637e2a87988e11b17702e03d98d1627c436fe80462069a819403d5500"
   }
  }
 },
 "nbformat": 4,
 "nbformat_minor": 2
}
